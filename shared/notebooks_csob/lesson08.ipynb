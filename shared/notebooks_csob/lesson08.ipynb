{
 "cells": [
  {
   "cell_type": "markdown",
   "metadata": {},
   "source": [
    "## Úvod\n",
    "\n",
    "---\n",
    "\n",
    "1. [Vstupy uživatelských funkcí](#Vstupy-funkcí),\n",
    "2. [rámce](#Rámce),\n",
    "3. [funkce jako objekt](#Funkce-jako-objekt),\n",
    "4. [domácí úkol](#Domácí-úkol).\n",
    "\n",
    "---"
   ]
  },
  {
   "cell_type": "markdown",
   "metadata": {},
   "source": [
    "<br>\n",
    "\n",
    "<img src=\"https://external-content.duckduckgo.com/iu/?u=https%3A%2F%2Ftse1.mm.bing.net%2Fth%3Fid%3DOIP.qpcc6K7Yys3TFhifE4tuywHaHa%26pid%3DApi&f=1&ipt=b330b6e19fba2fceb06c29cb1f32b58d348ccefa9c27b39dedc996951b8c0588&ipo=images\" width=\"220\">"
   ]
  },
  {
   "cell_type": "markdown",
   "metadata": {},
   "source": [
    "## Vstupy funkcí\n",
    "\n",
    "---"
   ]
  },
  {
   "cell_type": "markdown",
   "metadata": {},
   "source": [
    "*Vstupem* pro uživatelskou funkci obecně můžeš rozumět:\n",
    "1. **Parametry**, sloužící jako obecné proměnné při definici,\n",
    "2. **argumenty**, tedy konkrétní hodnoty, které vkládáš při spouštění."
   ]
  },
  {
   "cell_type": "code",
   "execution_count": 37,
   "metadata": {},
   "outputs": [],
   "source": [
    "def ziskej_zpravu_z_logu(zaznam: str) -> list:\n",
    "    \"\"\"\n",
    "    Vrať zprávu ze zadaného logu.\n",
    "\n",
    "    :Example:\n",
    "    >>> m1 = \"2006-02-08 22:20:02,165: 192.168.0.1\" \\\n",
    "    \": fbloggs: Protocol problem: connection reset\"\n",
    "    >>> print(ziskej_zpravu_z_logu(m1))\n",
    "    [' Protocol problem', ' connection reset']\n",
    "    \"\"\"\n",
    "    return zaznam.split(\":\")[-2:]"
   ]
  },
  {
   "cell_type": "code",
   "execution_count": 38,
   "metadata": {},
   "outputs": [
    {
     "name": "stdout",
     "output_type": "stream",
     "text": [
      "[' Protocol problem', ' connection reset']\n"
     ]
    }
   ],
   "source": [
    "print(ziskej_zpravu_z_logu(\n",
    "        \"2006-02-08 22:20:02,165: 192.168.0.1:\"\n",
    "        \" fbloggs: Protocol problem: connection reset\"\n",
    "    )\n",
    ")"
   ]
  },
  {
   "cell_type": "markdown",
   "metadata": {},
   "source": [
    "<br>\n",
    "\n",
    "Vstupy do funkcí ale nemusíš skládat pouze pořadí.\n",
    "\n",
    "Existuje dokonce několik vzorů, které můžeš vyzkoušet."
   ]
  },
  {
   "cell_type": "markdown",
   "metadata": {},
   "source": [
    "<br>\n",
    "\n",
    "Důvod je prostý, každá *uživatelská funkce* je trochu jiná.\n",
    "\n",
    "Proto existuje tento seznam různých vzorů:\n",
    "* **poziční parametry** (argumenty),\n",
    "* **klíčové argumenty**,\n",
    "* **defaultní parametry**,\n",
    "* **position-only** parametry,\n",
    "* **\\*args**,\n",
    "* **\\*\\*kwargs**."
   ]
  },
  {
   "cell_type": "markdown",
   "metadata": {},
   "source": [
    "### Poziční parametry\n",
    "\n",
    "---\n",
    "\n",
    "Ze jména je patrné, že v této variantě záleží na pozici (tedy pořadí), ve kterém parametry (i argumenty) zapíšeš:"
   ]
  },
  {
   "cell_type": "code",
   "execution_count": null,
   "metadata": {},
   "outputs": [],
   "source": [
    "def uloz_informace(jmeno, prijmeni, telefon):\n",
    "    return {\n",
    "        \"jmeno\": jmeno,\n",
    "        \"prijmeni\": prijmeni,\n",
    "        \"telefon\": telefon\n",
    "    }"
   ]
  },
  {
   "cell_type": "code",
   "execution_count": null,
   "metadata": {},
   "outputs": [],
   "source": [
    "print(uloz_informace(\"Matouš\", \"Holinka\", \"+420 777 666 555\"))"
   ]
  },
  {
   "cell_type": "code",
   "execution_count": null,
   "metadata": {},
   "outputs": [],
   "source": [
    "print(uloz_informace(\"Holinka\", \"Matouš\", \"+420 777 666 555\"))"
   ]
  },
  {
   "cell_type": "markdown",
   "metadata": {},
   "source": [
    "V ukázce vidíš, že parametry jsou uspořádané **za sebou**.\n",
    "\n",
    "Jednotlivé argumenty jsou potom zapsané **v odpovídajícím pořadí**:\n",
    "\n",
    "| Pozice | Parametr | Argument |\n",
    "| :-: | :-: | :-: |\n",
    "| 1 | jmeno | \"Matouš\" |\n",
    "| 2 | prijmeni | \"Holinka\" |\n",
    "| 3 | telefon | \"420 777 666 555\" |\n",
    "\n",
    "<br>\n",
    "\n",
    "Současně jde o jednu **z nejpoužívanějších a nejznámějších variant**.\n",
    "\n",
    "Takže pokud není komplikované pochopit, jaký *argument* patří do jakého *parametru*, budeš chtít zapsat vstupy touto formou."
   ]
  },
  {
   "cell_type": "markdown",
   "metadata": {},
   "source": [
    "### Klíčové argumenty\n",
    "\n",
    "---\n",
    "\n",
    "Zapisování *podle pozice* nemusí být ale vždy přehledné.\n",
    "\n",
    "Třeba pokud jsou všechny tři parametry **stejného datového typu** (`int`) a ještě jsou samotné **hodnoty podobné**:"
   ]
  },
  {
   "cell_type": "code",
   "execution_count": null,
   "metadata": {},
   "outputs": [],
   "source": [
    "def vypocitej_hodnotu(koef_1, koef_2, koef_3):\n",
    "    \"\"\"\n",
    "    Vrať výslednou hodnotu vypočítanou pomocí tři zadaných koeficientů.\n",
    "    \"\"\"\n",
    "    return (1 / koef_1) * (koef_2 ** koef_3)"
   ]
  },
  {
   "cell_type": "code",
   "execution_count": null,
   "metadata": {},
   "outputs": [],
   "source": [
    "print(vypocitej_hodnotu(1, 2, 4))"
   ]
  },
  {
   "cell_type": "markdown",
   "metadata": {},
   "source": [
    "V ukázce je definice funkce `vypocitej_hodnotu` s parametry, představující koeficienty rovnice.\n",
    "\n",
    "<br>\n",
    "\n",
    "Ve všech třech parametrech se počítá **s číselnou hodnotu**.\n",
    "\n",
    "Jejich umístění **ve vzorečku je zásadní**, jinak dostaneš odlišné výsledky.\n",
    "\n",
    "Právě v takovém případě je velice příhodné přiřadit jednotlivé hodnoty **explicitně k příslušným parametrům**:"
   ]
  },
  {
   "cell_type": "code",
   "execution_count": null,
   "metadata": {},
   "outputs": [],
   "source": [
    "def vypocitej_hodnotu(koef_1, koef_2, koef_3):\n",
    "    \"\"\"\n",
    "    Vrať výslednou hodnotu vypočítanou pomocí tři zadaných koeficientů.\n",
    "    \"\"\"\n",
    "    return (1 / koef_1) * (koef_2 ** koef_3)"
   ]
  },
  {
   "cell_type": "code",
   "execution_count": null,
   "metadata": {},
   "outputs": [],
   "source": [
    "print(vypocitej_hodnotu(koef_1=0.5, koef_2=3, koef_3=2))"
   ]
  },
  {
   "cell_type": "code",
   "execution_count": null,
   "metadata": {},
   "outputs": [],
   "source": [
    "print(vypocitej_hodnotu(koef_2=3, koef_1=0.5, koef_3=2))"
   ]
  },
  {
   "cell_type": "markdown",
   "metadata": {},
   "source": [
    "Nebo udělat spuštění funkce **ještě přehlednější** pomocí zápisu pod sebe:"
   ]
  },
  {
   "cell_type": "code",
   "execution_count": null,
   "metadata": {},
   "outputs": [],
   "source": [
    "print(\n",
    "    vypocitej_hodnotu(\n",
    "        koef_1=0.5,\n",
    "        koef_2=3,\n",
    "        koef_3=2\n",
    "    )\n",
    ")"
   ]
  },
  {
   "cell_type": "markdown",
   "metadata": {},
   "source": [
    "Takže pokud budeš mít **větší množství parametrů**, nebo se v nich budeš ztrácet, určitě použij tuto variantu."
   ]
  },
  {
   "cell_type": "markdown",
   "metadata": {},
   "source": [
    "### Defaultní parametry\n",
    "\n",
    "---\n",
    "\n",
    "Někdy dojdeš k závěru, že *uživatelská funkce*, kterou tvoříš, potřebuje alespoň **jeden parametr**, který bude ve většině spouštění používat tutéž hodnotu.\n",
    "\n",
    "V takovém případě můžeš do předpisu zapsat *defaultní parametr*:"
   ]
  },
  {
   "cell_type": "code",
   "execution_count": 41,
   "metadata": {},
   "outputs": [],
   "source": [
    "from urllib.parse import urljoin"
   ]
  },
  {
   "cell_type": "code",
   "execution_count": 60,
   "metadata": {},
   "outputs": [],
   "source": [
    "def vytvor_adresu(cesta, host=\"https://www.brickranker.com\"):\n",
    "    return urljoin(host, cesta)"
   ]
  },
  {
   "cell_type": "code",
   "execution_count": 63,
   "metadata": {},
   "outputs": [
    {
     "name": "stdout",
     "output_type": "stream",
     "text": [
      "https://www.brickranker.com/rankings\n"
     ]
    }
   ],
   "source": [
    "print(vytvor_adresu(\"rankings\"))"
   ]
  },
  {
   "cell_type": "markdown",
   "metadata": {},
   "source": [
    "Při spuštění funkce `vytvor_pozdrav` není přítomen **žádný druhý argument** a funkci lze přesto spustit."
   ]
  },
  {
   "cell_type": "code",
   "execution_count": 64,
   "metadata": {},
   "outputs": [
    {
     "name": "stdout",
     "output_type": "stream",
     "text": [
      "https://www.brickranker.com/news\n"
     ]
    }
   ],
   "source": [
    "print(vytvor_adresu(\"news\"))"
   ]
  },
  {
   "cell_type": "markdown",
   "metadata": {},
   "source": [
    "Takže pokud **nevložíš žádný argument**, bude funkce `vytvor_pozdrav` automaticky pracovat se stringem `\"https://www.brickranker.com\"`.\n",
    "\n",
    "Pokud se však rozhodneš, že tebou zadaný **defaultní parametr** bude potřeba upravit, můžeš jej snadno přepsat jinou hodnotou:"
   ]
  },
  {
   "cell_type": "code",
   "execution_count": 66,
   "metadata": {},
   "outputs": [
    {
     "name": "stdout",
     "output_type": "stream",
     "text": [
      "https://engeto.cz/prehled-kurzu\n"
     ]
    }
   ],
   "source": [
    "print(vytvor_adresu(\"prehled-kurzu\", \"https://engeto.cz\"))"
   ]
  },
  {
   "cell_type": "code",
   "execution_count": 67,
   "metadata": {},
   "outputs": [
    {
     "name": "stdout",
     "output_type": "stream",
     "text": [
      "https://engeto.cz/kontakt\n"
     ]
    }
   ],
   "source": [
    "print(vytvor_adresu(\"kontakt\", \"https://engeto.cz\"))"
   ]
  },
  {
   "cell_type": "markdown",
   "metadata": {},
   "source": [
    "Defaultní parametry je potřeba zadávat až po pozičních parametrech:"
   ]
  },
  {
   "cell_type": "code",
   "execution_count": null,
   "metadata": {},
   "outputs": [],
   "source": [
    "def vytvor_adresu_2(base_url=\"https://www.brickranker.com\", url_path):\n",
    "    return urljoin(base_url, url_path)"
   ]
  },
  {
   "cell_type": "markdown",
   "metadata": {},
   "source": [
    "### Jen poziční parametry\n",
    "\n",
    "---\n",
    "\n",
    "Od verze **Pythonu 3.8** je dostupná tato nová varianta pro zápis parametrů u *uživatelských funkcí*:"
   ]
  },
  {
   "cell_type": "code",
   "execution_count": null,
   "metadata": {},
   "outputs": [],
   "source": [
    "def vypis_pozdrav(jmeno, /, je_uzivatel):\n",
    "    if je_uzivatel:\n",
    "        print(\"Ahoj,\", jmeno)\n",
    "    else:\n",
    "        print(\"Nejsi uživatel!\")"
   ]
  },
  {
   "cell_type": "code",
   "execution_count": null,
   "metadata": {},
   "outputs": [],
   "source": [
    "vypis_pozdrav(\"Matouš\", je_uzivatel=True)"
   ]
  },
  {
   "cell_type": "code",
   "execution_count": null,
   "metadata": {},
   "outputs": [],
   "source": [
    "vypis_pozdrav(\"Matouš\", True)"
   ]
  },
  {
   "cell_type": "markdown",
   "metadata": {},
   "source": [
    "Účelem tohoto typu **zápisu argmentů** je **vynutit od uživatele** zápis všech parametrů nalevo od lomítka `/` jako poziční argumentů:"
   ]
  },
  {
   "cell_type": "code",
   "execution_count": null,
   "metadata": {},
   "outputs": [],
   "source": [
    "vypis_pozdrav(jmeno=\"Matouš\", je_uzivatel=True)"
   ]
  },
  {
   "cell_type": "code",
   "execution_count": null,
   "metadata": {},
   "outputs": [],
   "source": [
    "vypis_pozdrav(jmeno=\"Matouš\", True)"
   ]
  },
  {
   "cell_type": "markdown",
   "metadata": {},
   "source": [
    "Zatím co parametry napravo od lomítka můžeš:\n",
    "* zapsat jako **poziční**,\n",
    "* zapsat jako **klíčové**.\n",
    "\n",
    "Kde se s tímto zápisem můžeš setkat:"
   ]
  },
  {
   "cell_type": "code",
   "execution_count": null,
   "metadata": {},
   "outputs": [],
   "source": [
    "help(float)"
   ]
  },
  {
   "cell_type": "code",
   "execution_count": null,
   "metadata": {},
   "outputs": [],
   "source": [
    "float(x=\"3.141\")"
   ]
  },
  {
   "cell_type": "code",
   "execution_count": null,
   "metadata": {},
   "outputs": [],
   "source": [
    "float(\"3.141\")"
   ]
  },
  {
   "cell_type": "markdown",
   "metadata": {},
   "source": [
    "Vzhledem k tomu, že je to novější varianta **není tolik běžná**.\n",
    "\n",
    "Spatřit ji můžeš tehdy, pokud chce programátor ostatní uživatele jeho uživatelských funkcí omezit při používání **klíčových argumentů**."
   ]
  },
  {
   "cell_type": "markdown",
   "metadata": {},
   "source": [
    "### *args\n",
    "\n",
    "---\n",
    "\n",
    "Pokud znáš jiné programovací jazyky (jako C nebo C++), možná v tobě znak `*` připomene tzv. *pointery*:\n",
    "```c\n",
    "int *pointer_c, c;\n",
    "c = 11;\n",
    "pointer_c = &c;\n",
    "\n",
    "printf(\"Hodnota pointer_c: %d\\n\", c);    // 'Hodnota pointer_c: 11'\n",
    "printf(\"Hodnota c: %d\\n\\n\", *pointer_c); // 'Hodnota c: 11'\n",
    "```\n",
    "\n",
    "Nicméně Python tuto funcionalitu **nepodporuje**.\n",
    "\n",
    "<br>\n",
    "\n",
    "Naopak pomáhá v rámci parametrů oznámit interpretu, že funkce umí pracovat **s různým množstvím argumentů**:"
   ]
  },
  {
   "cell_type": "code",
   "execution_count": null,
   "metadata": {},
   "outputs": [],
   "source": [
    "def vypocitej_prumer(args):\n",
    "    return sum(args) / len(args)"
   ]
  },
  {
   "cell_type": "code",
   "execution_count": null,
   "metadata": {},
   "outputs": [],
   "source": [
    "print(vypocitej_prumer(1, 2, 3, 4, 5))"
   ]
  },
  {
   "cell_type": "markdown",
   "metadata": {},
   "source": [
    "Zásadní je právě přítomnost `*`. Ta sbalí hodnoty do sekvence:"
   ]
  },
  {
   "cell_type": "code",
   "execution_count": null,
   "metadata": {},
   "outputs": [],
   "source": [
    "def vypocitej_prumer(*args):\n",
    "    return sum(args) / len(args)"
   ]
  },
  {
   "cell_type": "code",
   "execution_count": null,
   "metadata": {},
   "outputs": [],
   "source": [
    "print(vypocitej_prumer(1, 2, 3, 4, 5))"
   ]
  },
  {
   "cell_type": "markdown",
   "metadata": {},
   "source": [
    "Jméno parametru `args` potom slouží hlavně jako konvence mezi programátory.\n",
    "\n",
    "V ukázce můžeš klidně použít **jiné jméno**:"
   ]
  },
  {
   "cell_type": "code",
   "execution_count": null,
   "metadata": {},
   "outputs": [],
   "source": [
    "def vypocitej_prumer(*cislice):\n",
    "    return sum(cislice) / len(cislice)"
   ]
  },
  {
   "cell_type": "code",
   "execution_count": null,
   "metadata": {},
   "outputs": [],
   "source": [
    "print(vypocitej_prumer(1, 2, 3, 4, 5, 6))"
   ]
  },
  {
   "cell_type": "markdown",
   "metadata": {},
   "source": [
    "Můžeš namítnout, že podobnou situaci můžeš řešit rovnou pomocí **sekvenčního datového typu**:"
   ]
  },
  {
   "cell_type": "code",
   "execution_count": null,
   "metadata": {},
   "outputs": [],
   "source": [
    "def vypocitej_prumer(cislice):\n",
    "    return sum(cislice) / len(cislice)"
   ]
  },
  {
   "cell_type": "code",
   "execution_count": null,
   "metadata": {},
   "outputs": [],
   "source": [
    "cislice = (1, 2, 3, 4, 5, 6, 7)"
   ]
  },
  {
   "cell_type": "code",
   "execution_count": null,
   "metadata": {},
   "outputs": [],
   "source": [
    "print(vypocitej_prumer(cislice))"
   ]
  },
  {
   "cell_type": "markdown",
   "metadata": {},
   "source": [
    "Často ale nemáš možnost si takhle proměnnou pěkně nachystat (*uložit*).\n",
    "\n",
    "Třeba tehdy, pokud ti někdy číselné řady posílá, aktuální a s různou délkou:"
   ]
  },
  {
   "cell_type": "code",
   "execution_count": null,
   "metadata": {},
   "outputs": [],
   "source": [
    "def vypocitej_prumer(cislice):\n",
    "    return sum(cislice) / len(cislice)"
   ]
  },
  {
   "cell_type": "code",
   "execution_count": null,
   "metadata": {},
   "outputs": [],
   "source": [
    "print(\n",
    "    vypocitej_prumer(1, 2),\n",
    "    vypocitej_prumer(1, 2, 3),\n",
    "    vypocitej_prumer(1, 2, 3, 4),\n",
    "    sep=\"\\n\"\n",
    ")"
   ]
  },
  {
   "cell_type": "code",
   "execution_count": null,
   "metadata": {},
   "outputs": [],
   "source": [
    "def vypocitej_prumer(*cislice):\n",
    "    return sum(cislice) / len(cislice)"
   ]
  },
  {
   "cell_type": "code",
   "execution_count": null,
   "metadata": {},
   "outputs": [],
   "source": [
    "print(\n",
    "    vypocitej_prumer(1, 2),\n",
    "    vypocitej_prumer(1, 2, 3),\n",
    "    vypocitej_prumer(1, 2, 3, 4),\n",
    "    sep=\"\\n\"\n",
    ")"
   ]
  },
  {
   "cell_type": "markdown",
   "metadata": {},
   "source": [
    "Nyní funkci `vypocitej_prumer` zapsanou hvězdičkou oznamuješ, že parametr `argv` může mít jakýkoliv počet hodnot."
   ]
  },
  {
   "cell_type": "markdown",
   "metadata": {},
   "source": [
    "### **kwargs\n",
    "\n",
    "---\n",
    "\n",
    "Dalším způsobem pro *zápis vstupů*, je varianta **pomocí dvou hvězdiček** `**`.\n",
    "\n",
    "<br>\n",
    "\n",
    "Tentokrát seskupuješ dohromady libovolném množství párů:\n",
    "1. **jména objektů**,\n",
    "2. **jejich hodnot**.\n",
    "\n",
    "Opět si představ situaci, že postupně dostáváš hodnoty, které potřebuješ schovávat do slovníku:"
   ]
  },
  {
   "cell_type": "code",
   "execution_count": null,
   "metadata": {},
   "outputs": [],
   "source": [
    "def vytvor_slovnik(**kwargs):\n",
    "    \"\"\"\n",
    "    Vrať slovník, který obsahuje libovolné množství sbalených hodnot. \n",
    "    \"\"\"\n",
    "    vysledek = dict()\n",
    "    vysledek.update(kwargs)\n",
    "    return vysledek"
   ]
  },
  {
   "cell_type": "code",
   "execution_count": null,
   "metadata": {},
   "outputs": [],
   "source": [
    "print(vytvor_slovnik(jmeno=\"Matous\", prijmeni=\"Holinka\"))"
   ]
  },
  {
   "cell_type": "markdown",
   "metadata": {},
   "source": [
    "**Jméno parametru** je opět volitelné, ale je doporučováno, držet se všeobecné konvence `kwargs` (~keyword arguments):"
   ]
  },
  {
   "cell_type": "code",
   "execution_count": null,
   "metadata": {},
   "outputs": [],
   "source": [
    "def vytvor_slovnik(**osobni_udaje):\n",
    "    \"\"\"\n",
    "    Vrať slovník, který obsahuje libovolné množství sbalených hodnot. \n",
    "    \"\"\"\n",
    "    vysledek = dict()\n",
    "    vysledek.update(osobni_udaje)\n",
    "    return vysledek"
   ]
  },
  {
   "cell_type": "code",
   "execution_count": null,
   "metadata": {},
   "outputs": [],
   "source": [
    "from pprint import pprint"
   ]
  },
  {
   "cell_type": "code",
   "execution_count": null,
   "metadata": {},
   "outputs": [],
   "source": [
    "pprint(\n",
    "    vytvor_slovnik(\n",
    "        jmeno=\"Matous\",\n",
    "        prijmeni=\"Holinka\",\n",
    "        vek=90,\n",
    "        email=\"matous@holinka.cz\"\n",
    "    )\n",
    ")"
   ]
  },
  {
   "cell_type": "markdown",
   "metadata": {},
   "source": [
    "### Souhrn\n",
    "\n",
    "---\n",
    "\n",
    "Aby v tom byl alespoň částečně pořádek, níže je uvedená tabulka se **základními charakteristikami**.\n",
    "\n",
    "| Typ vstupu | Ukázka | Kdy používat |\n",
    "| :- | :- | :- |\n",
    "| **poziční vstupy** | `moje_funkce(jmeno, prijmeni)` | ve většině případech, kde není matoucí **pořadí** argumentů, | \n",
    "| **klíčové argumenty** | `moje_funkce(jmeno=\"Tom\", prijmeni=\"Hrom\")` | pokud je pořadí argumentů **nepřehledné**, pojmenuj je, |\n",
    "| **defaultní parametry** | `moje_funkce(email, registrovany=True)` | pokud potřebuješ při spouštění stejný parametr, napiš jej jako *defaultní*, |  \n",
    "| **position-only parametry** | `moje_funkce(jmeno, /, registrovany)` | pokud potřebuješ vynutit zápis **pozičního argumentu**, |\n",
    "| **\\*args** | `moje_funkce(*args)` | pokud má funkce pracovat **s různým množstvím** hodnot v *sekvenci*, |\n",
    "| **\\*\\*kwargs** |  `moje_funkce(**kwargs)` | pokud má funkce pracovat **s různým množstvím** hodnot v párech *klíč*, *hodnota*. |"
   ]
  },
  {
   "cell_type": "markdown",
   "metadata": {},
   "source": [
    "<br>\n",
    "\n",
    "<img src=\"https://external-content.duckduckgo.com/iu/?u=https%3A%2F%2Ftse4.mm.bing.net%2Fth%3Fid%3DOIP.3zH2XO4Ec77ugwOJQSR5KAHaGl%26pid%3DApi&f=1&ipt=da0860e815b2df5c7483ba605846462ead01ddc816a6391c7a24853c7354c4d4&ipo=images\" width=\"300\">\n",
    "\n",
    "## Rámce\n",
    "\n",
    "---"
   ]
  },
  {
   "cell_type": "markdown",
   "metadata": {},
   "source": [
    "*Scope* nebo také rámec je koncept, na kterém pracuje spousta programovacích jazyků, Python není výjimkou.\n",
    "\n",
    "Rámec v podstatě řeší tuto otázku: **\"K jakým proměnným mám v tuto chvíli přístup?\"**"
   ]
  },
  {
   "cell_type": "markdown",
   "metadata": {},
   "source": [
    "### Globální rámec\n",
    "\n",
    "---"
   ]
  },
  {
   "cell_type": "code",
   "execution_count": null,
   "metadata": {},
   "outputs": [],
   "source": [
    "print(jmeno)"
   ]
  },
  {
   "cell_type": "markdown",
   "metadata": {},
   "source": [
    "Po spuštění předchozí buňky s funkcí `print` dostaneme chybu s argumentem: `name 'jmeno' is not defined`.\n",
    "\n",
    "Důvodem je **absence proměnné** `jmeno`.\n",
    "\n",
    "Tento problém lze ale popsat jako chybějící `jmeno` v **aktualním rámci**."
   ]
  },
  {
   "cell_type": "code",
   "execution_count": null,
   "metadata": {},
   "outputs": [],
   "source": [
    "jmeno = \"Matous\""
   ]
  },
  {
   "cell_type": "code",
   "execution_count": null,
   "metadata": {},
   "outputs": [],
   "source": [
    "print(jmeno)"
   ]
  },
  {
   "cell_type": "markdown",
   "metadata": {},
   "source": [
    "Teprve nyní tvoříš odkaz/ukazatele na hodnotu stringu `\"Matous\"`.\n",
    "\n",
    "Současně tím **v globálním rámci** zapíšeš proměnnou `jmeno`.\n",
    "\n",
    "Ověřit si, které proměnné máme dostupné v aktuálním globalním rámci můžeme pomocí funkce `globals`:"
   ]
  },
  {
   "cell_type": "code",
   "execution_count": null,
   "metadata": {},
   "outputs": [],
   "source": [
    "print(globals())"
   ]
  },
  {
   "cell_type": "markdown",
   "metadata": {},
   "source": [
    "##### Demo: V příkazovém řádku"
   ]
  },
  {
   "cell_type": "markdown",
   "metadata": {},
   "source": [
    "### Lokální rámec\n",
    "\n",
    "---"
   ]
  },
  {
   "cell_type": "code",
   "execution_count": null,
   "metadata": {},
   "outputs": [],
   "source": [
    "def moje_funkce():\n",
    "    jmeno_2 = \"Lukas\""
   ]
  },
  {
   "cell_type": "code",
   "execution_count": null,
   "metadata": {},
   "outputs": [],
   "source": [
    "moje_funkce()"
   ]
  },
  {
   "cell_type": "code",
   "execution_count": null,
   "metadata": {},
   "outputs": [],
   "source": [
    "print(jmeno_2)"
   ]
  },
  {
   "cell_type": "markdown",
   "metadata": {},
   "source": [
    "Opět výstup: `name 'jmeno_2' is not defined`.\n",
    "\n",
    "Tentokrát však máš proměnnou `jmeno_2` předepsanou.\n",
    "\n",
    "<br>\n",
    "\n",
    "Proměnná jmeno tentokrát existuje, ale pouze **v lokálním rámci** funkce `moje_funkce`.\n",
    "\n",
    "*Lokální rámec* není *globalní rámec*. Proto nemůžeš použít proměnnou jmeno v globálním rámci, pokud je vytvořená v lokálním rámci."
   ]
  },
  {
   "cell_type": "code",
   "execution_count": null,
   "metadata": {},
   "outputs": [],
   "source": [
    "def moje_funkce():\n",
    "    jmeno_3 = \"Lukas\"\n",
    "    print(jmeno_3)"
   ]
  },
  {
   "cell_type": "markdown",
   "metadata": {},
   "source": [
    "Pokud potřebuješ zpřístupnit proměnnou `jmeno_3` uvnitř funkce, musíš použít funkci `print` **v daném lokálním rámci**."
   ]
  },
  {
   "cell_type": "code",
   "execution_count": null,
   "metadata": {},
   "outputs": [],
   "source": [
    "moje_funkce()"
   ]
  },
  {
   "cell_type": "markdown",
   "metadata": {},
   "source": [
    "Co funkce, to nový **lokální rámec**.\n",
    "\n",
    "Každá funkce ma **svůj vlastní lokální rámec**.\n",
    "\n",
    "Jednotlivé *lokální rámce* jsou od sebe izolované (nevidí proměnné ostatních funkcí)."
   ]
  },
  {
   "cell_type": "markdown",
   "metadata": {},
   "source": [
    "<br>\n",
    "\n",
    "*Lokální rámce* souvísí s funkcemi, ne **s odsazeným zápisem**:"
   ]
  },
  {
   "cell_type": "code",
   "execution_count": null,
   "metadata": {},
   "outputs": [],
   "source": [
    "jmeno_4 = \"Matous\""
   ]
  },
  {
   "cell_type": "code",
   "execution_count": null,
   "metadata": {},
   "outputs": [],
   "source": [
    "if jmeno_4 == \"Matous\":\n",
    "    prijmeni = \"Marny\""
   ]
  },
  {
   "cell_type": "code",
   "execution_count": null,
   "metadata": {},
   "outputs": [],
   "source": [
    "print(globals())"
   ]
  },
  {
   "cell_type": "markdown",
   "metadata": {},
   "source": [
    "Pokud chceš ověřit, jaké proměnné máš v daném **lokalním rámci**, použij uvnitř konkretního prostředí funkci `locals`:"
   ]
  },
  {
   "cell_type": "code",
   "execution_count": null,
   "metadata": {},
   "outputs": [],
   "source": [
    "def moje_funkce():\n",
    "    \"\"\"\n",
    "    Funkce LOCALS bude pracovat jen uvnitř funkce.\n",
    "    \"\"\"\n",
    "    jmeno_5 = \"Lukas\"\n",
    "    prijmeni_5 = \"Marek\"\n",
    "    print(\"Lokální rámec:\", locals())"
   ]
  },
  {
   "cell_type": "code",
   "execution_count": null,
   "metadata": {},
   "outputs": [],
   "source": [
    "moje_funkce()"
   ]
  },
  {
   "cell_type": "markdown",
   "metadata": {},
   "source": [
    "Pokud budeš mít uživatelských funkcí víc, můžeš pozorovat, jak žádná nevidí do jiné funkce:"
   ]
  },
  {
   "cell_type": "code",
   "execution_count": null,
   "metadata": {},
   "outputs": [],
   "source": [
    "def zapis_zahlavi(jmeno):\n",
    "    datum = \"11/11/2011\"\n",
    "    print(\"Lokální rámec 'zapis_zahlavi':\", locals())\n",
    "    return f\"{datum}-{jmeno}\""
   ]
  },
  {
   "cell_type": "code",
   "execution_count": null,
   "metadata": {},
   "outputs": [],
   "source": [
    "def zapis_zpravu(hlavicka, text):\n",
    "    print(\"Lokální rámec 'zapis_zpravu':\", locals())\n",
    "    return f\"{hlavicka}: {text}\""
   ]
  },
  {
   "cell_type": "code",
   "execution_count": null,
   "metadata": {},
   "outputs": [],
   "source": [
    "zahl = zapis_zahlavi(\"Matouš\")"
   ]
  },
  {
   "cell_type": "code",
   "execution_count": null,
   "metadata": {},
   "outputs": [],
   "source": [
    "zprava = zapis_zpravu(zahl, \"Ahoj všichni!\")"
   ]
  },
  {
   "cell_type": "markdown",
   "metadata": {},
   "source": [
    "Tudíž nejsi obyčejně schopen ve funkci `zapis_zpravu` použít parametr `jmeno` atd."
   ]
  },
  {
   "cell_type": "markdown",
   "metadata": {},
   "source": [
    "### Zabudovaný rámec (~built-in scope)\n",
    "\n",
    "---"
   ]
  },
  {
   "cell_type": "markdown",
   "metadata": {},
   "source": [
    "Tento rámec obsahuje všechny *výjimky*, *zabudované funkce*, aj:"
   ]
  },
  {
   "cell_type": "code",
   "execution_count": null,
   "metadata": {},
   "outputs": [],
   "source": [
    "print(sum)"
   ]
  },
  {
   "cell_type": "markdown",
   "metadata": {},
   "source": [
    "Máš jej k dispozici okamžitě, po spuštění *interpretu*, takže můžeš použít objekty, které má k dispozici."
   ]
  },
  {
   "cell_type": "code",
   "execution_count": null,
   "metadata": {},
   "outputs": [],
   "source": [
    "import builtins"
   ]
  },
  {
   "cell_type": "code",
   "execution_count": null,
   "metadata": {},
   "outputs": [],
   "source": [
    "dir(builtins)"
   ]
  },
  {
   "cell_type": "markdown",
   "metadata": {},
   "source": [
    "Takže to jsou **3 základní rámce** v Pythonu:"
   ]
  },
  {
   "cell_type": "markdown",
   "metadata": {},
   "source": [
    "<img src=\"https://external-content.duckduckgo.com/iu/?u=https%3A%2F%2Ftse1.mm.bing.net%2Fth%3Fid%3DOIP.PyAwJkVFGp6IVXtRpQXaowHaE6%26pid%3DApi&f=1&ipt=113d12a3bc2e90ece37b5ab11754b3e28c8bfca59a154810dc08376f9ee634e8&ipo=images\" width=\"350\">"
   ]
  },
  {
   "cell_type": "markdown",
   "metadata": {},
   "source": [
    "### Uzavírající rámec (~enclosing scope)\n",
    "\n",
    "---"
   ]
  },
  {
   "cell_type": "markdown",
   "metadata": {},
   "source": [
    "Jde o téma pouze **pro ostřílenější pythonisty.**\n",
    "\n",
    "Celé to vypadá jako jedna *uživatelská funkce* **zanořená** do jiné *uživatelské funkce*:"
   ]
  },
  {
   "cell_type": "code",
   "execution_count": null,
   "metadata": {},
   "outputs": [],
   "source": [
    "def rozdel_podle_znaku(adresa, znak=\"@\"):  # Uzavírající rámec\n",
    "    rozdeleny_mail = adresa.split(znak)\n",
    "    \n",
    "    def oddel_domenu(nedomena, znak=\".\"):  # Lokální rámec\n",
    "        return nedomena[1].split(znak)[0]\n",
    "    \n",
    "    return oddel_domenu(rozdeleny_mail) "
   ]
  },
  {
   "cell_type": "code",
   "execution_count": null,
   "metadata": {},
   "outputs": [],
   "source": [
    "print(rozdel_podle_znaku(\"matous@holinka.cz\"))"
   ]
  },
  {
   "cell_type": "markdown",
   "metadata": {},
   "source": [
    "Tedy původní *lokální rámec* se mění na *uzavírající rámec* tehdy, pokud uvnitř funkce (`rozdel_podle_znaku`) najdeš jinou, uzavřenou funkci (`oddel_domenu`).\n",
    "\n",
    "Aplikace této složitější tématiky pak lze dohledat u:\n",
    "1. *Closures*,\n",
    "2. *dekorátorů*."
   ]
  },
  {
   "cell_type": "markdown",
   "metadata": {},
   "source": [
    "### Dekorátor\n",
    "\n",
    "---"
   ]
  },
  {
   "cell_type": "code",
   "execution_count": null,
   "metadata": {},
   "outputs": [],
   "source": [
    "from time import sleep"
   ]
  },
  {
   "cell_type": "code",
   "execution_count": null,
   "metadata": {},
   "outputs": [],
   "source": [
    "log_file = (\n",
    "    \"1.řádek - konverguji..\",\n",
    "    \"2.řádek - konverguji..\",\n",
    "    \"3.řádek - konverguji..\",\n",
    "    \"4.řádek - mám hotovo.\",\n",
    "    \"5.řádek - mám hotovo.\"\n",
    ")"
   ]
  },
  {
   "cell_type": "code",
   "execution_count": null,
   "metadata": {},
   "outputs": [],
   "source": [
    "def proved_kontrolu(jmeno_souboru):\n",
    "    for zaznam in jmeno_souboru:\n",
    "        if over_obsah_souboru(zaznam):\n",
    "            print(\"INFO: Konec konvergence!\")\n",
    "            return True\n",
    "        else:\n",
    "            print(\"INFO: Soubor se přepisuje..\")\n",
    "        sleep(2)\n",
    "\n",
    "    else:\n",
    "        print(\"WARNING: Nedokonvergovalo!\")\n",
    "        return False"
   ]
  },
  {
   "cell_type": "code",
   "execution_count": null,
   "metadata": {},
   "outputs": [],
   "source": [
    "def over_obsah_souboru(jmeno_souboru):\n",
    "    # Otevírám soubor a kontroluji obsah\n",
    "    return jmeno_souboru.split(\"-\")[1] == \" mám hotovo.\""
   ]
  },
  {
   "cell_type": "code",
   "execution_count": null,
   "metadata": {},
   "outputs": [],
   "source": [
    "proved_kontrolu(log_file)"
   ]
  },
  {
   "cell_type": "markdown",
   "metadata": {},
   "source": [
    "Celý zápis lze formulovat pomocí *dekorátoru*:"
   ]
  },
  {
   "cell_type": "code",
   "execution_count": null,
   "metadata": {},
   "outputs": [],
   "source": [
    "def proved_kontrolu(funkce):               # Náš nový dekorátor, parametr je funkce, kterou chci dekorovat\n",
    "\n",
    "    def obalovaci_funkce(jmeno_souboru):   # Obalovací funkce\n",
    "        for zaznam in jmeno_souboru:\n",
    "            if funkce(zaznam):             # Volání dekorované funkce\n",
    "                print(\"INFO: Konec konvergence!\")\n",
    "                return True\n",
    "            else:\n",
    "                print(\"INFO: Soubor se přepisuje..\")\n",
    "            \n",
    "            sleep(2)\n",
    "\n",
    "    return obalovaci_funkce                # Vracím výstup dekorované funkce"
   ]
  },
  {
   "cell_type": "code",
   "execution_count": null,
   "metadata": {},
   "outputs": [],
   "source": [
    "@proved_kontrolu                           # Dekorátor v akci\n",
    "def over_obsah_souboru(jmeno_souboru):     # Dekorovaná funkce\n",
    "    return jmeno_souboru.split(\"-\")[1] == \" mám hotovo.\""
   ]
  },
  {
   "cell_type": "code",
   "execution_count": null,
   "metadata": {},
   "outputs": [],
   "source": [
    "over_obsah_souboru(log_file)"
   ]
  },
  {
   "cell_type": "markdown",
   "metadata": {},
   "source": [
    "### Shrnutí rámců\n",
    "\n",
    "---\n",
    "\n",
    "Proč je tedy znalost a pochopení **pravidel rámců** tak důležitá?"
   ]
  },
  {
   "cell_type": "code",
   "execution_count": null,
   "metadata": {},
   "outputs": [],
   "source": [
    "prostredi = \"globalni\"\n",
    "\n",
    "def funkce_a():\n",
    "    prostredi = \"uzavirajici\"\n",
    "\n",
    "    def funkce_b():\n",
    "        prostredi = \"lokalni\"\n",
    "        print(prostredi)\n",
    "\n",
    "    funkce_b()\n",
    "funkce_a()"
   ]
  },
  {
   "cell_type": "markdown",
   "metadata": {},
   "source": [
    "V okamžiku, kdy **nedodržuješ zdravé koncepty práce s rámci**, se můžeš snadno spálit."
   ]
  },
  {
   "cell_type": "code",
   "execution_count": 1,
   "metadata": {},
   "outputs": [
    {
     "name": "stdout",
     "output_type": "stream",
     "text": [
      "<built-in function sum>\n"
     ]
    }
   ],
   "source": [
    "prostredi = \"globalni\"        # Přejmenovat a odstranit\n",
    "\n",
    "def funkce_a():\n",
    "    prostredi = \"uzavirajici\" # Odstranit\n",
    "\n",
    "    def funkce_b():\n",
    "        prostredi = \"lokalni\" # Odstranit\n",
    "        print(prostredi)\n",
    "\n",
    "    funkce_b()\n",
    "funkce_a()"
   ]
  },
  {
   "cell_type": "markdown",
   "metadata": {},
   "source": [
    "*Interpret* totiž dodržuje následující postup:\n",
    "1. Nejprve prohledá **lokalní rámec**, v němž se nachází,\n",
    "2. pokud není objekt uvnitř, zkus **uzavírající rámec** nebo obecně **nadřazený rámec**,\n",
    "3. pokud není objekt uvnitř **uzavírajícího prostředí**, zkus **globální rámec**,\n",
    "4. pokud není objekt uvnitr **globálního**, zkus **zabudovaný rámec**,\n",
    "5. pokud není objekt uvnitř **zabudovaného rámce** vyvolej `NameError`."
   ]
  },
  {
   "cell_type": "markdown",
   "metadata": {},
   "source": [
    "Spoléhat však na toto chování není doporučováno. Je totiž neintuitivní.\n",
    "\n",
    "Proto je dobré pamatovat na poučku, že **pěkná uživatelská funkce** umí pracovat pouze:\n",
    "1. svými **proměnnými**,\n",
    "2. svými **parametry**."
   ]
  },
  {
   "cell_type": "code",
   "execution_count": 2,
   "metadata": {},
   "outputs": [],
   "source": [
    "def funkce_a(prostredi):\n",
    "\n",
    "    def funkce_b(prostredi):\n",
    "        print(prostredi)\n",
    "    \n",
    "    funkce_b(prostredi)"
   ]
  },
  {
   "cell_type": "code",
   "execution_count": 3,
   "metadata": {},
   "outputs": [
    {
     "name": "stdout",
     "output_type": "stream",
     "text": [
      "globalni\n"
     ]
    }
   ],
   "source": [
    "funkce_a(\"globalni\")"
   ]
  },
  {
   "cell_type": "markdown",
   "metadata": {},
   "source": [
    "<br>\n",
    "\n",
    "<img src=\"https://external-content.duckduckgo.com/iu/?u=https%3A%2F%2Ftse1.mm.bing.net%2Fth%3Fid%3DOIP.Q_UFkYOMsF4WZPqR5JASrwHaHa%26pid%3DApi&f=1&ipt=5cc98c3ef4fcc27589e45d9966d8c05f1d7723927ad5c59a0f82d2e753d14ba8&ipo=images\" width=\"200\">\n",
    "\n",
    "## Funkce jako objekt\n",
    "---\n"
   ]
  },
  {
   "cell_type": "markdown",
   "metadata": {},
   "source": [
    "*Uživatelské funkce* v Pythonu jsou *objekt* jako všechny ostatní.\n",
    "\n",
    "Podle toho s nimi lze také zacházet:\n",
    "1. Funkce umí zacházet **s obyčejnými datovými typy** jako vstupy,\n",
    "2. funkce umí zacházet **s jinými funkcemi** jako vstupy,\n",
    "3. funkce umí vracet **různé datové typy**,\n",
    "4. funkce umí vracet **jiné funkce**."
   ]
  },
  {
   "cell_type": "markdown",
   "metadata": {},
   "source": [
    "### Běžná funkce\n",
    "\n",
    "---"
   ]
  },
  {
   "cell_type": "code",
   "execution_count": 6,
   "metadata": {},
   "outputs": [],
   "source": [
    "def spoj_jmeno_a_prijmeni(jmeno, prijmeni):\n",
    "    \"\"\"\n",
    "    Vrať zformátované textové hodnoty ze zadaných parametrů.\n",
    "\n",
    "    :Example:\n",
    "    >>> spoj_jmeno_a_prijmeni(\"Petr\", \"Svetr\")\n",
    "    p.svetr\n",
    "    \"\"\"\n",
    "    return \".\".join((jmeno[0].lower(), prijmeni.lower()))"
   ]
  },
  {
   "cell_type": "code",
   "execution_count": 7,
   "metadata": {},
   "outputs": [
    {
     "name": "stdout",
     "output_type": "stream",
     "text": [
      "a.novak\n"
     ]
    }
   ],
   "source": [
    "print(spoj_jmeno_a_prijmeni(\"Adam\", \"Novak\"))"
   ]
  },
  {
   "cell_type": "markdown",
   "metadata": {},
   "source": [
    "### Funkce jako vstup\n",
    "\n",
    "---"
   ]
  },
  {
   "cell_type": "code",
   "execution_count": 8,
   "metadata": {},
   "outputs": [],
   "source": [
    "def spoj_jmeno_a_prijmeni(jmeno, prijmeni):\n",
    "    return \".\".join((jmeno[0].lower(), prijmeni.lower()))"
   ]
  },
  {
   "cell_type": "code",
   "execution_count": 9,
   "metadata": {},
   "outputs": [],
   "source": [
    "def main(funkce, udaje):\n",
    "    for cele_jmeno in udaje:\n",
    "        jmeno, prijmeni = cele_jmeno\n",
    "        print(funkce(jmeno, prijmeni))"
   ]
  },
  {
   "cell_type": "code",
   "execution_count": 10,
   "metadata": {},
   "outputs": [
    {
     "name": "stdout",
     "output_type": "stream",
     "text": [
      "p.svetr\n",
      "a.novák\n",
      "m.holinka\n"
     ]
    }
   ],
   "source": [
    "main(\n",
    "    spoj_jmeno_a_prijmeni,\n",
    "    [(\"Petr\", \"Svetr\"), (\"Adam\", \"Novák\"), (\"Matouš\", \"Holinka\")]\n",
    ")"
   ]
  },
  {
   "cell_type": "markdown",
   "metadata": {},
   "source": [
    "Ve druhé ukázce je obecně nachystaný parametr `funkce`, který očekává funkci.\n",
    "\n",
    "Toho si můžeš všimnout **na čtvrtém řádku**, kde je tento parametr použitý v kombinaci **s kulatými závorkami**.\n",
    "\n",
    "Za parametr `funkce` můžeš rozhodně použít jakoukoliv jinou uživatelskou funkci (která dává smysl v kontextu funkce `main`):"
   ]
  },
  {
   "cell_type": "code",
   "execution_count": 11,
   "metadata": {},
   "outputs": [],
   "source": [
    "def spoj_jmeno_a_prijmeni_velkymi_pismeny(jmeno, prijmeni):\n",
    "    return \".\".join((jmeno[0].upper(), prijmeni.upper()))"
   ]
  },
  {
   "cell_type": "code",
   "execution_count": 12,
   "metadata": {},
   "outputs": [
    {
     "data": {
      "text/plain": [
       "'P.SVETR'"
      ]
     },
     "execution_count": 12,
     "metadata": {},
     "output_type": "execute_result"
    }
   ],
   "source": [
    "spoj_jmeno_a_prijmeni_velkymi_pismeny(\"Petr\", \"Svetr\")"
   ]
  },
  {
   "cell_type": "code",
   "execution_count": 13,
   "metadata": {},
   "outputs": [
    {
     "name": "stdout",
     "output_type": "stream",
     "text": [
      "P.SVETR\n",
      "A.NOVÁK\n",
      "M.HOLINKA\n"
     ]
    }
   ],
   "source": [
    "main(\n",
    "    spoj_jmeno_a_prijmeni_velkymi_pismeny,\n",
    "    [(\"Petr\", \"Svetr\"), (\"Adam\", \"Novák\"), (\"Matouš\", \"Holinka\")]\n",
    ")"
   ]
  },
  {
   "cell_type": "markdown",
   "metadata": {},
   "source": [
    "### Funkce vrací hodnoty\n",
    "\n",
    "---"
   ]
  },
  {
   "cell_type": "code",
   "execution_count": 14,
   "metadata": {},
   "outputs": [],
   "source": [
    "import datetime"
   ]
  },
  {
   "cell_type": "code",
   "execution_count": 15,
   "metadata": {},
   "outputs": [],
   "source": [
    "def zapis_zpravu(text):\n",
    "    aktualni_datum = datetime.datetime.now().strftime(\"%d/%m/%Y\")\n",
    "    return f\"{aktualni_datum}: {text}\""
   ]
  },
  {
   "cell_type": "code",
   "execution_count": 16,
   "metadata": {},
   "outputs": [
    {
     "data": {
      "text/plain": [
       "'16/11/2022: Ahoj, tady Matouš'"
      ]
     },
     "execution_count": 16,
     "metadata": {},
     "output_type": "execute_result"
    }
   ],
   "source": [
    "zapis_zpravu(\"Ahoj, tady Matouš\")"
   ]
  },
  {
   "cell_type": "markdown",
   "metadata": {},
   "source": [
    "### Funkce vrací funkce\n",
    "\n",
    "---"
   ]
  },
  {
   "cell_type": "code",
   "execution_count": 17,
   "metadata": {},
   "outputs": [],
   "source": [
    "def zformatuj_text(text):\n",
    "    return text.split(\": \")[1][::2].upper()"
   ]
  },
  {
   "cell_type": "code",
   "execution_count": 18,
   "metadata": {},
   "outputs": [
    {
     "data": {
      "text/plain": [
       "'AO,TD AOŠ'"
      ]
     },
     "execution_count": 18,
     "metadata": {},
     "output_type": "execute_result"
    }
   ],
   "source": [
    "zformatuj_text('16/11/2022: Ahoj, tady Matouš')"
   ]
  },
  {
   "cell_type": "code",
   "execution_count": 19,
   "metadata": {},
   "outputs": [],
   "source": [
    "def zapis_zpravu(text):\n",
    "    aktualni_datum = datetime.datetime.now().strftime(\"%d:%m:%Y\")\n",
    "    return zformatuj_text(f\"{aktualni_datum}: {text}\")"
   ]
  },
  {
   "cell_type": "code",
   "execution_count": 20,
   "metadata": {},
   "outputs": [
    {
     "data": {
      "text/plain": [
       "'AO,TD AOŠ'"
      ]
     },
     "execution_count": 20,
     "metadata": {},
     "output_type": "execute_result"
    }
   ],
   "source": [
    "zapis_zpravu(\"Ahoj, tady Matouš\")"
   ]
  },
  {
   "cell_type": "markdown",
   "metadata": {},
   "source": [
    "Místo aby funkce `zapis_zpravu` vracela hodnotu **naformátovaného stringu** (ze třetí ukázky), teď vrací volání jiné funkce (tedy `zformatuj_text`).\n",
    "\n",
    "Narozdíl od **obyčejných proměnných**, které by *uživatelská funkce* mimo parametr neměla upravovat, uživ. funkce jako takový prohřešek nejsou.\n",
    "\n",
    "Dovnitř *uživatelských funkcí* sice nevidí, ale jejich odkazy (jména) *intepret* eviduje již při definici.\n",
    "\n",
    "Pořád ale platí, že je nutné dávat pozor **na kolize ve jménech objektů**."
   ]
  },
  {
   "cell_type": "markdown",
   "metadata": {},
   "source": [
    "### Rekurzivní zápis\n",
    "\n",
    "---"
   ]
  },
  {
   "cell_type": "markdown",
   "metadata": {},
   "source": [
    "*Rekurzivní zápis* je takový, kdy **uživatelská funkce** volá (spouští) sebe sama."
   ]
  },
  {
   "cell_type": "code",
   "execution_count": 21,
   "metadata": {},
   "outputs": [],
   "source": [
    "def secti_sekvenci_cisel(cisla):\n",
    "    if len(cisla) == 1:\n",
    "        return cisla[0]\n",
    "    else:\n",
    "        return cisla[0] + secti_sekvenci_cisel(cisla[1:])"
   ]
  },
  {
   "cell_type": "code",
   "execution_count": 22,
   "metadata": {},
   "outputs": [
    {
     "name": "stdout",
     "output_type": "stream",
     "text": [
      "10\n"
     ]
    }
   ],
   "source": [
    "print(secti_sekvenci_cisel((1, 2, 3, 4)))"
   ]
  },
  {
   "cell_type": "markdown",
   "metadata": {},
   "source": [
    "Na většinu zadání v programování není optimální *rekurzivní zápis* funkce používat:\n",
    "1. Pokud řešení zápisu není elegantní a působí komplikovaně,\n",
    "2. rekurze bere více paměti než nerekurzivní řešení,\n",
    "3. runtime rekurzivního zápisu může trvat delší dobu.\n",
    "\n",
    "Jsou ovšem scénaře, kde se naopak rekurze perfektně hodí.\n",
    "\n",
    "Dokonce bude **stručnější a čitelnější**. Třeba procházení *stromových datových struktur*."
   ]
  },
  {
   "cell_type": "markdown",
   "metadata": {},
   "source": [
    "### Rekurzivně\n",
    "\n",
    "---"
   ]
  },
  {
   "cell_type": "code",
   "execution_count": 23,
   "metadata": {},
   "outputs": [],
   "source": [
    "from timeit import timeit"
   ]
  },
  {
   "cell_type": "code",
   "execution_count": null,
   "metadata": {},
   "outputs": [],
   "source": [
    "def vypocitej_faktorial_r(cislo):\n",
    "    if cislo <= 1:\n",
    "        return 1\n",
    "    else:\n",
    "        return cislo * vypocitej_faktorial_r(cislo - 1)"
   ]
  },
  {
   "cell_type": "code",
   "execution_count": 24,
   "metadata": {},
   "outputs": [],
   "source": [
    "r_ohlaseni = \"\"\"\n",
    "print(\"Délka rekurzivní řešení:\")\n",
    "def vypocitej_faktorial_r(cislo):\n",
    "    if cislo <= 1:\n",
    "        return 1\n",
    "    else:\n",
    "        return cislo * vypocitej_faktorial_r(cislo - 1)\n",
    "\"\"\""
   ]
  },
  {
   "cell_type": "code",
   "execution_count": 25,
   "metadata": {},
   "outputs": [
    {
     "name": "stdout",
     "output_type": "stream",
     "text": [
      "Délka rekurzivní řešení:\n"
     ]
    },
    {
     "data": {
      "text/plain": [
       "25.613367286016"
      ]
     },
     "execution_count": 25,
     "metadata": {},
     "output_type": "execute_result"
    }
   ],
   "source": [
    "timeit(\"vypocitej_faktorial_r(10)\", setup=r_ohlaseni, number=10_000_000)"
   ]
  },
  {
   "cell_type": "markdown",
   "metadata": {},
   "source": [
    "### Nerekurzivně\n",
    "\n",
    "---"
   ]
  },
  {
   "cell_type": "code",
   "execution_count": null,
   "metadata": {},
   "outputs": [],
   "source": [
    "def vypocitej_faktorial(cislo):\n",
    "    vracena_hodnota = 1\n",
    "    \n",
    "    for hodnota in range(2, cislo + 1):\n",
    "        vracena_hodnota *= hodnota\n",
    "    else:\n",
    "        return vracena_hodnota"
   ]
  },
  {
   "cell_type": "code",
   "execution_count": null,
   "metadata": {},
   "outputs": [],
   "source": [
    "vypocitej_faktorial(10)"
   ]
  },
  {
   "cell_type": "code",
   "execution_count": 26,
   "metadata": {},
   "outputs": [],
   "source": [
    "ohlaseni = \"\"\"\n",
    "print(\"Délka nerekurzivní řešení:\")\n",
    "def vypocitej_faktorial(cislo):\n",
    "    vracena_hodnota = 1\n",
    "    for hodnota in range(2, cislo + 1):\n",
    "        vracena_hodnota *= hodnota\n",
    "    else:\n",
    "        return vracena_hodnota\n",
    "\"\"\""
   ]
  },
  {
   "cell_type": "code",
   "execution_count": 27,
   "metadata": {},
   "outputs": [
    {
     "name": "stdout",
     "output_type": "stream",
     "text": [
      "Délka nerekurzivní řešení:\n"
     ]
    },
    {
     "data": {
      "text/plain": [
       "13.834217059018556"
      ]
     },
     "execution_count": 27,
     "metadata": {},
     "output_type": "execute_result"
    }
   ],
   "source": [
    "timeit(\"vypocitej_faktorial(10)\", setup=ohlaseni, number=10_000_000)"
   ]
  },
  {
   "cell_type": "markdown",
   "metadata": {},
   "source": [
    "### Funkce implementovaná v C\n",
    "\n",
    "---"
   ]
  },
  {
   "cell_type": "code",
   "execution_count": 28,
   "metadata": {},
   "outputs": [],
   "source": [
    "c_ohlaseni = \"from math import factorial\\nprint('Délka řešení C funkcí:')\""
   ]
  },
  {
   "cell_type": "code",
   "execution_count": 29,
   "metadata": {},
   "outputs": [
    {
     "name": "stdout",
     "output_type": "stream",
     "text": [
      "Délka řešení C funkcí:\n"
     ]
    },
    {
     "data": {
      "text/plain": [
       "1.3915424359729514"
      ]
     },
     "execution_count": 29,
     "metadata": {},
     "output_type": "execute_result"
    }
   ],
   "source": [
    "timeit(\"factorial(10)\", setup=c_ohlaseni, number=10_000_000)"
   ]
  },
  {
   "cell_type": "markdown",
   "metadata": {},
   "source": [
    "<br>\n",
    "\n",
    "<img src=\"https://external-content.duckduckgo.com/iu/?u=https%3A%2F%2Ftse3.mm.bing.net%2Fth%3Fid%3DOIP.GMJvJ-GG0YS8H5JmHR3CbwHaHm%26pid%3DApi&f=1&ipt=110157bae9409977a59d895a970a6d51afa8a31e0c7fca53a1f95fd2402f9a35&ipo=images\" width=\"200\">\n",
    "\n",
    "## Domácí úkol\n",
    "\n",
    "---"
   ]
  },
  {
   "cell_type": "markdown",
   "metadata": {},
   "source": [
    "Napiš soubor funkcí, které bude spouštět hlavní funkce `main`.\n",
    "\n",
    "Tato funkce bude umět generovat captcha kód o libovolné délkce znaků.\n",
    "\n",
    "Bude umět přidávat číselné znaky, malá písmena, velká písmena, podle zadání:\n",
    "```\n",
    "ZDngoM  # malá a velká písmena, délka 6 znaků\n",
    "ngom    # malá písmena, délka 4 znaků\n",
    "ZDng0   # malá, velká písmena, čísla , délka 5 znaků\n",
    "```"
   ]
  },
  {
   "cell_type": "markdown",
   "metadata": {},
   "source": [
    "Skript musí obsahovat tyto funkce:\n",
    "1. `vrat_ciselne_znaky`,\n",
    "2. `vrat_male_textove_znaky`,\n",
    "3. `vrat_velke_textove_znaky`,\n",
    "4. `vytvor_captchu`,\n",
    "5. `vytvor_davku`, (*volitelné*)\n",
    "6. `main`,"
   ]
  },
  {
   "cell_type": "code",
   "execution_count": null,
   "metadata": {},
   "outputs": [],
   "source": [
    "print(vytvor_davku(3))"
   ]
  },
  {
   "cell_type": "code",
   "execution_count": 36,
   "metadata": {},
   "outputs": [
    {
     "data": {
      "text/plain": [
       "b'T\\xf8eb\\xed\\xe8'"
      ]
     },
     "execution_count": 36,
     "metadata": {},
     "output_type": "execute_result"
    }
   ],
   "source": [
    "\"Třebíč\".encode(\"cp1250\")"
   ]
  },
  {
   "cell_type": "code",
   "execution_count": 31,
   "metadata": {},
   "outputs": [
    {
     "data": {
      "text/plain": [
       "'Třebíč'"
      ]
     },
     "execution_count": 31,
     "metadata": {},
     "output_type": "execute_result"
    }
   ],
   "source": [
    "b'T\\xc5\\x99eb\\xc3\\xad\\xc4\\x8d'.decode(\"utf-8\")"
   ]
  },
  {
   "cell_type": "code",
   "execution_count": 32,
   "metadata": {},
   "outputs": [
    {
     "name": "stdout",
     "output_type": "stream",
     "text": [
      "Collecting fuzzywuzzy\n",
      "  Downloading fuzzywuzzy-0.18.0-py2.py3-none-any.whl (18 kB)\n",
      "Installing collected packages: fuzzywuzzy\n",
      "Successfully installed fuzzywuzzy-0.18.0\n"
     ]
    }
   ],
   "source": [
    "!pip install fuzzywuzzy"
   ]
  },
  {
   "cell_type": "code",
   "execution_count": 33,
   "metadata": {},
   "outputs": [
    {
     "name": "stderr",
     "output_type": "stream",
     "text": [
      "/opt/conda/lib/python3.8/site-packages/fuzzywuzzy/fuzz.py:11: UserWarning: Using slow pure-python SequenceMatcher. Install python-Levenshtein to remove this warning\n",
      "  warnings.warn('Using slow pure-python SequenceMatcher. Install python-Levenshtein to remove this warning')\n"
     ]
    }
   ],
   "source": [
    "from fuzzywuzzy[speedup] import fuzz"
   ]
  },
  {
   "cell_type": "code",
   "execution_count": 34,
   "metadata": {},
   "outputs": [
    {
     "data": {
      "text/plain": [
       "50"
      ]
     },
     "execution_count": 34,
     "metadata": {},
     "output_type": "execute_result"
    }
   ],
   "source": [
    "fuzz.ratio(\"Třebíč\", \"Trebic\")"
   ]
  },
  {
   "cell_type": "markdown",
   "metadata": {},
   "source": [
    "---"
   ]
  }
 ],
 "metadata": {
  "kernelspec": {
   "display_name": "Python 3",
   "language": "python",
   "name": "python3"
  },
  "language_info": {
   "codemirror_mode": {
    "name": "ipython",
    "version": 3
   },
   "file_extension": ".py",
   "mimetype": "text/x-python",
   "name": "python",
   "nbconvert_exporter": "python",
   "pygments_lexer": "ipython3",
   "version": "3.8.6"
  }
 },
 "nbformat": 4,
 "nbformat_minor": 4
}
