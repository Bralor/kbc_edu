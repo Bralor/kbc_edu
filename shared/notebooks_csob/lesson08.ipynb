{
 "cells": [
  {
   "cell_type": "markdown",
   "metadata": {},
   "source": [
    "## Úvod\n",
    "\n",
    "---\n",
    "\n",
    "1. [Vstupy funkcí](),\n",
    "2. [rámce](),\n",
    "3. [funkce jako objekt](),\n",
    "4. [domácí úkol]().\n",
    "\n",
    "---"
   ]
  },
  {
   "cell_type": "markdown",
   "metadata": {},
   "source": [
    "<br>\n",
    "\n",
    "<img src=\"https://external-content.duckduckgo.com/iu/?u=https%3A%2F%2Ftse1.mm.bing.net%2Fth%3Fid%3DOIP.qpcc6K7Yys3TFhifE4tuywHaHa%26pid%3DApi&f=1&ipt=b330b6e19fba2fceb06c29cb1f32b58d348ccefa9c27b39dedc996951b8c0588&ipo=images\" width=\"250\">\n",
    "\n",
    "## Pokročilá problematika okolo uživatelských funkcí\n",
    "\n",
    "---"
   ]
  },
  {
   "cell_type": "markdown",
   "metadata": {},
   "source": [
    "## Vstupy funkcí\n",
    "\n",
    "---"
   ]
  },
  {
   "cell_type": "markdown",
   "metadata": {},
   "source": [
    "*Vstupem* pro uživatelskou funkci obecně můžeš rozumět:\n",
    "1. **Parametry**, sloužící jako obecné proměnné při definici,\n",
    "2. **argumenty**, tedy konkrétní hodnoty, které vkládáš při spouštění."
   ]
  },
  {
   "cell_type": "code",
   "execution_count": 14,
   "metadata": {},
   "outputs": [],
   "source": [
    "def ziskej_zpravu_z_logu(zaznam: str) -> list:\n",
    "    \"\"\"\n",
    "    Vrať zprávu ze zadaného logu.\n",
    "\n",
    "    :Example:\n",
    "    >>> m1 = \"2006-02-08 22:20:02,165: 192.168.0.1\" \\\n",
    "    \": fbloggs: Protocol problem: connection reset\"\n",
    "    >>> print(ziskej_zpravu_z_logu(m1))\n",
    "    [' Protocol problem', ' connection reset']\n",
    "    \"\"\"\n",
    "    return zaznam.split(\":\")[-2:]\n",
    "\n",
    "\n",
    "# import doctest\n",
    "# doctest.testmod()"
   ]
  },
  {
   "cell_type": "code",
   "execution_count": 15,
   "metadata": {},
   "outputs": [
    {
     "name": "stdout",
     "output_type": "stream",
     "text": [
      "[' Protocol problem', ' connection reset']\n"
     ]
    }
   ],
   "source": [
    "print(ziskej_zpravu_z_logu(\n",
    "    \"2006-02-08 22:20:02,165: 192.168.0.1: fbloggs: Protocol problem: connection reset\")\n",
    ")"
   ]
  },
  {
   "cell_type": "markdown",
   "metadata": {},
   "source": [
    "<br>\n",
    "\n",
    "Vstupy do funkcí ale nemusíš skládat pouze pořadí.\n",
    "\n",
    "Existuje dokonce několik vzorů, které můžeš vyzkoušet."
   ]
  },
  {
   "cell_type": "markdown",
   "metadata": {},
   "source": [
    "<br>\n",
    "\n",
    "Důvod je prostý, každá *uživatelská funkce* je trochu jiná.\n",
    "\n",
    "Proto existuje tento seznam různých vzorů:\n",
    "* **poziční parametry** (argumenty),\n",
    "* **klíčové argumenty**,\n",
    "* **defaultní parametry**,\n",
    "* **position-only** parametry,\n",
    "* **\\*args**,\n",
    "* **\\*\\*kwargs**."
   ]
  },
  {
   "cell_type": "markdown",
   "metadata": {},
   "source": [
    "### Poziční parametry\n",
    "\n",
    "---\n",
    "\n",
    "Ze jména je patrné, že v této variantě záleží na pozici (tedy pořadí), ve kterém parametry (i argumenty) zapíšeš:"
   ]
  },
  {
   "cell_type": "code",
   "execution_count": 16,
   "metadata": {},
   "outputs": [],
   "source": [
    "def uloz_informace(jmeno, prijmeni, telefon):\n",
    "    return {\n",
    "        \"jmeno\": jmeno,\n",
    "        \"prijmeni\": prijmeni,\n",
    "        \"telefon\": telefon\n",
    "    }"
   ]
  },
  {
   "cell_type": "code",
   "execution_count": 17,
   "metadata": {},
   "outputs": [
    {
     "name": "stdout",
     "output_type": "stream",
     "text": [
      "{'jmeno': 'Matouš', 'prijmeni': 'Holinka', 'telefon': '+420 777 666 555'}\n"
     ]
    }
   ],
   "source": [
    "print(uloz_informace(\"Matouš\", \"Holinka\", \"+420 777 666 555\"))"
   ]
  },
  {
   "cell_type": "markdown",
   "metadata": {},
   "source": [
    "V ukázce vidíš, že parametry jsou uspořádané **za sebou**.\n",
    "\n",
    "Jednotlivé argumenty jsou potom zapsané **v odpovídajícím pořadí**:\n",
    "\n",
    "| Pozice | Parametr | Argument |\n",
    "| :-: | :-: | :-: |\n",
    "| 1 | jmeno | \"Matouš\" |\n",
    "| 2 | prijmeni | \"Holinka\" |\n",
    "| 3 | telefon | \"420 777 666 555\" |\n",
    "\n",
    "<br>\n",
    "\n",
    "Současně jde o jednu **z nejpoužívanějších a nejznámějších variant**.\n",
    "\n",
    "Takže pokud není komplikované pochopit, jaký *argument* patří do jakého *parametru*, budeš chtít zapsat vstupy touto formou."
   ]
  },
  {
   "cell_type": "markdown",
   "metadata": {},
   "source": [
    "### Klíčové argumenty\n",
    "\n",
    "---\n",
    "\n",
    "Zapisování *podle pozice* nemusí být ale vždy přehledné.\n",
    "\n",
    "Třeba pokud jsou všechny tři parametry **stejného datového typu** (`int`) a ještě jsou samotné **hodnoty podobné**:"
   ]
  },
  {
   "cell_type": "code",
   "execution_count": 18,
   "metadata": {},
   "outputs": [],
   "source": [
    "def vypocitej_hodnotu(koef_1, koef_2, koef_3):\n",
    "    \"\"\"\n",
    "    Vrať výslednou hodnotu vypočítanou pomocí tři zadaných koeficientů.\n",
    "    \"\"\"\n",
    "    return (1 / koef_1) * (koef_2 ** koef_3)"
   ]
  },
  {
   "cell_type": "code",
   "execution_count": 19,
   "metadata": {},
   "outputs": [
    {
     "name": "stdout",
     "output_type": "stream",
     "text": [
      "16.0\n"
     ]
    }
   ],
   "source": [
    "print(vypocitej_hodnotu(1, 2, 4))"
   ]
  },
  {
   "cell_type": "markdown",
   "metadata": {},
   "source": [
    "V ukázce je definice funkce `vypocitej_hodnotu` s parametry, představující koeficienty rovnice.\n",
    "\n",
    "<br>\n",
    "\n",
    "Ve všech třech parametrech se počítá **s číselnou hodnotu**.\n",
    "\n",
    "Jejich umístění **ve vzorečku je zásadní**, jinak dostaneš odlišné výsledky.\n",
    "\n",
    "Právě v takovém případě je velice příhodné přiřadit jednotlivé hodnoty **explicitně k příslušným parametrům**:"
   ]
  },
  {
   "cell_type": "code",
   "execution_count": 20,
   "metadata": {},
   "outputs": [],
   "source": [
    "def vypocitej_hodnotu(koef_1, koef_2, koef_3):\n",
    "    \"\"\"\n",
    "    Vrať výslednou hodnotu vypočítanou pomocí tři zadaných koeficientů.\n",
    "    \"\"\"\n",
    "    return (1 / koef_1) * (koef_2 ** koef_3)"
   ]
  },
  {
   "cell_type": "code",
   "execution_count": 21,
   "metadata": {},
   "outputs": [
    {
     "name": "stdout",
     "output_type": "stream",
     "text": [
      "18.0\n"
     ]
    }
   ],
   "source": [
    "print(vypocitej_hodnotu(koef_1=0.5, koef_2=3, koef_3=2))"
   ]
  },
  {
   "cell_type": "markdown",
   "metadata": {},
   "source": [
    "Nebo udělat spuštění funkce **ještě přehlednější** pomocí zápisu pod sebe:"
   ]
  },
  {
   "cell_type": "code",
   "execution_count": 23,
   "metadata": {},
   "outputs": [
    {
     "name": "stdout",
     "output_type": "stream",
     "text": [
      "18.0\n"
     ]
    }
   ],
   "source": [
    "print(\n",
    "    vypocitej_hodnotu(\n",
    "        koef_1=0.5,\n",
    "        koef_2=3,\n",
    "        koef_3=2\n",
    "    )\n",
    ")"
   ]
  },
  {
   "cell_type": "markdown",
   "metadata": {},
   "source": [
    "Takže pokud budeš mít **větší množství parametrů**, nebo se v nich budeš ztrácet, určitě použij tuto variantu."
   ]
  },
  {
   "cell_type": "markdown",
   "metadata": {},
   "source": [
    "### Defaultní parametry\n",
    "\n",
    "---\n",
    "\n",
    "Někdy dojdeš k závěru, že *uživatelská funkce*, kterou tvoříš, potřebuje alespoň **jeden parametr**, který bude ve většině spouštění používat tutéž hodnotu.\n",
    "\n",
    "V takovém případě můžeš do předpisu zapsat *defaultní parametr*:"
   ]
  },
  {
   "cell_type": "code",
   "execution_count": 28,
   "metadata": {},
   "outputs": [],
   "source": [
    "from urllib.parse import urljoin"
   ]
  },
  {
   "cell_type": "code",
   "execution_count": 29,
   "metadata": {},
   "outputs": [],
   "source": [
    "def vytvor_adresu(url_path, base_url=\"https://www.brickranker.com\"):\n",
    "    return urljoin(base_url, url_path)"
   ]
  },
  {
   "cell_type": "code",
   "execution_count": 31,
   "metadata": {},
   "outputs": [
    {
     "name": "stdout",
     "output_type": "stream",
     "text": [
      "https://www.brickranker.com/rankings\n"
     ]
    }
   ],
   "source": [
    "print(vytvor_adresu(\"rankings\"))"
   ]
  },
  {
   "cell_type": "markdown",
   "metadata": {},
   "source": [
    "Při spuštění funkce `vytvor_pozdrav` není přítomen **žádný druhý argument** a funkci lze přesto spustit."
   ]
  },
  {
   "cell_type": "code",
   "execution_count": 33,
   "metadata": {},
   "outputs": [
    {
     "name": "stdout",
     "output_type": "stream",
     "text": [
      "https://www.brickranker.com/news\n"
     ]
    }
   ],
   "source": [
    "print(vytvor_adresu(\"news\"))"
   ]
  },
  {
   "cell_type": "markdown",
   "metadata": {},
   "source": [
    "Takže pokud **nevložíš žádný argument**, bude funkce `vytvor_pozdrav` automaticky pracovat se stringem `\"https://www.brickranker.com\"`.\n",
    "\n",
    "Pokud se však rozhodneš, že tebou zadaný **defaultní parametr** bude potřeba upravit, můžeš jej snadno přepsat jinou hodnotou:"
   ]
  },
  {
   "cell_type": "code",
   "execution_count": 35,
   "metadata": {},
   "outputs": [
    {
     "name": "stdout",
     "output_type": "stream",
     "text": [
      "https://engeto.cz/prehled-kurzu\n"
     ]
    }
   ],
   "source": [
    "print(vytvor_adresu(\"prehled-kurzu\", \"https://engeto.cz\"))"
   ]
  },
  {
   "cell_type": "markdown",
   "metadata": {},
   "source": [
    "### Jen poziční parametry\n",
    "\n",
    "---\n",
    "\n",
    "Od verze **Pythonu 3.8** je dostupná tato nová varianta pro zápis parametrů u *uživatelských funkcí*:"
   ]
  },
  {
   "cell_type": "code",
   "execution_count": 42,
   "metadata": {},
   "outputs": [],
   "source": [
    "def vypis_pozdrav(jmeno, /, je_uzivatel):\n",
    "    if je_uzivatel:\n",
    "        print(\"Ahoj,\", jmeno)\n",
    "    else:\n",
    "        print(\"Nejsi uživatel!\")"
   ]
  },
  {
   "cell_type": "code",
   "execution_count": 44,
   "metadata": {},
   "outputs": [
    {
     "name": "stdout",
     "output_type": "stream",
     "text": [
      "Ahoj, Matouš\n"
     ]
    }
   ],
   "source": [
    "vypis_pozdrav(\"Matouš\", je_uzivatel=True)"
   ]
  },
  {
   "cell_type": "code",
   "execution_count": 47,
   "metadata": {},
   "outputs": [
    {
     "name": "stdout",
     "output_type": "stream",
     "text": [
      "Ahoj, Matouš\n"
     ]
    }
   ],
   "source": [
    "vypis_pozdrav(\"Matouš\", True)"
   ]
  },
  {
   "cell_type": "markdown",
   "metadata": {},
   "source": [
    "Účelem tohoto typu **zápisu argmentů** je **vynutit od uživatele** zápis všech parametrů nalevo od lomítka `\\` jako poziční argumentů:"
   ]
  },
  {
   "cell_type": "code",
   "execution_count": 49,
   "metadata": {},
   "outputs": [
    {
     "ename": "TypeError",
     "evalue": "vypis_pozdrav() got some positional-only arguments passed as keyword arguments: 'jmeno'",
     "output_type": "error",
     "traceback": [
      "\u001b[0;31m---------------------------------------------------------------------------\u001b[0m",
      "\u001b[0;31mTypeError\u001b[0m                                 Traceback (most recent call last)",
      "\u001b[0;32m<ipython-input-49-e005fd43a6ed>\u001b[0m in \u001b[0;36m<module>\u001b[0;34m\u001b[0m\n\u001b[0;32m----> 1\u001b[0;31m \u001b[0mvypis_pozdrav\u001b[0m\u001b[0;34m(\u001b[0m\u001b[0mjmeno\u001b[0m\u001b[0;34m=\u001b[0m\u001b[0;34m\"Matouš\"\u001b[0m\u001b[0;34m,\u001b[0m \u001b[0mje_uzivatel\u001b[0m\u001b[0;34m=\u001b[0m\u001b[0;32mTrue\u001b[0m\u001b[0;34m)\u001b[0m\u001b[0;34m\u001b[0m\u001b[0;34m\u001b[0m\u001b[0m\n\u001b[0m",
      "\u001b[0;31mTypeError\u001b[0m: vypis_pozdrav() got some positional-only arguments passed as keyword arguments: 'jmeno'"
     ]
    }
   ],
   "source": [
    "vypis_pozdrav(jmeno=\"Matouš\", je_uzivatel=True)"
   ]
  },
  {
   "cell_type": "code",
   "execution_count": 48,
   "metadata": {},
   "outputs": [
    {
     "ename": "SyntaxError",
     "evalue": "positional argument follows keyword argument (<ipython-input-48-d80f1aa8f5cf>, line 1)",
     "output_type": "error",
     "traceback": [
      "\u001b[0;36m  File \u001b[0;32m\"<ipython-input-48-d80f1aa8f5cf>\"\u001b[0;36m, line \u001b[0;32m1\u001b[0m\n\u001b[0;31m    vypis_pozdrav(jmeno=\"Matouš\", True)\u001b[0m\n\u001b[0m                                   ^\u001b[0m\n\u001b[0;31mSyntaxError\u001b[0m\u001b[0;31m:\u001b[0m positional argument follows keyword argument\n"
     ]
    }
   ],
   "source": [
    "vypis_pozdrav(jmeno=\"Matouš\", True)"
   ]
  },
  {
   "cell_type": "markdown",
   "metadata": {},
   "source": [
    "Zatím co parametry napravo od lomítka můžeš:\n",
    "* zapsat jako **poziční**,\n",
    "* zapsat jako **klíčové**.\n",
    "\n",
    "Kde se s tímto zápisem můžeš setkat:"
   ]
  },
  {
   "cell_type": "code",
   "execution_count": 50,
   "metadata": {},
   "outputs": [
    {
     "name": "stdout",
     "output_type": "stream",
     "text": [
      "Help on class float in module builtins:\n",
      "\n",
      "class float(object)\n",
      " |  float(x=0, /)\n",
      " |  \n",
      " |  Convert a string or number to a floating point number, if possible.\n",
      " |  \n",
      " |  Methods defined here:\n",
      " |  \n",
      " |  __abs__(self, /)\n",
      " |      abs(self)\n",
      " |  \n",
      " |  __add__(self, value, /)\n",
      " |      Return self+value.\n",
      " |  \n",
      " |  __bool__(self, /)\n",
      " |      self != 0\n",
      " |  \n",
      " |  __divmod__(self, value, /)\n",
      " |      Return divmod(self, value).\n",
      " |  \n",
      " |  __eq__(self, value, /)\n",
      " |      Return self==value.\n",
      " |  \n",
      " |  __float__(self, /)\n",
      " |      float(self)\n",
      " |  \n",
      " |  __floordiv__(self, value, /)\n",
      " |      Return self//value.\n",
      " |  \n",
      " |  __format__(self, format_spec, /)\n",
      " |      Formats the float according to format_spec.\n",
      " |  \n",
      " |  __ge__(self, value, /)\n",
      " |      Return self>=value.\n",
      " |  \n",
      " |  __getattribute__(self, name, /)\n",
      " |      Return getattr(self, name).\n",
      " |  \n",
      " |  __getnewargs__(self, /)\n",
      " |  \n",
      " |  __gt__(self, value, /)\n",
      " |      Return self>value.\n",
      " |  \n",
      " |  __hash__(self, /)\n",
      " |      Return hash(self).\n",
      " |  \n",
      " |  __int__(self, /)\n",
      " |      int(self)\n",
      " |  \n",
      " |  __le__(self, value, /)\n",
      " |      Return self<=value.\n",
      " |  \n",
      " |  __lt__(self, value, /)\n",
      " |      Return self<value.\n",
      " |  \n",
      " |  __mod__(self, value, /)\n",
      " |      Return self%value.\n",
      " |  \n",
      " |  __mul__(self, value, /)\n",
      " |      Return self*value.\n",
      " |  \n",
      " |  __ne__(self, value, /)\n",
      " |      Return self!=value.\n",
      " |  \n",
      " |  __neg__(self, /)\n",
      " |      -self\n",
      " |  \n",
      " |  __pos__(self, /)\n",
      " |      +self\n",
      " |  \n",
      " |  __pow__(self, value, mod=None, /)\n",
      " |      Return pow(self, value, mod).\n",
      " |  \n",
      " |  __radd__(self, value, /)\n",
      " |      Return value+self.\n",
      " |  \n",
      " |  __rdivmod__(self, value, /)\n",
      " |      Return divmod(value, self).\n",
      " |  \n",
      " |  __repr__(self, /)\n",
      " |      Return repr(self).\n",
      " |  \n",
      " |  __rfloordiv__(self, value, /)\n",
      " |      Return value//self.\n",
      " |  \n",
      " |  __rmod__(self, value, /)\n",
      " |      Return value%self.\n",
      " |  \n",
      " |  __rmul__(self, value, /)\n",
      " |      Return value*self.\n",
      " |  \n",
      " |  __round__(self, ndigits=None, /)\n",
      " |      Return the Integral closest to x, rounding half toward even.\n",
      " |      \n",
      " |      When an argument is passed, work like built-in round(x, ndigits).\n",
      " |  \n",
      " |  __rpow__(self, value, mod=None, /)\n",
      " |      Return pow(value, self, mod).\n",
      " |  \n",
      " |  __rsub__(self, value, /)\n",
      " |      Return value-self.\n",
      " |  \n",
      " |  __rtruediv__(self, value, /)\n",
      " |      Return value/self.\n",
      " |  \n",
      " |  __sub__(self, value, /)\n",
      " |      Return self-value.\n",
      " |  \n",
      " |  __truediv__(self, value, /)\n",
      " |      Return self/value.\n",
      " |  \n",
      " |  __trunc__(self, /)\n",
      " |      Return the Integral closest to x between 0 and x.\n",
      " |  \n",
      " |  as_integer_ratio(self, /)\n",
      " |      Return integer ratio.\n",
      " |      \n",
      " |      Return a pair of integers, whose ratio is exactly equal to the original float\n",
      " |      and with a positive denominator.\n",
      " |      \n",
      " |      Raise OverflowError on infinities and a ValueError on NaNs.\n",
      " |      \n",
      " |      >>> (10.0).as_integer_ratio()\n",
      " |      (10, 1)\n",
      " |      >>> (0.0).as_integer_ratio()\n",
      " |      (0, 1)\n",
      " |      >>> (-.25).as_integer_ratio()\n",
      " |      (-1, 4)\n",
      " |  \n",
      " |  conjugate(self, /)\n",
      " |      Return self, the complex conjugate of any float.\n",
      " |  \n",
      " |  hex(self, /)\n",
      " |      Return a hexadecimal representation of a floating-point number.\n",
      " |      \n",
      " |      >>> (-0.1).hex()\n",
      " |      '-0x1.999999999999ap-4'\n",
      " |      >>> 3.14159.hex()\n",
      " |      '0x1.921f9f01b866ep+1'\n",
      " |  \n",
      " |  is_integer(self, /)\n",
      " |      Return True if the float is an integer.\n",
      " |  \n",
      " |  ----------------------------------------------------------------------\n",
      " |  Class methods defined here:\n",
      " |  \n",
      " |  __getformat__(typestr, /) from builtins.type\n",
      " |      You probably don't want to use this function.\n",
      " |      \n",
      " |        typestr\n",
      " |          Must be 'double' or 'float'.\n",
      " |      \n",
      " |      It exists mainly to be used in Python's test suite.\n",
      " |      \n",
      " |      This function returns whichever of 'unknown', 'IEEE, big-endian' or 'IEEE,\n",
      " |      little-endian' best describes the format of floating point numbers used by the\n",
      " |      C type named by typestr.\n",
      " |  \n",
      " |  __set_format__(typestr, fmt, /) from builtins.type\n",
      " |      You probably don't want to use this function.\n",
      " |      \n",
      " |        typestr\n",
      " |          Must be 'double' or 'float'.\n",
      " |        fmt\n",
      " |          Must be one of 'unknown', 'IEEE, big-endian' or 'IEEE, little-endian',\n",
      " |          and in addition can only be one of the latter two if it appears to\n",
      " |          match the underlying C reality.\n",
      " |      \n",
      " |      It exists mainly to be used in Python's test suite.\n",
      " |      \n",
      " |      Override the automatic determination of C-level floating point type.\n",
      " |      This affects how floats are converted to and from binary strings.\n",
      " |  \n",
      " |  fromhex(string, /) from builtins.type\n",
      " |      Create a floating-point number from a hexadecimal string.\n",
      " |      \n",
      " |      >>> float.fromhex('0x1.ffffp10')\n",
      " |      2047.984375\n",
      " |      >>> float.fromhex('-0x1p-1074')\n",
      " |      -5e-324\n",
      " |  \n",
      " |  ----------------------------------------------------------------------\n",
      " |  Static methods defined here:\n",
      " |  \n",
      " |  __new__(*args, **kwargs) from builtins.type\n",
      " |      Create and return a new object.  See help(type) for accurate signature.\n",
      " |  \n",
      " |  ----------------------------------------------------------------------\n",
      " |  Data descriptors defined here:\n",
      " |  \n",
      " |  imag\n",
      " |      the imaginary part of a complex number\n",
      " |  \n",
      " |  real\n",
      " |      the real part of a complex number\n",
      "\n"
     ]
    }
   ],
   "source": [
    "help(float)"
   ]
  },
  {
   "cell_type": "code",
   "execution_count": 51,
   "metadata": {},
   "outputs": [
    {
     "ename": "TypeError",
     "evalue": "float() takes no keyword arguments",
     "output_type": "error",
     "traceback": [
      "\u001b[0;31m---------------------------------------------------------------------------\u001b[0m",
      "\u001b[0;31mTypeError\u001b[0m                                 Traceback (most recent call last)",
      "\u001b[0;32m<ipython-input-51-b39513a44542>\u001b[0m in \u001b[0;36m<module>\u001b[0;34m\u001b[0m\n\u001b[0;32m----> 1\u001b[0;31m \u001b[0mfloat\u001b[0m\u001b[0;34m(\u001b[0m\u001b[0mx\u001b[0m\u001b[0;34m=\u001b[0m\u001b[0;34m\"3.141\"\u001b[0m\u001b[0;34m)\u001b[0m\u001b[0;34m\u001b[0m\u001b[0;34m\u001b[0m\u001b[0m\n\u001b[0m",
      "\u001b[0;31mTypeError\u001b[0m: float() takes no keyword arguments"
     ]
    }
   ],
   "source": [
    "float(x=\"3.141\")"
   ]
  },
  {
   "cell_type": "code",
   "execution_count": 52,
   "metadata": {},
   "outputs": [
    {
     "data": {
      "text/plain": [
       "3.141"
      ]
     },
     "execution_count": 52,
     "metadata": {},
     "output_type": "execute_result"
    }
   ],
   "source": [
    "float(\"3.141\")"
   ]
  },
  {
   "cell_type": "markdown",
   "metadata": {},
   "source": [
    "Vzhledem k tomu, že je to novější varianta **není tolik běžná**.\n",
    "\n",
    "Spatřit ji můžeš tehdy, pokud chce programátor ostatní uživatele jeho uživatelských funkcí omezit při používání **klíčových argumentů**."
   ]
  },
  {
   "cell_type": "markdown",
   "metadata": {},
   "source": [
    "### *args\n",
    "\n",
    "---\n",
    "\n",
    "Pokud znáš jiné programovací jazyky (jako C nebo C++), možná v tobě znak `*` připomene tzv. *pointery*\n",
    "```c\n",
    "int *pointer_c, c;\n",
    "c = 11;\n",
    "pointer_c = &c;\n",
    "\n",
    "printf(\"Hodnota pointer_c: %d\\n\", c);    // 'Hodnota pointer_c: 11'\n",
    "printf(\"Hodnota c: %d\\n\\n\", *pointer_c); // 'Hodnota c: 11'\n",
    "```\n",
    "\n",
    "Nicméně Python tuto funcionalitu **nepodporuje**.\n",
    "\n",
    "<br>\n",
    "\n",
    "Naopak pomáhá v rámci parametrů oznámit interpretu, že funkce umí pracovat **s různým množstvím argumentů**:"
   ]
  },
  {
   "cell_type": "code",
   "execution_count": 53,
   "metadata": {},
   "outputs": [],
   "source": [
    "def vypocitej_prumer(args):\n",
    "    return sum(args) / len(args)"
   ]
  },
  {
   "cell_type": "code",
   "execution_count": 56,
   "metadata": {},
   "outputs": [
    {
     "ename": "TypeError",
     "evalue": "vypocitej_prumer() takes 1 positional argument but 5 were given",
     "output_type": "error",
     "traceback": [
      "\u001b[0;31m---------------------------------------------------------------------------\u001b[0m",
      "\u001b[0;31mTypeError\u001b[0m                                 Traceback (most recent call last)",
      "\u001b[0;32m<ipython-input-56-e705130ca770>\u001b[0m in \u001b[0;36m<module>\u001b[0;34m\u001b[0m\n\u001b[0;32m----> 1\u001b[0;31m \u001b[0mprint\u001b[0m\u001b[0;34m(\u001b[0m\u001b[0mvypocitej_prumer\u001b[0m\u001b[0;34m(\u001b[0m\u001b[0;36m1\u001b[0m\u001b[0;34m,\u001b[0m \u001b[0;36m2\u001b[0m\u001b[0;34m,\u001b[0m \u001b[0;36m3\u001b[0m\u001b[0;34m,\u001b[0m \u001b[0;36m4\u001b[0m\u001b[0;34m,\u001b[0m \u001b[0;36m5\u001b[0m\u001b[0;34m)\u001b[0m\u001b[0;34m)\u001b[0m\u001b[0;34m\u001b[0m\u001b[0;34m\u001b[0m\u001b[0m\n\u001b[0m",
      "\u001b[0;31mTypeError\u001b[0m: vypocitej_prumer() takes 1 positional argument but 5 were given"
     ]
    }
   ],
   "source": [
    "print(vypocitej_prumer(1, 2, 3, 4, 5))"
   ]
  },
  {
   "cell_type": "markdown",
   "metadata": {},
   "source": [
    "Zásadní je právě přítomnost `*`. Ta sbalí hodnoty do sekvence:"
   ]
  },
  {
   "cell_type": "code",
   "execution_count": 57,
   "metadata": {},
   "outputs": [],
   "source": [
    "def vypocitej_prumer(*args):\n",
    "    return sum(args) / len(args)"
   ]
  },
  {
   "cell_type": "code",
   "execution_count": 58,
   "metadata": {},
   "outputs": [
    {
     "name": "stdout",
     "output_type": "stream",
     "text": [
      "3.0\n"
     ]
    }
   ],
   "source": [
    "print(vypocitej_prumer(1, 2, 3, 4, 5))"
   ]
  },
  {
   "cell_type": "markdown",
   "metadata": {},
   "source": [
    "Jméno parametru `args` potom slouží hlavně jako konvence mezi programátory.\n",
    "\n",
    "V ukázce můžeš klidně použít **jiné jméno**:"
   ]
  },
  {
   "cell_type": "code",
   "execution_count": 59,
   "metadata": {},
   "outputs": [],
   "source": [
    "def vypocitej_prumer(*cislice):\n",
    "    return sum(cislice) / len(cislice)"
   ]
  },
  {
   "cell_type": "code",
   "execution_count": 60,
   "metadata": {},
   "outputs": [
    {
     "name": "stdout",
     "output_type": "stream",
     "text": [
      "3.5\n"
     ]
    }
   ],
   "source": [
    "print(vypocitej_prumer(1, 2, 3, 4, 5, 6))"
   ]
  },
  {
   "cell_type": "markdown",
   "metadata": {},
   "source": [
    "Můžeš namítnout, že podobnou situaci můžeš řešit rovnou pomocí **sekvenčního datového typu**:"
   ]
  },
  {
   "cell_type": "code",
   "execution_count": 66,
   "metadata": {},
   "outputs": [],
   "source": [
    "def vypocitej_prumer(cislice):\n",
    "    return sum(cislice) / len(cislice)"
   ]
  },
  {
   "cell_type": "code",
   "execution_count": 67,
   "metadata": {},
   "outputs": [],
   "source": [
    "cislice = (1, 2, 3, 4, 5, 6, 7)"
   ]
  },
  {
   "cell_type": "code",
   "execution_count": 68,
   "metadata": {},
   "outputs": [
    {
     "name": "stdout",
     "output_type": "stream",
     "text": [
      "4.0\n"
     ]
    }
   ],
   "source": [
    "print(vypocitej_prumer(cislice))"
   ]
  },
  {
   "cell_type": "markdown",
   "metadata": {},
   "source": [
    "Často ale nemáš možnost si takhle proměnnou pěkně nachystat (*uložit*).\n",
    "\n",
    "Třeba tehdy, pokud ti někdy číselné řady posílá, aktuální a s různou délkou:"
   ]
  },
  {
   "cell_type": "code",
   "execution_count": 69,
   "metadata": {},
   "outputs": [],
   "source": [
    "def vypocitej_prumer(cislice):\n",
    "    return sum(cislice) / len(cislice)"
   ]
  },
  {
   "cell_type": "code",
   "execution_count": 72,
   "metadata": {},
   "outputs": [
    {
     "ename": "TypeError",
     "evalue": "vypocitej_prumer() takes 1 positional argument but 2 were given",
     "output_type": "error",
     "traceback": [
      "\u001b[0;31m---------------------------------------------------------------------------\u001b[0m",
      "\u001b[0;31mTypeError\u001b[0m                                 Traceback (most recent call last)",
      "\u001b[0;32m<ipython-input-72-ca4de48c81ed>\u001b[0m in \u001b[0;36m<module>\u001b[0;34m\u001b[0m\n\u001b[1;32m      1\u001b[0m print(\n\u001b[0;32m----> 2\u001b[0;31m     \u001b[0mvypocitej_prumer\u001b[0m\u001b[0;34m(\u001b[0m\u001b[0;36m1\u001b[0m\u001b[0;34m,\u001b[0m \u001b[0;36m2\u001b[0m\u001b[0;34m)\u001b[0m\u001b[0;34m,\u001b[0m\u001b[0;34m\u001b[0m\u001b[0;34m\u001b[0m\u001b[0m\n\u001b[0m\u001b[1;32m      3\u001b[0m     \u001b[0mvypocitej_prumer\u001b[0m\u001b[0;34m(\u001b[0m\u001b[0;36m1\u001b[0m\u001b[0;34m,\u001b[0m \u001b[0;36m2\u001b[0m\u001b[0;34m,\u001b[0m \u001b[0;36m3\u001b[0m\u001b[0;34m)\u001b[0m\u001b[0;34m,\u001b[0m\u001b[0;34m\u001b[0m\u001b[0;34m\u001b[0m\u001b[0m\n\u001b[1;32m      4\u001b[0m     \u001b[0mvypocitej_prumer\u001b[0m\u001b[0;34m(\u001b[0m\u001b[0;36m1\u001b[0m\u001b[0;34m,\u001b[0m \u001b[0;36m2\u001b[0m\u001b[0;34m,\u001b[0m \u001b[0;36m3\u001b[0m\u001b[0;34m,\u001b[0m \u001b[0;36m4\u001b[0m\u001b[0;34m)\u001b[0m\u001b[0;34m,\u001b[0m\u001b[0;34m\u001b[0m\u001b[0;34m\u001b[0m\u001b[0m\n\u001b[1;32m      5\u001b[0m     \u001b[0msep\u001b[0m\u001b[0;34m=\u001b[0m\u001b[0;34m\"\\n\"\u001b[0m\u001b[0;34m\u001b[0m\u001b[0;34m\u001b[0m\u001b[0m\n",
      "\u001b[0;31mTypeError\u001b[0m: vypocitej_prumer() takes 1 positional argument but 2 were given"
     ]
    }
   ],
   "source": [
    "print(\n",
    "    vypocitej_prumer(1, 2),\n",
    "    vypocitej_prumer(1, 2, 3),\n",
    "    vypocitej_prumer(1, 2, 3, 4),\n",
    "    sep=\"\\n\"\n",
    ")"
   ]
  },
  {
   "cell_type": "code",
   "execution_count": 73,
   "metadata": {},
   "outputs": [],
   "source": [
    "def vypocitej_prumer(*cislice):\n",
    "    return sum(cislice) / len(cislice)"
   ]
  },
  {
   "cell_type": "code",
   "execution_count": 74,
   "metadata": {},
   "outputs": [
    {
     "name": "stdout",
     "output_type": "stream",
     "text": [
      "1.5\n",
      "2.0\n",
      "2.5\n"
     ]
    }
   ],
   "source": [
    "print(\n",
    "    vypocitej_prumer(1, 2),\n",
    "    vypocitej_prumer(1, 2, 3),\n",
    "    vypocitej_prumer(1, 2, 3, 4),\n",
    "    sep=\"\\n\"\n",
    ")"
   ]
  },
  {
   "cell_type": "markdown",
   "metadata": {},
   "source": [
    "Nyní funkci `vypocitej_prumer` zapsanou hvězdičkou oznamuješ, že parametr `argv` může mít jakýkoliv počet hodnot."
   ]
  },
  {
   "cell_type": "markdown",
   "metadata": {},
   "source": [
    "### **kwargs\n",
    "\n",
    "---\n",
    "\n",
    "Dalším způsobem pro *zápis vstupů*, je varianta **pomocí dvou hvězdiček** `**`.\n",
    "\n",
    "<br>\n",
    "\n",
    "Tentokrát seskupuješ dohromady libovolném množství párů:\n",
    "1. **jména objektů,\n",
    "2. **jejich hodnot**.\n",
    "\n",
    "Opět si představ situaci, že postupně dostáváš hodnoty, které potřebuješ schovávat do slovníku:"
   ]
  },
  {
   "cell_type": "code",
   "execution_count": 1,
   "metadata": {},
   "outputs": [],
   "source": [
    "def vytvor_slovnik(**kwargs):\n",
    "    \"\"\"\n",
    "    Vrať slovník, který obsahuje libovolné množství sbalených hodnot. \n",
    "    \"\"\"\n",
    "    vysledek = dict()\n",
    "    vysledek.update(kwargs)\n",
    "    return vysledek"
   ]
  },
  {
   "cell_type": "code",
   "execution_count": 2,
   "metadata": {},
   "outputs": [
    {
     "name": "stdout",
     "output_type": "stream",
     "text": [
      "{'jmeno': 'Matous', 'prijmeni': 'Holinka'}\n"
     ]
    }
   ],
   "source": [
    "print(vytvor_slovnik(jmeno=\"Matous\", prijmeni=\"Holinka\"))"
   ]
  },
  {
   "cell_type": "markdown",
   "metadata": {},
   "source": [
    "**Jméno parametru** je opět volitelné, ale je doporučováno, držet se všeobecné konvence `*kwargs` (~keyword arguments):"
   ]
  },
  {
   "cell_type": "code",
   "execution_count": 3,
   "metadata": {},
   "outputs": [],
   "source": [
    "def vytvor_slovnik(**osobni_udaje):\n",
    "    \"\"\"\n",
    "    Vrať slovník, který obsahuje libovolné množství sbalených hodnot. \n",
    "    \"\"\"\n",
    "    vysledek = dict()\n",
    "    vysledek.update(osobni_udaje)\n",
    "    return vysledek"
   ]
  },
  {
   "cell_type": "code",
   "execution_count": 4,
   "metadata": {},
   "outputs": [],
   "source": [
    "from pprint import pprint"
   ]
  },
  {
   "cell_type": "code",
   "execution_count": 5,
   "metadata": {},
   "outputs": [
    {
     "name": "stdout",
     "output_type": "stream",
     "text": [
      "{'email': 'matous@holinka.cz',\n",
      " 'jmeno': 'Matous',\n",
      " 'prijmeni': 'Holinka',\n",
      " 'vek': 90}\n"
     ]
    }
   ],
   "source": [
    "pprint(\n",
    "    vytvor_slovnik(\n",
    "        jmeno=\"Matous\",\n",
    "        prijmeni=\"Holinka\",\n",
    "        vek=90,\n",
    "        email=\"matous@holinka.cz\"\n",
    "    )\n",
    ")"
   ]
  },
  {
   "cell_type": "markdown",
   "metadata": {},
   "source": [
    "<br>\n",
    "\n",
    "<img src=\"https://external-content.duckduckgo.com/iu/?u=https%3A%2F%2Ftse1.mm.bing.net%2Fth%3Fid%3DOIP.SdA4GDooZXTMbDZDgDA6aQAAAA%26pid%3DApi&f=1\" width=\"200\">\n",
    "\n",
    "## Uživatelské funkce\n",
    "\n",
    "---"
   ]
  },
  {
   "cell_type": "markdown",
   "metadata": {},
   "source": [
    "Můžeš se dostat do situace, kdy žádná z nabízených *zabudovaných funkcí* nedělá přesně to, co potřebuješ.\n",
    "\n",
    "V takovém případě potřebuješ vytvořit vlastní funkci, která ti bude umět pomoct.\n",
    "\n",
    "<br>\n",
    "\n",
    "Tvůj úkol je napsat proces, který sečte **všechny číselné hodnoty** uvnitř sekvence."
   ]
  },
  {
   "cell_type": "code",
   "execution_count": null,
   "metadata": {},
   "outputs": [],
   "source": [
    "ciselna_rada = (1, 2, 3, 4)"
   ]
  },
  {
   "cell_type": "code",
   "execution_count": null,
   "metadata": {},
   "outputs": [],
   "source": [
    "print(sum(ciselna_rada))"
   ]
  },
  {
   "cell_type": "markdown",
   "metadata": {},
   "source": [
    "Pomocí zabudované funkce `sum` to není žádný problém.\n",
    "\n",
    "<br>"
   ]
  },
  {
   "cell_type": "markdown",
   "metadata": {},
   "source": [
    "Co když sekvence obsahuje **neočekávaný datový typ**:"
   ]
  },
  {
   "cell_type": "code",
   "execution_count": null,
   "metadata": {},
   "outputs": [],
   "source": [
    "ciselna_rada = (1, 2, 3, \"dva\", 4)"
   ]
  },
  {
   "cell_type": "code",
   "execution_count": null,
   "metadata": {},
   "outputs": [],
   "source": [
    "soucet_cisel = 0"
   ]
  },
  {
   "cell_type": "code",
   "execution_count": null,
   "metadata": {},
   "outputs": [],
   "source": [
    "for cislo in ciselna_rada:\n",
    "    if isinstance(cislo, str) and not cislo.isnumeric():\n",
    "        continue\n",
    "    soucet_cisel = soucet_cisel + int(cislo)\n",
    "else:\n",
    "    print(soucet_cisel)"
   ]
  },
  {
   "cell_type": "markdown",
   "metadata": {},
   "source": [
    "<br>\n",
    "\n",
    "Co když ale dostaneš **pět různých sekvencí**?\n",
    "\n",
    "Můžeš samozřejmě přepsat zápis pro každou sekvenci zvlášť.\n",
    "\n",
    "Ale co když těch sekvencí bude **100**, **10 000**?\n",
    "\n",
    "Právě proto existují **uživatelské funkce**, kterou stačí **jedenkrát definovat** a následně spouštět kolikrát potřebuješ:"
   ]
  },
  {
   "cell_type": "code",
   "execution_count": null,
   "metadata": {},
   "outputs": [],
   "source": [
    "ciselna_r_1 = (1, 2, 3, \"a\")\n",
    "ciselna_r_2 = (1, 2, 3, 4)\n",
    "ciselna_r_3 = (5, 6, 7, 8)\n",
    "ciselna_r_4 = (9, 10, 11, 12)"
   ]
  },
  {
   "cell_type": "code",
   "execution_count": null,
   "metadata": {},
   "outputs": [],
   "source": [
    "# Zatím neznámá syntaxe\n",
    "def secti_vsechny_cisla(sekvence):\n",
    "    soucet_cisel = 0\n",
    "\n",
    "    for cislo in sekvence:\n",
    "        if isinstance(cislo, str) and not cislo.isnumeric():\n",
    "            continue\n",
    "        soucet_cisel = soucet_cisel + int(cislo)\n",
    "    else:\n",
    "        print(soucet_cisel)"
   ]
  },
  {
   "cell_type": "code",
   "execution_count": null,
   "metadata": {},
   "outputs": [],
   "source": [
    "secti_vsechny_cisla(ciselna_r_1)\n",
    "secti_vsechny_cisla(ciselna_r_2)\n",
    "secti_vsechny_cisla(ciselna_r_3)\n",
    "secti_vsechny_cisla(ciselna_r_4)"
   ]
  },
  {
   "cell_type": "markdown",
   "metadata": {},
   "source": [
    "Ukázku výše **nemusíš nyní chápat**.\n",
    "\n",
    "Je tu hlavně pro ilustraci, jak je důležité mít uživatelské funkce."
   ]
  },
  {
   "cell_type": "markdown",
   "metadata": {},
   "source": [
    "### Předpis funkcí\n",
    "\n",
    "---\n",
    "\n",
    "Jak tedy *uživatelskou funkci* správně používat?\n",
    "\n",
    "Z jakých kroků se správné použití skládá?\n",
    "\n",
    "<br>\n",
    "\n",
    "Nejprve musíš funkci:\n",
    "1. Jednou **definovat** (*vytvořit*),\n",
    "2. a potom ji můžeš začít opakovaně **spouštět**.\n",
    "\n",
    "Pořadí je **důležité**! Takže nemůžeš spouštět takovou uživatelskou funkci, kterou **prvně nedefinuješ**.\n"
   ]
  },
  {
   "cell_type": "code",
   "execution_count": null,
   "metadata": {},
   "outputs": [],
   "source": [
    "vysledek = scitej_dve_hodnoty(1, 14)"
   ]
  },
  {
   "cell_type": "code",
   "execution_count": null,
   "metadata": {},
   "outputs": [],
   "source": [
    "def scitej_dve_hodnoty(cislo_1, cislo_2):             # POVINNÉ: Předpis funkce a parametry funkce\n",
    "    \"\"\"\n",
    "    Vraci soucet dvou hodnot uvnitr parametru.\n",
    "    \"\"\"                                               # VOLITELNÉ: dokumentace funkce\n",
    "    return cislo_1 + cislo_2                          # VOLITELNÉ: vracené hodnoty"
   ]
  },
  {
   "cell_type": "markdown",
   "metadata": {},
   "source": [
    "Pokud si předchozí ukázku spustíš, nic se nestane. Je to kvůli tomu, že funkci **pouze definuješ** a nespouštíš.\n",
    "\n",
    "<br>\n",
    "\n",
    "V příkladu si můžeš všimnout těchto **charakteristických rysů** pro uživatelskou funkci:\n",
    "1. `def` je *klíčový výraz* označující předpis (definici) funkce,\n",
    "2. `scitej_dve_hodnoty` je tvoje označení funkce, díky kterému můžeš funkci později spustit (ideálně má představovat účel funkce),\n",
    "3. `(cislo_1, cislo_2)` v kulaté závorce jsou umístěné **parametry** funkce. Tedy proměnné, se kterými chceš, aby funkce pracovala.\n",
    "4. `:` předpisový řádek musí být ukončený dvojtečkou (jako u podmínkových zápisů, cyklů, aj.),\n",
    "5. `\"\"\"Vraci soucet dvou ..\"\"\"` na odsazeném řádku následuje *docstring*, tedy bližší popis účelu funkce (zejména pokud jméno nedostačuje),\n",
    "6. `return` ohlášení z funkce vrací žádané hodnoty (nemusí být součástí funkce vždy)."
   ]
  },
  {
   "cell_type": "markdown",
   "metadata": {},
   "source": [
    "### Spuštění funkcí\n",
    "\n",
    "---\n",
    "\n",
    "Takže pokud máš funkci definovanou, můžeš ji spouštět kolikrát chceš a kde chceš (samozřejmě potom, co ji definuješ)."
   ]
  },
  {
   "cell_type": "code",
   "execution_count": null,
   "metadata": {},
   "outputs": [],
   "source": [
    "soucet_1 = scitej_dve_hodnoty(1, 14)  # 1. spuštění funkce\n",
    "soucet_2 = scitej_dve_hodnoty(2, 8)   # 2. spuštění funkce"
   ]
  },
  {
   "cell_type": "code",
   "execution_count": null,
   "metadata": {},
   "outputs": [],
   "source": [
    "print(soucet_1, soucet_2, sep=\"\\n\")"
   ]
  },
  {
   "cell_type": "markdown",
   "metadata": {},
   "source": [
    "### Chyby na začátek"
   ]
  },
  {
   "cell_type": "code",
   "execution_count": null,
   "metadata": {},
   "outputs": [],
   "source": [
    "scitej_dve_hodnoty  # zapoměl jsem závorky"
   ]
  },
  {
   "cell_type": "code",
   "execution_count": null,
   "metadata": {},
   "outputs": [],
   "source": [
    "scitej_dve_hodnoty()  # chybějící vstupní hodnoty, tzv. argumenty"
   ]
  },
  {
   "cell_type": "code",
   "execution_count": null,
   "metadata": {},
   "outputs": [],
   "source": [
    "scitej_dve_hodnoty(1, 9, 5)  # špatný počet argumentů při spouštění"
   ]
  },
  {
   "cell_type": "code",
   "execution_count": null,
   "metadata": {},
   "outputs": [],
   "source": [
    "scitej_dve_hodnoty(1, 9)  # zapoměl jsem závorky"
   ]
  },
  {
   "cell_type": "code",
   "execution_count": null,
   "metadata": {},
   "outputs": [],
   "source": [
    "vysledek = scitej_dve_hodnoty(2, 3)"
   ]
  },
  {
   "cell_type": "code",
   "execution_count": null,
   "metadata": {},
   "outputs": [],
   "source": [
    "print(vysledek)"
   ]
  },
  {
   "cell_type": "code",
   "execution_count": null,
   "metadata": {},
   "outputs": [],
   "source": [
    "def odcitej_dve_hodnoty(cislo_3, cislo_4):\n",
    "    return cislo_3 - cislo_4"
   ]
  },
  {
   "cell_type": "code",
   "execution_count": null,
   "metadata": {},
   "outputs": [],
   "source": [
    "vysledek = odcitej_dve_hodnoty(10, 5)"
   ]
  },
  {
   "cell_type": "code",
   "execution_count": null,
   "metadata": {},
   "outputs": [],
   "source": [
    "print(vysledek)"
   ]
  },
  {
   "cell_type": "markdown",
   "metadata": {},
   "source": [
    "##### Demo: příkazový řádek + skript"
   ]
  },
  {
   "cell_type": "markdown",
   "metadata": {},
   "source": [
    "Pár detailů pro spuštění funkcí:\n",
    "1. Funkci *spouštíš* přes její **jméno a kulaté závorky**,\n",
    "2. při definování, do kulatých závorek píšeš obecné proměnné, **parametry** funkcí (zajištují obecné použití),\n",
    "3. při spouštění, do kulatých závorek musíš zapsat skutečné hodnoty, tedy **argumenty** funkcí,\n",
    "4. argumenty si funkce sama skládá do parametrů podle několika vzorů,\n",
    "5. pokud má funkce vracet hodnoty, obsahuje ohlášení `return`,\n",
    "6. vrácenou hodnotu si musíš schovat do proměnné (`soucet_1`, `soucet_2`). Pokud to neuděláš, o součet **přijdeš**."
   ]
  },
  {
   "cell_type": "markdown",
   "metadata": {},
   "source": [
    "<br>\n",
    "\n",
    "<img src=\"https://external-content.duckduckgo.com/iu/?u=https%3A%2F%2Ftse4.mm.bing.net%2Fth%3Fid%3DOIP.8xc1q9ugaYbcV9Iu5UvRnwHaHa%26pid%3DApi&f=1\" width=\"200\">\n",
    "\n",
    "### Vstupy funkcí, rozdělení\n",
    "\n",
    "---\n"
   ]
  },
  {
   "cell_type": "markdown",
   "metadata": {},
   "source": [
    "Obecně funkce pracuje se **vstupy**.\n",
    "\n",
    "Tento pojem souhrnně označuje nejen *parametry*, ale také *argumenty*.\n",
    "\n",
    "Ty jsou potom do funkce dávkované dle několika vzorů.\n",
    "\n",
    "<br>\n",
    "\n",
    "Rozdíl mezi nimi je následující:\n",
    "- **parametry** slouží jako obecné proměnné při definici, \n",
    "- **argumenty** jsou konkrétní hodnoty, které vkládáš při spouštění.\n",
    "\n",
    "<br>\n",
    "\n",
    "Prohlédni si ukázku:"
   ]
  },
  {
   "cell_type": "code",
   "execution_count": null,
   "metadata": {},
   "outputs": [],
   "source": [
    "def spoj_cele_jmeno(jmeno, prijmeni):\n",
    "    \"\"\"\n",
    "    Spoj zformatovane hodnoty v parametrech.\n",
    "\n",
    "    Priklad:\n",
    "    >>> formatuj_cele_jmeno(\"Petr\", \"Svetr\")\n",
    "    p.svetr\n",
    "    \"\"\"\n",
    "    return \".\".join(\n",
    "        (\n",
    "            jmeno[0].lower(),\n",
    "            prijmeni.lower()\n",
    "        )\n",
    "    )"
   ]
  },
  {
   "cell_type": "code",
   "execution_count": null,
   "metadata": {},
   "outputs": [],
   "source": [
    "print(spoj_cele_jmeno(\"Adam\", \"Novak\"))"
   ]
  },
  {
   "cell_type": "markdown",
   "metadata": {},
   "source": [
    "Co jsou tedy **parametry** a co **argumenty**?"
   ]
  },
  {
   "cell_type": "markdown",
   "metadata": {},
   "source": [
    "<br>\n",
    "\n",
    "<img src=\"http://mathinsight.org/media/image/image/function_machine.png\" width=\"400\">"
   ]
  },
  {
   "cell_type": "markdown",
   "metadata": {},
   "source": [
    "<br>\n",
    "\n",
    "<img src=\"https://external-content.duckduckgo.com/iu/?u=https%3A%2F%2Ftse1.mm.bing.net%2Fth%3Fid%3DOIP.uufe_GDvF2057NFWgKOVXwAAAA%26pid%3DApi&f=1\" width=\"200\">\n",
    "\n",
    "## Dokumentace funkcí\n",
    "\n",
    "---\n"
   ]
  },
  {
   "cell_type": "markdown",
   "metadata": {},
   "source": [
    "Psát **dokumentaci** funkce resp. *docstring* je volitelnou záležitostí.\n",
    "\n",
    "### Důsledné jméno funkce\n",
    "\n",
    "Někdy potřebuješ vytvořit jednoduchou funkci, jejíž účel plně vystihuje její **jméno**:"
   ]
  },
  {
   "cell_type": "code",
   "execution_count": null,
   "metadata": {},
   "outputs": [],
   "source": [
    "def vynasob_dve_cisla(x, y):\n",
    "    return x * y"
   ]
  },
  {
   "cell_type": "code",
   "execution_count": null,
   "metadata": {},
   "outputs": [],
   "source": [
    "print(vynasob_dve_cisla(2, 8))"
   ]
  },
  {
   "cell_type": "markdown",
   "metadata": {},
   "source": [
    "V takovém případě **není potřeba** zapisovat *docstring*.\n",
    "\n",
    "<br>\n",
    "\n",
    "Někdy se ale popis může hodit. Zejména tehdy pokud **jméno** *uživatelské funkce* **nedostačuje**:"
   ]
  },
  {
   "cell_type": "code",
   "execution_count": null,
   "metadata": {},
   "outputs": [],
   "source": [
    "def vypocitej_vyskyt_dat(pismena):\n",
    "    vyskyt = dict()\n",
    "\n",
    "    for slovo in pismena:\n",
    "        vyskyt[slovo] = vyskyt.setdefault(slovo, 0) + 1  # overkill pro počítání výskytů\n",
    "    else:\n",
    "        return vyskyt"
   ]
  },
  {
   "cell_type": "code",
   "execution_count": null,
   "metadata": {},
   "outputs": [],
   "source": [
    "print(vypocitej_vyskyt_dat([\"a\", \"b\", \"a\", \"c\", \"d\", \"b\", \"a\"]))"
   ]
  },
  {
   "cell_type": "markdown",
   "metadata": {},
   "source": [
    "Nyní už **není zcela patrné**, jaký je účel funkce, že?\n",
    "\n",
    "<br>\n",
    "\n",
    "### Popisek funkce\n",
    "\n",
    "**Jméno** samotné funkce, v ukázce výš, není dostačující:"
   ]
  },
  {
   "cell_type": "code",
   "execution_count": null,
   "metadata": {},
   "outputs": [],
   "source": [
    "def vypocitej_vyskyt_dat(pismena):\n",
    "    \"\"\"\n",
    "    Vrať slovník, který obsahuje výčet jednotlivých prvků v zadaném parametru.\n",
    "    \"\"\"\n",
    "    vyskyt = dict()\n",
    "\n",
    "    for slovo in pismena:\n",
    "        vyskyt[slovo] = vyskyt.setdefault(slovo, 0) + 1\n",
    "    else:\n",
    "        return vyskyt"
   ]
  },
  {
   "cell_type": "code",
   "execution_count": null,
   "metadata": {},
   "outputs": [],
   "source": [
    "print(vypocitej_vyskyt_dat((\"a\", \"b\", \"a\", \"c\", \"d\", \"b\", \"a\")))"
   ]
  },
  {
   "cell_type": "markdown",
   "metadata": {},
   "source": [
    "Jednou větou **vysvětlená podstata** této *uživatelské funkce* lépe popíše účel funkce `vypocitej_vyskyt_dat`.\n",
    "\n",
    "<br>\n",
    "\n",
    "Dále můžeš tuto *nápovědu* získat pomocí zabudované funkce `help`:"
   ]
  },
  {
   "cell_type": "code",
   "execution_count": null,
   "metadata": {},
   "outputs": [],
   "source": [
    "help(vypocitej_vyskyt_dat)"
   ]
  },
  {
   "cell_type": "markdown",
   "metadata": {},
   "source": [
    "<br>\n",
    "\n",
    "\n",
    "### Vysvětlivky parametrů a vrácené hodnoty\n",
    "\n",
    "Pokud je krátký *docstring* **nedostatečný**, nebo pracuješ s různými **parametry**, které jsou pro uživatele komplikované, můžeš je také popsat:"
   ]
  },
  {
   "cell_type": "code",
   "execution_count": null,
   "metadata": {},
   "outputs": [],
   "source": [
    "def vypocitej_vyskyt_dat(pismena):\n",
    "    \"\"\"\n",
    "    Vrať slovník, který obsahuje výčet jednotlivých prvků v zadaném parametu.\n",
    "\n",
    "    :param pismena: parametr \"pismena\" obsahující zadaný text.\n",
    "    :type pismena: tuple\n",
    "    :return: hodnota se znaky z textu a počet jejich výskytů.\n",
    "    :rtype: dict\n",
    "    \"\"\"\n",
    "    vyskyt = {}\n",
    "       \n",
    "    for slovo in pismena:\n",
    "        vyskyt[slovo] = vyskyt.setdefault(slovo, 0) + 1\n",
    "\n",
    "    return vyskyt"
   ]
  },
  {
   "cell_type": "code",
   "execution_count": null,
   "metadata": {},
   "outputs": [],
   "source": [
    "print(vypocitej_vyskyt_dat((\"a\", \"b\", \"a\", \"c\", \"d\", \"b\", \"a\")))"
   ]
  },
  {
   "cell_type": "markdown",
   "metadata": {},
   "source": [
    "<br>\n",
    "\n",
    "### Příklad průběhu funkce\n",
    "\n",
    "Někdy je dobrá ukázka lepší jak tisíc slov, proto je později vhodné úvadět **příklad použití**:"
   ]
  },
  {
   "cell_type": "code",
   "execution_count": null,
   "metadata": {},
   "outputs": [],
   "source": [
    "def vypocitej_vyskyt_dat(pismena):\n",
    "    \"\"\"\n",
    "    Vrať slovník, který obsahuje výčet jednotlivých prvků v zadaném parametru.\n",
    "\n",
    "    :param pismena: parametr \"pismena\" obsahující zadaný text.\n",
    "    :type pismena: tuple\n",
    "    :return: slovník se znaky z textu a počet jejich výskytů.\n",
    "    :rtype: dict\n",
    "\n",
    "    :Example:\n",
    "    >>> vysledek = vypocitej_vyskyt_dat((\"a\", \"b\", \"a\"))\n",
    "    >>> vysledek\n",
    "    {'a': 2, 'b': 1}\n",
    "    \"\"\"\n",
    "    vyskyt = dict()\n",
    "\n",
    "    for slovo in pismena:\n",
    "        vyskyt[slovo] = vyskyt.setdefault(slovo, 0) + 1\n",
    "\n",
    "    return vyskyt"
   ]
  },
  {
   "cell_type": "code",
   "execution_count": null,
   "metadata": {},
   "outputs": [],
   "source": [
    "print(vypocitej_vyskyt_dat((\"a\", \"b\", \"a\", \"c\", \"d\", \"b\", \"a\")))"
   ]
  },
  {
   "cell_type": "markdown",
   "metadata": {},
   "source": [
    "Je tedy **nutné** zapisovat *docstring*? Určitě to **není nutnost**.\n",
    "\n",
    "Ale rozhodně je to velmi nápomocné, protože ti pomůže uvědomit si:\n",
    "1. Jestli dostatečně rozumíš **účelu funkce**,\n",
    "2. jestli funkce skutečně **provádí jen to, co má**,\n",
    "3. jestli má správný **počet parametrů**, případně jakého typu,\n",
    "4. jestli a jaké objekty **funkce vrací**.\n",
    "\n",
    "<br>\n",
    "\n",
    "Do budoucna potom můžeš využít *docstring* při:\n",
    "1. Generování **dokumentace projektu** pomocí nástroje [Sphinx](https://www.sphinx-doc.org/en/master/),\n",
    "2. **testování funkcí** pomocí modulu [doctest](https://docs.python.org/3/library/doctest.html)."
   ]
  },
  {
   "cell_type": "code",
   "execution_count": 3,
   "metadata": {},
   "outputs": [
    {
     "data": {
      "text/plain": [
       "TestResults(failed=0, attempted=4)"
      ]
     },
     "execution_count": 3,
     "metadata": {},
     "output_type": "execute_result"
    }
   ],
   "source": [
    "def vypocitej_vyskyt_dat(pismena):\n",
    "    \"\"\"\n",
    "    Vrať slovník, který obsahuje výčet jednotlivých prvků v zadaném parametru.\n",
    "\n",
    "    :param pismena: parametr \"pismena\" obsahující zadaný text.\n",
    "    :type pismena: tuple\n",
    "    :return: slovník se znaky z textu a počet jejich výskytů.\n",
    "    :rtype: dict\n",
    "\n",
    "    :Example:\n",
    "    >>> vysledek = vypocitej_vyskyt_dat((\"a\", \"b\", \"a\"))\n",
    "    >>> vysledek\n",
    "    {'a': 2, 'b': 1}\n",
    "    >>> vysledek = vypocitej_vyskyt_dat((\"a\", \"b\"))\n",
    "    >>> vysledek\n",
    "    {'a': 1, 'b': 1}\n",
    "    \"\"\"\n",
    "    vyskyt = dict()\n",
    "\n",
    "    for slovo in pismena:\n",
    "        vyskyt[slovo] = vyskyt.setdefault(slovo, 0) + 1\n",
    "\n",
    "    return vyskyt\n",
    "\n",
    "\n",
    "import doctest\n",
    "doctest.testmod()"
   ]
  },
  {
   "cell_type": "markdown",
   "metadata": {},
   "source": [
    "<img src=\"https://external-content.duckduckgo.com/iu/?u=https%3A%2F%2Ftse2.mm.bing.net%2Fth%3Fid%3DOIP.cjfmUt8xYHoEdmQWxT1fBgHaHa%26pid%3DApi&f=1\" width=\"200\">\n",
    "\n",
    "## Co je `__name__`\n",
    "\n",
    "---"
   ]
  },
  {
   "cell_type": "markdown",
   "metadata": {},
   "source": [
    "Velmi často se při čtení cizího kódu můžeš setkat s **tímto ohlášením**:\n",
    "```python\n",
    "if __name__ == \"__main__\":\n",
    "    # ...\n",
    "```\n",
    "\n",
    "Bývá velmi často vložené právě **na konci modulu** (tedy souboru s příponou `.py`)\n",
    "\n",
    "Představ si situaci, že potřebuješ nahrát jen funkci `funkce_2`:"
   ]
  },
  {
   "cell_type": "code",
   "execution_count": null,
   "metadata": {},
   "outputs": [],
   "source": [
    "# soubor muj_modul.py\n",
    "def hlavni_funkce():\n",
    "    funkce_1()\n",
    "    funkce_2()\n",
    "    funkce_3()\n",
    "\n",
    "def funkce_1():\n",
    "    print(\"Spouštění první funkce..\")\n",
    "\n",
    "def funkce_2():\n",
    "    \"\"\"Funkce, kterou potřebuješ.\"\"\"\n",
    "    print(\"Spouštění druhé funkce..\")\n",
    "\n",
    "def funkce_3():\n",
    "    print(\"Spouštění třetí funkce..\")\n",
    "\n",
    "hlavni_funkce()"
   ]
  },
  {
   "cell_type": "markdown",
   "metadata": {},
   "source": [
    "Díky, **nahrávání knihoven** můžeš snadno použít *funkci* z jiného modulu.\n",
    "\n",
    "Víš totiž, kde je soubor `muj_soubor.py` umístěný:\n",
    "```python\n",
    "import muj_modul\n",
    "\n",
    "muj_modul.funkce_2()\n",
    "```"
   ]
  },
  {
   "cell_type": "markdown",
   "metadata": {},
   "source": [
    "Jakmile tebou vytvořený soubor **s nahraným modulem** spustíš, získáš tento výstup:\n",
    "```\n",
    "Spouštění první funkce...\n",
    "Spouštění druhé funkce...\n",
    "Spouštění třetí funkce...\n",
    "Spouštění druhé funkce...\n",
    "```"
   ]
  },
  {
   "cell_type": "markdown",
   "metadata": {},
   "source": [
    "Místo, aby došlo ke spuštění **pouze** *uživatelské funkce* `funkce_2`, došlo ke spuštění všech funkcí.\n",
    "\n",
    "<br>\n",
    "\n",
    "V této ukázce to není tak zásadní problém. Ale představ si, že by spuštění funkcí trvalo **několik minut** a potřebovalo **nezanedbatelné množství paměti** tvého počítače.\n",
    "\n",
    "Tomu je potřeba rozhodně zabránit, jinak nemůžeš rozumně pracovat s takovým modulem.\n",
    "\n",
    "<br>\n",
    "\n",
    "Je tedy nutné:\n",
    "1. `muj_modul.py` **spouštět jako skript (program)** pro Python s funkcí `hlavni_funkce()`,\n",
    "2. `muj_modul.py` **nahrávat jako modul** Pythonu bez funkce `hlavni_funkce()`."
   ]
  },
  {
   "cell_type": "code",
   "execution_count": null,
   "metadata": {},
   "outputs": [],
   "source": [
    "# soubor muj_modul.py\n",
    "def hlavni_funkce():\n",
    "    funkce_1()\n",
    "    funkce_2()\n",
    "    funkce_3()\n",
    "\n",
    "def funkce_1():\n",
    "    print(\"Spouštění první funkce...\")\n",
    "\n",
    "def funkce_2():\n",
    "    \"\"\"Funkce, kterou potřebuješ.\"\"\"\n",
    "    print(\"Spouštění druhé funkce...\")\n",
    "\n",
    "def funkce_3():\n",
    "    print(\"Spouštění třetí funkce...\")\n",
    "\n",
    "# nové ohlášení *name == main*\n",
    "if __name__ == \"__main__\":\n",
    "    print(\"Spouštění souboru..\")\n",
    "    hlavni_funkce()\n",
    "else:\n",
    "    print(\"Nahrávání modulu..\")"
   ]
  },
  {
   "cell_type": "markdown",
   "metadata": {},
   "source": [
    "Pokud zkusíš tentokrát **spustit soubor** `muj_modul.py`:\n",
    "```\n",
    "$ python muj_modul.py\n",
    "```\n",
    "Dostaneš výstupem:\n",
    "```\n",
    "Spouštění souboru..\n",
    "Spouštění první funkce..\n",
    "Spouštění druhé funkce..\n",
    "Spouštění třetí funkce..\n",
    "```\n",
    "\n",
    "<br>\n",
    "\n",
    "Pokud budeš chtít `muj_modul.py` **nahrávat** pomocí ohlášení `import`:\n",
    "```python\n",
    "import muj_modul\n",
    "\n",
    "muj_modul.funkce_2()\n",
    "```\n",
    "Dostaneš jako výstup:\n",
    "```\n",
    "Nahrávání modulu..\n",
    "Spouštění druhé funkce..\n",
    "```\n",
    "\n",
    "<br>\n",
    "\n",
    "Tím dosáhneš toho, že tebou vytvořený soubor `muj_modul.py` funguje pro oba scénaře. Tedy pracuje jako **spustitelný soubor** (skript) a současně jako **plnohodnotný modul**."
   ]
  },
  {
   "cell_type": "markdown",
   "metadata": {},
   "source": [
    "<img src=\"https://external-content.duckduckgo.com/iu/?u=https%3A%2F%2Ftse3.mm.bing.net%2Fth%3Fid%3DOIP.I_ciaAqJVtH3k_LDV-4a8AHaEc%26pid%3DApi&f=1&ipt=74100f497253ea415c13868adb6e91d832625b2dfe1b2cf852efaf93feeb7546&ipo=images\" width=\"350\">\n",
    "\n",
    "## Řádné funkce uživatele"
   ]
  },
  {
   "cell_type": "markdown",
   "metadata": {},
   "source": [
    "Psaní uživatelských funkcí má ovšem jistá doporučení."
   ]
  },
  {
   "cell_type": "markdown",
   "metadata": {},
   "source": [
    "### Znovu nevymýšlet kolo"
   ]
  },
  {
   "cell_type": "markdown",
   "metadata": {},
   "source": [
    "Nejprve zkontroluji *zabudované funkce*, pak tvořím vlastní funkci:"
   ]
  },
  {
   "cell_type": "code",
   "execution_count": 4,
   "metadata": {},
   "outputs": [],
   "source": [
    "cisla = (1, 2, 3)"
   ]
  },
  {
   "cell_type": "code",
   "execution_count": 5,
   "metadata": {},
   "outputs": [],
   "source": [
    "# TAKHLE NE!\n",
    "def vypocitej_sumu(cisla):\n",
    "    suma = 0\n",
    "\n",
    "    for cislo in cisla:\n",
    "        suma = suma + cislo\n",
    "    return suma"
   ]
  },
  {
   "cell_type": "code",
   "execution_count": null,
   "metadata": {},
   "outputs": [],
   "source": [
    "# TAKHLE ANO!\n",
    "suma = sum(cisla)"
   ]
  },
  {
   "cell_type": "markdown",
   "metadata": {},
   "source": [
    "### Na jménu záleží\n",
    "Popisuje totiž účel funkce (pokud nelze napsat, zapiš *docstring* funkce):"
   ]
  },
  {
   "cell_type": "code",
   "execution_count": 6,
   "metadata": {},
   "outputs": [],
   "source": [
    "# TAKHLE NE!\n",
    "def email():\n",
    "    pass\n",
    "\n",
    "email()"
   ]
  },
  {
   "cell_type": "code",
   "execution_count": null,
   "metadata": {},
   "outputs": [],
   "source": [
    "# TAKHLE ANO!\n",
    "def posli_zpravu():\n",
    "    pass\n",
    "\n",
    "posli_zpravu()"
   ]
  },
  {
   "cell_type": "markdown",
   "metadata": {},
   "source": [
    "### Rozumné množství parametrů\n",
    "\n",
    "Ideálně **2-3 parametry** (jsou ovšem výjimky):"
   ]
  },
  {
   "cell_type": "code",
   "execution_count": null,
   "metadata": {},
   "outputs": [],
   "source": [
    "# TAKHLE NE!\n",
    "def zobraz_nabidku(title, body, tlacitko, datum):\n",
    "    pass"
   ]
  },
  {
   "cell_type": "code",
   "execution_count": null,
   "metadata": {},
   "outputs": [],
   "source": [
    "# TAKHLE ANO!\n",
    "def vytvor_popisek(title, body):\n",
    "    pass\n",
    "\n",
    "def vytvor_tlacitko(tlacitko):\n",
    "    pass\n",
    "\n",
    "def vytvor_datum():\n",
    "    pass"
   ]
  },
  {
   "cell_type": "markdown",
   "metadata": {},
   "source": [
    "### Co je psáno, to je dáno\n",
    "\n",
    "Funkce by měla provádět **jedinnou věc** (jinak je špatně čitelná, pochopitelná, testovatelná):"
   ]
  },
  {
   "cell_type": "code",
   "execution_count": null,
   "metadata": {},
   "outputs": [],
   "source": [
    "# TAKHLE NE!\n",
    "def posli_email_seznamu_klientu(klienti):\n",
    "    \"\"\"Filtruj pouze aktivni klienty a odesli zpravu\"\"\"\n",
    "    for klient in klienti:\n",
    "        if klient.je_aktivni:\n",
    "            email(klient)"
   ]
  },
  {
   "cell_type": "code",
   "execution_count": null,
   "metadata": {},
   "outputs": [],
   "source": [
    "# TAKHLE ANO!\n",
    "def jen_aktivni_klienti(klienti):\n",
    "    return [klient for klient in klienti if klient.je_aktivni]\n",
    "\n",
    "def posli_email():\n",
    "    pass"
   ]
  },
  {
   "cell_type": "markdown",
   "metadata": {},
   "source": [
    "### Počítá se jen to doma\n",
    "\n",
    "funkce pracuje pouze **s vlastními parametry** (proměnnými):"
   ]
  },
  {
   "cell_type": "code",
   "execution_count": null,
   "metadata": {},
   "outputs": [],
   "source": [
    "# TAKHLE NE!\n",
    "oddelovac = \"---\"\n",
    "datum = \"01.01.2001\"\n",
    "\n",
    "def vytvor_zpravu(autor, zapis):\n",
    "    vytvor_hlavicku(datum, oddelovac)\n",
    "    vytvor_text(autor, zapis)"
   ]
  },
  {
   "cell_type": "code",
   "execution_count": null,
   "metadata": {},
   "outputs": [],
   "source": [
    "# TAKHLE ANO!\n",
    "def vytvor_zpravu(autor, zapis):\n",
    "    oddelovac = \"---\"\n",
    "    vytvor_hlavicku(dnesni_datum(), oddelovac)\n",
    "    vytvor_text(autor, zapis)\n",
    "\n",
    "def dnesni_datum():\n",
    "    pass"
   ]
  },
  {
   "cell_type": "markdown",
   "metadata": {},
   "source": [
    "😍 Interpret Pythonu miluje funkce! 😍 Vytváří oddělená prostředí pro proměnné, se kterými efektivněji pracuje."
   ]
  },
  {
   "cell_type": "code",
   "execution_count": 7,
   "metadata": {},
   "outputs": [],
   "source": [
    "def spoj_text(txt_1: str, txt_2: str) -> str:  # type hints\n",
    "    return txt_1 + txt_2"
   ]
  },
  {
   "cell_type": "code",
   "execution_count": 8,
   "metadata": {},
   "outputs": [
    {
     "data": {
      "text/plain": [
       "'Matouš Holinka'"
      ]
     },
     "execution_count": 8,
     "metadata": {},
     "output_type": "execute_result"
    }
   ],
   "source": [
    "spoj_text(\"Matouš\", \" Holinka\")"
   ]
  },
  {
   "cell_type": "code",
   "execution_count": 9,
   "metadata": {},
   "outputs": [
    {
     "data": {
      "text/plain": [
       "10"
      ]
     },
     "execution_count": 9,
     "metadata": {},
     "output_type": "execute_result"
    }
   ],
   "source": [
    "spoj_text(1, 9)"
   ]
  },
  {
   "cell_type": "markdown",
   "metadata": {},
   "source": [
    "<br>\n",
    "\n",
    "<img src=\"https://external-content.duckduckgo.com/iu/?u=https%3A%2F%2Ftse2.mm.bing.net%2Fth%3Fid%3DOIP.Y9SA-Zlyi8gB0rMDOSv2aAHaHa%26pid%3DApi&f=1&ipt=4d84427394f587517a3d2bed1b4a17deb8c262c544f634271dfc4911a12706b6&ipo=images\" width=\"200\">\n",
    "\n",
    "## Vícenásobné přiřazení hodnot\n",
    "\n",
    "---"
   ]
  },
  {
   "cell_type": "markdown",
   "metadata": {},
   "source": [
    "Doposud přiřazuješ hodnoty k odkazům tímto způsobem:"
   ]
  },
  {
   "cell_type": "code",
   "execution_count": 10,
   "metadata": {},
   "outputs": [],
   "source": [
    "jmeno = \"Matous\""
   ]
  },
  {
   "cell_type": "code",
   "execution_count": 11,
   "metadata": {},
   "outputs": [
    {
     "name": "stdout",
     "output_type": "stream",
     "text": [
      "Matous\n"
     ]
    }
   ],
   "source": [
    "print(jmeno)"
   ]
  },
  {
   "cell_type": "code",
   "execution_count": 12,
   "metadata": {},
   "outputs": [],
   "source": [
    "jmeno_1 = [\"Matous\", \"Lukas\"][0]"
   ]
  },
  {
   "cell_type": "code",
   "execution_count": 13,
   "metadata": {},
   "outputs": [],
   "source": [
    "jmeno_2 = [\"Matous\", \"Lukas\"][1]"
   ]
  },
  {
   "cell_type": "code",
   "execution_count": 14,
   "metadata": {},
   "outputs": [
    {
     "name": "stdout",
     "output_type": "stream",
     "text": [
      "Matous\n",
      "Lukas\n"
     ]
    }
   ],
   "source": [
    "print(jmeno_1, jmeno_2, sep=\"\\n\")"
   ]
  },
  {
   "cell_type": "markdown",
   "metadata": {},
   "source": [
    "Současně ale existují i **další varianty přiřazení** hodnoty/hodnot.\n",
    "\n",
    "### Vícenásobné přiřazení (LS = PS)\n",
    "\n",
    "Pokud máš na pravé straně (PS) více hodnot, můžeš je rozdělit.\n",
    "\n",
    "Rozdělení probíhá následovně:"
   ]
  },
  {
   "cell_type": "code",
   "execution_count": 17,
   "metadata": {},
   "outputs": [],
   "source": [
    "jmeno_1, jmeno_2 = [\"Matous\", \"Jan\"]  # LS: 2 nazvy promennych = PS: 2 udaje"
   ]
  },
  {
   "cell_type": "code",
   "execution_count": 18,
   "metadata": {},
   "outputs": [
    {
     "name": "stdout",
     "output_type": "stream",
     "text": [
      "Matous\n",
      "Jan\n"
     ]
    }
   ],
   "source": [
    "print(jmeno_1, jmeno_2, sep=\"\\n\")"
   ]
  },
  {
   "cell_type": "markdown",
   "metadata": {},
   "source": [
    "Přiřazování při vrácených hodnotách:"
   ]
  },
  {
   "cell_type": "code",
   "execution_count": 19,
   "metadata": {},
   "outputs": [],
   "source": [
    "def pomocna_f():\n",
    "    return (11, \"20\")"
   ]
  },
  {
   "cell_type": "code",
   "execution_count": 20,
   "metadata": {},
   "outputs": [],
   "source": [
    "cislo, string = pomocna_f()"
   ]
  },
  {
   "cell_type": "code",
   "execution_count": 21,
   "metadata": {},
   "outputs": [
    {
     "name": "stdout",
     "output_type": "stream",
     "text": [
      "11\n",
      "20\n"
     ]
    }
   ],
   "source": [
    "print(cislo, string, sep=\"\\n\")"
   ]
  },
  {
   "cell_type": "markdown",
   "metadata": {},
   "source": [
    "Hodnot a proměnných může být samozřejmě více.\n",
    "\n",
    "Zásádní je dodržet s tímto zápisem pravidlo, kolik hodnot, tolik proměnných."
   ]
  },
  {
   "cell_type": "code",
   "execution_count": 22,
   "metadata": {},
   "outputs": [
    {
     "ename": "ValueError",
     "evalue": "too many values to unpack (expected 2)",
     "output_type": "error",
     "traceback": [
      "\u001b[0;31m---------------------------------------------------------------------------\u001b[0m",
      "\u001b[0;31mValueError\u001b[0m                                Traceback (most recent call last)",
      "\u001b[0;32m<ipython-input-22-213bd76eade7>\u001b[0m in \u001b[0;36m<module>\u001b[0;34m\u001b[0m\n\u001b[0;32m----> 1\u001b[0;31m \u001b[0mjmeno_1\u001b[0m\u001b[0;34m,\u001b[0m \u001b[0mjmeno_2\u001b[0m \u001b[0;34m=\u001b[0m \u001b[0;34m[\u001b[0m\u001b[0;34m\"Matous\"\u001b[0m\u001b[0;34m,\u001b[0m \u001b[0;34m\"Lukas\"\u001b[0m\u001b[0;34m,\u001b[0m \u001b[0;34m\"Petr\"\u001b[0m\u001b[0;34m]\u001b[0m\u001b[0;34m\u001b[0m\u001b[0;34m\u001b[0m\u001b[0m\n\u001b[0m",
      "\u001b[0;31mValueError\u001b[0m: too many values to unpack (expected 2)"
     ]
    }
   ],
   "source": [
    "jmeno_1, jmeno_2 = [\"Matous\", \"Lukas\", \"Petr\"]"
   ]
  },
  {
   "cell_type": "code",
   "execution_count": 23,
   "metadata": {},
   "outputs": [
    {
     "ename": "ValueError",
     "evalue": "not enough values to unpack (expected 3, got 2)",
     "output_type": "error",
     "traceback": [
      "\u001b[0;31m---------------------------------------------------------------------------\u001b[0m",
      "\u001b[0;31mValueError\u001b[0m                                Traceback (most recent call last)",
      "\u001b[0;32m<ipython-input-23-50fcfdd3009d>\u001b[0m in \u001b[0;36m<module>\u001b[0;34m\u001b[0m\n\u001b[0;32m----> 1\u001b[0;31m \u001b[0mjmeno_1\u001b[0m\u001b[0;34m,\u001b[0m \u001b[0mjmeno_2\u001b[0m\u001b[0;34m,\u001b[0m \u001b[0mjmeno_3\u001b[0m \u001b[0;34m=\u001b[0m \u001b[0;34m[\u001b[0m\u001b[0;34m\"Matous\"\u001b[0m\u001b[0;34m,\u001b[0m \u001b[0;34m\"Lukas\"\u001b[0m\u001b[0;34m]\u001b[0m\u001b[0;34m\u001b[0m\u001b[0;34m\u001b[0m\u001b[0m\n\u001b[0m",
      "\u001b[0;31mValueError\u001b[0m: not enough values to unpack (expected 3, got 2)"
     ]
    }
   ],
   "source": [
    "jmeno_1, jmeno_2, jmeno_3 = [\"Matous\", \"Lukas\"]"
   ]
  },
  {
   "cell_type": "markdown",
   "metadata": {},
   "source": [
    "### Vícenásobné přiřazení s hvězdičkou (*)\n",
    "\n",
    "Syntaxe je velice podobná té předchozí.\n",
    "\n",
    "Nicméně doplněná hvězdička má za účel sbalit všechny zbývající hodnoty do jedinné proměnné."
   ]
  },
  {
   "cell_type": "code",
   "execution_count": 24,
   "metadata": {},
   "outputs": [],
   "source": [
    "jmeno_1, jmeno_2, *zbytek_jmen = [\"Matous\", \"Marek\", \"Lukas\", \"Jan\"]"
   ]
  },
  {
   "cell_type": "code",
   "execution_count": 25,
   "metadata": {},
   "outputs": [
    {
     "name": "stdout",
     "output_type": "stream",
     "text": [
      "Matous\n",
      "Marek\n",
      "['Lukas', 'Jan']\n"
     ]
    }
   ],
   "source": [
    "print(jmeno_1, jmeno_2, zbytek_jmen, sep=\"\\n\")"
   ]
  },
  {
   "cell_type": "markdown",
   "metadata": {},
   "source": [
    "Všimněte si jak se hodnoty v proměnných změní, pokud změníme pořadí, kdy hvězdičku zapíšeme:"
   ]
  },
  {
   "cell_type": "code",
   "execution_count": 26,
   "metadata": {},
   "outputs": [],
   "source": [
    "jmeno_1, *zbytek_jmen, jmeno_2 = [\"Matous\", \"Marek\", \"Lukas\", \"Jan\"]"
   ]
  },
  {
   "cell_type": "code",
   "execution_count": 27,
   "metadata": {},
   "outputs": [
    {
     "name": "stdout",
     "output_type": "stream",
     "text": [
      "Matous\n",
      "['Marek', 'Lukas']\n",
      "Jan\n"
     ]
    }
   ],
   "source": [
    "print(jmeno_1, zbytek_jmen, jmeno_2, sep=\"\\n\")"
   ]
  },
  {
   "cell_type": "code",
   "execution_count": 28,
   "metadata": {},
   "outputs": [],
   "source": [
    "jmeno_1, *zbytek_jmen, jmeno_2, jmeno_3 = [\"Matous\", \"Marek\", \"Lukas\", \"Jan\", \"Petr\", \"Krystof\"]"
   ]
  },
  {
   "cell_type": "code",
   "execution_count": 29,
   "metadata": {},
   "outputs": [
    {
     "name": "stdout",
     "output_type": "stream",
     "text": [
      "Matous\n",
      "Petr\n",
      "Krystof\n",
      "['Marek', 'Lukas', 'Jan']\n"
     ]
    }
   ],
   "source": [
    "print(jmeno_1, jmeno_2, jmeno_3, zbytek_jmen, sep=\"\\n\")"
   ]
  },
  {
   "cell_type": "markdown",
   "metadata": {},
   "source": [
    "<br>\n",
    "\n",
    "<img src=\"https://external-content.duckduckgo.com/iu/?u=https%3A%2F%2Ftse3.mm.bing.net%2Fth%3Fid%3DOIP.XxURlbi8RZ3SMPoMRj91VwAAAA%26pid%3DApi&f=1\" width=\"200\">\n",
    "\n",
    "### Domácí úkol\n",
    "\n",
    "---"
   ]
  },
  {
   "cell_type": "markdown",
   "metadata": {},
   "source": [
    "Napiš funkci, která bude umět převádět označení typu bytu (**byt0001**, **byt0003**):\n",
    "```\n",
    "byt0001,55m2,Olomouc,ul.Heyrovského,\n",
    "byt0003,65m2,Olomouc,ul.Novosadský_dvůr,\n",
    "```"
   ]
  },
  {
   "cell_type": "code",
   "execution_count": null,
   "metadata": {},
   "outputs": [],
   "source": [
    "vzor = {\n",
    "    \"byt0001\": \"1+1\",\n",
    "    \"byt0002\": \"2+1\",\n",
    "    \"byt0003\": \"2+kk\",\n",
    "    \"byt0004\": \"3+1\",\n",
    "    \"byt0005\": \"3+kk\",\n",
    "    \"byt0006\": \"4+1\",\n",
    "    \"byt0007\": \"4+kk\",\n",
    "}"
   ]
  },
  {
   "cell_type": "markdown",
   "metadata": {},
   "source": [
    "Funkce musí umět extrahovat údaj a pak jej převést:\n",
    "```\n",
    "byt0001,55m2,Olomouc,ul.Heyrovského,\n",
    "byt0003,65m2,Olomouc,ul.Novosadský_dvůr,\n",
    "...\n",
    "```\n",
    "\n",
    "výstup bude vypadat jako:\n",
    "```\n",
    "1+1,55m2,Olomouc,ul.Heyrovského,\n",
    "2+kk,65m2,Olomouc,ul.Novosadský_dvůr,\n",
    "...\n",
    "```   "
   ]
  },
  {
   "cell_type": "markdown",
   "metadata": {},
   "source": [
    "---"
   ]
  }
 ],
 "metadata": {
  "kernelspec": {
   "display_name": "Python 3",
   "language": "python",
   "name": "python3"
  },
  "language_info": {
   "codemirror_mode": {
    "name": "ipython",
    "version": 3
   },
   "file_extension": ".py",
   "mimetype": "text/x-python",
   "name": "python",
   "nbconvert_exporter": "python",
   "pygments_lexer": "ipython3",
   "version": "3.8.6"
  }
 },
 "nbformat": 4,
 "nbformat_minor": 4
}
