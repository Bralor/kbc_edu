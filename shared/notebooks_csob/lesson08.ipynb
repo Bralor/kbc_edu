{
 "cells": [
  {
   "cell_type": "markdown",
   "metadata": {},
   "source": [
    "## Úvod\n",
    "\n",
    "---\n",
    "\n",
    "1. [Vstupy funkcí](),\n",
    "2. [rámce](),\n",
    "3. [funkce jako objekt](),\n",
    "4. [domácí úkol]().\n",
    "\n",
    "---"
   ]
  },
  {
   "cell_type": "markdown",
   "metadata": {},
   "source": [
    "<br>\n",
    "\n",
    "<img src=\"https://external-content.duckduckgo.com/iu/?u=https%3A%2F%2Ftse1.mm.bing.net%2Fth%3Fid%3DOIP.qpcc6K7Yys3TFhifE4tuywHaHa%26pid%3DApi&f=1&ipt=b330b6e19fba2fceb06c29cb1f32b58d348ccefa9c27b39dedc996951b8c0588&ipo=images\" width=\"250\">\n",
    "\n",
    "## Pokročilá problematika okolo uživatelských funkcí\n",
    "\n",
    "---"
   ]
  },
  {
   "cell_type": "markdown",
   "metadata": {},
   "source": [
    "## Vstupy funkcí\n",
    "\n",
    "---"
   ]
  },
  {
   "cell_type": "markdown",
   "metadata": {},
   "source": [
    "*Vstupem* pro uživatelskou funkci obecně můžeš rozumět:\n",
    "1. **Parametry**, sloužící jako obecné proměnné při definici,\n",
    "2. **argumenty**, tedy konkrétní hodnoty, které vkládáš při spouštění."
   ]
  },
  {
   "cell_type": "code",
   "execution_count": null,
   "metadata": {},
   "outputs": [],
   "source": [
    "def ziskej_zpravu_z_logu(zaznam: str) -> list:\n",
    "    \"\"\"\n",
    "    Vrať zprávu ze zadaného logu.\n",
    "\n",
    "    :Example:\n",
    "    >>> m1 = \"2006-02-08 22:20:02,165: 192.168.0.1\" \\\n",
    "    \": fbloggs: Protocol problem: connection reset\"\n",
    "    >>> print(ziskej_zpravu_z_logu(m1))\n",
    "    [' Protocol problem', ' connection reset']\n",
    "    \"\"\"\n",
    "    return zaznam.split(\":\")[-2:]\n",
    "\n",
    "\n",
    "# import doctest\n",
    "# doctest.testmod()"
   ]
  },
  {
   "cell_type": "code",
   "execution_count": null,
   "metadata": {},
   "outputs": [],
   "source": [
    "print(ziskej_zpravu_z_logu(\n",
    "    \"2006-02-08 22:20:02,165: 192.168.0.1: fbloggs: Protocol problem: connection reset\")\n",
    ")"
   ]
  },
  {
   "cell_type": "markdown",
   "metadata": {},
   "source": [
    "<br>\n",
    "\n",
    "Vstupy do funkcí ale nemusíš skládat pouze pořadí.\n",
    "\n",
    "Existuje dokonce několik vzorů, které můžeš vyzkoušet."
   ]
  },
  {
   "cell_type": "markdown",
   "metadata": {},
   "source": [
    "<br>\n",
    "\n",
    "Důvod je prostý, každá *uživatelská funkce* je trochu jiná.\n",
    "\n",
    "Proto existuje tento seznam různých vzorů:\n",
    "* **poziční parametry** (argumenty),\n",
    "* **klíčové argumenty**,\n",
    "* **defaultní parametry**,\n",
    "* **position-only** parametry,\n",
    "* **\\*args**,\n",
    "* **\\*\\*kwargs**."
   ]
  },
  {
   "cell_type": "markdown",
   "metadata": {},
   "source": [
    "### Poziční parametry\n",
    "\n",
    "---\n",
    "\n",
    "Ze jména je patrné, že v této variantě záleží na pozici (tedy pořadí), ve kterém parametry (i argumenty) zapíšeš:"
   ]
  },
  {
   "cell_type": "code",
   "execution_count": null,
   "metadata": {},
   "outputs": [],
   "source": [
    "def uloz_informace(jmeno, prijmeni, telefon):\n",
    "    return {\n",
    "        \"jmeno\": jmeno,\n",
    "        \"prijmeni\": prijmeni,\n",
    "        \"telefon\": telefon\n",
    "    }"
   ]
  },
  {
   "cell_type": "code",
   "execution_count": null,
   "metadata": {},
   "outputs": [],
   "source": [
    "print(uloz_informace(\"Matouš\", \"Holinka\", \"+420 777 666 555\"))"
   ]
  },
  {
   "cell_type": "markdown",
   "metadata": {},
   "source": [
    "V ukázce vidíš, že parametry jsou uspořádané **za sebou**.\n",
    "\n",
    "Jednotlivé argumenty jsou potom zapsané **v odpovídajícím pořadí**:\n",
    "\n",
    "| Pozice | Parametr | Argument |\n",
    "| :-: | :-: | :-: |\n",
    "| 1 | jmeno | \"Matouš\" |\n",
    "| 2 | prijmeni | \"Holinka\" |\n",
    "| 3 | telefon | \"420 777 666 555\" |\n",
    "\n",
    "<br>\n",
    "\n",
    "Současně jde o jednu **z nejpoužívanějších a nejznámějších variant**.\n",
    "\n",
    "Takže pokud není komplikované pochopit, jaký *argument* patří do jakého *parametru*, budeš chtít zapsat vstupy touto formou."
   ]
  },
  {
   "cell_type": "markdown",
   "metadata": {},
   "source": [
    "### Klíčové argumenty\n",
    "\n",
    "---\n",
    "\n",
    "Zapisování *podle pozice* nemusí být ale vždy přehledné.\n",
    "\n",
    "Třeba pokud jsou všechny tři parametry **stejného datového typu** (`int`) a ještě jsou samotné **hodnoty podobné**:"
   ]
  },
  {
   "cell_type": "code",
   "execution_count": null,
   "metadata": {},
   "outputs": [],
   "source": [
    "def vypocitej_hodnotu(koef_1, koef_2, koef_3):\n",
    "    \"\"\"\n",
    "    Vrať výslednou hodnotu vypočítanou pomocí tři zadaných koeficientů.\n",
    "    \"\"\"\n",
    "    return (1 / koef_1) * (koef_2 ** koef_3)"
   ]
  },
  {
   "cell_type": "code",
   "execution_count": null,
   "metadata": {},
   "outputs": [],
   "source": [
    "print(vypocitej_hodnotu(1, 2, 4))"
   ]
  },
  {
   "cell_type": "markdown",
   "metadata": {},
   "source": [
    "V ukázce je definice funkce `vypocitej_hodnotu` s parametry, představující koeficienty rovnice.\n",
    "\n",
    "<br>\n",
    "\n",
    "Ve všech třech parametrech se počítá **s číselnou hodnotu**.\n",
    "\n",
    "Jejich umístění **ve vzorečku je zásadní**, jinak dostaneš odlišné výsledky.\n",
    "\n",
    "Právě v takovém případě je velice příhodné přiřadit jednotlivé hodnoty **explicitně k příslušným parametrům**:"
   ]
  },
  {
   "cell_type": "code",
   "execution_count": null,
   "metadata": {},
   "outputs": [],
   "source": [
    "def vypocitej_hodnotu(koef_1, koef_2, koef_3):\n",
    "    \"\"\"\n",
    "    Vrať výslednou hodnotu vypočítanou pomocí tři zadaných koeficientů.\n",
    "    \"\"\"\n",
    "    return (1 / koef_1) * (koef_2 ** koef_3)"
   ]
  },
  {
   "cell_type": "code",
   "execution_count": null,
   "metadata": {},
   "outputs": [],
   "source": [
    "print(vypocitej_hodnotu(koef_1=0.5, koef_2=3, koef_3=2))"
   ]
  },
  {
   "cell_type": "markdown",
   "metadata": {},
   "source": [
    "Nebo udělat spuštění funkce **ještě přehlednější** pomocí zápisu pod sebe:"
   ]
  },
  {
   "cell_type": "code",
   "execution_count": null,
   "metadata": {},
   "outputs": [],
   "source": [
    "print(\n",
    "    vypocitej_hodnotu(\n",
    "        koef_1=0.5,\n",
    "        koef_2=3,\n",
    "        koef_3=2\n",
    "    )\n",
    ")"
   ]
  },
  {
   "cell_type": "markdown",
   "metadata": {},
   "source": [
    "Takže pokud budeš mít **větší množství parametrů**, nebo se v nich budeš ztrácet, určitě použij tuto variantu."
   ]
  },
  {
   "cell_type": "markdown",
   "metadata": {},
   "source": [
    "### Defaultní parametry\n",
    "\n",
    "---\n",
    "\n",
    "Někdy dojdeš k závěru, že *uživatelská funkce*, kterou tvoříš, potřebuje alespoň **jeden parametr**, který bude ve většině spouštění používat tutéž hodnotu.\n",
    "\n",
    "V takovém případě můžeš do předpisu zapsat *defaultní parametr*:"
   ]
  },
  {
   "cell_type": "code",
   "execution_count": null,
   "metadata": {},
   "outputs": [],
   "source": [
    "from urllib.parse import urljoin"
   ]
  },
  {
   "cell_type": "code",
   "execution_count": null,
   "metadata": {},
   "outputs": [],
   "source": [
    "def vytvor_adresu(url_path, base_url=\"https://www.brickranker.com\"):\n",
    "    return urljoin(base_url, url_path)"
   ]
  },
  {
   "cell_type": "code",
   "execution_count": null,
   "metadata": {},
   "outputs": [],
   "source": [
    "print(vytvor_adresu(\"rankings\"))"
   ]
  },
  {
   "cell_type": "markdown",
   "metadata": {},
   "source": [
    "Při spuštění funkce `vytvor_pozdrav` není přítomen **žádný druhý argument** a funkci lze přesto spustit."
   ]
  },
  {
   "cell_type": "code",
   "execution_count": null,
   "metadata": {},
   "outputs": [],
   "source": [
    "print(vytvor_adresu(\"news\"))"
   ]
  },
  {
   "cell_type": "markdown",
   "metadata": {},
   "source": [
    "Takže pokud **nevložíš žádný argument**, bude funkce `vytvor_pozdrav` automaticky pracovat se stringem `\"https://www.brickranker.com\"`.\n",
    "\n",
    "Pokud se však rozhodneš, že tebou zadaný **defaultní parametr** bude potřeba upravit, můžeš jej snadno přepsat jinou hodnotou:"
   ]
  },
  {
   "cell_type": "code",
   "execution_count": null,
   "metadata": {},
   "outputs": [],
   "source": [
    "print(vytvor_adresu(\"prehled-kurzu\", \"https://engeto.cz\"))"
   ]
  },
  {
   "cell_type": "markdown",
   "metadata": {},
   "source": [
    "### Jen poziční parametry\n",
    "\n",
    "---\n",
    "\n",
    "Od verze **Pythonu 3.8** je dostupná tato nová varianta pro zápis parametrů u *uživatelských funkcí*:"
   ]
  },
  {
   "cell_type": "code",
   "execution_count": null,
   "metadata": {},
   "outputs": [],
   "source": [
    "def vypis_pozdrav(jmeno, /, je_uzivatel):\n",
    "    if je_uzivatel:\n",
    "        print(\"Ahoj,\", jmeno)\n",
    "    else:\n",
    "        print(\"Nejsi uživatel!\")"
   ]
  },
  {
   "cell_type": "code",
   "execution_count": null,
   "metadata": {},
   "outputs": [],
   "source": [
    "vypis_pozdrav(\"Matouš\", je_uzivatel=True)"
   ]
  },
  {
   "cell_type": "code",
   "execution_count": null,
   "metadata": {},
   "outputs": [],
   "source": [
    "vypis_pozdrav(\"Matouš\", True)"
   ]
  },
  {
   "cell_type": "markdown",
   "metadata": {},
   "source": [
    "Účelem tohoto typu **zápisu argmentů** je **vynutit od uživatele** zápis všech parametrů nalevo od lomítka `\\` jako poziční argumentů:"
   ]
  },
  {
   "cell_type": "code",
   "execution_count": null,
   "metadata": {},
   "outputs": [],
   "source": [
    "vypis_pozdrav(jmeno=\"Matouš\", je_uzivatel=True)"
   ]
  },
  {
   "cell_type": "code",
   "execution_count": null,
   "metadata": {},
   "outputs": [],
   "source": [
    "vypis_pozdrav(jmeno=\"Matouš\", True)"
   ]
  },
  {
   "cell_type": "markdown",
   "metadata": {},
   "source": [
    "Zatím co parametry napravo od lomítka můžeš:\n",
    "* zapsat jako **poziční**,\n",
    "* zapsat jako **klíčové**.\n",
    "\n",
    "Kde se s tímto zápisem můžeš setkat:"
   ]
  },
  {
   "cell_type": "code",
   "execution_count": null,
   "metadata": {},
   "outputs": [],
   "source": [
    "help(float)"
   ]
  },
  {
   "cell_type": "code",
   "execution_count": null,
   "metadata": {},
   "outputs": [],
   "source": [
    "float(x=\"3.141\")"
   ]
  },
  {
   "cell_type": "code",
   "execution_count": null,
   "metadata": {},
   "outputs": [],
   "source": [
    "float(\"3.141\")"
   ]
  },
  {
   "cell_type": "markdown",
   "metadata": {},
   "source": [
    "Vzhledem k tomu, že je to novější varianta **není tolik běžná**.\n",
    "\n",
    "Spatřit ji můžeš tehdy, pokud chce programátor ostatní uživatele jeho uživatelských funkcí omezit při používání **klíčových argumentů**."
   ]
  },
  {
   "cell_type": "markdown",
   "metadata": {},
   "source": [
    "### *args\n",
    "\n",
    "---\n",
    "\n",
    "Pokud znáš jiné programovací jazyky (jako C nebo C++), možná v tobě znak `*` připomene tzv. *pointery*\n",
    "```c\n",
    "int *pointer_c, c;\n",
    "c = 11;\n",
    "pointer_c = &c;\n",
    "\n",
    "printf(\"Hodnota pointer_c: %d\\n\", c);    // 'Hodnota pointer_c: 11'\n",
    "printf(\"Hodnota c: %d\\n\\n\", *pointer_c); // 'Hodnota c: 11'\n",
    "```\n",
    "\n",
    "Nicméně Python tuto funcionalitu **nepodporuje**.\n",
    "\n",
    "<br>\n",
    "\n",
    "Naopak pomáhá v rámci parametrů oznámit interpretu, že funkce umí pracovat **s různým množstvím argumentů**:"
   ]
  },
  {
   "cell_type": "code",
   "execution_count": null,
   "metadata": {},
   "outputs": [],
   "source": [
    "def vypocitej_prumer(args):\n",
    "    return sum(args) / len(args)"
   ]
  },
  {
   "cell_type": "code",
   "execution_count": null,
   "metadata": {},
   "outputs": [],
   "source": [
    "print(vypocitej_prumer(1, 2, 3, 4, 5))"
   ]
  },
  {
   "cell_type": "markdown",
   "metadata": {},
   "source": [
    "Zásadní je právě přítomnost `*`. Ta sbalí hodnoty do sekvence:"
   ]
  },
  {
   "cell_type": "code",
   "execution_count": null,
   "metadata": {},
   "outputs": [],
   "source": [
    "def vypocitej_prumer(*args):\n",
    "    return sum(args) / len(args)"
   ]
  },
  {
   "cell_type": "code",
   "execution_count": null,
   "metadata": {},
   "outputs": [],
   "source": [
    "print(vypocitej_prumer(1, 2, 3, 4, 5))"
   ]
  },
  {
   "cell_type": "markdown",
   "metadata": {},
   "source": [
    "Jméno parametru `args` potom slouží hlavně jako konvence mezi programátory.\n",
    "\n",
    "V ukázce můžeš klidně použít **jiné jméno**:"
   ]
  },
  {
   "cell_type": "code",
   "execution_count": null,
   "metadata": {},
   "outputs": [],
   "source": [
    "def vypocitej_prumer(*cislice):\n",
    "    return sum(cislice) / len(cislice)"
   ]
  },
  {
   "cell_type": "code",
   "execution_count": null,
   "metadata": {},
   "outputs": [],
   "source": [
    "print(vypocitej_prumer(1, 2, 3, 4, 5, 6))"
   ]
  },
  {
   "cell_type": "markdown",
   "metadata": {},
   "source": [
    "Můžeš namítnout, že podobnou situaci můžeš řešit rovnou pomocí **sekvenčního datového typu**:"
   ]
  },
  {
   "cell_type": "code",
   "execution_count": null,
   "metadata": {},
   "outputs": [],
   "source": [
    "def vypocitej_prumer(cislice):\n",
    "    return sum(cislice) / len(cislice)"
   ]
  },
  {
   "cell_type": "code",
   "execution_count": null,
   "metadata": {},
   "outputs": [],
   "source": [
    "cislice = (1, 2, 3, 4, 5, 6, 7)"
   ]
  },
  {
   "cell_type": "code",
   "execution_count": null,
   "metadata": {},
   "outputs": [],
   "source": [
    "print(vypocitej_prumer(cislice))"
   ]
  },
  {
   "cell_type": "markdown",
   "metadata": {},
   "source": [
    "Často ale nemáš možnost si takhle proměnnou pěkně nachystat (*uložit*).\n",
    "\n",
    "Třeba tehdy, pokud ti někdy číselné řady posílá, aktuální a s různou délkou:"
   ]
  },
  {
   "cell_type": "code",
   "execution_count": null,
   "metadata": {},
   "outputs": [],
   "source": [
    "def vypocitej_prumer(cislice):\n",
    "    return sum(cislice) / len(cislice)"
   ]
  },
  {
   "cell_type": "code",
   "execution_count": null,
   "metadata": {},
   "outputs": [],
   "source": [
    "print(\n",
    "    vypocitej_prumer(1, 2),\n",
    "    vypocitej_prumer(1, 2, 3),\n",
    "    vypocitej_prumer(1, 2, 3, 4),\n",
    "    sep=\"\\n\"\n",
    ")"
   ]
  },
  {
   "cell_type": "code",
   "execution_count": null,
   "metadata": {},
   "outputs": [],
   "source": [
    "def vypocitej_prumer(*cislice):\n",
    "    return sum(cislice) / len(cislice)"
   ]
  },
  {
   "cell_type": "code",
   "execution_count": null,
   "metadata": {},
   "outputs": [],
   "source": [
    "print(\n",
    "    vypocitej_prumer(1, 2),\n",
    "    vypocitej_prumer(1, 2, 3),\n",
    "    vypocitej_prumer(1, 2, 3, 4),\n",
    "    sep=\"\\n\"\n",
    ")"
   ]
  },
  {
   "cell_type": "markdown",
   "metadata": {},
   "source": [
    "Nyní funkci `vypocitej_prumer` zapsanou hvězdičkou oznamuješ, že parametr `argv` může mít jakýkoliv počet hodnot."
   ]
  },
  {
   "cell_type": "markdown",
   "metadata": {},
   "source": [
    "### **kwargs\n",
    "\n",
    "---\n",
    "\n",
    "Dalším způsobem pro *zápis vstupů*, je varianta **pomocí dvou hvězdiček** `**`.\n",
    "\n",
    "<br>\n",
    "\n",
    "Tentokrát seskupuješ dohromady libovolném množství párů:\n",
    "1. **jména objektů,\n",
    "2. **jejich hodnot**.\n",
    "\n",
    "Opět si představ situaci, že postupně dostáváš hodnoty, které potřebuješ schovávat do slovníku:"
   ]
  },
  {
   "cell_type": "code",
   "execution_count": null,
   "metadata": {},
   "outputs": [],
   "source": [
    "def vytvor_slovnik(**kwargs):\n",
    "    \"\"\"\n",
    "    Vrať slovník, který obsahuje libovolné množství sbalených hodnot. \n",
    "    \"\"\"\n",
    "    vysledek = dict()\n",
    "    vysledek.update(kwargs)\n",
    "    return vysledek"
   ]
  },
  {
   "cell_type": "code",
   "execution_count": null,
   "metadata": {},
   "outputs": [],
   "source": [
    "print(vytvor_slovnik(jmeno=\"Matous\", prijmeni=\"Holinka\"))"
   ]
  },
  {
   "cell_type": "markdown",
   "metadata": {},
   "source": [
    "**Jméno parametru** je opět volitelné, ale je doporučováno, držet se všeobecné konvence `*kwargs` (~keyword arguments):"
   ]
  },
  {
   "cell_type": "code",
   "execution_count": null,
   "metadata": {},
   "outputs": [],
   "source": [
    "def vytvor_slovnik(**osobni_udaje):\n",
    "    \"\"\"\n",
    "    Vrať slovník, který obsahuje libovolné množství sbalených hodnot. \n",
    "    \"\"\"\n",
    "    vysledek = dict()\n",
    "    vysledek.update(osobni_udaje)\n",
    "    return vysledek"
   ]
  },
  {
   "cell_type": "code",
   "execution_count": null,
   "metadata": {},
   "outputs": [],
   "source": [
    "from pprint import pprint"
   ]
  },
  {
   "cell_type": "code",
   "execution_count": null,
   "metadata": {},
   "outputs": [],
   "source": [
    "pprint(\n",
    "    vytvor_slovnik(\n",
    "        jmeno=\"Matous\",\n",
    "        prijmeni=\"Holinka\",\n",
    "        vek=90,\n",
    "        email=\"matous@holinka.cz\"\n",
    "    )\n",
    ")"
   ]
  },
  {
   "cell_type": "markdown",
   "metadata": {},
   "source": [
    "### Souhrn\n",
    "\n",
    "---\n",
    "\n",
    "Aby v tom byl alespoň částečně pořádek, níže je uvedená tabulka se **základními charakteristikami**.\n",
    "\n",
    "| Typ vstupu | Ukázka | Kdy používat |\n",
    "| :- | :- | :- |\n",
    "| **poziční vstupy** | `moje_funkce(jmeno, prijmeni)` | ve většině případech, kde není matoucí **pořadí** argumentů, | \n",
    "| **klíčové argumenty** | `moje_funkce(jmeno=\"Tom\", prijmeni=\"Hrom\")` | pokud je pořadí argumentů **nepřehledné**, pojmenuj je, |\n",
    "| **defaultní parametry** | `moje_funkce(email, registrovany=True)` | pokud potřebuješ při spouštění stejný parametr, napiš jej jako *defaultní*, |  \n",
    "| **position-only parametry** | `moje_funkce(jmeno, /, registrovany)` | pokud potřebuješ vynutit zápis **pozičního argumentu**, |\n",
    "| **\\*args** | `moje_funkce(*args)` | pokud má funkce pracovat **s různým množstvím** hodnot v *sekvenci*, |\n",
    "| **\\*\\*kwargs** |  `moje_funkce(**kwargs)` | pokud má funkce pracovat **s různým množstvím** hodnot v párech *klíč*, *hodnota*. |"
   ]
  },
  {
   "cell_type": "markdown",
   "metadata": {},
   "source": [
    "<br>\n",
    "\n",
    "<img src=\"https://external-content.duckduckgo.com/iu/?u=https%3A%2F%2Ftse4.mm.bing.net%2Fth%3Fid%3DOIP.3zH2XO4Ec77ugwOJQSR5KAHaGl%26pid%3DApi&f=1&ipt=da0860e815b2df5c7483ba605846462ead01ddc816a6391c7a24853c7354c4d4&ipo=images\" width=\"300\">\n",
    "\n",
    "## Rámce\n",
    "\n",
    "---"
   ]
  },
  {
   "cell_type": "markdown",
   "metadata": {},
   "source": [
    "*Scope* nebo také rámec je koncept, na kterém pracuje spousta programovacích jazyků, Python není výjimkou.\n",
    "\n",
    "Rámec v podstatě řeší tuto otázku: **\"K jakým proměnným mám v tuto chvíli přístup?\"**"
   ]
  },
  {
   "cell_type": "markdown",
   "metadata": {},
   "source": [
    "### Globální rámec\n",
    "\n",
    "---"
   ]
  },
  {
   "cell_type": "code",
   "execution_count": 1,
   "metadata": {},
   "outputs": [
    {
     "ename": "NameError",
     "evalue": "name 'jmeno' is not defined",
     "output_type": "error",
     "traceback": [
      "\u001b[0;31m---------------------------------------------------------------------------\u001b[0m",
      "\u001b[0;31mNameError\u001b[0m                                 Traceback (most recent call last)",
      "\u001b[0;32m<ipython-input-1-cf169bfe9297>\u001b[0m in \u001b[0;36m<module>\u001b[0;34m\u001b[0m\n\u001b[0;32m----> 1\u001b[0;31m \u001b[0mprint\u001b[0m\u001b[0;34m(\u001b[0m\u001b[0mjmeno\u001b[0m\u001b[0;34m)\u001b[0m\u001b[0;34m\u001b[0m\u001b[0;34m\u001b[0m\u001b[0m\n\u001b[0m",
      "\u001b[0;31mNameError\u001b[0m: name 'jmeno' is not defined"
     ]
    }
   ],
   "source": [
    "print(jmeno)"
   ]
  },
  {
   "cell_type": "markdown",
   "metadata": {},
   "source": [
    "Po spuštění předchozí buňky s funkcí `print` dostaneme chybu s argumentem: `name 'jmeno' is not defined`.\n",
    "\n",
    "Důvodem je **absence proměnné** `jmeno`.\n",
    "\n",
    "Tento problém lze ale popsat jako chybějící `jmeno` v **aktualním rámci**."
   ]
  },
  {
   "cell_type": "code",
   "execution_count": 2,
   "metadata": {},
   "outputs": [],
   "source": [
    "jmeno = \"Matous\""
   ]
  },
  {
   "cell_type": "code",
   "execution_count": 3,
   "metadata": {},
   "outputs": [
    {
     "name": "stdout",
     "output_type": "stream",
     "text": [
      "Matous\n"
     ]
    }
   ],
   "source": [
    "print(jmeno)"
   ]
  },
  {
   "cell_type": "markdown",
   "metadata": {},
   "source": [
    "Teprve nyní tvoříš odkaz/ukazatele na hodnotu stringu `\"Matous\"`.\n",
    "\n",
    "Současně tím **v globálním rámci** zapíšeš proměnnou `jmeno`.\n",
    "\n",
    "Ověřit si, které proměnné máme dostupné v aktuálním globalním rámci můžeme pomocí funkce `globals`:"
   ]
  },
  {
   "cell_type": "code",
   "execution_count": 4,
   "metadata": {},
   "outputs": [
    {
     "name": "stdout",
     "output_type": "stream",
     "text": [
      "{'__name__': '__main__', '__doc__': 'Automatically created module for IPython interactive environment', '__package__': None, '__loader__': None, '__spec__': None, '__builtin__': <module 'builtins' (built-in)>, '__builtins__': <module 'builtins' (built-in)>, '_ih': ['', 'print(jmeno)', 'jmeno = \"Matous\"', 'print(jmeno)', 'print(globals())'], '_oh': {}, '_dh': ['/home/jovyan/work/shared/notebooks_csob'], 'In': ['', 'print(jmeno)', 'jmeno = \"Matous\"', 'print(jmeno)', 'print(globals())'], 'Out': {}, 'get_ipython': <bound method InteractiveShell.get_ipython of <ipykernel.zmqshell.ZMQInteractiveShell object at 0x7fae4a4e36d0>>, 'exit': <IPython.core.autocall.ZMQExitAutocall object at 0x7fae4a4f1850>, 'quit': <IPython.core.autocall.ZMQExitAutocall object at 0x7fae4a4f1850>, '_': '', '__': '', '___': '', '_i': 'print(jmeno)', '_ii': 'jmeno = \"Matous\"', '_iii': 'print(jmeno)', '_i1': 'print(jmeno)', '_i2': 'jmeno = \"Matous\"', 'jmeno': 'Matous', '_i3': 'print(jmeno)', '_i4': 'print(globals())'}\n"
     ]
    }
   ],
   "source": [
    "print(globals())"
   ]
  },
  {
   "cell_type": "markdown",
   "metadata": {},
   "source": [
    "##### Demo: V příkazovém řádku"
   ]
  },
  {
   "cell_type": "markdown",
   "metadata": {},
   "source": [
    "### Lokální rámec\n",
    "\n",
    "---"
   ]
  },
  {
   "cell_type": "code",
   "execution_count": 13,
   "metadata": {},
   "outputs": [],
   "source": [
    "def moje_funkce():\n",
    "    jmeno_2 = \"Lukas\""
   ]
  },
  {
   "cell_type": "code",
   "execution_count": 14,
   "metadata": {},
   "outputs": [],
   "source": [
    "moje_funkce()"
   ]
  },
  {
   "cell_type": "code",
   "execution_count": 15,
   "metadata": {},
   "outputs": [
    {
     "ename": "NameError",
     "evalue": "name 'jmeno_2' is not defined",
     "output_type": "error",
     "traceback": [
      "\u001b[0;31m---------------------------------------------------------------------------\u001b[0m",
      "\u001b[0;31mNameError\u001b[0m                                 Traceback (most recent call last)",
      "\u001b[0;32m<ipython-input-15-be78299be104>\u001b[0m in \u001b[0;36m<module>\u001b[0;34m\u001b[0m\n\u001b[0;32m----> 1\u001b[0;31m \u001b[0mprint\u001b[0m\u001b[0;34m(\u001b[0m\u001b[0mjmeno_2\u001b[0m\u001b[0;34m)\u001b[0m\u001b[0;34m\u001b[0m\u001b[0;34m\u001b[0m\u001b[0m\n\u001b[0m",
      "\u001b[0;31mNameError\u001b[0m: name 'jmeno_2' is not defined"
     ]
    }
   ],
   "source": [
    "print(jmeno_2)"
   ]
  },
  {
   "cell_type": "markdown",
   "metadata": {},
   "source": [
    "Opět výstup: `name 'jmeno_2' is not defined`.\n",
    "\n",
    "Tentokrát však máš proměnnou `jmeno_2` předepsanou.\n",
    "\n",
    "<br>\n",
    "\n",
    "Proměnná jmeno tentokrát existuje, ale pouze **v lokálním rámci** funkce `moje_funkce`.\n",
    "\n",
    "*Lokální rámec* není *globalní rámec*. Proto nemůžeš použít proměnnou jmeno v globálním rámci, pokud je vytvořená v lokálním rámci."
   ]
  },
  {
   "cell_type": "code",
   "execution_count": 19,
   "metadata": {},
   "outputs": [],
   "source": [
    "def moje_funkce():\n",
    "    jmeno_3 = \"Lukas\"\n",
    "    print(jmeno_3)"
   ]
  },
  {
   "cell_type": "markdown",
   "metadata": {},
   "source": [
    "Pokud potřebuješ zpřístupnit proměnnou `jmeno_3` uvnitř funkce, musíš použít funkci `print` **v daném lokálním rámci**."
   ]
  },
  {
   "cell_type": "code",
   "execution_count": 20,
   "metadata": {},
   "outputs": [
    {
     "name": "stdout",
     "output_type": "stream",
     "text": [
      "Lukas\n"
     ]
    }
   ],
   "source": [
    "moje_funkce()"
   ]
  },
  {
   "cell_type": "markdown",
   "metadata": {},
   "source": [
    "Co funkce, to nový **lokální rámec**.\n",
    "\n",
    "Každá funkce ma **svůj vlastní lokální rámec**.\n",
    "\n",
    "Jednotlivé *lokální rámce* jsou od sebe izolované (nevidí proměnné ostatních funkcí)."
   ]
  },
  {
   "cell_type": "markdown",
   "metadata": {},
   "source": [
    "<br>\n",
    "\n",
    "Lokální rámce souvísí s funkcemi, ne **s odsazeným zápisem**:"
   ]
  },
  {
   "cell_type": "code",
   "execution_count": 21,
   "metadata": {},
   "outputs": [],
   "source": [
    "jmeno_4 = \"Marek\""
   ]
  },
  {
   "cell_type": "code",
   "execution_count": 22,
   "metadata": {},
   "outputs": [],
   "source": [
    "if jmeno_4 == \"Matous\":\n",
    "    prijmeni = \"Marny\""
   ]
  },
  {
   "cell_type": "code",
   "execution_count": 23,
   "metadata": {},
   "outputs": [
    {
     "name": "stdout",
     "output_type": "stream",
     "text": [
      "{'__name__': '__main__', '__doc__': 'Automatically created module for IPython interactive environment', '__package__': None, '__loader__': None, '__spec__': None, '__builtin__': <module 'builtins' (built-in)>, '__builtins__': <module 'builtins' (built-in)>, '_ih': ['', 'print(jmeno)', 'jmeno = \"Matous\"', 'print(jmeno)', 'print(globals())', 'def moje_funkce():\\n    jmeno = \"Lukas\"', 'moje_funkce()', 'print(jmeno)', 'del dir()[\"jmeno\"]', 'dir().remove(\"jmeno\")', 'def moje_funkce():\\n    jmeno = \"Lukas\"', 'moje_funkce()', 'print(jmeno)', 'def moje_funkce():\\n    jmeno_2 = \"Lukas\"', 'moje_funkce()', 'print(jmeno_2)', 'jmeno_3 = \"Matous\"', 'def moje_funkce():\\n    jmeno_3 = \"Lukas\"', 'print(jmeno_3)', 'def moje_funkce():\\n    jmeno_3 = \"Lukas\"\\n    print(jmeno_3)', 'moje_funkce()', 'jmeno = \"Marek\"', 'if jmeno == \"Matous\":\\n    prijmeni = \"Marny\"', 'print(globals())'], '_oh': {}, '_dh': ['/home/jovyan/work/shared/notebooks_csob'], 'In': ['', 'print(jmeno)', 'jmeno = \"Matous\"', 'print(jmeno)', 'print(globals())', 'def moje_funkce():\\n    jmeno = \"Lukas\"', 'moje_funkce()', 'print(jmeno)', 'del dir()[\"jmeno\"]', 'dir().remove(\"jmeno\")', 'def moje_funkce():\\n    jmeno = \"Lukas\"', 'moje_funkce()', 'print(jmeno)', 'def moje_funkce():\\n    jmeno_2 = \"Lukas\"', 'moje_funkce()', 'print(jmeno_2)', 'jmeno_3 = \"Matous\"', 'def moje_funkce():\\n    jmeno_3 = \"Lukas\"', 'print(jmeno_3)', 'def moje_funkce():\\n    jmeno_3 = \"Lukas\"\\n    print(jmeno_3)', 'moje_funkce()', 'jmeno = \"Marek\"', 'if jmeno == \"Matous\":\\n    prijmeni = \"Marny\"', 'print(globals())'], 'Out': {}, 'get_ipython': <bound method InteractiveShell.get_ipython of <ipykernel.zmqshell.ZMQInteractiveShell object at 0x7fae4a4e36d0>>, 'exit': <IPython.core.autocall.ZMQExitAutocall object at 0x7fae4a4f1850>, 'quit': <IPython.core.autocall.ZMQExitAutocall object at 0x7fae4a4f1850>, '_': '', '__': '', '___': '', '_i': 'if jmeno == \"Matous\":\\n    prijmeni = \"Marny\"', '_ii': 'jmeno = \"Marek\"', '_iii': 'moje_funkce()', '_i1': 'print(jmeno)', '_i2': 'jmeno = \"Matous\"', 'jmeno': 'Marek', '_i3': 'print(jmeno)', '_i4': 'print(globals())', '_i5': 'def moje_funkce():\\n    jmeno = \"Lukas\"', 'moje_funkce': <function moje_funkce at 0x7fae483aa1f0>, '_i6': 'moje_funkce()', '_i7': 'print(jmeno)', '_i8': 'del dir()[\"jmeno\"]', '_i9': 'dir().remove(\"jmeno\")', '_i10': 'def moje_funkce():\\n    jmeno = \"Lukas\"', '_i11': 'moje_funkce()', '_i12': 'print(jmeno)', '_i13': 'def moje_funkce():\\n    jmeno_2 = \"Lukas\"', '_i14': 'moje_funkce()', '_i15': 'print(jmeno_2)', '_i16': 'jmeno_3 = \"Matous\"', 'jmeno_3': 'Matous', '_i17': 'def moje_funkce():\\n    jmeno_3 = \"Lukas\"', '_i18': 'print(jmeno_3)', '_i19': 'def moje_funkce():\\n    jmeno_3 = \"Lukas\"\\n    print(jmeno_3)', '_i20': 'moje_funkce()', '_i21': 'jmeno = \"Marek\"', '_i22': 'if jmeno == \"Matous\":\\n    prijmeni = \"Marny\"', '_i23': 'print(globals())'}\n"
     ]
    }
   ],
   "source": [
    "print(globals())"
   ]
  },
  {
   "cell_type": "markdown",
   "metadata": {},
   "source": [
    "Pokud chceš ověřit, jaké proměnné máš v daném **lokalním rámci**, použij uvnitř konkretního prostředí funkci `locals`:"
   ]
  },
  {
   "cell_type": "code",
   "execution_count": 26,
   "metadata": {},
   "outputs": [],
   "source": [
    "def moje_funkce():\n",
    "    \"\"\"\n",
    "    Funkce LOCALS bude pracovat jen uvnitř funkce.\n",
    "    \"\"\"\n",
    "    jmeno_5 = \"Lukas\"\n",
    "    prijmeni_5 = \"Marek\"\n",
    "    print(\"Lokální rámec:\", locals())"
   ]
  },
  {
   "cell_type": "code",
   "execution_count": 27,
   "metadata": {},
   "outputs": [
    {
     "name": "stdout",
     "output_type": "stream",
     "text": [
      "Lokální rámec: {'jmeno_5': 'Lukas', 'prijmeni_5': 'Marek'}\n"
     ]
    }
   ],
   "source": [
    "moje_funkce()"
   ]
  },
  {
   "cell_type": "markdown",
   "metadata": {},
   "source": [
    "Pokud budeš mít uživatelských funkcí víc, můžeš pozorovat, jak žádná nevidí do jiné funkce:"
   ]
  },
  {
   "cell_type": "code",
   "execution_count": 28,
   "metadata": {},
   "outputs": [],
   "source": [
    "def zapis_zahlavi(jmeno):\n",
    "    datum = \"11/11/2011\"\n",
    "    print(\"Lokální rámec 'zapis_zahlavi':\", locals())\n",
    "    return f\"{datum}-{jmeno}\""
   ]
  },
  {
   "cell_type": "code",
   "execution_count": 30,
   "metadata": {},
   "outputs": [],
   "source": [
    "def zapis_zpravu(hlavicka, text):\n",
    "    print(\"Lokální rámec 'zapis_zpravu':\", locals())\n",
    "    return f\"{hlavicka}: {text}\""
   ]
  },
  {
   "cell_type": "code",
   "execution_count": 31,
   "metadata": {},
   "outputs": [
    {
     "name": "stdout",
     "output_type": "stream",
     "text": [
      "Lokální rámec 'zapis_zahlavi': {'jmeno': 'Matouš', 'datum': '11/11/2011'}\n"
     ]
    }
   ],
   "source": [
    "zahl = zapis_zahlavi(\"Matouš\")"
   ]
  },
  {
   "cell_type": "code",
   "execution_count": 32,
   "metadata": {},
   "outputs": [
    {
     "name": "stdout",
     "output_type": "stream",
     "text": [
      "Lokální rámec 'zapis_zpravu': {'hlavicka': '11/11/2011-Matouš', 'text': 'Ahoj všichni!'}\n"
     ]
    }
   ],
   "source": [
    "zprava = zapis_zpravu(zahl, \"Ahoj všichni!\")"
   ]
  },
  {
   "cell_type": "markdown",
   "metadata": {},
   "source": [
    "Tudíž nejsi obyčejně schopen ve funkci `zapis_zpravu` použít parametr `jmeno` atd."
   ]
  },
  {
   "cell_type": "markdown",
   "metadata": {},
   "source": [
    "### Zabudovaný rámec (~built-in scope)\n",
    "\n",
    "---"
   ]
  },
  {
   "cell_type": "markdown",
   "metadata": {},
   "source": [
    "Tento rámec obsahuje všechny *výjimky*, *zabudované funkce*, aj:"
   ]
  },
  {
   "cell_type": "code",
   "execution_count": 39,
   "metadata": {},
   "outputs": [
    {
     "name": "stdout",
     "output_type": "stream",
     "text": [
      "<built-in function sum>\n"
     ]
    }
   ],
   "source": [
    "print(sum)"
   ]
  },
  {
   "cell_type": "markdown",
   "metadata": {},
   "source": [
    "Máš jej k dispozici okamžitě, po spuštění *interpretu*, takže můžeš použít objekty, které má k dispozici."
   ]
  },
  {
   "cell_type": "code",
   "execution_count": 40,
   "metadata": {},
   "outputs": [],
   "source": [
    "import builtins"
   ]
  },
  {
   "cell_type": "code",
   "execution_count": 41,
   "metadata": {},
   "outputs": [
    {
     "data": {
      "text/plain": [
       "['ArithmeticError',\n",
       " 'AssertionError',\n",
       " 'AttributeError',\n",
       " 'BaseException',\n",
       " 'BlockingIOError',\n",
       " 'BrokenPipeError',\n",
       " 'BufferError',\n",
       " 'BytesWarning',\n",
       " 'ChildProcessError',\n",
       " 'ConnectionAbortedError',\n",
       " 'ConnectionError',\n",
       " 'ConnectionRefusedError',\n",
       " 'ConnectionResetError',\n",
       " 'DeprecationWarning',\n",
       " 'EOFError',\n",
       " 'Ellipsis',\n",
       " 'EnvironmentError',\n",
       " 'Exception',\n",
       " 'False',\n",
       " 'FileExistsError',\n",
       " 'FileNotFoundError',\n",
       " 'FloatingPointError',\n",
       " 'FutureWarning',\n",
       " 'GeneratorExit',\n",
       " 'IOError',\n",
       " 'ImportError',\n",
       " 'ImportWarning',\n",
       " 'IndentationError',\n",
       " 'IndexError',\n",
       " 'InterruptedError',\n",
       " 'IsADirectoryError',\n",
       " 'KeyError',\n",
       " 'KeyboardInterrupt',\n",
       " 'LookupError',\n",
       " 'MemoryError',\n",
       " 'ModuleNotFoundError',\n",
       " 'NameError',\n",
       " 'None',\n",
       " 'NotADirectoryError',\n",
       " 'NotImplemented',\n",
       " 'NotImplementedError',\n",
       " 'OSError',\n",
       " 'OverflowError',\n",
       " 'PendingDeprecationWarning',\n",
       " 'PermissionError',\n",
       " 'ProcessLookupError',\n",
       " 'RecursionError',\n",
       " 'ReferenceError',\n",
       " 'ResourceWarning',\n",
       " 'RuntimeError',\n",
       " 'RuntimeWarning',\n",
       " 'StopAsyncIteration',\n",
       " 'StopIteration',\n",
       " 'SyntaxError',\n",
       " 'SyntaxWarning',\n",
       " 'SystemError',\n",
       " 'SystemExit',\n",
       " 'TabError',\n",
       " 'TimeoutError',\n",
       " 'True',\n",
       " 'TypeError',\n",
       " 'UnboundLocalError',\n",
       " 'UnicodeDecodeError',\n",
       " 'UnicodeEncodeError',\n",
       " 'UnicodeError',\n",
       " 'UnicodeTranslateError',\n",
       " 'UnicodeWarning',\n",
       " 'UserWarning',\n",
       " 'ValueError',\n",
       " 'Warning',\n",
       " 'ZeroDivisionError',\n",
       " '__IPYTHON__',\n",
       " '__build_class__',\n",
       " '__debug__',\n",
       " '__doc__',\n",
       " '__import__',\n",
       " '__loader__',\n",
       " '__name__',\n",
       " '__package__',\n",
       " '__spec__',\n",
       " 'abs',\n",
       " 'all',\n",
       " 'any',\n",
       " 'ascii',\n",
       " 'bin',\n",
       " 'bool',\n",
       " 'breakpoint',\n",
       " 'bytearray',\n",
       " 'bytes',\n",
       " 'callable',\n",
       " 'chr',\n",
       " 'classmethod',\n",
       " 'compile',\n",
       " 'complex',\n",
       " 'copyright',\n",
       " 'credits',\n",
       " 'delattr',\n",
       " 'dict',\n",
       " 'dir',\n",
       " 'display',\n",
       " 'divmod',\n",
       " 'enumerate',\n",
       " 'eval',\n",
       " 'exec',\n",
       " 'filter',\n",
       " 'float',\n",
       " 'format',\n",
       " 'frozenset',\n",
       " 'get_ipython',\n",
       " 'getattr',\n",
       " 'globals',\n",
       " 'hasattr',\n",
       " 'hash',\n",
       " 'help',\n",
       " 'hex',\n",
       " 'id',\n",
       " 'input',\n",
       " 'int',\n",
       " 'isinstance',\n",
       " 'issubclass',\n",
       " 'iter',\n",
       " 'len',\n",
       " 'license',\n",
       " 'list',\n",
       " 'locals',\n",
       " 'map',\n",
       " 'max',\n",
       " 'memoryview',\n",
       " 'min',\n",
       " 'next',\n",
       " 'object',\n",
       " 'oct',\n",
       " 'open',\n",
       " 'ord',\n",
       " 'pow',\n",
       " 'print',\n",
       " 'property',\n",
       " 'range',\n",
       " 'repr',\n",
       " 'reversed',\n",
       " 'round',\n",
       " 'set',\n",
       " 'setattr',\n",
       " 'slice',\n",
       " 'sorted',\n",
       " 'staticmethod',\n",
       " 'str',\n",
       " 'sum',\n",
       " 'super',\n",
       " 'tuple',\n",
       " 'type',\n",
       " 'vars',\n",
       " 'zip']"
      ]
     },
     "execution_count": 41,
     "metadata": {},
     "output_type": "execute_result"
    }
   ],
   "source": [
    "dir(builtins)"
   ]
  },
  {
   "cell_type": "markdown",
   "metadata": {},
   "source": [
    "Takže to jsou **3 základní rámce** v Pythonu:"
   ]
  },
  {
   "cell_type": "markdown",
   "metadata": {},
   "source": [
    "<img src=\"https://external-content.duckduckgo.com/iu/?u=https%3A%2F%2Ftse1.mm.bing.net%2Fth%3Fid%3DOIP.PyAwJkVFGp6IVXtRpQXaowHaE6%26pid%3DApi&f=1&ipt=113d12a3bc2e90ece37b5ab11754b3e28c8bfca59a154810dc08376f9ee634e8&ipo=images\" width=\"350\">"
   ]
  },
  {
   "cell_type": "markdown",
   "metadata": {},
   "source": [
    "### Uzavírající rámec (~enclosing scope)\n",
    "\n",
    "---"
   ]
  },
  {
   "cell_type": "markdown",
   "metadata": {},
   "source": [
    "Jde o téma pouze **pro ostřílenější pythonisty.**\n",
    "\n",
    "Celé to vypadá jako jedna *uživatelská funkce* **zanořená** do jiné *uživatelské funkce*:"
   ]
  },
  {
   "cell_type": "code",
   "execution_count": 44,
   "metadata": {},
   "outputs": [],
   "source": [
    "def rozdel_podle_znaku(adresa, znak=\"@\"):  # Uzavírající rámec\n",
    "    rozdeleny_mail = adresa.split(znak)\n",
    "    \n",
    "    def oddel_domenu(nedomena, znak=\".\"):  # Lokální rámec\n",
    "        return nedomena[1].split(znak)[0]\n",
    "    \n",
    "    return oddel_domenu(rozdeleny_mail) "
   ]
  },
  {
   "cell_type": "code",
   "execution_count": 45,
   "metadata": {},
   "outputs": [
    {
     "name": "stdout",
     "output_type": "stream",
     "text": [
      "holinka\n"
     ]
    }
   ],
   "source": [
    "print(rozdel_podle_znaku(\"matous@holinka.cz\"))"
   ]
  },
  {
   "cell_type": "markdown",
   "metadata": {},
   "source": [
    "Tedy původní *lokální rámec* se mění na *uzavírající rámec* tehdy, pokud uvnitř funkce (`rozdel_podle_znaku`) najdeš jinou, uzavřenou funkci (`oddel_domenu`).\n",
    "\n",
    "Aplikace této složitější tématiky pak lze dohledat u:\n",
    "1. *Closures*,\n",
    "2. *dekorátorů*."
   ]
  },
  {
   "cell_type": "markdown",
   "metadata": {},
   "source": [
    "### Dekorátor\n",
    "\n",
    "---"
   ]
  },
  {
   "cell_type": "code",
   "execution_count": 48,
   "metadata": {},
   "outputs": [],
   "source": [
    "from time import sleep"
   ]
  },
  {
   "cell_type": "code",
   "execution_count": 89,
   "metadata": {},
   "outputs": [],
   "source": [
    "log_file = (\n",
    "    \"1.řádek - konverguji..\",\n",
    "    \"2.řádek - konverguji..\",\n",
    "    \"3.řádek - konverguji..\",\n",
    "    \"4.řádek - mám hotovo.\",\n",
    "    \"5.řádek - mám hotovo.\"\n",
    ")"
   ]
  },
  {
   "cell_type": "code",
   "execution_count": 90,
   "metadata": {},
   "outputs": [],
   "source": [
    "def proved_kontrolu(jmeno_souboru):\n",
    "    for zaznam in jmeno_souboru:\n",
    "        if over_obsah_souboru(zaznam):\n",
    "            print(\"INFO: Konec konvergence!\")\n",
    "            return True\n",
    "        else:\n",
    "            print(\"INFO: Soubor se přepisuje..\")\n",
    "        sleep(2)\n",
    "\n",
    "    else:\n",
    "        print(\"WARNING: Nedokonvergovalo!\")\n",
    "        return False"
   ]
  },
  {
   "cell_type": "code",
   "execution_count": 91,
   "metadata": {},
   "outputs": [],
   "source": [
    "def over_obsah_souboru(jmeno_souboru):\n",
    "    # Otevírám soubor a kontroluji obsah\n",
    "    return jmeno_souboru.split(\"-\")[1] == \" mám hotovo.\""
   ]
  },
  {
   "cell_type": "code",
   "execution_count": 93,
   "metadata": {},
   "outputs": [
    {
     "name": "stdout",
     "output_type": "stream",
     "text": [
      "INFO: Soubor se přepisuje..\n",
      "INFO: Soubor se přepisuje..\n",
      "INFO: Soubor se přepisuje..\n",
      "INFO: Konec konvergence!\n"
     ]
    },
    {
     "data": {
      "text/plain": [
       "True"
      ]
     },
     "execution_count": 93,
     "metadata": {},
     "output_type": "execute_result"
    }
   ],
   "source": [
    "proved_kontrolu(log_file)"
   ]
  },
  {
   "cell_type": "markdown",
   "metadata": {},
   "source": [
    "Celý zápis lze formulovat pomocí *dekorátoru*:"
   ]
  },
  {
   "cell_type": "code",
   "execution_count": 94,
   "metadata": {},
   "outputs": [],
   "source": [
    "def proved_kontrolu(funkce):               # Náš nový dekorátor, parametr je funkce, kterou chci dekorovat\n",
    "\n",
    "    def obalovaci_funkce(jmeno_souboru):   # Obalovací funkce\n",
    "        for zaznam in jmeno_souboru:\n",
    "            if funkce(zaznam):             # Volání dekorované funkce\n",
    "                print(\"INFO: Konec konvergence!\")\n",
    "                return True\n",
    "            else:\n",
    "                print(\"INFO: Soubor se přepisuje..\")\n",
    "            \n",
    "            sleep(2)\n",
    "\n",
    "    return obalovaci_funkce                # Vracím výstup dekorované funkce"
   ]
  },
  {
   "cell_type": "code",
   "execution_count": 87,
   "metadata": {},
   "outputs": [],
   "source": [
    "@proved_kontrolu                           # Dekorátor v akci\n",
    "def over_obsah_souboru(jmeno_souboru):     # Dekorovaná funkce\n",
    "    return jmeno_souboru.split(\"-\")[1] == \" mám hotovo.\""
   ]
  },
  {
   "cell_type": "code",
   "execution_count": 88,
   "metadata": {},
   "outputs": [
    {
     "name": "stdout",
     "output_type": "stream",
     "text": [
      "INFO: Soubor se přepisuje..\n",
      "INFO: Soubor se přepisuje..\n",
      "INFO: Soubor se přepisuje..\n",
      "INFO: Konec konvergence!\n"
     ]
    },
    {
     "data": {
      "text/plain": [
       "True"
      ]
     },
     "execution_count": 88,
     "metadata": {},
     "output_type": "execute_result"
    }
   ],
   "source": [
    "over_obsah_souboru(log_file)"
   ]
  },
  {
   "cell_type": "markdown",
   "metadata": {},
   "source": [
    "\n",
    "\n",
    "### Shrnutí rámců\n",
    "\n",
    "---\n",
    "\n",
    "Proč je tedy znalost a pochopení pravidel rámců tak důležitá?\n",
    "\n",
    "prostredi = \"globalni\"\n",
    "\n",
    "def funkce_a():\n",
    "    prostredi = \"uzavirajici\"\n",
    "\n",
    "    def funkce_b():\n",
    "        prostredi = \"lokalni\"\n",
    "        print(prostredi)\n",
    "\n",
    "    funkce_b()\n",
    "funkce_a()\n",
    "\n",
    "---------------------------------------------------------------------------\n",
    "NameError                                 Traceback (most recent call last)\n",
    " in \n",
    "      9 \n",
    "     10     funkce_b()\n",
    "---> 11 funkce_a()\n",
    "\n",
    " in funkce_a()\n",
    "      8         print(prostredi)\n",
    "      9 \n",
    "---> 10     funkce_b()\n",
    "     11 funkce_a()\n",
    "\n",
    " in funkce_b()\n",
    "      6     def funkce_b():\n",
    "      7 #         prostredi = \"lokalni\"\n",
    "----> 8         print(prostredi)\n",
    "      9 \n",
    "     10     funkce_b()\n",
    "\n",
    "NameError: name 'prostredi' is not defined\n",
    "\n",
    "prostredi = \"globalni\"\n",
    "\n",
    "def funkce_a():\n",
    "    prostredi = \"lokalni\"\n",
    "    print(globals()[\"prostredi\"])\n",
    "\n",
    "funkce_a()\n",
    "\n",
    "Struktura rámců umožňuje hierarchické hledání proměnných:\n",
    "\n",
    "    Nejprve prohledá lokalní rámec, v němž se nachází,\n",
    "    Pokud není uvnitř, zkus uzavírající rámec nebo obecně nadřazený rámec,\n",
    "    Pokud není uvnitř uzavírajícího prostředí, zkus globální rámec,\n",
    "    Pokud neni uvnitr globálního, zkus zabudovaný rámec,\n",
    "    Pokud není uvnitř zabudovaného rámce -> NameError"
   ]
  },
  {
   "cell_type": "markdown",
   "metadata": {},
   "source": [
    "<br>\n",
    "\n",
    "<img src=\"https://external-content.duckduckgo.com/iu/?u=https%3A%2F%2Ftse4.mm.bing.net%2Fth%3Fid%3DOIP.8xc1q9ugaYbcV9Iu5UvRnwHaHa%26pid%3DApi&f=1\" width=\"200\">\n",
    "\n",
    "### Vstupy funkcí, rozdělení\n",
    "\n",
    "---\n"
   ]
  },
  {
   "cell_type": "markdown",
   "metadata": {},
   "source": [
    "Obecně funkce pracuje se **vstupy**.\n",
    "\n",
    "Tento pojem souhrnně označuje nejen *parametry*, ale také *argumenty*.\n",
    "\n",
    "Ty jsou potom do funkce dávkované dle několika vzorů.\n",
    "\n",
    "<br>\n",
    "\n",
    "Rozdíl mezi nimi je následující:\n",
    "- **parametry** slouží jako obecné proměnné při definici, \n",
    "- **argumenty** jsou konkrétní hodnoty, které vkládáš při spouštění.\n",
    "\n",
    "<br>\n",
    "\n",
    "Prohlédni si ukázku:"
   ]
  },
  {
   "cell_type": "code",
   "execution_count": null,
   "metadata": {},
   "outputs": [],
   "source": [
    "def spoj_cele_jmeno(jmeno, prijmeni):\n",
    "    \"\"\"\n",
    "    Spoj zformatovane hodnoty v parametrech.\n",
    "\n",
    "    Priklad:\n",
    "    >>> formatuj_cele_jmeno(\"Petr\", \"Svetr\")\n",
    "    p.svetr\n",
    "    \"\"\"\n",
    "    return \".\".join(\n",
    "        (\n",
    "            jmeno[0].lower(),\n",
    "            prijmeni.lower()\n",
    "        )\n",
    "    )"
   ]
  },
  {
   "cell_type": "code",
   "execution_count": null,
   "metadata": {},
   "outputs": [],
   "source": [
    "print(spoj_cele_jmeno(\"Adam\", \"Novak\"))"
   ]
  },
  {
   "cell_type": "markdown",
   "metadata": {},
   "source": [
    "Co jsou tedy **parametry** a co **argumenty**?"
   ]
  },
  {
   "cell_type": "markdown",
   "metadata": {},
   "source": [
    "<br>\n",
    "\n",
    "<img src=\"http://mathinsight.org/media/image/image/function_machine.png\" width=\"400\">"
   ]
  },
  {
   "cell_type": "markdown",
   "metadata": {},
   "source": [
    "<br>\n",
    "\n",
    "<img src=\"https://external-content.duckduckgo.com/iu/?u=https%3A%2F%2Ftse1.mm.bing.net%2Fth%3Fid%3DOIP.uufe_GDvF2057NFWgKOVXwAAAA%26pid%3DApi&f=1\" width=\"200\">\n",
    "\n",
    "## Dokumentace funkcí\n",
    "\n",
    "---\n"
   ]
  },
  {
   "cell_type": "markdown",
   "metadata": {},
   "source": [
    "Psát **dokumentaci** funkce resp. *docstring* je volitelnou záležitostí.\n",
    "\n",
    "### Důsledné jméno funkce\n",
    "\n",
    "Někdy potřebuješ vytvořit jednoduchou funkci, jejíž účel plně vystihuje její **jméno**:"
   ]
  },
  {
   "cell_type": "code",
   "execution_count": null,
   "metadata": {},
   "outputs": [],
   "source": [
    "def vynasob_dve_cisla(x, y):\n",
    "    return x * y"
   ]
  },
  {
   "cell_type": "code",
   "execution_count": null,
   "metadata": {},
   "outputs": [],
   "source": [
    "print(vynasob_dve_cisla(2, 8))"
   ]
  },
  {
   "cell_type": "markdown",
   "metadata": {},
   "source": [
    "V takovém případě **není potřeba** zapisovat *docstring*.\n",
    "\n",
    "<br>\n",
    "\n",
    "Někdy se ale popis může hodit. Zejména tehdy pokud **jméno** *uživatelské funkce* **nedostačuje**:"
   ]
  },
  {
   "cell_type": "code",
   "execution_count": null,
   "metadata": {},
   "outputs": [],
   "source": [
    "def vypocitej_vyskyt_dat(pismena):\n",
    "    vyskyt = dict()\n",
    "\n",
    "    for slovo in pismena:\n",
    "        vyskyt[slovo] = vyskyt.setdefault(slovo, 0) + 1  # overkill pro počítání výskytů\n",
    "    else:\n",
    "        return vyskyt"
   ]
  },
  {
   "cell_type": "code",
   "execution_count": null,
   "metadata": {},
   "outputs": [],
   "source": [
    "print(vypocitej_vyskyt_dat([\"a\", \"b\", \"a\", \"c\", \"d\", \"b\", \"a\"]))"
   ]
  },
  {
   "cell_type": "markdown",
   "metadata": {},
   "source": [
    "Nyní už **není zcela patrné**, jaký je účel funkce, že?\n",
    "\n",
    "<br>\n",
    "\n",
    "### Popisek funkce\n",
    "\n",
    "**Jméno** samotné funkce, v ukázce výš, není dostačující:"
   ]
  },
  {
   "cell_type": "code",
   "execution_count": null,
   "metadata": {},
   "outputs": [],
   "source": [
    "def vypocitej_vyskyt_dat(pismena):\n",
    "    \"\"\"\n",
    "    Vrať slovník, který obsahuje výčet jednotlivých prvků v zadaném parametru.\n",
    "    \"\"\"\n",
    "    vyskyt = dict()\n",
    "\n",
    "    for slovo in pismena:\n",
    "        vyskyt[slovo] = vyskyt.setdefault(slovo, 0) + 1\n",
    "    else:\n",
    "        return vyskyt"
   ]
  },
  {
   "cell_type": "code",
   "execution_count": null,
   "metadata": {},
   "outputs": [],
   "source": [
    "print(vypocitej_vyskyt_dat((\"a\", \"b\", \"a\", \"c\", \"d\", \"b\", \"a\")))"
   ]
  },
  {
   "cell_type": "markdown",
   "metadata": {},
   "source": [
    "Jednou větou **vysvětlená podstata** této *uživatelské funkce* lépe popíše účel funkce `vypocitej_vyskyt_dat`.\n",
    "\n",
    "<br>\n",
    "\n",
    "Dále můžeš tuto *nápovědu* získat pomocí zabudované funkce `help`:"
   ]
  },
  {
   "cell_type": "code",
   "execution_count": null,
   "metadata": {},
   "outputs": [],
   "source": [
    "help(vypocitej_vyskyt_dat)"
   ]
  },
  {
   "cell_type": "markdown",
   "metadata": {},
   "source": [
    "<br>\n",
    "\n",
    "\n",
    "### Vysvětlivky parametrů a vrácené hodnoty\n",
    "\n",
    "Pokud je krátký *docstring* **nedostatečný**, nebo pracuješ s různými **parametry**, které jsou pro uživatele komplikované, můžeš je také popsat:"
   ]
  },
  {
   "cell_type": "code",
   "execution_count": null,
   "metadata": {},
   "outputs": [],
   "source": [
    "def vypocitej_vyskyt_dat(pismena):\n",
    "    \"\"\"\n",
    "    Vrať slovník, který obsahuje výčet jednotlivých prvků v zadaném parametu.\n",
    "\n",
    "    :param pismena: parametr \"pismena\" obsahující zadaný text.\n",
    "    :type pismena: tuple\n",
    "    :return: hodnota se znaky z textu a počet jejich výskytů.\n",
    "    :rtype: dict\n",
    "    \"\"\"\n",
    "    vyskyt = {}\n",
    "       \n",
    "    for slovo in pismena:\n",
    "        vyskyt[slovo] = vyskyt.setdefault(slovo, 0) + 1\n",
    "\n",
    "    return vyskyt"
   ]
  },
  {
   "cell_type": "code",
   "execution_count": null,
   "metadata": {},
   "outputs": [],
   "source": [
    "print(vypocitej_vyskyt_dat((\"a\", \"b\", \"a\", \"c\", \"d\", \"b\", \"a\")))"
   ]
  },
  {
   "cell_type": "markdown",
   "metadata": {},
   "source": [
    "<br>\n",
    "\n",
    "### Příklad průběhu funkce\n",
    "\n",
    "Někdy je dobrá ukázka lepší jak tisíc slov, proto je později vhodné úvadět **příklad použití**:"
   ]
  },
  {
   "cell_type": "code",
   "execution_count": null,
   "metadata": {},
   "outputs": [],
   "source": [
    "def vypocitej_vyskyt_dat(pismena):\n",
    "    \"\"\"\n",
    "    Vrať slovník, který obsahuje výčet jednotlivých prvků v zadaném parametru.\n",
    "\n",
    "    :param pismena: parametr \"pismena\" obsahující zadaný text.\n",
    "    :type pismena: tuple\n",
    "    :return: slovník se znaky z textu a počet jejich výskytů.\n",
    "    :rtype: dict\n",
    "\n",
    "    :Example:\n",
    "    >>> vysledek = vypocitej_vyskyt_dat((\"a\", \"b\", \"a\"))\n",
    "    >>> vysledek\n",
    "    {'a': 2, 'b': 1}\n",
    "    \"\"\"\n",
    "    vyskyt = dict()\n",
    "\n",
    "    for slovo in pismena:\n",
    "        vyskyt[slovo] = vyskyt.setdefault(slovo, 0) + 1\n",
    "\n",
    "    return vyskyt"
   ]
  },
  {
   "cell_type": "code",
   "execution_count": null,
   "metadata": {},
   "outputs": [],
   "source": [
    "print(vypocitej_vyskyt_dat((\"a\", \"b\", \"a\", \"c\", \"d\", \"b\", \"a\")))"
   ]
  },
  {
   "cell_type": "markdown",
   "metadata": {},
   "source": [
    "Je tedy **nutné** zapisovat *docstring*? Určitě to **není nutnost**.\n",
    "\n",
    "Ale rozhodně je to velmi nápomocné, protože ti pomůže uvědomit si:\n",
    "1. Jestli dostatečně rozumíš **účelu funkce**,\n",
    "2. jestli funkce skutečně **provádí jen to, co má**,\n",
    "3. jestli má správný **počet parametrů**, případně jakého typu,\n",
    "4. jestli a jaké objekty **funkce vrací**.\n",
    "\n",
    "<br>\n",
    "\n",
    "Do budoucna potom můžeš využít *docstring* při:\n",
    "1. Generování **dokumentace projektu** pomocí nástroje [Sphinx](https://www.sphinx-doc.org/en/master/),\n",
    "2. **testování funkcí** pomocí modulu [doctest](https://docs.python.org/3/library/doctest.html)."
   ]
  },
  {
   "cell_type": "code",
   "execution_count": null,
   "metadata": {},
   "outputs": [],
   "source": [
    "def vypocitej_vyskyt_dat(pismena):\n",
    "    \"\"\"\n",
    "    Vrať slovník, který obsahuje výčet jednotlivých prvků v zadaném parametru.\n",
    "\n",
    "    :param pismena: parametr \"pismena\" obsahující zadaný text.\n",
    "    :type pismena: tuple\n",
    "    :return: slovník se znaky z textu a počet jejich výskytů.\n",
    "    :rtype: dict\n",
    "\n",
    "    :Example:\n",
    "    >>> vysledek = vypocitej_vyskyt_dat((\"a\", \"b\", \"a\"))\n",
    "    >>> vysledek\n",
    "    {'a': 2, 'b': 1}\n",
    "    >>> vysledek = vypocitej_vyskyt_dat((\"a\", \"b\"))\n",
    "    >>> vysledek\n",
    "    {'a': 1, 'b': 1}\n",
    "    \"\"\"\n",
    "    vyskyt = dict()\n",
    "\n",
    "    for slovo in pismena:\n",
    "        vyskyt[slovo] = vyskyt.setdefault(slovo, 0) + 1\n",
    "\n",
    "    return vyskyt\n",
    "\n",
    "\n",
    "import doctest\n",
    "doctest.testmod()"
   ]
  },
  {
   "cell_type": "markdown",
   "metadata": {},
   "source": [
    "<img src=\"https://external-content.duckduckgo.com/iu/?u=https%3A%2F%2Ftse2.mm.bing.net%2Fth%3Fid%3DOIP.cjfmUt8xYHoEdmQWxT1fBgHaHa%26pid%3DApi&f=1\" width=\"200\">\n",
    "\n",
    "## Co je `__name__`\n",
    "\n",
    "---"
   ]
  },
  {
   "cell_type": "markdown",
   "metadata": {},
   "source": [
    "Velmi často se při čtení cizího kódu můžeš setkat s **tímto ohlášením**:\n",
    "```python\n",
    "if __name__ == \"__main__\":\n",
    "    # ...\n",
    "```\n",
    "\n",
    "Bývá velmi často vložené právě **na konci modulu** (tedy souboru s příponou `.py`)\n",
    "\n",
    "Představ si situaci, že potřebuješ nahrát jen funkci `funkce_2`:"
   ]
  },
  {
   "cell_type": "code",
   "execution_count": null,
   "metadata": {},
   "outputs": [],
   "source": [
    "# soubor muj_modul.py\n",
    "def hlavni_funkce():\n",
    "    funkce_1()\n",
    "    funkce_2()\n",
    "    funkce_3()\n",
    "\n",
    "def funkce_1():\n",
    "    print(\"Spouštění první funkce..\")\n",
    "\n",
    "def funkce_2():\n",
    "    \"\"\"Funkce, kterou potřebuješ.\"\"\"\n",
    "    print(\"Spouštění druhé funkce..\")\n",
    "\n",
    "def funkce_3():\n",
    "    print(\"Spouštění třetí funkce..\")\n",
    "\n",
    "hlavni_funkce()"
   ]
  },
  {
   "cell_type": "markdown",
   "metadata": {},
   "source": [
    "Díky, **nahrávání knihoven** můžeš snadno použít *funkci* z jiného modulu.\n",
    "\n",
    "Víš totiž, kde je soubor `muj_soubor.py` umístěný:\n",
    "```python\n",
    "import muj_modul\n",
    "\n",
    "muj_modul.funkce_2()\n",
    "```"
   ]
  },
  {
   "cell_type": "markdown",
   "metadata": {},
   "source": [
    "Jakmile tebou vytvořený soubor **s nahraným modulem** spustíš, získáš tento výstup:\n",
    "```\n",
    "Spouštění první funkce...\n",
    "Spouštění druhé funkce...\n",
    "Spouštění třetí funkce...\n",
    "Spouštění druhé funkce...\n",
    "```"
   ]
  },
  {
   "cell_type": "markdown",
   "metadata": {},
   "source": [
    "Místo, aby došlo ke spuštění **pouze** *uživatelské funkce* `funkce_2`, došlo ke spuštění všech funkcí.\n",
    "\n",
    "<br>\n",
    "\n",
    "V této ukázce to není tak zásadní problém. Ale představ si, že by spuštění funkcí trvalo **několik minut** a potřebovalo **nezanedbatelné množství paměti** tvého počítače.\n",
    "\n",
    "Tomu je potřeba rozhodně zabránit, jinak nemůžeš rozumně pracovat s takovým modulem.\n",
    "\n",
    "<br>\n",
    "\n",
    "Je tedy nutné:\n",
    "1. `muj_modul.py` **spouštět jako skript (program)** pro Python s funkcí `hlavni_funkce()`,\n",
    "2. `muj_modul.py` **nahrávat jako modul** Pythonu bez funkce `hlavni_funkce()`."
   ]
  },
  {
   "cell_type": "code",
   "execution_count": null,
   "metadata": {},
   "outputs": [],
   "source": [
    "# soubor muj_modul.py\n",
    "def hlavni_funkce():\n",
    "    funkce_1()\n",
    "    funkce_2()\n",
    "    funkce_3()\n",
    "\n",
    "def funkce_1():\n",
    "    print(\"Spouštění první funkce...\")\n",
    "\n",
    "def funkce_2():\n",
    "    \"\"\"Funkce, kterou potřebuješ.\"\"\"\n",
    "    print(\"Spouštění druhé funkce...\")\n",
    "\n",
    "def funkce_3():\n",
    "    print(\"Spouštění třetí funkce...\")\n",
    "\n",
    "# nové ohlášení *name == main*\n",
    "if __name__ == \"__main__\":\n",
    "    print(\"Spouštění souboru..\")\n",
    "    hlavni_funkce()\n",
    "else:\n",
    "    print(\"Nahrávání modulu..\")"
   ]
  },
  {
   "cell_type": "markdown",
   "metadata": {},
   "source": [
    "Pokud zkusíš tentokrát **spustit soubor** `muj_modul.py`:\n",
    "```\n",
    "$ python muj_modul.py\n",
    "```\n",
    "Dostaneš výstupem:\n",
    "```\n",
    "Spouštění souboru..\n",
    "Spouštění první funkce..\n",
    "Spouštění druhé funkce..\n",
    "Spouštění třetí funkce..\n",
    "```\n",
    "\n",
    "<br>\n",
    "\n",
    "Pokud budeš chtít `muj_modul.py` **nahrávat** pomocí ohlášení `import`:\n",
    "```python\n",
    "import muj_modul\n",
    "\n",
    "muj_modul.funkce_2()\n",
    "```\n",
    "Dostaneš jako výstup:\n",
    "```\n",
    "Nahrávání modulu..\n",
    "Spouštění druhé funkce..\n",
    "```\n",
    "\n",
    "<br>\n",
    "\n",
    "Tím dosáhneš toho, že tebou vytvořený soubor `muj_modul.py` funguje pro oba scénaře. Tedy pracuje jako **spustitelný soubor** (skript) a současně jako **plnohodnotný modul**."
   ]
  },
  {
   "cell_type": "markdown",
   "metadata": {},
   "source": [
    "<img src=\"https://external-content.duckduckgo.com/iu/?u=https%3A%2F%2Ftse3.mm.bing.net%2Fth%3Fid%3DOIP.I_ciaAqJVtH3k_LDV-4a8AHaEc%26pid%3DApi&f=1&ipt=74100f497253ea415c13868adb6e91d832625b2dfe1b2cf852efaf93feeb7546&ipo=images\" width=\"350\">\n",
    "\n",
    "## Řádné funkce uživatele"
   ]
  },
  {
   "cell_type": "markdown",
   "metadata": {},
   "source": [
    "Psaní uživatelských funkcí má ovšem jistá doporučení."
   ]
  },
  {
   "cell_type": "markdown",
   "metadata": {},
   "source": [
    "### Znovu nevymýšlet kolo"
   ]
  },
  {
   "cell_type": "markdown",
   "metadata": {},
   "source": [
    "Nejprve zkontroluji *zabudované funkce*, pak tvořím vlastní funkci:"
   ]
  },
  {
   "cell_type": "code",
   "execution_count": null,
   "metadata": {},
   "outputs": [],
   "source": [
    "cisla = (1, 2, 3)"
   ]
  },
  {
   "cell_type": "code",
   "execution_count": null,
   "metadata": {},
   "outputs": [],
   "source": [
    "# TAKHLE NE!\n",
    "def vypocitej_sumu(cisla):\n",
    "    suma = 0\n",
    "\n",
    "    for cislo in cisla:\n",
    "        suma = suma + cislo\n",
    "    return suma"
   ]
  },
  {
   "cell_type": "code",
   "execution_count": null,
   "metadata": {},
   "outputs": [],
   "source": [
    "# TAKHLE ANO!\n",
    "suma = sum(cisla)"
   ]
  },
  {
   "cell_type": "markdown",
   "metadata": {},
   "source": [
    "### Na jménu záleží\n",
    "Popisuje totiž účel funkce (pokud nelze napsat, zapiš *docstring* funkce):"
   ]
  },
  {
   "cell_type": "code",
   "execution_count": null,
   "metadata": {},
   "outputs": [],
   "source": [
    "# TAKHLE NE!\n",
    "def email():\n",
    "    pass\n",
    "\n",
    "email()"
   ]
  },
  {
   "cell_type": "code",
   "execution_count": null,
   "metadata": {},
   "outputs": [],
   "source": [
    "# TAKHLE ANO!\n",
    "def posli_zpravu():\n",
    "    pass\n",
    "\n",
    "posli_zpravu()"
   ]
  },
  {
   "cell_type": "markdown",
   "metadata": {},
   "source": [
    "### Rozumné množství parametrů\n",
    "\n",
    "Ideálně **2-3 parametry** (jsou ovšem výjimky):"
   ]
  },
  {
   "cell_type": "code",
   "execution_count": null,
   "metadata": {},
   "outputs": [],
   "source": [
    "# TAKHLE NE!\n",
    "def zobraz_nabidku(title, body, tlacitko, datum):\n",
    "    pass"
   ]
  },
  {
   "cell_type": "code",
   "execution_count": null,
   "metadata": {},
   "outputs": [],
   "source": [
    "# TAKHLE ANO!\n",
    "def vytvor_popisek(title, body):\n",
    "    pass\n",
    "\n",
    "def vytvor_tlacitko(tlacitko):\n",
    "    pass\n",
    "\n",
    "def vytvor_datum():\n",
    "    pass"
   ]
  },
  {
   "cell_type": "markdown",
   "metadata": {},
   "source": [
    "### Co je psáno, to je dáno\n",
    "\n",
    "Funkce by měla provádět **jedinnou věc** (jinak je špatně čitelná, pochopitelná, testovatelná):"
   ]
  },
  {
   "cell_type": "code",
   "execution_count": null,
   "metadata": {},
   "outputs": [],
   "source": [
    "# TAKHLE NE!\n",
    "def posli_email_seznamu_klientu(klienti):\n",
    "    \"\"\"Filtruj pouze aktivni klienty a odesli zpravu\"\"\"\n",
    "    for klient in klienti:\n",
    "        if klient.je_aktivni:\n",
    "            email(klient)"
   ]
  },
  {
   "cell_type": "code",
   "execution_count": null,
   "metadata": {},
   "outputs": [],
   "source": [
    "# TAKHLE ANO!\n",
    "def jen_aktivni_klienti(klienti):\n",
    "    return [klient for klient in klienti if klient.je_aktivni]\n",
    "\n",
    "def posli_email():\n",
    "    pass"
   ]
  },
  {
   "cell_type": "markdown",
   "metadata": {},
   "source": [
    "### Počítá se jen to doma\n",
    "\n",
    "funkce pracuje pouze **s vlastními parametry** (proměnnými):"
   ]
  },
  {
   "cell_type": "code",
   "execution_count": null,
   "metadata": {},
   "outputs": [],
   "source": [
    "# TAKHLE NE!\n",
    "oddelovac = \"---\"\n",
    "datum = \"01.01.2001\"\n",
    "\n",
    "def vytvor_zpravu(autor, zapis):\n",
    "    vytvor_hlavicku(datum, oddelovac)\n",
    "    vytvor_text(autor, zapis)"
   ]
  },
  {
   "cell_type": "code",
   "execution_count": null,
   "metadata": {},
   "outputs": [],
   "source": [
    "# TAKHLE ANO!\n",
    "def vytvor_zpravu(autor, zapis):\n",
    "    oddelovac = \"---\"\n",
    "    vytvor_hlavicku(dnesni_datum(), oddelovac)\n",
    "    vytvor_text(autor, zapis)\n",
    "\n",
    "def dnesni_datum():\n",
    "    pass"
   ]
  },
  {
   "cell_type": "markdown",
   "metadata": {},
   "source": [
    "😍 Interpret Pythonu miluje funkce! 😍 Vytváří oddělená prostředí pro proměnné, se kterými efektivněji pracuje."
   ]
  },
  {
   "cell_type": "code",
   "execution_count": null,
   "metadata": {},
   "outputs": [],
   "source": [
    "def spoj_text(txt_1: str, txt_2: str) -> str:  # type hints\n",
    "    return txt_1 + txt_2"
   ]
  },
  {
   "cell_type": "code",
   "execution_count": null,
   "metadata": {},
   "outputs": [],
   "source": [
    "spoj_text(\"Matouš\", \" Holinka\")"
   ]
  },
  {
   "cell_type": "code",
   "execution_count": null,
   "metadata": {},
   "outputs": [],
   "source": [
    "spoj_text(1, 9)"
   ]
  },
  {
   "cell_type": "markdown",
   "metadata": {},
   "source": [
    "<br>\n",
    "\n",
    "<img src=\"https://external-content.duckduckgo.com/iu/?u=https%3A%2F%2Ftse2.mm.bing.net%2Fth%3Fid%3DOIP.Y9SA-Zlyi8gB0rMDOSv2aAHaHa%26pid%3DApi&f=1&ipt=4d84427394f587517a3d2bed1b4a17deb8c262c544f634271dfc4911a12706b6&ipo=images\" width=\"200\">\n",
    "\n",
    "## Vícenásobné přiřazení hodnot\n",
    "\n",
    "---"
   ]
  },
  {
   "cell_type": "markdown",
   "metadata": {},
   "source": [
    "Doposud přiřazuješ hodnoty k odkazům tímto způsobem:"
   ]
  },
  {
   "cell_type": "code",
   "execution_count": null,
   "metadata": {},
   "outputs": [],
   "source": [
    "jmeno = \"Matous\""
   ]
  },
  {
   "cell_type": "code",
   "execution_count": null,
   "metadata": {},
   "outputs": [],
   "source": [
    "print(jmeno)"
   ]
  },
  {
   "cell_type": "code",
   "execution_count": null,
   "metadata": {},
   "outputs": [],
   "source": [
    "jmeno_1 = [\"Matous\", \"Lukas\"][0]"
   ]
  },
  {
   "cell_type": "code",
   "execution_count": null,
   "metadata": {},
   "outputs": [],
   "source": [
    "jmeno_2 = [\"Matous\", \"Lukas\"][1]"
   ]
  },
  {
   "cell_type": "code",
   "execution_count": null,
   "metadata": {},
   "outputs": [],
   "source": [
    "print(jmeno_1, jmeno_2, sep=\"\\n\")"
   ]
  },
  {
   "cell_type": "markdown",
   "metadata": {},
   "source": [
    "Současně ale existují i **další varianty přiřazení** hodnoty/hodnot.\n",
    "\n",
    "### Vícenásobné přiřazení (LS = PS)\n",
    "\n",
    "Pokud máš na pravé straně (PS) více hodnot, můžeš je rozdělit.\n",
    "\n",
    "Rozdělení probíhá následovně:"
   ]
  },
  {
   "cell_type": "code",
   "execution_count": null,
   "metadata": {},
   "outputs": [],
   "source": [
    "jmeno_1, jmeno_2 = [\"Matous\", \"Jan\"]  # LS: 2 nazvy promennych = PS: 2 udaje"
   ]
  },
  {
   "cell_type": "code",
   "execution_count": null,
   "metadata": {},
   "outputs": [],
   "source": [
    "print(jmeno_1, jmeno_2, sep=\"\\n\")"
   ]
  },
  {
   "cell_type": "markdown",
   "metadata": {},
   "source": [
    "Přiřazování při vrácených hodnotách:"
   ]
  },
  {
   "cell_type": "code",
   "execution_count": null,
   "metadata": {},
   "outputs": [],
   "source": [
    "def pomocna_f():\n",
    "    return (11, \"20\")"
   ]
  },
  {
   "cell_type": "code",
   "execution_count": null,
   "metadata": {},
   "outputs": [],
   "source": [
    "cislo, string = pomocna_f()"
   ]
  },
  {
   "cell_type": "code",
   "execution_count": null,
   "metadata": {},
   "outputs": [],
   "source": [
    "print(cislo, string, sep=\"\\n\")"
   ]
  },
  {
   "cell_type": "markdown",
   "metadata": {},
   "source": [
    "Hodnot a proměnných může být samozřejmě více.\n",
    "\n",
    "Zásádní je dodržet s tímto zápisem pravidlo, kolik hodnot, tolik proměnných."
   ]
  },
  {
   "cell_type": "code",
   "execution_count": null,
   "metadata": {},
   "outputs": [],
   "source": [
    "jmeno_1, jmeno_2 = [\"Matous\", \"Lukas\", \"Petr\"]"
   ]
  },
  {
   "cell_type": "code",
   "execution_count": null,
   "metadata": {},
   "outputs": [],
   "source": [
    "jmeno_1, jmeno_2, jmeno_3 = [\"Matous\", \"Lukas\"]"
   ]
  },
  {
   "cell_type": "markdown",
   "metadata": {},
   "source": [
    "### Vícenásobné přiřazení s hvězdičkou (*)\n",
    "\n",
    "Syntaxe je velice podobná té předchozí.\n",
    "\n",
    "Nicméně doplněná hvězdička má za účel sbalit všechny zbývající hodnoty do jedinné proměnné."
   ]
  },
  {
   "cell_type": "code",
   "execution_count": null,
   "metadata": {},
   "outputs": [],
   "source": [
    "jmeno_1, jmeno_2, *zbytek_jmen = [\"Matous\", \"Marek\", \"Lukas\", \"Jan\"]"
   ]
  },
  {
   "cell_type": "code",
   "execution_count": null,
   "metadata": {},
   "outputs": [],
   "source": [
    "print(jmeno_1, jmeno_2, zbytek_jmen, sep=\"\\n\")"
   ]
  },
  {
   "cell_type": "markdown",
   "metadata": {},
   "source": [
    "Všimněte si jak se hodnoty v proměnných změní, pokud změníme pořadí, kdy hvězdičku zapíšeme:"
   ]
  },
  {
   "cell_type": "code",
   "execution_count": null,
   "metadata": {},
   "outputs": [],
   "source": [
    "jmeno_1, *zbytek_jmen, jmeno_2 = [\"Matous\", \"Marek\", \"Lukas\", \"Jan\"]"
   ]
  },
  {
   "cell_type": "code",
   "execution_count": null,
   "metadata": {},
   "outputs": [],
   "source": [
    "print(jmeno_1, zbytek_jmen, jmeno_2, sep=\"\\n\")"
   ]
  },
  {
   "cell_type": "code",
   "execution_count": null,
   "metadata": {},
   "outputs": [],
   "source": [
    "jmeno_1, *zbytek_jmen, jmeno_2, jmeno_3 = [\"Matous\", \"Marek\", \"Lukas\", \"Jan\", \"Petr\", \"Krystof\"]"
   ]
  },
  {
   "cell_type": "code",
   "execution_count": null,
   "metadata": {},
   "outputs": [],
   "source": [
    "print(jmeno_1, jmeno_2, jmeno_3, zbytek_jmen, sep=\"\\n\")"
   ]
  },
  {
   "cell_type": "markdown",
   "metadata": {},
   "source": [
    "<br>\n",
    "\n",
    "<img src=\"https://external-content.duckduckgo.com/iu/?u=https%3A%2F%2Ftse3.mm.bing.net%2Fth%3Fid%3DOIP.XxURlbi8RZ3SMPoMRj91VwAAAA%26pid%3DApi&f=1\" width=\"200\">\n",
    "\n",
    "### Domácí úkol\n",
    "\n",
    "---"
   ]
  },
  {
   "cell_type": "markdown",
   "metadata": {},
   "source": [
    "Napiš funkci, která bude umět převádět označení typu bytu (**byt0001**, **byt0003**):\n",
    "```\n",
    "byt0001,55m2,Olomouc,ul.Heyrovského,\n",
    "byt0003,65m2,Olomouc,ul.Novosadský_dvůr,\n",
    "```"
   ]
  },
  {
   "cell_type": "code",
   "execution_count": null,
   "metadata": {},
   "outputs": [],
   "source": [
    "vzor = {\n",
    "    \"byt0001\": \"1+1\",\n",
    "    \"byt0002\": \"2+1\",\n",
    "    \"byt0003\": \"2+kk\",\n",
    "    \"byt0004\": \"3+1\",\n",
    "    \"byt0005\": \"3+kk\",\n",
    "    \"byt0006\": \"4+1\",\n",
    "    \"byt0007\": \"4+kk\",\n",
    "}"
   ]
  },
  {
   "cell_type": "markdown",
   "metadata": {},
   "source": [
    "Funkce musí umět extrahovat údaj a pak jej převést:\n",
    "```\n",
    "byt0001,55m2,Olomouc,ul.Heyrovského,\n",
    "byt0003,65m2,Olomouc,ul.Novosadský_dvůr,\n",
    "...\n",
    "```\n",
    "\n",
    "výstup bude vypadat jako:\n",
    "```\n",
    "1+1,55m2,Olomouc,ul.Heyrovského,\n",
    "2+kk,65m2,Olomouc,ul.Novosadský_dvůr,\n",
    "...\n",
    "```   "
   ]
  },
  {
   "cell_type": "markdown",
   "metadata": {},
   "source": [
    "---"
   ]
  }
 ],
 "metadata": {
  "kernelspec": {
   "display_name": "Python 3",
   "language": "python",
   "name": "python3"
  },
  "language_info": {
   "codemirror_mode": {
    "name": "ipython",
    "version": 3
   },
   "file_extension": ".py",
   "mimetype": "text/x-python",
   "name": "python",
   "nbconvert_exporter": "python",
   "pygments_lexer": "ipython3",
   "version": "3.8.6"
  }
 },
 "nbformat": 4,
 "nbformat_minor": 4
}
