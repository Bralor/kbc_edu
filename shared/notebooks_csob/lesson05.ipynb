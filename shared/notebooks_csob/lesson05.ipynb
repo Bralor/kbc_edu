{
 "cells": [
  {
   "cell_type": "markdown",
   "metadata": {},
   "source": [
    "## Úvod\n",
    "\n",
    "---\n",
    "\n",
    "1. [Iterační protokol podruhé](#Iterační-protokol-podruhé),\n",
    "2. [while smyčka](#While-smyčka),\n",
    "3. [nekonečná smyčka](#Nekonečný-while-loop),\n",
    "4. [operátor mrože?!](#Walrus-operátor),\n",
    "5. [Zkrácené přiřazování](#Walrus-operátor),\n",
    "6. [souhrn smyček](#Souhrn-úvodu-smyček),\n",
    "7. [velmi použitelné prvky iterací](#Comprehensions),\n",
    "8. [domácí úkol](#Domácí-úkol)."
   ]
  },
  {
   "cell_type": "markdown",
   "metadata": {},
   "source": [
    "<img src=\"https://external-content.duckduckgo.com/iu/?u=https%3A%2F%2Ftse1.mm.bing.net%2Fth%3Fid%3DOIP.yg9qTK4GbobmIc9KTC39pQHaFy%26pid%3DApi&f=1\" width=\"200\" />\n",
    "\n",
    "## Iterační protokol, podruhé\n",
    "\n",
    "---"
   ]
  },
  {
   "cell_type": "markdown",
   "metadata": {},
   "source": [
    "Pro periodické opakování ohlášení existují tzv. *iterační protokoly* (příp.  označovány jako *smyčky*, *cykly*, *loopy*).\n",
    "\n",
    "Pomocí smyčky *for* umíš zapsat takovou *iteraci*, kdy postupně projdeš **všechny hodnoty**.\n",
    "\n",
    "Co když budeš potřebovat *iterovat* bez zadané hodnoty, ale za jistých podmínek?\n",
    "\n",
    "Až bude mít `list` 3 hodnoty, dokud uživatel zadává vstupy, atd.\n",
    "\n",
    "\n",
    "<br>\n",
    "\n",
    "Potom bude potřeba, povědět si ještě o druhém typu smyček:\n",
    "1. smyčka `for`,\n",
    "2. smyčka `while`."
   ]
  },
  {
   "cell_type": "markdown",
   "metadata": {},
   "source": [
    "<br>\n",
    "\n",
    "<img src=\"https://external-content.duckduckgo.com/iu/?u=https%3A%2F%2Ftse2.mm.bing.net%2Fth%3Fid%3DOIP.Oir5eME7J-RWJpxHkJjr-QHaGe%26pid%3DApi&f=1\" width=\"200\" />\n",
    "\n",
    "\n",
    "\n",
    "## While smyčka\n",
    "---"
   ]
  },
  {
   "cell_type": "markdown",
   "metadata": {},
   "source": [
    "Někdy ale není nutné *iterovat* přes **celý objekt**, jak tomu bylo u smyčky `for`.\n",
    "\n",
    "Naopak, budeš potřebovat provádět proces *iterování* tak dlouho, *dokud* to bude nutné.\n",
    "\n",
    "Za takovým účelem můžeš využít druhý typ smyček, `while`.\n",
    "\n",
    "### Obecně while loop"
   ]
  },
  {
   "cell_type": "code",
   "execution_count": 5,
   "metadata": {},
   "outputs": [
    {
     "name": "stdout",
     "output_type": "stream",
     "text": [
      "Ještě nemáš 6, ale 1, pokračuji..\n",
      "Ještě nemáš 6, ale 2, pokračuji..\n",
      "Ještě nemáš 6, ale 3, pokračuji..\n",
      "Ještě nemáš 6, ale 4, pokračuji..\n",
      "Ještě nemáš 6, ale 5, pokračuji..\n",
      "Hotovo, máš 6!\n"
     ]
    }
   ],
   "source": [
    "index = 1\n",
    "\n",
    "while index < 6:\n",
    "    print(\"Ještě nemáš 6, ale \", index, \", pokračuji..\", sep=\"\")\n",
    "    index = index + 1\n",
    "\n",
    "print(\"Hotovo, máš 6!\")"
   ]
  },
  {
   "cell_type": "markdown",
   "metadata": {},
   "source": [
    "1. `while` je **klíčkové slovo** v záhlaví,\n",
    "2. `index < 6` je **podmínka**. Pokud je vyhodnocená jako `True`, proveď *odsazené ohlášení*,\n",
    "3. `index < 6` ... `False`, ukonči smyčku a pokračuj **s neodsazeným zápisem** pod smyčkou,\n",
    "4. `:` řádek s předpisem musí být **zakončený dvojtečkou**,\n",
    "5. `print(\"Ještě nemáš...\")`, následují *odsazené ohlášení*, které se budou opakovat v každém kroku,\n",
    "6. `print(\"Hotovo, \" ... )`, pokračuje *neodsazený zápis*, pod smyčkou."
   ]
  },
  {
   "cell_type": "markdown",
   "metadata": {},
   "source": [
    "### While s doplňující podmínkou\n",
    "\n",
    "Cyklus `while` samotný podmínku obsahuje. Určitě je ale možnost, tento podmínkový strom ještě rozšířit:"
   ]
  },
  {
   "cell_type": "code",
   "execution_count": 7,
   "metadata": {},
   "outputs": [
    {
     "name": "stdout",
     "output_type": "stream",
     "text": [
      "10\n",
      "11\n",
      "12\n",
      "13\n",
      "14\n",
      "15\n",
      "16\n",
      "17\n",
      "18\n",
      "19\n",
      "20\n"
     ]
    }
   ],
   "source": [
    "index = 0\n",
    "\n",
    "while index <= 20:\n",
    "    if len(str(index)) != 2:\n",
    "        index = index + 1\n",
    "    else:\n",
    "        print(index)\n",
    "        index = index + 1"
   ]
  },
  {
   "cell_type": "markdown",
   "metadata": {},
   "source": [
    "Takové rozšíření může být obzvlášť přínosné, pokud podmínku v předpise nelze jednodušše rozšířit:"
   ]
  },
  {
   "cell_type": "code",
   "execution_count": 1,
   "metadata": {},
   "outputs": [],
   "source": [
    "index = 0\n",
    "\n",
    "while index < 20 and len(str(index)) == 2:\n",
    "    print(index)\n",
    "    index = index + 1"
   ]
  },
  {
   "cell_type": "markdown",
   "metadata": {},
   "source": [
    "### While/else\n",
    "\n",
    "Cyklus `while` lze rozšířit o podmínkovou větev `else`(podobně jako *for loop*).\n",
    "\n",
    "K ní se *interpret* dostane, pokud je podmínka v předpisu vyhodnocená jako `False`.\n",
    "\n",
    "Současně nesmí narazit na ohlášení `break`:"
   ]
  },
  {
   "cell_type": "code",
   "execution_count": 12,
   "metadata": {},
   "outputs": [
    {
     "name": "stdout",
     "output_type": "stream",
     "text": [
      "10\n",
      "11\n",
      "12\n",
      "13\n",
      "14\n",
      "15\n",
      "16\n",
      "17\n",
      "18\n",
      "19\n",
      "-----------------------\n",
      "   Podmínka -> False   \n",
      "-----------------------\n",
      ">Pokračuji pod smyčkou<\n"
     ]
    }
   ],
   "source": [
    "index = 0\n",
    "\n",
    "while index < 20:\n",
    "    if len(str(index)) != 2:\n",
    "        index = index + 1\n",
    "        break\n",
    "\n",
    "    else:\n",
    "        print(index)\n",
    "        index = index + 1\n",
    "\n",
    "else:\n",
    "    print(\"-\" * 23, \"Podmínka -> False\".center(23), \"-\" * 23, sep=\"\\n\")\n",
    "\n",
    "print(\">Pokračuji pod smyčkou<\")"
   ]
  },
  {
   "cell_type": "markdown",
   "metadata": {},
   "source": [
    "Pokud doplníš ohlášení `break`, *interpret* přeskočí nejenom zbytek smyčky *while* ale také větev `else`:"
   ]
  },
  {
   "cell_type": "code",
   "execution_count": 4,
   "metadata": {},
   "outputs": [
    {
     "name": "stdout",
     "output_type": "stream",
     "text": [
      "10\n",
      ">Pokračuji pod smyčkou<\n"
     ]
    }
   ],
   "source": [
    "index = 0\n",
    "\n",
    "while index < 20:\n",
    "    if len(str(index)) != 2:  # pokud není číselná hodnota ze dvou znaků\n",
    "        index = index + 1\n",
    "        \n",
    "    else:\n",
    "        print(index)\n",
    "        index = index + 1\n",
    "        break\n",
    "    \n",
    "else:\n",
    "    print(\"-\" * 23, \"Podminka -> False\".center(23), \"-\" * 23, sep=\"\\n\")\n",
    "\n",
    "print(\">Pokračuji pod smyčkou<\")"
   ]
  },
  {
   "cell_type": "markdown",
   "metadata": {},
   "source": [
    "<img src=\"https://external-content.duckduckgo.com/iu/?u=https%3A%2F%2Ftse1.mm.bing.net%2Fth%3Fid%3DOIP.Mq5UWTetElegP54AipJwxwAAAA%26pid%3DApi&f=1&ipt=d9ac04bc74246bbd95df83420771cf32edadc4aa0cde264c6c4a192b11c9c723&ipo=images\" width=\"250\" />\n",
    "\n",
    "## Nekonečný while loop\n",
    "\n",
    "---"
   ]
  },
  {
   "cell_type": "markdown",
   "metadata": {},
   "source": [
    "Jednou z aplikací smyčky `while` je zápis tzv. *nekonečného cyklu*.\n",
    "\n",
    "Obecně řečeno, že v případě **nekonečných smyček** můžeš potkat dva typy:\n",
    "1. **řízené** nekonečné smyčky,\n",
    "2. **neřízené** nekonečné smyčky."
   ]
  },
  {
   "cell_type": "markdown",
   "metadata": {},
   "source": [
    "### Neřízené nekonečné smyčky\n",
    "\n",
    "Ty mohou nastat v důsledku **špatného zápisu** `while` cyklu:"
   ]
  },
  {
   "cell_type": "code",
   "execution_count": null,
   "metadata": {},
   "outputs": [],
   "source": [
    "index = 1\n",
    "\n",
    "while index < 20:\n",
    "    print(index)\n",
    "    # neinkrementuji hodnotu v proměnné 'index'\n",
    "    # .. hodnota je v každém kroce 1 a smyčka nekončí.\n",
    "    # .. Ctrl + C -> "
   ]
  },
  {
   "cell_type": "markdown",
   "metadata": {},
   "source": [
    "<br>\n",
    "\n",
    "*poznámka*. výše ukázaná varianta představuje tzv. *nežádoucí nekonečnou smyčku*, kde vznikla chyba **v odsazené části zápisu**.\n",
    "\n",
    "Chyba ovšem může nastat i při **špatném ohlášení** v zadání smyčky *while*:"
   ]
  },
  {
   "cell_type": "code",
   "execution_count": null,
   "metadata": {},
   "outputs": [],
   "source": [
    "index = 1\n",
    "\n",
    "while index > 0:  # vyhodnocené ohlášení má stále hodnotu `True`\n",
    "    print(index)\n",
    "    index = index + 1"
   ]
  },
  {
   "cell_type": "markdown",
   "metadata": {},
   "source": [
    "*poznámka*. výše ukázaná varianta představuje tzv. *nežádoucí nekonečnou smyčku*, kde vznikla chyba **ve špatně zapsané podmínce**."
   ]
  },
  {
   "cell_type": "markdown",
   "metadata": {},
   "source": [
    "### Řízené nekonečné smyčky\n",
    "\n",
    "Nekonečný cyklus s `while` je možné formulovat jako *řádnou/žádoucí nekonečnou smyčku*:"
   ]
  },
  {
   "cell_type": "code",
   "execution_count": 5,
   "metadata": {},
   "outputs": [
    {
     "name": "stdout",
     "output_type": "stream",
     "text": [
      "Zapiš libovolný text [nebo 'q' pro ukončení]: ahoj\n",
      "Ahoj\n",
      "Zapiš libovolný text [nebo 'q' pro ukončení]: matouš\n",
      "Matouš\n",
      "Zapiš libovolný text [nebo 'q' pro ukončení]: 1\n",
      "1\n",
      "Zapiš libovolný text [nebo 'q' pro ukončení]: @\n",
      "@\n",
      "Zapiš libovolný text [nebo 'q' pro ukončení]: q\n",
      "Ukončuji ukázku!\n"
     ]
    }
   ],
   "source": [
    "while True:\n",
    "    uziv_vstup = input(\"Zapiš libovolný text [nebo 'q' pro ukončení]: \")\n",
    "\n",
    "    if uziv_vstup == \"q\":\n",
    "        break\n",
    "    print(uziv_vstup.capitalize())\n",
    "\n",
    "\n",
    "print(\"Ukončuji ukázku!\")"
   ]
  },
  {
   "cell_type": "markdown",
   "metadata": {},
   "source": [
    "<br>\n",
    "\n",
    "<img src=\"https://external-content.duckduckgo.com/iu/?u=https%3A%2F%2Ftse2.mm.bing.net%2Fth%3Fid%3DOIP.ZtuU0gV1oC0QdH6B74_D9QHaHa%26pid%3DApi&f=1\" width=\"200\" />\n",
    "\n",
    "\n",
    "\n",
    "## Walrus operátor\n",
    "\n",
    "---"
   ]
  },
  {
   "cell_type": "markdown",
   "metadata": {},
   "source": [
    "*Přiřazovací operátor* nebo jinak *walrus operátor* je formulace, která je v Pythonu poměrně nová (3.8+).\n",
    "\n",
    "<br>\n",
    "\n",
    "<img src=\"https://external-content.duckduckgo.com/iu/?u=https%3A%2F%2Ftse3.mm.bing.net%2Fth%3Fid%3DOIP.r9w05wm2Q3aDz0JQhKzdFQHaLH%26pid%3DApi&f=1&ipt=27bc4198fbf119d0e8a1f5612726a1ed133716846e38221ff883dd7e3ded06dd&ipo=images\" width=\"200\" />"
   ]
  },
  {
   "cell_type": "markdown",
   "metadata": {},
   "source": [
    "Jde o zápis, který ti umožní **dva procesy**, při použití **jednoho operátoru**:\n",
    "1. nejprve **hodnotu přiřadí** proměnné,\n",
    "2. přímo ji použije."
   ]
  },
  {
   "cell_type": "markdown",
   "metadata": {},
   "source": [
    "### Vytvoření hodnoty a uložení"
   ]
  },
  {
   "cell_type": "code",
   "execution_count": 6,
   "metadata": {},
   "outputs": [],
   "source": [
    "jmeno = \"Matous\""
   ]
  },
  {
   "cell_type": "code",
   "execution_count": 7,
   "metadata": {},
   "outputs": [
    {
     "name": "stdout",
     "output_type": "stream",
     "text": [
      "Matous\n"
     ]
    }
   ],
   "source": [
    "print(jmeno)"
   ]
  },
  {
   "cell_type": "code",
   "execution_count": 8,
   "metadata": {},
   "outputs": [
    {
     "name": "stdout",
     "output_type": "stream",
     "text": [
      "Matous\n"
     ]
    }
   ],
   "source": [
    "print(jmeno := \"Matous\")"
   ]
  },
  {
   "cell_type": "markdown",
   "metadata": {},
   "source": [
    "V předchozí ukázce jde čistě **o vysvětlivku**.\n",
    "\n",
    "**Proměnné** jinak nadále a přehledně zapis po jedné a pod sebe. :)\n",
    "\n",
    "Praktické ukázky skutečného využití najdeš níže."
   ]
  },
  {
   "cell_type": "markdown",
   "metadata": {},
   "source": [
    "### Kombinace s podmínkou"
   ]
  },
  {
   "cell_type": "code",
   "execution_count": 10,
   "metadata": {},
   "outputs": [
    {
     "name": "stdout",
     "output_type": "stream",
     "text": [
      "ZAPIŠ JMÉNO: Matouš\n",
      "Toto je Matouš\n"
     ]
    }
   ],
   "source": [
    "jmeno = input(\"Zapiš jméno: \".upper())\n",
    "\n",
    "if jmeno == \"Matouš\":\n",
    "    print(\"Toto je \", jmeno, sep=\"\")\n",
    "else:\n",
    "    print(\"Tak \", jmeno, \", toho neznám.\", sep=\"\")"
   ]
  },
  {
   "cell_type": "markdown",
   "metadata": {},
   "source": [
    "Obzvlášť v kombinaci se **zabudovanými funkce** a *uživatelskými funkcemi* je nápomocný.\n",
    "\n",
    "Zásadní je **doplnění kulatých závorek**, kterými *interpretu* zdůrazníš pořadí:"
   ]
  },
  {
   "cell_type": "code",
   "execution_count": 12,
   "metadata": {},
   "outputs": [
    {
     "name": "stdout",
     "output_type": "stream",
     "text": [
      "ZAPIŠ JMÉNO: Matouš\n",
      "Toto je Matouš\n"
     ]
    }
   ],
   "source": [
    "if (jmeno := input(\"Zapiš jméno: \".upper())) == \"Matouš\":\n",
    "    print(\"Toto je \", jmeno, sep=\"\")\n",
    "else:\n",
    "    print(\"Tak \", jmeno, \", toho neznám.\", sep=\"\")"
   ]
  },
  {
   "cell_type": "markdown",
   "metadata": {},
   "source": [
    "Pokud zapomeneš kulaté závorky, ohlášení **nemusí logicky pracovat**:"
   ]
  },
  {
   "cell_type": "code",
   "execution_count": 14,
   "metadata": {},
   "outputs": [
    {
     "name": "stdout",
     "output_type": "stream",
     "text": [
      "ZAPIŠ JMÉNO: Marek\n",
      "Tak False, toho neznám.\n"
     ]
    }
   ],
   "source": [
    "if jmeno := input(\"Zapiš jméno: \".upper()) == \"Matouš\":\n",
    "    print(\"Toto je \", jmeno, sep=\"\")\n",
    "else:\n",
    "    print(\"Tak \", jmeno, \", toho neznám.\", sep=\"\")"
   ]
  },
  {
   "cell_type": "markdown",
   "metadata": {},
   "source": [
    "Copak se stane:\n",
    "1. *Interpret* nejprve uloží vstup do funkce `input()`,\n",
    "2. následně vloženou hodnotu porovná,\n",
    "3. výsledek (`True`/ `False`) uloží do proměnné `jmeno`."
   ]
  },
  {
   "cell_type": "markdown",
   "metadata": {},
   "source": [
    "### Kombinace s cyklem while"
   ]
  },
  {
   "cell_type": "code",
   "execution_count": 15,
   "metadata": {},
   "outputs": [
    {
     "name": "stdout",
     "output_type": "stream",
     "text": [
      "Zapiš libovolný text [nebo 'q' pro ukončení]: Ahoj\n",
      "Ahoj\n",
      "Zapiš libovolný text [nebo 'q' pro ukončení]: tak\n",
      "tak\n",
      "Zapiš libovolný text [nebo 'q' pro ukončení]: mame\n",
      "mame\n",
      "Zapiš libovolný text [nebo 'q' pro ukončení]: druhou\n",
      "druhou\n",
      "Zapiš libovolný text [nebo 'q' pro ukončení]: hodinu\n",
      "hodinu\n",
      "Zapiš libovolný text [nebo 'q' pro ukončení]: q\n",
      "q\n",
      "Konec smyčky!\n"
     ]
    }
   ],
   "source": [
    "TEXT = \"Zapiš libovolný text [nebo 'q' pro ukončení]: \"\n",
    "\n",
    "while (vstup := input(TEXT)) != \"q\":\n",
    "    print(vstup)\n",
    "else:\n",
    "    print(vstup, \"Konec smyčky!\", sep=\"\\n\")"
   ]
  },
  {
   "cell_type": "markdown",
   "metadata": {},
   "source": [
    "Analogicky můžeš opsat celý postup také **bez přiřazovacího operátoru**:"
   ]
  },
  {
   "cell_type": "code",
   "execution_count": 24,
   "metadata": {},
   "outputs": [
    {
     "name": "stdout",
     "output_type": "stream",
     "text": [
      "Zapiš libovolný text [nebo 'q' pro ukončení]: a\n",
      "a\n",
      "Zapiš libovolný text [nebo 'q' pro ukončení]: b\n",
      "b\n",
      "Zapiš libovolný text [nebo 'q' pro ukončení]: c\n",
      "c\n",
      "Zapiš libovolný text [nebo 'q' pro ukončení]: 1\n",
      "1\n",
      "Zapiš libovolný text [nebo 'q' pro ukončení]: q\n",
      "q\n",
      "Konec smyčky!\n"
     ]
    }
   ],
   "source": [
    "vstup = \"\"\n",
    "TEXT = \"Zapiš libovolný text [nebo 'q' pro ukončení]: \"\n",
    "\n",
    "while vstup != \"q\":\n",
    "    vstup = input(TEXT)\n",
    "    print(vstup)\n",
    "\n",
    "else:\n",
    "    print(\"Konec smyčky!\")"
   ]
  },
  {
   "cell_type": "markdown",
   "metadata": {},
   "source": [
    "Pokud ti tedy dovede operátor `:=` šikovně pomoct, **určitě jej využij**.\n",
    "    \n",
    "Není nutné jej **zneužívat** v situacích, kdy je zápis málo čitelný, nebo špatně pochopitelný.\n",
    "\n",
    "Opatrně na **verze**.\n",
    "\n",
    "Pokud vyvíjíš na jiném prostředí, než produkčním, můžeš zjistit, že **má starší verzi Pythonu** a *walrus* nemusí podporovat."
   ]
  },
  {
   "cell_type": "markdown",
   "metadata": {},
   "source": [
    "<br>\n",
    "\n",
    "<img src=\"https://external-content.duckduckgo.com/iu/?u=https%3A%2F%2Ftse2.mm.bing.net%2Fth%3Fid%3DOIP.dYsikmEP2d5YjzPcygU9cQHaHa%26pid%3DApi&f=1&ipt=b01ae127da2c6fcbd9b3c4aa14f8fb0a4e8c876ca7d20bfdb844e203c95e9850&ipo=images\" width=\"200\" />\n",
    "\n",
    "\n",
    "\n",
    "## Zkrácené přiřazování\n",
    "\n",
    "---"
   ]
  },
  {
   "cell_type": "markdown",
   "metadata": {},
   "source": [
    "Jde o **kratší způsob** pro úpravu hodnoty v existující proměnné.\n",
    "\n",
    "Efektivnější není jen způsob zápisu, ale také způsob zpracování."
   ]
  },
  {
   "cell_type": "markdown",
   "metadata": {},
   "source": [
    "Doposud znáš tento zápis:\n",
    "1. **Vytvoříš hodnotu** v proměnné `x`,\n",
    "2. **upravíš hodnoty** v proměnné `x`,\n",
    "3. **použiješ** novou hodnotu `x`."
   ]
  },
  {
   "cell_type": "code",
   "execution_count": 4,
   "metadata": {},
   "outputs": [],
   "source": [
    "x = 2"
   ]
  },
  {
   "cell_type": "code",
   "execution_count": 5,
   "metadata": {},
   "outputs": [],
   "source": [
    "x = x + 3"
   ]
  },
  {
   "cell_type": "code",
   "execution_count": 6,
   "metadata": {},
   "outputs": [
    {
     "name": "stdout",
     "output_type": "stream",
     "text": [
      "5\n"
     ]
    }
   ],
   "source": [
    "print(x)"
   ]
  },
  {
   "cell_type": "markdown",
   "metadata": {},
   "source": [
    "### Augmented assignment\n",
    "\n",
    "Zkrácená varianta vypadá tak, že původní proměnnou `x` nepoužiješ a aritmetický operátor přesuneš přes rovnítko:"
   ]
  },
  {
   "cell_type": "code",
   "execution_count": 1,
   "metadata": {},
   "outputs": [],
   "source": [
    "x = 2"
   ]
  },
  {
   "cell_type": "code",
   "execution_count": 2,
   "metadata": {},
   "outputs": [],
   "source": [
    "x += 2"
   ]
  },
  {
   "cell_type": "code",
   "execution_count": 3,
   "metadata": {},
   "outputs": [
    {
     "name": "stdout",
     "output_type": "stream",
     "text": [
      "4\n"
     ]
    }
   ],
   "source": [
    "print(x)"
   ]
  },
  {
   "cell_type": "markdown",
   "metadata": {},
   "source": [
    "### Rozdíl\n",
    "\n",
    "Pro tebe, jako uživatele, je tento zápis pouze o něco kratší.\n",
    "\n",
    "Vypadá odlišně, jinak je stejně zapsaný pomocí 3 řádků.\n",
    "\n",
    "V čem je tedy lepší?\n",
    "\n",
    "<br>"
   ]
  },
  {
   "cell_type": "markdown",
   "metadata": {},
   "source": [
    "Lepší je z hlediska využití paměti.\n",
    "\n",
    "##### Klasický zápis rozdělený na jednotlivé kroky:\n",
    "1. Vytvoříš **novou hodnotu** a **uložíš ji** do proměnné,\n",
    "2. **načteš** původní hodnotu,\n",
    "3. **zvětšíš ji** o hodnotu 4,\n",
    "4. **uložíš** novou hodnotu,\n",
    "5. **vypíšeš ji**."
   ]
  },
  {
   "cell_type": "markdown",
   "metadata": {},
   "source": [
    "##### Ve zkráceném zápise:\n",
    "1. Vytvoříš **novou hodnotu** a **uložím ji** do proměnné,\n",
    "2. **zvětšíš existující hodnotu**,\n",
    "3. **vypíšeš ji**."
   ]
  },
  {
   "cell_type": "markdown",
   "metadata": {},
   "source": [
    "### Některé zkrácené operátory\n",
    "\n",
    "| Původní operátor | Zkrácená varianta |\n",
    "| :-: | :-: |\n",
    "| `+` | `+=` |\n",
    "| `-` | `-=` |\n",
    "| `*` | `*=` |\n",
    "| `/` | `/=` |\n",
    "| `**` | `**=` |"
   ]
  },
  {
   "cell_type": "markdown",
   "metadata": {},
   "source": [
    "<br>\n",
    "\n",
    "<img src=\"https://external-content.duckduckgo.com/iu/?u=https%3A%2F%2Ftse1.mm.bing.net%2Fth%3Fid%3DOIP.yn3NMy-f9-hqQwXqFJ2AtwHaDt%26pid%3DApi&f=1&ipt=21b8ba84b48b23ddb2e3e0629a3748562777e0fbfa04fa9346da57b607ca5c08&ipo=images\" width=\"250\" />\n",
    "\n",
    "\n",
    "\n",
    "## Souhrn úvodu smyček\n",
    "\n",
    "---"
   ]
  },
  {
   "cell_type": "markdown",
   "metadata": {},
   "source": [
    "Nyní máš za sebou stručný úvod do problematiky **iterátorů**. Jaké pojmy jsou tedy zásadní."
   ]
  },
  {
   "cell_type": "markdown",
   "metadata": {},
   "source": [
    "### Iterable\n",
    "Anglické ozn., které představuje **takový objekt**, který umí vytvořit *iterátor* (pomůcka zab. funkce `iter()`)."
   ]
  },
  {
   "cell_type": "markdown",
   "metadata": {},
   "source": [
    "### Iterator\n",
    "Anglické ozn., které představuje tzv. **iterátor**. Tedy objekt, který dovede podávat jednotlivé hodnoty (pomocí funkce `next()`)."
   ]
  },
  {
   "cell_type": "markdown",
   "metadata": {},
   "source": [
    "### Iteration\n",
    "Anglické ozn., které představuje proces **iterace**. Což je proces, který postupně prochází hodnoty. Krok za krokem."
   ]
  },
  {
   "cell_type": "markdown",
   "metadata": {},
   "source": [
    "### For vs. while smyčka\n",
    "\n",
    "Kdy máš vybrat co, lze popsat jako:\n",
    "1. Pokud potřebuješ *iterovat* (~procházet) hodnotu od začátku do konce (tedy přes všechny hodnoty), použij `for`,\n",
    "2. pokud potřebuješ *iterovat*, dokud platí nějaké kritérium, použij `while`."
   ]
  },
  {
   "cell_type": "code",
   "execution_count": 18,
   "metadata": {},
   "outputs": [
    {
     "name": "stdout",
     "output_type": "stream",
     "text": [
      "10\n",
      "9\n",
      "8\n",
      "7\n",
      "6\n",
      "5\n",
      "4\n",
      "3\n",
      "2\n",
      "1\n"
     ]
    }
   ],
   "source": [
    "index = 10\n",
    "\n",
    "while index != 0:  # vyhodnocené ohlášení má stále hodnotu `True`\n",
    "    print(index)\n",
    "    index -= 1"
   ]
  },
  {
   "cell_type": "markdown",
   "metadata": {},
   "source": [
    "<br>\n",
    "\n",
    "<img src=\"https://external-content.duckduckgo.com/iu/?u=https%3A%2F%2Ftse1.mm.bing.net%2Fth%3Fid%3DOIP.b7SnnLRXG2WiF98q1Dzp1gHaHN%26pid%3DApi&f=1&ipt=adbdd762327457e58a645b8fe9a7537ba63eef6ee1af682f4935eda3bbda36a7&ipo=images\" width=\"200\" />\n",
    "\n",
    "\n",
    "\n",
    "## Comprehensions\n",
    "\n",
    "---"
   ]
  },
  {
   "cell_type": "markdown",
   "metadata": {},
   "source": [
    "Jde o proces, kdy můžeš **kratším a kompaktnějším** zápisem zkombinovat:\n",
    "1. `for` cyklus,\n",
    "2. jednodušší podmínky (!),\n",
    "3. okamžitě plnit nové hodnoty daty."
   ]
  },
  {
   "cell_type": "markdown",
   "metadata": {},
   "source": [
    "Jde prakticky **o nejpoužívanější prvek** v Pythonu vůbec, který používá naprostá většina solidních programátorů."
   ]
  },
  {
   "cell_type": "markdown",
   "metadata": {},
   "source": [
    "### List comprehensions"
   ]
  },
  {
   "cell_type": "code",
   "execution_count": 19,
   "metadata": {},
   "outputs": [],
   "source": [
    "dvojnasobek = [cislo * 2 for cislo in range(30)]"
   ]
  },
  {
   "cell_type": "code",
   "execution_count": 20,
   "metadata": {},
   "outputs": [
    {
     "name": "stdout",
     "output_type": "stream",
     "text": [
      "[0, 2, 4, 6, 8, 10, 12, 14, 16, 18, 20, 22, 24, 26, 28, 30, 32, 34, 36, 38, 40, 42, 44, 46, 48, 50, 52, 54, 56, 58]\n"
     ]
    }
   ],
   "source": [
    "print(dvojnasobek)"
   ]
  },
  {
   "cell_type": "markdown",
   "metadata": {},
   "source": [
    "Jde tedy o ekvivalent k zápisu, který zatím znáš jako:"
   ]
  },
  {
   "cell_type": "code",
   "execution_count": 21,
   "metadata": {},
   "outputs": [],
   "source": [
    "dvojnasobek = list()\n",
    "\n",
    "for cislo in range(30):\n",
    "    dvojnasobek.append(cislo * 2)"
   ]
  },
  {
   "cell_type": "code",
   "execution_count": 22,
   "metadata": {},
   "outputs": [
    {
     "name": "stdout",
     "output_type": "stream",
     "text": [
      "[0, 2, 4, 6, 8, 10, 12, 14, 16, 18, 20, 22, 24, 26, 28, 30, 32, 34, 36, 38, 40, 42, 44, 46, 48, 50, 52, 54, 56, 58]\n"
     ]
    }
   ],
   "source": [
    "print(dvojnasobek)"
   ]
  },
  {
   "cell_type": "markdown",
   "metadata": {},
   "source": [
    "<br>\n",
    "\n",
    "V kombinaci s větví `if `:"
   ]
  },
  {
   "cell_type": "code",
   "execution_count": 23,
   "metadata": {},
   "outputs": [],
   "source": [
    "data = [1, 2, 3, \"a\", 5, 6, \"@\", \"7\", 7]\n",
    "\n",
    "dvojnasobek = [cislo * 2 for cislo in data if isinstance(cislo, int)]"
   ]
  },
  {
   "cell_type": "code",
   "execution_count": 24,
   "metadata": {},
   "outputs": [
    {
     "name": "stdout",
     "output_type": "stream",
     "text": [
      "[2, 4, 6, 10, 12, 14]\n"
     ]
    }
   ],
   "source": [
    "print(dvojnasobek)"
   ]
  },
  {
   "cell_type": "markdown",
   "metadata": {},
   "source": [
    "Pokud je zápis v závorce delší a **málo přehledný**:"
   ]
  },
  {
   "cell_type": "code",
   "execution_count": null,
   "metadata": {},
   "outputs": [],
   "source": [
    "data = [1, 2, 3, \"a\", 5, 6, \"@\", \"7\", 7]\n",
    "\n",
    "dvojnasobek = [\n",
    "    cislo * 2\n",
    "    for cislo in data\n",
    "    if isinstance(cislo, int)\n",
    "]"
   ]
  },
  {
   "cell_type": "markdown",
   "metadata": {},
   "source": [
    "**Obecný vzorec** tedy vypadá jako:"
   ]
  },
  {
   "cell_type": "code",
   "execution_count": 31,
   "metadata": {},
   "outputs": [],
   "source": [
    "# vysledna_promenna = [\n",
    "#     <hodnota>\n",
    "#     <for_smycka>\n",
    "#     <podminka>\n",
    "# ]"
   ]
  },
  {
   "cell_type": "markdown",
   "metadata": {},
   "source": [
    "### Dict comprehensions"
   ]
  },
  {
   "cell_type": "markdown",
   "metadata": {},
   "source": [
    "*Comprehensions* můžeš skládat také **ze slovníků**:"
   ]
  },
  {
   "cell_type": "code",
   "execution_count": 25,
   "metadata": {},
   "outputs": [],
   "source": [
    "obyvatele = {\n",
    "    \"Praha\": 1_335_084, \n",
    "    \"Brno\": 382_405, \n",
    "    \"Ostrava\": 284_982,\n",
    "    \"Plzen\": 175_219, \n",
    "    \"Liberec\": 104_261\n",
    "}"
   ]
  },
  {
   "cell_type": "code",
   "execution_count": 26,
   "metadata": {},
   "outputs": [],
   "source": [
    "velka_mesta = {\n",
    "    klic.upper(): hodnota\n",
    "    for klic, hodnota in obyvatele.items()\n",
    "    if hodnota > 200_000\n",
    "}"
   ]
  },
  {
   "cell_type": "code",
   "execution_count": 27,
   "metadata": {},
   "outputs": [
    {
     "name": "stdout",
     "output_type": "stream",
     "text": [
      "{'PRAHA': 1335084, 'BRNO': 382405, 'OSTRAVA': 284982}\n"
     ]
    }
   ],
   "source": [
    "print(velka_mesta)"
   ]
  },
  {
   "cell_type": "markdown",
   "metadata": {},
   "source": [
    "Podmínka **o dvou větvích**:"
   ]
  },
  {
   "cell_type": "code",
   "execution_count": 36,
   "metadata": {},
   "outputs": [],
   "source": [
    "lego_ceny = {\n",
    "    \"7104: Desert Skiff\": {\"cena_$\": 6, \"rok_vydani\": \"2000\"},\n",
    "    \"7190: Millennium Falcon\": {\"cena_$\": 100, \"rok_vydani\": \"2000\"},\n",
    "    \"75044: Droid Tri-Fighter\": {\"cena_$\": 30, \"rok_vydani\": \"2015\"}\n",
    "}"
   ]
  },
  {
   "cell_type": "code",
   "execution_count": 45,
   "metadata": {},
   "outputs": [],
   "source": [
    "ceny_s_inflaci = {\n",
    "    jmeno: (\n",
    "        hodnoty[\"cena_$\"] * 2.27\n",
    "        if hodnoty[\"rok_vydani\"] == \"2000\"\n",
    "        else hodnoty[\"cena_$\"] * 2.51\n",
    "    )\n",
    "    for jmeno, hodnoty in lego_ceny.items()\n",
    "}"
   ]
  },
  {
   "cell_type": "code",
   "execution_count": 37,
   "metadata": {},
   "outputs": [],
   "source": [
    "ceny_s_infl = dict()\n",
    "\n",
    "for jmeno, hodnoty in lego_ceny.items():\n",
    "    if hodnoty[\"rok_vydani\"] == \"2000\":\n",
    "        ceny_s_infl[jmeno] = hodnoty[\"cena_$\"] * 2.27\n",
    "    else:\n",
    "        ceny_s_infl[jmeno] = hodnoty[\"cena_$\"] * 2.51"
   ]
  },
  {
   "cell_type": "code",
   "execution_count": 46,
   "metadata": {},
   "outputs": [
    {
     "name": "stdout",
     "output_type": "stream",
     "text": [
      "{'7104: Desert Skiff': 13.620000000000001, '7190: Millennium Falcon': 227.0, '75044: Droid Tri-Fighter': 75.3}\n"
     ]
    }
   ],
   "source": [
    "print(ceny_s_inflaci)"
   ]
  },
  {
   "cell_type": "code",
   "execution_count": 38,
   "metadata": {},
   "outputs": [
    {
     "name": "stdout",
     "output_type": "stream",
     "text": [
      "{'7104: Desert Skiff': 13.620000000000001, '7190: Millennium Falcon': 227.0, '75044: Droid Tri-Fighter': 75.3}\n"
     ]
    }
   ],
   "source": [
    "print(ceny_s_infl)"
   ]
  },
  {
   "cell_type": "markdown",
   "metadata": {},
   "source": [
    "### Set comprehensions"
   ]
  },
  {
   "cell_type": "code",
   "execution_count": 39,
   "metadata": {},
   "outputs": [],
   "source": [
    "ziskane_adresy = {\"me@matousholinka.com\", \"petr@svetr.com\", \"lukas@gmail.com\", \"nan_email\"}\n",
    "\n",
    "domeny = {\n",
    "    adresa.split(\"@\")[1]\n",
    "    for adresa in ziskane_adresy\n",
    "    if \"@\" in adresa\n",
    "}"
   ]
  },
  {
   "cell_type": "code",
   "execution_count": 40,
   "metadata": {},
   "outputs": [
    {
     "name": "stdout",
     "output_type": "stream",
     "text": [
      "{'matousholinka.com', 'gmail.com', 'svetr.com'}\n"
     ]
    }
   ],
   "source": [
    "print(domeny)"
   ]
  },
  {
   "cell_type": "markdown",
   "metadata": {},
   "source": [
    "### Nestovaná komprehence"
   ]
  },
  {
   "cell_type": "markdown",
   "metadata": {},
   "source": [
    "Nakonec ještě ukázkat nestované *comprehensions*.\n",
    "\n",
    "Tady je potřeba si zápis prohlédnout a zamyslet se, jestli je dostatečně **pochopitelný a čitelný** (obecně).\n",
    "\n",
    "Je totiž k ničemu, pokud zapíšeš **nadupanou smyčku**, kterou budeš někomu *koktavě vysvětlovat*, nebo si o nějaký týden později neuvědomíš, co má tebou napsaná smyčka, vůbec dělat:"
   ]
  },
  {
   "cell_type": "code",
   "execution_count": 7,
   "metadata": {},
   "outputs": [],
   "source": [
    "data = [\n",
    "    [\"jméno\", \"přijmení\", \"email\", \"projekt\"],\n",
    "    [\"Lucie\", \"Nováková\", \"lucie.novakova@seznam.cz\", \"projekt_a\"],\n",
    "    [\"Petr\", \"Svetr\", \"petr.svetr@gmail.com\", \"projekt_b\"]\n",
    "]\n",
    "\n",
    "hledana_jmena = [\n",
    "    bunka\n",
    "    for radek in data\n",
    "    for bunka in radek\n",
    "    if \"_\" in bunka\n",
    "]"
   ]
  },
  {
   "cell_type": "code",
   "execution_count": 8,
   "metadata": {},
   "outputs": [
    {
     "name": "stdout",
     "output_type": "stream",
     "text": [
      "['projekt_a', 'projekt_b']\n"
     ]
    }
   ],
   "source": [
    "print(hledana_jmena)"
   ]
  },
  {
   "cell_type": "markdown",
   "metadata": {},
   "source": [
    "<br>\n",
    "\n",
    "<img src=\"https://external-content.duckduckgo.com/iu/?u=https%3A%2F%2Ftse1.mm.bing.net%2Fth%3Fid%3DOIP.O9EkosTHP3lmEAvzA3D-2QHaHa%26pid%3DApi&f=1\" width=\"200\" />\n",
    "\n",
    "\n",
    "\n",
    "## Domácí úkol\n",
    "\n",
    "---"
   ]
  },
  {
   "cell_type": "markdown",
   "metadata": {},
   "source": [
    "<br>\n",
    "\n",
    "##### Zadání\n",
    "\n",
    "Tvým úkolem bude odstraňovat písmena ze zadaného seznamu pomocí funkce `input`:\n",
    "```python\n",
    "pismena = [\"a\", \"a\", \"b\", \"c\", \"d\", \"a\", \"e\", \"g\", \"m\"]\n",
    "```\n",
    "\n",
    "Jakmile budou všechna písmena odstraněná, vypíše tvůj program:\n",
    "```python\n",
    "Seznam je prázdný!\n",
    "```\n",
    "\n",
    "Pokud zapíšeš písmeno, které v zadaném seznamu není, dostaneš upozornění:\n",
    "```python\n",
    "x není součástí písmen!\n",
    "```\n",
    "\n",
    "Průběh může vypadat následovně:\n",
    "```python\n",
    "Začátek: ['a', 'a', 'b', 'c', 'd', 'a', 'e', 'g', 'm']\n",
    "ktere písmeno chceš vyhodit? a\n",
    "Zbývají písmena ['a', 'b', 'c', 'd', 'a', 'e', 'g', 'm']\n",
    "ktere písmeno chceš vyhodit? a\n",
    "Zbývají písmena ['b', 'c', 'd', 'a', 'e', 'g', 'm']\n",
    "ktere písmeno chceš vyhodit? a\n",
    "Zbývají písmena ['b', 'c', 'd', 'e', 'g', 'm']\n",
    "ktere písmeno chceš vyhodit? b\n",
    "Zbývají písmena ['c', 'd', 'e', 'g', 'm']\n",
    "ktere písmeno chceš vyhodit? c\n",
    "Zbývají písmena ['d', 'e', 'g', 'm']\n",
    "ktere písmeno chceš vyhodit? d\n",
    "Zbývají písmena ['e', 'g', 'm']\n",
    "ktere písmeno chceš vyhodit? e\n",
    "Zbývají písmena ['g', 'm']\n",
    "ktere písmeno chceš vyhodit? x\n",
    "x není součástí písmen!\n",
    "ktere písmeno chceš vyhodit? g\n",
    "Zbývají písmena ['m']\n",
    "ktere písmeno chceš vyhodit? m\n",
    "Seznam je prázdný!\n",
    "```"
   ]
  },
  {
   "cell_type": "code",
   "execution_count": 41,
   "metadata": {},
   "outputs": [
    {
     "name": "stdout",
     "output_type": "stream",
     "text": [
      "Help on method_descriptor:\n",
      "\n",
      "remove(self, value, /)\n",
      "    Remove first occurrence of value.\n",
      "    \n",
      "    Raises ValueError if the value is not present.\n",
      "\n"
     ]
    }
   ],
   "source": [
    "help(list.remove)"
   ]
  },
  {
   "cell_type": "code",
   "execution_count": null,
   "metadata": {},
   "outputs": [],
   "source": [
    "pismena = [\"a\", \"a\", \"b\", \"c\", \"d\", \"a\", \"e\", \"g\", \"m\"]\n",
    "\n",
    "while pismena:\n",
    "    print(\", \".join(pismena))\n",
    "    \n",
    "    zadani = input(\"ktere písmeno chceš vyhodit?\")\n",
    "    \n",
    "    if zadani not in pismena:\n",
    "        print(zadani + \" není součástí písmen!\")\n",
    "    else:\n",
    "        pismena.remove(zadani)\n",
    "\n",
    "else:\n",
    "    print(\"Konec hry!\")"
   ]
  },
  {
   "cell_type": "markdown",
   "metadata": {},
   "source": [
    "---"
   ]
  }
 ],
 "metadata": {
  "kernelspec": {
   "display_name": "Python 3",
   "language": "python",
   "name": "python3"
  },
  "language_info": {
   "codemirror_mode": {
    "name": "ipython",
    "version": 3
   },
   "file_extension": ".py",
   "mimetype": "text/x-python",
   "name": "python",
   "nbconvert_exporter": "python",
   "pygments_lexer": "ipython3",
   "version": "3.8.6"
  }
 },
 "nbformat": 4,
 "nbformat_minor": 4
}
