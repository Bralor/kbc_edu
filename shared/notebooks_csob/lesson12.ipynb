{
 "cells": [
  {
   "cell_type": "markdown",
   "metadata": {},
   "source": [
    "## Úvod\n",
    "\n",
    "---\n",
    "\n",
    "1. [Úvod do problematiky](#Úvod-do-problematiky),\n",
    "2. [Knihovny třetích stran](#Knihovny-třetích-stran),\n",
    "3. [Virtuální prostředí](#Virtuální-prostředí),\n",
    "4. [Zdrojový soubor](#Zdrojový-soubor),  # ubrat\n",
    "5. [Postup web scrapování](#Obecný-postup-web-scrapování),\n",
    "6. [Domácí úloha](#Domácí-úloha)."
   ]
  },
  {
   "cell_type": "markdown",
   "metadata": {},
   "source": [
    "<br>\n",
    "\n",
    "<img src=\"https://external-content.duckduckgo.com/iu/?u=https%3A%2F%2Ftse2.mm.bing.net%2Fth%3Fid%3DOIP.E7biPUYoI-y9G-YFp3eq8wHaHa%26pid%3DApi&f=1\" width=\"200\">\n",
    "\n",
    "## Úvod do problematiky\n",
    "\n",
    "---\n",
    "\n",
    "Co je *skrejpování webu*?\n",
    "\n",
    "Jde v podstatě **o automatické stahování dat**, které najdeš uložené na webu.\n",
    "\n",
    "Obecně se tento proces označuje jako *web scraping*, ale jindy jej můžeš najít označený jako *data mining*, *web harvesting* atd.\n",
    "\n",
    "<br>\n",
    "\n",
    "###  Proč web scraping\n",
    "\n",
    "Jako běžný uživatel jsi zvyklý, prohlížet obsah na webu **pomocí prohlížeče**.\n",
    "\n",
    "Tento postup je velmi **pohodlný** a dovolí ti, nechat si vykreslovat různé obrázky, videa, texty, aj.\n",
    "\n",
    "Ale, pokud tě **zajímají spíše data**, kterými web disponuje a ne jejich *vyrenderovaná* (vykreslená) podoba, potom je **web scraping** přesně pro tebe:\n",
    "- umožňuje ti **rychle stahovat** zdrojová data,\n",
    "- umožňuje ti stahovat **větší množství dat** současně,\n",
    "- umožňuje ti vyhnout se **grafickému rozhraní**.\n",
    "\n",
    "<br>\n",
    "\n",
    "### Ukázka\n",
    "\n",
    "<a href=\"https://www.idnes.cz\" target=\"_blank\">odkaz</a>\n",
    "\n",
    "```python\n",
    "import requests\n",
    "from bs4 import BeautifulSoup\n",
    "\n",
    "url = \"...\"\n",
    "```"
   ]
  },
  {
   "cell_type": "markdown",
   "metadata": {},
   "source": [
    "Postup je relativně rychlý, opakovatelný.\n",
    "\n",
    "Co je to za knihovny `requests` a `bs4`? Máš je také k dispozici? Jak je můžeš nahrát a používat?"
   ]
  },
  {
   "cell_type": "markdown",
   "metadata": {},
   "source": [
    "<br>\n",
    "\n",
    "<img src=\"https://external-content.duckduckgo.com/iu/?u=https%3A%2F%2Ftse2.mm.bing.net%2Fth%3Fid%3DOIP.EvE0cAsK9bHMbis8Ki5YPQHaHa%26pid%3DApi&f=1\" width=\"200\">\n",
    "\n",
    "## Knihovny třetích stran\n",
    "\n",
    "---\n",
    "\n",
    "*Knihovny*  můžeš získat v podstatě dvěma způsoby:\n",
    "1. **V rámci instalace**, (knihovny *zabudované*),\n",
    "2. **nainstalovat ručně**, (knihovny *třetích stran*)."
   ]
  },
  {
   "cell_type": "markdown",
   "metadata": {},
   "source": [
    "### Zabudované knihovny\n",
    "\n",
    "\n",
    "Tyto knihovny máš k dispozici ihned po nainstalování *interpreta* Pythonu.\n",
    "\n",
    "Jejich **obsah** a **verze** se mohou lišit průběhem času.\n",
    "\n",
    "Seznam těchto knihoven najdeš v <a href=\"https://docs.python.org/3/library/index.html\" target=\"_blank\">oficiální dokumentaci</a> (na odkaze je seznam pro verzi interpreta **3.10.4**).\n",
    "\n",
    "<br>\n",
    "\n",
    "### Knihovny třetích stran\n",
    "\n",
    "Zatímco některé knihovny můžeš snadno nahrát přímo na místě:"
   ]
  },
  {
   "cell_type": "code",
   "execution_count": null,
   "metadata": {},
   "outputs": [],
   "source": [
    "import typing\n",
    "import uuid\n",
    "import itertools"
   ]
  },
  {
   "cell_type": "code",
   "execution_count": null,
   "metadata": {},
   "outputs": [],
   "source": [
    "help(typing)"
   ]
  },
  {
   "cell_type": "markdown",
   "metadata": {},
   "source": [
    "Jiné knihovny ti **přímo nahrát nepůjdou**:"
   ]
  },
  {
   "cell_type": "code",
   "execution_count": null,
   "metadata": {},
   "outputs": [],
   "source": [
    "import flask\n",
    "import pandas"
   ]
  },
  {
   "cell_type": "markdown",
   "metadata": {},
   "source": [
    "Pokud jsi právě dostal výjimku `ModuleNotFoundError`, tak je všechno v pořádku.\n",
    "\n",
    "<br>\n",
    "\n",
    "Právě tyto knihovny (a mnoho dalších) jsou označovány jako *knihovny třetích stran*.\n",
    "\n",
    "Tyto knihovny **nejsou součástí nainstalovaných** knihoven, a proto je nelze nahrát takhle jednodušše.\n",
    "\n",
    "Je potřeba následujících kroků:\n",
    "1. Nejprve je musíš **vyhledat**,\n",
    "2. následně **správně nainstalovat**.\n",
    "\n",
    "<br>\n",
    "\n",
    "Kde je ale hledat a jak je řádně a správně nainstalovat?"
   ]
  },
  {
   "cell_type": "markdown",
   "metadata": {},
   "source": [
    "<br>\n",
    "\n",
    "<img src=\"https://external-content.duckduckgo.com/iu/?u=https%3A%2F%2Ftse4.mm.bing.net%2Fth%3Fid%3DOIP.1jYNqFlZEyuhm3apMFgIPwHaHa%26pid%3DApi&f=1\" width=\"170\">\n",
    "\n",
    "## Virtuální prostředí\n",
    "\n",
    "---\n",
    "\n",
    "Pro **každý projekt**, který budeš v Pythonu tvořit, budeš obvykle potřebovat **různé knihovny** (jak *zabudované*, tak *třetích stran*).\n",
    "\n",
    "```\n",
    "projekty/\n",
    "   ├─projekt01/  # requests\n",
    "   ├─projekt02/  # requests, pandas\n",
    "   ├─projekt03/  # pandas\n",
    "   ├─...\n",
    "   └─projektXY/\n",
    "```\n",
    "\n",
    "<br>\n",
    "\n",
    "Nejenom různé knihovny, ale dokonce i **různé verze stejných knihoven**.\n",
    "```\n",
    "projekty/\n",
    "   ├─projekt01/  # requests==2.21.0\n",
    "   ├─projekt02/  # requests==2.19.1, pandas==1.9.0\n",
    "   ├─projekt03/  # pandas==2.0.0.\n",
    "   ├─...\n",
    "   └─projektXY/\n",
    "```\n",
    "\n",
    "<br>\n",
    "\n",
    "Je proto vhodné, osvojit si zdravé navýky pro práci **s různými projekty** (úlohami) a pracovat s pomocí oddělených tzv. *virtuálních prostředí*.\n",
    "\n",
    "<br>"
   ]
  },
  {
   "cell_type": "markdown",
   "metadata": {},
   "source": [
    "### Proč oddělené prostředí\n",
    "\n",
    "Nač ale oddělovat prostředí?\n",
    "\n",
    "Můžu přece všechny **knihovny nainstalovat na jedno místo**, a každý projekt bude moci využít společnou knihovnu.\n",
    "\n",
    "**Do jisté míry** ano, **ALE**... nese s sebou spoustu komplikací.\n",
    "\n",
    "<br>\n",
    "\n",
    "Ty nejdůležitější jsou:\n",
    "1. Problémy s OS,\n",
    "2. Rozdílné verze knihoven.\n",
    "\n",
    "<br>"
   ]
  },
  {
   "cell_type": "markdown",
   "metadata": {},
   "source": [
    "### Problémy s OS\n",
    "\n",
    "*Linux* a *MacOS* jsou *operační systémy*, které již předinstalovaný Python obsahují.\n",
    "\n",
    "Ten potom pracuje s některými interními procesy, takže o nich často ani jako uživatel netušíš.\n",
    "\n",
    "Pokud nainstaluješ knihovnu **bez virtuálního prostředí**, hrozí, že nahradíš **původní verze** těchto knihoven **novějšími verzemi** (se kterými neumí pracovat), což může vést k neočekávanému chování.\n",
    "\n",
    "Ukázka:\n",
    "```\n",
    "# výpis z příkazu 'python3 -m pip list'\n",
    "# tvůj OS potřebuje tyto verze knihoven\n",
    "\n",
    "pycairo                1.16.2              \n",
    "pycodestyle            2.9.0               \n",
    "```\n",
    "\n",
    "Pokud nainstaluješ novější verze těchto knihoven (*upgraduješ* je), dostaneš něco podobného:\n",
    "```\n",
    "pycairo                1.19.0              \n",
    "pycodestyle            3.1.1               \n",
    "```\n",
    "\n",
    "Novější verze mohou často postrádat některé starší funkce a jiné objekty. Případně je jejich funkcionalita přemapována na jiné objekty.\n",
    "\n",
    "Potom ti hrozí **neočekávané chování** běžných procesů (výjimky, logy,..), které tyto objekty potřebují.\n",
    "\n",
    "<br>\n",
    "\n",
    "### Rozdílné verze knihoven\n",
    "\n",
    "Dalším problémem, před kterým tě *virtuální prostředí* brání, je kolize **verzí knihoven**, mezi **jednotlivými projekty**.\n",
    "\n",
    "Ukázka:\n",
    "```\n",
    "   ├─projekt01/  # requests==2.21.0\n",
    "   ├─projekt02/  # requests==2.19.1, ...\n",
    "```\n",
    "\n",
    "<br>\n",
    "\n",
    "Pokud nainstaluješ (*globálně*) novější verzi knihovny `2.21.0`, můžeš ztratit některou funkcionalitu z předchozích verzí (funkce, třídy, proměnné, atd.)"
   ]
  },
  {
   "cell_type": "markdown",
   "metadata": {},
   "source": [
    "<img src=\"https://external-content.duckduckgo.com/iu/?u=https%3A%2F%2Ftse4.mm.bing.net%2Fth%3Fid%3DOIP.3RX0BJUjo1iEcyFBi59JWQHaHa%26pid%3DApi&f=1\" width=\"180\">\n",
    "\n",
    "\n",
    "### Práce s prostředími v příkazovém řádku\n",
    "\n",
    "---\n",
    "\n",
    "Vytvořit virtuální prostředí můžeš jednoduše **v příkazovém řádku**.\n",
    "\n",
    "Často totiž **nemáš přístup ke grafickému rozhraní** (virtuál, kontejner, server), a potom se hodí, řídit celý proces **v příkazovém řádku**.\n",
    "\n",
    "Python disponuje knihovnou `venv`, která ti takové prostředí umožní nachystat."
   ]
  },
  {
   "cell_type": "markdown",
   "metadata": {},
   "source": [
    "<br>\n",
    "\n",
    "### Sada příkazů\n",
    "\n",
    "Nejprve zkontroluj, jestli máš nainstalovaný základní manažer balíčků **pip**:\n",
    "```\n",
    "python3 -m pip --version  # novější zápis\n",
    "pip --version             # starší zápis\n",
    "```\n",
    "\n",
    "<br>\n",
    "\n",
    "Výstup ti vrátí číslo verze manažera a jeho umístění:\n",
    "```\n",
    "pip 21.0.1 from ...\n",
    "```"
   ]
  },
  {
   "cell_type": "markdown",
   "metadata": {},
   "source": [
    "Pokud máš manažer v pořádku, můžeš si **vytvořit nové virtuální prostředí**:\n",
    "```\n",
    "python3 -m venv moje_prvni_prostredi\n",
    "```\n",
    "\n",
    "<br>\n",
    "\n",
    "Po krátké odmlce jej můžeš **aktivovat**:\n",
    "```\n",
    "source moje_prvni_prostredi/bin/activate   # aktivace pro Linux a MacOS\n",
    "moje_prvni_prostredi\\Scripts\\Activate.ps1  # aktivace pro Windows\n",
    "```\n",
    "\n",
    "<br>\n",
    "\n",
    "Aktivované virtuální prostředí poznáš podle **předepsané kulaté závorky se jménem projektu**:\n",
    "```\n",
    "$ source moje_prvni_prostredi/bin/activate\n",
    "(moje_prvni_prostredi) $\n",
    "```\n",
    "\n",
    "<br>\n",
    "\n",
    "Pokud si nyní budeš chtít zkontrolovat, které **knihovny máš v nově vytvořeném prostředí**, zapiš:\n",
    "```\n",
    "python3 -m pip list\n",
    "python3 -m pip freeze\n",
    "```\n",
    "\n",
    "<br>\n",
    "\n",
    "Aktivní prostředí potom ukončíš příkazem:\n",
    "```\n",
    "deactivate\n",
    "```"
   ]
  },
  {
   "cell_type": "markdown",
   "metadata": {},
   "source": [
    "<img src=\"https://external-content.duckduckgo.com/iu/?u=https%3A%2F%2Ftse1.mm.bing.net%2Fth%3Fid%3DOIP.FNPYtWpZ9XRY2yf9Z1LqXgHaHa%26pid%3DApi&f=1\" width=\"200\">\n",
    "\n",
    "### Hledání balíčků\n",
    "\n",
    "---\n",
    "\n",
    "Teď, když máš nachystané zázemí, můžeš začít vyhledávat jednotlivé knihovny, které ti usnadní práci.\n",
    "\n",
    "Seznam **většiny knihoven** najdeš na <a href=\"https://pypi.org/\" target=\"_blank\">pypi.org</a>, což je místo, kde si komunita *Pythonistů* sdílí svoje knihovny.\n",
    "\n",
    "##### Demo: Vyhledej knihovnu `requests`"
   ]
  },
  {
   "cell_type": "markdown",
   "metadata": {},
   "source": [
    "<img src=\"https://external-content.duckduckgo.com/iu/?u=https%3A%2F%2Ftse3.mm.bing.net%2Fth%3Fid%3DOIP.1hTm5TmhnE0ctqZd13VcQAHaHa%26pid%3DApi&f=1\" width=\"170\">\n",
    "\n",
    "\n",
    "### Instalace vyhledané a ověřené knihovny\n",
    "\n",
    "---\n",
    "\n",
    "Pokud dohledáš knihovnu, obvykle najdeš i **příkaz pro instalaci**.\n",
    "\n",
    "Nezapomeň aktivovat virtuální prostředí a můžeš zapsat příkaz:\n",
    "```\n",
    "python3 -m pip install requests\n",
    "```\n",
    "\n",
    "##### Demo: Zobrazit knihovnu"
   ]
  },
  {
   "cell_type": "markdown",
   "metadata": {},
   "source": [
    "### Práce s virtuálním prostředím, Pycharm\n",
    "\n",
    "---\n",
    "\n",
    "Pokud pracuješ s PyCharmem, ten ti v podstatě *virtuální prostředí* naservíruje sám.\n",
    "\n",
    "##### Demo: Ukázka v PyCharm"
   ]
  },
  {
   "cell_type": "markdown",
   "metadata": {},
   "source": [
    "Nyní si můžeš řádně nainstalovat knihovny z počáteční ukázky (`requests` a `bs4`)."
   ]
  },
  {
   "cell_type": "markdown",
   "metadata": {},
   "source": [
    "<br>\n",
    "\n",
    "<img src=\"https://external-content.duckduckgo.com/iu/?u=https%3A%2F%2Ftse2.mm.bing.net%2Fth%3Fid%3DOIP.VLTvH1ymQZkq7L3jnBJJ4AHaHa%26pid%3DApi&f=1\" width=\"170\">\n",
    "\n",
    "## Zdrojový soubor\n",
    "\n",
    "---\n",
    "\n",
    "Než se pustíš do *scrapování* dat, potřebuješ se zorientovat v následujících krocích:\n",
    "1. Jak **vyhledat data**,\n",
    "2. jak **identifikovat jejich zdroj**,\n",
    "3. jak **přečíst zdroj**."
   ]
  },
  {
   "cell_type": "markdown",
   "metadata": {},
   "source": [
    "### Vyhledání dat\n",
    "\n",
    "Nejlepší je, rozkoukat se **pomocí prohlížeče**, ten má totiž k dispozici každý.\n",
    "\n",
    "Zajímají tě ceny na e-shopech, ubytování, nové články?\n",
    "\n",
    "Zapni *prohlížeč*, vyber tebou preferovaný *vyhledávací engine* a začni hledat."
   ]
  },
  {
   "cell_type": "markdown",
   "metadata": {},
   "source": [
    "### Identifikuj zdroj dat\n",
    "\n",
    "Jakmile najdeš, co potřebuješ, potřebuješ pochopit, **v jaké struktuře** jsou všechna tato data poskládaná.\n",
    "\n",
    "\n",
    "Většina prohlížečů disponuje schopností nahlédnout *do struktury* dat, která zobrazují.\n",
    "\n",
    "U prohlížeče Mozilla je postup následující:\n",
    "1. **Přejdeš na stránku**, která tě zajímá,\n",
    "2. **pravým tlačítkem myši** klikneš kamkoliv do prostoru v okně,\n",
    "3. vybereš možnost **View page source** (tedy *zobrazit zdrojový kód*).\n",
    "\n",
    "```html\n",
    "<!DOCTYPE HTML PUBLIC \"-//W3C//DTD HTML 4.0 Transitional//EN\">\n",
    "<html>\n",
    "<head>\n",
    "...\n",
    "```\n",
    "\n",
    "Následně můžeš vyčíst, že *zdrojový kód* stránky je uložený ve formátu `html`aj."
   ]
  },
  {
   "cell_type": "markdown",
   "metadata": {},
   "source": [
    "### Získání zdrojového kódu s Pythonem\n",
    "\n",
    "Na začátku, stejně jako v rámci tvého prohlížeče, musíš **znát adresu**:\n",
    "```python\n",
    "url = \"https://www.idnes.cz/\"\n",
    "```\n",
    "\n",
    "Potom potřebuješ, stejně jako v prohlížeči, odeslat **správný typ požadavku**.\n",
    "\n",
    "Jak jej ale najít?\n",
    "\n",
    "<br>\n",
    "\n",
    "##### Demo: Zobrazit požadavek v prohlížeči\n",
    "\n",
    "##### Demo: Odeslat požadavek v Pythonu"
   ]
  },
  {
   "cell_type": "code",
   "execution_count": null,
   "metadata": {},
   "outputs": [],
   "source": [
    "# Vhodný objekt\n",
    "import requests"
   ]
  },
  {
   "cell_type": "code",
   "execution_count": null,
   "metadata": {
    "scrolled": true
   },
   "outputs": [],
   "source": [
    "# Jeho průzkum\n",
    "dir(requests)"
   ]
  },
  {
   "cell_type": "code",
   "execution_count": null,
   "metadata": {
    "scrolled": true
   },
   "outputs": [],
   "source": [
    "# Nápověda\n",
    "help(requests.get)"
   ]
  },
  {
   "cell_type": "code",
   "execution_count": null,
   "metadata": {},
   "outputs": [],
   "source": [
    "# Demo\n",
    "odpoved_serveru = requests.get(\"https://www.idnes.cz/\")"
   ]
  },
  {
   "cell_type": "code",
   "execution_count": null,
   "metadata": {},
   "outputs": [],
   "source": [
    "# Zobrazit výstup\n",
    "odpoved_serveru.text"
   ]
  },
  {
   "cell_type": "markdown",
   "metadata": {},
   "source": [
    "Jak se ale v takovém zdrojovém souboru orientovat?"
   ]
  },
  {
   "cell_type": "markdown",
   "metadata": {},
   "source": [
    "### Úvod do HTML\n",
    "\n",
    "Tento typ souborů je opět varianta **zjednodušeného textového formátu**, který je hierarchicky uspořádný pomocí tzv. *tagů* nebo také *elementů*:\n",
    "```html\n",
    "<body>\n",
    "<div id=\"menu\">\n",
    "    <li>\n",
    "        <a href=\"http://XXXXXXX.cz\" title=\"\">Homepage</a>\n",
    "    </li>\n",
    "</div>\n",
    "</body>\n",
    "```\n",
    "Formát `html` je velmi často používaný pro tvorbu **struktury webových stránek**"
   ]
  },
  {
   "cell_type": "markdown",
   "metadata": {},
   "source": [
    "### Tagy\n",
    "\n",
    "Na každém řádku si jsou nachystané prvky `html` formátu. `<div></div>` nebo `<li></li>`.\n",
    "\n",
    "Všimni si, že jsou nachystané v párech. Jeden objekt je **otevírající** a druhý **zavírající** (většinou s lomítkem).\n",
    "\n",
    "Takový pár, otevírající a zavírající element, často obsahují nějaký údaj:\n",
    "```html\n",
    "<div>   ..otevírací_tag\n",
    "    Obsah\n",
    "</div>  ..uzavírací_tag\n",
    "```\n",
    "\n",
    "<br>\n",
    "\n",
    "Některé tagy jsou zarovnané a jiné odsazené:\n",
    "```html\n",
    "<div id=\"menu\">\n",
    "    <li>\n",
    "        <a href=\"XYZ\">Homepage</a>\n",
    "        <a href=\"MNO\">Source</a>\n",
    "    </li>\n",
    "</div>\n",
    "```\n",
    "Z toho pak vyplývá **rozdělení tagů** na:\n",
    "1. **Rodičovské**, nebo také nadřazený tag `<div>`,\n",
    "2. **potomky**, odsazené tagy `<li>` a `<a>`,\n",
    "3. **sourozence**, tagy na stejné úrovni odsazení jako oba tagy `<a>`."
   ]
  },
  {
   "cell_type": "markdown",
   "metadata": {},
   "source": [
    "### Atributy tagů\n",
    "\n",
    "Dalším detailem, kterého si můžeš v `html` strutuře všimnout, jsou tzv. *atributy tagů*.\n",
    "```html\n",
    " <!-- atribut \"id\"-->\n",
    "<div id=\"menu\">                    \n",
    "    <li>\n",
    "        <!-- atribut \"href\"-->\n",
    "        <a href=\"XYZ\">Homepage</a>  \n",
    "        <!-- atribut \"href\"-->\n",
    "        <a href=\"MNO\">Source</a>    \n",
    "    </li>\n",
    "</div>\n",
    "```\n",
    "*Atributy* jsou velice podobné *mapování* u slovníků v Pythonu.\n",
    "\n",
    "Jejich účelem je tedy přidat nějaké rozšiřující, nebo doplňující chování pro stávající **HTML tag**.\n",
    "\n",
    "Jsou tvořené páry **klíč** a **hodnota**, spojené pomocí `=`.\n",
    "\n",
    "<br>\n",
    "\n",
    "Je jich celá řada, ale co se ukázky týče, vidíš:\n",
    "1. `id` atribut, který slouží jako **pomocný identifikátor** v rámci celého `html`.\n",
    "2. `href` atribut, který **upřesňuje odkaz**, na který tě přesune (jinam na stejné stránce, na jinou stránku, atd.)."
   ]
  },
  {
   "cell_type": "markdown",
   "metadata": {},
   "source": [
    "<br>\n",
    "\n",
    "<img src=\"https://external-content.duckduckgo.com/iu/?u=https%3A%2F%2Ftse1.mm.bing.net%2Fth%3Fid%3DOIP.VivD3FqxBcHWl5Od9E9UDgHaHa%26pid%3DApi&f=1\" width=\"170\">\n",
    "\n",
    "### Obecný postup web scrapování\n",
    "---\n",
    "\n",
    "\n",
    "Celý postup **web scrapování** potom obecně rozložíš do těchto kroků:\n",
    "1. ✅ Získání **zdrojového souboru** z webové adresy,\n",
    "2. ❌ **rozdělení a procházení** takového zdrojového souboru,\n",
    "3. ❌ **zpřístupnění a uložení dat** ve zdrojovém souboru, která potřebuješ,\n",
    "4. ❌ (volitelné) **přesun na další stránku** a zopakovat první tři kroky."
   ]
  },
  {
   "cell_type": "markdown",
   "metadata": {},
   "source": [
    "### Rozdělení zdrojového souboru\n",
    "\n",
    "*Zdrojový soubor* už získáš, ale co teď s ním?"
   ]
  },
  {
   "cell_type": "code",
   "execution_count": null,
   "metadata": {},
   "outputs": [],
   "source": [
    "from requests import get\n",
    "\n",
    "odpoved_serveru = get(\"https://cs.wikipedia.org/wiki/Hlavn%C3%AD_strana\")"
   ]
  },
  {
   "cell_type": "code",
   "execution_count": null,
   "metadata": {},
   "outputs": [],
   "source": [
    "odpoved_serveru.text"
   ]
  },
  {
   "cell_type": "markdown",
   "metadata": {},
   "source": [
    "<br>\n",
    "\n",
    "Na první pohled je patrné, že s takovým objektem, je práce **velmi náročná**:"
   ]
  },
  {
   "cell_type": "code",
   "execution_count": null,
   "metadata": {},
   "outputs": [],
   "source": [
    "odpoved_serveru.text[:20]"
   ]
  },
  {
   "cell_type": "code",
   "execution_count": null,
   "metadata": {},
   "outputs": [],
   "source": [
    "odpoved_serveru.text[:30]"
   ]
  },
  {
   "cell_type": "code",
   "execution_count": null,
   "metadata": {},
   "outputs": [],
   "source": [
    "odpoved_serveru.text[94:141]"
   ]
  },
  {
   "cell_type": "markdown",
   "metadata": {},
   "source": [
    "Definitivně není reálné, takový objekt *indexovat*, *slicovat*, *stridovat*.\n",
    "\n",
    "Jak tedy obsah zdrojového souboru pohodlně **rozdělit**?"
   ]
  },
  {
   "cell_type": "markdown",
   "metadata": {},
   "source": [
    "### Procházení v rozděleném souboru\n",
    "\n",
    "Jestli chceš soubor pohodlně procházet, budeš muset najít **další pomůcku**.\n",
    "\n",
    "Hledáš takovou, která umí rozdělovat, nebo jinak řečeno *parsovat*, obsah `html` souborů.\n",
    "\n",
    "##### Demo: Hledat knihovnu pro rozdělení HTML souborů"
   ]
  },
  {
   "cell_type": "code",
   "execution_count": null,
   "metadata": {},
   "outputs": [],
   "source": [
    "# knihovna\n",
    "from bs4 import BeautifulSoup"
   ]
  },
  {
   "cell_type": "code",
   "execution_count": null,
   "metadata": {},
   "outputs": [],
   "source": [
    "# nápověda\n",
    "help(BeautifulSoup)"
   ]
  },
  {
   "cell_type": "code",
   "execution_count": null,
   "metadata": {},
   "outputs": [],
   "source": [
    "soup = BeautifulSoup(\n",
    "    odpoved_serveru.text,\n",
    "    features=\"html.parser\"\n",
    ")"
   ]
  },
  {
   "cell_type": "code",
   "execution_count": null,
   "metadata": {},
   "outputs": [],
   "source": [
    "soup"
   ]
  },
  {
   "cell_type": "code",
   "execution_count": null,
   "metadata": {},
   "outputs": [],
   "source": [
    "print(soup.prettify())"
   ]
  },
  {
   "cell_type": "markdown",
   "metadata": {},
   "source": [
    "Nyní, pokud máš *zdrojový soubor* rozdělený, můžeš se zaměřit **na vyhledávání konkrétních dat**."
   ]
  },
  {
   "cell_type": "markdown",
   "metadata": {},
   "source": [
    "### Hledám TENTO element\n",
    "\n",
    "Vzorové `html` uložené jako *string*:"
   ]
  },
  {
   "cell_type": "code",
   "execution_count": null,
   "metadata": {},
   "outputs": [],
   "source": [
    "html_doc = \"\"\"\n",
    "<div class=\"mainpage-headline\">\n",
    "<a href=\"/wiki/Wikipedie:%C4%8Cl%C3%A1nek_t%C3%BDdneI\"\n",
    "title=\"Wikipedie:Článek týdne I.\">Článek týdne</a>\n",
    "<a href=\"/wiki/Wikipedie:%C4%8Cl%C3%A1nek_t%C3%BDdneII\"\n",
    "title=\"Wikipedie:Článek týdne II.\">Článek týdne II.</a>\n",
    "</div>\n",
    "\"\"\""
   ]
  },
  {
   "cell_type": "markdown",
   "metadata": {},
   "source": [
    "Jak z takového zdrojového `str` získat obsah informace **z druhého tagu** `<a>`?\n",
    "\n",
    "`<a href=\"/wiki/Wikipedie:%C4%8Cl%C3%A1nek_t%C3%BDdneII\"\n",
    "title=\"Wikipedie:Článek týdne II.\">Článek týdne II.</a>`\n",
    "\n",
    "<br>\n",
    "\n",
    "##### Vyhledat **jménem tagu**"
   ]
  },
  {
   "cell_type": "code",
   "execution_count": null,
   "metadata": {},
   "outputs": [],
   "source": [
    "rozdelene_html = BeautifulSoup(html_doc, features=\"html.parser\")"
   ]
  },
  {
   "cell_type": "code",
   "execution_count": null,
   "metadata": {},
   "outputs": [],
   "source": [
    "print(rozdelene_html.div)"
   ]
  },
  {
   "cell_type": "code",
   "execution_count": null,
   "metadata": {},
   "outputs": [],
   "source": [
    "print(rozdelene_html.a)"
   ]
  },
  {
   "cell_type": "markdown",
   "metadata": {},
   "source": [
    "V takovém případě ale mohu pracovat **velice neobratně** s dalšími výskytu tohoto *elementu*.\n",
    "\n",
    "Pokud ale stále hledáš jen **konkrétní** (druhý) **element**, může být nepříjemné, indexovat k němu nepřímo.\n"
   ]
  },
  {
   "cell_type": "markdown",
   "metadata": {},
   "source": [
    "<br>\n",
    "\n",
    "##### Vyhledat pomocí atributů tagů metodou `find`\n",
    "\n",
    "Pokud má element doplňující atributy, můžeš vyhledávat právě pomocí jejich **jmen a hodnot**"
   ]
  },
  {
   "cell_type": "code",
   "execution_count": null,
   "metadata": {},
   "outputs": [],
   "source": [
    "help(rozdelene_html.find)"
   ]
  },
  {
   "cell_type": "code",
   "execution_count": null,
   "metadata": {},
   "outputs": [],
   "source": [
    "print(rozdelene_html.find(\"a\", {\"title\": \"Wikipedie:Článek týdne II.\"}))"
   ]
  },
  {
   "cell_type": "code",
   "execution_count": null,
   "metadata": {},
   "outputs": [],
   "source": [
    "print(rozdelene_html.find(\"a\", {\"href\": \"/wiki/Wikipedie:%C4%8Cl%C3%A1nek_t%C3%BDdneII\"}))"
   ]
  },
  {
   "cell_type": "markdown",
   "metadata": {},
   "source": [
    "<br>\n",
    "\n",
    "#### Vyhledat pomocí metody `select`\n",
    "\n",
    "Metoda `select` ti umožňuje vyhledávat pomocí tzv. **CSS selektoru**:"
   ]
  },
  {
   "cell_type": "code",
   "execution_count": null,
   "metadata": {},
   "outputs": [],
   "source": [
    "help(rozdelene_html.select_one)"
   ]
  },
  {
   "cell_type": "markdown",
   "metadata": {},
   "source": [
    "##### [Demo: Selekce hlavního článku, Kinobox](https://www.kinobox.cz/)"
   ]
  },
  {
   "cell_type": "code",
   "execution_count": null,
   "metadata": {},
   "outputs": [],
   "source": [
    "import requests"
   ]
  },
  {
   "cell_type": "code",
   "execution_count": null,
   "metadata": {},
   "outputs": [],
   "source": [
    "odpoved_s = requests.get(\"https://www.kinobox.cz/\")"
   ]
  },
  {
   "cell_type": "code",
   "execution_count": null,
   "metadata": {},
   "outputs": [],
   "source": [
    "soup_kinobox = BeautifulSoup(odpoved_s.text, features=\"html.parser\")"
   ]
  },
  {
   "cell_type": "code",
   "execution_count": null,
   "metadata": {},
   "outputs": [],
   "source": [
    "a_tag_uvodni_cl = soup_kinobox.select_one(\"#nejnovejsi > div:nth-child(1) > a:nth-child(1)\")"
   ]
  },
  {
   "cell_type": "code",
   "execution_count": null,
   "metadata": {},
   "outputs": [],
   "source": [
    "print(type(a_tag_uvodni_cl))"
   ]
  },
  {
   "cell_type": "markdown",
   "metadata": {},
   "source": [
    "<br>\n",
    "\n",
    "Jaké jsou tedy způsoby, jak vyhledat jednotlivé tagy:\n",
    "1. Vyhledat **jménem tagu**,\n",
    "2. Vyhledat pomocí *atributů tagů* metodou **find**,\n",
    "3. Vyhledat pomocí metody **select_one**."
   ]
  },
  {
   "cell_type": "markdown",
   "metadata": {},
   "source": [
    "<br>\n",
    "\n",
    "### Hledám TYTO elementy\n",
    "\n",
    "Metoda `find_all` ti také pomáhá projít zdrojový kód.\n",
    "\n",
    "Třeba pokud potřebuješ najít **všechny elementy s určitým atributem** (případně pomocí *XPath*):"
   ]
  },
  {
   "cell_type": "code",
   "execution_count": null,
   "metadata": {},
   "outputs": [],
   "source": [
    "html_doc_2 = \"\"\"\n",
    "<div class=\"mainpage-left\">\n",
    "    <a class=\"topic\">Tady je první článek...</a>\n",
    "</div>\n",
    "<div class=\"mainpage-block aow-container\">\n",
    "    <a class=\"topic\">Tady je druhý článek...</a>\n",
    "</div>\n",
    "<div class=\"mainpage-headline\">\n",
    "    <a href=\"/wiki/Wikipedie:%C4%8Cl%C3%A1nek_t%C3%BDdne\" title=\"Wikipedie:Článek týdne\">Článek týdne</a>\n",
    "    <a class=\"topic_main\">XXXXX...</a>\n",
    "</div>\n",
    "<div class=\"mainpage-content\">\n",
    "     <a class=\"topic_main\">Příjmení Ugandského trenéra ženského lakrosu je...</a>\n",
    "</div>\n",
    "<div class=\"mainpage-footer\">\n",
    "    <a title=\"Wikipedie:Nejlepší články\">Nejlepší články</a>\n",
    "    <a title=\"Wikipedie:Dobré články\">Dobré články</a>\n",
    "    <a title=\"Wikipedie:Článek týdne/2022\">Další články týdne…</a>\n",
    "</div>\n",
    "\"\"\""
   ]
  },
  {
   "cell_type": "code",
   "execution_count": null,
   "metadata": {},
   "outputs": [],
   "source": [
    "soup_2 = BeautifulSoup(html_doc_2, features=\"html.parser\")"
   ]
  },
  {
   "cell_type": "code",
   "execution_count": null,
   "metadata": {},
   "outputs": [],
   "source": [
    "help(soup_2.find_all)"
   ]
  },
  {
   "cell_type": "code",
   "execution_count": null,
   "metadata": {},
   "outputs": [],
   "source": [
    "vsechny_a_topic = soup_2.find_all(\"a\", {\"class\": \"topic\"})"
   ]
  },
  {
   "cell_type": "code",
   "execution_count": null,
   "metadata": {},
   "outputs": [],
   "source": [
    "vsechny_a_topic"
   ]
  },
  {
   "cell_type": "markdown",
   "metadata": {},
   "source": [
    "<br>\n",
    "\n",
    "#### Prozkoumání vyhledaného elementu\n",
    "\n",
    "Pokud najdeš element, který potřebuješ, můžeš je **důkladněji prozkoumat**:"
   ]
  },
  {
   "cell_type": "code",
   "execution_count": null,
   "metadata": {},
   "outputs": [],
   "source": [
    "treti_div = soup_2.find(\"div\", {\"class\": \"mainpage-headline\"})"
   ]
  },
  {
   "cell_type": "code",
   "execution_count": null,
   "metadata": {},
   "outputs": [],
   "source": [
    "dir(treti_div)"
   ]
  },
  {
   "cell_type": "code",
   "execution_count": null,
   "metadata": {},
   "outputs": [],
   "source": [
    "potomek_a = treti_div.findChild()"
   ]
  },
  {
   "cell_type": "code",
   "execution_count": null,
   "metadata": {},
   "outputs": [],
   "source": [
    "type(potomek_a)"
   ]
  },
  {
   "cell_type": "code",
   "execution_count": null,
   "metadata": {},
   "outputs": [],
   "source": [
    "potomek_a.attrs        # slovník jmen a hodnot všech atributů"
   ]
  },
  {
   "cell_type": "code",
   "execution_count": null,
   "metadata": {},
   "outputs": [],
   "source": [
    "potomek_a.get(\"href\")  # metoda \"get\", hledáš atribut \"href\""
   ]
  },
  {
   "cell_type": "code",
   "execution_count": null,
   "metadata": {},
   "outputs": [],
   "source": [
    "potomek_a.get_text()   # metoda \"get_text\" ti přečte obsah text elementu"
   ]
  },
  {
   "cell_type": "code",
   "execution_count": null,
   "metadata": {},
   "outputs": [],
   "source": [
    "print(soup_2.find(\n",
    "    \"div\", {\"class\": \"mainpage-headline\"}).find(\n",
    "        \"a\", {\"class\": \"topic_main\"}).get_text()\n",
    ")"
   ]
  },
  {
   "cell_type": "markdown",
   "metadata": {},
   "source": [
    "<br>\n",
    "\n",
    "<img src=\"https://external-content.duckduckgo.com/iu/?u=https%3A%2F%2Ftse3.mm.bing.net%2Fth%3Fid%3DOIP.XxURlbi8RZ3SMPoMRj91VwAAAA%26pid%3DApi&f=1\" width=\"200\">\n",
    "\n",
    "## Domácí úloha\n",
    "\n",
    "---\n",
    "\n",
    "Napiš skript, který postahuje všechny aktuální články na zadané *webové adrese*.\n",
    "\n",
    "Ukázka po spuštění:\n",
    "```\n",
    "python ukol_lekce09.py\n",
    " 1. Ukrajinci plánovali větší ofenzivu. Ale Američané je vyzvali, aby ji omezili\n",
    " 2. Učitel: Kázeň, dřina a dril na školy patří. Řád je efektivní, nejde si jen hrát\n",
    " 3. Generálu Pavlovi radí s krizí nový tým expertů. Vede ho exguvernér ČNB Tůma\n",
    " ...\n",
    "```\n",
    "\n",
    "**Poznámka,** texty článků se mohou samozřejmě lišit."
   ]
  },
  {
   "cell_type": "markdown",
   "metadata": {},
   "source": [
    "---"
   ]
  }
 ],
 "metadata": {
  "kernelspec": {
   "display_name": "Python 3",
   "language": "python",
   "name": "python3"
  },
  "language_info": {
   "codemirror_mode": {
    "name": "ipython",
    "version": 3
   },
   "file_extension": ".py",
   "mimetype": "text/x-python",
   "name": "python",
   "nbconvert_exporter": "python",
   "pygments_lexer": "ipython3",
   "version": "3.8.6"
  }
 },
 "nbformat": 4,
 "nbformat_minor": 4
}
