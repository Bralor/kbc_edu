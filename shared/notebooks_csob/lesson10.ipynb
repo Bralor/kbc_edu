{
 "cells": [
  {
   "cell_type": "markdown",
   "metadata": {},
   "source": [
    "## Úvod\n",
    "\n",
    "---\n",
    "\n",
    "1. [Úvod do výjimek](#),\n",
    "2. [Odchytávání výjimek](#),\n",
    "3. [Debugování](#),\n",
    "5. [Domácí úloha](#).\n",
    "\n",
    "---"
   ]
  },
  {
   "cell_type": "markdown",
   "metadata": {},
   "source": [
    "<br>\n",
    "\n",
    "<img src=\"https://external-content.duckduckgo.com/iu/?u=https%3A%2F%2Ftse1.mm.bing.net%2Fth%3Fid%3DOIP.qpcc6K7Yys3TFhifE4tuywHaHa%26pid%3DApi&f=1&ipt=b330b6e19fba2fceb06c29cb1f32b58d348ccefa9c27b39dedc996951b8c0588&ipo=images\" width=\"220\">"
   ]
  },
  {
   "cell_type": "markdown",
   "metadata": {},
   "source": [
    "## Úvod do file IO\n",
    "\n",
    "---\n",
    "\n",
    "to-do: copy-paste z B2B školení."
   ]
  },
  {
   "cell_type": "markdown",
   "metadata": {},
   "source": [
    "<br>\n",
    "\n",
    "<img src=\"https://external-content.duckduckgo.com/iu/?u=https%3A%2F%2Ftse4.mm.bing.net%2Fth%3Fid%3DOIP.3zH2XO4Ec77ugwOJQSR5KAHaGl%26pid%3DApi&f=1&ipt=da0860e815b2df5c7483ba605846462ead01ddc816a6391c7a24853c7354c4d4&ipo=images\" width=\"300\">\n",
    "\n",
    "## Čtení a zápis\n",
    "\n",
    "---"
   ]
  },
  {
   "cell_type": "markdown",
   "metadata": {},
   "source": [
    "to-do: materiál v B2B školení KBC."
   ]
  },
  {
   "cell_type": "markdown",
   "metadata": {},
   "source": [
    "<br>\n",
    "\n",
    "<img src=\"https://external-content.duckduckgo.com/iu/?u=https%3A%2F%2Ftse1.mm.bing.net%2Fth%3Fid%3DOIP.Q_UFkYOMsF4WZPqR5JASrwHaHa%26pid%3DApi&f=1&ipt=5cc98c3ef4fcc27589e45d9966d8c05f1d7723927ad5c59a0f82d2e753d14ba8&ipo=images\" width=\"200\">\n",
    "\n",
    "## Kontextový manažer\n",
    "---\n"
   ]
  },
  {
   "cell_type": "markdown",
   "metadata": {},
   "source": [
    "to-do: materiál v B2B školení KBC."
   ]
  },
  {
   "cell_type": "markdown",
   "metadata": {},
   "source": [
    "<br>\n",
    "\n",
    "<img src=\"https://external-content.duckduckgo.com/iu/?u=https%3A%2F%2Ftse3.mm.bing.net%2Fth%3Fid%3DOIP.GMJvJ-GG0YS8H5JmHR3CbwHaHm%26pid%3DApi&f=1&ipt=110157bae9409977a59d895a970a6d51afa8a31e0c7fca53a1f95fd2402f9a35&ipo=images\" width=\"200\">\n",
    "\n",
    "## Formátování stringů\n",
    "\n",
    "---"
   ]
  },
  {
   "cell_type": "markdown",
   "metadata": {},
   "source": [
    "to-do: update původních materiálů z PA 2021."
   ]
  },
  {
   "cell_type": "markdown",
   "metadata": {},
   "source": [
    "<br>\n",
    "\n",
    "<img src=\"https://external-content.duckduckgo.com/iu/?u=https%3A%2F%2Ftse3.mm.bing.net%2Fth%3Fid%3DOIP.GMJvJ-GG0YS8H5JmHR3CbwHaHm%26pid%3DApi&f=1&ipt=110157bae9409977a59d895a970a6d51afa8a31e0c7fca53a1f95fd2402f9a35&ipo=images\" width=\"200\">\n",
    "\n",
    "## Domácí úloha\n",
    "\n",
    "---"
   ]
  },
  {
   "cell_type": "markdown",
   "metadata": {},
   "source": [
    "---"
   ]
  }
 ],
 "metadata": {
  "kernelspec": {
   "display_name": "Python 3",
   "language": "python",
   "name": "python3"
  },
  "language_info": {
   "codemirror_mode": {
    "name": "ipython",
    "version": 3
   },
   "file_extension": ".py",
   "mimetype": "text/x-python",
   "name": "python",
   "nbconvert_exporter": "python",
   "pygments_lexer": "ipython3",
   "version": "3.8.6"
  }
 },
 "nbformat": 4,
 "nbformat_minor": 4
}
