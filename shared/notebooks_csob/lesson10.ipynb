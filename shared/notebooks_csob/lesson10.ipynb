{
 "cells": [
  {
   "cell_type": "markdown",
   "metadata": {},
   "source": [
    "## Úvod\n",
    "\n",
    "---\n",
    "\n",
    "1. [Úvod do chyb](#Úvod-do-chyb),\n",
    "2. [Odchytávání výjimek](#Odchytávání-výjimek),\n",
    "3. [Debugování](#Debugování),\n",
    "5. [Domácí úloha](#Domácí-úloha).\n",
    "\n",
    "---"
   ]
  },
  {
   "cell_type": "markdown",
   "metadata": {},
   "source": [
    "<br>\n",
    "\n",
    "<img src=\"https://external-content.duckduckgo.com/iu/?u=https%3A%2F%2Ftse1.mm.bing.net%2Fth%3Fid%3DOIP.iyRtgmUPNPU7-T9k3gdF6gHaHa%26pid%3DApi&f=1&ipt=830e70c5fb64bc9c6ee474185a2c94132c6c4580e63315751b258bc3e61ba233&ipo=images\" width=\"220\">"
   ]
  },
  {
   "cell_type": "markdown",
   "metadata": {},
   "source": [
    "## Úvod do chyb\n",
    "\n",
    "---"
   ]
  },
  {
   "cell_type": "markdown",
   "metadata": {},
   "source": [
    "**Chyby může udělat každý**. Programátory, analyticky nevyjímaje.\n",
    "\n",
    "Pokud uděláš chybu, *interpret* ji při spuštění:\n",
    "* pozná,\n",
    "* vystopuje,\n",
    "* zatřídí."
   ]
  },
  {
   "cell_type": "markdown",
   "metadata": {},
   "source": [
    "Jelikož chybu udělá programátor pouze výjimečně, určitě si také uslyšíš označení **výjimka** (z angl. *exception*)."
   ]
  },
  {
   "cell_type": "markdown",
   "metadata": {},
   "source": [
    "Velmi obecně, pokud uděláš chybu, můžou nastat tyto situace:\n",
    "1. Program **zcela selže** (doprovázeno výjimkami),\n",
    "2. program se **nechová podle očekávání** (doprovázeno debugováním)."
   ]
  },
  {
   "cell_type": "markdown",
   "metadata": {},
   "source": [
    "Jiné rozdělení (exaktnější) můžeš aplikovat **na průběh tvého programu**:\n",
    "1. **Syntaktické chyby**, nedodržení předpisu jazyka Python (způsobí *výjimku*),\n",
    "2. **Běhové chyby**, chyba se projeví až při interpretování našeho zápisu (způsobí *výjimku*),\n",
    "3. **Logické chyby**, kód funguje jinak než bylo zamýšleno (musíš *debugovat*)."
   ]
  },
  {
   "cell_type": "markdown",
   "metadata": {},
   "source": [
    "### Syntaktické chyby\n",
    "\n",
    "Čím více **řádků kódu napíšeš**, tím více se s těmito chybami setkáš."
   ]
  },
  {
   "cell_type": "code",
   "execution_count": 1,
   "metadata": {},
   "outputs": [
    {
     "ename": "SyntaxError",
     "evalue": "invalid syntax (<ipython-input-1-a901a5357677>, line 1)",
     "output_type": "error",
     "traceback": [
      "\u001b[0;36m  File \u001b[0;32m\"<ipython-input-1-a901a5357677>\"\u001b[0;36m, line \u001b[0;32m1\u001b[0m\n\u001b[0;31m    if \"@\" in \"matous@matous.cz\"\u001b[0m\n\u001b[0m                                ^\u001b[0m\n\u001b[0;31mSyntaxError\u001b[0m\u001b[0;31m:\u001b[0m invalid syntax\n"
     ]
    }
   ],
   "source": [
    "if \"@\" in \"matous@matous.cz\"\n",
    "    print(\"Pravda\")\n",
    "else:\n",
    "    print(\"Neni pravda\")"
   ]
  },
  {
   "cell_type": "markdown",
   "metadata": {},
   "source": [
    "V ukázce výše je nějaký problém.\n",
    "\n",
    "*Interpret* se snaží pomoci, ale ne vždy je to pro něj jednoduché.\n",
    "\n",
    "Proto existuje celá řada statických zvýrazňovačů a pomůcek, které umí tyto problémy včas odhalit:\n",
    "1. [pylint](https://pypi.org/project/pylint/),\n",
    "2. [flake8](https://flake8.pycqa.org/en/latest/).\n",
    "\n",
    "Pokud používáš **editor**, nebo **IDE**, vyzkoušej, jestli už neobsahují podobný zabudovaný **zvýraznovač** (z angl. *linter*).\n",
    "\n",
    "Právě takového pomůcky dovedu rozeznat chybný zápis **již na počátku**.\n",
    "\n",
    "Proto by takový nástroj měl být **základní pracovní pomůckou** každého programátora."
   ]
  },
  {
   "cell_type": "markdown",
   "metadata": {},
   "source": [
    "##### Demo: Pycharm, linter\n",
    "##### Demo: flake8\n",
    "##### Demo: Pyright + Jedi"
   ]
  },
  {
   "cell_type": "markdown",
   "metadata": {},
   "source": [
    "### Běhové chyby\n",
    "\n",
    "S **běhovou chybou** se setkáš v průběhu programu.\n",
    "\n",
    "Pokud tvůj zápis **dostatečně neošetříš**, může fungovat většinu času, ale **ne pokaždé**:"
   ]
  },
  {
   "cell_type": "code",
   "execution_count": 2,
   "metadata": {},
   "outputs": [],
   "source": [
    "def vrat_polovinu(cislo: int) -> float:\n",
    "    return cislo / 2"
   ]
  },
  {
   "cell_type": "code",
   "execution_count": 3,
   "metadata": {},
   "outputs": [
    {
     "name": "stdout",
     "output_type": "stream",
     "text": [
      "0.5\n",
      "1.0\n",
      "1.5\n",
      "2.0\n",
      "2.5\n"
     ]
    }
   ],
   "source": [
    "for cislo in (1, 2, 3, 4, 5):\n",
    "    print(vrat_polovinu(cislo))"
   ]
  },
  {
   "cell_type": "markdown",
   "metadata": {},
   "source": [
    "Program klidně může fungovat pro naprostou většinu běžných scénářů."
   ]
  },
  {
   "cell_type": "code",
   "execution_count": 4,
   "metadata": {},
   "outputs": [
    {
     "name": "stdout",
     "output_type": "stream",
     "text": [
      "0.5\n",
      "1.0\n"
     ]
    },
    {
     "ename": "TypeError",
     "evalue": "unsupported operand type(s) for /: 'str' and 'int'",
     "output_type": "error",
     "traceback": [
      "\u001b[0;31m---------------------------------------------------------------------------\u001b[0m",
      "\u001b[0;31mTypeError\u001b[0m                                 Traceback (most recent call last)",
      "\u001b[0;32m<ipython-input-4-2ea2bcd6573e>\u001b[0m in \u001b[0;36m<module>\u001b[0;34m\u001b[0m\n\u001b[1;32m      1\u001b[0m \u001b[0;32mfor\u001b[0m \u001b[0mcislo\u001b[0m \u001b[0;32min\u001b[0m \u001b[0;34m(\u001b[0m\u001b[0;36m1\u001b[0m\u001b[0;34m,\u001b[0m \u001b[0;36m2\u001b[0m\u001b[0;34m,\u001b[0m \u001b[0;34m\"3\"\u001b[0m\u001b[0;34m,\u001b[0m \u001b[0;36m4\u001b[0m\u001b[0;34m,\u001b[0m \u001b[0;36m5\u001b[0m\u001b[0;34m)\u001b[0m\u001b[0;34m:\u001b[0m\u001b[0;34m\u001b[0m\u001b[0;34m\u001b[0m\u001b[0m\n\u001b[0;32m----> 2\u001b[0;31m     \u001b[0mprint\u001b[0m\u001b[0;34m(\u001b[0m\u001b[0mvrat_polovinu\u001b[0m\u001b[0;34m(\u001b[0m\u001b[0mcislo\u001b[0m\u001b[0;34m)\u001b[0m\u001b[0;34m)\u001b[0m\u001b[0;34m\u001b[0m\u001b[0;34m\u001b[0m\u001b[0m\n\u001b[0m",
      "\u001b[0;32m<ipython-input-2-b3cdd23dea06>\u001b[0m in \u001b[0;36mvrat_polovinu\u001b[0;34m(cislo)\u001b[0m\n\u001b[1;32m      1\u001b[0m \u001b[0;32mdef\u001b[0m \u001b[0mvrat_polovinu\u001b[0m\u001b[0;34m(\u001b[0m\u001b[0mcislo\u001b[0m\u001b[0;34m:\u001b[0m \u001b[0mint\u001b[0m\u001b[0;34m)\u001b[0m \u001b[0;34m->\u001b[0m \u001b[0mfloat\u001b[0m\u001b[0;34m:\u001b[0m\u001b[0;34m\u001b[0m\u001b[0;34m\u001b[0m\u001b[0m\n\u001b[0;32m----> 2\u001b[0;31m     \u001b[0;32mreturn\u001b[0m \u001b[0mcislo\u001b[0m \u001b[0;34m/\u001b[0m \u001b[0;36m2\u001b[0m\u001b[0;34m\u001b[0m\u001b[0;34m\u001b[0m\u001b[0m\n\u001b[0m",
      "\u001b[0;31mTypeError\u001b[0m: unsupported operand type(s) for /: 'str' and 'int'"
     ]
    }
   ],
   "source": [
    "for cislo in (1, 2, \"3\", 4, 5):\n",
    "    print(vrat_polovinu(cislo))"
   ]
  },
  {
   "cell_type": "markdown",
   "metadata": {},
   "source": [
    "Nicméně ne pokaždé.\n",
    "\n",
    "V některých krajních případech, může být průběh přerušený **výjimkou**.\n",
    "\n",
    "Tento typ chyb již **není tak triviální**. Přesto existují různé postupy, jak se výjimkám vyvarovat:\n",
    "1. *Type hints*,\n",
    "2. *mypy*,\n",
    "3. *unit testy*,\n",
    "4. *odchytávání výjimek*."
   ]
  },
  {
   "cell_type": "markdown",
   "metadata": {},
   "source": [
    "##### Demo: Pyright\n",
    "\n",
    "##### Demo: mypy\n",
    "\n",
    "##### Demo: PyCharm"
   ]
  },
  {
   "cell_type": "markdown",
   "metadata": {},
   "source": [
    "### Logické chyby\n",
    "\n",
    "**Logickou chybu** nepoznáš snadno, pakliže vůbec.\n",
    "\n",
    "Program totiž spustíš **bez komplikací**.\n",
    "\n",
    "Teprve až po zevrubné kontrole hodnot, případně výstupu, můžeš vidět nejasnosti:"
   ]
  },
  {
   "cell_type": "code",
   "execution_count": 6,
   "metadata": {},
   "outputs": [],
   "source": [
    "x = 3\n",
    "y = 5"
   ]
  },
  {
   "cell_type": "code",
   "execution_count": 7,
   "metadata": {},
   "outputs": [],
   "source": [
    "prumer = x + y / 2  # 3 + 5 = 8   ->   8 / 2 -> 4"
   ]
  },
  {
   "cell_type": "code",
   "execution_count": 8,
   "metadata": {},
   "outputs": [
    {
     "name": "stdout",
     "output_type": "stream",
     "text": [
      "5.5\n"
     ]
    }
   ],
   "source": [
    "print(prumer)"
   ]
  },
  {
   "cell_type": "markdown",
   "metadata": {},
   "source": [
    "Bránit se proti takovým chybám, **není jednoduché**.\n",
    "\n",
    "Odhalení často přijde až **na samotné uživatele**.\n",
    "\n",
    "Pomoci můžou:\n",
    "1. *Unit testy*,\n",
    "2. *integrační testy*,\n",
    "3. *přehledná dokumentace*,\n",
    "4. *debugování*."
   ]
  },
  {
   "cell_type": "markdown",
   "metadata": {},
   "source": [
    "<br>\n",
    "\n",
    "<img src=\"https://external-content.duckduckgo.com/iu/?u=https%3A%2F%2Ftse4.mm.bing.net%2Fth%3Fid%3DOIP.FT4YqfL278urvhjVDTtX8gHaHa%26pid%3DApi&f=1&ipt=de6137dfdb4d6df4c6ba8514b1211ad52c6139d6c1570e754c85679f8b7bcd47&ipo=images\" width=\"250\">\n",
    "\n",
    "## Odchytávání výjimek\n",
    "\n",
    "---"
   ]
  },
  {
   "cell_type": "markdown",
   "metadata": {},
   "source": [
    "*Výjimka* ale nutně neznamená konec světa.\n",
    "\n",
    "Jsou **to objekty** jako každý jiný.\n",
    "\n",
    "Proto s nimi můžeš manipulovat (z angl. *error handling*)."
   ]
  },
  {
   "cell_type": "code",
   "execution_count": 9,
   "metadata": {},
   "outputs": [],
   "source": [
    "def vydel_dve_cisla(delenec: int, delitel: int) -> float:\n",
    "    return delenec / delitel"
   ]
  },
  {
   "cell_type": "code",
   "execution_count": 12,
   "metadata": {},
   "outputs": [
    {
     "name": "stdout",
     "output_type": "stream",
     "text": [
      "2.0\n",
      "2.0\n",
      "39.0\n"
     ]
    }
   ],
   "source": [
    "print(\n",
    "    vydel_dve_cisla(4, 2),\n",
    "    vydel_dve_cisla(14, 7),\n",
    "    vydel_dve_cisla(117, 3),\n",
    "    sep=\"\\n\"\n",
    ")"
   ]
  },
  {
   "cell_type": "markdown",
   "metadata": {},
   "source": [
    "Pokud ovšem zadáš jiný **typ argumentu**:"
   ]
  },
  {
   "cell_type": "code",
   "execution_count": 14,
   "metadata": {},
   "outputs": [
    {
     "ename": "TypeError",
     "evalue": "unsupported operand type(s) for /: 'str' and 'int'",
     "output_type": "error",
     "traceback": [
      "\u001b[0;31m---------------------------------------------------------------------------\u001b[0m",
      "\u001b[0;31mTypeError\u001b[0m                                 Traceback (most recent call last)",
      "\u001b[0;32m<ipython-input-14-00bceb4e7092>\u001b[0m in \u001b[0;36m<module>\u001b[0;34m\u001b[0m\n\u001b[0;32m----> 1\u001b[0;31m \u001b[0mprint\u001b[0m\u001b[0;34m(\u001b[0m\u001b[0mvydel_dve_cisla\u001b[0m\u001b[0;34m(\u001b[0m\u001b[0;34m\"4\"\u001b[0m\u001b[0;34m,\u001b[0m \u001b[0;36m2\u001b[0m\u001b[0;34m)\u001b[0m\u001b[0;34m)\u001b[0m\u001b[0;34m\u001b[0m\u001b[0;34m\u001b[0m\u001b[0m\n\u001b[0m",
      "\u001b[0;32m<ipython-input-9-a2e2e92cd55f>\u001b[0m in \u001b[0;36mvydel_dve_cisla\u001b[0;34m(delenec, delitel)\u001b[0m\n\u001b[1;32m      1\u001b[0m \u001b[0;32mdef\u001b[0m \u001b[0mvydel_dve_cisla\u001b[0m\u001b[0;34m(\u001b[0m\u001b[0mdelenec\u001b[0m\u001b[0;34m:\u001b[0m \u001b[0mint\u001b[0m\u001b[0;34m,\u001b[0m \u001b[0mdelitel\u001b[0m\u001b[0;34m:\u001b[0m \u001b[0mint\u001b[0m\u001b[0;34m)\u001b[0m \u001b[0;34m->\u001b[0m \u001b[0mfloat\u001b[0m\u001b[0;34m:\u001b[0m\u001b[0;34m\u001b[0m\u001b[0;34m\u001b[0m\u001b[0m\n\u001b[0;32m----> 2\u001b[0;31m     \u001b[0;32mreturn\u001b[0m \u001b[0mdelenec\u001b[0m \u001b[0;34m/\u001b[0m \u001b[0mdelitel\u001b[0m\u001b[0;34m\u001b[0m\u001b[0;34m\u001b[0m\u001b[0m\n\u001b[0m",
      "\u001b[0;31mTypeError\u001b[0m: unsupported operand type(s) for /: 'str' and 'int'"
     ]
    }
   ],
   "source": [
    "print(vydel_dve_cisla(\"4\", 2))"
   ]
  },
  {
   "cell_type": "markdown",
   "metadata": {},
   "source": [
    "A nezapomeň **na nulu**:"
   ]
  },
  {
   "cell_type": "code",
   "execution_count": 16,
   "metadata": {},
   "outputs": [
    {
     "ename": "ZeroDivisionError",
     "evalue": "division by zero",
     "output_type": "error",
     "traceback": [
      "\u001b[0;31m---------------------------------------------------------------------------\u001b[0m",
      "\u001b[0;31mZeroDivisionError\u001b[0m                         Traceback (most recent call last)",
      "\u001b[0;32m<ipython-input-16-7b9a3d10a70d>\u001b[0m in \u001b[0;36m<module>\u001b[0;34m\u001b[0m\n\u001b[0;32m----> 1\u001b[0;31m \u001b[0mprint\u001b[0m\u001b[0;34m(\u001b[0m\u001b[0mvydel_dve_cisla\u001b[0m\u001b[0;34m(\u001b[0m\u001b[0;36m4\u001b[0m\u001b[0;34m,\u001b[0m \u001b[0;36m0\u001b[0m\u001b[0;34m)\u001b[0m\u001b[0;34m)\u001b[0m\u001b[0;34m\u001b[0m\u001b[0;34m\u001b[0m\u001b[0m\n\u001b[0m",
      "\u001b[0;32m<ipython-input-9-a2e2e92cd55f>\u001b[0m in \u001b[0;36mvydel_dve_cisla\u001b[0;34m(delenec, delitel)\u001b[0m\n\u001b[1;32m      1\u001b[0m \u001b[0;32mdef\u001b[0m \u001b[0mvydel_dve_cisla\u001b[0m\u001b[0;34m(\u001b[0m\u001b[0mdelenec\u001b[0m\u001b[0;34m:\u001b[0m \u001b[0mint\u001b[0m\u001b[0;34m,\u001b[0m \u001b[0mdelitel\u001b[0m\u001b[0;34m:\u001b[0m \u001b[0mint\u001b[0m\u001b[0;34m)\u001b[0m \u001b[0;34m->\u001b[0m \u001b[0mfloat\u001b[0m\u001b[0;34m:\u001b[0m\u001b[0;34m\u001b[0m\u001b[0;34m\u001b[0m\u001b[0m\n\u001b[0;32m----> 2\u001b[0;31m     \u001b[0;32mreturn\u001b[0m \u001b[0mdelenec\u001b[0m \u001b[0;34m/\u001b[0m \u001b[0mdelitel\u001b[0m\u001b[0;34m\u001b[0m\u001b[0;34m\u001b[0m\u001b[0m\n\u001b[0m",
      "\u001b[0;31mZeroDivisionError\u001b[0m: division by zero"
     ]
    }
   ],
   "source": [
    "print(vydel_dve_cisla(4, 0))"
   ]
  },
  {
   "cell_type": "markdown",
   "metadata": {},
   "source": [
    "Než na všechny možné i nemožné scénáře psát podmínky a udělátka, je lepší *interpretu* sdělit, že jde o pokus:"
   ]
  },
  {
   "cell_type": "markdown",
   "metadata": {},
   "source": [
    "### Try, tedy vyzkoušej\n",
    "\n",
    "Pro vyzkoušení použij rezervované slovo `try`:"
   ]
  },
  {
   "cell_type": "code",
   "execution_count": 20,
   "metadata": {},
   "outputs": [
    {
     "ename": "SyntaxError",
     "evalue": "invalid syntax (<ipython-input-20-abb0d5484c73>, line 5)",
     "output_type": "error",
     "traceback": [
      "\u001b[0;36m  File \u001b[0;32m\"<ipython-input-20-abb0d5484c73>\"\u001b[0;36m, line \u001b[0;32m5\u001b[0m\n\u001b[0;31m    return vysledek\u001b[0m\n\u001b[0m    ^\u001b[0m\n\u001b[0;31mSyntaxError\u001b[0m\u001b[0;31m:\u001b[0m invalid syntax\n"
     ]
    }
   ],
   "source": [
    "def vydel_dve_cisla(delenec: int, delitel: int) -> float:\n",
    "    try:\n",
    "        vysledek = delenec / delitel\n",
    "    \n",
    "    return vysledek"
   ]
  },
  {
   "cell_type": "markdown",
   "metadata": {},
   "source": [
    "Pozor, syntaxe **není kompletní**, každým vyzkoušením naznačuješ, že může nastat *výjimka*.\n",
    "\n",
    "Proto je nutné, nachystat se, pokud se skutečně objeví."
   ]
  },
  {
   "cell_type": "markdown",
   "metadata": {},
   "source": [
    "### Try/except"
   ]
  },
  {
   "cell_type": "markdown",
   "metadata": {},
   "source": [
    "Syntaxi uzavřeš tak, že přidáš větev `except` (podobná struktura jako podmínkové větve):"
   ]
  },
  {
   "cell_type": "code",
   "execution_count": 29,
   "metadata": {},
   "outputs": [],
   "source": [
    "def vydel_dve_cisla(delenec: int, delitel: int) -> float:\n",
    "    try:\n",
    "        vysledek = delenec / delitel\n",
    "    \n",
    "    except:\n",
    "        print(\"Nelze vydělit!\")\n",
    "        vysledek = None\n",
    "    return vysledek"
   ]
  },
  {
   "cell_type": "code",
   "execution_count": 30,
   "metadata": {},
   "outputs": [
    {
     "name": "stdout",
     "output_type": "stream",
     "text": [
      "Nelze vydělit!\n"
     ]
    }
   ],
   "source": [
    "vydel_dve_cisla(4, 0)"
   ]
  },
  {
   "cell_type": "code",
   "execution_count": 27,
   "metadata": {},
   "outputs": [
    {
     "name": "stdout",
     "output_type": "stream",
     "text": [
      "Nelze vydělit!\n"
     ]
    }
   ],
   "source": [
    "vydel_dve_cisla(\"4\", 0)"
   ]
  },
  {
   "cell_type": "code",
   "execution_count": 28,
   "metadata": {},
   "outputs": [
    {
     "name": "stdout",
     "output_type": "stream",
     "text": [
      "1.3333333333333333\n"
     ]
    }
   ],
   "source": [
    "print(vydel_dve_cisla(4, 3))"
   ]
  },
  {
   "cell_type": "markdown",
   "metadata": {},
   "source": [
    "Pokud nyní nastane **jakákoliv výjimka**, spustí *interpret* ohlášení ve větvi `except`.\n",
    "\n",
    "Pokud se však výjimka neobjeví, vrátí řádný výsledek."
   ]
  },
  {
   "cell_type": "markdown",
   "metadata": {},
   "source": [
    "```python\n",
    "        vysledek = None\n",
    "```\n",
    "\n",
    "Proměnnou `vysledek` je nutné nachystat pro oba případy, jinak by ji *interpret* neuměl u výjimku vytvořit.\n",
    "\n",
    "Jelikož zápis ve `try` selhal."
   ]
  },
  {
   "cell_type": "markdown",
   "metadata": {},
   "source": [
    "```python\n",
    "    except:\n",
    "        print(\"Nelze vydělit!\")\n",
    "        vysledek = None\n",
    "```\n",
    "\n",
    "**Žádná výjimka** by neměla zůstat implicitně označená.\n",
    "\n",
    "Vždý si proto přesně nachystej, co má tebou zapsaná větev `except` chytat.\n",
    "\n",
    "Pokud nemáš jistotu, použij `except Exception`:"
   ]
  },
  {
   "cell_type": "code",
   "execution_count": null,
   "metadata": {},
   "outputs": [],
   "source": [
    "def vydel_dve_cisla(delenec: int, delitel: int) -> float:\n",
    "    try:\n",
    "        vysledek = delenec / delitel\n",
    "    \n",
    "    except Exception:  # trochu lepší řešení\n",
    "        print(\"Nelze vydělit!\")\n",
    "        vysledek = None\n",
    "    return vysledek"
   ]
  },
  {
   "cell_type": "markdown",
   "metadata": {},
   "source": [
    "Pokud víš, co chceš chytat za výjimky, vypiš je:"
   ]
  },
  {
   "cell_type": "code",
   "execution_count": 33,
   "metadata": {},
   "outputs": [],
   "source": [
    "def vydel_dve_cisla(delenec: int, delitel: int) -> float:\n",
    "    try:\n",
    "        vysledek = delenec / delitel\n",
    "    \n",
    "    except (TypeError, ZeroDivisionError):  # perfektní!\n",
    "        print(\"Nelze vydělit!\")\n",
    "        vysledek = None\n",
    "    return vysledek"
   ]
  },
  {
   "cell_type": "code",
   "execution_count": 34,
   "metadata": {},
   "outputs": [
    {
     "name": "stdout",
     "output_type": "stream",
     "text": [
      "Nelze vydělit!\n"
     ]
    }
   ],
   "source": [
    "vydel_dve_cisla(4, 0)"
   ]
  },
  {
   "cell_type": "code",
   "execution_count": 35,
   "metadata": {},
   "outputs": [
    {
     "name": "stdout",
     "output_type": "stream",
     "text": [
      "Nelze vydělit!\n"
     ]
    }
   ],
   "source": [
    "vydel_dve_cisla(\"4\", 0)"
   ]
  },
  {
   "cell_type": "code",
   "execution_count": 36,
   "metadata": {},
   "outputs": [
    {
     "data": {
      "text/plain": [
       "2.0"
      ]
     },
     "execution_count": 36,
     "metadata": {},
     "output_type": "execute_result"
    }
   ],
   "source": [
    "vydel_dve_cisla(4, 2)"
   ]
  },
  {
   "cell_type": "markdown",
   "metadata": {},
   "source": [
    "Pokud potřebuješ pro oba výjimkové scénáře různé průběhy, větví `except` můžeš mít více:"
   ]
  },
  {
   "cell_type": "code",
   "execution_count": 37,
   "metadata": {},
   "outputs": [],
   "source": [
    "def vydel_dve_cisla(delenec: int, delitel: int) -> float:\n",
    "    try:\n",
    "        vysledek = delenec / delitel\n",
    "    \n",
    "    except TypeError:\n",
    "        print(\"Nelze vydělit zadaný datový typ!\")\n",
    "        vysledek = None\n",
    "    except ZeroDivisionError:\n",
    "        print(\"Nelze dělit nulou!\")\n",
    "        vysledek = None\n",
    "    return vysledek"
   ]
  },
  {
   "cell_type": "markdown",
   "metadata": {},
   "source": [
    "Obvykle však bývá přehlednější zkoušet **v jeden moment** (výraze), **jeden proces**."
   ]
  },
  {
   "cell_type": "markdown",
   "metadata": {},
   "source": [
    "### try/except/else\n",
    "\n",
    "Často se **na třetí větev** zapomíná.\n",
    "\n",
    "Slouží k tomu, ať máš kam napsat následná ohlášení, která potřebuješ potom, co vyzkoušíš kus kódu.\n",
    "\n",
    "Tedy nechat větev `try` a její obsah, **co nejstručnější**:"
   ]
  },
  {
   "cell_type": "code",
   "execution_count": 39,
   "metadata": {},
   "outputs": [],
   "source": [
    "def vydel_dve_cisla(delenec: int, delitel: int) -> float:\n",
    "    try:\n",
    "        vysledek = delenec / delitel\n",
    "    \n",
    "    except TypeError:\n",
    "        print(\"Nelze vydělit zadaný datový typ!\")\n",
    "        vysledek = None\n",
    "    except ZeroDivisionError:\n",
    "        print(\"Nelze dělit nulou!\")\n",
    "        vysledek = None\n",
    "    else:\n",
    "        print(vysledek)"
   ]
  },
  {
   "cell_type": "code",
   "execution_count": 40,
   "metadata": {},
   "outputs": [
    {
     "name": "stdout",
     "output_type": "stream",
     "text": [
      "2.0\n"
     ]
    }
   ],
   "source": [
    "vydel_dve_cisla(4, 2)"
   ]
  },
  {
   "cell_type": "markdown",
   "metadata": {},
   "source": [
    "Pokud se tedy dostaneš do situace, kdy potřebuješ sadu ohlášení interpretovat pouze tehdy, pokud se **výjimka neobjeví**, nezapomeň `else` přidat."
   ]
  },
  {
   "cell_type": "markdown",
   "metadata": {},
   "source": [
    "<br>\n",
    "\n",
    "<img src=\"https://external-content.duckduckgo.com/iu/?u=https%3A%2F%2Ftse1.mm.bing.net%2Fth%3Fid%3DOIP.Q_UFkYOMsF4WZPqR5JASrwHaHa%26pid%3DApi&f=1&ipt=5cc98c3ef4fcc27589e45d9966d8c05f1d7723927ad5c59a0f82d2e753d14ba8&ipo=images\" width=\"200\">\n",
    "\n",
    "## Debugování\n",
    "---\n"
   ]
  },
  {
   "cell_type": "markdown",
   "metadata": {},
   "source": [
    "to-do: materiál v B2B školení KBC."
   ]
  },
  {
   "cell_type": "markdown",
   "metadata": {},
   "source": [
    "<br>\n",
    "\n",
    "<img src=\"https://external-content.duckduckgo.com/iu/?u=https%3A%2F%2Ftse3.mm.bing.net%2Fth%3Fid%3DOIP.GMJvJ-GG0YS8H5JmHR3CbwHaHm%26pid%3DApi&f=1&ipt=110157bae9409977a59d895a970a6d51afa8a31e0c7fca53a1f95fd2402f9a35&ipo=images\" width=\"200\">\n",
    "\n",
    "## Domácí úloha\n",
    "\n",
    "---"
   ]
  },
  {
   "cell_type": "markdown",
   "metadata": {},
   "source": [
    "---"
   ]
  }
 ],
 "metadata": {
  "kernelspec": {
   "display_name": "Python 3",
   "language": "python",
   "name": "python3"
  },
  "language_info": {
   "codemirror_mode": {
    "name": "ipython",
    "version": 3
   },
   "file_extension": ".py",
   "mimetype": "text/x-python",
   "name": "python",
   "nbconvert_exporter": "python",
   "pygments_lexer": "ipython3",
   "version": "3.8.6"
  }
 },
 "nbformat": 4,
 "nbformat_minor": 4
}
