{
 "cells": [
  {
   "cell_type": "markdown",
   "metadata": {},
   "source": [
    "### Úvod\n",
    "\n",
    "---\n",
    "\n",
    "1. [Iterační protokol](#Iterační-protokol),\n",
    "2. [for loop](#For-loop),\n",
    "4. [range](#Range),\n",
    "5. [enumerate](#Enumerate),\n",
    "6. [zip](#Zip),\n",
    "7. [domácí úkol](#Domácí-úkol)."
   ]
  },
  {
   "cell_type": "markdown",
   "metadata": {},
   "source": [
    "<br>\n",
    "\n",
    "<img src=\"https://external-content.duckduckgo.com/iu/?u=https%3A%2F%2Ftse1.mm.bing.net%2Fth%3Fid%3DOIP.yg9qTK4GbobmIc9KTC39pQHaFy%26pid%3DApi&f=1\" width=\"200\" />\n",
    "\n",
    "## Iterační protokol a.k.a. cyklus\n",
    "\n",
    "---"
   ]
  },
  {
   "cell_type": "markdown",
   "metadata": {},
   "source": [
    "V některých situacích se můžeš setkat s **opakujícím se zápisem**:\n",
    "```python\n",
    "\n",
    "# Máš set..\n",
    "domeny = set()\n",
    "\n",
    "# .. chceš procházet stringy s emaily..\n",
    "email_1 = \"m.vybiralova@firma.cz\"\n",
    "email_2 = \"m.vybiralova@email.cz\"\n",
    "email_3 = \"m.vybiralova@dobradomena.cz\"\n",
    "email_4 = \"marie@vybiralova.cz\"\n",
    "email_5 = \"marie.vybiralova@gmail.com\"\n",
    "\n",
    "# ..a do původního setu ukládat pouze jména domén.\n",
    "domeny = set(\n",
    "    (\n",
    "        email_1.split(\"@\")[1].split(\".\")[0],\n",
    "        email_2.split(\"@\")[1].split(\".\")[0],\n",
    "        email_3.split(\"@\")[1].split(\".\")[0],\n",
    "        email_4.split(\"@\")[1].split(\".\")[0],\n",
    "        email_5.split(\"@\")[1].split(\".\")[0]\n",
    "    )\n",
    ")\n",
    "```"
   ]
  },
  {
   "cell_type": "markdown",
   "metadata": {},
   "source": [
    "Ten nutně nemusí znamenat **chybný** nebo **nelogický zápis**, ale pokud chceš provádět podobný postup 10x, 100x, 1000x, už může být nereálný na zapsání.\n",
    "```python\n",
    "emaily = list()\n",
    "\n",
    "# pro každý email v listu emailu\n",
    "# .. vyber email,\n",
    "# .. označ pouze doménu,\n",
    "# .. ulož ji do setu.\n",
    "\n",
    "```\n",
    "\n",
    "<br>\n",
    "\n",
    "Pro periodické opakování ohlášení existují tzv. *iterační protokoly* (příp.  označovány jako *smyčky*, *cykly*, *loopy*).\n",
    "\n",
    "Ty umožní zápis zkrátit, automatizovat a současně udělat přehlednější.\n",
    "\n",
    "<br>\n",
    "\n",
    "V rámci Pythonu se budeme bavit o dvou základních typech smyček:\n",
    "1. smyčka `for`,\n",
    "2. smyčka `while`.\n",
    "\n",
    "\n",
    "<br>"
   ]
  },
  {
   "cell_type": "markdown",
   "metadata": {},
   "source": [
    "\n",
    "\n",
    "<img src=\"https://external-content.duckduckgo.com/iu/?u=https%3A%2F%2Ftse2.mm.bing.net%2Fth%3Fid%3DOIP.XOkl2fR4SKcajGnAi6KoZQHaDt%26pid%3DApi&f=1\" width=\"400\" />\n",
    "\n",
    "## For loop\n",
    "\n",
    "---\n",
    "\n",
    "*For cyklus* je v jednoduchosti proces, který ti umožní projít tebou zadaný objekt **od prvního údaje** až **do posledního**.\n",
    "\n",
    "<br>\n",
    "\n",
    "### Obecně loop"
   ]
  },
  {
   "cell_type": "code",
   "execution_count": 4,
   "metadata": {},
   "outputs": [
    {
     "name": "stdout",
     "output_type": "stream",
     "text": [
      "M\n",
      "a\n",
      "t\n",
      "o\n",
      "u\n",
      "s\n"
     ]
    }
   ],
   "source": [
    "for pismeno in \"Matous\":\n",
    "    print(pismeno)\n",
    "    # ..."
   ]
  },
  {
   "cell_type": "markdown",
   "metadata": {},
   "source": [
    "1. `for` je **klíčkový výraz** v zahlaví (zápisu) cyklu,\n",
    "2. `pismeno` je **proměnná vytvořená v cyklu**, jejíž obsah se v každém kroku cyklu přepíše,\n",
    "3. `in` **klíčový výraz** ukazující zdroj objektů pro dočasnou proměnnou,\n",
    "4. `\"Matous\"` je tzv. *iterovatelný objekt*, tedy proměnná, kterou můžeme procházet (třeba `str`, `list`, `set`, `dict`),\n",
    "5. `:` řádek s předpisem musí být **zakončený dvojtečkou**,\n",
    "6. `print(pismeno)` následují **odsazené instrukce**, které se budou opakovat v každém kroku.\n",
    "\n",
    "<br>"
   ]
  },
  {
   "cell_type": "markdown",
   "metadata": {},
   "source": [
    "### Iterátor"
   ]
  },
  {
   "cell_type": "code",
   "execution_count": 5,
   "metadata": {},
   "outputs": [],
   "source": [
    "jmeno = iter(\"Matous\")"
   ]
  },
  {
   "cell_type": "code",
   "execution_count": 6,
   "metadata": {},
   "outputs": [
    {
     "name": "stdout",
     "output_type": "stream",
     "text": [
      "<str_iterator object at 0x7f9fa084ba60>\n"
     ]
    }
   ],
   "source": [
    "print(jmeno)"
   ]
  },
  {
   "cell_type": "markdown",
   "metadata": {},
   "source": [
    "### Pomocník"
   ]
  },
  {
   "cell_type": "code",
   "execution_count": 7,
   "metadata": {},
   "outputs": [
    {
     "data": {
      "text/plain": [
       "'M'"
      ]
     },
     "execution_count": 7,
     "metadata": {},
     "output_type": "execute_result"
    }
   ],
   "source": [
    "next(jmeno)"
   ]
  },
  {
   "cell_type": "code",
   "execution_count": 8,
   "metadata": {},
   "outputs": [
    {
     "data": {
      "text/plain": [
       "'a'"
      ]
     },
     "execution_count": 8,
     "metadata": {},
     "output_type": "execute_result"
    }
   ],
   "source": [
    "next(jmeno)"
   ]
  },
  {
   "cell_type": "code",
   "execution_count": 9,
   "metadata": {},
   "outputs": [
    {
     "data": {
      "text/plain": [
       "'t'"
      ]
     },
     "execution_count": 9,
     "metadata": {},
     "output_type": "execute_result"
    }
   ],
   "source": [
    "next(jmeno)"
   ]
  },
  {
   "cell_type": "code",
   "execution_count": 10,
   "metadata": {},
   "outputs": [
    {
     "data": {
      "text/plain": [
       "'o'"
      ]
     },
     "execution_count": 10,
     "metadata": {},
     "output_type": "execute_result"
    }
   ],
   "source": [
    "next(jmeno)"
   ]
  },
  {
   "cell_type": "code",
   "execution_count": 11,
   "metadata": {},
   "outputs": [
    {
     "data": {
      "text/plain": [
       "'u'"
      ]
     },
     "execution_count": 11,
     "metadata": {},
     "output_type": "execute_result"
    }
   ],
   "source": [
    "next(jmeno)"
   ]
  },
  {
   "cell_type": "code",
   "execution_count": 12,
   "metadata": {},
   "outputs": [
    {
     "data": {
      "text/plain": [
       "'s'"
      ]
     },
     "execution_count": 12,
     "metadata": {},
     "output_type": "execute_result"
    }
   ],
   "source": [
    "next(jmeno)"
   ]
  },
  {
   "cell_type": "markdown",
   "metadata": {},
   "source": [
    "### Co všechno můžeš iterovat"
   ]
  },
  {
   "cell_type": "markdown",
   "metadata": {},
   "source": [
    "##### Sety"
   ]
  },
  {
   "cell_type": "code",
   "execution_count": 14,
   "metadata": {},
   "outputs": [
    {
     "name": "stdout",
     "output_type": "stream",
     "text": [
      "Marek\n",
      "Matouš\n",
      "Lukáš\n"
     ]
    }
   ],
   "source": [
    "for jmeno in {\"Matouš\", \"Marek\", \"Lukáš\"}:\n",
    "    print(jmeno)"
   ]
  },
  {
   "cell_type": "markdown",
   "metadata": {},
   "source": [
    "##### Tuple"
   ]
  },
  {
   "cell_type": "code",
   "execution_count": 15,
   "metadata": {},
   "outputs": [
    {
     "name": "stdout",
     "output_type": "stream",
     "text": [
      "Matouš\n",
      "Marek\n",
      "Lukáš\n"
     ]
    }
   ],
   "source": [
    "for jmeno in (\"Matouš\", \"Marek\", \"Lukáš\"):\n",
    "    print(jmeno)"
   ]
  },
  {
   "cell_type": "markdown",
   "metadata": {},
   "source": [
    "##### List"
   ]
  },
  {
   "cell_type": "code",
   "execution_count": 16,
   "metadata": {},
   "outputs": [
    {
     "name": "stdout",
     "output_type": "stream",
     "text": [
      "Matouš\n",
      "Marek\n",
      "Lukáš\n"
     ]
    }
   ],
   "source": [
    "for jmeno in [\"Matouš\", \"Marek\", \"Lukáš\"]:\n",
    "    print(jmeno)"
   ]
  },
  {
   "cell_type": "markdown",
   "metadata": {},
   "source": [
    "##### Dictionaries"
   ]
  },
  {
   "cell_type": "code",
   "execution_count": 26,
   "metadata": {},
   "outputs": [
    {
     "name": "stdout",
     "output_type": "stream",
     "text": [
      "jmeno=Matous\n",
      "prijmeni=Holinka\n",
      "email=matous@holinka.com\n"
     ]
    }
   ],
   "source": [
    "for klic, hodnota in {\n",
    "    \"jmeno\": \"Matous\",\n",
    "    \"prijmeni\": \"Holinka\",\n",
    "    \"email\": \"matous@holinka.com\"\n",
    "}.items():\n",
    "    print(klic, hodnota, sep=\"=\")"
   ]
  },
  {
   "cell_type": "markdown",
   "metadata": {},
   "source": [
    "##### Integers"
   ]
  },
  {
   "cell_type": "code",
   "execution_count": 108,
   "metadata": {},
   "outputs": [],
   "source": [
    "# for cislo in 12345:\n",
    "#     print(cislo)"
   ]
  },
  {
   "cell_type": "markdown",
   "metadata": {},
   "source": [
    "### S proměnnou a podmínkou\n",
    "\n",
    "Cyklus lze kombinovat s objekty, které jsou ti již dobře známé. Tedy *proměnné* a *podmínkové zápisy*:"
   ]
  },
  {
   "cell_type": "code",
   "execution_count": 31,
   "metadata": {},
   "outputs": [],
   "source": [
    "pismena = [\"a\", \"b\", \"c\", \"d\", \"e\", \"f\", \"g\", \"h\", \"i\"]"
   ]
  },
  {
   "cell_type": "code",
   "execution_count": 32,
   "metadata": {},
   "outputs": [
    {
     "name": "stdout",
     "output_type": "stream",
     "text": [
      "Nemam 'g', ale a\n",
      "Nemam 'g', ale b\n",
      "Nemam 'g', ale c\n",
      "Nemam 'g', ale d\n",
      "Nemam 'g', ale e\n",
      "Nemam 'g', ale f\n",
      "*Mam hodnotu ->* g\n",
      "Nemam 'g', ale h\n",
      "Nemam 'g', ale i\n"
     ]
    }
   ],
   "source": [
    "for pismeno in pismena:\n",
    "    if pismeno == \"g\":\n",
    "        print(\"*Mam hodnotu ->*\", pismeno)\n",
    "    else:\n",
    "        print(\"Nemam 'g', ale\", pismeno)"
   ]
  },
  {
   "cell_type": "markdown",
   "metadata": {},
   "source": [
    "<br>\n",
    "\n",
    "### For/else\n",
    "\n",
    "Jde o speciální syntaxi, kde na ohlášení smyčky doplníš větev `else`, která má svoje využití:"
   ]
  },
  {
   "cell_type": "code",
   "execution_count": 35,
   "metadata": {},
   "outputs": [],
   "source": [
    "pismena = [\"a\", \"b\", \"c\", \"d\", \"e\", \"f\", \"g\", \"h\", \"i\"]"
   ]
  },
  {
   "cell_type": "code",
   "execution_count": 39,
   "metadata": {},
   "outputs": [
    {
     "name": "stdout",
     "output_type": "stream",
     "text": [
      "Nemam 'x', ale a\n",
      "Nemam 'x', ale b\n",
      "Nemam 'x', ale c\n",
      "Nemam 'x', ale d\n",
      "Nemam 'x', ale e\n",
      "Nemam 'x', ale f\n",
      "Nemam 'x', ale g\n",
      "Nemam 'x', ale h\n",
      "Nemam 'x', ale i\n",
      "-----------------------------\n",
      "Hledane pismeno neni v listu!\n",
      "-----------------------------\n"
     ]
    }
   ],
   "source": [
    "for pismeno in pismena:\n",
    "    if pismeno == \"x\":\n",
    "        print(\"*Mam hodnotu ->*\", pismeno)\n",
    "    else:\n",
    "        print(\"Nemam 'x', ale\", pismeno)\n",
    "\n",
    "else:# je možné napsat klasickou větev s \"if\"\n",
    "    print(\"-\" * 29, \"Hledane pismeno neni v listu!\", \"-\" * 29, sep=\"\\n\")"
   ]
  },
  {
   "cell_type": "markdown",
   "metadata": {},
   "source": [
    "*poznámka*. Pomocný `else` se přidává k cyklu `for`, pokud chceme nějaký proces provést **až po úspěšném skončení celého cyklu**.\n",
    "\n",
    "<br>\n",
    "\n",
    "### For loop s doplňujícím ohlášením\n",
    "\n",
    "Cykly můžeme doplnit **ohlášeními**, obzvlášť pokud potřebujeme **přeskočit**/**pokračovat** v  průběhu cyklu.\n",
    "\n",
    "<br>\n",
    "\n",
    "| Ohlášení | Použití |\n",
    "|:-:|:-|\n",
    "|`break` | **přeskočí** zbytek smyčky (vč. else větve) a pokračuje kódem pod ní |\n",
    "|`continue` | \t**vrací se** k definici smyčky |\n",
    "|`pass` | \ttzv. *placeholder*, zabrání potenciální výjimce |\n",
    "\n",
    "<br>\n",
    "\n",
    "### Ohlášení `break`"
   ]
  },
  {
   "cell_type": "markdown",
   "metadata": {},
   "source": [
    "##### Obyčejný for loop"
   ]
  },
  {
   "cell_type": "code",
   "execution_count": 40,
   "metadata": {},
   "outputs": [
    {
     "name": "stdout",
     "output_type": "stream",
     "text": [
      "M\n",
      "a\n",
      "t\n",
      "o\n",
      "u\n",
      "s\n"
     ]
    }
   ],
   "source": [
    "for pismeno in \"Matous\":\n",
    "    print(pismeno)"
   ]
  },
  {
   "cell_type": "markdown",
   "metadata": {},
   "source": [
    "##### For loop a ohlášení break"
   ]
  },
  {
   "cell_type": "code",
   "execution_count": 41,
   "metadata": {},
   "outputs": [
    {
     "name": "stdout",
     "output_type": "stream",
     "text": [
      "M\n"
     ]
    }
   ],
   "source": [
    "for pismeno in \"Matous\":\n",
    "    print(pismeno)\n",
    "    break"
   ]
  },
  {
   "cell_type": "markdown",
   "metadata": {},
   "source": [
    "##### For/else bez ohlášení break"
   ]
  },
  {
   "cell_type": "code",
   "execution_count": 42,
   "metadata": {},
   "outputs": [
    {
     "name": "stdout",
     "output_type": "stream",
     "text": [
      "M\n",
      "a\n",
      "t\n",
      "o\n",
      "u\n",
      "s\n",
      "-----------------------------\n",
      "Konec smycky!\n",
      "-----------------------------\n"
     ]
    }
   ],
   "source": [
    "for pismeno in \"Matous\":\n",
    "    print(pismeno)\n",
    "\n",
    "else:\n",
    "    print(\"-\" * 29, \"Konec smycky!\", \"-\" * 29, sep=\"\\n\")"
   ]
  },
  {
   "cell_type": "markdown",
   "metadata": {},
   "source": [
    "##### For/else s ohlášením break"
   ]
  },
  {
   "cell_type": "code",
   "execution_count": 43,
   "metadata": {},
   "outputs": [
    {
     "name": "stdout",
     "output_type": "stream",
     "text": [
      "M\n",
      "Pokračujeme..\n"
     ]
    }
   ],
   "source": [
    "for pismeno in \"Matous\":\n",
    "    print(pismeno)\n",
    "    break\n",
    "\n",
    "else:\n",
    "    print(\"-\" * 29, \"Konec smycky!\", \"-\" * 29, sep=\"\\n\")\n",
    "    \n",
    "print(\"Pokračujeme..\")"
   ]
  },
  {
   "cell_type": "markdown",
   "metadata": {},
   "source": [
    "##### For loop s ohlášením break bez else"
   ]
  },
  {
   "cell_type": "code",
   "execution_count": 109,
   "metadata": {},
   "outputs": [
    {
     "name": "stdout",
     "output_type": "stream",
     "text": [
      "M\n",
      "-----------------------------\n",
      "Konec smycky!\n",
      "-----------------------------\n"
     ]
    }
   ],
   "source": [
    "for pismeno in \"Matous\":\n",
    "    print(pismeno)\n",
    "    break\n",
    "\n",
    "print(\"-\" * 29, \"Konec smycky!\", \"-\" * 29, sep=\"\\n\")"
   ]
  },
  {
   "cell_type": "markdown",
   "metadata": {},
   "source": [
    "#### For/else s ohlášením break a doplňujícím ohlášením pod cyklem"
   ]
  },
  {
   "cell_type": "code",
   "execution_count": null,
   "metadata": {},
   "outputs": [],
   "source": [
    "pismena = [\"a\", \"b\", \"c\", \"d\", \"e\", \"f\", \"g\", \"h\"]"
   ]
  },
  {
   "cell_type": "code",
   "execution_count": 45,
   "metadata": {},
   "outputs": [
    {
     "name": "stdout",
     "output_type": "stream",
     "text": [
      "Nemam 'e', ale a\n",
      "Nemam 'e', ale b\n",
      "Nemam 'e', ale c\n",
      "Nemam 'e', ale d\n",
      "Mam hodnotu -> e\n",
      "Pokracuji s interpretaci naseho zapisu ^.^\n"
     ]
    }
   ],
   "source": [
    "for pismeno in pismena:\n",
    "    if pismeno == \"e\":\n",
    "        print(\"Mam hodnotu ->\", pismeno)\n",
    "        break\n",
    "    else:\n",
    "        print(\"Nemam 'e', ale\", pismeno)\n",
    "\n",
    "print(\"Pokracuji s interpretaci naseho zapisu ^.^\")"
   ]
  },
  {
   "cell_type": "markdown",
   "metadata": {},
   "source": [
    "<br>\n",
    "\n",
    "### Ohlášení `continue`"
   ]
  },
  {
   "cell_type": "markdown",
   "metadata": {},
   "source": [
    "##### Obyčejný for loop"
   ]
  },
  {
   "cell_type": "code",
   "execution_count": 46,
   "metadata": {},
   "outputs": [
    {
     "name": "stdout",
     "output_type": "stream",
     "text": [
      "M\n",
      "a\n",
      "t\n",
      "o\n",
      "u\n",
      "s\n"
     ]
    }
   ],
   "source": [
    "for pismeno in \"Matous\":\n",
    "    print(pismeno)"
   ]
  },
  {
   "cell_type": "markdown",
   "metadata": {},
   "source": [
    "##### For loop a ohlášení continue"
   ]
  },
  {
   "cell_type": "code",
   "execution_count": 47,
   "metadata": {},
   "outputs": [
    {
     "name": "stdout",
     "output_type": "stream",
     "text": [
      "M\n",
      "a\n",
      "t\n",
      "o\n",
      "u\n",
      "s\n"
     ]
    }
   ],
   "source": [
    "for pismeno in \"Matous\":\n",
    "    print(pismeno)\n",
    "    continue"
   ]
  },
  {
   "cell_type": "markdown",
   "metadata": {},
   "source": [
    "##### For/else a ohlášení continue"
   ]
  },
  {
   "cell_type": "code",
   "execution_count": 48,
   "metadata": {},
   "outputs": [
    {
     "name": "stdout",
     "output_type": "stream",
     "text": [
      "M\n",
      "a\n",
      "t\n",
      "o\n",
      "u\n",
      "s\n",
      "-----------------------------\n",
      "Konec smycky!\n",
      "-----------------------------\n"
     ]
    }
   ],
   "source": [
    "for pismeno in \"Matous\":\n",
    "    print(pismeno)\n",
    "    continue\n",
    "\n",
    "else:\n",
    "    print(\"-\" * 29, \"Konec smycky!\", \"-\" * 29, sep=\"\\n\")"
   ]
  },
  {
   "cell_type": "markdown",
   "metadata": {},
   "source": [
    "##### For loop, podmínka a ohlášení continue"
   ]
  },
  {
   "cell_type": "code",
   "execution_count": 49,
   "metadata": {},
   "outputs": [],
   "source": [
    "pismena = [\"a\", \"b\", \"c\", \"d\", \"e\", \"f\", \"g\", \"h\"]"
   ]
  },
  {
   "cell_type": "code",
   "execution_count": 50,
   "metadata": {
    "scrolled": true
   },
   "outputs": [
    {
     "name": "stdout",
     "output_type": "stream",
     "text": [
      "Hodnota je dulezita: e\n",
      "Hodnota je dulezita: f\n",
      "Hodnota je dulezita: g\n",
      "Hodnota je dulezita: h\n"
     ]
    }
   ],
   "source": [
    "for pismeno in pismena:\n",
    "    if pismeno in {\"a\", \"b\", \"c\", \"d\"}:\n",
    "        continue\n",
    "\n",
    "    print(\"Hodnota je dulezita:\", pismeno)"
   ]
  },
  {
   "cell_type": "markdown",
   "metadata": {},
   "source": [
    "<br>\n",
    "\n",
    "### Ohlášení `pass`\n",
    "\n",
    "Doplňující ohlášení, které slouží jako `placeholder` pro zápis, který ještě není kompletní a současně nezpůsobí výjimku."
   ]
  },
  {
   "cell_type": "markdown",
   "metadata": {},
   "source": [
    "##### For loop, bez ohlášení pass"
   ]
  },
  {
   "cell_type": "code",
   "execution_count": null,
   "metadata": {},
   "outputs": [],
   "source": [
    "for pismeno in \"Matous\":\n",
    "    # budu iterovat skrze promennou: str"
   ]
  },
  {
   "cell_type": "markdown",
   "metadata": {},
   "source": [
    "##### For loop, s ohlášením pass"
   ]
  },
  {
   "cell_type": "code",
   "execution_count": 52,
   "metadata": {},
   "outputs": [],
   "source": [
    "for pismeno in \"Matous\":\n",
    "    # budu iterovat skrze promennou: str\n",
    "    pass"
   ]
  },
  {
   "cell_type": "markdown",
   "metadata": {},
   "source": [
    "##### For loop, doplněná budoucí ohlášení"
   ]
  },
  {
   "cell_type": "code",
   "execution_count": 53,
   "metadata": {},
   "outputs": [
    {
     "name": "stdout",
     "output_type": "stream",
     "text": [
      "M\n",
      "a\n",
      "t\n",
      "o\n",
      "u\n",
      "s\n"
     ]
    }
   ],
   "source": [
    "for pismeno in \"Matous\":\n",
    "    print(pismeno)\n",
    "#     pass"
   ]
  },
  {
   "cell_type": "markdown",
   "metadata": {},
   "source": [
    "### Nestovaný for loop"
   ]
  },
  {
   "cell_type": "code",
   "execution_count": 54,
   "metadata": {},
   "outputs": [],
   "source": [
    "obsah_csv = [\n",
    "    ['jmeno;prijmeni;email;projekt'],\n",
    "    ['Matous;Holinka;m.holinka@firma.cz;hr'],\n",
    "    ['Petr;Svetr;p.svetr@firma.cz;devops']\n",
    "]"
   ]
  },
  {
   "cell_type": "code",
   "execution_count": null,
   "metadata": {},
   "outputs": [],
   "source": [
    "# Vypiš jednotlivé řádky a následně jednotlivé buňky"
   ]
  },
  {
   "cell_type": "code",
   "execution_count": 60,
   "metadata": {},
   "outputs": [
    {
     "name": "stdout",
     "output_type": "stream",
     "text": [
      "===\n",
      "jmeno\n",
      "prijmeni\n",
      "email\n",
      "projekt\n",
      "===\n",
      "Matous\n",
      "Holinka\n",
      "m.holinka@firma.cz\n",
      "hr\n",
      "===\n",
      "Petr\n",
      "Svetr\n",
      "p.svetr@firma.cz\n",
      "devops\n"
     ]
    }
   ],
   "source": [
    "for radek in obsah_csv:\n",
    "    print(\"===\")\n",
    "    \n",
    "    for bunka in radek[0].split(\";\"):\n",
    "        print(bunka)"
   ]
  },
  {
   "cell_type": "markdown",
   "metadata": {},
   "source": [
    "<br>\n",
    "\n",
    "\n",
    "<img src=\"https://external-content.duckduckgo.com/iu/?u=https%3A%2F%2Ftse3.mm.bing.net%2Fth%3Fid%3DOIP.fNwmtWM7vEaO1gxjCKwMOwHaHa%26pid%3DApi&f=1\" width=\"300\" />\n",
    "\n",
    "## Range\n",
    "\n",
    "---\n",
    "\n",
    "\n",
    "Jde o *built-in* funkci, která nám vytvoří datový typ `range`.\n",
    "\n",
    "Tento typ v podstatě odpovídá tomu, co si představíme pod slovem **interval** nebo **rozsah**:"
   ]
  },
  {
   "cell_type": "code",
   "execution_count": 65,
   "metadata": {},
   "outputs": [
    {
     "name": "stdout",
     "output_type": "stream",
     "text": [
      "range(0, 11)\n"
     ]
    }
   ],
   "source": [
    "print(range(11))"
   ]
  },
  {
   "cell_type": "code",
   "execution_count": 62,
   "metadata": {},
   "outputs": [
    {
     "name": "stdout",
     "output_type": "stream",
     "text": [
      "<class 'range'>\n"
     ]
    }
   ],
   "source": [
    "print(type(range(11)))"
   ]
  },
  {
   "cell_type": "code",
   "execution_count": 63,
   "metadata": {},
   "outputs": [
    {
     "name": "stdout",
     "output_type": "stream",
     "text": [
      "0\n",
      "1\n",
      "2\n",
      "3\n",
      "4\n",
      "5\n",
      "6\n",
      "7\n",
      "8\n",
      "9\n",
      "10\n"
     ]
    }
   ],
   "source": [
    "for cislo in range(0, 11):\n",
    "    print(cislo)"
   ]
  },
  {
   "cell_type": "markdown",
   "metadata": {},
   "source": [
    "### Vytvoření `range`\n",
    "\n",
    "| Počet argumentů |\tVýznam |\n",
    "|:-:|:-|\n",
    "| **1** | \tHodnota stop. Začíná defaultně od 0 (končí o jednu hodnotu dříve než stop)\n",
    "| **2** | \tHodnoty start a stop |\n",
    "| **3** | \tHodnoty start, stop a step (tedy krok) |"
   ]
  },
  {
   "cell_type": "code",
   "execution_count": 66,
   "metadata": {},
   "outputs": [
    {
     "name": "stdout",
     "output_type": "stream",
     "text": [
      "(0, 1, 2, 3, 4, 5, 6, 7, 8, 9, 10)\n"
     ]
    }
   ],
   "source": [
    "print(tuple(range(11)))"
   ]
  },
  {
   "cell_type": "code",
   "execution_count": 67,
   "metadata": {},
   "outputs": [
    {
     "name": "stdout",
     "output_type": "stream",
     "text": [
      "(1, 2, 3, 4, 5, 6, 7, 8, 9, 10)\n"
     ]
    }
   ],
   "source": [
    "print(tuple(range(1, 11)))"
   ]
  },
  {
   "cell_type": "code",
   "execution_count": 68,
   "metadata": {},
   "outputs": [
    {
     "name": "stdout",
     "output_type": "stream",
     "text": [
      "(1, 3, 5, 7, 9)\n"
     ]
    }
   ],
   "source": [
    "print(tuple(range(1, 11, 2)))"
   ]
  },
  {
   "cell_type": "code",
   "execution_count": 69,
   "metadata": {},
   "outputs": [
    {
     "name": "stdout",
     "output_type": "stream",
     "text": [
      "()\n"
     ]
    }
   ],
   "source": [
    "print(tuple(range(0, 10, -1)))"
   ]
  },
  {
   "cell_type": "code",
   "execution_count": 70,
   "metadata": {},
   "outputs": [
    {
     "name": "stdout",
     "output_type": "stream",
     "text": [
      "(10, 9, 8, 7, 6, 5, 4, 3, 2, 1)\n"
     ]
    }
   ],
   "source": [
    "print(tuple(range(10, 0, -1)))"
   ]
  },
  {
   "cell_type": "markdown",
   "metadata": {},
   "source": [
    "*poznámka*. datový typ `range` pracuje pouze **s celými čísly**."
   ]
  },
  {
   "cell_type": "code",
   "execution_count": 71,
   "metadata": {},
   "outputs": [
    {
     "name": "stdout",
     "output_type": "stream",
     "text": [
      "www.oukro.cz/aukce&page=1\n",
      "www.oukro.cz/aukce&page=2\n",
      "www.oukro.cz/aukce&page=3\n",
      "www.oukro.cz/aukce&page=4\n",
      "www.oukro.cz/aukce&page=5\n",
      "www.oukro.cz/aukce&page=6\n",
      "www.oukro.cz/aukce&page=7\n",
      "www.oukro.cz/aukce&page=8\n",
      "www.oukro.cz/aukce&page=9\n",
      "www.oukro.cz/aukce&page=10\n",
      "www.oukro.cz/aukce&page=11\n",
      "www.oukro.cz/aukce&page=12\n"
     ]
    }
   ],
   "source": [
    "url = \"www.oukro.cz/aukce&page=1\"  # .. 12\n",
    "\n",
    "for cislo in range(1, 13):\n",
    "    print(\"www.oukro.cz/aukce&page=\", cislo, sep=\"\")"
   ]
  },
  {
   "cell_type": "markdown",
   "metadata": {},
   "source": [
    "<br>\n",
    "\n",
    "<img src=\"https://external-content.duckduckgo.com/iu/?u=https%3A%2F%2Ftse1.mm.bing.net%2Fth%3Fid%3DOIP.xszhziZWTRmKLG00uoNozAHaHM%26pid%3DApi&f=1\" width=\"200\" />\n",
    "\n",
    "\n",
    "## Enumerate\n",
    "\n",
    "---\n",
    "\n",
    "Jde opět o  **built-in funkci** a současně datový typ, která nám **vytvoří číslování** pro zadaný *iterovatelný* objekt."
   ]
  },
  {
   "cell_type": "code",
   "execution_count": 72,
   "metadata": {},
   "outputs": [
    {
     "name": "stdout",
     "output_type": "stream",
     "text": [
      "<enumerate object at 0x7f9fa0784c40>\n"
     ]
    }
   ],
   "source": [
    "print(enumerate([\"Python\", \"Java\", \"JavaScript\", \"C\", \"Rust\"])) # lazy evaluation"
   ]
  },
  {
   "cell_type": "code",
   "execution_count": 73,
   "metadata": {},
   "outputs": [
    {
     "name": "stdout",
     "output_type": "stream",
     "text": [
      "<class 'enumerate'>\n"
     ]
    }
   ],
   "source": [
    "print(type(enumerate([\"Python\", \"Java\", \"JavaScript\", \"C\", \"Rust\"])))"
   ]
  },
  {
   "cell_type": "code",
   "execution_count": 75,
   "metadata": {},
   "outputs": [
    {
     "name": "stdout",
     "output_type": "stream",
     "text": [
      "((1, 'Python'), (2, 'Java'), (3, 'JavaScript'), (4, 'C'), (5, 'Rust'))\n"
     ]
    }
   ],
   "source": [
    "print(tuple(enumerate([\"Python\", \"Java\", \"JavaScript\", \"C\", \"Rust\"])))"
   ]
  },
  {
   "cell_type": "markdown",
   "metadata": {},
   "source": [
    "### For loop s enumerate"
   ]
  },
  {
   "cell_type": "code",
   "execution_count": 76,
   "metadata": {},
   "outputs": [
    {
     "name": "stdout",
     "output_type": "stream",
     "text": [
      "Python\n",
      "Java\n",
      "JavaScript\n",
      "C\n",
      "Rust\n"
     ]
    }
   ],
   "source": [
    "for jazyk in [\"Python\", \"Java\", \"JavaScript\", \"C\", \"Rust\"]:\n",
    "    print(jazyk)"
   ]
  },
  {
   "cell_type": "code",
   "execution_count": 77,
   "metadata": {},
   "outputs": [
    {
     "name": "stdout",
     "output_type": "stream",
     "text": [
      "(0, 'Python')\n",
      "(1, 'Java')\n",
      "(2, 'JavaScript')\n",
      "(3, 'C')\n",
      "(4, 'Rust')\n"
     ]
    }
   ],
   "source": [
    "for oc_jazyk in enumerate([\"Python\", \"Java\", \"JavaScript\", \"C\", \"Rust\"]):\n",
    "    print(oc_jazyk)"
   ]
  },
  {
   "cell_type": "code",
   "execution_count": 78,
   "metadata": {},
   "outputs": [
    {
     "name": "stdout",
     "output_type": "stream",
     "text": [
      "JavaScript\n",
      "C\n",
      "Rust\n"
     ]
    }
   ],
   "source": [
    "for index, jazyk in enumerate([\"Python\", \"Java\", \"JavaScript\", \"C\", \"Rust\"]):\n",
    "    if index >= 2:\n",
    "        print(jazyk, sep=\"-\")"
   ]
  },
  {
   "cell_type": "code",
   "execution_count": 80,
   "metadata": {},
   "outputs": [
    {
     "name": "stdout",
     "output_type": "stream",
     "text": [
      "JavaScript\n",
      "C\n",
      "Rust\n"
     ]
    }
   ],
   "source": [
    "# TAKHLE NE!\n",
    "i = 0\n",
    "\n",
    "for jazyk in [\"Python\", \"Java\", \"JavaScript\", \"C\", \"Rust\"]:\n",
    "    if i >= 2:\n",
    "        print(jazyk, sep=\"-\")\n",
    "    i = i + 1"
   ]
  },
  {
   "cell_type": "markdown",
   "metadata": {},
   "source": [
    "<br>\n",
    "\n",
    "\n",
    "<img src=\"https://external-content.duckduckgo.com/iu/?u=https%3A%2F%2Ftse1.mm.bing.net%2Fth%3Fid%3DOIP.QTQy3KN6A9Ih7btyIsF-_gHaGq%26pid%3DApi&f=1\" width=\"200\" />\n",
    "\n",
    "## Zip"
   ]
  },
  {
   "cell_type": "markdown",
   "metadata": {},
   "source": [
    "Tato funkce ti umožní *iterovat* skrze několik *iterovatelných objektů* **současně**:"
   ]
  },
  {
   "cell_type": "code",
   "execution_count": 81,
   "metadata": {},
   "outputs": [],
   "source": [
    "jmena = (\"Petr\", \"Marek\", \"David\")\n",
    "prijmeni = (\"Svetr\", \"Pavel\", \"Dvořák\")"
   ]
  },
  {
   "cell_type": "markdown",
   "metadata": {},
   "source": [
    "Funkce `zip` vrací *tuple*, který obsahuje hodnoty **o stejném indexu** z obou (nebo více) objektů."
   ]
  },
  {
   "cell_type": "code",
   "execution_count": 82,
   "metadata": {},
   "outputs": [
    {
     "name": "stdout",
     "output_type": "stream",
     "text": [
      "<zip object at 0x7f9fa078af00>\n"
     ]
    }
   ],
   "source": [
    "print(zip(jmena, prijmeni))  # lazy evaluation"
   ]
  },
  {
   "cell_type": "code",
   "execution_count": 83,
   "metadata": {},
   "outputs": [
    {
     "name": "stdout",
     "output_type": "stream",
     "text": [
      "[('Petr', 'Svetr'), ('Marek', 'Pavel'), ('David', 'Dvořák')]\n"
     ]
    }
   ],
   "source": [
    "print(list(zip(jmena, prijmeni)))  # lazy evaluation"
   ]
  },
  {
   "cell_type": "code",
   "execution_count": 84,
   "metadata": {},
   "outputs": [
    {
     "name": "stdout",
     "output_type": "stream",
     "text": [
      "('Petr', 'Svetr')\n",
      "('Marek', 'Pavel')\n",
      "('David', 'Dvořák')\n"
     ]
    }
   ],
   "source": [
    "for cele_jmeno in zip(jmena, prijmeni):\n",
    "    print(cele_jmeno)"
   ]
  },
  {
   "cell_type": "code",
   "execution_count": 85,
   "metadata": {},
   "outputs": [
    {
     "name": "stdout",
     "output_type": "stream",
     "text": [
      "Petr-Svetr\n",
      "Marek-Pavel\n",
      "David-Dvořák\n"
     ]
    }
   ],
   "source": [
    "for jmeno, prijmeni in zip(jmena, prijmeni):\n",
    "    print(jmeno, prijmeni, sep=\"-\")"
   ]
  },
  {
   "cell_type": "markdown",
   "metadata": {},
   "source": [
    "Pokud se hodnoty z jednoho z *iterovatelných* objektů vyčerpají, **přeskočí** zbytek hodnot:"
   ]
  },
  {
   "cell_type": "code",
   "execution_count": 88,
   "metadata": {},
   "outputs": [
    {
     "name": "stdout",
     "output_type": "stream",
     "text": [
      "Petr,Svetr,A\n",
      "Marek,Pavel,B\n"
     ]
    }
   ],
   "source": [
    "for jmeno, prijmeni in zip(\n",
    "    (\"Petr\", \"Marek\"),\n",
    "    (\"Svetr\", \"Pavel\", \"Dvořák\")\n",
    "):  # 2 jména, 3 příjmení\n",
    "    print(jmeno, prijmeni)"
   ]
  },
  {
   "cell_type": "markdown",
   "metadata": {},
   "source": [
    "<br>\n",
    "\n",
    "<img src=\"https://external-content.duckduckgo.com/iu/?u=https%3A%2F%2Ftse1.mm.bing.net%2Fth%3Fid%3DOIP.O9EkosTHP3lmEAvzA3D-2QHaHa%26pid%3DApi&f=1\" width=\"200\" />\n",
    "\n",
    "\n",
    "\n",
    "## Domácí úkol\n",
    "\n",
    "---"
   ]
  },
  {
   "cell_type": "markdown",
   "metadata": {},
   "source": [
    "Tvým úkolem bude zpracovat níže zadaný text a zjistit z něj počet **3 nejčastějších slov**:"
   ]
  },
  {
   "cell_type": "code",
   "execution_count": 102,
   "metadata": {},
   "outputs": [],
   "source": [
    "text = \"\"\"\n",
    "Affronting imprudence do he he everything. Sex lasted dinner wanted indeed\n",
    "wished out law. Far advanced settling say finished raillery. Offered\n",
    "chiefly farther of my no colonel shyness. Such on help ye some door if in.\n",
    "Laughter proposal laughing any son law consider. Needed except up piqued\n",
    "an. Her companions instrument set estimating sex remarkably solicitude\n",
    "motionless. Property men the why smallest graceful day insisted required.\n",
    "Inquiry justice country old placing sitting any ten age. Looking venture\n",
    "justice in evident in totally he do ability. Be is lose girl long of up give.\n",
    "Trifling wondered unpacked ye at he. In household certainty an on tolerably\n",
    "smallness difficult. Many no each like up be is next neat. Put not enjoyment\n",
    "behaviour her supposing. At he pulled object others. His exquisite sincerity\n",
    "education shameless ten earnestly breakfast add. So we me unknown as improve\n",
    "hastily sitting forming. Especially favourable compliment but thoroughly\n",
    "unreserved saw she themselves. Sufficient impossible him may ten insensible\n",
    "put continuing. Oppose exeter income simple few joy cousin but twenty. Scale\n",
    "began quiet up short wrong in in. Sportsmen shy forfeited engrossed may can.\n",
    "Remain valley who mrs uneasy remove wooded him you. Her questions favourite\n",
    "him concealed. We to wife face took he. The taste begin early old why since\n",
    "dried can first. Prepared as or humoured formerly. Evil mrs true get post.\n",
    "Express village evening prudent my as ye hundred forming. Thoughts she why not\n",
    "directly reserved packages you. Winter an silent favour of am tended mutual.\n",
    "Cold entered excellence questions chiefly hung tried having body overcame\n",
    "twenty hills. Afraid easy admire settled promotion. Convinced full manners\n",
    "household cottage savings giving sweetness. Easy dearest beyond guest suffer\n",
    "examine moderate things hills together proposal basket ferrars just really.\n",
    "Written merry prudent enjoyment laughter wise subjects blind lain given. More\n",
    "moderate affection speaking unpacked increasing seen ask increasing season.\n",
    "Arrival twenty continue thrown invited remainder neat juvenile point saved\n",
    "favourable society disposing desirous. Seemed months linen inquietude\n",
    "branched otherwise ladies little cordially depend entirely surrounded\n",
    "addition past feebly. Sent overcame ye pleasant household eyes addition sir\n",
    "perpetual assurance middleton enough marriage yourself living. Expenses times\n",
    "inquiry he who thirty offended opinion removal stairs. Dull seen expression chief\n",
    "insensible remember additions spoil their projecting pasture respect either\n",
    "sight whatever or. Arise laughing mile moment disposal affronting reasonable\n",
    "situation often jokes shot unpleasing. Wrong better those hopes man besides\n",
    "must were although scale. Cordial related meant pretty total valley motionless\n",
    "pretty whose possible thrown desirous own. Great without arranging room. She\n",
    "park feet stairs again prevent points our gave marry greatest keeps welcomed.\n",
    "Few picture than exertion himself inquiry sufficient friends answered formerly\n",
    "promotion dull done shutters affection. Dining so china affixed followed\n",
    "motionless surprise. Gentleman sing known hill age. Motionless paid hastened\n",
    "sure enjoyment declared mistress. Procured improve reached projecting\n",
    "certainly announcing goodness good lose. Reserved middletons my share asked\n",
    "aware new seeing suitable entirely our timed. Justice expenses pronounce men\n",
    "given occasional existence finished from fanny settle. Occasional eldest\n",
    "extremity horrible chief amounted wholly extremity pronounce painful. Company\n",
    "better every hastily held window. Dissimilar discretion pleased dashwood\n",
    "children who branched. Settled on timed unpleasant prevent chiefly dinner. Set\n",
    "quiet lasted declared lively it cottage collecting household told strongly\n",
    "temper decisively we consulted. Remain or worse placing doubtful suffer\n",
    "necessary arise does perpetual drawn conduct shed amiable want suspicion\n",
    "ashamed. Hopes better esteems mother margaret rent pasture favour produce\n",
    "service instrument astonished marry unfeeling offending affection. Ashamed\n",
    "unleasing ourselves produce made entreaties suffering went express strongly\n",
    "opinions year need burst away motionless jokes. Views securing furniture.\n",
    "Means message itself there table come balls in unaffected spring thoroughly\n",
    "next admire. None behaviour blushes carriage felicity humanity suspicion\n",
    "concealed believe elinor saved. Sitting greater secure called replying\n",
    "beauty sorry. Resolve marriage simplicity remaining kindness suppose beloved\n",
    "afraid sight winding sportsman and engrossed my absolute message enabled.\n",
    "Side enable cease sister contrasted questions deal giving make insensible\n",
    "daughter forfeited. Exquisite numerous peculiar tiled blush so servants\n",
    "solicitude another. Ladyship properly dissuade advanced desirous raillery\n",
    "woman table points desire sorry correct advantage. Margaret steepest\n",
    "unaffected nearer perpetual distrusts supplied denoting often feeling\n",
    "surprise others occasional wife object humoured. Talked satisfied affronting\n",
    "occasional yet wishes considered jennings indeed daughters.\n",
    "Who answer considered off ladies ask extended discovered distant away season.\n",
    "Remember earnestly how place temper shew concluded bringing greater outweigh.\n",
    "Sense pleasure valley account even produce must oh or looked great excellence\n",
    "ladies total entrance mistake terminated. Consisted however noisier pain our\n",
    "call dashwood prospect civil another studied high feebly delay. Gravity\n",
    "blessing defer county marriage. Viewing enable roof settling because common\n",
    "delivered affection peculiar know great colonel pleasure continue lasting.\n",
    "Written attacks humoured elegance passed branched estimating can. Certain\n",
    "likewise reserved we situation. Wife heart maids shy although sitting point\n",
    "remarkably pleasure moments attended improving comfort its considered shew.\n",
    "Absolute when service honoured departure promise unreserved situation advanced\n",
    "delight thoughts oppose repair stimulated.  Added melancholy forming september\n",
    "melancholy danger manor tall my regard weeks within maids. Advice material\n",
    "against highly done furniture water sing me moments cottage certainty affixed\n",
    "dine carriage among. Entire besides raising advantages entreaties certainly\n",
    "another. Smart from carriage promotion whether by dependent valley attacks\n",
    "husbands mistress material mirth. Parties unlocked carried fruit improving\n",
    "stairs eagerness but off enjoy frankness dwelling contrasted imprudence\n",
    "elsewhere shutters every. Applauded vicinity every. Painful highly elinor.\n",
    "Times could hastily contrasted ye. Vulgar indeed talking sooner jokes mother\n",
    "humoured correct fail attempted advantage think merely year result feebly\n",
    "learn. Length fifteen laughing shot remain welcome. Fancy unknown marked find\n",
    "consider. Property express day then expense wish tears engaged called. Woman\n",
    "forfeited fact weather ought demesne style dwelling ample elsewhere properly.\n",
    "Total linen have forfeited. The carried peculiar roused worth excellence\n",
    "depending consisted concern rendered none pronounce before because. Wise\n",
    "pulled gravity having brother jennings wanted offence vulgar received little.\n",
    "Nor would request miss announcing. Fortune inquietude past. Even extensive it\n",
    "season true continuing hardly cause thoroughly horses dining mile provision\n",
    "disposed thrown. Esteems juvenile nothing quitting mrs. Jointure most\n",
    "breakfast adieus opinion extensive feet hill wise music resembled entrance\n",
    "since needed husbands uncommonly curiosity. Civility though welcome winding\n",
    "blind conveying lively spoil. Enjoyment affection sooner compliment shade\n",
    "plate name incommode enabled sake breeding ladyship understood. Extensive\n",
    "difficult arose therefore greatly far convinced performed unpleasing feet.\n",
    "Made seems neglected early difficult years affixed. Ye hope or instrument\n",
    "especially things distance colonel way. Chief admire wanted civility tried\n",
    "gate compliment. Plan prepared beloved thrown sportsman mind points five\n",
    "sixteen ought strictly enough other abode abode spirit connection. Defective\n",
    "allowance delicate sincerity oh inquietude year frankness the household\n",
    "jointure play dispatched breeding. Education pleasure fanny debating off\n",
    "surrounded. Examine sportsman depending. Form true held help denote pasture\n",
    "she. Marianne state supported elsewhere enjoyed abroad any pure. Winding\n",
    "cousin because pretended point ability offending sent drawn is amounted\n",
    "unaffected allow propriety. Manner ferrars before comparison remain calling\n",
    "simplicity minuter stanhill he hundred. Written smallness lose smiling merits\n",
    "whom friendship lose smallest behaved gay basket heard twenty both going\n",
    "drawn. Her morning left. Bore they face heart longer county help case maids\n",
    "morning leave provided dearest sent like preferred. Something case almost\n",
    "twenty elinor husbands sincerity addition sure. Theirs secure pasture assure\n",
    "led performed table hope morning avoid almost make far body pure farther\n",
    "doubtful.  Exquisite horrible admire six know. Mutual gave many covered asked\n",
    "season except miss prospect called admiration could. Known about man strongly\n",
    "heart charm disposing desire both debating oppose gentleman goodness\n",
    "sufficient barton matters limited. Prepared prepare west tears declared dried\n",
    "help matter this away order females apartments depending round were basket.\n",
    "\"\"\""
   ]
  },
  {
   "cell_type": "code",
   "execution_count": null,
   "metadata": {},
   "outputs": [],
   "source": [
    "oddelovac = \"+--+----------+--+\""
   ]
  },
  {
   "cell_type": "markdown",
   "metadata": {},
   "source": [
    "### Rozděl `str` na `list` bez diakritiky a malým písmem"
   ]
  },
  {
   "cell_type": "code",
   "execution_count": 103,
   "metadata": {},
   "outputs": [],
   "source": [
    "vycistena_slova = list()\n",
    "\n",
    "for slovo in text.split():\n",
    "    vycistena_slova.append(\n",
    "        slovo.strip(\",.:;\").lower()\n",
    "    )"
   ]
  },
  {
   "cell_type": "markdown",
   "metadata": {},
   "source": [
    "### Spočítej výskyty pro každé slovo"
   ]
  },
  {
   "cell_type": "code",
   "execution_count": 104,
   "metadata": {},
   "outputs": [],
   "source": [
    "vyskyt_slov = dict()\n",
    "\n",
    "for slovo in vycistena_slova:\n",
    "    if slovo not in vyskyt_slov:\n",
    "        vyskyt_slov[slovo] = 1\n",
    "    else:\n",
    "        vyskyt_slov[slovo] = vyskyt_slov[slovo] + 1"
   ]
  },
  {
   "cell_type": "markdown",
   "metadata": {},
   "source": [
    "### Získej 3 nejčastější hodnoty"
   ]
  },
  {
   "cell_type": "code",
   "execution_count": null,
   "metadata": {},
   "outputs": [],
   "source": [
    "tri_nejcastejsi = sorted(\n",
    "    list(vyskyt_slov.values()), reverse=True\n",
    ")[:3]"
   ]
  },
  {
   "cell_type": "code",
   "execution_count": null,
   "metadata": {},
   "outputs": [],
   "source": [
    "print(vyskyt_slov)"
   ]
  },
  {
   "cell_type": "code",
   "execution_count": 107,
   "metadata": {},
   "outputs": [
    {
     "name": "stdout",
     "output_type": "stream",
     "text": [
      "['he', 'in', 'ye', 'my']\n"
     ]
    }
   ],
   "source": [
    "print(sorted(vyskyt_slov, key=vyskyt_slov.get, reverse=True)[:4])"
   ]
  },
  {
   "cell_type": "markdown",
   "metadata": {},
   "source": [
    "### Získej slova, která se těchto hodnot týkají"
   ]
  },
  {
   "cell_type": "code",
   "execution_count": null,
   "metadata": {},
   "outputs": [],
   "source": [
    "vysledky = list()\n",
    "\n",
    "for vyskyt in vyskyt_slov:\n",
    "    if vyskyt_slov[vyskyt] in tri_nejcastejsi:\n",
    "        vysledky.append((vyskyt_slov[vyskyt], vyskyt))"
   ]
  },
  {
   "cell_type": "markdown",
   "metadata": {},
   "source": [
    "### Vypiš výsledky od nejčastějšího slova"
   ]
  },
  {
   "cell_type": "code",
   "execution_count": null,
   "metadata": {},
   "outputs": [],
   "source": [
    "for index, tupl in enumerate(sorted(vysledky, reverse=True), 1):\n",
    "    print(\n",
    "        oddelovac,\n",
    "        f\"|{index}.|{tupl[1]: ^10}|{tupl[0]}x|\",\n",
    "        oddelovac,\n",
    "        sep=\"\\n\"\n",
    "    )"
   ]
  },
  {
   "cell_type": "markdown",
   "metadata": {},
   "source": [
    "---"
   ]
  }
 ],
 "metadata": {
  "kernelspec": {
   "display_name": "Python 3",
   "language": "python",
   "name": "python3"
  },
  "language_info": {
   "codemirror_mode": {
    "name": "ipython",
    "version": 3
   },
   "file_extension": ".py",
   "mimetype": "text/x-python",
   "name": "python",
   "nbconvert_exporter": "python",
   "pygments_lexer": "ipython3",
   "version": "3.8.6"
  }
 },
 "nbformat": 4,
 "nbformat_minor": 4
}
