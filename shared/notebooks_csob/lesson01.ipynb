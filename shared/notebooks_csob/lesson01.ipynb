{
 "cells": [
  {
   "cell_type": "markdown",
   "metadata": {},
   "source": [
    "## Intro\n",
    "\n",
    "---\n",
    "1. [Prezentace](https://docs.google.com/presentation/d/1NS7SuF1zCfsVSu5hOvrpC8L7x2Kf728_Dr4cN4h_GGQ/edit?usp=sharing),\n",
    "2. [Python, obecný úvod](#Python,-obecný-úvod,-nejčastější-dotazy),\n",
    "3. [Python, instalace, první spuštění](#Python,-instalace,-první-spuštění),\n",
    "4. [Jak a kde pracovat s Pythonem](#Jak-a-kde-pracovat-s-Pythonem),\n",
    "6. [Číselné hodnoty](#Číselné-hodnoty),\n",
    "7. [Textové hodnoty](#Textové-hodnoty),\n",
    "8. [Proměnná v Pythonu](#Proměnná-v-Pythonu),\n",
    "9. [Sekvence list, tuple](#Sekvence-list,-tuple),\n",
    "10. [Úvod do funkcí](#Úvod-do-funkcí),\n",
    "11. [Domácí úkol](#Domácí-úkol)."
   ]
  },
  {
   "cell_type": "markdown",
   "metadata": {},
   "source": [
    "## Python, obecný úvod\n",
    "\n",
    "---\n",
    "\n",
    "<br>\n",
    "\n",
    "### Co je to programování?\n",
    "\n",
    "\n",
    "Programování, obecně, je postup, kdy se člověk snaží předepsat (obecně vysvětlit) úkol počítači."
   ]
  },
  {
   "cell_type": "markdown",
   "metadata": {},
   "source": [
    "### Co je to programovací jazyk?\n",
    "\n",
    "<a href=\"https://imgur.com/ZTIUUPM\"><img src=\"https://i.imgur.com/ZTIUUPM.png\" title=\"source: imgur.com\" width=\"800\" /></a>\n",
    "\n",
    "\n",
    "**Jazyk lidí** a **počítačů** je ale odlišný.\n",
    "\n",
    "Proto je potřeba zavést nějaký **společný jazyk**, aby se obě strany domluvily."
   ]
  },
  {
   "cell_type": "markdown",
   "metadata": {},
   "source": [
    "### Proč umět programovat?\n",
    "\n",
    "Spoustu úkolů a procesů si člověk provede sám.\n",
    "\n",
    "Je však daleko **pohodlnější, rychlejší a přesnější**, *jednodušší* a *repetitivní úkoly*, přenechat na počítače.\n",
    "\n",
    "<img src=\"https://external-content.duckduckgo.com/iu/?u=https%3A%2F%2Ftse4.mm.bing.net%2Fth%3Fid%3DOIP.A0XA5eB0eVyqfJegNlJhGQHaHa%26pid%3DApi&f=1\" width=\"600\" />"
   ]
  },
  {
   "cell_type": "markdown",
   "metadata": {},
   "source": [
    "### Proč se učit zrovna Python?\n",
    "Některé programovací jazyky, jako je *Python*, jsou pro člověka **snadněji pochopitelné** (syntaxe čitelnější, lidštější).\n",
    "\n",
    "##### Python:"
   ]
  },
  {
   "cell_type": "code",
   "execution_count": 1,
   "metadata": {},
   "outputs": [
    {
     "name": "stdout",
     "output_type": "stream",
     "text": [
      "Hello world!\n"
     ]
    }
   ],
   "source": [
    "print(\"Hello world!\")"
   ]
  },
  {
   "cell_type": "markdown",
   "metadata": {},
   "source": [
    "Jde o tzv. *vysokoúrovňové programovací jazyky*. Ty jsou sice **vzdálenější k řeči počítačů**, za to jsou **čitelnější pro člověka**.\n",
    "\n",
    "\n",
    "<img src=\"https://i.imgur.com/2cGt5AP.png\" width=\"1200\">\n",
    "\n",
    "Druhou skupinou programovacích jazyků jsou *nízkoúrovňové programovací jazyky* (mají blíže k jedničkám a nulám).\n",
    "\n",
    "##### C:"
   ]
  },
  {
   "cell_type": "code",
   "execution_count": null,
   "metadata": {},
   "outputs": [],
   "source": [
    "#include <stdio.h>\n",
    "\n",
    "int main(void) {\n",
    "  printf(\"Hello World\\n\");\n",
    "  return 0;\n",
    "}"
   ]
  },
  {
   "cell_type": "markdown",
   "metadata": {},
   "source": [
    "Např. jazyky jako **C** nebo **Assembly**, jsou naopak náročnější na **čtení a pochopení**.\n",
    "\n",
    "Proto nejsou zcela vhodné pro úplné **začátky v programování**."
   ]
  },
  {
   "cell_type": "markdown",
   "metadata": {},
   "source": [
    "### Platí to stále?\n",
    "*Python* je dále programovací jazyk v nejlepších letech, který v únoru 2021 oslavil svoje [30. narozeniny](https://en.wikipedia.org/wiki/Python_(programming_language)).\n",
    "\n",
    "<br>\n",
    "\n",
    "A protože je v nejlepších letech, je současně [na roztrhání](https://insights.stackoverflow.com/survey/2021#most-loved-dreaded-and-wanted-language-want)"
   ]
  },
  {
   "cell_type": "markdown",
   "metadata": {},
   "source": [
    "## Python, instalace, první spuštění\n",
    "\n",
    "---\n",
    "\n",
    "Na [tomto odkaze](https://www.python.org/downloads/) si vybereš verzi podle tvého operačního systému.\n",
    "\n",
    "<br>\n",
    "\n",
    "Opatrně, není *Python* jako *Python*.\n",
    "\n",
    "Některé operační systémy (Linux, MacOS) mají velmi často **předem nainstalovaný Python se starší verzí (<2.7)**. Díky těmto, dnes již [oficiálně neudržovaným verzím](https://www.python.org/downloads/release/python-2718/) , totiž běží některé původní procesy.\n",
    "\n",
    "<br>\n",
    "\n",
    "Ty budeš pracovat s verzemi **Pythonu 3.8+**, abychom si společně mohli ukázat všechny funkce a procesy, které ve starších verzích nefungovaly.\n",
    "\n",
    "### Instalace"
   ]
  },
  {
   "cell_type": "code",
   "execution_count": null,
   "metadata": {},
   "outputs": [],
   "source": [
    "from IPython.display import YouTubeVideo\n",
    "YouTubeVideo('nzc8lCpWJhk', width=900, height=500)"
   ]
  },
  {
   "cell_type": "markdown",
   "metadata": {},
   "source": [
    "Po skončení instalace budeš mít k dispozici následující:\n",
    "\n",
    "1. **Základní prvky jazyka** \n",
    "2. **Interpret Pythonu** - tedy náš \"most\", který zajistí, aby počítač porozuměl našemu zápisu\n",
    "3. **Některé pomocné knihovny**"
   ]
  },
  {
   "cell_type": "markdown",
   "metadata": {},
   "source": [
    "### Spuštění\n",
    "\n",
    "Pokud spustíš přík. řádek a napíšeš:\n",
    "```\n",
    "python --version\n",
    "```\n",
    "\n",
    "<br>\n",
    "\n",
    "Žádoucí výstup:\n",
    "```\n",
    "Python 3.10.XX\n",
    "```\n",
    "\n",
    "<br>\n",
    "\n",
    "##### Demo: příkazový řádek\n",
    "\n",
    "<br>"
   ]
  },
  {
   "cell_type": "markdown",
   "metadata": {},
   "source": [
    "## Jak a kde pracovat s Pythonem\n",
    "\n",
    "---\n",
    "\n",
    "Jazyk **Python**, je v podstatě soubor *pravidel pro komunikaci* (jako u jiných jazyků).\n",
    "\n",
    "Nicméně ten, kdo tvoje příkazy bude spouštět a provádět není Python, nýbrž jeho **interpret**.\n",
    "\n",
    "<br>\n",
    "\n",
    "<img src=\"https://external-content.duckduckgo.com/iu/?u=https%3A%2F%2Ftse4.mm.bing.net%2Fth%3Fid%3DOIP.3RX0BJUjo1iEcyFBi59JWQHaHa%26pid%3DApi&f=1\" width=\"100\">\n",
    "\n",
    "### Příkazový řádek\n",
    "\n",
    "V rámci příkazového řádku si můžeš spustit **prostředí interaktivního interpreta**:\n",
    "```\n",
    "python3\n",
    "```\n",
    "\n",
    "Náhle se v příkazovém řádku objeví:\n",
    "```\n",
    "Python 3.X.XX (default, MMM DD YYYY, HH:MM:SS)\n",
    "[GCC 9.4.0] on XXX\n",
    "Type \"help\", \"copyright\", \"credits\" or \"license\" for more information.\n",
    ">>> \n",
    "\n",
    "```\n",
    "Ten je obzvláště nápomocný, pokud si něco zkoušíš, ověřuješ, kontroluješ výstup aj.\n",
    "\n",
    "Ale **není vhodný**, pokud chceš zapisovat **více příkazů**.\n",
    "\n",
    "\n",
    "##### Demo: příkazový řádek"
   ]
  },
  {
   "cell_type": "markdown",
   "metadata": {},
   "source": [
    "<table><tr>\n",
    "<td><img src=\"https://external-content.duckduckgo.com/iu/?u=https%3A%2F%2Ftse4.mm.bing.net%2Fth%3Fid%3DOIP.TsfnzoDPkTybVVz3WAz6MQHaHa%26pid%3DApi&f=1\" width=\"100\"></td>\n",
    "<td><img src=\"https://external-content.duckduckgo.com/iu/?u=https%3A%2F%2Ftse1.mm.bing.net%2Fth%3Fid%3DOIP.p4NKEAqAdgFX_u8PwtI_nwHaHa%26pid%3DApi&f=1\" width=\"100\"></td>\n",
    "<td><img src=\"https://external-content.duckduckgo.com/iu/?u=https%3A%2F%2Ftse4.mm.bing.net%2Fth%3Fid%3DOIP.jguxO12Bvw9_WaqZ9j8oUAHaCy%26pid%3DApi&f=1\" width=\"100\"></td>\n",
    "</tr></table>\n",
    "\n",
    "\n",
    "\n",
    "### Krátké skripty, moduly, ...\n",
    "\n",
    "Pokud potřebuješ zapsat více příkazů na několik řádků, je vhodné pracovat s editorem (nebo s IDE).\n",
    "\n",
    "* **editor**, jednodušší prostředí, méně funkcionality, přesto dostatečná rychlost a režie výkonu pc,\n",
    "* **IDE**, pro náročnější uživatele, obsahují hromadu doplňujících nástrojů. Často ale na úkor výkonu.\n",
    "\n",
    "##### Demo: IDE, editor"
   ]
  },
  {
   "cell_type": "markdown",
   "metadata": {},
   "source": [
    "```python\n",
    "import datetime\n",
    "\n",
    "aktualni_cas = datetime.datetime.now()\n",
    "\n",
    "print(\"Ahoj na první lekci s CSOB. Dneska máme\", aktualni_cas.strftime(\"%d/%m/%Y\"))\n",
    "```"
   ]
  },
  {
   "cell_type": "markdown",
   "metadata": {},
   "source": [
    "### Pycharm, instalace\n",
    "\n",
    "---\n",
    "\n",
    "Instalátor stáhneš na [oficiálním webu](https://www.jetbrains.com/)."
   ]
  },
  {
   "cell_type": "code",
   "execution_count": null,
   "metadata": {},
   "outputs": [],
   "source": [
    "from IPython.display import YouTubeVideo\n",
    "YouTubeVideo('Sb4FJP64IvQ', width=900, height=500)"
   ]
  },
  {
   "cell_type": "markdown",
   "metadata": {},
   "source": [
    "### Notebooky `.ipynb`\n",
    "\n",
    "---\n",
    "\n",
    "<img src=\"https://external-content.duckduckgo.com/iu/?u=http%3A%2F%2Fwww.i-programmer.info%2Fimages%2Fstories%2FNews%2F2015%2FMar%2FA%2Fjupyter.jpg&f=1&nofb=1\" width=\"120\">\n",
    "\n",
    "\n",
    "Jde o speciální prostředí, které umožňuje využít potenciálu **interpretu Pythonu** a současně **zapisovat poznámky**, zobrazovat obrázky, grafy aj."
   ]
  },
  {
   "cell_type": "code",
   "execution_count": 2,
   "metadata": {},
   "outputs": [
    {
     "name": "stdout",
     "output_type": "stream",
     "text": [
      "Ahoj na první lekci s CSOB. Dneska máme 23/09/2022\n"
     ]
    }
   ],
   "source": [
    "import datetime\n",
    "\n",
    "aktualni_cas = datetime.datetime.now()\n",
    "\n",
    "print(\"Ahoj na první lekci s CSOB. Dneska máme\", aktualni_cas.strftime(\"%d/%m/%Y\"))"
   ]
  },
  {
   "cell_type": "markdown",
   "metadata": {},
   "source": [
    "Notebook má typicky formát nebo příponu `.ipynb`. Tyto soubory pak lze otevřít pomocí **Jupyteru**, případně pomocí **Colaboratory** od Google.\n",
    "\n",
    "<br>\n",
    "\n",
    "Tyto dva nástroje **nejsou** primárně určené **pro programátory**, ale spíše pro *analytiky*, *přednášející*, *datové inženýry*, atd.\n",
    "\n",
    "Tedy třeba pro takové uživatele, kteří publikují výstupy **pro neprogramátory**."
   ]
  },
  {
   "cell_type": "code",
   "execution_count": 3,
   "metadata": {},
   "outputs": [
    {
     "name": "stdout",
     "output_type": "stream",
     "text": [
      "Requirement already satisfied: yfinance in /opt/conda/lib/python3.8/site-packages (0.1.74)\n",
      "Requirement already satisfied: requests>=2.26 in /opt/conda/lib/python3.8/site-packages (from yfinance) (2.28.1)\n",
      "Requirement already satisfied: multitasking>=0.0.7 in /opt/conda/lib/python3.8/site-packages (from yfinance) (0.0.11)\n",
      "Requirement already satisfied: lxml>=4.5.1 in /opt/conda/lib/python3.8/site-packages (from yfinance) (4.9.1)\n",
      "Requirement already satisfied: numpy>=1.15 in /opt/conda/lib/python3.8/site-packages (from yfinance) (1.20.1)\n",
      "Requirement already satisfied: pandas>=0.24.0 in /opt/conda/lib/python3.8/site-packages (from yfinance) (1.2.2)\n",
      "Requirement already satisfied: python-dateutil>=2.7.3 in /opt/conda/lib/python3.8/site-packages (from pandas>=0.24.0->yfinance) (2.8.1)\n",
      "Requirement already satisfied: pytz>=2017.3 in /opt/conda/lib/python3.8/site-packages (from pandas>=0.24.0->yfinance) (2021.1)\n",
      "Requirement already satisfied: six>=1.5 in /opt/conda/lib/python3.8/site-packages (from python-dateutil>=2.7.3->pandas>=0.24.0->yfinance) (1.15.0)\n",
      "Requirement already satisfied: certifi>=2017.4.17 in /opt/conda/lib/python3.8/site-packages (from requests>=2.26->yfinance) (2020.12.5)\n",
      "Requirement already satisfied: urllib3<1.27,>=1.21.1 in /opt/conda/lib/python3.8/site-packages (from requests>=2.26->yfinance) (1.26.3)\n",
      "Requirement already satisfied: idna<4,>=2.5 in /opt/conda/lib/python3.8/site-packages (from requests>=2.26->yfinance) (2.10)\n",
      "Requirement already satisfied: charset-normalizer<3,>=2 in /opt/conda/lib/python3.8/site-packages (from requests>=2.26->yfinance) (2.1.1)\n"
     ]
    }
   ],
   "source": [
    "!pip install yfinance"
   ]
  },
  {
   "cell_type": "code",
   "execution_count": 4,
   "metadata": {},
   "outputs": [
    {
     "data": {
      "text/plain": [
       "[<matplotlib.lines.Line2D at 0x7fe85d722fd0>]"
      ]
     },
     "execution_count": 4,
     "metadata": {},
     "output_type": "execute_result"
    },
    {
     "data": {
      "image/png": "[encoded data removed]",
      "text/plain": [
       "<Figure size 1080x720 with 1 Axes>"
      ]
     },
     "metadata": {
      "needs_background": "light"
     },
     "output_type": "display_data"
    }
   ],
   "source": [
    "import yfinance\n",
    "import pandas as pd\n",
    "import matplotlib.pyplot as plt\n",
    "\n",
    "# vyberu akcie twitteru\n",
    "dt = yfinance.Ticker(\"TWTR\")\n",
    "\n",
    "# vyberu interval od-do\n",
    "results = dt.history(start=\"2022-09-01\", end=\"2022-09-20\")\n",
    "\n",
    "# vyberu pouze sloupce data a closed cena \n",
    "date = results.index\n",
    "close = results['Close']\n",
    "\n",
    "# vytvořím graf\n",
    "plt.rc('figure', figsize=(15, 10))\n",
    "fig, ax = plt.subplots()\n",
    "fig.tight_layout(pad=3)\n",
    "\n",
    "# naformátuji graf\n",
    "ax.plot(\n",
    "    date,\n",
    "    close,\n",
    "    color='red', \n",
    "    linewidth=1,\n",
    "    label='Price'\n",
    ")"
   ]
  },
  {
   "cell_type": "markdown",
   "metadata": {},
   "source": [
    "**Programátoři** jsou často autoři *modulů*, *knihoven*, a jiných *softwarových řešení*, jejichž podobu koncový klient vůbec vidět ani chápat nemusí.\n",
    "\n",
    "<br>\n",
    "\n",
    "* více o projektu [Jupyter](https://jupyter.org/)\n",
    "* více o projektu [Google Colaboratory](https://workspace.google.com/marketplace/app/colaboratory/1014160490159)"
   ]
  },
  {
   "cell_type": "markdown",
   "metadata": {},
   "source": [
    "## Základní rozdělení\n",
    "\n",
    "---\n",
    "\n",
    "Pro naučení jakéhokoliv **programovacího jazyka**, si potřebuješ osvojit znalosti z tzv. **tří teoretických pilířů**.\n",
    "\n",
    "<br>\n",
    "\n",
    "Na těchto pilířích stojí téměř všechny programovací jazyky:\n",
    "1. **Syntaxe** (funkce, podmínky, smyčky, aj.)\n",
    "2. **Datové typy** (čísla, sekvence, aj.)\n",
    "3. **Knihovny** (decimal, aj.)\n",
    "\n",
    "<br>"
   ]
  },
  {
   "cell_type": "markdown",
   "metadata": {},
   "source": [
    "## Číselné hodnoty\n",
    "\n",
    "---\n",
    "\n",
    "Mezi dva základní **datové typy**, které pracují s čísly Python rozděluje:\n",
    "1. **Celá čísla**, tedy *integer* (`int`),\n",
    "2. **desetinná čísla**, tedy *float* (`float`).\n",
    "\n",
    "<br>\n",
    "\n",
    "### Zápis v notebooku"
   ]
  },
  {
   "cell_type": "code",
   "execution_count": 5,
   "metadata": {},
   "outputs": [
    {
     "data": {
      "text/plain": [
       "210"
      ]
     },
     "execution_count": 5,
     "metadata": {},
     "output_type": "execute_result"
    }
   ],
   "source": [
    "111 + 99  # print(111+99)"
   ]
  },
  {
   "cell_type": "markdown",
   "metadata": {},
   "source": [
    "**Jednořádkové komentáře** ti pomohou vytvářet poznámky."
   ]
  },
  {
   "cell_type": "markdown",
   "metadata": {},
   "source": [
    "### Zápis v PyCharm\n",
    "Pokud zapomeneš doplnit funkci `print`, potom ohlášení proběhne, ale neuvidíš výsledek."
   ]
  },
  {
   "cell_type": "code",
   "execution_count": 8,
   "metadata": {},
   "outputs": [
    {
     "name": "stdout",
     "output_type": "stream",
     "text": [
      "210\n"
     ]
    }
   ],
   "source": [
    "print(111 + 99)   # print(111+99)"
   ]
  },
  {
   "cell_type": "markdown",
   "metadata": {},
   "source": [
    "### Jak ověřím datový typ"
   ]
  },
  {
   "cell_type": "code",
   "execution_count": 10,
   "metadata": {},
   "outputs": [
    {
     "name": "stdout",
     "output_type": "stream",
     "text": [
      "<class 'int'>\n"
     ]
    }
   ],
   "source": [
    "print(type(210))"
   ]
  },
  {
   "cell_type": "code",
   "execution_count": 13,
   "metadata": {},
   "outputs": [
    {
     "name": "stdout",
     "output_type": "stream",
     "text": [
      "<class 'float'>\n"
     ]
    }
   ],
   "source": [
    "print(type(3.1614))"
   ]
  },
  {
   "cell_type": "markdown",
   "metadata": {},
   "source": [
    "**Desetinný oddělovač**"
   ]
  },
  {
   "cell_type": "markdown",
   "metadata": {},
   "source": [
    "### Další aritmetické operace"
   ]
  },
  {
   "cell_type": "code",
   "execution_count": 14,
   "metadata": {},
   "outputs": [
    {
     "name": "stdout",
     "output_type": "stream",
     "text": [
      "4\n",
      "4\n",
      "4\n",
      "2.0\n"
     ]
    }
   ],
   "source": [
    "print(2 + 2)\n",
    "print(10 - 6)\n",
    "print(2 * 2)\n",
    "print(4 / 2)"
   ]
  },
  {
   "cell_type": "markdown",
   "metadata": {},
   "source": [
    "### Méně známé ar. operace"
   ]
  },
  {
   "cell_type": "code",
   "execution_count": 18,
   "metadata": {},
   "outputs": [
    {
     "name": "stdout",
     "output_type": "stream",
     "text": [
      "3\n",
      "2\n",
      "1\n",
      "2\n",
      "4\n",
      "8\n"
     ]
    }
   ],
   "source": [
    "print(10 // 3)\n",
    "print(10 // 4)\n",
    "print(10 % 3)\n",
    "print(11 % 3)\n",
    "print(2 ** 2)\n",
    "print(2 ** 3)"
   ]
  },
  {
   "cell_type": "markdown",
   "metadata": {},
   "source": [
    "### Potíž s typem float"
   ]
  },
  {
   "cell_type": "code",
   "execution_count": 19,
   "metadata": {},
   "outputs": [
    {
     "name": "stdout",
     "output_type": "stream",
     "text": [
      "0.30000000000000004\n"
     ]
    }
   ],
   "source": [
    "print(0.1 + 0.2)"
   ]
  },
  {
   "cell_type": "markdown",
   "metadata": {},
   "source": [
    "Občas se při práci s **desetinnými čísly** setkáš s fenoménem známým jako **plovoucí řádová čárka**.\n",
    "\n",
    "Ten je způsobený tím, že některá desetinná čísla nemají odpovídající **binární tvar**. Proto jsou použity přibližné hodnoty.\n",
    "\n",
    "<br>\n",
    "\n",
    "Pro *přesnější práci* s desetinnými čísly vyzkoušej knihovnu **decimal**:"
   ]
  },
  {
   "cell_type": "code",
   "execution_count": 20,
   "metadata": {},
   "outputs": [
    {
     "name": "stdout",
     "output_type": "stream",
     "text": [
      "0.33333\n"
     ]
    }
   ],
   "source": [
    "# potřeba umět pracovat s knihovnami\n",
    "import decimal\n",
    "\n",
    "decimal.getcontext().prec = 5\n",
    "print(decimal.Decimal(0.1) / decimal.Decimal(0.3))"
   ]
  },
  {
   "cell_type": "markdown",
   "metadata": {},
   "source": [
    "### Hierarchie matematických operátorů\n",
    "\n",
    "---\n",
    "\n",
    "Dávej pozor **na pořadí**, ve kterém interpret počítá s různými operátory."
   ]
  },
  {
   "cell_type": "code",
   "execution_count": 21,
   "metadata": {},
   "outputs": [
    {
     "name": "stdout",
     "output_type": "stream",
     "text": [
      "8\n"
     ]
    }
   ],
   "source": [
    "print(2 + 3 * 2)"
   ]
  },
  {
   "cell_type": "code",
   "execution_count": 22,
   "metadata": {},
   "outputs": [
    {
     "name": "stdout",
     "output_type": "stream",
     "text": [
      "10\n"
     ]
    }
   ],
   "source": [
    "print((2 + 3) * 2)  # nejprve sčítání"
   ]
  },
  {
   "cell_type": "markdown",
   "metadata": {},
   "source": [
    "\n",
    "| Pořadí | Operátor | Proces |\n",
    "|:-:|:-:|:-|\n",
    "| 1. | `()` | závorky |\n",
    "| 2. | `**` | umocňování |\n",
    "| 3. | `*` | násobení |\n",
    "| 4. | `/` | dělení |\n",
    "| 5. | `+` | sčítání |\n",
    "| 6. | `-` | odčítaní |"
   ]
  },
  {
   "cell_type": "markdown",
   "metadata": {},
   "source": [
    "## Textové hodnoty\n",
    "\n",
    "---\n",
    "\n",
    "**String**, tedy **řetězec** je různě dlouhé uskupení znaků (písmen, čísel, speciálních symbolů).\n",
    "\n",
    "Ukázka datového typu `str`:"
   ]
  },
  {
   "cell_type": "code",
   "execution_count": 23,
   "metadata": {},
   "outputs": [
    {
     "name": "stdout",
     "output_type": "stream",
     "text": [
      "Ahoj tady Matous@0,\n"
     ]
    }
   ],
   "source": [
    "print(\"Ahoj tady Matous@0,\")"
   ]
  },
  {
   "cell_type": "code",
   "execution_count": 24,
   "metadata": {},
   "outputs": [
    {
     "name": "stdout",
     "output_type": "stream",
     "text": [
      "<class 'str'>\n"
     ]
    }
   ],
   "source": [
    "print(type(\"Ahoj tady Matous@0,\"))"
   ]
  },
  {
   "cell_type": "markdown",
   "metadata": {},
   "source": [
    "Dále se označuje jako **sekvence**, kterou jakmile jednou vytvoříme nelze změnit (z angl. *immutable*).\n"
   ]
  },
  {
   "cell_type": "markdown",
   "metadata": {},
   "source": [
    "### Jak napsat string"
   ]
  },
  {
   "cell_type": "code",
   "execution_count": 25,
   "metadata": {},
   "outputs": [
    {
     "ename": "NameError",
     "evalue": "name 'matous' is not defined",
     "output_type": "error",
     "traceback": [
      "\u001b[0;31m---------------------------------------------------------------------------\u001b[0m",
      "\u001b[0;31mNameError\u001b[0m                                 Traceback (most recent call last)",
      "\u001b[0;32m<ipython-input-25-180c5f311f32>\u001b[0m in \u001b[0;36m<module>\u001b[0;34m\u001b[0m\n\u001b[0;32m----> 1\u001b[0;31m \u001b[0mprint\u001b[0m\u001b[0;34m(\u001b[0m\u001b[0mmatous\u001b[0m\u001b[0;34m)\u001b[0m\u001b[0;34m\u001b[0m\u001b[0;34m\u001b[0m\u001b[0m\n\u001b[0m",
      "\u001b[0;31mNameError\u001b[0m: name 'matous' is not defined"
     ]
    }
   ],
   "source": [
    "print(matous)"
   ]
  },
  {
   "cell_type": "code",
   "execution_count": null,
   "metadata": {},
   "outputs": [],
   "source": [
    "print('matous')\n",
    "print(\"matous\")\n",
    "print('''matous''')  # speciální význam\n",
    "print(\"\"\"matous\"\"\")  # ..."
   ]
  },
  {
   "cell_type": "markdown",
   "metadata": {},
   "source": [
    "### Opatrně na uvozovky"
   ]
  },
  {
   "cell_type": "code",
   "execution_count": 26,
   "metadata": {},
   "outputs": [
    {
     "ename": "SyntaxError",
     "evalue": "EOL while scanning string literal (<ipython-input-26-b6a0b7f6a805>, line 1)",
     "output_type": "error",
     "traceback": [
      "\u001b[0;36m  File \u001b[0;32m\"<ipython-input-26-b6a0b7f6a805>\"\u001b[0;36m, line \u001b[0;32m1\u001b[0m\n\u001b[0;31m    print(\"matous')\u001b[0m\n\u001b[0m                   ^\u001b[0m\n\u001b[0;31mSyntaxError\u001b[0m\u001b[0;31m:\u001b[0m EOL while scanning string literal\n"
     ]
    }
   ],
   "source": [
    "print(\"matous')"
   ]
  },
  {
   "cell_type": "code",
   "execution_count": 27,
   "metadata": {},
   "outputs": [
    {
     "ename": "SyntaxError",
     "evalue": "invalid syntax (<ipython-input-27-612159b98d4a>, line 1)",
     "output_type": "error",
     "traceback": [
      "\u001b[0;36m  File \u001b[0;32m\"<ipython-input-27-612159b98d4a>\"\u001b[0;36m, line \u001b[0;32m1\u001b[0m\n\u001b[0;31m    print('zapisuji apostrof's')\u001b[0m\n\u001b[0m                             ^\u001b[0m\n\u001b[0;31mSyntaxError\u001b[0m\u001b[0;31m:\u001b[0m invalid syntax\n"
     ]
    }
   ],
   "source": [
    "print('zapisuji apostrof's')"
   ]
  },
  {
   "cell_type": "code",
   "execution_count": 28,
   "metadata": {},
   "outputs": [
    {
     "name": "stdout",
     "output_type": "stream",
     "text": [
      "zapisuji apostrof's\n"
     ]
    }
   ],
   "source": [
    "print(\"zapisuji apostrof's\")"
   ]
  },
  {
   "cell_type": "code",
   "execution_count": 29,
   "metadata": {},
   "outputs": [
    {
     "name": "stdout",
     "output_type": "stream",
     "text": [
      "zapisuji apostrof's\n"
     ]
    }
   ],
   "source": [
    "print('zapisuji apostrof\\'s')  # '\\' -> escape char."
   ]
  },
  {
   "cell_type": "code",
   "execution_count": 30,
   "metadata": {},
   "outputs": [
    {
     "name": "stdout",
     "output_type": "stream",
     "text": [
      "zapisuji apostrof's\n"
     ]
    }
   ],
   "source": [
    "print(\"zapisuji apostrof\\'s\")  # '\\' -> escape char."
   ]
  },
  {
   "cell_type": "markdown",
   "metadata": {},
   "source": [
    "Použití **speciálních symbolů** souvisejících se zpětným lomítkem je víc. Jsou to tzv. **escape characters**. V tabulce níž najdeš soupis těch nejčastějších:\n",
    "\n",
    "<br>\n",
    "\n",
    "| Speciální znak | Význam |\n",
    "| :-: | :-: |\n",
    "| `\\'` | Apostrof |\n",
    "| \\\\ |\tZpětné lomítko |\n",
    "| \\n |\tNový řádek |\n",
    "| \\r |\t*Return carriage* |\n",
    "| \\t |\tTabulátor |\n",
    "| \\b |\t*Backspace* |\n",
    "| \\f |\t*Form feed* |"
   ]
  },
  {
   "cell_type": "code",
   "execution_count": 31,
   "metadata": {},
   "outputs": [
    {
     "name": "stdout",
     "output_type": "stream",
     "text": [
      "\n",
      "prvni radek,\n",
      "druhy radek.\n",
      "\n"
     ]
    }
   ],
   "source": [
    "print(\"\"\"\n",
    "prvni radek,\n",
    "druhy radek.\n",
    "\"\"\")"
   ]
  },
  {
   "cell_type": "code",
   "execution_count": 32,
   "metadata": {},
   "outputs": [
    {
     "name": "stdout",
     "output_type": "stream",
     "text": [
      "\n",
      "prvni radek,\n",
      "druhy radek.\n",
      "\n"
     ]
    }
   ],
   "source": [
    "print('''\n",
    "prvni radek,\n",
    "druhy radek.\n",
    "'''\n",
    ")"
   ]
  },
  {
   "cell_type": "markdown",
   "metadata": {},
   "source": [
    "### Nemíchat různé datové typy"
   ]
  },
  {
   "cell_type": "code",
   "execution_count": 33,
   "metadata": {},
   "outputs": [
    {
     "name": "stdout",
     "output_type": "stream",
     "text": [
      "4\n"
     ]
    }
   ],
   "source": [
    "print(2 + 2)      # int + int"
   ]
  },
  {
   "cell_type": "code",
   "execution_count": 34,
   "metadata": {},
   "outputs": [
    {
     "name": "stdout",
     "output_type": "stream",
     "text": [
      "22\n"
     ]
    }
   ],
   "source": [
    "print(\"2\" + \"2\")  # str + str"
   ]
  },
  {
   "cell_type": "code",
   "execution_count": 35,
   "metadata": {},
   "outputs": [
    {
     "ename": "TypeError",
     "evalue": "unsupported operand type(s) for +: 'int' and 'str'",
     "output_type": "error",
     "traceback": [
      "\u001b[0;31m---------------------------------------------------------------------------\u001b[0m",
      "\u001b[0;31mTypeError\u001b[0m                                 Traceback (most recent call last)",
      "\u001b[0;32m<ipython-input-35-256ae5b02e2b>\u001b[0m in \u001b[0;36m<module>\u001b[0;34m\u001b[0m\n\u001b[0;32m----> 1\u001b[0;31m \u001b[0mprint\u001b[0m\u001b[0;34m(\u001b[0m\u001b[0;36m2\u001b[0m \u001b[0;34m+\u001b[0m \u001b[0;34m\"2\"\u001b[0m\u001b[0;34m)\u001b[0m    \u001b[0;31m# int + str\u001b[0m\u001b[0;34m\u001b[0m\u001b[0;34m\u001b[0m\u001b[0m\n\u001b[0m",
      "\u001b[0;31mTypeError\u001b[0m: unsupported operand type(s) for +: 'int' and 'str'"
     ]
    }
   ],
   "source": [
    "print(2 + \"2\")    # int + str"
   ]
  },
  {
   "cell_type": "markdown",
   "metadata": {},
   "source": [
    "### Změna datového typu za jiný"
   ]
  },
  {
   "cell_type": "code",
   "execution_count": 36,
   "metadata": {},
   "outputs": [
    {
     "name": "stdout",
     "output_type": "stream",
     "text": [
      "<class 'str'>\n"
     ]
    }
   ],
   "source": [
    "print(type(\"2\"))"
   ]
  },
  {
   "cell_type": "code",
   "execution_count": 37,
   "metadata": {},
   "outputs": [
    {
     "name": "stdout",
     "output_type": "stream",
     "text": [
      "<class 'int'>\n"
     ]
    }
   ],
   "source": [
    "print(type(int(\"2\")))       # řetězení zabudovaných funkcí"
   ]
  },
  {
   "cell_type": "code",
   "execution_count": null,
   "metadata": {},
   "outputs": [],
   "source": [
    "print(type(float(\"2\")))     # ..."
   ]
  },
  {
   "cell_type": "code",
   "execution_count": null,
   "metadata": {},
   "outputs": [],
   "source": [
    "print(type(float(2.11)))\n",
    "print(type(str(2.11)))"
   ]
  },
  {
   "cell_type": "code",
   "execution_count": 38,
   "metadata": {},
   "outputs": [
    {
     "ename": "ValueError",
     "evalue": "invalid literal for int() with base 10: 'matous'",
     "output_type": "error",
     "traceback": [
      "\u001b[0;31m---------------------------------------------------------------------------\u001b[0m",
      "\u001b[0;31mValueError\u001b[0m                                Traceback (most recent call last)",
      "\u001b[0;32m<ipython-input-38-ab4cae1752ba>\u001b[0m in \u001b[0;36m<module>\u001b[0;34m\u001b[0m\n\u001b[0;32m----> 1\u001b[0;31m \u001b[0mprint\u001b[0m\u001b[0;34m(\u001b[0m\u001b[0mtype\u001b[0m\u001b[0;34m(\u001b[0m\u001b[0mint\u001b[0m\u001b[0;34m(\u001b[0m\u001b[0;34m\"matous\"\u001b[0m\u001b[0;34m)\u001b[0m\u001b[0;34m)\u001b[0m\u001b[0;34m)\u001b[0m  \u001b[0;31m# ne každou hodnotu lze \"přetypovat\"\u001b[0m\u001b[0;34m\u001b[0m\u001b[0;34m\u001b[0m\u001b[0m\n\u001b[0m",
      "\u001b[0;31mValueError\u001b[0m: invalid literal for int() with base 10: 'matous'"
     ]
    }
   ],
   "source": [
    "print(type(int(\"matous\")))  # ne každou hodnotu lze \"přetypovat\""
   ]
  },
  {
   "cell_type": "code",
   "execution_count": 39,
   "metadata": {},
   "outputs": [
    {
     "ename": "ValueError",
     "evalue": "could not convert string to float: '2@'",
     "output_type": "error",
     "traceback": [
      "\u001b[0;31m---------------------------------------------------------------------------\u001b[0m",
      "\u001b[0;31mValueError\u001b[0m                                Traceback (most recent call last)",
      "\u001b[0;32m<ipython-input-39-6f81e6552e95>\u001b[0m in \u001b[0;36m<module>\u001b[0;34m\u001b[0m\n\u001b[0;32m----> 1\u001b[0;31m \u001b[0mprint\u001b[0m\u001b[0;34m(\u001b[0m\u001b[0mtype\u001b[0m\u001b[0;34m(\u001b[0m\u001b[0mfloat\u001b[0m\u001b[0;34m(\u001b[0m\u001b[0;34m\"2@\"\u001b[0m\u001b[0;34m)\u001b[0m\u001b[0;34m)\u001b[0m\u001b[0;34m)\u001b[0m   \u001b[0;31m# ne každou hodnotu lze \"přetypovat\"\u001b[0m\u001b[0;34m\u001b[0m\u001b[0;34m\u001b[0m\u001b[0m\n\u001b[0m",
      "\u001b[0;31mValueError\u001b[0m: could not convert string to float: '2@'"
     ]
    }
   ],
   "source": [
    "print(type(float(\"2@\")))   # ne každou hodnotu lze \"přetypovat\""
   ]
  },
  {
   "cell_type": "markdown",
   "metadata": {},
   "source": [
    "<br>\n",
    "\n",
    "### Další procesy u stringů\n",
    "Usnadňují další práci s datovým typem `str`:\n",
    "1. Spojování,\n",
    "2. opakování,\n",
    "3. indexování,\n",
    "4. slicing,\n",
    "5. striding,\n",
    "6. rozšiřující **metody**."
   ]
  },
  {
   "cell_type": "code",
   "execution_count": 40,
   "metadata": {},
   "outputs": [
    {
     "name": "stdout",
     "output_type": "stream",
     "text": [
      "MatoušHolinka\n"
     ]
    }
   ],
   "source": [
    "# spojování ~ concatenation\n",
    "print(\"Matouš\" + \"Holinka\")"
   ]
  },
  {
   "cell_type": "code",
   "execution_count": 41,
   "metadata": {},
   "outputs": [
    {
     "name": "stdout",
     "output_type": "stream",
     "text": [
      "Matouš Holinka\n"
     ]
    }
   ],
   "source": [
    "# jak doplníš chybějící mezeru mezi jménem a příjmením?\n",
    "print(\"Matouš\" + \" \" + \"Holinka\")"
   ]
  },
  {
   "cell_type": "code",
   "execution_count": 44,
   "metadata": {},
   "outputs": [
    {
     "name": "stdout",
     "output_type": "stream",
     "text": [
      "@@@\n"
     ]
    }
   ],
   "source": [
    "# opakování ~ repetition\n",
    "print(\"@\" * 3)"
   ]
  },
  {
   "cell_type": "code",
   "execution_count": 45,
   "metadata": {},
   "outputs": [
    {
     "name": "stdout",
     "output_type": "stream",
     "text": [
      "a\n"
     ]
    }
   ],
   "source": [
    "# indexování\n",
    "print(\"Matouš\"[1])"
   ]
  },
  {
   "cell_type": "code",
   "execution_count": 48,
   "metadata": {},
   "outputs": [
    {
     "name": "stdout",
     "output_type": "stream",
     "text": [
      "š\n"
     ]
    }
   ],
   "source": [
    "# jak získáš první znak, jak poslední znak?\n",
    "print(\"Matouš\"[-1])"
   ]
  },
  {
   "cell_type": "code",
   "execution_count": 49,
   "metadata": {},
   "outputs": [
    {
     "name": "stdout",
     "output_type": "stream",
     "text": [
      "atous\n"
     ]
    }
   ],
   "source": [
    "# slicing\n",
    "print(\"matous.holinka@gmail.com\"[1:6])"
   ]
  },
  {
   "cell_type": "code",
   "execution_count": 52,
   "metadata": {},
   "outputs": [
    {
     "name": "stdout",
     "output_type": "stream",
     "text": [
      ".holinka@gmail.com\n"
     ]
    }
   ],
   "source": [
    "# jak získáš jméno účtu?\n",
    "print(\"matous.holinka@gmail.com\"[6:])"
   ]
  },
  {
   "cell_type": "code",
   "execution_count": 53,
   "metadata": {},
   "outputs": [
    {
     "name": "stdout",
     "output_type": "stream",
     "text": [
      "13579\n"
     ]
    }
   ],
   "source": [
    "# striding\n",
    "print(\"1234567890\"[0:-1:2])"
   ]
  },
  {
   "cell_type": "code",
   "execution_count": 57,
   "metadata": {},
   "outputs": [
    {
     "name": "stdout",
     "output_type": "stream",
     "text": [
      "13579\n"
     ]
    }
   ],
   "source": [
    "# jak získáš všechny sudé číslice? (bez nuly)\n",
    "print(\"1234567890\"[::2])"
   ]
  },
  {
   "cell_type": "markdown",
   "metadata": {},
   "source": [
    "<br>\n",
    "\n",
    "<img src=\"https://external-content.duckduckgo.com/iu/?u=https%3A%2F%2Ftse2.mm.bing.net%2Fth%3Fid%3DOIP.k1p6JyN8Tr1Yya7R6T0YPQHaHl%26pid%3DApi&f=1\" width=\"200\" />\n",
    "\n",
    "\n",
    "\n",
    "## Proměnná v Pythonu\n",
    "\n",
    "---\n",
    "\n",
    "Proměnná je objekt, který slouží ke **uchování hodnoty** pro pozdější použití.\n",
    "\n",
    "Pokud máš tedy hodnoty, které chceš použít **více než jedenkrát**, **ulož je** do proměnné.\n",
    "\n",
    "Pokud chceš hodnotu použít **pouze jednou**, **nemusíš ji ukládat**."
   ]
  },
  {
   "cell_type": "markdown",
   "metadata": {},
   "source": [
    "### Standardní zápis proměnné s hodnotou\n",
    "\n",
    "Pokud chceš interpretovi oznámit, že chceš hodnotu schovat na později, učiníš tak pomocí symbolu `=`:\n",
    "    "
   ]
  },
  {
   "cell_type": "code",
   "execution_count": 58,
   "metadata": {},
   "outputs": [
    {
     "name": "stdout",
     "output_type": "stream",
     "text": [
      "Matous 55\n"
     ]
    }
   ],
   "source": [
    "jmeno = \"Matous\"\n",
    "vek = 55\n",
    "\n",
    "print(jmeno, vek)"
   ]
  },
  {
   "cell_type": "markdown",
   "metadata": {},
   "source": [
    "Označení `jmeno, vek` jsou jen **jména, označení, identifikátory**, které označí hodnoty `\"Matous\"` a `55` u tebe v paměti."
   ]
  },
  {
   "cell_type": "markdown",
   "metadata": {},
   "source": [
    "### Pravidla pro pojmenování objektů\n",
    "\n",
    "Jméno proměnné (někdy také odkaz) **může obsahovat** tyto znaky:\n",
    "1. **Písmenné** znaky,\n",
    "2. **Číselné** znaky,\n",
    "3. **Podtržítka**."
   ]
  },
  {
   "cell_type": "code",
   "execution_count": 59,
   "metadata": {},
   "outputs": [],
   "source": [
    "jmeno = \"Matous\"\n",
    "jmeno2 = \"Matous\"\n",
    "jmeno_2 = \"Matous\""
   ]
  },
  {
   "cell_type": "markdown",
   "metadata": {},
   "source": [
    "Existují ovšem znaky, které jméno proměnné **obsahovat nesmí**:\n",
    "1. Jméno proměnné nesmí **začínat číselným znakem**,\n",
    "2. jméno proměnné nesmí **obsahovat speciální znaky** (kromě podtržítka),\n",
    "3. jméno proměnné nesmí **obsahovat mezery**.\n",
    "\n",
    "Obvykle se nedoporučuje začínat jména **odkazů** pomocí **podtržítka** (pokud nevíš proč to dělat, raději to nedělej):"
   ]
  },
  {
   "cell_type": "code",
   "execution_count": 60,
   "metadata": {},
   "outputs": [
    {
     "ename": "SyntaxError",
     "evalue": "invalid syntax (<ipython-input-60-3cc9e8cdac1c>, line 1)",
     "output_type": "error",
     "traceback": [
      "\u001b[0;36m  File \u001b[0;32m\"<ipython-input-60-3cc9e8cdac1c>\"\u001b[0;36m, line \u001b[0;32m1\u001b[0m\n\u001b[0;31m    1jmeno = \"Matous\"\u001b[0m\n\u001b[0m      ^\u001b[0m\n\u001b[0;31mSyntaxError\u001b[0m\u001b[0;31m:\u001b[0m invalid syntax\n"
     ]
    }
   ],
   "source": [
    "1jmeno = \"Matous\""
   ]
  },
  {
   "cell_type": "code",
   "execution_count": 65,
   "metadata": {},
   "outputs": [],
   "source": [
    "jmeno = \"Matouš\""
   ]
  },
  {
   "cell_type": "code",
   "execution_count": 64,
   "metadata": {},
   "outputs": [
    {
     "ename": "SyntaxError",
     "evalue": "invalid syntax (<ipython-input-64-ba6f9884be7b>, line 1)",
     "output_type": "error",
     "traceback": [
      "\u001b[0;36m  File \u001b[0;32m\"<ipython-input-64-ba6f9884be7b>\"\u001b[0;36m, line \u001b[0;32m1\u001b[0m\n\u001b[0;31m    moje jmeno = \"Matous\"\u001b[0m\n\u001b[0m         ^\u001b[0m\n\u001b[0;31mSyntaxError\u001b[0m\u001b[0;31m:\u001b[0m invalid syntax\n"
     ]
    }
   ],
   "source": [
    "moje jmeno = \"Matous\""
   ]
  },
  {
   "cell_type": "markdown",
   "metadata": {},
   "source": [
    "<br>\n",
    "\n",
    "Dále nepoužívej pro jméno proměnné žádný **z rezervovaných klíčových slov**:"
   ]
  },
  {
   "cell_type": "code",
   "execution_count": null,
   "metadata": {},
   "outputs": [],
   "source": [
    "# Špatně\n",
    "str = \"Matous\"\n",
    "print(str)"
   ]
  },
  {
   "cell_type": "markdown",
   "metadata": {},
   "source": [
    "<br>\n",
    "\n",
    "Pokud potřebuješ použít klíčový výraz **jako jméno proměnné**, můžeš použít podtržítko **jako příponu**:"
   ]
  },
  {
   "cell_type": "code",
   "execution_count": null,
   "metadata": {},
   "outputs": [],
   "source": [
    "# Správně\n",
    "str_ = \"Matous\"\n",
    "print(str_)"
   ]
  },
  {
   "cell_type": "markdown",
   "metadata": {},
   "source": [
    "### Forma zápisu\n",
    "Je jedno, jestli preferuješ tzv. `camelCase` nebo `snake_case`. Důležité je konzistentní používání skrz celý tvůj zápis."
   ]
  },
  {
   "cell_type": "code",
   "execution_count": null,
   "metadata": {},
   "outputs": [],
   "source": [
    "moje_datum_narozeni = ...\n",
    "mojeDatumNarozeni = ..."
   ]
  },
  {
   "cell_type": "markdown",
   "metadata": {},
   "source": [
    "<br>\n",
    "\n",
    "<img src=\"https://external-content.duckduckgo.com/iu/?u=https%3A%2F%2Ftse2.mm.bing.net%2Fth%3Fid%3DOIP.XikDkNKNuZHeuGBWc1KgcQHaGf%26pid%3DApi&f=1\" width=\"200\" />\n",
    "\n",
    "## Sekvence list, tuple\n",
    "\n",
    "---\n",
    "Doposud jsme si ukázali jak pracovat **s jednou hodnotou** (`int`, `float`, `str`).\n",
    "\n",
    "<br>\n",
    "\n",
    "V Pythonu můžeš ale sdružovat **více hodnot** společně. Na jednom místě.\n",
    "\n",
    "<br>\n",
    "\n",
    "Takové hodnoty potom budeme označovat jako tzv. **sekvenční datové typy** (tedy několik údajů oddělených *oddělovačem*).\n",
    "1. `list` (z angl. *list*, česky *seznam*),\n",
    "2. `tuple` (z angl. *tuple*, česky *n-tice*),\n",
    "3. `range` (z angl. *range*, česky *rozsah*) - na něj přijde řada později."
   ]
  },
  {
   "cell_type": "markdown",
   "metadata": {},
   "source": [
    "### List\n",
    "*List* je první *sekvenční* datový typ. Poznáš jej podle:\n",
    "1. **hranatých závorek**,\n",
    "2. oddělovačem **je čárka**,\n",
    "3. jeho obsah (uvnitř závorek) můžeš po vytvoření **změnit** (přidávat a odebírat).\n",
    "\n",
    "```python\n",
    "[\"Matous\", \"Marek\", \"Lukas\", \"Jan\"]\n",
    "```"
   ]
  },
  {
   "cell_type": "code",
   "execution_count": 66,
   "metadata": {},
   "outputs": [
    {
     "name": "stdout",
     "output_type": "stream",
     "text": [
      "<class 'list'>\n"
     ]
    }
   ],
   "source": [
    "print(type([\"Matous\", \"Marek\", \"Lukas\", \"Jan\"]))"
   ]
  },
  {
   "cell_type": "markdown",
   "metadata": {},
   "source": [
    "### Tuple\n",
    "*Tuple* je druhý *sekvenční* datový typ. Poznáš jej podle:\n",
    "1. **kulatých závorek** (může být i bez závorek),\n",
    "2. oddělovačem **je čárka**,\n",
    "3. jeho obsah (uvnitř závorek) **nemůžeš** po vytvoření změnit.\n",
    "\n",
    "```python\n",
    "(\"Matous\", \"Marek\", \"Lukas\", \"Jan\")\n",
    "```"
   ]
  },
  {
   "cell_type": "code",
   "execution_count": 67,
   "metadata": {},
   "outputs": [
    {
     "name": "stdout",
     "output_type": "stream",
     "text": [
      "<class 'tuple'>\n"
     ]
    }
   ],
   "source": [
    "print(type((\"Matous\", \"Marek\", \"Lukas\", \"Jan\")))"
   ]
  },
  {
   "cell_type": "markdown",
   "metadata": {},
   "source": [
    "### Nový list, nový tuple\n",
    "\n",
    "##### List"
   ]
  },
  {
   "cell_type": "code",
   "execution_count": 68,
   "metadata": {},
   "outputs": [
    {
     "name": "stdout",
     "output_type": "stream",
     "text": [
      "<class 'list'>\n",
      "<class 'list'>\n"
     ]
    }
   ],
   "source": [
    "print(type([]))\n",
    "print(type(list()))"
   ]
  },
  {
   "cell_type": "code",
   "execution_count": 69,
   "metadata": {},
   "outputs": [
    {
     "name": "stdout",
     "output_type": "stream",
     "text": [
      "[1, 2, 3]\n"
     ]
    }
   ],
   "source": [
    "print([1, 2, 3])"
   ]
  },
  {
   "cell_type": "markdown",
   "metadata": {},
   "source": [
    "##### Tuple"
   ]
  },
  {
   "cell_type": "code",
   "execution_count": 70,
   "metadata": {},
   "outputs": [
    {
     "name": "stdout",
     "output_type": "stream",
     "text": [
      "<class 'tuple'>\n",
      "<class 'tuple'>\n"
     ]
    }
   ],
   "source": [
    "print(type(()))\n",
    "print(type(tuple()))"
   ]
  },
  {
   "cell_type": "code",
   "execution_count": 71,
   "metadata": {},
   "outputs": [
    {
     "name": "stdout",
     "output_type": "stream",
     "text": [
      "('HR', 'Admin', 'Development', 'QA')\n"
     ]
    }
   ],
   "source": [
    "print((\"HR\", \"Admin\", \"Development\", \"QA\"))"
   ]
  },
  {
   "cell_type": "markdown",
   "metadata": {},
   "source": [
    "### Jak s listem pracovat\n",
    "Podobně jako u typu `str`, můžeš s `list` pracovat hned několika způsoby:\n",
    "1. Spojování,\n",
    "2. opakování,\n",
    "3. indexování,\n",
    "4. slicing,\n",
    "5. striding,\n",
    "6. rozšiřující **metody**.\n",
    "\n",
    "<br>\n",
    "\n",
    "### Jak pracovat s tuplem\n",
    "Podobně jako u typu `list`, můžeš s `tuple` pracovat hned několika způsoby:\n",
    "1. Spojování,\n",
    "2. opakování,\n",
    "3. indexování,\n",
    "4. slicing,\n",
    "5. striding,\n",
    "6. rozšiřující **metody**."
   ]
  },
  {
   "cell_type": "code",
   "execution_count": 72,
   "metadata": {},
   "outputs": [
    {
     "name": "stdout",
     "output_type": "stream",
     "text": [
      "['Matous', 'Lukas', 'Petr', 'Jan']\n"
     ]
    }
   ],
   "source": [
    "# LIST:  spojování\n",
    "print([\"Matous\", \"Lukas\"] + [\"Petr\", \"Jan\"])"
   ]
  },
  {
   "cell_type": "code",
   "execution_count": 73,
   "metadata": {},
   "outputs": [
    {
     "name": "stdout",
     "output_type": "stream",
     "text": [
      "('a', 'b', 'c', 'd')\n"
     ]
    }
   ],
   "source": [
    "# TUPLE: spojování\n",
    "print((\"a\", \"b\") + (\"c\", \"d\"))"
   ]
  },
  {
   "cell_type": "code",
   "execution_count": 74,
   "metadata": {},
   "outputs": [
    {
     "name": "stdout",
     "output_type": "stream",
     "text": [
      "['@', '@', '@']\n"
     ]
    }
   ],
   "source": [
    "# LIST:  opakování\n",
    "print([\"@\"] * 3)"
   ]
  },
  {
   "cell_type": "code",
   "execution_count": 75,
   "metadata": {},
   "outputs": [
    {
     "name": "stdout",
     "output_type": "stream",
     "text": [
      "@@@@@@@@@@\n"
     ]
    }
   ],
   "source": [
    "# TUPLE: opakování\n",
    "print((\"@\") * 10)"
   ]
  },
  {
   "cell_type": "code",
   "execution_count": null,
   "metadata": {},
   "outputs": [],
   "source": [
    "# LIST:  indexování\n",
    "print([\"Matous\", \"Lukas\", \"Petr\", \"Jan\"][1])"
   ]
  },
  {
   "cell_type": "code",
   "execution_count": null,
   "metadata": {},
   "outputs": [],
   "source": [
    "# najdi index se stringem \"Petr\""
   ]
  },
  {
   "cell_type": "code",
   "execution_count": null,
   "metadata": {},
   "outputs": [],
   "source": [
    "# TUPLE: indexování\n",
    "print(\n",
    "    (\"vývojáři\", \"admini\", \"office\", \"marketing\", \"helpdesk\", \"labs\")[1]\n",
    ")"
   ]
  },
  {
   "cell_type": "code",
   "execution_count": null,
   "metadata": {},
   "outputs": [],
   "source": [
    "# vypiš \"marketing\""
   ]
  },
  {
   "cell_type": "code",
   "execution_count": null,
   "metadata": {},
   "outputs": [],
   "source": [
    "# LIST:  slicing\n",
    "print([\"Matous\", \"Lukas\", \"Petr\", \"Jan\"][:2])"
   ]
  },
  {
   "cell_type": "code",
   "execution_count": null,
   "metadata": {},
   "outputs": [],
   "source": [
    "# najdi jen stringy \"Matous\" a \"Lukas\""
   ]
  },
  {
   "cell_type": "code",
   "execution_count": null,
   "metadata": {},
   "outputs": [],
   "source": [
    "# TUPLE: slicing\n",
    "print(\n",
    "    (\"vývojáři\", \"admini\", \"office\", \"marketing\", \"helpdesk\", \"labs\")[:]\n",
    ")"
   ]
  },
  {
   "cell_type": "code",
   "execution_count": null,
   "metadata": {},
   "outputs": [],
   "source": [
    "# vypiš \"admini-office-marketing\""
   ]
  },
  {
   "cell_type": "code",
   "execution_count": null,
   "metadata": {},
   "outputs": [],
   "source": [
    "# LIST: striding\n",
    "print([\"Matous\", \"Lukas\", \"Petr\", \"Jan\"][1:4:2])"
   ]
  },
  {
   "cell_type": "code",
   "execution_count": null,
   "metadata": {},
   "outputs": [],
   "source": [
    "# najdi jen stringy \"Lukas\" a \"Jan\""
   ]
  },
  {
   "cell_type": "code",
   "execution_count": null,
   "metadata": {},
   "outputs": [],
   "source": [
    "# TUPLE: striding\n",
    "print(\n",
    "    (\"vývojáři\", \"admini\", \"office\",\n",
    "     \"marketing\", \"helpdesk\", \"labs\")[1::2]\n",
    ")"
   ]
  },
  {
   "cell_type": "code",
   "execution_count": null,
   "metadata": {},
   "outputs": [],
   "source": [
    "# vypiš \"admini-office-marketing\""
   ]
  },
  {
   "cell_type": "code",
   "execution_count": null,
   "metadata": {},
   "outputs": [],
   "source": [
    "# LIST: spojení dvou listů\n",
    "[\"Matous\"]\n",
    "[\"Petr\", \"Tomas\"]\n",
    "[\"Lukas\", \"Jan\"]"
   ]
  },
  {
   "cell_type": "code",
   "execution_count": null,
   "metadata": {},
   "outputs": [],
   "source": [
    "# spoj 3 předešlé listy"
   ]
  },
  {
   "cell_type": "code",
   "execution_count": 76,
   "metadata": {},
   "outputs": [
    {
     "name": "stdout",
     "output_type": "stream",
     "text": [
      "[['Matous', 'Petr'], ['Tomas', 'Lukas'], ['Jan', 'Matous'], ['Marek']]\n"
     ]
    }
   ],
   "source": [
    "# vnoření a.k.a. nestování\n",
    "print(\n",
    "    [\n",
    "        ['Matous', 'Petr'],\n",
    "        ['Tomas', 'Lukas'],\n",
    "        ['Jan' , 'Matous'],\n",
    "        ['Marek']\n",
    "    ]\n",
    ")"
   ]
  },
  {
   "cell_type": "code",
   "execution_count": 77,
   "metadata": {},
   "outputs": [
    {
     "name": "stdout",
     "output_type": "stream",
     "text": [
      "[['Matous', 'Petr'], ['Tomas', 'Lukas'], ['Jan', 'Matous'], ['Marek']]\n"
     ]
    }
   ],
   "source": [
    "print(\n",
    "    [\n",
    "        ['Matous', 'Petr'],  # [0]\n",
    "        ['Tomas', 'Lukas'],  # [1]\n",
    "        ['Jan' , 'Matous'],  # [2]\n",
    "        ['Marek']            # [3]\n",
    "    ]\n",
    ")"
   ]
  },
  {
   "cell_type": "code",
   "execution_count": 79,
   "metadata": {},
   "outputs": [
    {
     "name": "stdout",
     "output_type": "stream",
     "text": [
      "Matous\n"
     ]
    }
   ],
   "source": [
    "print(\n",
    "    [\n",
    "        ['Matous', 'Petr'],  # [0]\n",
    "        ['Tomas', 'Lukas'],  # [1]\n",
    "        ['Jan' , 'Matous'],  # [2]\n",
    "        ['Marek']            # [3]\n",
    "    ][2][1]\n",
    ")"
   ]
  },
  {
   "cell_type": "markdown",
   "metadata": {},
   "source": [
    "## Úvod do funkcí\n",
    "\n",
    "Obecně řečeno Python disponuje dvěma typy funkcí. Tebe budou zajímat:\n",
    "1. **Zabudované funkce** (~*built-in functions*),\n",
    "2. **Uživatelské funkce** (~*user-defined functions*) - ty přijdou na řadu později.\n",
    "\n",
    "Funkce jsou v podstatě **pomocné nástroje**, které ti umožní snazší a efektivnější práci.\n",
    "\n",
    "To, že nesou označení **zabudované** znamená, že je máš k dispozici ihned po instalaci. Tedy v každém souboru (s příponou `.py`), který do budoucna vytvoříš.\n",
    "\n",
    "\n",
    "#### Použití zabudované funkce\n",
    "\n",
    "---\n",
    "\n",
    "| Jméno funkce | Účel funkce |\n",
    "| :-: | :- |\n",
    "| `type` | Vrací datový typ zadané hodnoty |\n",
    "| `str` | Vrací *string* ze zadané hodnoty |\n",
    "| `list` | Vrací nový objekt, sekvenční datový typ *list* |\n",
    "| `tuple` | Vrací nový objekt, sekvenční datový typ *tuple* |\n",
    "| `help` | Vratí nápovědu k zadanému objektu |\n",
    "| `print` | Vypisuje zadné hodnoty jako výstupy |\n",
    "| `input` | Umožňuje ukládat vstupy od uživatele |\n",
    "\n",
    "<br>\n",
    "\n",
    "Pokud máš se zabudovanými funkcemi nějaké zkušenosti, nebo tě zajímá, které další bys mohl v rámci Pythonu využít, mrkni na [oficiální tabulku](https://docs.python.org/3/library/functions.html) všech zabudovaných funkcí."
   ]
  },
  {
   "cell_type": "code",
   "execution_count": 83,
   "metadata": {},
   "outputs": [
    {
     "name": "stdout",
     "output_type": "stream",
     "text": [
      "Help on method raw_input in module ipykernel.kernelbase:\n",
      "\n",
      "raw_input(prompt='') method of ipykernel.ipkernel.IPythonKernel instance\n",
      "    Forward raw_input to frontends\n",
      "    \n",
      "    Raises\n",
      "    ------\n",
      "    StdinNotImplementedError if active frontend doesn't support stdin.\n",
      "\n"
     ]
    }
   ],
   "source": [
    "help(input)"
   ]
  },
  {
   "cell_type": "markdown",
   "metadata": {},
   "source": [
    "<img src=\"https://external-content.duckduckgo.com/iu/?u=https%3A%2F%2Ftse1.mm.bing.net%2Fth%3Fid%3DOIP.GMJvJ-GG0YS8H5JmHR3CbwHaHm%26pid%3DApi&f=1\" width=\"200\">\n",
    "\n",
    "\n",
    "## Domácí úkol\n",
    "\n",
    "---"
   ]
  },
  {
   "cell_type": "markdown",
   "metadata": {},
   "source": [
    "Představ si situaci, že chceš napsat takový program, který ti umožní rezervovat jízdenky.\n",
    "\n",
    "Samozřejmě nepůjde o žádnou produkční verzi ale **jednoduchý skript** postavený na komunikaci *uživatele* a *interpretu*.\n",
    "\n",
    "<br>\n",
    "\n",
    "Program bude umět:\n",
    "\n",
    "1. **Pozdravit** uživatele,\n",
    "2. **Vypsat** nabídku,\n",
    "3. Dovolit uživateli **zadat vstupní data**,\n",
    "4. **Zpracovat** vstupní data,\n",
    "5. **Vypsat** zpracovaná data."
   ]
  },
  {
   "cell_type": "markdown",
   "metadata": {},
   "source": [
    "### 1/6 Vstupní údaje\n",
    "\n",
    "---"
   ]
  },
  {
   "cell_type": "code",
   "execution_count": 84,
   "metadata": {},
   "outputs": [],
   "source": [
    "mesta = [\"Praha\", \"Viden\", \"Olomouc\", \"Svitavy\", \"Zlin\", \"Ostrava\"]\n",
    "ceny = (150, 200, 120, 120, 100, 180)\n",
    "cara = \"=\" * 35\n",
    "nabidka = \"\"\"1 - Praha   | 150\n",
    "2 - Viden   | 200\n",
    "3 - Olomouc | 120\n",
    "4 - Svitavy | 120\n",
    "5 - Zlin    | 100\n",
    "6 - Ostrava | 180\n",
    "\"\"\""
   ]
  },
  {
   "cell_type": "markdown",
   "metadata": {},
   "source": [
    "### 2/6 Pozdrav uživatele\n",
    "\n",
    "---\n",
    "\n",
    "Očekávaný výstup:\n",
    "```\n",
    "VITEJTE U NASI APLIKACE DESTINATIO!\n",
    "===================================\n",
    "```"
   ]
  },
  {
   "cell_type": "code",
   "execution_count": null,
   "metadata": {},
   "outputs": [],
   "source": [
    "# Zapiš pozdrav a odděl jej pomocnou proměnnou"
   ]
  },
  {
   "cell_type": "markdown",
   "metadata": {},
   "source": [
    "<details>\n",
    "  <summary>▶️  Klikni zde pro zobrazení řešení</summary>\n",
    "   \n",
    "```python\n",
    "cara = \"=\" * 35\n",
    "\n",
    "print(\"VITEJTE U NASI APLIKACE DESTINATIO!\")\n",
    "print(cara)\n",
    "```\n",
    "</details>"
   ]
  },
  {
   "cell_type": "markdown",
   "metadata": {},
   "source": [
    "### 3/6 Vypsání nabídky\n",
    "\n",
    "---\n",
    "\n",
    "Očekávaný výstup:\n",
    "```\n",
    "VITEJTE U NASI APLIKACE DESTINATIO!\n",
    "===================================\n",
    "1 - Praha   | 150\n",
    "2 - Viden   | 200\n",
    "3 - Olomouc | 120\n",
    "4 - Svitavy | 120\n",
    "5 - Zlin    | 100\n",
    "6 - Ostrava | 180\n",
    "\n",
    "```"
   ]
  },
  {
   "cell_type": "code",
   "execution_count": null,
   "metadata": {},
   "outputs": [],
   "source": [
    "# Vypiš nabídku cílových destinací a odděl ji pomocnou proměnnou"
   ]
  },
  {
   "cell_type": "markdown",
   "metadata": {},
   "source": [
    "<details>\n",
    "  <summary>▶️  Klikni zde pro zobrazení řešení</summary>\n",
    "   \n",
    "```python\n",
    "cara = \"=\" * 35\n",
    "nabidka = \"\"\"\n",
    "1 - Praha   | 150\n",
    "2 - Viden   | 200\n",
    "3 - Olomouc | 120\n",
    "4 - Svitavy | 120\n",
    "5 - Zlin    | 100\n",
    "6 - Ostrava | 180\n",
    "\"\"\"\n",
    "\n",
    "print(\"VITEJTE U NASI APLIKACE DESTINATIO!\")\n",
    "print(cara)\n",
    "print(nabidka)\n",
    "print(cara)\n",
    "```\n",
    "</details>"
   ]
  },
  {
   "cell_type": "markdown",
   "metadata": {},
   "source": [
    "### 4/6 Zadání vstupních dat od uživatele\n",
    "\n",
    "---\n",
    "\n",
    "Očekávaný výstup:\n",
    "```\n",
    "<predchozi_ukoly>\n",
    "===================================\n",
    "CISLO DESTINACE: 1\n",
    "JMENO: Matous\n",
    "PRIJMENI: Holinka\n",
    "EMAIL: matous@matous.cz\n",
    "===================================\n",
    "```"
   ]
  },
  {
   "cell_type": "code",
   "execution_count": null,
   "metadata": {},
   "outputs": [],
   "source": [
    "# Dovol uživateli zadat 'destinace', 'cele_jmeno', 'email', 'rok_narozeni' a doplň oddělovač"
   ]
  },
  {
   "cell_type": "markdown",
   "metadata": {},
   "source": [
    "**Opatrně!** nezapomeň na to, jaký **datový typ** používáš."
   ]
  },
  {
   "cell_type": "markdown",
   "metadata": {},
   "source": [
    "<details>\n",
    "  <summary>▶️  Klikni zde pro zobrazení řešení</summary>\n",
    "   \n",
    "```python\n",
    "cara = \"=\" * 35\n",
    "nabidka = \"\"\"\n",
    "1 - Praha   | 150\n",
    "2 - Viden   | 200\n",
    "3 - Olomouc | 120\n",
    "4 - Svitavy | 120\n",
    "5 - Zlin    | 100\n",
    "6 - Ostrava | 180\n",
    "\"\"\"\n",
    "\n",
    "print(\"VITEJTE U NASI APLIKACE DESTINATIO!\")\n",
    "print(cara)\n",
    "print(nabidka)\n",
    "print(cara)\n",
    "\n",
    "destinace = input(\"CISLO DESTINACE:\")\n",
    "jmeno = input(\"JMENO:\")\n",
    "prijmeni = input(\"PRIJMENI:\")\n",
    "email = input(\"EMAIL:\")\n",
    "print(cara)\n",
    "```\n",
    "</details>"
   ]
  },
  {
   "cell_type": "markdown",
   "metadata": {},
   "source": [
    "### 5/6 Zpracování dat\n",
    "\n",
    "---\n",
    "\n",
    "Očekávaný výstup:\n",
    "```\n",
    "<predchozi_ukoly>\n",
    "===================================\n",
    "CISLO DESTINACE: 2\n",
    "===================================\n",
    "Viden\n",
    "200\n",
    "===================================\n",
    "```"
   ]
  },
  {
   "cell_type": "code",
   "execution_count": 90,
   "metadata": {},
   "outputs": [
    {
     "name": "stdout",
     "output_type": "stream",
     "text": [
      "Help on method raw_input in module ipykernel.kernelbase:\n",
      "\n",
      "raw_input(prompt='') method of ipykernel.ipkernel.IPythonKernel instance\n",
      "    Forward raw_input to frontends\n",
      "    \n",
      "    Raises\n",
      "    ------\n",
      "    StdinNotImplementedError if active frontend doesn't support stdin.\n",
      "\n"
     ]
    }
   ],
   "source": [
    "help(input)"
   ]
  },
  {
   "cell_type": "code",
   "execution_count": 95,
   "metadata": {},
   "outputs": [
    {
     "name": "stdout",
     "output_type": "stream",
     "text": [
      "ZADEJ CISLO:4\n",
      "Svitavy\n"
     ]
    }
   ],
   "source": [
    "# Zkus propojit stávající datový typ \"mesta\" a \"destinace\"\n",
    "cislo = input(\"ZADEJ CISLO:\")\n",
    "\n",
    "# ošetříme ohlášení\n",
    "print(mesta[int(cislo) - 1])"
   ]
  },
  {
   "cell_type": "markdown",
   "metadata": {},
   "source": [
    "<details>\n",
    "  <summary>▶️  Klikni zde pro zobrazení řešení</summary>\n",
    "   \n",
    "```python\n",
    "mesta = [\"Praha\", \"Viden\", \"Olomouc\", \"Svitavy\", \"Zlin\", \"Ostrava\"]\n",
    "ceny = (150, 200, 120, 120, 100, 180)\n",
    "cara = \"=\" * 35\n",
    "nabidka = \"\"\"\n",
    "1 - Praha   | 150\n",
    "2 - Viden   | 200\n",
    "3 - Olomouc | 120\n",
    "4 - Svitavy | 120\n",
    "5 - Zlin    | 100\n",
    "6 - Ostrava | 180\n",
    "\"\"\"\n",
    "\n",
    "print(\"VITEJTE U NASI APLIKACE DESTINATIO!\")\n",
    "print(cara)\n",
    "print(nabidka)\n",
    "print(cara)\n",
    "\n",
    "destinace = input(\"CISLO DESTINACE:\")\n",
    "\n",
    "spravna_destinace = mesta[int(destinace) - 1]\n",
    "cena = ceny[int(destinace) - 1]\n",
    "print(cara)\n",
    "```\n",
    "</details>"
   ]
  },
  {
   "cell_type": "markdown",
   "metadata": {},
   "source": [
    "### 6/6 Výpis zpracovaných hodnot\n",
    "\n",
    "---\n",
    "\n",
    "Očekávaný výstup:\n",
    "```\n",
    "<predchozi_ukoly>\n",
    "===================================\n",
    "CISLO DESTINACE: 2\n",
    "JMENO: Matous\n",
    "PRIJMENI: Holinka\n",
    "EMAIL: matous@matous.cz\n",
    "===================================\n",
    "DEKUJI, Matous ZA OBJEDNAVKU,\n",
    "CIL. DESTINACE: Viden, CENA JIZDNEHO: 200,\n",
    "NA TVUJ MAIL matous@matous.cz JSME TI POSLALI LISTEK.\n",
    "===================================\n",
    "```"
   ]
  },
  {
   "cell_type": "code",
   "execution_count": null,
   "metadata": {},
   "outputs": [],
   "source": [
    "# Vypiš tyto informace pro objednávajícího uživatele\n",
    "# - Kdo si objednal,\n",
    "# - kam cestuje a za kolik,\n",
    "# - kam mu přijde lístek."
   ]
  },
  {
   "cell_type": "markdown",
   "metadata": {},
   "source": [
    "<details>\n",
    "  <summary>▶️  Klikni zde pro zobrazení řešení</summary>\n",
    "   \n",
    "```python\n",
    "mesta = [\"Praha\", \"Viden\", \"Olomouc\", \"Svitavy\", \"Zlin\", \"Ostrava\"]\n",
    "ceny = (150, 200, 120, 120, 100, 180)\n",
    "cara = \"=\" * 35\n",
    "nabidka = \"\"\"\n",
    "1 - Praha   | 150\n",
    "2 - Viden   | 200\n",
    "3 - Olomouc | 120\n",
    "4 - Svitavy | 120\n",
    "5 - Zlin    | 100\n",
    "6 - Ostrava | 180\n",
    "\"\"\"\n",
    "\n",
    "print(\"VITEJTE U NASI APLIKACE DESTINATIO!\")\n",
    "print(cara)\n",
    "print(nabidka)\n",
    "print(cara)\n",
    "\n",
    "destinace = input(\"CISLO DESTINACE:\")\n",
    "jmeno = input(\"JMENO:\")\n",
    "prijmeni = input(\"PRIJMENI:\")\n",
    "email = input(\"EMAIL:\")\n",
    "print(cara)\n",
    "\n",
    "spravna_destinace = mesta[int(destinace) - 1]\n",
    "cena = ceny[int(destinace) - 1]\n",
    "\n",
    "print(f\"\"\"DEKUJI, {jmeno} ZA OBJEDNAVKU,\n",
    "CIL. DESTINACE: {spravna_destinace}, CENA JIZDNEHO: {cena},\n",
    "NA TVUJ MAIL {email} JSME TI POSLALI LISTEK.\"\"\")\n",
    "```\n",
    "</details>"
   ]
  },
  {
   "cell_type": "markdown",
   "metadata": {},
   "source": [
    "\n",
    "---"
   ]
  }
 ],
 "metadata": {
  "kernelspec": {
   "display_name": "Python 3",
   "language": "python",
   "name": "python3"
  },
  "language_info": {
   "codemirror_mode": {
    "name": "ipython",
    "version": 3
   },
   "file_extension": ".py",
   "mimetype": "text/x-python",
   "name": "python",
   "nbconvert_exporter": "python",
   "pygments_lexer": "ipython3",
   "version": "3.8.6"
  }
 },
 "nbformat": 4,
 "nbformat_minor": 4
}
