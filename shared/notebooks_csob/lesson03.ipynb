{
 "cells": [
  {
   "cell_type": "markdown",
   "metadata": {},
   "source": [
    "## Úvod\n",
    "\n",
    "---\n",
    "\n",
    "1. [Další datové typy](##Další-datové-typy),\n",
    "2. [Datový typ dictionary](#Datový-typ-dict-(~dictionary)),\n",
    "3. [Datový typ set](#Datový-typ-set),\n",
    "4. [Datový typ frozenset](#Datový-typ-frozenset),\n",
    "5. [Domácí úkol](#Domácí-úkol)."
   ]
  },
  {
   "cell_type": "markdown",
   "metadata": {},
   "source": [
    "<img src=\"https://external-content.duckduckgo.com/iu/?u=https%3A%2F%2Ftse1.mm.bing.net%2Fth%3Fid%3DOIP.yLOyM3kOmMLeoCCP47fziQHaHa%26pid%3DApi&f=1\" width=\"200\" />\n",
    "\n",
    "\n",
    "## Další datové typy\n",
    "\n",
    "---\n",
    "\n",
    "Zatím znáš pouze několik vybraných **datových typů** (`int`, `float`, `str`, `list`, `tuple`, `bool`).\n",
    "\n",
    "Umožní ti jednoduše pracovat při různých situacích."
   ]
  },
  {
   "cell_type": "code",
   "execution_count": null,
   "metadata": {},
   "outputs": [],
   "source": [
    "udaje = (\"Matouš\", \"Holinka\", \"matous@holinka.com\", \"+420 777 666 555\")\n",
    "print(udaje[0])"
   ]
  },
  {
   "cell_type": "markdown",
   "metadata": {},
   "source": [
    "Co když budeš potřebovat přistupovat k údajům v sekvenci *lépe* nebo *exaktněji*, než **pomocí indexů**.\n",
    "\n",
    "Třeba má sekvence stovky indexů a v takovém případě se dříve upočítáš."
   ]
  },
  {
   "cell_type": "code",
   "execution_count": null,
   "metadata": {},
   "outputs": [],
   "source": [
    "emaily = [\n",
    "    'h.vybíralová@firma.cz', 'w.štrumlová@firma.cz', 'm.vybíralová@firma.cz',\n",
    "    's.bechyňka@firma.cz', 'z.urbánková@firma.cz', 'l.riečan@firma.cz',\n",
    "    'v.koudelová@firma.cz', 'f.vorlová@firma.cz', 'i.seleš@firma.cz',\n",
    "    'm.železný@firma.cz', 'p.niklesová@firma.cz', 'b.skok@firma.cz',\n",
    "    'j.šmíd@firma.cz', 'j.procházková@firma.cz', 'd.hlavatá@firma.cz'\n",
    "]"
   ]
  },
  {
   "cell_type": "markdown",
   "metadata": {},
   "source": [
    "Co když máš dlouhou sekvenci, kde potřebuješ pracovat pouze **s unikátními hodnotami**?"
   ]
  },
  {
   "cell_type": "markdown",
   "metadata": {},
   "source": [
    "Proto se dnes seznámíš s dalšími typy objektů, které se ti mohou hodit, pokud budeš pracovat s Pythonem."
   ]
  },
  {
   "cell_type": "markdown",
   "metadata": {},
   "source": [
    "<br>\n",
    "\n",
    "Nejprve tedy *datový typ*, který ti dovolí označovat hodnoty lépe než pomocí indexu."
   ]
  },
  {
   "cell_type": "markdown",
   "metadata": {},
   "source": [
    "<img src=\"https://external-content.duckduckgo.com/iu/?u=https%3A%2F%2Ftse1.mm.bing.net%2Fth%3Fid%3DOIP.6naTquItTnMaoNEZW-MPPQHaHa%26pid%3DApi&f=1\" width=\"200\" />\n",
    "\n",
    "\n",
    "## Datový typ `dict` (~dictionary)\n",
    "\n",
    "---"
   ]
  },
  {
   "cell_type": "markdown",
   "metadata": {},
   "source": [
    "*Dictionary* (v Pythonu repr. `dict`) nebo také **slovník**:\n",
    "* v jiných jazycích *hashtable*, *map*,\n",
    "* v Pythonu **standartní datový typ**,\n",
    "* tvořený páry `klíč: hodnota`,\n",
    "* **nemá indexy** jako `list` a `tuple`, hranatá závorka pracuje odlišně,\n",
    "* **nemají pořadí** (u menšího množství párů se to může zdát)."
   ]
  },
  {
   "cell_type": "code",
   "execution_count": null,
   "metadata": {},
   "outputs": [],
   "source": [
    "uzivatel = {\n",
    "    \"jmeno\": \"Matouš\",\n",
    "    \"vek\": 100,\n",
    "    \"rid_opravneni\": True,\n",
    "    \"volny_cas\": [\"klavír\", \"čtení\", \"Python!\"]\n",
    "}"
   ]
  },
  {
   "cell_type": "code",
   "execution_count": null,
   "metadata": {},
   "outputs": [],
   "source": [
    "print(type(uzivatel))"
   ]
  },
  {
   "cell_type": "markdown",
   "metadata": {},
   "source": [
    "* Podle **klíče** dohledávám (*~mapuji*) **hodnotu** (ne naopak),"
   ]
  },
  {
   "cell_type": "code",
   "execution_count": null,
   "metadata": {},
   "outputs": [],
   "source": [
    "print(uzivatel[\"jmeno\"])"
   ]
  },
  {
   "cell_type": "markdown",
   "metadata": {},
   "source": [
    "Hranaté závorky u datového typu `dict` neslouží k *indexování*, nýbrž jako prostor zadat **jméno** klíče."
   ]
  },
  {
   "cell_type": "code",
   "execution_count": null,
   "metadata": {},
   "outputs": [],
   "source": [
    "print(uzivatel[\"vek\"])"
   ]
  },
  {
   "cell_type": "code",
   "execution_count": null,
   "metadata": {},
   "outputs": [],
   "source": [
    "print(uzivatel[\"volny_cas\"])"
   ]
  },
  {
   "cell_type": "code",
   "execution_count": null,
   "metadata": {},
   "outputs": [],
   "source": [
    "print(uzivatel[\"rid_opravneni\"])"
   ]
  },
  {
   "cell_type": "markdown",
   "metadata": {},
   "source": [
    "Opatrně na *mapování*. Funguje pouze pokud vyhledáváš **hodnotu podle klíče**:"
   ]
  },
  {
   "cell_type": "code",
   "execution_count": null,
   "metadata": {},
   "outputs": [],
   "source": [
    "print(uzivatel[\"Matouš\"])"
   ]
  },
  {
   "cell_type": "markdown",
   "metadata": {},
   "source": [
    "* klíč musí být **unikátní** (`str`, `int`, `bool`, nelze použít `list`)(pomůcka s funkcí `hash`),\n",
    "* hodnota nemusí být unikátní (př. `str`, `int`, `list`, `tuple`, jiný `dict`)."
   ]
  },
  {
   "cell_type": "code",
   "execution_count": null,
   "metadata": {},
   "outputs": [],
   "source": [
    "uzivatel_2 = {[\"jmeno\", \"heslo\"]: [\"Matouš\", \"Holinka\"]}"
   ]
  },
  {
   "cell_type": "code",
   "execution_count": null,
   "metadata": {},
   "outputs": [],
   "source": [
    "print(hash([\"jmeno\", \"heslo\"]))"
   ]
  },
  {
   "cell_type": "markdown",
   "metadata": {},
   "source": [
    "Hašovat tedy můžeš jen nezměnitelné (*immutable*) datové typy:"
   ]
  },
  {
   "cell_type": "code",
   "execution_count": null,
   "metadata": {},
   "outputs": [],
   "source": [
    "print(hash((\"jmeno\", \"heslo\")))"
   ]
  },
  {
   "cell_type": "markdown",
   "metadata": {},
   "source": [
    "Funkci `hash` můžeš použít jako takového pomocníka na začátek.\n",
    "\n",
    "Pokud ti vrátí celé číslo, je zadaný datový typ *hashovatelný*.\n",
    "\n",
    "Tedy můžeš jej použít jako *klíč*."
   ]
  },
  {
   "cell_type": "markdown",
   "metadata": {},
   "source": [
    "### Nový slovník"
   ]
  },
  {
   "cell_type": "code",
   "execution_count": 1,
   "metadata": {},
   "outputs": [],
   "source": [
    "novy_uzivatel_1 = dict()\n",
    "novy_uzivatel_2 = {}"
   ]
  },
  {
   "cell_type": "code",
   "execution_count": 2,
   "metadata": {},
   "outputs": [
    {
     "name": "stdout",
     "output_type": "stream",
     "text": [
      "<class 'dict'>\n",
      "<class 'dict'>\n"
     ]
    }
   ],
   "source": [
    "print(type(novy_uzivatel_1))\n",
    "print(type(novy_uzivatel_2))"
   ]
  },
  {
   "cell_type": "code",
   "execution_count": 3,
   "metadata": {},
   "outputs": [
    {
     "name": "stdout",
     "output_type": "stream",
     "text": [
      "140038080000576\n",
      "140038079997824\n"
     ]
    }
   ],
   "source": [
    "print(id(novy_uzivatel_1))  # ?\n",
    "print(id(novy_uzivatel_2))"
   ]
  },
  {
   "cell_type": "markdown",
   "metadata": {},
   "source": [
    "### Přidávání dat"
   ]
  },
  {
   "cell_type": "code",
   "execution_count": 10,
   "metadata": {},
   "outputs": [],
   "source": [
    "novy_uzivatel_1[\"jmeno\"] = \"Petr\""
   ]
  },
  {
   "cell_type": "code",
   "execution_count": 11,
   "metadata": {},
   "outputs": [
    {
     "name": "stdout",
     "output_type": "stream",
     "text": [
      "{'jmeno': 'Petr', 'rid_opravneni': True, 'hobby': ('fotbal', 'hry', 'pratele'), 'vek': 22}\n"
     ]
    }
   ],
   "source": [
    "print(novy_uzivatel_1)"
   ]
  },
  {
   "cell_type": "code",
   "execution_count": 12,
   "metadata": {},
   "outputs": [],
   "source": [
    "novy_uzivatel_1[\"rid_opravneni\"] = True\n",
    "novy_uzivatel_1[\"hobby\"] = (\"fotbal\", \"hry\", \"pratele\")\n",
    "novy_uzivatel_1[\"vek\"] = 22"
   ]
  },
  {
   "cell_type": "code",
   "execution_count": 13,
   "metadata": {},
   "outputs": [
    {
     "name": "stdout",
     "output_type": "stream",
     "text": [
      "{'jmeno': 'Petr', 'rid_opravneni': True, 'hobby': ('fotbal', 'hry', 'pratele'), 'vek': 22}\n"
     ]
    }
   ],
   "source": [
    "print(novy_uzivatel_1)"
   ]
  },
  {
   "cell_type": "markdown",
   "metadata": {},
   "source": [
    "Pokud vložíš **jinou hodnotu** do **existujícího klíče**, *přepíšeš* původní hodnotu:"
   ]
  },
  {
   "cell_type": "code",
   "execution_count": 14,
   "metadata": {},
   "outputs": [],
   "source": [
    "novy_uzivatel_1[\"jmeno\"] = \"Marek\""
   ]
  },
  {
   "cell_type": "code",
   "execution_count": 15,
   "metadata": {},
   "outputs": [
    {
     "name": "stdout",
     "output_type": "stream",
     "text": [
      "{'jmeno': 'Marek', 'rid_opravneni': True, 'hobby': ('fotbal', 'hry', 'pratele'), 'vek': 22}\n"
     ]
    }
   ],
   "source": [
    "print(novy_uzivatel_1)"
   ]
  },
  {
   "cell_type": "markdown",
   "metadata": {},
   "source": [
    "### Nestované hodnoty, získávání hodnot"
   ]
  },
  {
   "cell_type": "code",
   "execution_count": 16,
   "metadata": {},
   "outputs": [],
   "source": [
    "uzivatel_3 = {\n",
    "    \"jmeno\": \"Lukáš\",\n",
    "    \"prijmeni\": \"Holinka\",\n",
    "    \"vek\": 28,\n",
    "    \"hobby\": (\"fotbal\", \"hry\", \"pratele\"),\n",
    "    \"kontakt\": {\n",
    "        \"telefon\": \"000 123 456 789\",\n",
    "        \"email\": \"lukas@gmail.com\",\n",
    "        \"web\": \"www.lukas.cz\"\n",
    "    }\n",
    "}"
   ]
  },
  {
   "cell_type": "code",
   "execution_count": null,
   "metadata": {},
   "outputs": [],
   "source": [
    "# Vyber emailovou adresu na Lukáše"
   ]
  },
  {
   "cell_type": "markdown",
   "metadata": {},
   "source": [
    "### Metody slovníků"
   ]
  },
  {
   "cell_type": "markdown",
   "metadata": {},
   "source": [
    "##### Vytvoř kopii mého slovníku"
   ]
  },
  {
   "cell_type": "code",
   "execution_count": 17,
   "metadata": {},
   "outputs": [],
   "source": [
    "dalsi_uzivatel = uzivatel_3.copy()"
   ]
  },
  {
   "cell_type": "code",
   "execution_count": 18,
   "metadata": {
    "scrolled": true
   },
   "outputs": [
    {
     "name": "stdout",
     "output_type": "stream",
     "text": [
      "140038080255616\n",
      "140038080256128\n"
     ]
    }
   ],
   "source": [
    "print(id(uzivatel_3))\n",
    "print(id(dalsi_uzivatel))"
   ]
  },
  {
   "cell_type": "markdown",
   "metadata": {},
   "source": [
    "##### Odstraň klíč v mé kopii"
   ]
  },
  {
   "cell_type": "code",
   "execution_count": 19,
   "metadata": {},
   "outputs": [],
   "source": [
    "vek = dalsi_uzivatel.pop(\"vek\")"
   ]
  },
  {
   "cell_type": "code",
   "execution_count": 21,
   "metadata": {},
   "outputs": [
    {
     "name": "stdout",
     "output_type": "stream",
     "text": [
      "28\n",
      "{'jmeno': 'Lukáš', 'prijmeni': 'Holinka', 'vek': 28, 'hobby': ('fotbal', 'hry', 'pratele'), 'kontakt': {'telefon': '000 123 456 789', 'email': 'lukas@gmail.com', 'web': 'www.lukas.cz'}}\n"
     ]
    }
   ],
   "source": [
    "print(vek)\n",
    "print(uzivatel_3)"
   ]
  },
  {
   "cell_type": "code",
   "execution_count": 22,
   "metadata": {},
   "outputs": [
    {
     "name": "stdout",
     "output_type": "stream",
     "text": [
      "{'jmeno': 'Lukáš', 'prijmeni': 'Holinka', 'hobby': ('fotbal', 'hry', 'pratele'), 'kontakt': {'telefon': '000 123 456 789', 'email': 'lukas@gmail.com', 'web': 'www.lukas.cz'}}\n"
     ]
    }
   ],
   "source": [
    "print(dalsi_uzivatel)"
   ]
  },
  {
   "cell_type": "markdown",
   "metadata": {},
   "source": [
    "##### Zobraz mi klíče, hodnoty, nebo vše"
   ]
  },
  {
   "cell_type": "code",
   "execution_count": 24,
   "metadata": {},
   "outputs": [
    {
     "name": "stdout",
     "output_type": "stream",
     "text": [
      "dict_keys(['jmeno', 'prijmeni', 'vek', 'hobby', 'kontakt'])\n"
     ]
    }
   ],
   "source": [
    "print(uzivatel_3.keys())"
   ]
  },
  {
   "cell_type": "code",
   "execution_count": 25,
   "metadata": {},
   "outputs": [
    {
     "name": "stdout",
     "output_type": "stream",
     "text": [
      "dict_values(['Lukáš', 'Holinka', 28, ('fotbal', 'hry', 'pratele'), {'telefon': '000 123 456 789', 'email': 'lukas@gmail.com', 'web': 'www.lukas.cz'}])\n"
     ]
    }
   ],
   "source": [
    "print(uzivatel_3.values())"
   ]
  },
  {
   "cell_type": "code",
   "execution_count": 26,
   "metadata": {},
   "outputs": [
    {
     "name": "stdout",
     "output_type": "stream",
     "text": [
      "dict_items([('jmeno', 'Lukáš'), ('prijmeni', 'Holinka'), ('vek', 28), ('hobby', ('fotbal', 'hry', 'pratele')), ('kontakt', {'telefon': '000 123 456 789', 'email': 'lukas@gmail.com', 'web': 'www.lukas.cz'})])\n"
     ]
    }
   ],
   "source": [
    "print(uzivatel_3.items())"
   ]
  },
  {
   "cell_type": "markdown",
   "metadata": {},
   "source": [
    "Opatrně, jde o *speciální datové typy*:"
   ]
  },
  {
   "cell_type": "code",
   "execution_count": 27,
   "metadata": {},
   "outputs": [
    {
     "name": "stdout",
     "output_type": "stream",
     "text": [
      "<class 'dict_keys'>\n"
     ]
    }
   ],
   "source": [
    "print(type(uzivatel_3.keys()))"
   ]
  },
  {
   "cell_type": "markdown",
   "metadata": {},
   "source": [
    "... které **nelze standardně indexovat**:"
   ]
  },
  {
   "cell_type": "code",
   "execution_count": 28,
   "metadata": {},
   "outputs": [],
   "source": [
    "spec_objekt = uzivatel_3.keys()"
   ]
  },
  {
   "cell_type": "code",
   "execution_count": 29,
   "metadata": {},
   "outputs": [
    {
     "ename": "TypeError",
     "evalue": "'dict_keys' object is not subscriptable",
     "output_type": "error",
     "traceback": [
      "\u001b[0;31m---------------------------------------------------------------------------\u001b[0m",
      "\u001b[0;31mTypeError\u001b[0m                                 Traceback (most recent call last)",
      "\u001b[0;32m<ipython-input-29-a8a99ae62b85>\u001b[0m in \u001b[0;36m<module>\u001b[0;34m\u001b[0m\n\u001b[0;32m----> 1\u001b[0;31m \u001b[0mprint\u001b[0m\u001b[0;34m(\u001b[0m\u001b[0muzivatel_3\u001b[0m\u001b[0;34m.\u001b[0m\u001b[0mkeys\u001b[0m\u001b[0;34m(\u001b[0m\u001b[0;34m)\u001b[0m\u001b[0;34m[\u001b[0m\u001b[0;36m0\u001b[0m\u001b[0;34m]\u001b[0m\u001b[0;34m)\u001b[0m\u001b[0;34m\u001b[0m\u001b[0;34m\u001b[0m\u001b[0m\n\u001b[0m",
      "\u001b[0;31mTypeError\u001b[0m: 'dict_keys' object is not subscriptable"
     ]
    }
   ],
   "source": [
    "print(uzivatel_3.keys()[0])"
   ]
  },
  {
   "cell_type": "code",
   "execution_count": 30,
   "metadata": {},
   "outputs": [],
   "source": [
    "prevedeny_tupl = tuple(spec_objekt)"
   ]
  },
  {
   "cell_type": "code",
   "execution_count": 31,
   "metadata": {},
   "outputs": [
    {
     "data": {
      "text/plain": [
       "'jmeno'"
      ]
     },
     "execution_count": 31,
     "metadata": {},
     "output_type": "execute_result"
    }
   ],
   "source": [
    "prevedeny_tupl[0]"
   ]
  },
  {
   "cell_type": "markdown",
   "metadata": {},
   "source": [
    "##### Vrať mi hodnotu pro neexistující klíč"
   ]
  },
  {
   "cell_type": "code",
   "execution_count": 32,
   "metadata": {},
   "outputs": [
    {
     "name": "stdout",
     "output_type": "stream",
     "text": [
      "{'jmeno': 'Lukáš', 'prijmeni': 'Holinka', 'hobby': ('fotbal', 'hry', 'pratele'), 'kontakt': {'telefon': '000 123 456 789', 'email': 'lukas@gmail.com', 'web': 'www.lukas.cz'}}\n"
     ]
    }
   ],
   "source": [
    "print(dalsi_uzivatel)"
   ]
  },
  {
   "cell_type": "code",
   "execution_count": 34,
   "metadata": {},
   "outputs": [
    {
     "name": "stdout",
     "output_type": "stream",
     "text": [
      "Holinka\n"
     ]
    }
   ],
   "source": [
    "print(dalsi_uzivatel[\"prijmeni\"])"
   ]
  },
  {
   "cell_type": "code",
   "execution_count": 35,
   "metadata": {},
   "outputs": [
    {
     "ename": "KeyError",
     "evalue": "'pohlavi'",
     "output_type": "error",
     "traceback": [
      "\u001b[0;31m---------------------------------------------------------------------------\u001b[0m",
      "\u001b[0;31mKeyError\u001b[0m                                  Traceback (most recent call last)",
      "\u001b[0;32m<ipython-input-35-8d408ee0a042>\u001b[0m in \u001b[0;36m<module>\u001b[0;34m\u001b[0m\n\u001b[0;32m----> 1\u001b[0;31m \u001b[0mprint\u001b[0m\u001b[0;34m(\u001b[0m\u001b[0mdalsi_uzivatel\u001b[0m\u001b[0;34m[\u001b[0m\u001b[0;34m\"pohlavi\"\u001b[0m\u001b[0;34m]\u001b[0m\u001b[0;34m)\u001b[0m\u001b[0;34m\u001b[0m\u001b[0;34m\u001b[0m\u001b[0m\n\u001b[0m",
      "\u001b[0;31mKeyError\u001b[0m: 'pohlavi'"
     ]
    }
   ],
   "source": [
    "print(dalsi_uzivatel[\"pohlavi\"])"
   ]
  },
  {
   "cell_type": "markdown",
   "metadata": {},
   "source": [
    "Velmi často se dostaneš do situace, kde nemůžeš jistě vědět, jestli **je hledaný klíč ve slovníku**.\n",
    "\n",
    "Pokud není, skončí tvůj skript vyjímkou `KeyError`."
   ]
  },
  {
   "cell_type": "code",
   "execution_count": 36,
   "metadata": {},
   "outputs": [
    {
     "name": "stdout",
     "output_type": "stream",
     "text": [
      "Holinka\n"
     ]
    }
   ],
   "source": [
    "print(dalsi_uzivatel.get(\"prijmeni\"))"
   ]
  },
  {
   "cell_type": "code",
   "execution_count": 39,
   "metadata": {},
   "outputs": [
    {
     "name": "stdout",
     "output_type": "stream",
     "text": [
      "None\n"
     ]
    }
   ],
   "source": [
    "print(dalsi_uzivatel.get(\"pohlavi\"))"
   ]
  },
  {
   "cell_type": "code",
   "execution_count": 40,
   "metadata": {},
   "outputs": [
    {
     "name": "stdout",
     "output_type": "stream",
     "text": [
      "Klíč neexistuje\n"
     ]
    }
   ],
   "source": [
    "print(dalsi_uzivatel.get(\"pohlavi\", \"Klíč neexistuje\"))"
   ]
  },
  {
   "cell_type": "markdown",
   "metadata": {},
   "source": [
    "##### Odstraň všechno ze slovníku"
   ]
  },
  {
   "cell_type": "code",
   "execution_count": 41,
   "metadata": {},
   "outputs": [
    {
     "name": "stdout",
     "output_type": "stream",
     "text": [
      "{}\n",
      "{'jmeno': 'Lukáš', 'prijmeni': 'Holinka', 'hobby': ('fotbal', 'hry', 'pratele'), 'kontakt': {'telefon': '000 123 456 789', 'email': 'lukas@gmail.com', 'web': 'www.lukas.cz'}}\n"
     ]
    }
   ],
   "source": [
    "uzivatel_3.clear()\n",
    "print(uzivatel_3)\n",
    "print(dalsi_uzivatel)"
   ]
  },
  {
   "cell_type": "markdown",
   "metadata": {},
   "source": [
    "<img src=\"https://external-content.duckduckgo.com/iu/?u=https%3A%2F%2Ftse1.mm.bing.net%2Fth%3Fid%3DOIP.jcR4ASfryZwpiwc6WTRvyQHaHa%26pid%3DApi&f=1&ipt=b7026ac0b680ab9052a70cb4b2057fb60daf6c6e73133cf43c074210414992c8&ipo=images\" width=\"200\" />\n",
    "\n",
    "## Datový typ `set`\n",
    "\n",
    "---"
   ]
  },
  {
   "cell_type": "markdown",
   "metadata": {},
   "source": [
    "*Set* nebo také *množina*:\n",
    "* v Pythonu **standartní datový typ**,\n",
    "* tvořený **unikatními hodnotami**,\n",
    "* nepracuje s jednotlivými údaji ale s daty jako celkem,\n",
    "* hodnoty mohou být jak `str`, tak číselné hodnoty,\n",
    "* **nemá pořadí** (podobné slovníkům),"
   ]
  },
  {
   "cell_type": "code",
   "execution_count": 42,
   "metadata": {},
   "outputs": [],
   "source": [
    "zensky_rod = {\"žena\", \"růže\", \"píseň\", \"kost\"}"
   ]
  },
  {
   "cell_type": "code",
   "execution_count": 43,
   "metadata": {},
   "outputs": [
    {
     "name": "stdout",
     "output_type": "stream",
     "text": [
      "<class 'set'>\n"
     ]
    }
   ],
   "source": [
    "print(type(zensky_rod))"
   ]
  },
  {
   "cell_type": "markdown",
   "metadata": {},
   "source": [
    "* **klíčové operace** setů:\n",
    "  - sjednocení `|`,\n",
    "  - průnik `&`,\n",
    "  - rozdíl `-`,\n",
    "  - symetrický rozdíl `^`.\n",
    "\n",
    "Některé *operátory* jsou stejné symboly jako *bitwise* operátory."
   ]
  },
  {
   "cell_type": "code",
   "execution_count": null,
   "metadata": {},
   "outputs": [],
   "source": [
    "zensky_rod = {\"žena\", \"růže\", \"píseň\", \"kost\"}"
   ]
  },
  {
   "cell_type": "markdown",
   "metadata": {},
   "source": [
    "### Nový set"
   ]
  },
  {
   "cell_type": "code",
   "execution_count": 1,
   "metadata": {},
   "outputs": [],
   "source": [
    "muj_novy_set = set()\n",
    "muj_druhy_set = {}"
   ]
  },
  {
   "cell_type": "code",
   "execution_count": 2,
   "metadata": {},
   "outputs": [
    {
     "name": "stdout",
     "output_type": "stream",
     "text": [
      "<class 'set'>\n",
      "<class 'dict'>\n"
     ]
    }
   ],
   "source": [
    "print(type(muj_novy_set))\n",
    "print(type(muj_druhy_set))"
   ]
  },
  {
   "cell_type": "code",
   "execution_count": 3,
   "metadata": {},
   "outputs": [],
   "source": [
    "suda_cisla = {2, 4, 6, 8, 0}\n",
    "pismena = {\"a\", \"b\", \"c\", \"d\"}"
   ]
  },
  {
   "cell_type": "code",
   "execution_count": 4,
   "metadata": {},
   "outputs": [
    {
     "name": "stdout",
     "output_type": "stream",
     "text": [
      "<class 'set'>\n",
      "<class 'set'>\n"
     ]
    }
   ],
   "source": [
    "print(type(suda_cisla))\n",
    "print(type(pismena))"
   ]
  },
  {
   "cell_type": "code",
   "execution_count": 31,
   "metadata": {},
   "outputs": [
    {
     "name": "stdout",
     "output_type": "stream",
     "text": [
      "{'d', 'f', 'b', 'e', 'c', 'a'}\n"
     ]
    }
   ],
   "source": [
    "pismena = set(\"abcdef\")\n",
    "print(pismena)"
   ]
  },
  {
   "cell_type": "code",
   "execution_count": 32,
   "metadata": {},
   "outputs": [
    {
     "name": "stdout",
     "output_type": "stream",
     "text": [
      "{'h', 'g', 'm', 'j', 'k', 'l', 'i'}\n"
     ]
    }
   ],
   "source": [
    "dalsi_pismena = set((\"g\", \"h\", \"i\", \"j\", \"k\", \"l\", \"m\"))\n",
    "print(dalsi_pismena)"
   ]
  },
  {
   "cell_type": "markdown",
   "metadata": {},
   "source": [
    "### Setové operace"
   ]
  },
  {
   "cell_type": "code",
   "execution_count": 5,
   "metadata": {},
   "outputs": [],
   "source": [
    "muj_set_A = {\"žena\", \"růže\", \"píseň\", \"kost\", \"Lucie\", \"Matouš\"}\n",
    "muj_set_B = {\"žena\", \"růže\", \"píseň\", \"kost\", \"Lukáš\"}"
   ]
  },
  {
   "cell_type": "markdown",
   "metadata": {},
   "source": [
    "<img src=\"https://i.imgur.com/yhV0pvW.png\" width=\"800\">"
   ]
  },
  {
   "cell_type": "markdown",
   "metadata": {},
   "source": [
    "##### Sjednocení ~ union"
   ]
  },
  {
   "cell_type": "code",
   "execution_count": 7,
   "metadata": {},
   "outputs": [
    {
     "name": "stdout",
     "output_type": "stream",
     "text": [
      "{'kost', 'Matouš', 'píseň', 'Lucie', 'Lukáš', 'růže', 'žena'}\n",
      "{'kost', 'Matouš', 'píseň', 'Lucie', 'Lukáš', 'růže', 'žena'}\n"
     ]
    }
   ],
   "source": [
    "print(muj_set_B.union(muj_set_A))\n",
    "print(muj_set_A | muj_set_B)"
   ]
  },
  {
   "cell_type": "markdown",
   "metadata": {},
   "source": [
    "<img src=\"https://i.imgur.com/Qgvr0Jz.png\" width=\"800\">"
   ]
  },
  {
   "cell_type": "markdown",
   "metadata": {},
   "source": [
    "##### Průnik ~ rozdíl"
   ]
  },
  {
   "cell_type": "code",
   "execution_count": 9,
   "metadata": {
    "scrolled": true
   },
   "outputs": [
    {
     "name": "stdout",
     "output_type": "stream",
     "text": [
      "{'kost', 'píseň', 'růže', 'žena'}\n",
      "{'kost', 'píseň', 'růže', 'žena'}\n"
     ]
    }
   ],
   "source": [
    "print(muj_set_B.intersection(muj_set_A))\n",
    "print(muj_set_A & muj_set_B)"
   ]
  },
  {
   "cell_type": "markdown",
   "metadata": {},
   "source": [
    "<img src=\"https://i.imgur.com/MYKRUqb.png\" width=\"800\">"
   ]
  },
  {
   "cell_type": "markdown",
   "metadata": {},
   "source": [
    "##### Rozdíl ~ difference"
   ]
  },
  {
   "cell_type": "code",
   "execution_count": 10,
   "metadata": {
    "scrolled": true
   },
   "outputs": [
    {
     "name": "stdout",
     "output_type": "stream",
     "text": [
      "{'Lukáš'}\n",
      "{'Lukáš'}\n"
     ]
    }
   ],
   "source": [
    "print(muj_set_B.difference(muj_set_A))\n",
    "print(muj_set_B - muj_set_A)"
   ]
  },
  {
   "cell_type": "markdown",
   "metadata": {},
   "source": [
    "<img src=\"https://i.imgur.com/frukWiG.png\" width=\"800\">"
   ]
  },
  {
   "cell_type": "code",
   "execution_count": 14,
   "metadata": {
    "scrolled": true
   },
   "outputs": [
    {
     "name": "stdout",
     "output_type": "stream",
     "text": [
      "{'Lucie', 'Matouš'}\n",
      "{'Lucie', 'Matouš'}\n"
     ]
    }
   ],
   "source": [
    "print(muj_set_A.difference(muj_set_B))\n",
    "print(muj_set_A - muj_set_B)"
   ]
  },
  {
   "cell_type": "markdown",
   "metadata": {},
   "source": [
    "<img src=\"https://i.imgur.com/D3uPteB.png\" width=\"800\">"
   ]
  },
  {
   "cell_type": "markdown",
   "metadata": {},
   "source": [
    "##### Symetrický rozdíl ~ symmetric difference"
   ]
  },
  {
   "cell_type": "code",
   "execution_count": null,
   "metadata": {},
   "outputs": [],
   "source": [
    "print(muj_set_B.symmetric_difference(muj_set_A))\n",
    "print(muj_set_A ^ muj_set_B)"
   ]
  },
  {
   "cell_type": "markdown",
   "metadata": {},
   "source": [
    "<img src=\"https://i.imgur.com/7XxiV1y.png\" width=\"800\">"
   ]
  },
  {
   "cell_type": "markdown",
   "metadata": {},
   "source": [
    "### Manipulace s hodnotami, metody setů"
   ]
  },
  {
   "cell_type": "markdown",
   "metadata": {},
   "source": [
    "Veškeré další úpravy setů probíhají pomocí **metod setů**.\n",
    "\n",
    "Vytvořím si kopii ze orig. setu `muj_set_1`:"
   ]
  },
  {
   "cell_type": "code",
   "execution_count": 15,
   "metadata": {},
   "outputs": [],
   "source": [
    "muj_set_1 = {\"žena\", \"růže\", \"píseň\", \"kost\"}\n",
    "muj_set_2 = muj_set_1.copy()"
   ]
  },
  {
   "cell_type": "code",
   "execution_count": 16,
   "metadata": {},
   "outputs": [
    {
     "name": "stdout",
     "output_type": "stream",
     "text": [
      "140468180771552\n",
      "140468180773344\n"
     ]
    }
   ],
   "source": [
    "print(id(muj_set_1))\n",
    "print(id(muj_set_2))"
   ]
  },
  {
   "cell_type": "code",
   "execution_count": 17,
   "metadata": {},
   "outputs": [],
   "source": [
    "muj_set_2.add(\"Matouš\")\n",
    "muj_set_2.add(\"Lukáš\")"
   ]
  },
  {
   "cell_type": "code",
   "execution_count": 18,
   "metadata": {},
   "outputs": [
    {
     "name": "stdout",
     "output_type": "stream",
     "text": [
      "{'kost', 'žena', 'píseň', 'Lukáš', 'růže', 'Matouš'}\n"
     ]
    }
   ],
   "source": [
    "print(muj_set_2)"
   ]
  },
  {
   "cell_type": "code",
   "execution_count": 19,
   "metadata": {},
   "outputs": [],
   "source": [
    "muj_set_2.add(\"Matouš\")"
   ]
  },
  {
   "cell_type": "code",
   "execution_count": 20,
   "metadata": {},
   "outputs": [
    {
     "name": "stdout",
     "output_type": "stream",
     "text": [
      "{'kost', 'žena', 'píseň', 'Lukáš', 'růže', 'Matouš'}\n"
     ]
    }
   ],
   "source": [
    "print(muj_set_2)"
   ]
  },
  {
   "cell_type": "code",
   "execution_count": 21,
   "metadata": {},
   "outputs": [],
   "source": [
    "muj_set_2.discard(\"Lukáš\")"
   ]
  },
  {
   "cell_type": "code",
   "execution_count": 22,
   "metadata": {},
   "outputs": [
    {
     "name": "stdout",
     "output_type": "stream",
     "text": [
      "{'kost', 'žena', 'píseň', 'růže', 'Matouš'}\n"
     ]
    }
   ],
   "source": [
    "print(muj_set_2)"
   ]
  },
  {
   "cell_type": "markdown",
   "metadata": {},
   "source": [
    "##### Obsahují sety pouze odlišné hodnoty"
   ]
  },
  {
   "cell_type": "code",
   "execution_count": 24,
   "metadata": {},
   "outputs": [
    {
     "name": "stdout",
     "output_type": "stream",
     "text": [
      "{'kost', 'píseň', 'růže', 'žena'}\n",
      "{'kost', 'žena', 'píseň', 'růže', 'Matouš'}\n"
     ]
    }
   ],
   "source": [
    "print(muj_set_1)\n",
    "print(muj_set_2)"
   ]
  },
  {
   "cell_type": "code",
   "execution_count": 23,
   "metadata": {},
   "outputs": [
    {
     "name": "stdout",
     "output_type": "stream",
     "text": [
      "False\n"
     ]
    }
   ],
   "source": [
    "print(muj_set_2.isdisjoint(muj_set_1))"
   ]
  },
  {
   "cell_type": "code",
   "execution_count": 27,
   "metadata": {},
   "outputs": [],
   "source": [
    "pouze_rozdilne = muj_set_2 - muj_set_1"
   ]
  },
  {
   "cell_type": "code",
   "execution_count": 28,
   "metadata": {},
   "outputs": [
    {
     "name": "stdout",
     "output_type": "stream",
     "text": [
      "{'Matouš'}\n"
     ]
    }
   ],
   "source": [
    "print(pouze_rozdilne)"
   ]
  },
  {
   "cell_type": "code",
   "execution_count": 29,
   "metadata": {},
   "outputs": [
    {
     "name": "stdout",
     "output_type": "stream",
     "text": [
      "True\n"
     ]
    }
   ],
   "source": [
    "print(muj_set_1.isdisjoint(pouze_rozdilne))"
   ]
  },
  {
   "cell_type": "markdown",
   "metadata": {},
   "source": [
    "<img src=\"https://external-content.duckduckgo.com/iu/?u=https%3A%2F%2Ftse1.mm.bing.net%2Fth%3Fid%3DOIP.-i3k3_zQEjLhFLuMGEW5NAHaHZ%26pid%3DApi&f=1&ipt=1cd115c93942aa169dd40aa5a11f192af6a24b0975c0797ca2dc7bc0ab5b4a56&ipo=images\" width=\"200\" />\n",
    "\n",
    "## Datový typ `frozenset`\n",
    "\n",
    "---"
   ]
  },
  {
   "cell_type": "markdown",
   "metadata": {},
   "source": [
    "*Frozenset* a *set* jsou obdobná dvojice jako `list` a `tuple`:\n",
    "* v Pythonu je **standartní datový typ**,\n",
    "* tvořený **unikatními hodnotami**,\n",
    "* nepracuje s jednotlivými údaji ale s daty jako celkem,\n",
    "* hodnoty mohou být jak `str`, tak číselné hodnoty,\n",
    "* **nemá pořadí** (podobné slovníkům),\n",
    "* jakmile jej vytvoříš, **nemůžeš jej změnit**."
   ]
  },
  {
   "cell_type": "code",
   "execution_count": 35,
   "metadata": {},
   "outputs": [],
   "source": [
    "nezm_fset = frozenset(('růže', 'žena', 'Jan', 'píseň', 'kost'))"
   ]
  },
  {
   "cell_type": "code",
   "execution_count": 36,
   "metadata": {},
   "outputs": [
    {
     "name": "stdout",
     "output_type": "stream",
     "text": [
      "<class 'frozenset'>\n"
     ]
    }
   ],
   "source": [
    "print(type(nezm_set))"
   ]
  },
  {
   "cell_type": "markdown",
   "metadata": {},
   "source": [
    "Stejně jako datový typ `tuple` bývá i `frozenset` opomíjený, ačkoliv nabízí tyto výhody:\n",
    "* Frozensety potřebují méně paměti,\n",
    "* hodnoty není možné změnit ani omylem,\n",
    "* indikátor pro ostatní programátory."
   ]
  },
  {
   "cell_type": "markdown",
   "metadata": {},
   "source": [
    "### Práce s frozensety"
   ]
  },
  {
   "cell_type": "code",
   "execution_count": 46,
   "metadata": {},
   "outputs": [],
   "source": [
    "druhy_nezm_fset = frozenset(\"abcde\")"
   ]
  },
  {
   "cell_type": "code",
   "execution_count": 47,
   "metadata": {},
   "outputs": [
    {
     "name": "stdout",
     "output_type": "stream",
     "text": [
      "<class 'frozenset'>\n",
      "frozenset({'d', 'b', 'e', 'c', 'a'})\n"
     ]
    }
   ],
   "source": [
    "print(type(druhy_nezm_set))\n",
    "print(druhy_nezm_set)"
   ]
  },
  {
   "cell_type": "code",
   "execution_count": null,
   "metadata": {},
   "outputs": [],
   "source": []
  },
  {
   "cell_type": "code",
   "execution_count": 48,
   "metadata": {},
   "outputs": [
    {
     "ename": "AttributeError",
     "evalue": "'frozenset' object has no attribute 'add'",
     "output_type": "error",
     "traceback": [
      "\u001b[0;31m---------------------------------------------------------------------------\u001b[0m",
      "\u001b[0;31mAttributeError\u001b[0m                            Traceback (most recent call last)",
      "\u001b[0;32m<ipython-input-48-cd54d8534cc0>\u001b[0m in \u001b[0;36m<module>\u001b[0;34m\u001b[0m\n\u001b[0;32m----> 1\u001b[0;31m \u001b[0mdruhy_nezm_fset\u001b[0m\u001b[0;34m.\u001b[0m\u001b[0madd\u001b[0m\u001b[0;34m(\u001b[0m\u001b[0;34m\"f\"\u001b[0m\u001b[0;34m)\u001b[0m\u001b[0;34m\u001b[0m\u001b[0;34m\u001b[0m\u001b[0m\n\u001b[0m",
      "\u001b[0;31mAttributeError\u001b[0m: 'frozenset' object has no attribute 'add'"
     ]
    }
   ],
   "source": [
    "druhy_nezm_fset.add(\"f\")"
   ]
  },
  {
   "cell_type": "code",
   "execution_count": 49,
   "metadata": {},
   "outputs": [
    {
     "ename": "AttributeError",
     "evalue": "'frozenset' object has no attribute 'discard'",
     "output_type": "error",
     "traceback": [
      "\u001b[0;31m---------------------------------------------------------------------------\u001b[0m",
      "\u001b[0;31mAttributeError\u001b[0m                            Traceback (most recent call last)",
      "\u001b[0;32m<ipython-input-49-f89fb40f47b6>\u001b[0m in \u001b[0;36m<module>\u001b[0;34m\u001b[0m\n\u001b[0;32m----> 1\u001b[0;31m \u001b[0mdruhy_nezm_fset\u001b[0m\u001b[0;34m.\u001b[0m\u001b[0mdiscard\u001b[0m\u001b[0;34m(\u001b[0m\u001b[0;34m\"a\"\u001b[0m\u001b[0;34m)\u001b[0m\u001b[0;34m\u001b[0m\u001b[0;34m\u001b[0m\u001b[0m\n\u001b[0m",
      "\u001b[0;31mAttributeError\u001b[0m: 'frozenset' object has no attribute 'discard'"
     ]
    }
   ],
   "source": [
    "druhy_nezm_fset.discard(\"a\")"
   ]
  },
  {
   "cell_type": "code",
   "execution_count": 50,
   "metadata": {},
   "outputs": [],
   "source": [
    "treti_nezm_fset = druhy_nezm_fset.copy()"
   ]
  },
  {
   "cell_type": "code",
   "execution_count": 51,
   "metadata": {},
   "outputs": [
    {
     "name": "stdout",
     "output_type": "stream",
     "text": [
      "<class 'frozenset'>\n",
      "<class 'frozenset'>\n"
     ]
    }
   ],
   "source": [
    "print(type(druhy_nezm_fset))\n",
    "print(type(treti_nezm_fset))"
   ]
  },
  {
   "cell_type": "code",
   "execution_count": 52,
   "metadata": {},
   "outputs": [
    {
     "name": "stdout",
     "output_type": "stream",
     "text": [
      "140467813167616\n",
      "140467813167616\n"
     ]
    }
   ],
   "source": [
    "print(id(druhy_nezm_fset))\n",
    "print(id(treti_nezm_fset))"
   ]
  },
  {
   "cell_type": "code",
   "execution_count": 53,
   "metadata": {},
   "outputs": [
    {
     "name": "stdout",
     "output_type": "stream",
     "text": [
      "frozenset({'d', 'e', 'c', 'a', 'b'})\n"
     ]
    }
   ],
   "source": [
    "print(druhy_nezm_fset.intersection(treti_nezm_fset))"
   ]
  },
  {
   "cell_type": "markdown",
   "metadata": {},
   "source": [
    "<img src=\"https://external-content.duckduckgo.com/iu/?u=https%3A%2F%2Ftse1.mm.bing.net%2Fth%3Fid%3DOIP.yLOyM3kOmMLeoCCP47fziQHaHa%26pid%3DApi&f=1\" width=\"200\" />\n",
    "\n",
    "## Volitelné argumenty\n",
    "\n",
    "---"
   ]
  },
  {
   "cell_type": "markdown",
   "metadata": {},
   "source": [
    "<img src=\"https://external-content.duckduckgo.com/iu/?u=https%3A%2F%2Ftse1.mm.bing.net%2Fth%3Fid%3DOIP.GMJvJ-GG0YS8H5JmHR3CbwHaHm%26pid%3DApi&f=1\" width=\"200\">\n",
    "\n",
    "## Domácí úkol\n",
    "\n",
    "---"
   ]
  },
  {
   "cell_type": "markdown",
   "metadata": {},
   "source": [
    "---"
   ]
  }
 ],
 "metadata": {
  "kernelspec": {
   "display_name": "Python 3",
   "language": "python",
   "name": "python3"
  },
  "language_info": {
   "codemirror_mode": {
    "name": "ipython",
    "version": 3
   },
   "file_extension": ".py",
   "mimetype": "text/x-python",
   "name": "python",
   "nbconvert_exporter": "python",
   "pygments_lexer": "ipython3",
   "version": "3.8.6"
  }
 },
 "nbformat": 4,
 "nbformat_minor": 4
}
