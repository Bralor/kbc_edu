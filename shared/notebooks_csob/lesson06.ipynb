{
 "cells": [
  {
   "cell_type": "markdown",
   "metadata": {},
   "source": [
    "### Úvod\n",
    "\n",
    "---\n",
    "\n",
    "1. [Obecně ke knihovnám](#Obecně-ke-knihovnám),\n",
    "2. [ohlášení knihoven](#Obecně-ke-knihovnám),\n",
    "3. [moduly](#Moduly),\n",
    "4. [balíčky](#Balíčky),\n",
    "5. [knihovny třetích stran](#Knihovny-třetích-stran),\n",
    "5. [domácí úkol]()."
   ]
  },
  {
   "cell_type": "markdown",
   "metadata": {},
   "source": [
    "<br>\n",
    "\n",
    "<img src=\"https://external-content.duckduckgo.com/iu/?u=https%3A%2F%2Ftse3.mm.bing.net%2Fth%3Fid%3DOIP.lcaRsa47BhZ7k0yfLdB6AgHaHa%26pid%3DApi&f=1\" width=\"200\">\n",
    "\n",
    "## Obecně ke knihovnám\n",
    "\n",
    "---"
   ]
  },
  {
   "cell_type": "markdown",
   "metadata": {},
   "source": [
    "##### Co je to knihovna?\n",
    "\n",
    "*Knihovny* v Pythonu jsou teoreticky všechny soubory s příponou `.py`."
   ]
  },
  {
   "cell_type": "markdown",
   "metadata": {},
   "source": [
    "##### Jak vypadá knihovna?\n",
    "Obsahují v sobě kód, který ty můžeš použít a nemusíš ho přepisovat od začátku.\n",
    "\n",
    "Autor knihovny si dal práci, že napsal funkce, proměnné, podmínkové zápisy a smyčky tak, že ty už je psát nemusíš."
   ]
  },
  {
   "cell_type": "markdown",
   "metadata": {},
   "source": [
    "###### Demo: Knihovna `random.py`\n",
    "```python\n",
    "\n",
    "\"\"\"\n",
    "Random variable generators.\n",
    "\n",
    "bytes\n",
    "-----\n",
    "    uniform bytes (values between 0 and 255)\n",
    "integers\n",
    "--------\n",
    "    uniform within range\n",
    "    ...\n",
    "```"
   ]
  },
  {
   "cell_type": "markdown",
   "metadata": {},
   "source": [
    "### Obecné dělení\n",
    "Podle struktury knihovny:\n",
    "1. **Moduly**, tedy samotný soubor s příponou `.py`,\n",
    "2. **balíčky**, celý adresář, který může obsahovat několik modulů.\n",
    "\n",
    "##### Proč psát/používat knihovny?\n",
    "\n",
    "Pro tebe je to velká výhoda, protože si tento kód jednoduše:\n",
    "1. Vyhledáš,\n",
    "2. nahraješ,\n",
    "3. používáš, co potřebuješ.\n",
    "\n",
    "\n",
    "##### Praktické ukázky knihoven"
   ]
  },
  {
   "cell_type": "code",
   "execution_count": 1,
   "metadata": {},
   "outputs": [
    {
     "name": "stdout",
     "output_type": "stream",
     "text": [
      "Spouštím cmd pro unix-based systémy..\n"
     ]
    }
   ],
   "source": [
    "# ověr můj OS\n",
    "import sys\n",
    "\n",
    "if sys.platform == \"windows\":\n",
    "    print(\"Spouštím cmd pro Win..\")\n",
    "else:\n",
    "    print(\"Spouštím cmd pro unix-based systémy..\")"
   ]
  },
  {
   "cell_type": "code",
   "execution_count": 2,
   "metadata": {},
   "outputs": [
    {
     "name": "stdout",
     "output_type": "stream",
     "text": [
      "/home/jovyan/work/shared/notebooks_csob\n"
     ]
    }
   ],
   "source": [
    "import os\n",
    "\n",
    "print(os.getcwd())   # aktuální umístení"
   ]
  },
  {
   "cell_type": "code",
   "execution_count": 3,
   "metadata": {},
   "outputs": [
    {
     "name": "stdout",
     "output_type": "stream",
     "text": [
      "['lesson04.ipynb', 'lesson01.ipynb', '.ipynb_checkpoints', 'lesson05.ipynb', 'lesson06.ipynb', 'lesson02.ipynb', 'lesson03.ipynb']\n"
     ]
    }
   ],
   "source": [
    "print(os.listdir())  # dostupné soubory"
   ]
  },
  {
   "cell_type": "code",
   "execution_count": 4,
   "metadata": {},
   "outputs": [
    {
     "name": "stdout",
     "output_type": "stream",
     "text": [
      "[('a', 5), ('b', 4), ('c', 3)]\n"
     ]
    }
   ],
   "source": [
    "# počítání výskytů\n",
    "from collections import Counter\n",
    "\n",
    "pocitadlo = Counter(\"abcdeabcdabcaba\")\n",
    "print(pocitadlo.most_common(3))"
   ]
  },
  {
   "cell_type": "markdown",
   "metadata": {},
   "source": [
    "<br>\n",
    "\n",
    "## Ohlášení knihoven\n",
    "\n",
    "---"
   ]
  },
  {
   "cell_type": "markdown",
   "metadata": {},
   "source": [
    "Jak můžu knihovny **používat**? *Použít* knihovnu znamená **nahrát ji**."
   ]
  },
  {
   "cell_type": "markdown",
   "metadata": {},
   "source": [
    "Nezapomeň na to, že pokud knihovnu nenahraješ, *interpret* netuší, kde ji má hledat:"
   ]
  },
  {
   "cell_type": "code",
   "execution_count": 6,
   "metadata": {},
   "outputs": [
    {
     "ename": "NameError",
     "evalue": "name 'datetime' is not defined",
     "output_type": "error",
     "traceback": [
      "\u001b[0;31m---------------------------------------------------------------------------\u001b[0m",
      "\u001b[0;31mNameError\u001b[0m                                 Traceback (most recent call last)",
      "\u001b[0;32m<ipython-input-6-7cecdc7982f7>\u001b[0m in \u001b[0;36m<module>\u001b[0;34m\u001b[0m\n\u001b[0;32m----> 1\u001b[0;31m \u001b[0mprint\u001b[0m\u001b[0;34m(\u001b[0m\u001b[0mdatetime\u001b[0m\u001b[0;34m.\u001b[0m\u001b[0mnow\u001b[0m\u001b[0;34m(\u001b[0m\u001b[0;34m)\u001b[0m\u001b[0;34m)\u001b[0m  \u001b[0;31m# bez ohlášení knihovny\u001b[0m\u001b[0;34m\u001b[0m\u001b[0;34m\u001b[0m\u001b[0m\n\u001b[0m",
      "\u001b[0;31mNameError\u001b[0m: name 'datetime' is not defined"
     ]
    }
   ],
   "source": [
    "print(datetime.datetime.now())  # bez ohlášení knihovny"
   ]
  },
  {
   "cell_type": "markdown",
   "metadata": {},
   "source": [
    "Teprve po **ohlášení nahrátí knihovny** si uvědomí, kam se má podívat a pokusí se knihovnu dohledat:"
   ]
  },
  {
   "cell_type": "code",
   "execution_count": 7,
   "metadata": {},
   "outputs": [
    {
     "name": "stdout",
     "output_type": "stream",
     "text": [
      "2022-10-25 16:37:48.571158\n"
     ]
    }
   ],
   "source": [
    "import datetime\n",
    "\n",
    "print(datetime.datetime.now())  # s ohlášení knihovny"
   ]
  },
  {
   "cell_type": "markdown",
   "metadata": {},
   "source": [
    "Samotný způsob nahrátí (nebo také ohlášení) o nahrávání může mít několik podob:\n",
    "1. `import <knihovna>`,\n",
    "2. `from <knihovna> import *`,\n",
    "3. `from <knihovna> import <objekt>`,\n",
    "4. `from <knihovna> import <objekt> as <alias>`,\n",
    "5. `import <knihovna> as <alias>`.\n",
    "\n",
    "<br>\n",
    "\n",
    "\n",
    "### Nahrávání s `import`\n",
    "\n",
    "----\n",
    "    \n",
    "Nejjednodušší a nejpoužívanější ohlášení pomocí klíčové výrazu:"
   ]
  },
  {
   "cell_type": "code",
   "execution_count": 8,
   "metadata": {},
   "outputs": [
    {
     "name": "stdout",
     "output_type": "stream",
     "text": [
      "3.141592653589793\n"
     ]
    }
   ],
   "source": [
    "import math\n",
    "\n",
    "print(math.pi)"
   ]
  },
  {
   "cell_type": "markdown",
   "metadata": {},
   "source": [
    "Použiješ klíčové slovo `import` a následně jméno knihovny `math`.\n",
    "\n",
    "Následně použiješ potřebný objekt (v ukázce konstantu `pi`).\n",
    "\n",
    "V případě, že chceš nahrát tvůj vlastní modul, zapiš **jméno souboru** bez přípony."
   ]
  },
  {
   "cell_type": "code",
   "execution_count": 10,
   "metadata": {},
   "outputs": [],
   "source": [
    "# del math  # odstraní nahranou knihovou 'math'"
   ]
  },
  {
   "cell_type": "code",
   "execution_count": 11,
   "metadata": {},
   "outputs": [
    {
     "ename": "NameError",
     "evalue": "name 'math' is not defined",
     "output_type": "error",
     "traceback": [
      "\u001b[0;31m---------------------------------------------------------------------------\u001b[0m",
      "\u001b[0;31mNameError\u001b[0m                                 Traceback (most recent call last)",
      "\u001b[0;32m<ipython-input-11-6feb45068528>\u001b[0m in \u001b[0;36m<module>\u001b[0;34m\u001b[0m\n\u001b[0;32m----> 1\u001b[0;31m \u001b[0mprint\u001b[0m\u001b[0;34m(\u001b[0m\u001b[0mmath\u001b[0m\u001b[0;34m.\u001b[0m\u001b[0mpi\u001b[0m\u001b[0;34m)\u001b[0m\u001b[0;34m\u001b[0m\u001b[0;34m\u001b[0m\u001b[0m\n\u001b[0m",
      "\u001b[0;31mNameError\u001b[0m: name 'math' is not defined"
     ]
    }
   ],
   "source": [
    "print(math.pi)"
   ]
  },
  {
   "cell_type": "markdown",
   "metadata": {},
   "source": [
    "**Opatrně**, bez ohlášení `import` nebude ohlášení fungovat."
   ]
  },
  {
   "cell_type": "markdown",
   "metadata": {},
   "source": [
    "Podobně můžeš pracovat se svými soubory **.py**:\n",
    "```python\n",
    "import pomocny_modul_1\n",
    "\n",
    "print(pomocny_modul_1.moje_promenna)\n",
    "```"
   ]
  },
  {
   "cell_type": "markdown",
   "metadata": {},
   "source": [
    "##### Rekapitulace\n",
    "Ohlášení `import <knihovna>` je příhodné, pokud potřebuješ z jedné knihovny **použít více objektů** a současně mít pěkně přehled, ke které knihovně tyto objekty patří."
   ]
  },
  {
   "cell_type": "markdown",
   "metadata": {},
   "source": [
    "### Nahrávání s `from` a hvězdičkou\n",
    "\n",
    "----\n",
    "\n",
    "Tento způsob nahrávání **není moc častý**.\n",
    "\n",
    "Použiješ jej zejména při práci s *interaktivním interpretem* a jednodušších zápisech či kratších ukázkách:"
   ]
  },
  {
   "cell_type": "code",
   "execution_count": 12,
   "metadata": {},
   "outputs": [],
   "source": [
    "from sys import *\n",
    "from math import *"
   ]
  },
  {
   "cell_type": "code",
   "execution_count": 13,
   "metadata": {
    "scrolled": true
   },
   "outputs": [
    {
     "name": "stdout",
     "output_type": "stream",
     "text": [
      "2.718281828459045\n",
      "3.8.6 | packaged by conda-forge | (default, Dec 26 2020, 05:05:16) \n",
      "[GCC 9.3.0]\n"
     ]
    }
   ],
   "source": [
    "print(\n",
    "    e,            # odkud pochází proměnná 'e'? sys/math?\n",
    "    version,      # ...\n",
    "    sep=\"\\n\"\n",
    ")"
   ]
  },
  {
   "cell_type": "markdown",
   "metadata": {},
   "source": [
    "##### Rekapitulace\n",
    "\n",
    "Obecně se tato varianta nahrávání nedoporučuje, zejména kvůli svojí špatné přehlednosti a zanesení aktuálního prostředí spoustou nevyužitých objektů."
   ]
  },
  {
   "cell_type": "markdown",
   "metadata": {},
   "source": [
    "### Nahrávání s `from` a jménem objektu\n",
    "\n",
    "----"
   ]
  },
  {
   "cell_type": "markdown",
   "metadata": {},
   "source": [
    "Pokud potřebuješ použít třeba **jen jednu proměnnou** nebo objekt obecně, určitě oceníš právě toto ohlášení:"
   ]
  },
  {
   "cell_type": "code",
   "execution_count": 14,
   "metadata": {},
   "outputs": [
    {
     "name": "stdout",
     "output_type": "stream",
     "text": [
      "2.718281828459045\n"
     ]
    }
   ],
   "source": [
    "from math import e\n",
    "\n",
    "print(e)"
   ]
  },
  {
   "cell_type": "markdown",
   "metadata": {},
   "source": [
    "Oproti variantě s hvězdičkou je rozdíl, že tento způsob napíšeš, pokud potřebuješ **jen velmi málo konkrétních objektů**.\n",
    "\n",
    "Současně musíš uvádět, jaký objekt, **odkud nahráváš**.\n",
    "\n",
    "Při tomto ohlašování vypadá zápis následovně:\n",
    "\n",
    "1. `from`, tedy klíčové slovo,\n",
    "2. `math`, jméno knihovny,\n",
    "3. `import`, klíčové slovo,\n",
    "4. `e`, jméno proměnné, funkce, aj."
   ]
  },
  {
   "cell_type": "markdown",
   "metadata": {},
   "source": [
    "##### Rekapitulace\n",
    "\n",
    "Jde o způsobem, kdy potřebuješ třeba **jen jedinný objekt z knihovny**, a ten si explicitně ohlášením nahraješ."
   ]
  },
  {
   "cell_type": "markdown",
   "metadata": {},
   "source": [
    "### Nahrávání s `from` bez hvězdičky a s aliasem\n",
    "\n",
    "----\n",
    "\n",
    "Pokud je **jméno nahrávaného objektu** příliš dlouhé (např. `EXTRA_DLOUHE_JMENO_KONSTANTY`), případně náročné pro zápis, potom může být přepisování takového jména nepohodlné.\n",
    "\n",
    "Pokud na takový objekt narazíš, můžeš vyzkoušet **alias**, který definuješ pomocí klíčového slova `as`:\n",
    "```python\n",
    "from <knihovna> import <EXTRA_DLOUHE_JMENO_KONSTANTY> as <alias>\n",
    "\n",
    "print(<alias>)\n",
    "```"
   ]
  },
  {
   "cell_type": "markdown",
   "metadata": {},
   "source": [
    "*Alias* pro kostantu `pi` není zrovna šikovný, ale jde hlavně o ukázku zápisu a použití:"
   ]
  },
  {
   "cell_type": "code",
   "execution_count": 15,
   "metadata": {},
   "outputs": [
    {
     "name": "stdout",
     "output_type": "stream",
     "text": [
      "3.141592653589793\n"
     ]
    }
   ],
   "source": [
    "from math import pi as p\n",
    "\n",
    "print(p)"
   ]
  },
  {
   "cell_type": "markdown",
   "metadata": {},
   "source": [
    "Samozřejmě u jména proměnné jako `pi` není potřeba zapisovat *alias* (jméno je stručné a jasné samo o sobě).\n",
    "\n",
    "S aliasy ale opět pozor. Pokud se jich v jednom souboru objeví víc (3+), potom se opět čtení zápisu stává **méně přehledné**.\n",
    "\n",
    "1. Nejprve uvidíš *alias* (v ukázce `p`),\n",
    "2. po té potřebuješ najít proměnnou (v ukázce `pi`), kterou **alias přebírá**,\n",
    "3. nakonec dohledat knihovnu (.. `math`), ze které pochází."
   ]
  },
  {
   "cell_type": "markdown",
   "metadata": {},
   "source": [
    "##### Rekapitulace\n",
    "\n",
    "*Alias* je výhodný, pokud potkáš v knihovně objekt s dlouhým jménem."
   ]
  },
  {
   "cell_type": "markdown",
   "metadata": {},
   "source": [
    "### Nahrávání s `import` a s aliasem\n",
    "\n",
    "----\n",
    "\n",
    "Stejně tak je možné použít alias pro delší jméno knihovny (např. `EXTRA_DLOUHE_JMENO_KNIHOVNY`).\n",
    "\n",
    "Teoreticky potom nastává tato situace:\n",
    "```python\n",
    "import <EXTRA_DLOUHE_JMENO_KNIHOVNY>\n",
    "\n",
    "print(<EXTRA_DLOUHE_JMENO_KNIHOVNY>.objekt)\n",
    "```\n",
    "\n",
    "\n",
    "*Alias* pro knihovnu `configparser`:"
   ]
  },
  {
   "cell_type": "code",
   "execution_count": 17,
   "metadata": {},
   "outputs": [
    {
     "name": "stdout",
     "output_type": "stream",
     "text": [
      "<module 'configparser' from '/opt/conda/lib/python3.8/configparser.py'>\n"
     ]
    }
   ],
   "source": [
    "import configparser as cp\n",
    "\n",
    "print(cp)"
   ]
  },
  {
   "cell_type": "markdown",
   "metadata": {},
   "source": [
    "Pokud je jméno knihovny (třeba `math`) **dostatečně stručné a jasné**, nemusíš *alias* používat."
   ]
  },
  {
   "cell_type": "markdown",
   "metadata": {},
   "source": [
    "##### Rekapitulace\n",
    "\n",
    "*Alias* je výhodný, pokud potkáš knihovnu s dlouhým jménem."
   ]
  },
  {
   "cell_type": "markdown",
   "metadata": {},
   "source": [
    "<img src=\"https://external-content.duckduckgo.com/iu/?u=https%3A%2F%2Ftse2.mm.bing.net%2Fth%3Fid%3DOIP.cjfmUt8xYHoEdmQWxT1fBgHaHa%26pid%3DApi&f=1\" width=\"200\">\n",
    "\n",
    "\n",
    "## Moduly\n",
    "\n",
    "---"
   ]
  },
  {
   "cell_type": "markdown",
   "metadata": {},
   "source": [
    "Modulem je tedy jakýkoliv soubor s příponou `.py`, který napíšeš ty, nebo jiní programátoři.\n",
    "\n",
    "Ty **nejčastější moduly** jsou již součástí instalace Pythonu.\n",
    "\n",
    "Takže už v tento moment máš u sebe **nainstalovanou paletu těch nejpoužívanějších** (*zabudovaných* nebo také *built-in*) modulů:"
   ]
  },
  {
   "cell_type": "code",
   "execution_count": 19,
   "metadata": {},
   "outputs": [],
   "source": [
    "import os      # modul pro práci s operačním systémem\n",
    "import sys     # modul pro přístup k některým systémovým proměnným\n",
    "import random  # modul pro práci s pseudo-náhodnými procesy"
   ]
  },
  {
   "cell_type": "code",
   "execution_count": 20,
   "metadata": {},
   "outputs": [
    {
     "name": "stdout",
     "output_type": "stream",
     "text": [
      "True\n"
     ]
    }
   ],
   "source": [
    "print(\n",
    "    \"os\" in dir() \\\n",
    "    and \"sys\" in dir() \\\n",
    "    and \"random\" in dir()\n",
    ")"
   ]
  },
  {
   "cell_type": "markdown",
   "metadata": {},
   "source": [
    "Pomocí built-in funkce `dir` si můžeš ověřit, že po importování máš v aktuálním pracovním rámci nahráné moduly k dispozici (`True`), zatím co fiktivní muj_modul ne (`False`)."
   ]
  },
  {
   "cell_type": "markdown",
   "metadata": {},
   "source": [
    "Pokud si vybereš **jméno modulu**, který **není součástí zabudovaných modulů** [pro tvoji verzi Pythonu](https://docs.python.org/3/library/index.html), dostaneš výjimku:"
   ]
  },
  {
   "cell_type": "code",
   "execution_count": 21,
   "metadata": {},
   "outputs": [
    {
     "name": "stdout",
     "output_type": "stream",
     "text": [
      "False\n"
     ]
    }
   ],
   "source": [
    "print(\"muj_modul\" in dir())"
   ]
  },
  {
   "cell_type": "code",
   "execution_count": 22,
   "metadata": {},
   "outputs": [
    {
     "ename": "ModuleNotFoundError",
     "evalue": "No module named 'muj_modul'",
     "output_type": "error",
     "traceback": [
      "\u001b[0;31m---------------------------------------------------------------------------\u001b[0m",
      "\u001b[0;31mModuleNotFoundError\u001b[0m                       Traceback (most recent call last)",
      "\u001b[0;32m<ipython-input-22-fa594dff4a1a>\u001b[0m in \u001b[0;36m<module>\u001b[0;34m\u001b[0m\n\u001b[0;32m----> 1\u001b[0;31m \u001b[0;32mimport\u001b[0m \u001b[0mmuj_modul\u001b[0m\u001b[0;34m\u001b[0m\u001b[0;34m\u001b[0m\u001b[0m\n\u001b[0m",
      "\u001b[0;31mModuleNotFoundError\u001b[0m: No module named 'muj_modul'"
     ]
    }
   ],
   "source": [
    "import muj_modul"
   ]
  },
  {
   "cell_type": "markdown",
   "metadata": {},
   "source": [
    "### Vlastní modul\n",
    "\n",
    "---\n",
    "\n",
    "V úvodu stojí, že si modul můžeš napsat **přímo ty**.\n",
    "\n",
    "Můžeš si vytvořit např. modul, který obsahuje `dict` s největšími městy v *České republice*."
   ]
  },
  {
   "cell_type": "markdown",
   "metadata": {},
   "source": [
    "Ten si uložíš k sobě do složky pod jménem `mesta.py`:\n",
    "```python\n",
    "# soubor mesta.py\n",
    "mesta_cr = {\n",
    "    \"Praha\": 1_335_084,\n",
    "    \"Brno\": 382_405,\n",
    "    \"Ostrava\": 284_982,\n",
    "    \"Plzeň\": 175_219,\n",
    "    \"Liberec\": 104_261,\n",
    "    \"Olomouc\": 100_514,\n",
    "    \"České Budějovice\": 94_229,\n",
    "    \"Hradec Králové\": 92_683,\n",
    "    \"Ústí nad Labem\": 91_982,\n",
    "    \"Pardubice\": 91_755,\n",
    "\n",
    "}\n",
    "```"
   ]
  },
  {
   "cell_type": "markdown",
   "metadata": {},
   "source": [
    "Následné si vytvoříš **druhý soubor** (ve stejném adresáři) `nad_100_k.py`, který bude obsahovat:\n",
    "```python\n",
    "# soubor nad_100_k.py\n",
    "from mesta import mesta_cr\n",
    "\n",
    "for mesto, obyvatele in mesta_cr.items():\n",
    "    if obyvatele > 100_000:\n",
    "        print(mesto)\n",
    "```"
   ]
  },
  {
   "cell_type": "markdown",
   "metadata": {},
   "source": [
    "### Nápověda `help`\n",
    "\n",
    "----\n",
    "\n",
    "Často se dostaneš do situace, kdy si **nebudeš vědět rady**.\n",
    "\n",
    "Nezapamatuješ si jméno *metody* v *knihovně*, jméno *proměnné*, atd.\n",
    "\n",
    "Můžeš samozřejmě navštívit různé dokumentace, knihy nebo články. Ale pokud potřebuješ okamžité offline řešení vyzkoušej funkci `help()`."
   ]
  },
  {
   "cell_type": "code",
   "execution_count": 24,
   "metadata": {},
   "outputs": [],
   "source": [
    "import random"
   ]
  },
  {
   "cell_type": "code",
   "execution_count": 25,
   "metadata": {},
   "outputs": [
    {
     "name": "stdout",
     "output_type": "stream",
     "text": [
      "Help on method randrange in module random:\n",
      "\n",
      "randrange(start, stop=None, step=1, _int=<class 'int'>) method of random.Random instance\n",
      "    Choose a random item from range(start, stop[, step]).\n",
      "    \n",
      "    This fixes the problem with randint() which includes the\n",
      "    endpoint; in Python this is usually not what you want.\n",
      "\n"
     ]
    }
   ],
   "source": [
    "help(random.randrange)"
   ]
  },
  {
   "cell_type": "markdown",
   "metadata": {},
   "source": [
    "### Metoda `dir`\n",
    "\n",
    "----\n",
    "\n",
    "Pokud potřebuješ podrobný výpis, je lepší použít funkci `help`.\n",
    "\n",
    "Pokud ti stačí jen seznam všech dostupných metod, vyzkoušej metodu `dir`."
   ]
  },
  {
   "cell_type": "code",
   "execution_count": 26,
   "metadata": {},
   "outputs": [
    {
     "name": "stdout",
     "output_type": "stream",
     "text": [
      "['BPF', 'LOG4', 'NV_MAGICCONST', 'RECIP_BPF', 'Random', 'SG_MAGICCONST', 'SystemRandom', 'TWOPI', '_Sequence', '_Set', '__all__', '__builtins__', '__cached__', '__doc__', '__file__', '__loader__', '__name__', '__package__', '__spec__', '_accumulate', '_acos', '_bisect', '_ceil', '_cos', '_e', '_exp', '_inst', '_log', '_os', '_pi', '_random', '_repeat', '_sha512', '_sin', '_sqrt', '_test', '_test_generator', '_urandom', '_warn', 'betavariate', 'choice', 'choices', 'expovariate', 'gammavariate', 'gauss', 'getrandbits', 'getstate', 'lognormvariate', 'normalvariate', 'paretovariate', 'randint', 'random', 'randrange', 'sample', 'seed', 'setstate', 'shuffle', 'triangular', 'uniform', 'vonmisesvariate', 'weibullvariate']\n"
     ]
    }
   ],
   "source": [
    "print(dir(random))"
   ]
  },
  {
   "cell_type": "markdown",
   "metadata": {},
   "source": [
    "<img src=\"https://external-content.duckduckgo.com/iu/?u=https%3A%2F%2Ftse1.mm.bing.net%2Fth%3Fid%3DOIP.Rq-hToMXLKlFsOOyPp_85QHaHa%26pid%3DApi&f=1\" width=\"200\">\n",
    "\n",
    "## Balíčky\n",
    "\n",
    "---"
   ]
  },
  {
   "cell_type": "markdown",
   "metadata": {},
   "source": [
    "Pokud je **modul** samotný soubor s příponou **.py**, potom je **balík** v podstatě *sbírka několika modulů* (tedy souborů **.py**).\n",
    "\n",
    "\n",
    "Prohlédni si třeba obsah adresář (tedy balíček) `json`:\n",
    "```\n",
    "json/\n",
    "├── __init__.py\n",
    "├── __pycache__\n",
    "├── decoder.py\n",
    "├── encoder.py\n",
    "├── scanner.py\n",
    "└── tool.py\n",
    "```\n",
    "\n",
    "Kromě **modulů** (soubory s příponou **.py**) obsahují balíčky tyto **speciální soubory**:\n",
    "1. `__init__.py`,\n",
    "2. `__pycache__`.\n",
    "\n",
    "\n",
    "Proč je tedy dobré mít jak **moduly**, tak **balíčky**? Někdy je totiž příkazů, objektů a podmínek je v jednom souboru tolik, že by se stal jeden soubor nepřehledný, špatně pochopitelný.\n",
    "\n",
    "Proto se programátoři snaží tyto objekty (proměnné, smyčky, podmínky), které **k sobě logicky patří**, **rozdělit na víc modulů** a sdružit do jednoho balíčku."
   ]
  },
  {
   "cell_type": "markdown",
   "metadata": {},
   "source": [
    "#### \\_\\_init\\_\\_.py\n",
    "\n",
    "----\n",
    "\n",
    "Pokud nahlédneš do struktury balíčků, určitě si všimneš souboru `__init__.py`.\n",
    "\n",
    "Jeho účel je v podstatě indexovat adresář balíčku a pomoci *interpreta* najít konkrétní modul.\n",
    "\n",
    "Pokud v adresáři soubor `__init__.py` chybí, interpret jej nebude prohledávat.\n",
    "\n",
    "<br>\n",
    "\n",
    "#### \\_\\_pycache\\_\\_\n",
    "\n",
    "----\n",
    "\n",
    "Pokud spustíš libovolný soubor s příponou **.py**, potom jej *interpret* začne postupně *kompilovat* na *bytecode*.\n",
    "\n",
    "Z tohoto kroku vznikají soubory **.pyc**.\n",
    "\n",
    "Ty dále pomáhají (v případě, že nechybí) přeskočit krok *kompilace* příště a spouštět tvůj soubor rychleji.\n",
    "\n",
    "Pokud náhodou složka `__pycache__` v adresáři balíčku chybí, *interpret* si ji vytvoří na příště při prvním spuštění."
   ]
  },
  {
   "cell_type": "markdown",
   "metadata": {},
   "source": [
    "#### Vlastní balíček\n",
    "\n",
    "----\n",
    "Stejně jako u *modulu*, můžeš samozřejmě vytvořit **vlastní balíček**.\n",
    "\n",
    "\n",
    "Pro ilustraci se podívej na tento balíček:\n",
    "```\n",
    "muj_balicek/\n",
    "├── __init__.py\n",
    "├── __pycache__\n",
    "├── adresy.py\n",
    "└── jmena.py\n",
    "```\n",
    "\n",
    "\n",
    "1. Pro vytvoření takového *klasického* balíčku tedy neprve vytvoríš složku `muj_balicek`,\n",
    "2. přesuneš se dovnitř adresáře `muj_balicek` a v něm vytvoříš prázdný soubor `__init__.py`,\n",
    "3. dále vytvoříš soubor `adresy.py`,\n",
    "```python\n",
    "# adresy.py\n",
    "zamestnanci = {\n",
    "    11: {\"obec\": \"praha\", \"ulice\": \"milesovska\", \"c.p.\": \"11a\"},\n",
    "    12: {\"obec\": \"brno\", \"ulice\": \"podebradova\", \"c.p.\": \"123\"},\n",
    "    13: {\"obec\": \"olomouc\", \"ulice\": \"krizikova\", \"c.p.\": \"2a\"},\n",
    "    14: {\"obec\": \"plzen\", \"ulice\": \"stribneho\", \"c.p.\": \"301\"},\n",
    "}\n",
    "```\n",
    "4. nakonec vytvoříš soubor `jmena.py`,\n",
    "```python\n",
    "# jmena.py\n",
    "jmena = {\n",
    "    11: {\"jmeno\": \"Petr\", \"prijmeni\": \"Svetr\"},\n",
    "    12: {\"jmeno\": \"Matous\", \"ulice\": \"Svatous\"},\n",
    "    13: {\"jmeno\": \"Lukas\", \"ulice\": \"Gulas\"},\n",
    "    14: {\"jmeno\": \"Martin\", \"ulice\": \"Tecka\"},\n",
    "}\n",
    "```\n",
    "5. složku `__pycache__` tvořit nemusíš. Interpret si ji nachystá sám, až budeš potřebovat balíček spustit.\n",
    "\n",
    "Nyní si vytvoř nový modul `spojena_data.py`:\n",
    "```python\n",
    "# soubor spojena_data.py\n",
    "from muj_balicek.adresy import zamestnanci\n",
    "from muj_balicek.jmena import jmena\n",
    "\n",
    "print(bydliste[11], zamestnanci[11])\n",
    "```"
   ]
  },
  {
   "cell_type": "markdown",
   "metadata": {},
   "source": [
    "<img src=\"https://twixes.gallerycdn.vsassets.io/extensions/twixes/pypi-assistant/1.0.3/1589834023190/Microsoft.VisualStudio.Services.Icons.Default\" width=\"200\">\n",
    "\n",
    "### Knihovny třetích stran\n",
    "\n",
    "---\n",
    "\n",
    "Podle **původu knihovny** můžeme říct, že máme **dva typy** knihoven:\n",
    "\n",
    "1. **Standartní knihovny** (tedy dostupné ihned po instalaci),\n",
    "2. **knihovny třetích stran** (je nutné je doinstalovat)."
   ]
  },
  {
   "cell_type": "code",
   "execution_count": null,
   "metadata": {},
   "outputs": [],
   "source": [
    "import uuid\n",
    "import random\n",
    "import typing"
   ]
  },
  {
   "cell_type": "code",
   "execution_count": null,
   "metadata": {},
   "outputs": [],
   "source": [
    "import flask"
   ]
  },
  {
   "cell_type": "markdown",
   "metadata": {},
   "source": [
    "Předtím než budeš moct tyto knihovny používat, je musíš vyhledat, stáhnout a nainstalovat.\n",
    "\n",
    "Většinu dostupných knihoven najdeš na [pypi.org](https://pypi.org/)\n",
    "\n",
    "Tady si knihovnu najdeš, pročteš a následně stáhneš (*ukázka terminal + PyCharm*)."
   ]
  },
  {
   "cell_type": "markdown",
   "metadata": {},
   "source": [
    "#### Virtuální prostředí\n",
    "\n",
    "---\n",
    "\n",
    "Jakmile začneš s Python pracovat na více projektech, je dobré **oddělit jednotlivá prostředí**:\n",
    "```\n",
    "/projekty\n",
    "   ├─projekt01/\n",
    "   ├─projekt02/\n",
    "   ├─projekt03/\n",
    "   ├─pracovni/\n",
    "   └─pokus/\n",
    "```\n",
    "\n",
    "Každý projekt (složka v ukázce výše) může totiž pracovat **s různými knihovnami** (a různými verzemi).\n",
    "\n",
    "\n",
    "Různé knihovny znamenají různé související knihovny (a různé verze), drobné úpravy syntaxí, jména metoda a funkcí (příp. proměnných).\n",
    "\n",
    "\n",
    "Dobrým zvykem bývá **oddělit knihovny pro různé projekty**. Tedy neinstalovat knihovny globálně pro celý tvůj počítač,ale ke konkrétním projektům (pomocí *virtuálních prostředí*).\n",
    "\n",
    "<br>\n",
    "\n",
    "\n",
    "<img src=\"https://external-content.duckduckgo.com/iu/?u=https%3A%2F%2Fcdn0.iconfinder.com%2Fdata%2Ficons%2Fdevelopment-2%2F24%2Fterminal-512.png&f=1&nofb=1\" width=\"200\">"
   ]
  },
  {
   "cell_type": "markdown",
   "metadata": {},
   "source": [
    "#### Příkazový řádek\n",
    "\n",
    "----\n",
    "\n",
    "1. **Vytvoříš** virtualní pracovní prostředí pomocí následující příkazu:\n",
    "```\n",
    "python3 -m venv <jmeno_prostredi>\n",
    "```\n",
    "\n",
    "\n",
    "2. **Aktivujeme** virtualní pracovní prostředí pomocí jeho jména. Po aktivaci dostaneme na začátku dotazovacího řádku závorku se jménem prostředí (př. `(env)`):\n",
    "```\n",
    "source <jmeno_prostredi>/bin/activate  # aktivace\n",
    "deactivate                             # ukončení\n",
    "```\n",
    "\n",
    "3. **Ověříme dostupnost správce** balíčků (conda, pipenv, poetry, pip je defaultně nainstalovaný ze druhé lekce):\n",
    "```\n",
    "pip --version\n",
    "```\n",
    "\n",
    "4. Pokud máme, **instalujeme balíčky**:\n",
    "```\n",
    "pip install <jmeno_balicku>         # instalace\n",
    "pip uninstall <jmeno_balicku>       # odstranění\n",
    "pip --help                          # nápověda\n",
    "```\n",
    "\n",
    "\n",
    "5. **Vytvoříme soubor** se souvisejícími knihovnami pro další uživatele `requirements.txt`. Ten obsahuje jména a verze knihoven, aby je mohli snadno nainstalovat i jiní uživatelé:\n",
    "```\n",
    "pip freeze > requirements.txt  # přesměruji výstup z příkazu do souboru\n",
    "```\n",
    "\n",
    "\n",
    "6. ... soubor `requirements.txt` lze potom naopak nainstalovat **do nového virtuálního prostředí**:\n",
    "```\n",
    "pip install -r requirements.txt\n",
    "```\n",
    "\n",
    "Jak udržovat balíčky aktuální + kontrola:\n",
    "```\n",
    "pip list --outdated                          # zobrazím výpis všech neaktuálních knihoven\n",
    "pip install --upgrade <jmeno_knihovny>       # upgradování\n",
    "pip install <jmeno_knihovny>==<cislo_verze>  # alternativní řešení\n",
    "```"
   ]
  },
  {
   "cell_type": "markdown",
   "metadata": {},
   "source": [
    "<img src=\"https://external-content.duckduckgo.com/iu/?u=https%3A%2F%2Ftse1.mm.bing.net%2Fth%3Fid%3DOIP.p4NKEAqAdgFX_u8PwtI_nwHaHa%26pid%3DApi&f=1\" width=\"200\">\n",
    "\n",
    "\n",
    "\n",
    "#### PyCharm\n",
    "\n",
    "---\n",
    "\n",
    "1. Vytvoř si **nový adresář** (prázdný),\n",
    "2. otevři jej pomocí **PyCharm** (optiona Open...),\n",
    "3. vlož **nový modul** (klidně prázdný),\n",
    "4. přejdi do **settings** (ctrl+alt+s),\n",
    "5. *project interpreter*, *nastavení* ⚙, *vytvořit nové prostředí*,\n",
    "6. **přidat nové knihovny** (ikonka plus),\n",
    "7. *tools*, *sync Python requirements* (txt soubor s knihovnami a verzemi)."
   ]
  },
  {
   "cell_type": "markdown",
   "metadata": {},
   "source": [
    "<br>\n",
    "\n",
    "### Domácí úkol\n",
    "\n",
    "---\n",
    "\n",
    "<img src=\"https://external-content.duckduckgo.com/iu/?u=https%3A%2F%2Ftse3.mm.bing.net%2Fth%3Fid%3DOIP.XxURlbi8RZ3SMPoMRj91VwAAAA%26pid%3DApi&f=1\" width=\"200\">\n",
    "\n"
   ]
  },
  {
   "cell_type": "markdown",
   "metadata": {},
   "source": [
    "Nageneruj data **pro zaměstnance** a jejich **oddělení**. Data budou mít následující strukturu:"
   ]
  },
  {
   "cell_type": "code",
   "execution_count": null,
   "metadata": {},
   "outputs": [],
   "source": [
    "# Ukázka pouze pro dva zaměstnance\n",
    "zamestnanci = {\n",
    "    \"zamestnanec_id\": (1, 2),  \n",
    "    \"jmeno\": (\"Petr\", \"Matous\"),\n",
    "    \"prijmeni\": (\"Svetr\", \"Holinka\"),\n",
    "    \"telefon\": (\"+420 777 666 555\", \"+420 776 665 554\"),\n",
    "    \"email\": (\"p.svetr@firma.cz\", \"m.holinka@firma.cz\"),\n",
    "    \"vytvoreno\": ('31/01/1996', '09/09/2000')\n",
    "}"
   ]
  },
  {
   "cell_type": "markdown",
   "metadata": {},
   "source": [
    "Jak údaje získat:\n",
    "\n",
    "#### Zaměstnanecké ID\n",
    "\n",
    "---\n",
    "\n",
    "Do klíče `\"zamestnanec_id\"` vlož `tuple` s celými čísly jednotlivých zaměstnanců. Tedy první zaměstnanec dostane **1** a poslední **107**.\n",
    "\n",
    "\n",
    "*NÁPOVĚDA*, čísla zadej pomocí `range`."
   ]
  },
  {
   "cell_type": "markdown",
   "metadata": {},
   "source": [
    "#### Jméno zaměstnance\n",
    "\n",
    "---\n",
    "\n",
    "Do klíče `\"jmeno\"` vlož `tuple` s jednotlivými jmény, které naparsuješ (získáš) ze zadané proměnné `zamestnanci_raw`."
   ]
  },
  {
   "cell_type": "markdown",
   "metadata": {},
   "source": [
    "#### Příjmení zaměstnance\n",
    "\n",
    "---\n",
    "\n",
    "Do klíče `\"prijmeni\"` vlož `tuple` s jednotlivými příjmeními, které naparsuješ (získáš) ze zadané proměnné `zamestnanci_raw`."
   ]
  },
  {
   "cell_type": "markdown",
   "metadata": {},
   "source": [
    "#### Telefon zaměstnance\n",
    "\n",
    "---\n",
    "\n",
    "Do klíče `\"telefon\"` vlož `tuple` se stringy, které obsahují telefonní čísla.\n",
    "\n",
    "Tato čísla vytvoříš jako devět náhodných čísel, která připojíš ke stringu `\"+420\"`. Výsledek tedy bude vypadat jako `\"+420\"` a správně naformátované hodnoty `\"123345343\"`. Výsledek: `\"+420 123 345 343\"`.\n",
    "\n",
    "*NÁPOVĚDA*, čísla náhodně vyber z knihovny `random`."
   ]
  },
  {
   "cell_type": "markdown",
   "metadata": {},
   "source": [
    "#### Email zaměstnance\n",
    "\n",
    "---\n",
    "\n",
    "Do klíče `\"email\"` vlož `tuple` se stringy obsahující emailové adresy zaměstnanců.\n",
    "\n",
    "Tento email nachystej pomocí:\n",
    "1. Prvního písmena ze jména zaměstnance (malé písmeno),\n",
    "2. tečky,\n",
    "3. celého příjmení zapsaného malými písmeny,\n",
    "4. @firma.cz.\n",
    "\n",
    "Všechny údaje musí být bez diakritiky.\n",
    "\n",
    "Ukázka:\n",
    "```python\n",
    "jmeno = \"Kryštof\"\n",
    "prijmeni = \"Slunečný\"\n",
    "\n",
    "email = \"k.slunecny@firma.cz\"\n",
    "```\n",
    "\n",
    "\n",
    "*NÁPOVĚDA*, knihovna `unidecode`."
   ]
  },
  {
   "cell_type": "markdown",
   "metadata": {},
   "source": [
    "#### Datum nástupu zaměstnance\n",
    "\n",
    "---\n",
    "\n",
    "Do klíče `\"vytvoreno\"` vlož `tuple` se stringy obsahující náhodné datumy mezi daty **1.1.1990** a **1.1.2020**.\n",
    "\n",
    "Datumy nemusí být unikátní, ale musí být ve formátu `\"dd/mm/rrrr\"`\n",
    "\n",
    "*NÁPOVĚDA*, knihovna `time`.\n",
    "\n",
    "<br>"
   ]
  },
  {
   "cell_type": "code",
   "execution_count": null,
   "metadata": {},
   "outputs": [],
   "source": [
    "# Ukázka pouze pro dvě oddělení\n",
    "oddeleni = {\n",
    "    \"oddeleni_id\": (1, 2),\n",
    "    \"oddeleni_jmeno\": (\"it\", \"hr\"),\n",
    "    \"vedouci_id\": (1, 2),\n",
    "    \"budget\": (1_000_000, 800_000)\n",
    "}"
   ]
  },
  {
   "cell_type": "markdown",
   "metadata": {},
   "source": [
    "Jak údaje získat:\n",
    "\n",
    "#### Oddělení ID\n",
    "\n",
    "---\n",
    "\n",
    "Do klíče `\"oddeleni_id\"` vlož `tuple` s celými čísly jednotlivých oddělení. Tedy první oddělení dostane **1** a poslední **5**.\n",
    "\n",
    "*NÁPOVĚDA*, čísla zadej pomocí `range`."
   ]
  },
  {
   "cell_type": "markdown",
   "metadata": {},
   "source": [
    "#### Jméno oddělení\n",
    "\n",
    "---\n",
    "\n",
    "Do klíče `\"oddeleni_jmeno\"` vlož `tuple` s jednotlivými jmény, které naparsuješ (získáš) ze zadané proměnné `oddeleni_raw`."
   ]
  },
  {
   "cell_type": "markdown",
   "metadata": {},
   "source": [
    "#### Vedoucí oddělení\n",
    "\n",
    "---\n",
    "\n",
    "Do klíče `\"vedouci_id\"` vlož `tuple` s **náhodně vybranými celými čísly**, která patří najdeš ve slovníku `zamestnanci`, v klíči `zamestnanec_id`.\n",
    "\n",
    "Každé oddělení může mít **jen jednoho vedoucího**. Jeden vedoucí může vést **pouze jedno oddělení**.\n",
    "\n",
    "*NÁPOVĚDA*, čísla náhodně vyber z knihovny `random`."
   ]
  },
  {
   "cell_type": "markdown",
   "metadata": {},
   "source": [
    "#### Budget\n",
    "\n",
    "---\n",
    "\n",
    "Do klíče `\"budget\"` vlož `tuple` s částkami v celých stotisících **od 500_000** do **5_000_000**.\n",
    "\n",
    "\n",
    "*NÁPOVĚDA*, čísla náhodně vyber z knihovny `random`."
   ]
  },
  {
   "cell_type": "code",
   "execution_count": null,
   "metadata": {
    "scrolled": true
   },
   "outputs": [],
   "source": [
    "zamestnanci_raw = \"\"\"\n",
    "Helena Vybíralová\n",
    "Wendy Štrumlová\n",
    "Marie Vybíralová\n",
    "Stanislav Bechyňka\n",
    "Zdeňka Urbánková\n",
    "Lukáš Riečan\n",
    "Veronika Koudelová\n",
    "Františka Vorlová\n",
    "Ilie Seleš\n",
    "Martin Železný\n",
    "Petra Niklesová\n",
    "Bohumil Skok\n",
    "Jakub Šmíd\n",
    "Jarmila Procházková\n",
    "Dagmar Hlavatá\n",
    "Jiří Nguyen Thanh\n",
    "Marie Franková\n",
    "Dana Ulrichová\n",
    "Jana Hranická\n",
    "Hana Budošová\n",
    "Ivan Široký\n",
    "Květoslava Jiráčková\n",
    "Pavel Przywara\n",
    "Josef Umlauf\n",
    "Tomáš Granzer\n",
    "Miroslav Kuba\n",
    "Miloslava Adámková\n",
    "Marie Karlíková\n",
    "Jaroslav Hronský\n",
    "Vlasta Karlíková\n",
    "Andrea Žatková\n",
    "Zuzana Lokočová\n",
    "Ondřej Ptáček\n",
    "Zdeněk Najman\n",
    "Tereza Šebešová\n",
    "Antonie Skokánková\n",
    "Jan Lion\n",
    "Václav Vecko\n",
    "František Vajgl\n",
    "Adéla Kavková\n",
    "Amália Vacková\n",
    "Anna Pažická\n",
    "Ivo Pustějovský\n",
    "Antonín Pavela\n",
    "Jitka Adamová\n",
    "Libuše Hamroziová\n",
    "Drahomíra Balzerová\n",
    "Marek Suchánek\n",
    "Petr Vavrinec\n",
    "Jonáš Stuchlý\n",
    "Jaromír Pecen\n",
    "Markéta Kyliánková\n",
    "Marina Pečenková\n",
    "Ivana Perdochová\n",
    "Michaela Drápalová\n",
    "Michael Mentlík\n",
    "Rudolf Špičák\n",
    "Žaneta Holá\n",
    "Blanka Lišková\n",
    "Eva Svatoňová\n",
    "Rostislav Hoang\n",
    "Martina Kalivodová\n",
    "Milan Hruška\n",
    "Zdenka Marková\n",
    "Lenka Schambergerová\n",
    "Růžena Martinů\n",
    "Věra Řezanková\n",
    "Marie Pečenková\n",
    "Miloš Váchal\n",
    "Jaroslava Hrubá\n",
    "Petr Pecen\n",
    "Pavla Konvicová\n",
    "Lucie Marešová\n",
    "Květuše Zdráhalová\n",
    "Vlastimila Svatošová\n",
    "Zora Michalčíková\n",
    "Daniel Švejnoha\n",
    "Klára Brunclíková\n",
    "Vladimír Bauer\n",
    "Michal Slaný\n",
    "Jiřina Novosadová\n",
    "Karel Sršeň\n",
    "Stanislava Lakosilová\n",
    "Filip Černý\n",
    "Alena Kubiková\n",
    "Sára Kotrlová\n",
    "Alois Rejlek\n",
    "Božena Novotná\n",
    "Maryana Nováková\n",
    "Kateřina Máslová\n",
    "Ladislav Dvořák\n",
    "Radek Varga\n",
    "Petr Dvořák\n",
    "Ludmila Jaklová\n",
    "Renáta Foubíková\n",
    "Nikola Lehká\n",
    "Dominika Riegerová\n",
    "Patrik Polák\n",
    "Soňa Štrbová\n",
    "David Matoušek\n",
    "Liubov Hollíková\n",
    "Monika Poláková\n",
    "Marie Jaklová\n",
    "Aleš Svoboda\n",
    "Roman Kolínský\n",
    "Karolína Košiková\n",
    "\"\"\""
   ]
  },
  {
   "cell_type": "markdown",
   "metadata": {},
   "source": [
    "---"
   ]
  }
 ],
 "metadata": {
  "kernelspec": {
   "display_name": "Python 3",
   "language": "python",
   "name": "python3"
  },
  "language_info": {
   "codemirror_mode": {
    "name": "ipython",
    "version": 3
   },
   "file_extension": ".py",
   "mimetype": "text/x-python",
   "name": "python",
   "nbconvert_exporter": "python",
   "pygments_lexer": "ipython3",
   "version": "3.8.6"
  }
 },
 "nbformat": 4,
 "nbformat_minor": 4
}
