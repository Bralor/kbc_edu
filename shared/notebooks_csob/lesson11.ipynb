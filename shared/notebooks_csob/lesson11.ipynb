{
 "cells": [
  {
   "cell_type": "markdown",
   "metadata": {},
   "source": [
    "## Úvod\n",
    "\n",
    "---\n",
    "\n",
    "1. [Úvod do souborů](#),\n",
    "2. [sys]()\n",
    "2. [Json](),\n",
    "3. [Csv](),\n",
    "4. [Domácí úloha](#Domácí-úloha).\n",
    "\n",
    "---"
   ]
  },
  {
   "cell_type": "markdown",
   "metadata": {},
   "source": [
    "<br>\n",
    "\n",
    "<img src=\"https://external-content.duckduckgo.com/iu/?u=https%3A%2F%2Ftse1.mm.bing.net%2Fth%3Fid%3DOIP.iyRtgmUPNPU7-T9k3gdF6gHaHa%26pid%3DApi&f=1&ipt=830e70c5fb64bc9c6ee474185a2c94132c6c4580e63315751b258bc3e61ba233&ipo=images\" width=\"220\">"
   ]
  },
  {
   "cell_type": "markdown",
   "metadata": {},
   "source": [
    "## Úvod do souborů\n",
    "\n",
    "---"
   ]
  },
  {
   "cell_type": "markdown",
   "metadata": {},
   "source": [
    "<img src=\"https://cdn.dribbble.com/users/1692681/screenshots/10226579/bugs_icons_4x.jpg\" width=\"500\">\n",
    "\n",
    "## Json\n",
    "\n",
    "---"
   ]
  },
  {
   "cell_type": "markdown",
   "metadata": {},
   "source": [
    "<br>\n",
    "\n",
    "<img src=\"https://external-content.duckduckgo.com/iu/?u=https%3A%2F%2Ftse4.mm.bing.net%2Fth%3Fid%3DOIP.FT4YqfL278urvhjVDTtX8gHaHa%26pid%3DApi&f=1&ipt=de6137dfdb4d6df4c6ba8514b1211ad52c6139d6c1570e754c85679f8b7bcd47&ipo=images\" width=\"250\">\n",
    "\n",
    "## Csv\n",
    "\n",
    "---"
   ]
  },
  {
   "cell_type": "markdown",
   "metadata": {},
   "source": [
    "<br>\n",
    "\n",
    "<img src=\"https://external-content.duckduckgo.com/iu/?u=https%3A%2F%2Ftse3.mm.bing.net%2Fth%3Fid%3DOIP.GMJvJ-GG0YS8H5JmHR3CbwHaHm%26pid%3DApi&f=1&ipt=110157bae9409977a59d895a970a6d51afa8a31e0c7fca53a1f95fd2402f9a35&ipo=images\" width=\"200\">\n",
    "\n",
    "## Domácí úloha\n",
    "\n",
    "---\n",
    "\n",
    "Výjimečně zadaná již v [průběhu lekce](#Demo:-pomocná-úloha)."
   ]
  },
  {
   "cell_type": "markdown",
   "metadata": {},
   "source": [
    "---"
   ]
  }
 ],
 "metadata": {
  "kernelspec": {
   "display_name": "Python 3",
   "language": "python",
   "name": "python3"
  },
  "language_info": {
   "codemirror_mode": {
    "name": "ipython",
    "version": 3
   },
   "file_extension": ".py",
   "mimetype": "text/x-python",
   "name": "python",
   "nbconvert_exporter": "python",
   "pygments_lexer": "ipython3",
   "version": "3.8.6"
  }
 },
 "nbformat": 4,
 "nbformat_minor": 4
}
