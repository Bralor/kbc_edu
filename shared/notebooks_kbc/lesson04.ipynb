{
 "cells": [
  {
   "cell_type": "markdown",
   "metadata": {},
   "source": [
    "### Úvod\n",
    "\n",
    "---\n",
    "\n",
    "1. [Iterační protokol](#Iterační-protokol),\n",
    "2. [for loop](#For-loop),\n",
    "3. [while loop](#While-loop),\n",
    "4. [range](#Range),\n",
    "5. [enumerate](#Enumerate),\n",
    "6. [zip](#Zip),\n",
    "6. [walrus](#Walrus),\n",
    "7. [domácí úkol](#Domácí-úkol).\n",
    "\n",
    "<br>\n",
    "\n",
    "<img src=\"https://external-content.duckduckgo.com/iu/?u=https%3A%2F%2Ftse1.mm.bing.net%2Fth%3Fid%3DOIP.yg9qTK4GbobmIc9KTC39pQHaFy%26pid%3DApi&f=1\" width=\"200\" />\n",
    "\n",
    "### Iterační protokol a.k.a. cyklus\n",
    "\n",
    "---\n",
    "\n",
    "V některých situacích se můžeš setkat s **opakujícím se zápisem**:\n",
    "```python\n",
    "\n",
    "# Máš set..\n",
    "domena = set()\n",
    "\n",
    "# .. chceš procházet stringy s emaily..\n",
    "email_1 = \"m.vybiralova@firma.cz\"\n",
    "email_2 = \"m.vybiralova@email.cz\"\n",
    "email_3 = \"m.vybiralova@dobradomena.cz\"\n",
    "email_4 = \"marie@vybiralova.cz\"\n",
    "email_5 = \"marie.vybiralova@gmail.com\"\n",
    "\n",
    "# ..a do původního setu ukládat pouze jména domén.\n",
    "domena = set(\n",
    "    (\n",
    "        email_1.split(\"@\")[1].split(\".\")[0],\n",
    "        email_2.split(\"@\")[1].split(\".\")[0],\n",
    "        email_3.split(\"@\")[1].split(\".\")[0],\n",
    "        email_4.split(\"@\")[1].split(\".\")[0],\n",
    "        email_5.split(\"@\")[1].split(\".\")[0]\n",
    "    )\n",
    ")\n",
    "```\n",
    "\n",
    "Ten nutně nemusí znamenat **chybný** nebo **nelogický zápis**, ale pokud chceš provádět podobný postup 10x, 100x, 1000x, už může být nereálný na zapsání.\n",
    "```python\n",
    "emaily = list()\n",
    "\n",
    "# pro každý email v listu emailu\n",
    "# .. vyber email,\n",
    "# .. označ pouze doménu,\n",
    "# .. ulož ji do setu.\n",
    "\n",
    "```\n",
    "\n",
    "<br>\n",
    "\n",
    "Pro periodické opakování ohlášení existují tzv. *iterační protokoly* (příp.  označovány jako smyčky, cykly, loopy).\n",
    "\n",
    "Ty umožní zápis zkrátit, automatizovat a současně udělat přehlednější.\n",
    "\n",
    "<br>\n",
    "\n",
    "V rámci Pythonu se budeme bavit o dvou základních typech smyček:\n",
    "1. smyčka `for`,\n",
    "2. smyčka `while`.\n",
    "\n",
    "\n",
    "<br>"
   ]
  },
  {
   "cell_type": "markdown",
   "metadata": {},
   "source": [
    "\n",
    "\n",
    "<img src=\"https://external-content.duckduckgo.com/iu/?u=https%3A%2F%2Ftse2.mm.bing.net%2Fth%3Fid%3DOIP.XOkl2fR4SKcajGnAi6KoZQHaDt%26pid%3DApi&f=1\" width=\"400\" />\n",
    "\n",
    "### For loop\n",
    "\n",
    "---\n",
    "\n",
    "*For cyklus* je v jednoduchosti proces, který ti umožní projít tebou zadaný objekt **od prvního údaje** až **do posledního**.\n",
    "\n",
    "<br>\n",
    "\n",
    "#### Obecně loop"
   ]
  },
  {
   "cell_type": "code",
   "execution_count": null,
   "metadata": {},
   "outputs": [],
   "source": [
    "for pismeno in \"Matous\":\n",
    "    print(pismeno)"
   ]
  },
  {
   "cell_type": "markdown",
   "metadata": {},
   "source": [
    "1. `for` je **klíčkový výraz** v zahlaví (zápisu) cyklu,\n",
    "2. `pismeno` je **proměnná vytvořená v cyklu**,jejíž obsah se v každém kroku cyklu přepíše,\n",
    "3. `in` **klíčový výraz** ukazující zdroj objektů pro dočasnou proměnnou,\n",
    "4. `\"Matous\"` je tzv. *iterovatelný objekt*, tedy proměnná, kterou můžeme procházet (třeba `str`, `list`, `set`, `dict`),\n",
    "5. `:` řádek s předpisem musí být **zakončený dvojtečkou**,\n",
    "6. `print(pismeno)` následují **odsazené instrukce**, které se budou opakovat v každém kroku.\n",
    "\n",
    "<br>\n",
    "\n",
    "#### S proměnnou a podmínkou\n",
    "\n",
    "Cyklus lze kombinovat s objekty, které jsou ti již dobře známé. Tedy *proměnné* a *podmínkové zápisy*:"
   ]
  },
  {
   "cell_type": "code",
   "execution_count": null,
   "metadata": {},
   "outputs": [],
   "source": [
    "pismena = [\"a\", \"b\", \"c\", \"d\", \"e\", \"f\", \"g\", \"h\", \"i\"]"
   ]
  },
  {
   "cell_type": "code",
   "execution_count": null,
   "metadata": {},
   "outputs": [],
   "source": [
    "for pismeno in pismena:\n",
    "    if pismeno == \"g\":\n",
    "        print(\"*Mam hodnotu ->*\", pismeno)\n",
    "    else:\n",
    "        print(\"Nemam 'g', ale\", pismeno)"
   ]
  },
  {
   "cell_type": "markdown",
   "metadata": {},
   "source": [
    "<br>\n",
    "\n",
    "#### For/else\n",
    "\n",
    "Jde o speciální syntaxi, kde na ohlášení smyčky doplníš větev `else`, která má svoje využití:"
   ]
  },
  {
   "cell_type": "code",
   "execution_count": null,
   "metadata": {},
   "outputs": [],
   "source": [
    "pismena = [\"a\", \"b\", \"c\", \"d\", \"e\", \"f\", \"g\", \"h\", \"i\"]"
   ]
  },
  {
   "cell_type": "code",
   "execution_count": null,
   "metadata": {},
   "outputs": [],
   "source": [
    "for pismeno in pismena:\n",
    "    if pismeno == \"x\":\n",
    "        print(\"*Mam hodnotu ->*\", pismeno)\n",
    "    else:\n",
    "        print(\"Nemam 'x', ale\", pismeno)\n",
    "\n",
    "else:  # je možné napsat klasickou větev s \"if\"\n",
    "    print(\"-\" * 29, \"Hledane pismeno neni v listu!\", \"-\" * 29, sep=\"\\n\")"
   ]
  },
  {
   "cell_type": "markdown",
   "metadata": {},
   "source": [
    "*poznámka*. Pomocný `else` se přidává k cyklu `for`, pokud chceme nějaký proces provést **až po úspěšném skončení celého cyklu**.\n",
    "\n",
    "<br>\n",
    "\n",
    "#### For loop s doplňujícím ohlášením\n",
    "\n",
    "Cykly můžeme doplnit **ohlášeními**, obzvlášť pokud potřebujeme **přeskočit**/**pokračovat** v  průběhu cyklu.\n",
    "\n",
    "<br>\n",
    "\n",
    "| Ohlášení | Použití |\n",
    "|:-:|:-|\n",
    "|`break` | **přeskočí** zbytek smyčky (vč. else větve) a pokračuje kódem pod ní |\n",
    "|`continue` | \t**vrací se** k definici smyčky |\n",
    "|`pass` | \ttzv. *placeholder*, zabrání potenciální výjimce |\n",
    "\n",
    "<br>\n",
    "\n",
    "#### Ohlášení break"
   ]
  },
  {
   "cell_type": "markdown",
   "metadata": {},
   "source": [
    "##### Obyčejný for loop"
   ]
  },
  {
   "cell_type": "code",
   "execution_count": null,
   "metadata": {},
   "outputs": [],
   "source": [
    "for pismeno in \"Matous\":\n",
    "    print(pismeno)"
   ]
  },
  {
   "cell_type": "markdown",
   "metadata": {},
   "source": [
    "##### For loop a ohlášení break"
   ]
  },
  {
   "cell_type": "code",
   "execution_count": null,
   "metadata": {},
   "outputs": [],
   "source": [
    "for pismeno in \"Matous\":\n",
    "    print(pismeno)\n",
    "    break"
   ]
  },
  {
   "cell_type": "markdown",
   "metadata": {},
   "source": [
    "##### For/else bez ohlášení break"
   ]
  },
  {
   "cell_type": "code",
   "execution_count": null,
   "metadata": {},
   "outputs": [],
   "source": [
    "for pismeno in \"Matous\":\n",
    "    print(pismeno)\n",
    "\n",
    "else:\n",
    "    print(\"-\" * 29, \"Konec smycky!\", \"-\" * 29, sep=\"\\n\")"
   ]
  },
  {
   "cell_type": "markdown",
   "metadata": {},
   "source": [
    "##### For/else s ohlášením break"
   ]
  },
  {
   "cell_type": "code",
   "execution_count": null,
   "metadata": {},
   "outputs": [],
   "source": [
    "for pismeno in \"Matous\":\n",
    "    print(pismeno)\n",
    "    break\n",
    "\n",
    "else:\n",
    "    print(\"-\" * 29, \"Konec smycky!\", \"-\" * 29, sep=\"\\n\")"
   ]
  },
  {
   "cell_type": "markdown",
   "metadata": {},
   "source": [
    "##### For loop s ohlášením break bez else"
   ]
  },
  {
   "cell_type": "code",
   "execution_count": null,
   "metadata": {},
   "outputs": [],
   "source": [
    "for pismeno in \"Matous\":\n",
    "    print(pismeno)\n",
    "    break\n",
    "\n",
    "print(\"-\" * 29, \"Konec smycky!\", \"-\" * 29, sep=\"\\n\")"
   ]
  },
  {
   "cell_type": "markdown",
   "metadata": {},
   "source": [
    "#### For/else s ohlášením break a doplňujícím ohlášením pod cyklem"
   ]
  },
  {
   "cell_type": "code",
   "execution_count": null,
   "metadata": {},
   "outputs": [],
   "source": [
    "pismena = [\"a\", \"b\", \"c\", \"d\", \"e\", \"f\", \"g\", \"h\"]"
   ]
  },
  {
   "cell_type": "code",
   "execution_count": null,
   "metadata": {},
   "outputs": [],
   "source": [
    "for pismeno in pismena:\n",
    "    if pismeno == \"e\":\n",
    "        print(\"Mam hodnotu ->\", pismeno)\n",
    "        break\n",
    "    else:\n",
    "        print(\"Nemam 'e', ale\", pismeno)\n",
    "\n",
    "print(\"Pokracuji s interpretaci naseho zapisu ^.^\")"
   ]
  },
  {
   "cell_type": "markdown",
   "metadata": {},
   "source": [
    "<br>\n",
    "\n",
    "#### Ohlášení continue"
   ]
  },
  {
   "cell_type": "markdown",
   "metadata": {},
   "source": [
    "##### Obyčejný for loop"
   ]
  },
  {
   "cell_type": "code",
   "execution_count": null,
   "metadata": {},
   "outputs": [],
   "source": [
    "for pismeno in \"Matous\":\n",
    "    print(pismeno)"
   ]
  },
  {
   "cell_type": "markdown",
   "metadata": {},
   "source": [
    "##### For loop a ohlášení continue"
   ]
  },
  {
   "cell_type": "code",
   "execution_count": null,
   "metadata": {},
   "outputs": [],
   "source": [
    "for pismeno in \"Matous\":\n",
    "    print(pismeno)\n",
    "    continue"
   ]
  },
  {
   "cell_type": "markdown",
   "metadata": {},
   "source": [
    "##### For/else a ohlášení continue"
   ]
  },
  {
   "cell_type": "code",
   "execution_count": null,
   "metadata": {},
   "outputs": [],
   "source": [
    "for pismeno in \"Matous\":\n",
    "    print(pismeno)\n",
    "    continue\n",
    "\n",
    "else:\n",
    "    print(\"-\" * 29, \"Konec smycky!\", \"-\" * 29, sep=\"\\n\")"
   ]
  },
  {
   "cell_type": "markdown",
   "metadata": {},
   "source": [
    "##### For loop, podmínka a ohlášení continue"
   ]
  },
  {
   "cell_type": "code",
   "execution_count": null,
   "metadata": {},
   "outputs": [],
   "source": [
    "pismena = [\"a\", \"b\", \"c\", \"d\", \"e\", \"f\", \"g\", \"h\"]"
   ]
  },
  {
   "cell_type": "code",
   "execution_count": null,
   "metadata": {
    "scrolled": true
   },
   "outputs": [],
   "source": [
    "for pismeno in pismena:\n",
    "    if pismeno in {\"a\", \"b\", \"c\", \"d\"}:\n",
    "        continue\n",
    "\n",
    "    print(\"Hodnota je dulezita:\", pismeno)"
   ]
  },
  {
   "cell_type": "markdown",
   "metadata": {},
   "source": [
    "<br>\n",
    "\n",
    "#### Ohlášení pass\n",
    "\n",
    "Doplňující ohlášení, které slouží jako `placeholder` pro zápis, který ještě není kompletní a současně nezpůsobí výjimku."
   ]
  },
  {
   "cell_type": "markdown",
   "metadata": {},
   "source": [
    "##### For loop, bez ohlášení pass"
   ]
  },
  {
   "cell_type": "code",
   "execution_count": null,
   "metadata": {},
   "outputs": [],
   "source": [
    "for pismeno in \"Matous\":\n",
    "    # budu iterovat skrze promennou: str"
   ]
  },
  {
   "cell_type": "markdown",
   "metadata": {},
   "source": [
    "##### For loop, s ohlášením pass"
   ]
  },
  {
   "cell_type": "code",
   "execution_count": null,
   "metadata": {},
   "outputs": [],
   "source": [
    "for pismeno in \"Matous\":\n",
    "    # budu iterovat skrze promennou: str\n",
    "    pass"
   ]
  },
  {
   "cell_type": "markdown",
   "metadata": {},
   "source": [
    "##### For loop, doplněná budoucí ohlášení"
   ]
  },
  {
   "cell_type": "code",
   "execution_count": null,
   "metadata": {},
   "outputs": [],
   "source": [
    "for pismeno in \"Matous\":\n",
    "    print(pismeno)\n",
    "#     pass"
   ]
  },
  {
   "cell_type": "markdown",
   "metadata": {},
   "source": [
    "#### Nestovaný for loop"
   ]
  },
  {
   "cell_type": "code",
   "execution_count": null,
   "metadata": {},
   "outputs": [],
   "source": [
    "obsah = [\n",
    "    ['jmeno;prijmeni;email;projekt'],\n",
    "    ['Matous;Holinka;m.holinka@firma.cz;hr'],\n",
    "    ['Petr;Svetr;p.svetr@firma.cz;devops']\n",
    "]"
   ]
  },
  {
   "cell_type": "code",
   "execution_count": null,
   "metadata": {},
   "outputs": [],
   "source": [
    "# Vypiš jednotlivé řádky a následně jednotlivé buňky\n",
    "for radek in obsah:\n",
    "    print(radek)\n",
    "    radek_rozdeleny = radek[0].split(\";\")\n",
    "\n",
    "    for bunka in radek_rozdeleny:\n",
    "        print(bunka)"
   ]
  },
  {
   "cell_type": "markdown",
   "metadata": {},
   "source": [
    "<br>\n",
    "\n",
    "<img src=\"https://external-content.duckduckgo.com/iu/?u=https%3A%2F%2Ftse2.mm.bing.net%2Fth%3Fid%3DOIP.Oir5eME7J-RWJpxHkJjr-QHaGe%26pid%3DApi&f=1\" width=\"200\" />\n",
    "\n",
    "\n",
    "\n",
    "### While loop\n",
    "---\n",
    "\n",
    "Někdy ale není nutné *iterovat* přes **celý objekt**, jak tomu bylo u smyčky `for`.\n",
    "\n",
    "Naopak, budeš potřebovat provádět proces *iterování* tak dlouho, *dokud* to bude nutné.\n",
    "\n",
    "Za takovým účelem můžeš využít druhý typ smyček, `while`.\n",
    "\n",
    "#### Obecně while loop"
   ]
  },
  {
   "cell_type": "code",
   "execution_count": null,
   "metadata": {},
   "outputs": [],
   "source": [
    "index = 0\n",
    "\n",
    "while index < 10:  # 10 < 10\n",
    "    print(index, \", \", index, \" < 10\", \" pokracujeme!\", sep=\"\")  # pokud True\n",
    "    index = index + 1       # index = 2                          # 9 + 1 -> index = 10\n",
    "\n",
    "print(\"\\n\", index, \", \", index,  \" < 10 -> False\", sep=\"\")       # pokud False\n",
    "print(\"Pokracuje zapis pod smyckou..\")"
   ]
  },
  {
   "cell_type": "markdown",
   "metadata": {},
   "source": [
    "1. `while` je **klíčkový výraz** v záhlaví (zápisu) cyklu,\n",
    "2. `index < 10` je **podmínka**. Pokud je vyhodnocená jako `True`, proveď odsazené ohlášení,\n",
    "3. `index < 10` pokud `False`, pokračuj **s neodsazeným zápisem** pod smyčkou,\n",
    "4. `:` řádek s předpisem musí být **zakončený dvojtečkou**,\n",
    "5. `print(...)`, následují **odsazené ohlášení**, které se budou opakovat v každém kroku,\n",
    "6. `print(index, \", \" ... ` pokračuje neodsazený zápis, pod smyčkou.\n",
    "\n",
    "<br>\n",
    "\n",
    "#### While s doplňující podmínkou\n",
    "\n",
    "Cyklus `while` samotný podmínku obsahuje. Určitě je ale možnost, tento podmínkový strom ještě rozšířit."
   ]
  },
  {
   "cell_type": "code",
   "execution_count": null,
   "metadata": {},
   "outputs": [],
   "source": [
    "index = 0\n",
    "\n",
    "while index < 20:\n",
    "    if len(str(index)) != 2:  # pokud není číselná hodnota ze dvou znaků\n",
    "        index = index + 1\n",
    "        continue\n",
    "\n",
    "    print(index)\n",
    "    index = index + 1"
   ]
  },
  {
   "cell_type": "markdown",
   "metadata": {},
   "source": [
    "Takové rozšíření může být obzvlášť přínosné, pokud podmínka v předpise nejde formulovat:"
   ]
  },
  {
   "cell_type": "code",
   "execution_count": null,
   "metadata": {},
   "outputs": [],
   "source": [
    "index = 0\n",
    "\n",
    "while index < 20 and len(str(index)) == 2:  # kombinace podmínek tady není použitelná\n",
    "    print(index)\n",
    "    index = index + 1"
   ]
  },
  {
   "cell_type": "markdown",
   "metadata": {},
   "source": [
    "<br>\n",
    "\n",
    "#### While/else\n",
    "\n",
    "Cyklus `while` lze rozšířit o podmínkovou větev `else`.\n",
    "\n",
    "K ní se *interpret* dostane, pokud je podmínka v předpisu vyhodnocená jako `False` a současně nedojde k ohlášení `break`."
   ]
  },
  {
   "cell_type": "code",
   "execution_count": null,
   "metadata": {},
   "outputs": [],
   "source": [
    "index = 0\n",
    "\n",
    "while index < 20:\n",
    "    if len(str(index)) != 2:  # pokud není číselná hodnota ze dvou znaků\n",
    "        index = index + 1\n",
    "        continue\n",
    "\n",
    "    print(index)\n",
    "    index = index + 1\n",
    "\n",
    "else:\n",
    "    print(\"-\" * 23, \"Podminka -> False\".center(23), \"-\" * 23, sep=\"\\n\")\n",
    "\n",
    "print(\">Pokracuji pod smyckou<\")"
   ]
  },
  {
   "cell_type": "code",
   "execution_count": null,
   "metadata": {},
   "outputs": [],
   "source": [
    "index = 0\n",
    "\n",
    "while index < 20:\n",
    "    if len(str(index)) != 2:  # pokud není číselná hodnota ze dvou znaků\n",
    "        index = index + 1\n",
    "        break\n",
    "\n",
    "    print(index)\n",
    "    index = index + 1\n",
    "    \n",
    "else:\n",
    "    print(\"-\" * 23, \"Podminka -> False\".center(23), \"-\" * 23, sep=\"\\n\")\n",
    "\n",
    "print(\">Pokracuji pod smyckou<\")"
   ]
  },
  {
   "cell_type": "markdown",
   "metadata": {},
   "source": [
    "<br>\n",
    "\n",
    "#### Nekonečný while loop\n",
    "\n",
    "Jednou z aplikací smyčky `while` je zápis tzv. *nekonečného cyklu*.\n",
    "\n",
    "Obecně můžeme říct, že v případě **nekonečných smyček** mluvíme o dvou typech:\n",
    "1. Neřízené nekonečné smyčky,\n",
    "2. řízené nekonečné smyčky.\n",
    "\n",
    "<br>\n",
    "\n",
    "###### Neřízené nekonečné smyčky\n",
    "\n",
    "Ty mohou nastat v důsledku špatného zápisu `while` cyklu.\n",
    "```python\n",
    "index = 1\n",
    "\n",
    "while index < 20:\n",
    "    print(index)\n",
    "```\n",
    "\n",
    "*poznámka*. výše ukázaná varianta představuje tzv. *nežádoucí nekonečnou smyčku*, kde vznikla chyba **v odsazené části zápisu**.\n",
    "```python\n",
    "index = 1\n",
    "\n",
    "while index > 0:\n",
    "    print(index)\n",
    "    index = index + 1\n",
    "```\n",
    "*poznámka*. výše ukázaná varianta představuje tzv. *nežádoucí nekonečnou smyčku*, kde vznikla chyba **ve špatně zapsané podmínce**.\n",
    "\n",
    "<br>\n",
    "\n",
    "###### Řízené nekonečné smyčky\n",
    "\n",
    "Nekonečný cyklus s `while` je ale možné formulovat jako *řádnou/žádoucí nekonečnou smyčku*:"
   ]
  },
  {
   "cell_type": "code",
   "execution_count": null,
   "metadata": {},
   "outputs": [],
   "source": [
    "while True:\n",
    "    vstupni_hodnota = input(\"zadej pismeno:\".upper())\n",
    "    \n",
    "    if vstupni_hodnota.isalpha():\n",
    "        print(\"UDAJ: \", vstupni_hodnota, \" JE SKUTECNE PISMENO\")\n",
    "    else:\n",
    "        print(\"UDAJ: \", vstupni_hodnota, \" NENI PISMENO!\")\n",
    "        break"
   ]
  },
  {
   "cell_type": "markdown",
   "metadata": {},
   "source": [
    "<br>\n",
    "\n",
    "\n",
    "<img src=\"https://external-content.duckduckgo.com/iu/?u=https%3A%2F%2Ftse3.mm.bing.net%2Fth%3Fid%3DOIP.fNwmtWM7vEaO1gxjCKwMOwHaHa%26pid%3DApi&f=1\" width=\"300\" />\n",
    "\n",
    "### Range\n",
    "\n",
    "---\n",
    "\n",
    "\n",
    "Jde o *built-in* funkci, která nám vytvoří datový typ `range`. Tento typ v podstatě odpovídá tomu, co si představíme pod slovem **interval** nebo **rozsah**:"
   ]
  },
  {
   "cell_type": "code",
   "execution_count": null,
   "metadata": {},
   "outputs": [],
   "source": [
    "print(range(11))"
   ]
  },
  {
   "cell_type": "code",
   "execution_count": null,
   "metadata": {},
   "outputs": [],
   "source": [
    "print(type(range(11)))"
   ]
  },
  {
   "cell_type": "code",
   "execution_count": null,
   "metadata": {},
   "outputs": [],
   "source": [
    "for cislo in range(0, 11):\n",
    "    print(cislo)"
   ]
  },
  {
   "cell_type": "markdown",
   "metadata": {},
   "source": [
    "#### Vytvoření range\n",
    "\n",
    "| Počet argumentů |\tVýznam |\n",
    "|:-:|:-|\n",
    "| **1** | \tHodnota stop. Začíná defaultně od 0 (končí o jednu hodnotu dříve než stop)\n",
    "| **2** | \tHodnoty start a stop |\n",
    "| **3** | \tHodnoty start, stop a step (tedy krok) |"
   ]
  },
  {
   "cell_type": "code",
   "execution_count": null,
   "metadata": {},
   "outputs": [],
   "source": [
    "print(tuple(range(11)))"
   ]
  },
  {
   "cell_type": "code",
   "execution_count": null,
   "metadata": {},
   "outputs": [],
   "source": [
    "print(tuple(range(1, 11)))"
   ]
  },
  {
   "cell_type": "code",
   "execution_count": null,
   "metadata": {},
   "outputs": [],
   "source": [
    "print(tuple(range(1, 11, 3)))"
   ]
  },
  {
   "cell_type": "code",
   "execution_count": null,
   "metadata": {},
   "outputs": [],
   "source": [
    "print(tuple(range(10, 0, -1)))"
   ]
  },
  {
   "cell_type": "code",
   "execution_count": null,
   "metadata": {},
   "outputs": [],
   "source": [
    "print(tuple(range(10, 0, -1)))"
   ]
  },
  {
   "cell_type": "markdown",
   "metadata": {},
   "source": [
    "*poznámka*. datový typ `range` pracuje pouze **s celými čísly**."
   ]
  },
  {
   "cell_type": "code",
   "execution_count": null,
   "metadata": {},
   "outputs": [],
   "source": [
    "url = \"www.oukro.cz/aukce&page=1\"  # .. 22\n",
    "\n",
    "for cislo in range(1, 23):\n",
    "    print(f\"www.oukro.cz/aukce&page={cislo}\")"
   ]
  },
  {
   "cell_type": "markdown",
   "metadata": {},
   "source": [
    "<br>\n",
    "\n",
    "<img src=\"https://external-content.duckduckgo.com/iu/?u=https%3A%2F%2Ftse1.mm.bing.net%2Fth%3Fid%3DOIP.xszhziZWTRmKLG00uoNozAHaHM%26pid%3DApi&f=1\" width=\"200\" />\n",
    "\n",
    "\n",
    "### Enumerate\n",
    "\n",
    "---\n",
    "\n",
    "Jde opět o  **built-in funkci** a současně datový typ, která nám **vytvoří číslování** pro zadaný *iterovatelný* objekt."
   ]
  },
  {
   "cell_type": "code",
   "execution_count": null,
   "metadata": {},
   "outputs": [],
   "source": [
    "print(enumerate([\"Python\", \"Java\", \"JavaScript\", \"C\", \"Rust\"]))"
   ]
  },
  {
   "cell_type": "code",
   "execution_count": null,
   "metadata": {},
   "outputs": [],
   "source": [
    "print(tuple(enumerate([\"Python\", \"Java\", \"JavaScript\", \"C\", \"Rust\"])))"
   ]
  },
  {
   "cell_type": "code",
   "execution_count": null,
   "metadata": {},
   "outputs": [],
   "source": [
    "print(type(enumerate([\"Python\", \"Java\", \"JavaScript\", \"C\", \"Rust\"])))"
   ]
  },
  {
   "cell_type": "markdown",
   "metadata": {},
   "source": [
    "##### For loop s enumerate"
   ]
  },
  {
   "cell_type": "code",
   "execution_count": null,
   "metadata": {},
   "outputs": [],
   "source": [
    "for index, jazyk in enumerate([\"Python\", \"Java\", \"JavaScript\", \"C\", \"Rust\"]):\n",
    "    if index >= 2:\n",
    "        print(jazyk)"
   ]
  },
  {
   "cell_type": "markdown",
   "metadata": {},
   "source": [
    "<br>\n",
    "\n",
    "\n",
    "<img src=\"https://external-content.duckduckgo.com/iu/?u=https%3A%2F%2Ftse1.mm.bing.net%2Fth%3Fid%3DOIP.QTQy3KN6A9Ih7btyIsF-_gHaGq%26pid%3DApi&f=1\" width=\"200\" />\n",
    "\n",
    "### Zip"
   ]
  },
  {
   "cell_type": "markdown",
   "metadata": {},
   "source": [
    "Tato funkce ti umožní *iterovat* skrze několik *iterovatelných objektů* **současně**:"
   ]
  },
  {
   "cell_type": "code",
   "execution_count": null,
   "metadata": {},
   "outputs": [],
   "source": [
    "jmena = (\"Petr\", \"Marek\", \"David\")\n",
    "prijmeni = (\"Svetr\", \"Pavel\", \"Dvořák\")"
   ]
  },
  {
   "cell_type": "markdown",
   "metadata": {},
   "source": [
    "Funkce *zip* vrací *tuple*, který obsahuje hodnoty **o stejném indexu** z obou (nebo více) objektů."
   ]
  },
  {
   "cell_type": "code",
   "execution_count": null,
   "metadata": {},
   "outputs": [],
   "source": [
    "print(zip(jmena, prijmeni))  # lazy evaluation"
   ]
  },
  {
   "cell_type": "code",
   "execution_count": null,
   "metadata": {},
   "outputs": [],
   "source": [
    "print(list(zip(jmena, prijmeni)))  # lazy evaluation"
   ]
  },
  {
   "cell_type": "code",
   "execution_count": null,
   "metadata": {},
   "outputs": [],
   "source": [
    "for jmeno, prijmeni in zip(jmena, prijmeni):\n",
    "    print(jmeno, prijmeni)"
   ]
  },
  {
   "cell_type": "markdown",
   "metadata": {},
   "source": [
    "Pokud se hodnoty z jednoho z *iterovatelných* objektů vyčerpají, **přeskočí** zbytek hodnot:"
   ]
  },
  {
   "cell_type": "code",
   "execution_count": null,
   "metadata": {},
   "outputs": [],
   "source": [
    "for jmeno, prijmeni in zip((\"Petr\", \"Marek\"), (\"Svetr\", \"Pavel\", \"Dvořák\")):  # 2 jména, 3 příjmení\n",
    "    print(jmeno, prijmeni)"
   ]
  },
  {
   "cell_type": "markdown",
   "metadata": {},
   "source": [
    "<br>\n",
    "\n",
    "<img src=\"https://external-content.duckduckgo.com/iu/?u=https%3A%2F%2Ftse2.mm.bing.net%2Fth%3Fid%3DOIP.ZtuU0gV1oC0QdH6B74_D9QHaHa%26pid%3DApi&f=1\" width=\"200\" />\n",
    "\n",
    "\n",
    "\n",
    "### Walrus\n",
    "\n",
    "---\n",
    "\n",
    "Přiřazovací operátor je formulace, která je v Pythonu poměrně nová (3.8+).\n",
    "\n"
   ]
  },
  {
   "cell_type": "markdown",
   "metadata": {},
   "source": [
    "#### Vytvoření hodnoty a uložení"
   ]
  },
  {
   "cell_type": "code",
   "execution_count": null,
   "metadata": {},
   "outputs": [],
   "source": [
    "jmeno = \"Matous\"\n",
    "print(jmeno)"
   ]
  },
  {
   "cell_type": "code",
   "execution_count": null,
   "metadata": {},
   "outputs": [],
   "source": [
    "print(jmeno := \"Matous\")"
   ]
  },
  {
   "cell_type": "markdown",
   "metadata": {},
   "source": [
    "##### Kombinace s podmínkou"
   ]
  },
  {
   "cell_type": "code",
   "execution_count": null,
   "metadata": {},
   "outputs": [],
   "source": [
    "jmeno = input(\"JMENO: \")\n",
    "\n",
    "if jmeno == \"Matous\":\n",
    "    print(\"POZDRAV: Ahoj, \", jmeno, \"i!\", sep=\"\")\n",
    "else:\n",
    "    print(\"POZDRAV: Ahoj, vsem!\")"
   ]
  },
  {
   "cell_type": "code",
   "execution_count": null,
   "metadata": {},
   "outputs": [],
   "source": [
    "if (jmeno := input(\"JMENO: \")) == \"Matous\":\n",
    "    print(\"POZDRAV: Ahoj, \", jmeno, \"i!\", sep=\"\")\n",
    "else:\n",
    "    print(\"POZDRAV: Ahoj, vsem!\")"
   ]
  },
  {
   "cell_type": "markdown",
   "metadata": {},
   "source": [
    "##### Kombinace s cyklem while"
   ]
  },
  {
   "cell_type": "code",
   "execution_count": null,
   "metadata": {},
   "outputs": [],
   "source": [
    "while (vstup := input(\"-> \")) != \"quit\":\n",
    "    print(\"Zadany vstup: \", vstup)\n",
    "else:\n",
    "    print(\"Konec smycky\")"
   ]
  },
  {
   "cell_type": "code",
   "execution_count": null,
   "metadata": {},
   "outputs": [],
   "source": [
    "vstup = \"\"\n",
    "\n",
    "while vstup != \"quit\":\n",
    "    vstup = input(\"-> \")\n",
    "    print(\"Zadany vstup: \", vstup)\n",
    "\n",
    "else:\n",
    "    print(\"Konec smycky\")"
   ]
  },
  {
   "cell_type": "markdown",
   "metadata": {},
   "source": [
    "<br>\n",
    "\n",
    "<img src=\"https://external-content.duckduckgo.com/iu/?u=https%3A%2F%2Ftse1.mm.bing.net%2Fth%3Fid%3DOIP.O9EkosTHP3lmEAvzA3D-2QHaHa%26pid%3DApi&f=1\" width=\"200\" />\n",
    "\n",
    "\n",
    "\n",
    "### Domácí úkol\n",
    "\n",
    "---"
   ]
  },
  {
   "cell_type": "markdown",
   "metadata": {},
   "source": [
    "##### První část\n",
    "\n",
    "Z výše zadaných jmen vytvoř slovník, kde budou klíče celá jména a hodnoty budou nestované slovníky, obsahující klíče křestní jméno, příjmení a email. Viz. ukázka:"
   ]
  },
  {
   "cell_type": "code",
   "execution_count": null,
   "metadata": {},
   "outputs": [],
   "source": [
    "zamestnanci_raw = \"\"\"\n",
    "Helena Vybíralová\n",
    "Wendy Štrumlová\n",
    "Marie Vybíralová\n",
    "Stanislav Bechyňka\n",
    "Zdeňka Urbánková\n",
    "Lukáš Riečan\n",
    "Veronika Koudelová\n",
    "Františka Vorlová\n",
    "Ilie Seleš\n",
    "Martin Železný\n",
    "Petra Niklesová\n",
    "Bohumil Skok\n",
    "Jakub Šmíd\n",
    "Jarmila Procházková\n",
    "Dagmar Hlavatá\n",
    "Jiří Nguyen Thanh\n",
    "Marie Franková\n",
    "Dana Ulrichová\n",
    "Jana Hranická\n",
    "Hana Budošová\n",
    "Ivan Široký\n",
    "Květoslava Jiráčková\n",
    "Pavel Przywara\n",
    "Josef Umlauf\n",
    "Tomáš Granzer\n",
    "Miroslav Kuba\n",
    "Miloslava Adámková\n",
    "Marie Karlíková\n",
    "Jaroslav Hronský\n",
    "Vlasta Karlíková\n",
    "Andrea Žatková\n",
    "Zuzana Lokočová\n",
    "Ondřej Ptáček\n",
    "Zdeněk Najman\n",
    "Tereza Šebešová\n",
    "Antonie Skokánková\n",
    "Jan Lion\n",
    "Václav Vecko\n",
    "František Vajgl\n",
    "Adéla Kavková\n",
    "Amália Vacková\n",
    "Anna Pažická\n",
    "Ivo Pustějovský\n",
    "Antonín Pavela\n",
    "Jitka Adamová\n",
    "Libuše Hamroziová\n",
    "Drahomíra Balzerová\n",
    "Marek Suchánek\n",
    "Petr Vavrinec\n",
    "Jonáš Stuchlý\n",
    "Jaromír Pecen\n",
    "Markéta Kyliánková\n",
    "Marina Pečenková\n",
    "Ivana Perdochová\n",
    "Michaela Drápalová\n",
    "Michael Mentlík\n",
    "Rudolf Špičák\n",
    "Žaneta Holá\n",
    "Blanka Lišková\n",
    "Eva Svatoňová\n",
    "Rostislav Hoang\n",
    "Martina Kalivodová\n",
    "Milan Hruška\n",
    "Zdenka Marková\n",
    "Lenka Schambergerová\n",
    "Růžena Martinů\n",
    "Věra Řezanková\n",
    "Marie Pečenková\n",
    "Miloš Váchal\n",
    "Jaroslava Hrubá\n",
    "Petr Pecen\n",
    "Pavla Konvicová\n",
    "Lucie Marešová\n",
    "Květuše Zdráhalová\n",
    "Vlastimila Svatošová\n",
    "Zora Michalčíková\n",
    "Daniel Švejnoha\n",
    "Klára Brunclíková\n",
    "Vladimír Bauer\n",
    "Michal Slaný\n",
    "Jiřina Novosadová\n",
    "Karel Sršeň\n",
    "Stanislava Lakosilová\n",
    "Filip Černý\n",
    "Alena Kubiková\n",
    "Sára Kotrlová\n",
    "Alois Rejlek\n",
    "Božena Novotná\n",
    "Maryana Nováková\n",
    "Kateřina Máslová\n",
    "Ladislav Dvořák\n",
    "Radek Varga\n",
    "Petr Dvořák\n",
    "Ludmila Jaklová\n",
    "Renáta Foubíková\n",
    "Nikola Lehká\n",
    "Dominika Riegerová\n",
    "Patrik Polák\n",
    "Soňa Štrbová\n",
    "David Matoušek\n",
    "Liubov Hollíková\n",
    "Monika Poláková\n",
    "Marie Jaklová\n",
    "Aleš Svoboda\n",
    "Roman Kolínský\n",
    "Karolína Košiková\n",
    "\"\"\""
   ]
  },
  {
   "cell_type": "markdown",
   "metadata": {},
   "source": [
    "```\n",
    "{'Adéla Kavková': {'email': 'a.kavková@firma.cz',\n",
    "                   'krestni_jmeno': 'Adéla',\n",
    "                   'prijmeni': 'Kavková'},\n",
    " 'Alena Kubiková': {'email': 'a.kubiková@firma.cz',\n",
    "                    'krestni_jmeno': 'Alena',\n",
    "                    'prijmeni': 'Kubiková'},\n",
    " 'Aleš Svoboda': {'email': 'a.svoboda@firma.cz',\n",
    "                  'krestni_jmeno': 'Aleš',\n",
    "                  'prijmeni': 'Svoboda'},\n",
    " ...\n",
    "}\n",
    "```"
   ]
  },
  {
   "cell_type": "code",
   "execution_count": null,
   "metadata": {},
   "outputs": [],
   "source": [
    "zamestnanci = dict()\n",
    "\n",
    "for cele_jmeno in zamestnanci_raw.splitlines():\n",
    "    if cele_jmeno:\n",
    "        zamestnanci[cele_jmeno] = {\n",
    "            \"krestni_jmeno\": (kr_jmeno := cele_jmeno.split()[0]),\n",
    "            \"prijmeni\": (prijmeni := cele_jmeno.split()[1]),\n",
    "            \"email\": kr_jmeno.lower()[0] + \".\" + prijmeni.lower() + \"@firma.cz\",\n",
    "#             \"email\": f\"{kr_jmeno.lower()[0]}.{prijmeni.lower()}@firma.cz\"\n",
    "        }"
   ]
  },
  {
   "cell_type": "code",
   "execution_count": null,
   "metadata": {},
   "outputs": [],
   "source": [
    "from pprint import pprint\n",
    "pprint(zamestnanci)"
   ]
  },
  {
   "cell_type": "markdown",
   "metadata": {},
   "source": [
    "<br>\n",
    "\n",
    "##### Druhá část\n",
    "\n",
    "Tvým úkolem bude odstraňovat písmena ze zadaného seznamu pomocí funkce `input`:\n",
    "```python\n",
    "pismena = [\"a\", \"a\", \"b\", \"c\", \"d\", \"a\", \"e\", \"g\", \"m\"]\n",
    "```\n",
    "\n",
    "Jakmile budou všechna písmena odstraněná, vypíše tvůj program:\n",
    "```python\n",
    "Seznam je prázdný!\n",
    "```\n",
    "\n",
    "Pokud zapíšeš písmeno, které v zadaném seznamu není, dostaneš upozornění:\n",
    "```python\n",
    "x není součástí písmen!\n",
    "```\n",
    "\n",
    "Průběh může vypadat následovně:\n",
    "```python\n",
    "Začátek: ['a', 'a', 'b', 'c', 'd', 'a', 'e', 'g', 'm']\n",
    "ktere písmeno chceš vyhodit? a\n",
    "Zbývají písmena ['a', 'b', 'c', 'd', 'a', 'e', 'g', 'm']\n",
    "ktere písmeno chceš vyhodit? a\n",
    "Zbývají písmena ['b', 'c', 'd', 'a', 'e', 'g', 'm']\n",
    "ktere písmeno chceš vyhodit? a\n",
    "Zbývají písmena ['b', 'c', 'd', 'e', 'g', 'm']\n",
    "ktere písmeno chceš vyhodit? b\n",
    "Zbývají písmena ['c', 'd', 'e', 'g', 'm']\n",
    "ktere písmeno chceš vyhodit? c\n",
    "Zbývají písmena ['d', 'e', 'g', 'm']\n",
    "ktere písmeno chceš vyhodit? d\n",
    "Zbývají písmena ['e', 'g', 'm']\n",
    "ktere písmeno chceš vyhodit? e\n",
    "Zbývají písmena ['g', 'm']\n",
    "ktere písmeno chceš vyhodit? x\n",
    "x není součástí písmen!\n",
    "ktere písmeno chceš vyhodit? g\n",
    "Zbývají písmena ['m']\n",
    "ktere písmeno chceš vyhodit? m\n",
    "Seznam je prázdný!\n",
    "```"
   ]
  },
  {
   "cell_type": "code",
   "execution_count": null,
   "metadata": {},
   "outputs": [],
   "source": [
    "pismena = [\"a\", \"a\", \"b\", \"c\", \"d\", \"a\", \"e\", \"g\", \"m\"]\n",
    "\n",
    "while pismena:\n",
    "    print(\", \".join(pismena))\n",
    "    \n",
    "    zadani = input(\"ktere písmeno chceš vyhodit?\")\n",
    "    \n",
    "    if zadani not in pismena:\n",
    "        print(zadani + \" není součástí písmen!\")\n",
    "    else:\n",
    "        pismena.remove(zadani)\n",
    "\n",
    "else:\n",
    "    print(\"Konec hry!\")"
   ]
  },
  {
   "cell_type": "markdown",
   "metadata": {},
   "source": [
    "---"
   ]
  }
 ],
 "metadata": {
  "kernelspec": {
   "display_name": "Python 3",
   "language": "python",
   "name": "python3"
  },
  "language_info": {
   "codemirror_mode": {
    "name": "ipython",
    "version": 3
   },
   "file_extension": ".py",
   "mimetype": "text/x-python",
   "name": "python",
   "nbconvert_exporter": "python",
   "pygments_lexer": "ipython3",
   "version": "3.8.6"
  }
 },
 "nbformat": 4,
 "nbformat_minor": 4
}
