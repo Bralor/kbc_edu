{
 "cells": [
  {
   "cell_type": "markdown",
   "metadata": {},
   "source": [
    "## Intro\n",
    "\n",
    "---\n",
    "1. [Prezentace](https://docs.google.com/presentation/d/11wwfXr2cvTLvaJ_i0IIMnky6fx6VPAtOnI_GZqubWTA/edit?usp=sharing),\n",
    "1. [Python, obecný úvod, nejčastější dotazy](#Python,-obecný-úvod,-nejčastější-dotazy),\n",
    "2. [Python, instalace, první spuštění](#Python,-instalace,-první-spuštění),\n",
    "3. [Příkazový řádek](#Příkazový-řádek),\n",
    "4. [Krátké skripty a moduly](#Krátké-skripty-a-moduly),\n",
    "5. [Notebooky ipynb](#Notebooky-.ipynb),\n",
    "6. [Základní rozdělení](#Základní-rozdělení),\n",
    "7. [Na doma](#Práce-na-doma)."
   ]
  },
  {
   "cell_type": "markdown",
   "metadata": {},
   "source": [
    "### Python, obecný úvod, nejčastější dotazy\n",
    "\n",
    "---\n",
    "\n",
    "<br>\n",
    "\n",
    "##### Co je to programování?\n",
    "\n",
    "\n",
    "Programování, obecně, je postup, kdy se člověk snaží předepsat (obecně vysvětlit) úkol počítači."
   ]
  },
  {
   "cell_type": "markdown",
   "metadata": {},
   "source": [
    "##### Co je to programovací jazyk?\n",
    "\n",
    "<a href=\"https://imgur.com/ZTIUUPM\"><img src=\"https://i.imgur.com/ZTIUUPM.png\" title=\"source: imgur.com\" width=\"800\" /></a>\n",
    "\n",
    "\n",
    "**Jazyk lidí** a **počítačů** je ale odlišný.\n",
    "\n",
    "Proto je potřeba zavést nějaký **společný jazyk**, aby se obě strany domluvily."
   ]
  },
  {
   "cell_type": "markdown",
   "metadata": {},
   "source": [
    "##### Proč umět programovat?\n",
    "\n",
    "Spoustu úkolů a procesů si člověk provede sám.\n",
    "\n",
    "Je však daleko **pohodlnější, rychlejší a přesnější**, *jednodušší* a *repetitivní úkoly*, přenechat na počítače.\n",
    "\n",
    "<img src=\"https://external-content.duckduckgo.com/iu/?u=https%3A%2F%2Ftse4.mm.bing.net%2Fth%3Fid%3DOIP.A0XA5eB0eVyqfJegNlJhGQHaHa%26pid%3DApi&f=1\" width=\"600\" />"
   ]
  },
  {
   "cell_type": "markdown",
   "metadata": {},
   "source": [
    "##### Proč se učit zrovna Python?\n",
    "Některé programovací jazyky, jako je *Python*, jsou pro člověka **snadněji pochopitelné** (syntaxe čitelnější, lidštější).\n",
    "\n",
    "##### Python:"
   ]
  },
  {
   "cell_type": "code",
   "execution_count": null,
   "metadata": {},
   "outputs": [],
   "source": [
    "print(\"Hello world!\")"
   ]
  },
  {
   "cell_type": "markdown",
   "metadata": {},
   "source": [
    "Jde o tzv. *vysokoúrovňové programovací jazyky*. Ty jsou sice **vzdálenější k řeči počítačů**, za to jsou **čitelnější pro člověka**.\n",
    "\n",
    "\n",
    "<img src=\"https://i.imgur.com/2cGt5AP.png\" width=\"1200\">\n",
    "\n",
    "Druhou skupinou programovacích jazyků jsou *nízkoúrovňové programovací jazyky* (mají blíže k jedničkám a nulám).\n",
    "\n",
    "##### C:"
   ]
  },
  {
   "cell_type": "code",
   "execution_count": 2,
   "metadata": {},
   "outputs": [],
   "source": [
    "#include <stdio.h>\n",
    "\n",
    "int main(void) {\n",
    "  printf(\"Hello World\\n\");\n",
    "  return 0;\n",
    "}"
   ]
  },
  {
   "cell_type": "markdown",
   "metadata": {},
   "source": [
    "Např. jazyky jako **C** nebo **Assembly**, jsou naopak náročnější na **čtení a pochopení**.\n",
    "\n",
    "Proto nejsou zcela vhodné pro úplné **začátky v programování**."
   ]
  },
  {
   "cell_type": "markdown",
   "metadata": {},
   "source": [
    "<br>\n",
    "\n",
    "##### Platí to stále?\n",
    "*Python* je dále programovací jazyk v nejlepších letech, který v únoru 2021 oslavil svoje [30. narozeniny](https://en.wikipedia.org/wiki/Python_(programming_language)).\n",
    "\n",
    "<br>\n",
    "\n",
    "A protože je v nejlepších letech, je současně [na roztrhání](https://insights.stackoverflow.com/survey/2021#most-loved-dreaded-and-wanted-language-want)"
   ]
  },
  {
   "cell_type": "markdown",
   "metadata": {},
   "source": [
    "### Python, instalace, první spuštění\n",
    "\n",
    "---\n",
    "\n",
    "<br>\n",
    "\n",
    "##### Kde získám Python?\n",
    "\n",
    "Na [tomto odkaze](https://www.python.org/downloads/) si vybereš verzi podle tvého operačního systému.\n",
    "\n",
    "<br>\n",
    "\n",
    "##### Potřebuji Python 2 nebo Python 3?\n",
    "\n",
    "\n",
    "Opatrně, není *Python* jako *Python*.\n",
    "\n",
    "<br>\n",
    "\n",
    "Některé operační systémy (Linux, MacOS) mají velmi často **předem nainstalovaný Python se starší verzí (<2.7)**. Díky těmto, dnes již [oficiálně neudržovaným verzím](https://www.python.org/downloads/release/python-2718/) , totiž běží některé původní procesy.\n",
    "\n",
    "<br>\n",
    "\n",
    "Současně se s těmito verzemi můžete setkat v některých materiálech na webu.\n",
    "\n",
    "<br>\n",
    "\n",
    "My budeme pracovat s verzemi **Pythonu 3.8+**, abychom si společně mohli ukázat všechny funkce a procesy, které ve starších verzích nefungovaly.\n",
    "\n",
    "<br>\n",
    "\n",
    "##### Jak probíhá instalace na os Windows?"
   ]
  },
  {
   "cell_type": "code",
   "execution_count": 3,
   "metadata": {},
   "outputs": [
    {
     "data": {
      "image/jpeg": "[encoded data removed]",
      "text/html": [
       "\n",
       "        <iframe\n",
       "            width=\"900\"\n",
       "            height=\"500\"\n",
       "            src=\"https://www.youtube.com/embed/nzc8lCpWJhk\"\n",
       "            frameborder=\"0\"\n",
       "            allowfullscreen\n",
       "        ></iframe>\n",
       "        "
      ],
      "text/plain": [
       "<IPython.lib.display.YouTubeVideo at 0x7f936cdc6a00>"
      ]
     },
     "execution_count": 3,
     "metadata": {},
     "output_type": "execute_result"
    }
   ],
   "source": [
    "from IPython.display import YouTubeVideo\n",
    "YouTubeVideo('nzc8lCpWJhk', width=900, height=500)"
   ]
  },
  {
   "cell_type": "markdown",
   "metadata": {},
   "source": [
    "\n",
    "\n",
    "Po skončení instalace budeš mít k dispozici následující:\n",
    "\n",
    "1. **Základní prvky jazyka** \n",
    "2. **Interpret Pythonu** - tedy náš \"most\", který zajistí, aby počítač porozuměl našemu zápisu\n",
    "3. **Některé pomocné knihovny**\n",
    "\n",
    "<br>\n",
    "\n",
    "##### Proběhla instalace v pořádku?\n",
    "Pokud spustíš přík. řádek a napíšeš:\n",
    "```\n",
    "python --version\n",
    "```\n",
    "\n",
    "<br>\n",
    "\n",
    "Žádoucí výstup:\n",
    "```\n",
    "Python 3.10.XX\n",
    "```\n",
    "\n",
    "<br>\n",
    "\n",
    "*(demo, příkazový řádek)*\n",
    "\n",
    "<br>\n"
   ]
  },
  {
   "cell_type": "markdown",
   "metadata": {},
   "source": [
    "#### Jak a kde pracovat s Pythonem\n",
    "\n",
    "---\n",
    "\n",
    "Jazyk **Python**, je v podstatě soubor *pravidel pro komunikaci* (jako u jiných jazyků).\n",
    "\n",
    "Nicméně ten, kdo tvoje příkazy bude spouštět a provádět není Python, nýbrž jeho **interpret**.\n",
    "\n",
    "<br>\n",
    "\n",
    "<img src=\"https://external-content.duckduckgo.com/iu/?u=https%3A%2F%2Ftse4.mm.bing.net%2Fth%3Fid%3DOIP.3RX0BJUjo1iEcyFBi59JWQHaHa%26pid%3DApi&f=1\" width=\"100\">\n",
    "\n",
    "##### Příkazový řádek\n",
    "\n",
    "V rámci příkazového řádku si můžeš spustit **prostředí interaktivního interpreta**:\n",
    "```\n",
    "python3\n",
    "```\n",
    "\n",
    "Náhle se v příkazovém řádku objeví:\n",
    "```\n",
    "Python 3.X.XX (default, Mar 15 2022, 12:22:08)\n",
    "[GCC 9.4.0] on XXX\n",
    "Type \"help\", \"copyright\", \"credits\" or \"license\" for more information.\n",
    ">>> \n",
    "\n",
    "```\n",
    "Ten je obzvláště nápomocný, pokud si něco zkoušíš, ověřuješ, kontroluješ výstup aj.\n",
    "\n",
    "Ale **není vhodný**, pokud chceš zapisovat **více příkazů**.\n",
    "\n",
    "\n",
    "*(demo, příkazový řádek)*"
   ]
  },
  {
   "cell_type": "markdown",
   "metadata": {},
   "source": [
    "<table><tr>\n",
    "<td><img src=\"https://external-content.duckduckgo.com/iu/?u=https%3A%2F%2Ftse4.mm.bing.net%2Fth%3Fid%3DOIP.TsfnzoDPkTybVVz3WAz6MQHaHa%26pid%3DApi&f=1\" width=\"100\"></td>\n",
    "<td><img src=\"https://external-content.duckduckgo.com/iu/?u=https%3A%2F%2Ftse1.mm.bing.net%2Fth%3Fid%3DOIP.p4NKEAqAdgFX_u8PwtI_nwHaHa%26pid%3DApi&f=1\" width=\"100\"></td>\n",
    "<td><img src=\"https://external-content.duckduckgo.com/iu/?u=https%3A%2F%2Ftse4.mm.bing.net%2Fth%3Fid%3DOIP.jguxO12Bvw9_WaqZ9j8oUAHaCy%26pid%3DApi&f=1\" width=\"100\"></td>\n",
    "</tr></table>\n",
    "\n",
    "\n",
    "\n",
    "    \n",
    "\n",
    "    \n",
    "\n",
    "\n",
    "\n",
    "\n",
    "##### Krátké skripty a moduly\n",
    "\n",
    "Pokud potřebuješ zapsat více příkazů na několik řádků, je vhodné pracovat s editorem (nebo s IDE).\n",
    "\n",
    "* **editor**, jednodušší prostředí, méně funkcionality, přesto dostatečná rychlost a režie výkonu pc,\n",
    "* **IDE**, pro náročnější uživatele, obsahují hromadu doplňujících nástrojů. Často ale na úkor výkonu.\n",
    "\n",
    "*(demo, replit, Sublime, PyCharm)*\n"
   ]
  },
  {
   "cell_type": "markdown",
   "metadata": {},
   "source": [
    "```python\n",
    "import datetime\n",
    "\n",
    "aktualni_cas = datetime.datetime.now()\n",
    "\n",
    "print(\"Ahoj na první lekci s CSOB. Dneska máme\", aktualni_cas.strftime(\"%d/%m/%Y\"))\n",
    "```"
   ]
  },
  {
   "cell_type": "markdown",
   "metadata": {},
   "source": [
    "### Pycharm, instalace\n",
    "\n",
    "---\n",
    "\n",
    "Instalátor stáhneš na [oficiálním webu](https://www.jetbrains.com/).\n",
    "\n",
    "<br>\n",
    "\n",
    "##### Jak probíhá instalace na OS Windows?"
   ]
  },
  {
   "cell_type": "code",
   "execution_count": 4,
   "metadata": {},
   "outputs": [
    {
     "data": {
      "image/jpeg": "[encoded data removed]",
      "text/html": [
       "\n",
       "        <iframe\n",
       "            width=\"900\"\n",
       "            height=\"500\"\n",
       "            src=\"https://www.youtube.com/embed/Sb4FJP64IvQ\"\n",
       "            frameborder=\"0\"\n",
       "            allowfullscreen\n",
       "        ></iframe>\n",
       "        "
      ],
      "text/plain": [
       "<IPython.lib.display.YouTubeVideo at 0x7f936cdc6580>"
      ]
     },
     "execution_count": 4,
     "metadata": {},
     "output_type": "execute_result"
    }
   ],
   "source": [
    "from IPython.display import YouTubeVideo\n",
    "YouTubeVideo('Sb4FJP64IvQ', width=900, height=500)"
   ]
  },
  {
   "cell_type": "markdown",
   "metadata": {},
   "source": [
    "##### Notebooky `.ipynb`\n",
    "\n",
    "---\n",
    "\n",
    "<img src=\"https://external-content.duckduckgo.com/iu/?u=http%3A%2F%2Fwww.i-programmer.info%2Fimages%2Fstories%2FNews%2F2015%2FMar%2FA%2Fjupyter.jpg&f=1&nofb=1\" width=\"120\">\n",
    "\n",
    "\n",
    "Jde o speciální prostředí, které umožňuje využít potenciálu **interpretu Pythonu** a současně **zapisovat poznámky**, zobrazovat obrázky, grafy aj."
   ]
  },
  {
   "cell_type": "code",
   "execution_count": null,
   "metadata": {},
   "outputs": [],
   "source": [
    "import datetime\n",
    "\n",
    "aktualni_cas = datetime.datetime.now()\n",
    "\n",
    "print(\"Ahoj na první lekci s KBC. Dneska máme\", aktualni_cas.strftime(\"%d/%m/%Y\"))"
   ]
  },
  {
   "cell_type": "markdown",
   "metadata": {},
   "source": [
    "Notebook má typicky formát nebo příponu `.ipynb`. Tyto soubory pak lze otevřít pomocí **Jupyteru**, případně pomocí **Colaboratory** od Google.\n",
    "\n",
    "\n",
    "Tyto dva nástroje **nejsou** primárně určené **pro programátory**, ale spíše pro *analytiky*, *přednášející*, *datové inženýry*, atd.\n",
    "\n",
    "Tedy třeba pro takové uživatele, kteří publikují výstupy **pro neprogramátory**."
   ]
  },
  {
   "cell_type": "code",
   "execution_count": 8,
   "metadata": {},
   "outputs": [],
   "source": [
    "# !pip install yfinance"
   ]
  },
  {
   "cell_type": "code",
   "execution_count": 9,
   "metadata": {},
   "outputs": [
    {
     "data": {
      "text/plain": [
       "[<matplotlib.lines.Line2D at 0x7f930682cfa0>]"
      ]
     },
     "execution_count": 9,
     "metadata": {},
     "output_type": "execute_result"
    },
    {
     "data": {
      "image/png": "[encoded data removed]",
      "text/plain": [
       "<Figure size 1080x720 with 1 Axes>"
      ]
     },
     "metadata": {
      "needs_background": "light"
     },
     "output_type": "display_data"
    }
   ],
   "source": [
    "import yfinance\n",
    "import pandas as pd\n",
    "import matplotlib.pyplot as plt\n",
    "\n",
    "# vyberu akcie twitteru\n",
    "dt = yfinance.Ticker(\"TWTR\")\n",
    "\n",
    "# vyberu interval od-do\n",
    "results = dt.history(start=\"2022-09-01\", end=\"2022-09-20\")\n",
    "\n",
    "# vyberu pouze sloupce data a closed cena \n",
    "date = results.index\n",
    "close = results['Close']\n",
    "\n",
    "# vytvořím graf\n",
    "plt.rc('figure', figsize=(15, 10))\n",
    "fig, ax = plt.subplots()\n",
    "fig.tight_layout(pad=3)\n",
    "\n",
    "# naformátuji graf\n",
    "ax.plot(\n",
    "    date,\n",
    "    close,\n",
    "    color='red', \n",
    "    linewidth=1,\n",
    "    label='Price'\n",
    ")"
   ]
  },
  {
   "cell_type": "markdown",
   "metadata": {},
   "source": [
    "**Programátoři** jsou často autoři *modulů*, *knihoven*, a jiných *softwarových řešení*, jejichž podobu koncový klient vůbec vidět ani chápat nemusí.\n",
    "\n",
    "<br>\n",
    "\n",
    "* více o projektu [Jupyter](https://jupyter.org/)\n",
    "* více o projektu [Google Colaboratory](https://workspace.google.com/marketplace/app/colaboratory/1014160490159)"
   ]
  },
  {
   "cell_type": "markdown",
   "metadata": {},
   "source": [
    "##### Notebooky, instalace prostředí\n",
    "\n",
    "##### pip\n",
    "Instalace celého prostředí pomocí manažeru balíčků `pip` v příkazovém řádku:\n",
    "```\n",
    "pip install jupyterlab\n",
    "```\n",
    "\n",
    "<br>\n",
    "\n",
    "Pro spuštění v přík. řádku:\n",
    "```\n",
    "jupyter notebook\n",
    "```\n",
    "\n",
    "<br>\n",
    "\n",
    "Nakonec se automaticky otevře **karta prohlížeče** s prostředím Jupyteru.\n",
    "\n",
    "<br>\n",
    "\n",
    "##### anaconda\n",
    "Instalace přes `.exe`, který je ke stažení [zde](https://www.anaconda.com/products/individual).\n"
   ]
  },
  {
   "cell_type": "markdown",
   "metadata": {},
   "source": [
    "### Základní rozdělení\n",
    "\n",
    "---\n",
    "\n",
    "Pro naučení jakéhokoliv **programovacího jazyka**, si potřebuješ osvojit znalosti z tzv. **tří teoretických pilířů**.\n",
    "\n",
    "<br>\n",
    "\n",
    "Na těchto pilířích stojí téměř všechny programovací jazyky:\n",
    "1. **Syntaxe** (funkce, podmínky, smyčky, aj.)\n",
    "2. **Datové typy** (čísla, sekvence, aj.)\n",
    "3. **Knihovny** (decimal, aj.)\n",
    "\n",
    "<br>"
   ]
  },
  {
   "cell_type": "markdown",
   "metadata": {},
   "source": [
    "### Číselné hodnoty\n",
    "\n",
    "---\n",
    "\n",
    "Mezi dva základní **datové typy**, které pracují s čísly Python rozděluje:\n",
    "1. **Celá čísla**, tedy *integer* (`int`),\n",
    "2. **desetinná čísla**, tedy *float* (`float`).\n",
    "\n",
    "<br>\n",
    "\n",
    "##### Zápis v notebooku"
   ]
  },
  {
   "cell_type": "code",
   "execution_count": null,
   "metadata": {},
   "outputs": [],
   "source": [
    "111 + 99  # 111+99"
   ]
  },
  {
   "cell_type": "markdown",
   "metadata": {},
   "source": [
    "##### Zápis v PyCharm\n",
    "Pokud zapomeneš doplnit funkci `print`, potom ohlášení proběhne, ale neuvidíš výsledek."
   ]
  },
  {
   "cell_type": "code",
   "execution_count": null,
   "metadata": {},
   "outputs": [],
   "source": [
    "print(111 + 99)  # print(111+99)"
   ]
  },
  {
   "cell_type": "markdown",
   "metadata": {},
   "source": [
    "##### Jak ověřím datový typ"
   ]
  },
  {
   "cell_type": "code",
   "execution_count": null,
   "metadata": {},
   "outputs": [],
   "source": [
    "print(type(210))"
   ]
  },
  {
   "cell_type": "code",
   "execution_count": null,
   "metadata": {},
   "outputs": [],
   "source": [
    "print(type(3.1614))"
   ]
  },
  {
   "cell_type": "markdown",
   "metadata": {},
   "source": [
    "##### Další aritmetické operace"
   ]
  },
  {
   "cell_type": "code",
   "execution_count": null,
   "metadata": {},
   "outputs": [],
   "source": [
    "print(2 + 2)\n",
    "print(10 - 6)\n",
    "print(2 * 2)\n",
    "print(4 / 2)"
   ]
  },
  {
   "cell_type": "markdown",
   "metadata": {},
   "source": [
    "##### Méně známé ar. operace"
   ]
  },
  {
   "cell_type": "code",
   "execution_count": null,
   "metadata": {},
   "outputs": [],
   "source": [
    "print(10 // 3)\n",
    "print(10 // 4)\n",
    "print(10 % 3)\n",
    "print(11 % 3)\n",
    "print(2 ** 3)\n",
    "print(2 ** 4)"
   ]
  },
  {
   "cell_type": "markdown",
   "metadata": {},
   "source": [
    "##### Potíž s typem float"
   ]
  },
  {
   "cell_type": "code",
   "execution_count": null,
   "metadata": {},
   "outputs": [],
   "source": [
    "print(0.1 + 0.2)"
   ]
  },
  {
   "cell_type": "markdown",
   "metadata": {},
   "source": [
    "Občas se při práci s **desetinnými čísly** setkáš s fenoménem známým jako **plovoucí řádová čárka**.\n",
    "\n",
    "<br>\n",
    "\n",
    "Ten je způsobený tím, že některá desetinná čísla nemají odpovídající **binární tvar**. Proto jsou použity přibližné hodnoty.\n",
    "\n",
    "<br>\n",
    "\n",
    "Pro *přesnější práci* s desetinnými čísly vyzkoušej knihovnu **decimal**:"
   ]
  },
  {
   "cell_type": "code",
   "execution_count": null,
   "metadata": {},
   "outputs": [],
   "source": [
    "# potřeba umět pracovat s knihovnami\n",
    "import decimal\n",
    "\n",
    "decimal.getcontext().prec = 5\n",
    "print(decimal.Decimal(0.1) / decimal.Decimal(0.3))\n",
    "print(type(decimal.Decimal(3)))"
   ]
  },
  {
   "cell_type": "markdown",
   "metadata": {},
   "source": [
    "#### Kde začít\n",
    "\n",
    "---\n",
    "\n",
    "Pro naučení jakéhokoliv **programovacího jazyka**, si potřebuješ osvojit znalosti z tzv. **tří teoretických pilířů**.\n",
    "\n",
    "<br>\n",
    "\n",
    "Na těchto pilířích stojí téměř všechny programovací jazyky:\n",
    "1. **Syntaxe** (funkce, podmínky, smyčky, aj.)\n",
    "2. **Datové typy** (čísla, sekvence, aj.)\n",
    "3. **Knihovny** (decimal, aj.)\n",
    "\n",
    "<br>"
   ]
  },
  {
   "cell_type": "markdown",
   "metadata": {},
   "source": [
    "### Číselné hodnoty\n",
    "\n",
    "---\n",
    "\n",
    "Mezi dva základní **datové typy**, které pracují s čísly Python rozděluje:\n",
    "1. **Celá čísla**, tedy *integer* (`int`),\n",
    "2. **desetinná čísla**, tedy *float* (`float`).\n",
    "\n",
    "<br>\n",
    "\n",
    "##### Zápis v notebooku"
   ]
  },
  {
   "cell_type": "code",
   "execution_count": 1,
   "metadata": {},
   "outputs": [
    {
     "data": {
      "text/plain": [
       "210"
      ]
     },
     "execution_count": 1,
     "metadata": {},
     "output_type": "execute_result"
    }
   ],
   "source": [
    "111 + 99  # 111+99"
   ]
  },
  {
   "cell_type": "markdown",
   "metadata": {},
   "source": [
    "##### Zápis v PyCharm\n",
    "Pokud zapomeneš doplnit funkci `print`, potom ohlášení proběhne, ale neuvidíš výsledek."
   ]
  },
  {
   "cell_type": "code",
   "execution_count": 2,
   "metadata": {},
   "outputs": [
    {
     "name": "stdout",
     "output_type": "stream",
     "text": [
      "210\n"
     ]
    }
   ],
   "source": [
    "print(111 + 99)  # print(111+99)"
   ]
  },
  {
   "cell_type": "markdown",
   "metadata": {},
   "source": [
    "##### Jak ověřím datový typ"
   ]
  },
  {
   "cell_type": "code",
   "execution_count": 3,
   "metadata": {},
   "outputs": [
    {
     "name": "stdout",
     "output_type": "stream",
     "text": [
      "<class 'int'>\n"
     ]
    }
   ],
   "source": [
    "print(type(210))"
   ]
  },
  {
   "cell_type": "code",
   "execution_count": 4,
   "metadata": {},
   "outputs": [
    {
     "name": "stdout",
     "output_type": "stream",
     "text": [
      "<class 'float'>\n"
     ]
    }
   ],
   "source": [
    "print(type(3.1614))"
   ]
  },
  {
   "cell_type": "markdown",
   "metadata": {},
   "source": [
    "##### Další aritmetické operace"
   ]
  },
  {
   "cell_type": "code",
   "execution_count": 5,
   "metadata": {},
   "outputs": [
    {
     "name": "stdout",
     "output_type": "stream",
     "text": [
      "4\n",
      "4\n",
      "4\n",
      "2.0\n"
     ]
    }
   ],
   "source": [
    "print(2 + 2)\n",
    "print(10 - 6)\n",
    "print(2 * 2)\n",
    "print(4 / 2)"
   ]
  },
  {
   "cell_type": "markdown",
   "metadata": {},
   "source": [
    "##### Méně známé ar. operace"
   ]
  },
  {
   "cell_type": "code",
   "execution_count": null,
   "metadata": {},
   "outputs": [],
   "source": [
    "print(10 // 3)\n",
    "print(10 // 4)\n",
    "print(10 % 3)\n",
    "print(11 % 3)\n",
    "print(2 ** 3)\n",
    "print(2 ** 4)"
   ]
  },
  {
   "cell_type": "markdown",
   "metadata": {},
   "source": [
    "##### Potíž s typem float"
   ]
  },
  {
   "cell_type": "code",
   "execution_count": null,
   "metadata": {},
   "outputs": [],
   "source": [
    "print(0.1 + 0.2)"
   ]
  },
  {
   "cell_type": "markdown",
   "metadata": {},
   "source": [
    "Občas se při práci s **desetinnými čísly** setkáš s fenoménem známým jako **plovoucí řádová čárka**.\n",
    "\n",
    "<br>\n",
    "\n",
    "Ten je způsobený tím, že některá desetinná čísla nemají odpovídající **binární tvar**. Proto jsou použity přibližné hodnoty.\n",
    "\n",
    "<br>\n",
    "\n",
    "Pro *přesnější práci* s desetinnými čísly vyzkoušej knihovnu **decimal**:"
   ]
  },
  {
   "cell_type": "code",
   "execution_count": null,
   "metadata": {},
   "outputs": [],
   "source": [
    "# potřeba umět pracovat s knihovnami\n",
    "import decimal\n",
    "\n",
    "decimal.getcontext().prec = 5\n",
    "print(decimal.Decimal(0.1) / decimal.Decimal(0.3))\n",
    "print(type(decimal.Decimal(3)))"
   ]
  },
  {
   "cell_type": "markdown",
   "metadata": {},
   "source": [
    "<br>\n",
    "\n",
    "### Textové hodnoty\n",
    "\n",
    "---\n",
    "\n",
    "**String**, tedy **řetězec** je různě dlouhé uskupení znaků (písmen, čísel, speciálních symbolů).\n",
    "\n",
    "Ukázka datového typu `str`:"
   ]
  },
  {
   "cell_type": "code",
   "execution_count": null,
   "metadata": {},
   "outputs": [],
   "source": [
    "print(\"Ahoj tady Matous@0,\")"
   ]
  },
  {
   "cell_type": "code",
   "execution_count": null,
   "metadata": {},
   "outputs": [],
   "source": [
    "print(type(\"Ahoj tady Matous@0,\"))"
   ]
  },
  {
   "cell_type": "markdown",
   "metadata": {},
   "source": [
    "Dále se označuje jako **sekvence**, kterou jakmile jednou vytvoříme nelze změnit (z angl. *immutable*).\n"
   ]
  },
  {
   "cell_type": "markdown",
   "metadata": {},
   "source": [
    "<br>\n",
    "\n",
    "##### Jak napsat string"
   ]
  },
  {
   "cell_type": "code",
   "execution_count": null,
   "metadata": {},
   "outputs": [],
   "source": [
    "print(matous)"
   ]
  },
  {
   "cell_type": "code",
   "execution_count": null,
   "metadata": {},
   "outputs": [],
   "source": [
    "print('matous')\n",
    "print(\"matous\")\n",
    "print('''matous''')\n",
    "print(\"\"\"matous\"\"\")"
   ]
  },
  {
   "cell_type": "markdown",
   "metadata": {},
   "source": [
    "<br>\n",
    "\n",
    "##### Opatrně na uvozovky"
   ]
  },
  {
   "cell_type": "code",
   "execution_count": null,
   "metadata": {},
   "outputs": [],
   "source": [
    "print(\"matous')"
   ]
  },
  {
   "cell_type": "code",
   "execution_count": null,
   "metadata": {},
   "outputs": [],
   "source": [
    "print('zapisuji apostrof's')"
   ]
  },
  {
   "cell_type": "code",
   "execution_count": null,
   "metadata": {},
   "outputs": [],
   "source": [
    "print(\"zapisuji apostrof's\")"
   ]
  },
  {
   "cell_type": "code",
   "execution_count": null,
   "metadata": {},
   "outputs": [],
   "source": [
    "print('zapisuji apostrof\\'s')  # '\\' -> escape char."
   ]
  },
  {
   "cell_type": "code",
   "execution_count": null,
   "metadata": {},
   "outputs": [],
   "source": [
    "print(\"zapisuji apostrof\\'s\")  # '\\' -> escape char."
   ]
  },
  {
   "cell_type": "code",
   "execution_count": null,
   "metadata": {},
   "outputs": [],
   "source": [
    "print(\"\"\"\n",
    "prvni radek,\n",
    "druhy radek.\"\"\")"
   ]
  },
  {
   "cell_type": "markdown",
   "metadata": {},
   "source": [
    "<br>\n",
    "\n",
    "##### Nemíchat různé datové typy"
   ]
  },
  {
   "cell_type": "code",
   "execution_count": null,
   "metadata": {},
   "outputs": [],
   "source": [
    "print(2 + 2)      # int + int\n",
    "print(\"2\" + \"2\")  # str + str\n",
    "print(2 + \"2\")    # int + str"
   ]
  },
  {
   "cell_type": "markdown",
   "metadata": {},
   "source": [
    "<br>\n",
    "\n",
    "##### Změna datového typu za jiný"
   ]
  },
  {
   "cell_type": "code",
   "execution_count": null,
   "metadata": {},
   "outputs": [],
   "source": [
    "print(type(\"2\"))\n",
    "print(type(int(\"2\")))     # řetězení zabudovaných funkcí\n",
    "print(type(float(\"2\")))   # ..."
   ]
  },
  {
   "cell_type": "code",
   "execution_count": null,
   "metadata": {},
   "outputs": [],
   "source": [
    "print(type(float(2.11)))\n",
    "print(type(str(2.11)))"
   ]
  },
  {
   "cell_type": "code",
   "execution_count": null,
   "metadata": {},
   "outputs": [],
   "source": [
    "print(type(int(\"matous\")))  # ne každou hodnotu lze \"přetypovat\""
   ]
  },
  {
   "cell_type": "code",
   "execution_count": null,
   "metadata": {},
   "outputs": [],
   "source": [
    "print(type(float(\"@2@\")))   # ne každou hodnotu lze \"přetypovat\""
   ]
  },
  {
   "cell_type": "markdown",
   "metadata": {},
   "source": [
    "<br>\n",
    "\n",
    "##### Další procesy u stringů\n",
    "Usnadňují další práci s datovým typem `str`:\n",
    "1. Spojování,\n",
    "2. opakování,\n",
    "3. indexování,\n",
    "4. slicing,\n",
    "5. striding,\n",
    "6. rozšiřující **metody**."
   ]
  },
  {
   "cell_type": "code",
   "execution_count": null,
   "metadata": {},
   "outputs": [],
   "source": [
    "# spojování ~ concatenation\n",
    "print(\"Matouš\" + \" Holinka\")             # co chybějící mezera?"
   ]
  },
  {
   "cell_type": "code",
   "execution_count": null,
   "metadata": {},
   "outputs": [],
   "source": [
    "# opakování ~ repetition\n",
    "print(\"@\" * 11)"
   ]
  },
  {
   "cell_type": "code",
   "execution_count": null,
   "metadata": {},
   "outputs": [],
   "source": [
    "# indexování\n",
    "print(\"Matouš\"[1])                      # jak získám první znak, poslední znak?"
   ]
  },
  {
   "cell_type": "code",
   "execution_count": null,
   "metadata": {},
   "outputs": [],
   "source": [
    "# indexování\n",
    "print(\"Matouš\"[0])                      # jak získám první znak, poslední znak?"
   ]
  },
  {
   "cell_type": "code",
   "execution_count": null,
   "metadata": {},
   "outputs": [],
   "source": [
    "# indexování\n",
    "print(\"Matouš\"[-2])                      # jak získám první znak, poslední znak?"
   ]
  },
  {
   "cell_type": "code",
   "execution_count": null,
   "metadata": {},
   "outputs": [],
   "source": [
    "# slicing\n",
    "print(\"matous.holinka@gmail.com\"[1:6])  # jak získám jméno účtu?"
   ]
  },
  {
   "cell_type": "code",
   "execution_count": null,
   "metadata": {},
   "outputs": [],
   "source": [
    "# slicing\n",
    "print(\"matous.holinka@gmail.com\"[:14])  # jak získám jméno účtu?"
   ]
  },
  {
   "cell_type": "code",
   "execution_count": null,
   "metadata": {},
   "outputs": [],
   "source": [
    "# striding\n",
    "print(\"1234567890\"[0:-1:2])                # jak získám všechny sudé číslice?"
   ]
  },
  {
   "cell_type": "code",
   "execution_count": null,
   "metadata": {},
   "outputs": [],
   "source": [
    "# striding\n",
    "print(\"1234567890\"[::2])                # jak získám všechny sudé číslice?"
   ]
  },
  {
   "cell_type": "markdown",
   "metadata": {},
   "source": [
    "### Práce na doma\n",
    "\n",
    "---\n",
    "\n",
    "V rámci přípravy doma si nainstaluj a spusť tyto nástroje:\n",
    "1. **Python** (verze 3.8.10+),\n",
    "2. **Pycharm** (community edition, 11.0.13+),\n",
    "3. [**Zpětná vazba & materiály**](https://drive.google.com/drive/folders/13G2CA3cgCciavYGDp46L7Ejbzc_BkqlG?usp=sharing)."
   ]
  },
  {
   "cell_type": "markdown",
   "metadata": {},
   "source": [
    "---"
   ]
  }
 ],
 "metadata": {
  "kernelspec": {
   "display_name": "Python 3",
   "language": "python",
   "name": "python3"
  },
  "language_info": {
   "codemirror_mode": {
    "name": "ipython",
    "version": 3
   },
   "file_extension": ".py",
   "mimetype": "text/x-python",
   "name": "python",
   "nbconvert_exporter": "python",
   "pygments_lexer": "ipython3",
   "version": "3.8.6"
  }
 },
 "nbformat": 4,
 "nbformat_minor": 4
}
