{
 "cells": [
  {
   "cell_type": "markdown",
   "metadata": {},
   "source": [
    "### Úvod\n",
    "\n",
    "---\n",
    "\n",
    "1. [Metody](#Metody),\n",
    "4. [Proměnná v Pythonu](#Proměnná-v-Pythonu),\n",
    "2. [Sekvence list, tuple](#Sekvence-list,-tuple),\n",
    "3. [Slovník & set](#Slovník-&-set),\n",
    "5. [Zabudované funkce](#Zabudované-funkce),\n",
    "6. [Domácí úkol](#Domácí-úkol).\n",
    "\n",
    "<br>\n",
    "\n",
    "#### Kde začít\n",
    "\n",
    "---\n",
    "\n",
    "Pro naučení jakéhokoliv **programovacího jazyka**, si potřebuješ osvojit znalosti z tzv. **tří teoretických pilířů**.\n",
    "\n",
    "<br>\n",
    "\n",
    "Na těchto pilířích stojí téměř všechny programovací jazyky:\n",
    "1. **Syntaxe** (funkce, podmínky, smyčky, aj.)\n",
    "2. **Datové typy** (čísla, sekvence, aj.)\n",
    "3. **Knihovny** (decimal, aj.)\n",
    "\n",
    "<br>\n"
   ]
  },
  {
   "cell_type": "markdown",
   "metadata": {},
   "source": [
    "<br>\n",
    "\n",
    "##### Další procesy u stringů\n",
    "Usnadňují další práci s datovým typem `str`:\n",
    "1. Spojování,\n",
    "2. opakování,\n",
    "3. indexování,\n",
    "4. slicing,\n",
    "5. striding,\n",
    "6. rozšiřující **metody**."
   ]
  },
  {
   "cell_type": "code",
   "execution_count": null,
   "metadata": {},
   "outputs": [],
   "source": [
    "# spojování ~ concatenation\n",
    "print(\"Matouš\" + \"Holinka\")             # co chybějící mezera?\n",
    "\n",
    "# opakování ~ repetition\n",
    "print(\"@\" * 11)\n",
    "\n",
    "# indexování\n",
    "print(\"Matouš\"[1])                      # jak získám první znak, poslední znak?\n",
    "\n",
    "# slicing\n",
    "print(\"matous.holinka@gmail.com\"[1:6])  # jak získám jméno účtu?\n",
    "\n",
    "# striding\n",
    "print(\"1234567890\"[0:-1:3])             # jak získám všechny sudé číslice?\n",
    "\n",
    "# striding\n",
    "print(\"1234567890\"[::3])                # jak získám všechny sudé číslice?"
   ]
  },
  {
   "cell_type": "markdown",
   "metadata": {},
   "source": [
    "<br>\n",
    "\n",
    "<img src=\"https://external-content.duckduckgo.com/iu/?u=https%3A%2F%2Ftse4.mm.bing.net%2Fth%3Fid%3DOIP.n4D88Ou5GPworBwVA5r6ZgHaHN%26pid%3DApi&f=1\" width=\"200\" />\n",
    "\n",
    "### Metody\n",
    "\n",
    "Metody jsou v podstatě další **nástroje**, které rozšiřují použití jednotlivých datových typů.\n",
    "\n",
    "Každý **datový typ** má svoje vlastní *metody*. Takže je často potřeba, prozkoumat požadovaný datový typ.\n",
    "\n",
    "#### Výpis všech dostupných metod pro string"
   ]
  },
  {
   "cell_type": "code",
   "execution_count": 1,
   "metadata": {},
   "outputs": [
    {
     "data": {
      "text/plain": [
       "['__add__',\n",
       " '__class__',\n",
       " '__contains__',\n",
       " '__delattr__',\n",
       " '__dir__',\n",
       " '__doc__',\n",
       " '__eq__',\n",
       " '__format__',\n",
       " '__ge__',\n",
       " '__getattribute__',\n",
       " '__getitem__',\n",
       " '__getnewargs__',\n",
       " '__gt__',\n",
       " '__hash__',\n",
       " '__init__',\n",
       " '__init_subclass__',\n",
       " '__iter__',\n",
       " '__le__',\n",
       " '__len__',\n",
       " '__lt__',\n",
       " '__mod__',\n",
       " '__mul__',\n",
       " '__ne__',\n",
       " '__new__',\n",
       " '__reduce__',\n",
       " '__reduce_ex__',\n",
       " '__repr__',\n",
       " '__rmod__',\n",
       " '__rmul__',\n",
       " '__setattr__',\n",
       " '__sizeof__',\n",
       " '__str__',\n",
       " '__subclasshook__',\n",
       " 'capitalize',\n",
       " 'casefold',\n",
       " 'center',\n",
       " 'count',\n",
       " 'encode',\n",
       " 'endswith',\n",
       " 'expandtabs',\n",
       " 'find',\n",
       " 'format',\n",
       " 'format_map',\n",
       " 'index',\n",
       " 'isalnum',\n",
       " 'isalpha',\n",
       " 'isascii',\n",
       " 'isdecimal',\n",
       " 'isdigit',\n",
       " 'isidentifier',\n",
       " 'islower',\n",
       " 'isnumeric',\n",
       " 'isprintable',\n",
       " 'isspace',\n",
       " 'istitle',\n",
       " 'isupper',\n",
       " 'join',\n",
       " 'ljust',\n",
       " 'lower',\n",
       " 'lstrip',\n",
       " 'maketrans',\n",
       " 'partition',\n",
       " 'replace',\n",
       " 'rfind',\n",
       " 'rindex',\n",
       " 'rjust',\n",
       " 'rpartition',\n",
       " 'rsplit',\n",
       " 'rstrip',\n",
       " 'split',\n",
       " 'splitlines',\n",
       " 'startswith',\n",
       " 'strip',\n",
       " 'swapcase',\n",
       " 'title',\n",
       " 'translate',\n",
       " 'upper',\n",
       " 'zfill']"
      ]
     },
     "execution_count": 1,
     "metadata": {},
     "output_type": "execute_result"
    }
   ],
   "source": [
    "dir(str)"
   ]
  },
  {
   "cell_type": "code",
   "execution_count": 2,
   "metadata": {},
   "outputs": [
    {
     "data": {
      "text/plain": [
       "['capitalize',\n",
       " 'casefold',\n",
       " 'center',\n",
       " 'count',\n",
       " 'encode',\n",
       " 'endswith',\n",
       " 'expandtabs',\n",
       " 'find',\n",
       " 'format',\n",
       " 'format_map',\n",
       " 'index',\n",
       " 'isalnum',\n",
       " 'isalpha',\n",
       " 'isascii',\n",
       " 'isdecimal',\n",
       " 'isdigit',\n",
       " 'isidentifier',\n",
       " 'islower',\n",
       " 'isnumeric',\n",
       " 'isprintable',\n",
       " 'isspace',\n",
       " 'istitle',\n",
       " 'isupper',\n",
       " 'join',\n",
       " 'ljust',\n",
       " 'lower',\n",
       " 'lstrip',\n",
       " 'maketrans',\n",
       " 'partition',\n",
       " 'replace',\n",
       " 'rfind',\n",
       " 'rindex',\n",
       " 'rjust',\n",
       " 'rpartition',\n",
       " 'rsplit',\n",
       " 'rstrip',\n",
       " 'split',\n",
       " 'splitlines',\n",
       " 'startswith',\n",
       " 'strip',\n",
       " 'swapcase',\n",
       " 'title',\n",
       " 'translate',\n",
       " 'upper',\n",
       " 'zfill']"
      ]
     },
     "execution_count": 2,
     "metadata": {},
     "output_type": "execute_result"
    }
   ],
   "source": [
    "# všechny metody bez magických metod \n",
    "list(method for method in dir(str) if not method.startswith(\"__\"))"
   ]
  },
  {
   "cell_type": "code",
   "execution_count": 8,
   "metadata": {},
   "outputs": [
    {
     "name": "stdout",
     "output_type": "stream",
     "text": [
      "Help on method_descriptor:\n",
      "\n",
      "replace(self, old, new, count=-1, /)\n",
      "    Return a copy with all occurrences of substring old replaced by new.\n",
      "    \n",
      "      count\n",
      "        Maximum number of occurrences to replace.\n",
      "        -1 (the default value) means replace all occurrences.\n",
      "    \n",
      "    If the optional argument count is given, only the first count occurrences are\n",
      "    replaced.\n",
      "\n",
      "None\n"
     ]
    }
   ],
   "source": [
    "print(help(str.replace))"
   ]
  },
  {
   "cell_type": "code",
   "execution_count": 10,
   "metadata": {},
   "outputs": [
    {
     "name": "stdout",
     "output_type": "stream",
     "text": [
      "matous.holinka@firma.cz\n"
     ]
    }
   ],
   "source": [
    "print(\n",
    "    (\"Matous Holinka\".lower() + \"@firma.cz\").replace(\" \", \".\")\n",
    ")"
   ]
  },
  {
   "cell_type": "markdown",
   "metadata": {},
   "source": [
    "<br>\n",
    "\n",
    "<img src=\"https://external-content.duckduckgo.com/iu/?u=https%3A%2F%2Ftse2.mm.bing.net%2Fth%3Fid%3DOIP.k1p6JyN8Tr1Yya7R6T0YPQHaHl%26pid%3DApi&f=1\" width=\"200\" />\n",
    "\n",
    "\n",
    "\n",
    "### Proměnná v Pythonu\n",
    "\n",
    "---\n",
    "\n",
    "Proměnná je objekt, který slouží ke **uchování hodnoty** pro pozdější použití.\n",
    "\n",
    "<br>\n",
    "\n",
    "Pokud máš tedy hodnoty, které chceš použít **více než jedenkrát**, **ulož je** do proměnné.\n",
    "\n",
    "<br>\n",
    "\n",
    "Pokud chceš hodnotu použít **pouze jednou**, **nemusíš ji ukládat**."
   ]
  },
  {
   "cell_type": "markdown",
   "metadata": {},
   "source": [
    "##### Standardní zápis proměnné s hodnotou\n",
    "\n",
    "Pokud chceš interpretovi oznámit, že chceš hodnotu schovat na později, učiníš tak pomocí symbolu `=`:"
   ]
  },
  {
   "cell_type": "code",
   "execution_count": 1,
   "metadata": {},
   "outputs": [
    {
     "name": "stdout",
     "output_type": "stream",
     "text": [
      "Matous 55\n"
     ]
    }
   ],
   "source": [
    "jmeno = \"Matous\"\n",
    "vek = 55\n",
    "\n",
    "print(jmeno, vek)"
   ]
  },
  {
   "cell_type": "markdown",
   "metadata": {},
   "source": [
    "Označení `jmeno, vek` jsou jen **jména, označení, identifikátory**, které označí hodnoty `\"Matous\"` a `55` u tebe v paměti."
   ]
  },
  {
   "cell_type": "markdown",
   "metadata": {},
   "source": [
    "<br>\n",
    "\n",
    "##### Pravidla pro pojmenování objektů\n",
    "Jméno proměnné (někdy také odkaz) **může obsahovat** tyto znaky:\n",
    "1. **Písmenné** znaky,\n",
    "2. **Číselné** znaky,\n",
    "3. **Podtržítka**."
   ]
  },
  {
   "cell_type": "code",
   "execution_count": 12,
   "metadata": {},
   "outputs": [],
   "source": [
    "jmeno = \"Matous\"\n",
    "jmeno2 = \"Matous\"\n",
    "jmeno_2 = \"Matous\""
   ]
  },
  {
   "cell_type": "markdown",
   "metadata": {},
   "source": [
    "<br>\n",
    "\n",
    "Existují ovšem znaky, které jméno proměnné **obsahovat nesmí**:\n",
    "1. Jméno proměnné nesmí **začínat číselným znakem**,\n",
    "2. jméno proměnné nesmí **obsahovat speciální znaky** (kromě podtržítka),\n",
    "3. jméno proměnné nesmí **obsahovat mezery**.\n",
    "\n",
    "Obvykle se nedoporučuje začínat jména **odkazů** pomocí **podtržítka** (pokud nevíš proč to dělat, raději to nedělej):"
   ]
  },
  {
   "cell_type": "code",
   "execution_count": 13,
   "metadata": {},
   "outputs": [
    {
     "ename": "SyntaxError",
     "evalue": "invalid syntax (<ipython-input-13-3cc9e8cdac1c>, line 1)",
     "output_type": "error",
     "traceback": [
      "\u001b[0;36m  File \u001b[0;32m\"<ipython-input-13-3cc9e8cdac1c>\"\u001b[0;36m, line \u001b[0;32m1\u001b[0m\n\u001b[0;31m    1jmeno = \"Matous\"\u001b[0m\n\u001b[0m      ^\u001b[0m\n\u001b[0;31mSyntaxError\u001b[0m\u001b[0;31m:\u001b[0m invalid syntax\n"
     ]
    }
   ],
   "source": [
    "1jmeno = \"Matous\""
   ]
  },
  {
   "cell_type": "code",
   "execution_count": 16,
   "metadata": {},
   "outputs": [],
   "source": [
    "jméno = \"Matouš\""
   ]
  },
  {
   "cell_type": "code",
   "execution_count": 19,
   "metadata": {},
   "outputs": [],
   "source": [
    "moje_jmeno_ = \"Matous\""
   ]
  },
  {
   "cell_type": "markdown",
   "metadata": {},
   "source": [
    "Dále nepoužívej pro jméno proměnné žádný **z rezervovaných klíčových slov**:"
   ]
  },
  {
   "cell_type": "code",
   "execution_count": 21,
   "metadata": {},
   "outputs": [
    {
     "name": "stdout",
     "output_type": "stream",
     "text": [
      "Matous\n"
     ]
    }
   ],
   "source": [
    "# Špatně\n",
    "str_ = \"Matous\"\n",
    "print(str_)"
   ]
  },
  {
   "cell_type": "code",
   "execution_count": 23,
   "metadata": {},
   "outputs": [],
   "source": [
    "# Špatně\n",
    "def moje_funkce():\n",
    "    return (\"Ahoj!\", \"Z\", \"druhé\", \"lekce\")\n",
    "\n",
    "\n",
    "def_ = moje_funkce()  # rezervovaný výraz"
   ]
  },
  {
   "cell_type": "markdown",
   "metadata": {},
   "source": [
    "Pokud potřebuješ použít klíčový výraz **jako jméno proměnné**, můžeš použít podtržítko **jako příponu**:"
   ]
  },
  {
   "cell_type": "code",
   "execution_count": null,
   "metadata": {},
   "outputs": [],
   "source": [
    "# Správně\n",
    "str_ = \"Matous\"\n",
    "print(str_)"
   ]
  },
  {
   "cell_type": "code",
   "execution_count": null,
   "metadata": {},
   "outputs": [],
   "source": [
    "# Správně\n",
    "def moje_funkce():\n",
    "    return (\"Ahoj!\", \"Z\", \"druhé\", \"lekce\")\n",
    "\n",
    "\n",
    "def_ = moje_funkce()  # rezervovaný výraz"
   ]
  },
  {
   "cell_type": "markdown",
   "metadata": {},
   "source": [
    "<br>\n",
    "\n",
    "##### Forma zápisu\n",
    "Je jedno, jestli preferuješ tzv. `camelCase` nebo `snake_case`. Důležité je konzistentní používání skrz celý tvůj zápis."
   ]
  },
  {
   "cell_type": "code",
   "execution_count": null,
   "metadata": {},
   "outputs": [],
   "source": [
    "moje_datum_narozeni = ...\n",
    "MojeDatumNarozeni = ..."
   ]
  },
  {
   "cell_type": "markdown",
   "metadata": {},
   "source": [
    "<br>\n",
    "\n",
    "<img src=\"https://external-content.duckduckgo.com/iu/?u=https%3A%2F%2Ftse2.mm.bing.net%2Fth%3Fid%3DOIP.XikDkNKNuZHeuGBWc1KgcQHaGf%26pid%3DApi&f=1\" width=\"200\" />\n",
    "\n",
    "### Sekvence list, tuple\n",
    "\n",
    "---\n",
    "Doposud jsme si ukázali jak pracovat **s jednou hodnotou** (`int`, `float`, `str`).\n",
    "\n",
    "<br>\n",
    "\n",
    "V Pythonu můžeš ale sdružovat **více hodnot** společně. Na jednom místě.\n",
    "\n",
    "<br>\n",
    "\n",
    "Takové hodnoty potom budeme označovat jako tzv. **sekvenční datové typy** (tedy několik údajů oddělených *oddělovačem*).\n",
    "1. `list` (z angl. *list*, česky *seznam*),\n",
    "2. `tuple` (z angl. *tuple*, česky *n-tice*),\n",
    "3. `range` (z angl. *range*, česky *rozsah*) - na něj přijde řada později."
   ]
  },
  {
   "cell_type": "markdown",
   "metadata": {},
   "source": [
    "<br>\n",
    "\n",
    "##### List\n",
    "*List* je první *sekvenční* datový typ. Poznáš jej podle:\n",
    "1. **hranatých závorek**,\n",
    "2. oddělovačem **je čárka**,\n",
    "3. jeho obsah (uvnitř závorek) můžeš po vytvoření **změnit** (přidávat a odebírat).\n",
    "\n",
    "```python\n",
    "[\"Matous\", \"Marek\", \"Lukas\", \"Jan\"]\n",
    "```"
   ]
  },
  {
   "cell_type": "code",
   "execution_count": 24,
   "metadata": {},
   "outputs": [
    {
     "name": "stdout",
     "output_type": "stream",
     "text": [
      "<class 'list'>\n"
     ]
    }
   ],
   "source": [
    "print(type([\"Matous\", \"Marek\", \"Lukas\", \"Jan\"]))"
   ]
  },
  {
   "cell_type": "markdown",
   "metadata": {},
   "source": [
    "<br>\n",
    "\n",
    "##### Nový list"
   ]
  },
  {
   "cell_type": "code",
   "execution_count": 25,
   "metadata": {},
   "outputs": [
    {
     "name": "stdout",
     "output_type": "stream",
     "text": [
      "<class 'list'>\n",
      "<class 'list'>\n"
     ]
    }
   ],
   "source": [
    "print(type([]))\n",
    "print(type(list()))"
   ]
  },
  {
   "cell_type": "code",
   "execution_count": 26,
   "metadata": {},
   "outputs": [
    {
     "name": "stdout",
     "output_type": "stream",
     "text": [
      "[1, 2, 3]\n"
     ]
    }
   ],
   "source": [
    "print([1, 2, 3])"
   ]
  },
  {
   "cell_type": "markdown",
   "metadata": {},
   "source": [
    "<br>\n",
    "\n",
    "##### Jak s listem pracovat\n",
    "Podobně jako u typu `str`, můžeš s `list` pracovat hned několika způsoby:\n",
    "1. Spojování,\n",
    "2. opakování,\n",
    "3. indexování,\n",
    "4. slicing,\n",
    "5. striding,\n",
    "6. rozšiřující **metody**."
   ]
  },
  {
   "cell_type": "code",
   "execution_count": 27,
   "metadata": {},
   "outputs": [
    {
     "name": "stdout",
     "output_type": "stream",
     "text": [
      "['Matous', 'Lukas', 'Petr', 'Jan']\n"
     ]
    }
   ],
   "source": [
    "# spojování\n",
    "print([\"Matous\", \"Lukas\"] + [\"Petr\", \"Jan\"])"
   ]
  },
  {
   "cell_type": "code",
   "execution_count": 28,
   "metadata": {},
   "outputs": [
    {
     "name": "stdout",
     "output_type": "stream",
     "text": [
      "['@', '@', '@', '@', '@', '@', '@', '@', '@', '@']\n"
     ]
    }
   ],
   "source": [
    "# opakování\n",
    "print([\"@\"] * 10)"
   ]
  },
  {
   "cell_type": "code",
   "execution_count": 29,
   "metadata": {},
   "outputs": [
    {
     "name": "stdout",
     "output_type": "stream",
     "text": [
      "Petr\n"
     ]
    }
   ],
   "source": [
    "# indexování\n",
    "print([\"Matous\", \"Lukas\", \"Petr\", \"Jan\"][2])  # najdi index se stringem \"Petr\""
   ]
  },
  {
   "cell_type": "code",
   "execution_count": 32,
   "metadata": {},
   "outputs": [
    {
     "name": "stdout",
     "output_type": "stream",
     "text": [
      "['Matous', 'Lukas']\n"
     ]
    }
   ],
   "source": [
    "# slicing\n",
    "print([\"Matous\", \"Lukas\", \"Petr\", \"Jan\"][:2])  # najdi jen stringy \"Matous\" a \"Lukas\""
   ]
  },
  {
   "cell_type": "code",
   "execution_count": 35,
   "metadata": {},
   "outputs": [
    {
     "name": "stdout",
     "output_type": "stream",
     "text": [
      "['Lukas', 'Jan']\n"
     ]
    }
   ],
   "source": [
    "# striding\n",
    "print([\"Matous\", \"Lukas\", \"Petr\", \"Jan\"][1:4:2])  # najdi jen stringy \"Lukas\" a \"Jan\""
   ]
  },
  {
   "cell_type": "code",
   "execution_count": 36,
   "metadata": {},
   "outputs": [
    {
     "data": {
      "text/plain": [
       "['__add__',\n",
       " '__class__',\n",
       " '__contains__',\n",
       " '__delattr__',\n",
       " '__delitem__',\n",
       " '__dir__',\n",
       " '__doc__',\n",
       " '__eq__',\n",
       " '__format__',\n",
       " '__ge__',\n",
       " '__getattribute__',\n",
       " '__getitem__',\n",
       " '__gt__',\n",
       " '__hash__',\n",
       " '__iadd__',\n",
       " '__imul__',\n",
       " '__init__',\n",
       " '__init_subclass__',\n",
       " '__iter__',\n",
       " '__le__',\n",
       " '__len__',\n",
       " '__lt__',\n",
       " '__mul__',\n",
       " '__ne__',\n",
       " '__new__',\n",
       " '__reduce__',\n",
       " '__reduce_ex__',\n",
       " '__repr__',\n",
       " '__reversed__',\n",
       " '__rmul__',\n",
       " '__setattr__',\n",
       " '__setitem__',\n",
       " '__sizeof__',\n",
       " '__str__',\n",
       " '__subclasshook__',\n",
       " 'append',\n",
       " 'clear',\n",
       " 'copy',\n",
       " 'count',\n",
       " 'extend',\n",
       " 'index',\n",
       " 'insert',\n",
       " 'pop',\n",
       " 'remove',\n",
       " 'reverse',\n",
       " 'sort']"
      ]
     },
     "execution_count": 36,
     "metadata": {},
     "output_type": "execute_result"
    }
   ],
   "source": [
    "# všechny metody\n",
    "dir(list)"
   ]
  },
  {
   "cell_type": "code",
   "execution_count": 37,
   "metadata": {},
   "outputs": [
    {
     "data": {
      "text/plain": [
       "['append',\n",
       " 'clear',\n",
       " 'copy',\n",
       " 'count',\n",
       " 'extend',\n",
       " 'index',\n",
       " 'insert',\n",
       " 'pop',\n",
       " 'remove',\n",
       " 'reverse',\n",
       " 'sort']"
      ]
     },
     "execution_count": 37,
     "metadata": {},
     "output_type": "execute_result"
    }
   ],
   "source": [
    "# všechny metody bez magických metod\n",
    "list(method for method in dir(list) if not method.startswith(\"__\"))"
   ]
  },
  {
   "cell_type": "code",
   "execution_count": 44,
   "metadata": {},
   "outputs": [
    {
     "name": "stdout",
     "output_type": "stream",
     "text": [
      "Help on method_descriptor:\n",
      "\n",
      "index(self, value, start=0, stop=9223372036854775807, /)\n",
      "    Return first index of value.\n",
      "    \n",
      "    Raises ValueError if the value is not present.\n",
      "\n"
     ]
    }
   ],
   "source": [
    "# nápověda\n",
    "help(list.index)"
   ]
  },
  {
   "cell_type": "code",
   "execution_count": null,
   "metadata": {},
   "outputs": [],
   "source": [
    "# spoj listy\n",
    "[\"Matous\"]\n",
    "[\"Petr\", \"Tomas\"]\n",
    "[\"Lukas\", \"Jan\"]"
   ]
  },
  {
   "cell_type": "code",
   "execution_count": 41,
   "metadata": {},
   "outputs": [
    {
     "name": "stdout",
     "output_type": "stream",
     "text": [
      "['Matous', 'Petr', 'Tomas', 'Lukas', 'Jan']\n"
     ]
    }
   ],
   "source": [
    "print(\n",
    "    [\"Matous\"]\n",
    "    + [\"Petr\", \"Tomas\"]\n",
    "    + [\"Lukas\", \"Jan\"]\n",
    ")"
   ]
  },
  {
   "cell_type": "code",
   "execution_count": 43,
   "metadata": {},
   "outputs": [
    {
     "name": "stdout",
     "output_type": "stream",
     "text": [
      "2\n"
     ]
    }
   ],
   "source": [
    "# kolikrát najdeš string \"Matous\" v seznamu\n",
    "print(\n",
    "    [\n",
    "        'Matous',\n",
    "        'Petr',\n",
    "        'Tomas',\n",
    "        'Lukas',\n",
    "        'Jan' ,\n",
    "        'Matous',\n",
    "        'Marek'\n",
    "    ].count(\"Matous\")\n",
    ")"
   ]
  },
  {
   "cell_type": "code",
   "execution_count": 45,
   "metadata": {},
   "outputs": [
    {
     "name": "stdout",
     "output_type": "stream",
     "text": [
      "4\n"
     ]
    }
   ],
   "source": [
    "# na kolikátem indexu najdeš string \"Jan\"\n",
    "print(\n",
    "    [\n",
    "        'Matous',\n",
    "        'Petr',\n",
    "        'Tomas',\n",
    "        'Lukas',\n",
    "        'Jan',\n",
    "        'Matous',\n",
    "        'Marek'\n",
    "    ].index(\"Jan\")\n",
    ")"
   ]
  },
  {
   "cell_type": "code",
   "execution_count": null,
   "metadata": {},
   "outputs": [],
   "source": [
    "# vnoření a.k.a. nestování\n",
    "print(\n",
    "    [\n",
    "        ['Matous', 'Petr'],\n",
    "        ['Tomas', 'Lukas'],\n",
    "        ['Jan' , 'Matous'],\n",
    "        ['Marek']\n",
    "    ]\n",
    ")"
   ]
  },
  {
   "cell_type": "code",
   "execution_count": 48,
   "metadata": {},
   "outputs": [
    {
     "name": "stdout",
     "output_type": "stream",
     "text": [
      "[['Matous', 'Petr'], ['Tomas', 'Lukas']]\n"
     ]
    }
   ],
   "source": [
    "# co mi vypíše print([...][0])?\n",
    "print(\n",
    "    [\n",
    "        ['Matous', 'Petr'],  # [0]\n",
    "        ['Tomas', 'Lukas'],  # [1]\n",
    "        ['Jan' , 'Matous'],  # [2], [\"Jan\", \"Matous\"][0] -> \"Jan\"\n",
    "        ['Marek']            # [3]\n",
    "    ][2]\n",
    ")"
   ]
  },
  {
   "cell_type": "markdown",
   "metadata": {},
   "source": [
    "<br>\n",
    "\n",
    "##### Tuple\n",
    "*Tuple* je druhý *sekvenční* datový typ. Poznáš jej podle:\n",
    "1. **kulatých závorek** (může být i bez závorek),\n",
    "2. oddělovačem **je čárka**,\n",
    "3. jeho obsah (uvnitř závorek) **nemůžeš** po vytvoření změnit.\n",
    "\n",
    "```python\n",
    "(\"Matous\", \"Marek\", \"Lukas\", \"Jan\")\n",
    "```"
   ]
  },
  {
   "cell_type": "markdown",
   "metadata": {},
   "source": [
    "##### Nový tuple"
   ]
  },
  {
   "cell_type": "code",
   "execution_count": 49,
   "metadata": {},
   "outputs": [
    {
     "name": "stdout",
     "output_type": "stream",
     "text": [
      "<class 'tuple'>\n",
      "<class 'tuple'>\n"
     ]
    }
   ],
   "source": [
    "print(type(()))\n",
    "print(type(tuple()))"
   ]
  },
  {
   "cell_type": "code",
   "execution_count": 50,
   "metadata": {},
   "outputs": [
    {
     "name": "stdout",
     "output_type": "stream",
     "text": [
      "('HR', 'Admin', 'Development', 'QA')\n"
     ]
    }
   ],
   "source": [
    "print((\"HR\", \"Admin\", \"Development\", \"QA\"))"
   ]
  },
  {
   "cell_type": "markdown",
   "metadata": {},
   "source": [
    "<br>\n",
    "\n",
    "##### Jak pracovat s tuplem\n",
    "Podobně jako u typu `list`, můžeš s `tuple` pracovat hned několika způsoby:\n",
    "1. Spojování,\n",
    "2. opakování,\n",
    "3. indexování,\n",
    "4. slicing,\n",
    "5. striding,\n",
    "6. rozšiřující **metody**."
   ]
  },
  {
   "cell_type": "code",
   "execution_count": 51,
   "metadata": {},
   "outputs": [
    {
     "name": "stdout",
     "output_type": "stream",
     "text": [
      "('a', 'b', 'c', 'd')\n"
     ]
    }
   ],
   "source": [
    "# spojování\n",
    "print((\"a\", \"b\") + (\"c\", \"d\"))"
   ]
  },
  {
   "cell_type": "code",
   "execution_count": 52,
   "metadata": {},
   "outputs": [
    {
     "name": "stdout",
     "output_type": "stream",
     "text": [
      "@@@@@@@@@@\n"
     ]
    }
   ],
   "source": [
    "# opakování\n",
    "print((\"@\") * 10)"
   ]
  },
  {
   "cell_type": "code",
   "execution_count": null,
   "metadata": {},
   "outputs": [],
   "source": [
    "# indexování\n",
    "print(\n",
    "    (\"vývojáři\", \"admini\", \"office\", \"marketing\", \"helpdesk\", \"labs\")[]\n",
    ")  # vypiš \"marketing\""
   ]
  },
  {
   "cell_type": "code",
   "execution_count": null,
   "metadata": {},
   "outputs": [],
   "source": [
    "# slicing\n",
    "print(\n",
    "    (\"vývojáři\", \"admini\", \"office\", \"marketing\", \"helpdesk\", \"labs\")[:]\n",
    ")  # vypiš \"admini-office-marketing\""
   ]
  },
  {
   "cell_type": "code",
   "execution_count": null,
   "metadata": {},
   "outputs": [],
   "source": [
    "# striding\n",
    "print(\n",
    "    (\"vývojáři\", \"admini\", \"office\", \"marketing\", \"helpdesk\", \"labs\")[1::2]\n",
    ")  # vypiš \"admini-office-marketing\""
   ]
  },
  {
   "cell_type": "code",
   "execution_count": 53,
   "metadata": {},
   "outputs": [
    {
     "data": {
      "text/plain": [
       "['__add__',\n",
       " '__class__',\n",
       " '__contains__',\n",
       " '__delattr__',\n",
       " '__dir__',\n",
       " '__doc__',\n",
       " '__eq__',\n",
       " '__format__',\n",
       " '__ge__',\n",
       " '__getattribute__',\n",
       " '__getitem__',\n",
       " '__getnewargs__',\n",
       " '__gt__',\n",
       " '__hash__',\n",
       " '__init__',\n",
       " '__init_subclass__',\n",
       " '__iter__',\n",
       " '__le__',\n",
       " '__len__',\n",
       " '__lt__',\n",
       " '__mul__',\n",
       " '__ne__',\n",
       " '__new__',\n",
       " '__reduce__',\n",
       " '__reduce_ex__',\n",
       " '__repr__',\n",
       " '__rmul__',\n",
       " '__setattr__',\n",
       " '__sizeof__',\n",
       " '__str__',\n",
       " '__subclasshook__',\n",
       " 'count',\n",
       " 'index']"
      ]
     },
     "execution_count": 53,
     "metadata": {},
     "output_type": "execute_result"
    }
   ],
   "source": [
    "# metody tuple\n",
    "dir(tuple)"
   ]
  },
  {
   "cell_type": "code",
   "execution_count": 54,
   "metadata": {},
   "outputs": [
    {
     "data": {
      "text/plain": [
       "['count', 'index']"
      ]
     },
     "execution_count": 54,
     "metadata": {},
     "output_type": "execute_result"
    }
   ],
   "source": [
    "# metody tuple bez magických metod\n",
    "list(method for method in dir(tuple) if not method.startswith(\"__\"))"
   ]
  },
  {
   "cell_type": "markdown",
   "metadata": {},
   "source": [
    "Možná tě napadá, že pokud je `list` a `tuple` tolik podobný, stačí ti **používat pouze jeden**.\n",
    "\n",
    "Datový typ `tuple` ale:\n",
    "1. obecně pracuje s menším množstvím paměti,\n",
    "2. vzhledem k tomu, že je *nezměnitelný*, pracuje rychleji bez případných budoucích úprav,\n",
    "3. umožní vytvořit sekvenci, kterou ostatním zdůrazníš, že ji nechceš měnit v průběhu."
   ]
  },
  {
   "cell_type": "code",
   "execution_count": 55,
   "metadata": {},
   "outputs": [],
   "source": [
    "muj_tupl = (1, 2, 3, 4)"
   ]
  },
  {
   "cell_type": "code",
   "execution_count": 56,
   "metadata": {},
   "outputs": [],
   "source": [
    "muj_druhy_tupl = 1, 2, 3, 4"
   ]
  },
  {
   "cell_type": "code",
   "execution_count": 57,
   "metadata": {},
   "outputs": [
    {
     "name": "stdout",
     "output_type": "stream",
     "text": [
      "<class 'tuple'>\n",
      "<class 'tuple'>\n"
     ]
    }
   ],
   "source": [
    "print(type(muj_tupl))\n",
    "print(type(muj_druhy_tupl))"
   ]
  },
  {
   "cell_type": "markdown",
   "metadata": {},
   "source": [
    "<br>\n",
    "\n",
    "### Dictionary, set, frozenset\n",
    "\n",
    "---\n",
    "**Slovník**, **set** a **frozenset** jsou v Pythonu datové typy, které jsou tvořeny *hashovanými* hodnotami.\n",
    "\n",
    "<br>\n",
    "\n",
    "##### Dictionary\n",
    "`dict` je objekt, složený z *hashovaných* klíčů a hodnot. Poznáš jej podle:\n",
    "1. **složených závorek**,\n",
    "2. oddělovačem **je čárka**,\n",
    "3. oddělených párů `<klic>: <hodnota>`,\n",
    "4. klíč musí být unikátní (nejčastěji `str`, `int`),\n",
    "5. hodnota nemusí být unikátní (`str`, `int`, `float`, `list`, `tuple`).\n",
    "\n",
    "```python\n",
    "{\"jmeno\": \"Matous\", \"prijmeni\": \"Holinka\", \"vek\": 100}\n",
    "```"
   ]
  },
  {
   "cell_type": "markdown",
   "metadata": {},
   "source": [
    "##### Nový dictionary"
   ]
  },
  {
   "cell_type": "code",
   "execution_count": 58,
   "metadata": {},
   "outputs": [
    {
     "name": "stdout",
     "output_type": "stream",
     "text": [
      "<class 'dict'>\n",
      "<class 'dict'>\n"
     ]
    }
   ],
   "source": [
    "print(type({}))\n",
    "print(type(dict()))"
   ]
  },
  {
   "cell_type": "markdown",
   "metadata": {},
   "source": [
    "<br>\n",
    "\n",
    "##### Jak s dictionary pracovat\n",
    "Pozor, nemá standardní pořadí, proto jej nelze klasicky *indexovat*, *slicovat*, *stridovat*:\n",
    "\n",
    "1. Přistupování k hodnotám,\n",
    "2. Spojování,\n",
    "3. rozšiřující **metody**."
   ]
  },
  {
   "cell_type": "code",
   "execution_count": 64,
   "metadata": {},
   "outputs": [
    {
     "name": "stdout",
     "output_type": "stream",
     "text": [
      "Matous\n"
     ]
    }
   ],
   "source": [
    "# přistupování k hodnotám\n",
    "print({\"jmeno\": \"Matous\", \"prijmeni\": \"Holinka\"}[\"jmeno\"])"
   ]
  },
  {
   "cell_type": "code",
   "execution_count": 65,
   "metadata": {},
   "outputs": [
    {
     "ename": "TypeError",
     "evalue": "unsupported operand type(s) for |: 'dict' and 'dict'",
     "output_type": "error",
     "traceback": [
      "\u001b[0;31m---------------------------------------------------------------------------\u001b[0m",
      "\u001b[0;31mTypeError\u001b[0m                                 Traceback (most recent call last)",
      "\u001b[0;32m<ipython-input-65-e50bf4f7c77d>\u001b[0m in \u001b[0;36m<module>\u001b[0;34m\u001b[0m\n\u001b[1;32m      1\u001b[0m \u001b[0;31m# spojování (jen pro 3.9+)\u001b[0m\u001b[0;34m\u001b[0m\u001b[0;34m\u001b[0m\u001b[0;34m\u001b[0m\u001b[0m\n\u001b[0;32m----> 2\u001b[0;31m \u001b[0mprint\u001b[0m\u001b[0;34m(\u001b[0m\u001b[0;34m{\u001b[0m\u001b[0;34m\"jmeno\"\u001b[0m\u001b[0;34m:\u001b[0m \u001b[0;34m\"Matous\"\u001b[0m\u001b[0;34m}\u001b[0m \u001b[0;34m|\u001b[0m \u001b[0;34m{\u001b[0m\u001b[0;34m\"prijmeni\"\u001b[0m\u001b[0;34m:\u001b[0m \u001b[0;34m\"Holinka\"\u001b[0m\u001b[0;34m}\u001b[0m\u001b[0;34m)\u001b[0m\u001b[0;34m\u001b[0m\u001b[0;34m\u001b[0m\u001b[0m\n\u001b[0m",
      "\u001b[0;31mTypeError\u001b[0m: unsupported operand type(s) for |: 'dict' and 'dict'"
     ]
    }
   ],
   "source": [
    "# spojování (jen pro 3.9+)\n",
    "print({\"jmeno\": \"Matous\"} | {\"prijmeni\": \"Holinka\"})"
   ]
  },
  {
   "cell_type": "markdown",
   "metadata": {},
   "source": [
    "<a href=\"https://docs.python.org/3.9/library/stdtypes.html#dict.values\" target=\"_blank\">Dokumentace 3.9<a/>"
   ]
  },
  {
   "cell_type": "code",
   "execution_count": null,
   "metadata": {},
   "outputs": [],
   "source": [
    "# Všechny metody\n",
    "dir(dict)"
   ]
  },
  {
   "cell_type": "code",
   "execution_count": 66,
   "metadata": {},
   "outputs": [
    {
     "data": {
      "text/plain": [
       "['clear',\n",
       " 'copy',\n",
       " 'fromkeys',\n",
       " 'get',\n",
       " 'items',\n",
       " 'keys',\n",
       " 'pop',\n",
       " 'popitem',\n",
       " 'setdefault',\n",
       " 'update',\n",
       " 'values']"
      ]
     },
     "execution_count": 66,
     "metadata": {},
     "output_type": "execute_result"
    }
   ],
   "source": [
    "# Všechny metody kromě magických metod\n",
    "list(method for method in dir(dict) if not method.startswith(\"__\"))"
   ]
  },
  {
   "cell_type": "code",
   "execution_count": 67,
   "metadata": {},
   "outputs": [
    {
     "name": "stdout",
     "output_type": "stream",
     "text": [
      "Help on method_descriptor:\n",
      "\n",
      "values(...)\n",
      "    D.values() -> an object providing a view on D's values\n",
      "\n"
     ]
    }
   ],
   "source": [
    "help(dict.values)"
   ]
  },
  {
   "cell_type": "code",
   "execution_count": 74,
   "metadata": {},
   "outputs": [
    {
     "name": "stdout",
     "output_type": "stream",
     "text": [
      "+420 777 666 555\n"
     ]
    }
   ],
   "source": [
    "# vrať jenom klíče\n",
    "print(\n",
    "    {\n",
    "        \"jmeno\": \"Matous\",\n",
    "        \"prijmeni\": \"Holinka\",\n",
    "        \"datum narozeni\": \"22.22.2022\",\n",
    "        \"email\": \"matous.holinka@firma.cz\",\n",
    "        \"telefon\": \"+420 777 666 555\"\n",
    "    }\n",
    ")"
   ]
  },
  {
   "cell_type": "code",
   "execution_count": null,
   "metadata": {},
   "outputs": [],
   "source": [
    "# vrať jenom hodnoty\n",
    "print(\n",
    "    {\n",
    "        \"jmeno\": \"Matous\",\n",
    "        \"prijmeni\": \"Holinka\",\n",
    "        \"datum narozeni\": \"22.22.2022\",\n",
    "        \"email\": \"matous.holinka@firma.cz\",\n",
    "        \"telefon\": \"+420 777 666 555\"\n",
    "    }\n",
    ")"
   ]
  },
  {
   "cell_type": "code",
   "execution_count": 79,
   "metadata": {},
   "outputs": [
    {
     "name": "stdout",
     "output_type": "stream",
     "text": [
      "Není žádný takový klíč\n"
     ]
    }
   ],
   "source": [
    "# zkus najít klíč \"pohlaví\", pokud existuje, pokud ne vrať string \"Není\"\n",
    "print(\n",
    "    {\n",
    "        \"jmeno\": \"Matous\",\n",
    "        \"prijmeni\": \"Holinka\",\n",
    "        \"datum narozeni\": \"22.22.2022\",\n",
    "        \"email\": \"matous.holinka@firma.cz\",\n",
    "        \"telefon\": \"+420 777 666 555\"\n",
    "    }.get(\"pohlavi\")\n",
    ")"
   ]
  },
  {
   "cell_type": "markdown",
   "metadata": {},
   "source": [
    "Obvykle tedy použiješ datový typ `dict` tehdy, pokud potřebuješ **uchovat větší množství hodnot** na jednom místě.\n",
    "\n",
    "Současně také nechceš přistupovat k jejich obsahu pomocí nejasných indexů ale spíše **pomocí jejich jmen** (klíčů)."
   ]
  },
  {
   "cell_type": "markdown",
   "metadata": {},
   "source": [
    "<br>\n",
    "\n",
    "##### Set, frozenset\n",
    "`set` a `frozenset` jsou velice podobné objekty, složené z *hashovaných* hodnot. Poznáš jej podle:\n",
    "1. **složených závorek**,\n",
    "2. oddělovačem **je čárka**,\n",
    "3. hodnota musí být unikátní (nejčastěji `str`, `int`),\n",
    "4. hodnoty nemají pořadí.\n",
    "\n",
    "###### Set\n",
    "```python\n",
    "{\"matous.holinka@firma.cz\", \"petr.svetr@firma.cz\", \"marek.parek@firma.cz\"}\n",
    "```\n",
    "\n",
    "###### Frozenset\n",
    "```python\n",
    "frozenset({\"matous.holinka@firma.cz\", \"petr.svetr@firma.cz\", \"marek.parek@firma.cz\"})\n",
    "```"
   ]
  },
  {
   "cell_type": "markdown",
   "metadata": {},
   "source": [
    "##### Nový set & frozenset"
   ]
  },
  {
   "cell_type": "code",
   "execution_count": 85,
   "metadata": {},
   "outputs": [
    {
     "name": "stdout",
     "output_type": "stream",
     "text": [
      "<class 'set'>\n",
      "<class 'frozenset'>\n"
     ]
    }
   ],
   "source": [
    "print(type(set()))  # nelze použít prázdnou {}\n",
    "print(type(frozenset()))"
   ]
  },
  {
   "cell_type": "code",
   "execution_count": 83,
   "metadata": {},
   "outputs": [],
   "source": [
    "muj_set = {1, 2, 3, 4, 1}"
   ]
  },
  {
   "cell_type": "code",
   "execution_count": 84,
   "metadata": {},
   "outputs": [
    {
     "name": "stdout",
     "output_type": "stream",
     "text": [
      "<class 'set'>\n"
     ]
    }
   ],
   "source": [
    "print(type(muj_set))"
   ]
  },
  {
   "cell_type": "markdown",
   "metadata": {},
   "source": [
    "<br>\n",
    "\n",
    "##### Jak se sety pracovat\n",
    "1. Množinové operace s operátory,\n",
    "        - sjednocení = `|`\n",
    "        - rozdíl = `-`\n",
    "        - průnik = `&`\n",
    "        - symetrický rozdíl `^`.\n",
    "2. rozšiřující metody.\n",
    "\n",
    "<a href=\"https://imgur.com/yhV0pvW\"><img src=\"https://i.imgur.com/yhV0pvW.png\" title=\"source: imgur.com\" /></a>"
   ]
  },
  {
   "cell_type": "code",
   "execution_count": null,
   "metadata": {},
   "outputs": [],
   "source": [
    "print(type({\"zena\", \"ruze\", \"kost\", \"pisen\", \"lucie\", \"matous\"}))"
   ]
  },
  {
   "cell_type": "markdown",
   "metadata": {},
   "source": [
    "<a href=\"https://imgur.com/Qgvr0Jz\"><img src=\"https://i.imgur.com/Qgvr0Jz.png\" title=\"source: imgur.com\" /></a>"
   ]
  },
  {
   "cell_type": "code",
   "execution_count": 86,
   "metadata": {},
   "outputs": [
    {
     "name": "stdout",
     "output_type": "stream",
     "text": [
      "{'RUZE', 'ZENA', 'KOST', 'LUKAS', 'PISEN', 'LUCIE', 'MATOUS'}\n"
     ]
    }
   ],
   "source": [
    "# union~sjednocení\n",
    "print(\n",
    "    {\"MATOUS\", \"LUCIE\", \"ZENA\", \"RUZE\", \"PISEN\", \"KOST\"}\n",
    "    | {\"LUKAS\", \"ZENA\", \"RUZE\", \"PISEN\", \"KOST\"}\n",
    ")"
   ]
  },
  {
   "cell_type": "code",
   "execution_count": 87,
   "metadata": {},
   "outputs": [
    {
     "name": "stdout",
     "output_type": "stream",
     "text": [
      "{'MATOUS', 'LUCIE'}\n"
     ]
    }
   ],
   "source": [
    "# rozdíl A oproti B\n",
    "print(\n",
    "    {\"MATOUS\", \"LUCIE\", \"ZENA\", \"RUZE\", \"PISEN\", \"KOST\"}\n",
    "    - {\"LUKAS\", \"ZENA\", \"RUZE\", \"PISEN\", \"KOST\"}\n",
    ")"
   ]
  },
  {
   "cell_type": "markdown",
   "metadata": {},
   "source": [
    "<a href=\"https://imgur.com/D3uPteB\"><img src=\"https://i.imgur.com/D3uPteB.png\" title=\"source: imgur.com\" /></a>"
   ]
  },
  {
   "cell_type": "code",
   "execution_count": 88,
   "metadata": {},
   "outputs": [
    {
     "name": "stdout",
     "output_type": "stream",
     "text": [
      "{'LUKAS'}\n"
     ]
    }
   ],
   "source": [
    "# rozdíl B oproti A\n",
    "print(\n",
    "    {\"LUKAS\", \"ZENA\", \"RUZE\", \"PISEN\", \"KOST\"}\n",
    "    - {\"MATOUS\", \"LUCIE\", \"ZENA\", \"RUZE\", \"PISEN\", \"KOST\"}\n",
    ")"
   ]
  },
  {
   "cell_type": "markdown",
   "metadata": {},
   "source": [
    "<a href=\"https://imgur.com/MYKRUqb\"><img src=\"https://i.imgur.com/MYKRUqb.png\" title=\"source: imgur.com\" /></a>"
   ]
  },
  {
   "cell_type": "code",
   "execution_count": 89,
   "metadata": {},
   "outputs": [
    {
     "name": "stdout",
     "output_type": "stream",
     "text": [
      "{'ZENA', 'KOST', 'RUZE', 'PISEN'}\n"
     ]
    }
   ],
   "source": [
    "# průnik\n",
    "print(\n",
    "    {\"MATOUS\", \"LUCIE\", \"ZENA\", \"RUZE\", \"PISEN\", \"KOST\"}\n",
    "    & {\"LUKAS\", \"ZENA\", \"RUZE\", \"PISEN\", \"KOST\"}\n",
    ")"
   ]
  },
  {
   "cell_type": "markdown",
   "metadata": {},
   "source": [
    "<a href=\"https://imgur.com/7XxiV1y\"><img src=\"https://i.imgur.com/7XxiV1y.png\" title=\"source: imgur.com\" /></a>"
   ]
  },
  {
   "cell_type": "code",
   "execution_count": 90,
   "metadata": {},
   "outputs": [
    {
     "name": "stdout",
     "output_type": "stream",
     "text": [
      "{'MATOUS', 'LUKAS', 'LUCIE'}\n"
     ]
    }
   ],
   "source": [
    "# symetrický rozdíl\n",
    "print(\n",
    "    {\"MATOUS\", \"LUCIE\", \"ZENA\", \"RUZE\", \"PISEN\", \"KOST\"}\n",
    "    ^ {\"LUKAS\", \"ZENA\", \"RUZE\", \"PISEN\", \"KOST\"}\n",
    ")"
   ]
  },
  {
   "cell_type": "code",
   "execution_count": null,
   "metadata": {},
   "outputs": [],
   "source": [
    "# všechny metody\n",
    "dir(set)"
   ]
  },
  {
   "cell_type": "code",
   "execution_count": 91,
   "metadata": {},
   "outputs": [
    {
     "data": {
      "text/plain": [
       "['add',\n",
       " 'clear',\n",
       " 'copy',\n",
       " 'difference',\n",
       " 'difference_update',\n",
       " 'discard',\n",
       " 'intersection',\n",
       " 'intersection_update',\n",
       " 'isdisjoint',\n",
       " 'issubset',\n",
       " 'issuperset',\n",
       " 'pop',\n",
       " 'remove',\n",
       " 'symmetric_difference',\n",
       " 'symmetric_difference_update',\n",
       " 'union',\n",
       " 'update']"
      ]
     },
     "execution_count": 91,
     "metadata": {},
     "output_type": "execute_result"
    }
   ],
   "source": [
    "# všechny metody bez magických metod\n",
    "list(method for method in dir(set) if not method.startswith(\"__\"))"
   ]
  },
  {
   "cell_type": "code",
   "execution_count": 93,
   "metadata": {},
   "outputs": [
    {
     "name": "stdout",
     "output_type": "stream",
     "text": [
      "Help on method_descriptor:\n",
      "\n",
      "difference_update(...)\n",
      "    Remove all elements of another set from this set.\n",
      "\n"
     ]
    }
   ],
   "source": [
    "help(set.difference_update)"
   ]
  },
  {
   "cell_type": "markdown",
   "metadata": {},
   "source": [
    "Pokud tedy potřebuješ pracovat pouze s unikátními hodnotami (jména, čísla, emaily, ...) použiješ datový typ `set`.\n",
    "\n",
    "Jestli je budeš potřebovat ponechat nezměnitelné, využij datový typ `frozenset`."
   ]
  },
  {
   "cell_type": "markdown",
   "metadata": {},
   "source": [
    "<br>\n",
    "\n",
    "\n",
    "<img src=\"https://external-content.duckduckgo.com/iu/?u=https%3A%2F%2Ftse4.mm.bing.net%2Fth%3Fid%3DOIP.MvZX2RGCZA96JuKidzggvQHaHa%26pid%3DApi&f=1\" width=\"200\" />\n",
    "\n",
    "\n",
    "### Zabudované funkce\n",
    "\n",
    "---\n",
    "\n",
    "Funkce jsou **další nástroje**, které ti mají usnadňovat práci s psaním různých *ohlášení* (*statements*>*expression*) aj.\n",
    "\n",
    "\n",
    "<br>\n",
    "\n",
    "Jaký je tedy rozdíl mezi **metodou** a **funkcí**?\n",
    "\n",
    "<br>\n",
    "\n",
    "1. **Funkce** jsou obecnější, protože umí pracovat s různými datovými typy (`print`),\n",
    "2. **Metody** jsou úzce zaměřené na konkrétní datový typ (`str`)."
   ]
  },
  {
   "cell_type": "code",
   "execution_count": 94,
   "metadata": {},
   "outputs": [
    {
     "name": "stdout",
     "output_type": "stream",
     "text": [
      "Matous\n",
      "[1, 2, 3]\n",
      "3.1416\n"
     ]
    }
   ],
   "source": [
    "print(\"Matous\")\n",
    "print([1, 2, 3])\n",
    "print(3.1416)"
   ]
  },
  {
   "cell_type": "code",
   "execution_count": 100,
   "metadata": {},
   "outputs": [
    {
     "data": {
      "text/plain": [
       "'MATOUS'"
      ]
     },
     "execution_count": 100,
     "metadata": {},
     "output_type": "execute_result"
    }
   ],
   "source": [
    "\"Matous\".upper()"
   ]
  },
  {
   "cell_type": "code",
   "execution_count": 98,
   "metadata": {},
   "outputs": [
    {
     "name": "stdout",
     "output_type": "stream",
     "text": [
      "['a', 'b', 'c']\n"
     ]
    }
   ],
   "source": [
    "list_a = [\"a\", \"b\"]\n",
    "list_a.append(\"c\")\n",
    "print(list_a)"
   ]
  },
  {
   "cell_type": "markdown",
   "metadata": {},
   "source": [
    "<br>\n",
    "\n",
    "Některé častější funkce:\n",
    "\n",
    "| Jméno funkce | Účel funkce |\n",
    "| :-: | :- |\n",
    "| `type` | Vrací datový typ zadané hodnoty |\n",
    "| `round` | Zaokrouhlí zadanou hodnotu na stanovený počet desetinných míst |\n",
    "| `abs` | Vrací absolutní hodnotu |\n",
    "| `int` | Vrací *integer* ze zadaného stringu nebo číselného údaje |\n",
    "| `float` | Vrací *float* ze zadaného stringu nebo číselného údaje |\n",
    "| `str` | Vrací *string* ze zadané hodnoty |\n",
    "| `list` | Vrací nový objekt, sekvenční datový typ *list* |\n",
    "| `tuple` | Vrací nový objekt, sekvenční datový typ *tuple* |\n",
    "| `help` | Vratí nápovědu k zadanému objektu |\n",
    "| `print` | Vypisuje zadné hodnoty jako výstupy |\n",
    "| `input` | Umožňuje ukládat vstupy od uživatele |\n",
    "| `len` | Vrací délku zadané hodnoty |\n",
    "| `max` | Vrací největší hodnotu |\n",
    "| `min` | Vrací nejmenší hodnotu |\n",
    "| `sum` | Vrací součet všech hodnot |\n",
    "| `pow` | Vrací zadanou hodnotu umocněnou o zadaný exponent |\n",
    "\n",
    "<br>\n",
    "\n",
    "Pokud máš se zabudovanými funkcemi nějaké zkušenosti, nebo tě zajímá, které další bys mohl v rámci Pythonu využít, mrkni na [oficiální tabulku](https://docs.python.org/3/library/functions.html) všech zabudovaných funkcí."
   ]
  },
  {
   "cell_type": "markdown",
   "metadata": {},
   "source": [
    "<br>\n",
    "\n",
    "### Domácí úkol\n",
    "\n",
    "---"
   ]
  },
  {
   "cell_type": "code",
   "execution_count": 103,
   "metadata": {},
   "outputs": [
    {
     "name": "stdout",
     "output_type": "stream",
     "text": [
      "2\n"
     ]
    }
   ],
   "source": [
    "# Spočítej, kolikrát se výraz Čr/čr schovává v zadaném stringu\n",
    "veta = \"Vítejte v čr! Čr je super, nebo ne?\"\n",
    "print(veta.lower().count(\"čr\"))"
   ]
  },
  {
   "cell_type": "code",
   "execution_count": 105,
   "metadata": {},
   "outputs": [
    {
     "name": "stdout",
     "output_type": "stream",
     "text": [
      "['Matous', 'Petr', 'Lukas']\n"
     ]
    }
   ],
   "source": [
    "# Přehoď první index a poslední index\n",
    "# výsledek: [\"Matouš\", \"Petr\", \"Lukáš\"]\n",
    "jmena = [\"Lukáš\", \"Petr\", \"Matouš\"]\n",
    "\n",
    "#a, b = b, a\n",
    "# jmena[0], jmena[-1] = jmena[-1], jmena[0]\n",
    "\n",
    "jmena[0] = \"Matous\"\n",
    "jmena[-1] = \"Lukas\"\n",
    "print(jmena)"
   ]
  },
  {
   "cell_type": "code",
   "execution_count": 110,
   "metadata": {
    "scrolled": true
   },
   "outputs": [
    {
     "name": "stdout",
     "output_type": "stream",
     "text": [
      "245\n"
     ]
    }
   ],
   "source": [
    "# Spočítej sumu všech čísel v nejzanořenějším listu\n",
    "# to-do --> iterování\n",
    "proklety_nesting = [11, 75, [40, [9, 86, [98, 87, 60], 3], 72, 92], 22]\n",
    "print(sum(proklety_nesting[2][1][2]))"
   ]
  },
  {
   "cell_type": "code",
   "execution_count": 116,
   "metadata": {},
   "outputs": [],
   "source": [
    "zamestnanci_raw = \"\"\"\n",
    "Helena Vybíralová\n",
    "Wendy Štrumlová\n",
    "Marie Vybíralová\n",
    "Stanislav Bechyňka\n",
    "Zdeňka Urbánková\n",
    "Lukáš Riečan\n",
    "Veronika Koudelová\n",
    "Františka Vorlová\n",
    "Ilie Seleš\n",
    "Martin Železný\n",
    "Petra Niklesová\n",
    "Bohumil Skok\n",
    "Jakub Šmíd\n",
    "Jarmila Procházková\n",
    "Dagmar Hlavatá\n",
    "Jiří Nguyen Thanh\n",
    "Marie Franková\n",
    "Dana Ulrichová\n",
    "Jana Hranická\n",
    "Hana Budošová\n",
    "Ivan Široký\n",
    "Květoslava Jiráčková\n",
    "Pavel Przywara\n",
    "Josef Umlauf\n",
    "Tomáš Granzer\n",
    "Miroslav Kuba\n",
    "Miloslava Adámková\n",
    "Marie Karlíková\n",
    "Jaroslav Hronský\n",
    "Vlasta Karlíková\n",
    "Andrea Žatková\n",
    "Zuzana Lokočová\n",
    "Ondřej Ptáček\n",
    "Zdeněk Najman\n",
    "Tereza Šebešová\n",
    "Antonie Skokánková\n",
    "Jan Lion\n",
    "Václav Vecko\n",
    "František Vajgl\n",
    "Adéla Kavková\n",
    "Amália Vacková\n",
    "Anna Pažická\n",
    "Ivo Pustějovský\n",
    "Antonín Pavela\n",
    "Jitka Adamová\n",
    "Libuše Hamroziová\n",
    "Drahomíra Balzerová\n",
    "Marek Suchánek\n",
    "Petr Vavrinec\n",
    "Jonáš Stuchlý\n",
    "Jaromír Pecen\n",
    "Markéta Kyliánková\n",
    "Marina Pečenková\n",
    "Ivana Perdochová\n",
    "Michaela Drápalová\n",
    "Michael Mentlík\n",
    "Rudolf Špičák\n",
    "Žaneta Holá\n",
    "Blanka Lišková\n",
    "Eva Svatoňová\n",
    "Rostislav Hoang\n",
    "Martina Kalivodová\n",
    "Milan Hruška\n",
    "Zdenka Marková\n",
    "Lenka Schambergerová\n",
    "Růžena Martinů\n",
    "Věra Řezanková\n",
    "Marie Pečenková\n",
    "Miloš Váchal\n",
    "Jaroslava Hrubá\n",
    "Petr Pecen\n",
    "Pavla Konvicová\n",
    "Lucie Marešová\n",
    "Květuše Zdráhalová\n",
    "Vlastimila Svatošová\n",
    "Zora Michalčíková\n",
    "Daniel Švejnoha\n",
    "Klára Brunclíková\n",
    "Vladimír Bauer\n",
    "Michal Slaný\n",
    "Jiřina Novosadová\n",
    "Karel Sršeň\n",
    "Stanislava Lakosilová\n",
    "Filip Černý\n",
    "Alena Kubiková\n",
    "Sára Kotrlová\n",
    "Alois Rejlek\n",
    "Božena Novotná\n",
    "Maryana Nováková\n",
    "Kateřina Máslová\n",
    "Ladislav Dvořák\n",
    "Radek Varga\n",
    "Petr Dvořák\n",
    "Ludmila Jaklová\n",
    "Renáta Foubíková\n",
    "Nikola Lehká\n",
    "Dominika Riegerová\n",
    "Patrik Polák\n",
    "Soňa Štrbová\n",
    "David Matoušek\n",
    "Liubov Hollíková\n",
    "Monika Poláková\n",
    "Marie Jaklová\n",
    "Aleš Svoboda\n",
    "Roman Kolínský\n",
    "Karolína Košiková\n",
    "\"\"\""
   ]
  },
  {
   "cell_type": "code",
   "execution_count": 112,
   "metadata": {},
   "outputs": [],
   "source": [
    "jen_jmena = (\n",
    "    'Helena', 'Wendy', 'Marie', 'Stanislav', 'Zdeňka',\n",
    "    'Lukáš', 'Veronika', 'Františka', 'Ilie', 'Martin',\n",
    "    'Petra', 'Bohumil', 'Jakub', 'Jarmila', 'Dagmar',\n",
    "    'Jiří', 'Marie', 'Dana', 'Jana', 'Hana',\n",
    "    'Ivan', 'Květoslava', 'Pavel', 'Josef',\n",
    "    'Tomáš', 'Miroslav', 'Miloslava', 'Marie',\n",
    "    'Jaroslav', 'Vlasta', 'Andrea', 'Zuzana',\n",
    "    'Ondřej', 'Zdeněk', 'Tereza', 'Antonie', 'Jan',\n",
    "    'Václav', 'František', 'Adéla', 'Amália', 'Anna',\n",
    "    'Ivo', 'Antonín', 'Jitka', 'Libuše', 'Drahomíra',\n",
    "    'Marek', 'Petr', 'Jonáš', 'Jaromír', 'Markéta',\n",
    "    'Marina', 'Ivana', 'Michaela', 'Michael', 'Rudolf',\n",
    "    'Žaneta', 'Blanka', 'Eva', 'Rostislav', 'Martina',\n",
    "    'Milan', 'Zdenka', 'Lenka', 'Růžena', 'Věra',\n",
    "    'Marie', 'Miloš', 'Jaroslava', 'Petr', 'Pavla',\n",
    "    'Lucie', 'Květuše', 'Vlastimila', 'Zora', 'Daniel',\n",
    "    'Klára', 'Vladimír', 'Michal', 'Jiřina', 'Karel',\n",
    "    'Stanislava', 'Filip', 'Alena', 'Sára', 'Alois',\n",
    "    'Božena', 'Maryana', 'Kateřina', 'Ladislav', 'Radek',\n",
    "    'Petr', 'Ludmila', 'Renáta', 'Nikola', 'Dominika',\n",
    "    'Patrik', 'Soňa', 'David', 'Liubov', 'Monika',\n",
    "    'Marie', 'Aleš', 'Roman', 'Karolína'\n",
    "    )"
   ]
  },
  {
   "cell_type": "code",
   "execution_count": 125,
   "metadata": {},
   "outputs": [
    {
     "name": "stdout",
     "output_type": "stream",
     "text": [
      "106\n"
     ]
    }
   ],
   "source": [
    "# kolik má firma zaměstnanců?\n",
    "# print(len(jen_jmena))\n",
    "print(len(zamestnanci_raw.splitlines()[1:]))"
   ]
  },
  {
   "cell_type": "code",
   "execution_count": 130,
   "metadata": {},
   "outputs": [
    {
     "name": "stdout",
     "output_type": "stream",
     "text": [
      "5\n"
     ]
    }
   ],
   "source": [
    "# kolikrát najdu ve firmě jméno \"Marie\"?\n",
    "print(jen_jmena.count(\"Marie\"))"
   ]
  },
  {
   "cell_type": "code",
   "execution_count": 128,
   "metadata": {},
   "outputs": [
    {
     "name": "stdout",
     "output_type": "stream",
     "text": [
      "100\n"
     ]
    }
   ],
   "source": [
    "# kolik ve firmě najdu unikátních jmen?\n",
    "print(len(set(jen_jmena)))"
   ]
  },
  {
   "cell_type": "code",
   "execution_count": null,
   "metadata": {},
   "outputs": [],
   "source": [
    "# přidej do proměnné \"zamestnanec_1\" klíč \"stav\" s hodnotou \"svobodna\"\n",
    "# .. potom vypiš počet klíčů/hodnot\n",
    "zamestnanec_1 = {\n",
    "        \"jmeno\": \"Marie\",\n",
    "        \"prijmeni\": \"Vybiralova\",\n",
    "        \"datum narozeni\": \"10-10-2000\",\n",
    "        \"email\": \"maria.vybiralova@firma.cz\",\n",
    "        \"mobil\": \"+420 777 555 666\",\n",
    "        \"oddeleni\": \"HR\"\n",
    "}"
   ]
  },
  {
   "cell_type": "code",
   "execution_count": null,
   "metadata": {},
   "outputs": [],
   "source": [
    "# naformátuj proměnné \"jmeno\" a \"prijmeni\" na generovaný\n",
    "# .. firemní email \"m.vybiralova@firma.cz\"\n",
    "jmeno = \"Marie\"\n",
    "prijmeni = \"Vybiralova\""
   ]
  },
  {
   "cell_type": "code",
   "execution_count": 1,
   "metadata": {},
   "outputs": [],
   "source": [
    "# z každého stringu níže přidej do setu \"domena\" pouze doménové jméno, bez obecné domény\n",
    "# .. tedy z \"m.vybiralova@firma.cz\" --> \"firma\", nakonec vypiš obsah proměnné \"doména\"\n",
    "\n",
    "domena = set()\n",
    "\n",
    "email_1 = \"m.vybiralova@firma.cz\"\n",
    "email_2 = \"m.vybiralova@email.cz\"\n",
    "email_3 = \"m.vybiralova@dobradomena.cz\"\n",
    "email_4 = \"marie@vybiralova.cz\"\n",
    "email_5 = \"marie.vybiralova@gmail.com\""
   ]
  },
  {
   "cell_type": "markdown",
   "metadata": {},
   "source": [
    "---"
   ]
  }
 ],
 "metadata": {
  "kernelspec": {
   "display_name": "Python 3",
   "language": "python",
   "name": "python3"
  },
  "language_info": {
   "codemirror_mode": {
    "name": "ipython",
    "version": 3
   },
   "file_extension": ".py",
   "mimetype": "text/x-python",
   "name": "python",
   "nbconvert_exporter": "python",
   "pygments_lexer": "ipython3",
   "version": "3.8.6"
  }
 },
 "nbformat": 4,
 "nbformat_minor": 4
}
