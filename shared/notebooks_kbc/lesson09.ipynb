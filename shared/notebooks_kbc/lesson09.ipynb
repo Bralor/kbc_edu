{
 "cells": [
  {
   "cell_type": "markdown",
   "metadata": {},
   "source": [
    "### Úvod\n",
    "\n",
    "---\n",
    "\n",
    "1. [Úvod do mailbota](#Úvod-do-mailbota),\n",
    "2. [Potřebné knihovny](#Potřebné-knihovny),\n",
    "3. [Odeslání prostého emailu](#Odeslání-prostého-emailu),\n",
    "4. [Odeslání upraveného emailu](#Odeslání-upraveného-emailu),\n",
    "5. [Odeslání s přílohou](#Odeslání-s-přílohou),\n",
    "6. [Několik adresátů](#Několik-adresátů),\n",
    "7. [Čtení emailů](#Lze-maily-i-číst)."
   ]
  },
  {
   "cell_type": "markdown",
   "metadata": {},
   "source": [
    "<br>\n",
    "\n",
    "<img src=\"https://external-content.duckduckgo.com/iu/?u=https%3A%2F%2Ftse2.mm.bing.net%2Fth%3Fid%3DOIP.TuQtVzmeZhMHV1g9lBlwmgHaHa%26pid%3DApi&f=1\" width=\"200\">\n",
    "\n",
    "\n",
    "## Úvod do mailbota\n",
    "\n",
    "---\n",
    "\n",
    "*Mailbot* je v podstatě *klient*, nebo *služba*, která ti umožní automatizovat práci s emailovým serverem a emaily jako takovými.\n",
    "\n",
    "Důvodů, proč chceš tvořit svého mailbota, je několik:\n",
    "1. **Utilizovat** tvorbu mailů (obsah, rozsah, ..)\n",
    "2. rozesílání **většímu množství adresátů** (specifikace mailing listů),\n",
    "3. rezesílání **většího množství emailů** (specifikace několika různých zpráv),\n",
    "4. **automatizovat odesílání** emailů (načasovat, optimalizovat rozesílání)."
   ]
  },
  {
   "cell_type": "markdown",
   "metadata": {},
   "source": [
    "Python jako takový poskytuje hněd několik řešení, které můžeš při **konfiguraci serveru** a odesílání emailů použít.\n",
    "\n",
    "Současně je ale potřeba zdůraznit, že existuje **velké množství efektivnějších nástrojů** (<a href=\"https://mailchimp.com/\" target=\"_blank\">mailchimp</a>, ..).\n",
    "\n",
    "Tak **proč se tedy zajímat** o nějaké řešení v *Pythonu*?\n",
    "\n",
    "Jednoduše řečeno, pokud budeš potřebuješ individuální řešení, nebo řešení *\\\"na míru\\\"*, je dobré znát základy takových komunikace emailového serveru s klientem.\n",
    "\n",
    "Jakou knihovnu budeš tedy potřebovat?"
   ]
  },
  {
   "cell_type": "markdown",
   "metadata": {},
   "source": [
    "<br>\n",
    "\n",
    "<img src=\"https://external-content.duckduckgo.com/iu/?u=https%3A%2F%2Ftse2.mm.bing.net%2Fth%3Fid%3DOIP.EvE0cAsK9bHMbis8Ki5YPQHaHa%26pid%3DApi&f=1\" width=\"200\">\n",
    "\n",
    "## Potřebné knihovny\n",
    "\n",
    "---"
   ]
  },
  {
   "cell_type": "markdown",
   "metadata": {},
   "source": [
    "Než vůbec začneš s psaním skriptu, je nutné pohledat pomocné **knihovny**:\n",
    "1. `ssl`,\n",
    "2. `smtplib`,\n",
    "3. `email`.\n",
    "\n",
    "Jde o *zabudované knihovny*, takže tentokrát nebude potřeba nic hledat a instalovat."
   ]
  },
  {
   "cell_type": "markdown",
   "metadata": {},
   "source": [
    "### Knihovna `ssl`\n",
    "\n",
    "Jde o modul, který dovede zpřístupnit šifrování **TLS** (*transport layer security*) a **SSL** (*secure sockets layer*)."
   ]
  },
  {
   "cell_type": "code",
   "execution_count": 1,
   "metadata": {},
   "outputs": [],
   "source": [
    "import ssl"
   ]
  },
  {
   "cell_type": "code",
   "execution_count": 2,
   "metadata": {},
   "outputs": [],
   "source": [
    "context = ssl.create_default_context()"
   ]
  },
  {
   "cell_type": "code",
   "execution_count": 3,
   "metadata": {},
   "outputs": [
    {
     "name": "stdout",
     "output_type": "stream",
     "text": [
      "<class 'ssl.SSLContext'>\n"
     ]
    }
   ],
   "source": [
    "print(type(context))"
   ]
  },
  {
   "cell_type": "markdown",
   "metadata": {},
   "source": [
    "Vrátí nový objekt `SSLContext`, který sám nastaví protokol pro konkrétní účel."
   ]
  },
  {
   "cell_type": "markdown",
   "metadata": {},
   "source": [
    "### Knihovna `email`\n",
    "\n",
    "Knihovna poskytuje objekty, které umožní nastavit obsah zprávy emailu:"
   ]
  },
  {
   "cell_type": "code",
   "execution_count": 4,
   "metadata": {},
   "outputs": [],
   "source": [
    "from email.message import EmailMessage"
   ]
  },
  {
   "cell_type": "code",
   "execution_count": 5,
   "metadata": {},
   "outputs": [],
   "source": [
    "odesilatel = \"engeto.lekce09@gmail.com\"  # odkud\n",
    "adresat = \"me@matousholinka.com\"         # kam"
   ]
  },
  {
   "cell_type": "code",
   "execution_count": 6,
   "metadata": {},
   "outputs": [],
   "source": [
    "predmet = \"Lekce09, automatizace pro odesílání emailů\"\n",
    "zprava = \"\"\"\n",
    "Posílám ti svoji první zprávu. Pomocí Pythonu!!^.^\n",
    "\"\"\""
   ]
  },
  {
   "cell_type": "markdown",
   "metadata": {},
   "source": [
    "Pomocí klíčů `From`, `To` a `Subject` můžeš nastavit dotčené osoby a předmět zprávy:"
   ]
  },
  {
   "cell_type": "code",
   "execution_count": 7,
   "metadata": {},
   "outputs": [],
   "source": [
    "email = EmailMessage()\n",
    "email['From'] = odesilatel\n",
    "email['To'] = adresat\n",
    "email['Subject'] = predmet"
   ]
  },
  {
   "cell_type": "markdown",
   "metadata": {},
   "source": [
    "Pomocí metody `set_content` nastavíš obsah (někdy také *tělo*) emailu:"
   ]
  },
  {
   "cell_type": "code",
   "execution_count": 8,
   "metadata": {},
   "outputs": [
    {
     "name": "stdout",
     "output_type": "stream",
     "text": [
      "Help on method set_content in module email.message:\n",
      "\n",
      "set_content(*args, **kw) method of email.message.EmailMessage instance\n",
      "\n"
     ]
    }
   ],
   "source": [
    "help(email.set_content)"
   ]
  },
  {
   "cell_type": "code",
   "execution_count": 9,
   "metadata": {},
   "outputs": [],
   "source": [
    "email.set_content(zprava)"
   ]
  },
  {
   "cell_type": "markdown",
   "metadata": {},
   "source": [
    "### Knihovna `smtplib`\n",
    "\n",
    "Pomocí modulu `smtplib` vytvoříš nový *session* objekt, který můžeš pověřit odesíláním emailových zpráv pro kterýkoliv STMP nebo ESTMP *daemon*.\n",
    "\n",
    "\n",
    "Právě *smtp* (*simple mail transfer protocol*) je protokol, který slouží pro komunikaci pomocí emailů (podobně jako *http* nebo *https* protokoly pro *klienty* a *servery*)."
   ]
  },
  {
   "cell_type": "code",
   "execution_count": 10,
   "metadata": {},
   "outputs": [],
   "source": [
    "import smtplib"
   ]
  },
  {
   "cell_type": "code",
   "execution_count": 12,
   "metadata": {},
   "outputs": [],
   "source": [
    "# help(smtplib)"
   ]
  },
  {
   "cell_type": "markdown",
   "metadata": {},
   "source": [
    "Vytvoříš manažerem nový objekt, který popíšeš emailový server a současně aplikuješ nachystanou bezpečnostní vrstvu:"
   ]
  },
  {
   "cell_type": "code",
   "execution_count": null,
   "metadata": {},
   "outputs": [],
   "source": [
    "with smtplib.SMTP_SSL('smtp.gmail.com', context=context) as smtp:\n",
    "    smtp.login(odesilatel, password)  # nezapomeň na heslo\n",
    "    smtp.sendmail(odesilatel, korespondent, email.as_string())"
   ]
  },
  {
   "cell_type": "code",
   "execution_count": 14,
   "metadata": {},
   "outputs": [],
   "source": [
    "# help(smtplib.SMTP_SSL.login)"
   ]
  },
  {
   "cell_type": "code",
   "execution_count": 16,
   "metadata": {},
   "outputs": [],
   "source": [
    "# help(smtplib.SMTP_SSL.sendmail)"
   ]
  },
  {
   "cell_type": "markdown",
   "metadata": {},
   "source": [
    "* `smtp.login` ti umožní authentikaci pomocí jména a hesla uživatele,\n",
    "* `smtp.sendmail` odešle emailovou zprávu"
   ]
  },
  {
   "cell_type": "markdown",
   "metadata": {},
   "source": [
    "<br>\n",
    "\n",
    "<img src=\"https://external-content.duckduckgo.com/iu/?u=https%3A%2F%2Ftse1.mm.bing.net%2Fth%3Fid%3DOIP.XirtSvu4d9GF-JAuCRJIBgHaHa%26pid%3DApi&f=1\" width=\"220\">\n",
    "\n",
    "## Odeslání prostého emailu\n",
    "\n",
    "---"
   ]
  },
  {
   "cell_type": "markdown",
   "metadata": {},
   "source": [
    "Před odesláním budeš potřebovat vytvořit **vlastní emailovou schránku**.\n",
    "\n",
    "**Není doporučené**, provádět různé vývojařské činnosti, na tvém vlastním emailu, který běžně používáš.\n",
    "\n",
    "##### Pro Gmail (cesta největšího odporu):\n",
    "1. Přesuň se do nastavení tvého účetu,\n",
    "2. .. do sekce \"Zabezpečení\",\n",
    "3. .. vytvoř dvoufaktorové ověření,\n",
    "4. .. přejdi na stránku `https://myaccount.google.com/u/2/apppasswords`,\n",
    "5. .. vyber aplikaci a nastav `Jiné (vlastní název)`,\n",
    "6. .. zadej jméno a zkopíruj si přístupové heslo (tvoří ho 16 znaků)."
   ]
  },
  {
   "cell_type": "markdown",
   "metadata": {},
   "source": [
    "### Zadání citlivých údajů"
   ]
  },
  {
   "cell_type": "markdown",
   "metadata": {},
   "source": [
    "Občas je potřeba zadávat v rámci proměnných údaje, které **nemusí jiní uživatelé vnímat**."
   ]
  },
  {
   "cell_type": "code",
   "execution_count": 18,
   "metadata": {},
   "outputs": [
    {
     "name": "stdout",
     "output_type": "stream",
     "text": [
      "s\n",
      "s\n"
     ]
    }
   ],
   "source": [
    "uzivatel = input()\n",
    "heslo = input()"
   ]
  },
  {
   "cell_type": "markdown",
   "metadata": {},
   "source": [
    "Existuje velké množství způsobů i knihoven:\n",
    "* `getch`, zapisování skrytého heslo po symbolu,\n",
    "* `getpass`, zapisování skrytého hesla bez výstupu (Linux),\n",
    "* `bcrypt`, šifrování hesla.\n",
    "* `os`, systémová proměnná."
   ]
  },
  {
   "cell_type": "markdown",
   "metadata": {},
   "source": [
    "### Knihovna OS\n",
    "\n",
    "Jako taková umí zpřístupnit většinu **systémových příkazů** a **proměnných**:"
   ]
  },
  {
   "cell_type": "code",
   "execution_count": 19,
   "metadata": {},
   "outputs": [],
   "source": [
    "import os  # os.path"
   ]
  },
  {
   "cell_type": "code",
   "execution_count": 21,
   "metadata": {},
   "outputs": [],
   "source": [
    "# help(os.environ)"
   ]
  },
  {
   "cell_type": "code",
   "execution_count": 22,
   "metadata": {
    "scrolled": true
   },
   "outputs": [
    {
     "name": "stdout",
     "output_type": "stream",
     "text": [
      "SHELL: /bin/bash\n",
      "MINIFORGE_VERSION: 4.9.2-5\n",
      "HOSTNAME: 46e49b40888a\n",
      "LANGUAGE: en_US.UTF-8\n",
      "NB_UID: 1000\n",
      "JULIA_PKGDIR: /opt/julia\n",
      "PWD: /home/jovyan\n",
      "HOME: /home/jovyan\n",
      "LANG: en_US.UTF-8\n",
      "NB_GID: 100\n",
      "JULIA_VERSION: 1.5.3\n",
      "XDG_CACHE_HOME: /home/jovyan/.cache/\n",
      "SHLVL: 0\n",
      "CONDA_DIR: /opt/conda\n",
      "JULIA_DEPOT_PATH: /opt/julia\n",
      "CONDA_VERSION: 4.9.2\n",
      "NB_USER: jovyan\n",
      "LC_ALL: en_US.UTF-8\n",
      "PATH: /opt/conda/bin:/usr/local/sbin:/usr/local/bin:/usr/sbin:/usr/bin:/sbin:/bin\n",
      "DEBIAN_FRONTEND: noninteractive\n",
      "JPY_PARENT_PID: 7\n",
      "TERM: xterm-color\n",
      "CLICOLOR: 1\n",
      "PAGER: cat\n",
      "GIT_PAGER: cat\n",
      "MPLBACKEND: module://ipykernel.pylab.backend_inline\n"
     ]
    }
   ],
   "source": [
    "for key, val in os.environ.items():\n",
    "    if key == \"JUPYTER_TOKEN\":  # >.<\n",
    "        continue\n",
    "    print(f\"{key}: {val}\")"
   ]
  },
  {
   "cell_type": "code",
   "execution_count": 23,
   "metadata": {},
   "outputs": [
    {
     "name": "stdout",
     "output_type": "stream",
     "text": [
      "4.9.2-5\n"
     ]
    }
   ],
   "source": [
    "print(os.getenv(\"MINIFORGE_VERSION\"))"
   ]
  },
  {
   "cell_type": "code",
   "execution_count": 24,
   "metadata": {},
   "outputs": [],
   "source": [
    "os.environ[\"MOJE_HESLO\"] = \"panpes738\""
   ]
  },
  {
   "cell_type": "markdown",
   "metadata": {},
   "source": [
    "Hodnoty je možné upravovat za běhu, ale pokud je potřeba **udělat persistentní proměnné** (zůstanou po ukončení), je potřeba postupovat:"
   ]
  },
  {
   "cell_type": "markdown",
   "metadata": {},
   "source": [
    "##### Windows\n",
    "```\n",
    "setx email matous@holinka.com /M\n",
    "setx password panpes768 /M\n",
    "```\n",
    "\n",
    "<br>\n",
    "\n",
    "Po zápisu zavři *cmdline* a znovu zapni *cmdline*."
   ]
  },
  {
   "cell_type": "markdown",
   "metadata": {},
   "source": [
    "##### Mac a Linux\n",
    "Obvykle potřebuješ editovat svůj `.bashrc` profil, kde stačí nakonec souboru doplnit:\n",
    "```\n",
    "# Special credentials for Python Dev\n",
    "export email=\"matous@holinka.com\"\n",
    "export password=\"panpes768\"\n",
    "```\n",
    "\n",
    "<br>\n",
    "\n",
    "Soubor ulož, zavři a **restartuj terminál**."
   ]
  },
  {
   "cell_type": "markdown",
   "metadata": {},
   "source": [
    "Nyní v rámci interaktivního prostředí můžeš získat proměnné `email` a `password`:"
   ]
  },
  {
   "cell_type": "markdown",
   "metadata": {},
   "source": [
    "##### Demo: Ukázka proměnné `test_password`"
   ]
  },
  {
   "cell_type": "markdown",
   "metadata": {},
   "source": [
    "##### Demo: Odeslání prostého emailu na zadanou adresu"
   ]
  },
  {
   "cell_type": "markdown",
   "metadata": {},
   "source": [
    "<img src=\"https://external-content.duckduckgo.com/iu/?u=https%3A%2F%2Ftse2.mm.bing.net%2Fth%3Fid%3DOIP.f2DAFYvbLPWfoKS51xCHOQAAAA%26pid%3DApi&f=1\" width=\"200\">\n",
    "\n",
    "## Odeslání upraveného emailu\n",
    "\n",
    "---\n",
    "\n",
    "Pokud budeš potřebovat odesílat **defaultní zprávu**, která bude mít **specifické proměnné** (*mailing list*, nebo opakovaný mail s aktualizacemi), můžeš psát přímo **HTML obsah zprávy**.\n",
    "\n",
    "Podobným způsobem se rozesílají nejrůznější *newslettery*, oznámení, aj.\n",
    "\n",
    "Nejjednodušší cestou je vyplnit jednoduchou **HTML šablonu** souboru:\n",
    "\n",
    "```html\n",
    "<!DOCTYPE html>\n",
    "<html>\n",
    "<head>\n",
    "</head>\n",
    "<body>\n",
    "</body>\n",
    "</html>\n",
    "```"
   ]
  },
  {
   "cell_type": "markdown",
   "metadata": {},
   "source": [
    "Představ si jednoduchou ukázku **s dvěma proměnnými**:\n",
    "\n",
    "```html\n",
    "<!DOCTYPE html>\n",
    "<html>\n",
    "<head>\n",
    "</head>\n",
    "<body>\n",
    "    Ahoj $jmeno, posílám ti pozvánku na naši $lekce.\n",
    "</body>\n",
    "</html>\n",
    "```"
   ]
  },
  {
   "cell_type": "markdown",
   "metadata": {},
   "source": [
    "Pro zpracování takového HTML souboru budeš potřebovat:\n",
    "1. **Najít a otevřít** tento soubor,\n",
    "    - pomocí funkce `open`,\n",
    "    - pomocí knihovny `pathlib`.\n",
    "\n",
    "<br>\n",
    "\n",
    "2. vhodně **nahradit** proměnné `jmeno` a `lekce`."
   ]
  },
  {
   "cell_type": "markdown",
   "metadata": {},
   "source": [
    "### Otevření souboru\n",
    "\n",
    "Nejprve si pojď řádně otevřít soubor typu `html`:"
   ]
  },
  {
   "cell_type": "code",
   "execution_count": 26,
   "metadata": {},
   "outputs": [],
   "source": [
    "# !ls -l ../onsite/lesson09"
   ]
  },
  {
   "cell_type": "code",
   "execution_count": 27,
   "metadata": {},
   "outputs": [],
   "source": [
    "with open(\"../onsite/lesson09/index.html\", encoding=\"utf-8\") as html_:\n",
    "    content = html_.read()"
   ]
  },
  {
   "cell_type": "code",
   "execution_count": 28,
   "metadata": {},
   "outputs": [
    {
     "name": "stdout",
     "output_type": "stream",
     "text": [
      "<!DOCTYPE html>\n",
      "<html>\n",
      "<head>\n",
      "</head>\n",
      "<body>\n",
      "    Ahoj $jmeno, posílám ti podklady, které jsem používal na $lekce.\n",
      "</body>\n",
      "</html>\n",
      "\n"
     ]
    }
   ],
   "source": [
    "print(content)"
   ]
  },
  {
   "cell_type": "markdown",
   "metadata": {},
   "source": [
    "Všimni si, že tímto způsobem přečtení souboru dostaneš i samotné **elementy pro HTML soubor**.\n"
   ]
  },
  {
   "cell_type": "markdown",
   "metadata": {},
   "source": [
    "Když budeš chtít přečíst obsah **HTML** souboru pomocí knihovny `pathlib`:"
   ]
  },
  {
   "cell_type": "code",
   "execution_count": 29,
   "metadata": {},
   "outputs": [],
   "source": [
    "from pathlib import Path  # os.path"
   ]
  },
  {
   "cell_type": "code",
   "execution_count": 30,
   "metadata": {},
   "outputs": [],
   "source": [
    "html_soubor = Path(\"../onsite/lesson09/index.html\")"
   ]
  },
  {
   "cell_type": "code",
   "execution_count": 31,
   "metadata": {},
   "outputs": [
    {
     "data": {
      "text/plain": [
       "pathlib.PosixPath"
      ]
     },
     "execution_count": 31,
     "metadata": {},
     "output_type": "execute_result"
    }
   ],
   "source": [
    "type(html_soubor)"
   ]
  },
  {
   "cell_type": "code",
   "execution_count": 33,
   "metadata": {},
   "outputs": [],
   "source": [
    "# help(html_soubor.read_text)"
   ]
  },
  {
   "cell_type": "code",
   "execution_count": 34,
   "metadata": {},
   "outputs": [],
   "source": [
    "html_text = html_soubor.read_text()"
   ]
  },
  {
   "cell_type": "code",
   "execution_count": 35,
   "metadata": {},
   "outputs": [
    {
     "name": "stdout",
     "output_type": "stream",
     "text": [
      "<!DOCTYPE html>\n",
      "<html>\n",
      "<head>\n",
      "</head>\n",
      "<body>\n",
      "    Ahoj $jmeno, posílám ti podklady, které jsem používal na $lekce.\n",
      "</body>\n",
      "</html>\n",
      "\n"
     ]
    }
   ],
   "source": [
    "print(html_text)"
   ]
  },
  {
   "cell_type": "markdown",
   "metadata": {},
   "source": [
    "Ať už si vybereš tyto způsoby, nebo jakýkoliv jiný (pomocí knihovny `os`), máš nahraný text jako objekt v Pythonu."
   ]
  },
  {
   "cell_type": "markdown",
   "metadata": {},
   "source": [
    "### Nahrazení nachystaných proměnných\n",
    "\n",
    "Pro nahrazení proměnných v textu budeš potřebovat další pomocnou knihovnu:"
   ]
  },
  {
   "cell_type": "code",
   "execution_count": 36,
   "metadata": {},
   "outputs": [],
   "source": [
    "from string import Template"
   ]
  },
  {
   "cell_type": "code",
   "execution_count": 37,
   "metadata": {},
   "outputs": [
    {
     "data": {
      "text/plain": [
       "'Jmenuji se Matouš'"
      ]
     },
     "execution_count": 37,
     "metadata": {},
     "output_type": "execute_result"
    }
   ],
   "source": [
    "s = Template('Jmenuji se $jmeno')\n",
    "s.substitute(jmeno='Matouš')"
   ]
  },
  {
   "cell_type": "markdown",
   "metadata": {},
   "source": [
    "Pokud budeš potřebovat nahradit **dvě proměnné**, opět můžeš použít knihovnu `string`:"
   ]
  },
  {
   "cell_type": "code",
   "execution_count": 38,
   "metadata": {},
   "outputs": [],
   "source": [
    "from datetime import datetime"
   ]
  },
  {
   "cell_type": "code",
   "execution_count": 41,
   "metadata": {},
   "outputs": [
    {
     "data": {
      "text/plain": [
       "'Jmenuji se Matouš. Dnes je 06.10.2022'"
      ]
     },
     "execution_count": 41,
     "metadata": {},
     "output_type": "execute_result"
    }
   ],
   "source": [
    "s = Template('Jmenuji se $jmeno. Dnes je $datum')\n",
    "s.substitute(\n",
    "    jmeno='Matouš',\n",
    "    datum=datetime.now().strftime(\"%d.%m.%Y\")\n",
    ")"
   ]
  },
  {
   "cell_type": "markdown",
   "metadata": {},
   "source": [
    "Jednotlivé hodnoty můžeš vkládat jako *klíčové argumenty*, nebo zadat **slovník** s *klíči* a jejich *hodnotami*:"
   ]
  },
  {
   "cell_type": "code",
   "execution_count": 42,
   "metadata": {},
   "outputs": [
    {
     "data": {
      "text/plain": [
       "'Jmenuji se Matouš. Dnes je 06/10/22'"
      ]
     },
     "execution_count": 42,
     "metadata": {},
     "output_type": "execute_result"
    }
   ],
   "source": [
    "s = Template('Jmenuji se $jmeno. Dnes je $datum')\n",
    "s.substitute(\n",
    "    {\n",
    "        \"jmeno\": \"Matouš\",\n",
    "        \"datum\": datetime.now().strftime(\"%d/%m/%y\")\n",
    "    }\n",
    ")"
   ]
  },
  {
   "cell_type": "markdown",
   "metadata": {},
   "source": [
    "##### Demo: Odeslání modifikovatelného emailu na zadanou adresu"
   ]
  },
  {
   "cell_type": "markdown",
   "metadata": {},
   "source": [
    "<br>\n",
    "\n",
    "<img src=\"https://external-content.duckduckgo.com/iu/?u=https%3A%2F%2Ftse3.mm.bing.net%2Fth%3Fid%3DOIP.5OGuDVPGxsox5V-ytKQzOAHaHa%26pid%3DApi&f=1\" width=\"230\">\n",
    "\n",
    "## Odeslání s přílohou\n",
    "\n",
    "---"
   ]
  },
  {
   "cell_type": "markdown",
   "metadata": {},
   "source": [
    "Pokud budeš potřebovat přidat ke svojí zprávě také přílohu, není problém ji tam pomocí knihovny `email` doplnit.\n",
    "\n",
    "Nejprve potřebuješ přílohu **najít** a **otevřít**:"
   ]
  },
  {
   "cell_type": "code",
   "execution_count": 50,
   "metadata": {},
   "outputs": [],
   "source": [
    "def otevri_prilohu(jmeno_souboru: str):\n",
    "    with open(jmeno_souboru, mode=\"rb\") as priloha:\n",
    "        obsah_souboru = priloha.read()\n",
    "    return obsah_souboru"
   ]
  },
  {
   "cell_type": "code",
   "execution_count": 51,
   "metadata": {},
   "outputs": [],
   "source": [
    "obsah = otevri_prilohu(\"../onsite/lesson09/pozn.txt\")"
   ]
  },
  {
   "cell_type": "code",
   "execution_count": 52,
   "metadata": {},
   "outputs": [
    {
     "name": "stdout",
     "output_type": "stream",
     "text": [
      "b'Ahoj, tady Matou\\xc5\\xa1.\\n'\n"
     ]
    }
   ],
   "source": [
    "print(obsah)"
   ]
  },
  {
   "cell_type": "code",
   "execution_count": 44,
   "metadata": {},
   "outputs": [],
   "source": [
    "# help(open)"
   ]
  },
  {
   "cell_type": "markdown",
   "metadata": {},
   "source": [
    "Všimni si, že režim, v jakém tuto přílohu pro email načítáš tvým skriptem je `rb`.\n",
    "\n",
    "Tedy režim pro **čtení** a **binární mód**.\n",
    "\n",
    "*Interpret* tedy nenačte znaky jako **textový string**, ale **bajtový string**."
   ]
  },
  {
   "cell_type": "markdown",
   "metadata": {},
   "source": [
    "### Přidání přílohy do zprávy"
   ]
  },
  {
   "cell_type": "markdown",
   "metadata": {},
   "source": [
    "Nejprve musíš najít svůj objekt, který reprezentuje skutečnou zprávu:"
   ]
  },
  {
   "cell_type": "code",
   "execution_count": 53,
   "metadata": {},
   "outputs": [],
   "source": [
    "from email.message import EmailMessage"
   ]
  },
  {
   "cell_type": "code",
   "execution_count": 55,
   "metadata": {},
   "outputs": [],
   "source": [
    "def pridej_prilohu(obsah_souboru, jmeno_souboru: str):\n",
    "    email = EmailMessage()\n",
    "\n",
    "    email.add_attachment(\n",
    "        obsah_souboru,\n",
    "        maintype=\"text/plain\",\n",
    "        subtype=\"ipynb\",\n",
    "        filename=jmeno_souboru\n",
    "    )\n",
    "    return email"
   ]
  },
  {
   "cell_type": "code",
   "execution_count": 56,
   "metadata": {},
   "outputs": [
    {
     "name": "stdout",
     "output_type": "stream",
     "text": [
      "Help on function add_attachment in module email.message:\n",
      "\n",
      "add_attachment(self, *args, **kw)\n",
      "\n"
     ]
    }
   ],
   "source": [
    "help(EmailMessage.add_attachment)"
   ]
  },
  {
   "cell_type": "markdown",
   "metadata": {},
   "source": [
    "### Přidání více souborů jako přílohu"
   ]
  },
  {
   "cell_type": "code",
   "execution_count": null,
   "metadata": {},
   "outputs": [],
   "source": [
    "def pridej_prilohu(soubory: list):  # [\"obrazek1.jpeg\", \"obrazek2.jpeg\"]\n",
    "    email = EmailMessage()\n",
    "    \n",
    "    for soubor in soubory:\n",
    "        with open(soubor, mode=\"rb\") as soubor:\n",
    "            obsah = soubor.read()\n",
    "        \n",
    "        email.add_attachment(\n",
    "            obsah,\n",
    "            maintype=\"image\",  # \"application\"  -> .pdf\n",
    "            subtype=\"jpeg\"     # \"octet-stream\" -> .pdf\n",
    "            filename=soubor\n",
    "        )\n",
    "\n",
    "    return email"
   ]
  },
  {
   "cell_type": "markdown",
   "metadata": {},
   "source": [
    "##### Demo: Odeslání emailu s přílohou"
   ]
  },
  {
   "cell_type": "markdown",
   "metadata": {},
   "source": [
    "<br>\n",
    "\n",
    "<img src=\"https://external-content.duckduckgo.com/iu/?u=https%3A%2F%2Ftse2.mm.bing.net%2Fth%3Fid%3DOIP.hEp4Pj-xWZHPRWP8h4b_GAHaHa%26pid%3DApi&f=1\" width=\"250\">\n",
    "\n",
    "## Několik adresátů\n",
    "\n",
    "---"
   ]
  },
  {
   "cell_type": "markdown",
   "metadata": {},
   "source": [
    "Pokud potřebuješ rozesílat *newslettery*, aktuality, nebo *notifikace* pro více *adresátů*, potom musíš upravit tvůj zápis:"
   ]
  },
  {
   "cell_type": "code",
   "execution_count": 57,
   "metadata": {},
   "outputs": [],
   "source": [
    "from email.message import EmailMessage"
   ]
  },
  {
   "cell_type": "code",
   "execution_count": 58,
   "metadata": {},
   "outputs": [],
   "source": [
    "email = EmailMessage()"
   ]
  },
  {
   "cell_type": "code",
   "execution_count": 59,
   "metadata": {},
   "outputs": [],
   "source": [
    "email['From'] = \"odesilatel@gmail.com\"\n",
    "email['Subject'] = \"predmet\""
   ]
  },
  {
   "cell_type": "code",
   "execution_count": 60,
   "metadata": {},
   "outputs": [],
   "source": [
    "adresati = [\"email1@gmail.com\", \"email2@gmail.com\", \"email3@gmail.com\"]"
   ]
  },
  {
   "cell_type": "code",
   "execution_count": 61,
   "metadata": {},
   "outputs": [],
   "source": [
    "email['To'] = \", \".join(adresati)"
   ]
  },
  {
   "cell_type": "code",
   "execution_count": 62,
   "metadata": {},
   "outputs": [
    {
     "name": "stdout",
     "output_type": "stream",
     "text": [
      "email1@gmail.com, email2@gmail.com, email3@gmail.com\n"
     ]
    }
   ],
   "source": [
    "print(\", \".join(adresati))"
   ]
  },
  {
   "cell_type": "markdown",
   "metadata": {},
   "source": [
    "Pomocí metody pro datový typ `str` `join`, můžeš pospojovat (s pomocí čárky) **různý počet adresátů**."
   ]
  },
  {
   "cell_type": "markdown",
   "metadata": {},
   "source": [
    "\n",
    "<img src=\"https://external-content.duckduckgo.com/iu/?u=https%3A%2F%2Ftse1.mm.bing.net%2Fth%3Fid%3DOIP.GMJvJ-GG0YS8H5JmHR3CbwHaHm%26pid%3DApi&f=1\" width=\"200\">\n",
    "\n",
    "\n",
    "## Lze maily i číst\n",
    "\n",
    "---\n"
   ]
  },
  {
   "cell_type": "markdown",
   "metadata": {},
   "source": [
    "Pokud náhodou potřebuješ, můžeš zprávy z emailové schránky **také číst**.\n",
    "\n",
    "Ne vždy to bývá **uživatelsky příjemná práce**, ale knihovny Pythonu tyto procesy umí provést."
   ]
  },
  {
   "cell_type": "code",
   "execution_count": null,
   "metadata": {},
   "outputs": [],
   "source": [
    "import imaplib"
   ]
  },
  {
   "cell_type": "code",
   "execution_count": null,
   "metadata": {},
   "outputs": [],
   "source": [
    "with imaplib.IMAP4_SSL(imap_server) as imap:\n",
    "    imap.login(\"emailova_adresa\", \"heslo\")\n",
    "    imap.select(\"Inbox\")"
   ]
  },
  {
   "cell_type": "markdown",
   "metadata": {},
   "source": [
    "Knihovna `imaplib` podporuje 3 různé objekty, které můžeš použít jako funkční protokoly."
   ]
  },
  {
   "cell_type": "markdown",
   "metadata": {},
   "source": [
    "```python\n",
    "imap.select()\n",
    "```\n",
    "\n",
    "Metodu `select` můžeš nechat prázdnou. Její defaultní nastavení ti vybere složku `\"INBOX\"`."
   ]
  },
  {
   "cell_type": "markdown",
   "metadata": {},
   "source": [
    "### Konkrétní zprávy\n",
    "\n",
    "Pokud potřebuješ vybrat pouze specifické zprávy, můžeš použít metodu `search`:"
   ]
  },
  {
   "cell_type": "code",
   "execution_count": null,
   "metadata": {},
   "outputs": [],
   "source": [
    "type_, cisla_zprav = imap.search(None, \"ALL\")"
   ]
  },
  {
   "cell_type": "markdown",
   "metadata": {},
   "source": [
    "**První argument** (`None`) reprezentuje znakovou sadu.\n",
    "\n",
    "**Druhý argument** představuje upřesňující kritéria (`\"FROM\"`, `\"ALL\"`).\n",
    "V podstatě jde o nastavení filtru vrácených zpráv."
   ]
  },
  {
   "cell_type": "code",
   "execution_count": null,
   "metadata": {},
   "outputs": [],
   "source": [
    "for cislo_zpravy in cisla_zprav[0].split():\n",
    "    _, data = imap.fetch(cislo_zpravy, \"(RFC822)\")"
   ]
  },
  {
   "cell_type": "markdown",
   "metadata": {},
   "source": [
    "Nakonec pomocí *iterátoru* můžeš získat detaily zprávy nebo případně i obsah zprávy samotné."
   ]
  },
  {
   "cell_type": "markdown",
   "metadata": {},
   "source": [
    "---"
   ]
  }
 ],
 "metadata": {
  "kernelspec": {
   "display_name": "Python 3",
   "language": "python",
   "name": "python3"
  },
  "language_info": {
   "codemirror_mode": {
    "name": "ipython",
    "version": 3
   },
   "file_extension": ".py",
   "mimetype": "text/x-python",
   "name": "python",
   "nbconvert_exporter": "python",
   "pygments_lexer": "ipython3",
   "version": "3.8.6"
  }
 },
 "nbformat": 4,
 "nbformat_minor": 4
}
