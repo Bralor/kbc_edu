{
 "cells": [
  {
   "cell_type": "markdown",
   "metadata": {},
   "source": [
    "### Úvod\n",
    "\n",
    "---\n",
    "\n",
    "1. [Úvod do mailbota](#Úvod-do-mailbota),\n",
    "2. [Potřebné knihovny](#Potřebné-knihovny),\n",
    "3. [Odeslání prostého emailu](#Odeslání-prostého-emailu),\n",
    "4. [Odeslání upraveného emailu](#Odeslání-upraveného-emailu),\n",
    "5. [Odeslání s přílohou](#Odeslání-s-přílohou),\n",
    "6. [Několik adresátů](#Několik-adresátů),\n",
    "7. [Domácí úkol](#Domácí-úkol)."
   ]
  },
  {
   "cell_type": "markdown",
   "metadata": {},
   "source": [
    "<br>\n",
    "\n",
    "<img src=\"https://external-content.duckduckgo.com/iu/?u=https%3A%2F%2Ftse2.mm.bing.net%2Fth%3Fid%3DOIP.TuQtVzmeZhMHV1g9lBlwmgHaHa%26pid%3DApi&f=1\" width=\"200\">\n",
    "\n",
    "\n",
    "## Úvod do mailbota\n",
    "\n",
    "---\n",
    "\n",
    "*Mailbot* je v podstatě *klient*, nebo *služba*, která ti umožní automatizovat práci s emailovým serverem a emaily jako takovými.\n",
    "\n",
    "Důvodů, proč chceš tvořit svého mailbota, je několik:\n",
    "1. **Utilizovat** tvorbu mailů (obsah, rozsah, ..)\n",
    "2. rozesílání **většímu množství korespondentů** (specifikace mailing listů),\n",
    "3. rezesílání **většího množství emailů** (specifikace několika různých zpráv),\n",
    "4. **automatizovat odesílání** emailů (načasovat, optimalizovat rozesílání)."
   ]
  },
  {
   "cell_type": "markdown",
   "metadata": {},
   "source": [
    "Python jako takový poskytuje hněd několik řešení, které můžeš při **konfiguraci serveru** a odesílání emailů použít.\n",
    "\n",
    "Současně je ale potřeba zdůraznit, že existuje **velké množství efektivnějších nástrojů** (<a href=\"https://mailchimp.com/\" target=\"_blank\">mailchimp</a>, ..).\n",
    "\n",
    "Tak **proč se tedy zajímat** o nějaké řešení v *Pythonu*?\n",
    "\n",
    "Jednoduše řečeno, pokud budeš potřebuješ individuální řešení, nebo řešení *\\\"na míru\\\"*, je dobré znát základy takových komunikace emailového serveru s klientem.\n",
    "\n",
    "Jakou knihovnu budeš tedy potřebovat?"
   ]
  },
  {
   "cell_type": "markdown",
   "metadata": {},
   "source": [
    "<br>\n",
    "\n",
    "<img src=\"https://external-content.duckduckgo.com/iu/?u=https%3A%2F%2Ftse2.mm.bing.net%2Fth%3Fid%3DOIP.EvE0cAsK9bHMbis8Ki5YPQHaHa%26pid%3DApi&f=1\" width=\"200\">\n",
    "\n",
    "## Potřebné knihovny\n",
    "\n",
    "---"
   ]
  },
  {
   "cell_type": "markdown",
   "metadata": {},
   "source": [
    "Než vůbec začneš s psaním skriptu, je nutné pohledat pomocné **knihovny**:\n",
    "1. `ssl`,\n",
    "2. `smtplib`,\n",
    "3. `email`.\n",
    "\n",
    "Jde o *zabudované knihovny*, takže tentokrát nebude potřeba nic hledat a instalovat."
   ]
  },
  {
   "cell_type": "code",
   "execution_count": 2,
   "metadata": {},
   "outputs": [],
   "source": [
    "import ssl\n",
    "import smtplib\n",
    "from email.message import EmailMessage"
   ]
  },
  {
   "cell_type": "markdown",
   "metadata": {},
   "source": [
    "### Knihovna `ssl`\n",
    "\n",
    "Jde o modul, který dovede zpřístupnit šifrování **TLS** (*transport layer security*) a **SSL** (*secure sockets layer*)."
   ]
  },
  {
   "cell_type": "code",
   "execution_count": 3,
   "metadata": {},
   "outputs": [],
   "source": [
    "context = ssl.create_default_context()"
   ]
  },
  {
   "cell_type": "markdown",
   "metadata": {},
   "source": [
    "Vrátí nový objekt `SSLContext`, který sám nastaví protokol pro konkrétní účel."
   ]
  },
  {
   "cell_type": "markdown",
   "metadata": {},
   "source": [
    "### Knihovna `email`\n",
    "\n",
    "Knihovna poskytuje objekty, které umožní nastavit obsah zprávy emailu:"
   ]
  },
  {
   "cell_type": "code",
   "execution_count": 5,
   "metadata": {},
   "outputs": [],
   "source": [
    "odesilatel = \"engeto.lekce09@gmail.com\"  # odkud\n",
    "korespondent = \"me@matousholinka.com\"    # kam"
   ]
  },
  {
   "cell_type": "code",
   "execution_count": 6,
   "metadata": {},
   "outputs": [],
   "source": [
    "predmet = \"Lekce09, automatizace pro odesílání emailů\"\n",
    "zprava = \"\"\"\n",
    "Posílám ti svoji první zprávu. Pomocí Pythonu!!^.^\n",
    "\"\"\""
   ]
  },
  {
   "cell_type": "markdown",
   "metadata": {},
   "source": [
    "Pomocí klíčů `From`, `To` a `Subject` můžeš nastavit dotčené osoby a předmět zprávy:"
   ]
  },
  {
   "cell_type": "code",
   "execution_count": 9,
   "metadata": {},
   "outputs": [],
   "source": [
    "email = EmailMessage()\n",
    "email['From'] = odesilatel\n",
    "email['To'] = korespondent\n",
    "email['Subject'] = predmet"
   ]
  },
  {
   "cell_type": "markdown",
   "metadata": {},
   "source": [
    "Pomocí metody `set_content` nastavíš obsah (někdy také *tělo*) emailu:"
   ]
  },
  {
   "cell_type": "code",
   "execution_count": 12,
   "metadata": {},
   "outputs": [],
   "source": [
    "# help(email.set_content)"
   ]
  },
  {
   "cell_type": "code",
   "execution_count": 10,
   "metadata": {},
   "outputs": [],
   "source": [
    "email.set_content(zprava)"
   ]
  },
  {
   "cell_type": "markdown",
   "metadata": {},
   "source": [
    "### Knihovna `smtplib`\n",
    "\n",
    "Pomocí modulu `smtplib` vytvoříš nový *session* objekt, který můžeš pověřit odesíláním emailových zpráv pro kterýkoliv STMP nebo ESTMP *daemon*.\n",
    "\n",
    "\n",
    "Právě *smtp* (*simple mail transfer protocol*) je protokol, který slouží pro komunikaci pomocí emailů (podobně jako *http* nebo *https* protokoly pro *klienty* a *servery*)."
   ]
  },
  {
   "cell_type": "code",
   "execution_count": 14,
   "metadata": {},
   "outputs": [],
   "source": [
    "# help(smtplib)"
   ]
  },
  {
   "cell_type": "markdown",
   "metadata": {},
   "source": [
    "Vytvoříš manažerem nový objekt, který popíšeš emailový server a současně aplikuješ nachystanou bezpečnostní vrstvu:"
   ]
  },
  {
   "cell_type": "code",
   "execution_count": null,
   "metadata": {},
   "outputs": [],
   "source": [
    "with smtplib.SMTP_SSL('smtp.gmail.com', context=context) as smtp:\n",
    "    smtp.login(odesilatel, password)  # nezapomeň na heslo\n",
    "    smtp.sendmail(odesilatel, korespondent, email.as_string())"
   ]
  },
  {
   "cell_type": "code",
   "execution_count": 18,
   "metadata": {},
   "outputs": [],
   "source": [
    "# help(smtplib.SMTP_SSL.login)"
   ]
  },
  {
   "cell_type": "code",
   "execution_count": 20,
   "metadata": {},
   "outputs": [],
   "source": [
    "# help(smtplib.SMTP_SSL.sendmail)"
   ]
  },
  {
   "cell_type": "markdown",
   "metadata": {},
   "source": [
    "* `smtp.login` ti umožní authentikaci pomocí jména a hesla uživatele,\n",
    "* `smtp.sendmail` odešle emailovou zprávu"
   ]
  },
  {
   "cell_type": "markdown",
   "metadata": {},
   "source": [
    "<br>\n",
    "\n",
    "<img src=\"https://external-content.duckduckgo.com/iu/?u=https%3A%2F%2Ftse1.mm.bing.net%2Fth%3Fid%3DOIP.XirtSvu4d9GF-JAuCRJIBgHaHa%26pid%3DApi&f=1\" width=\"220\">\n",
    "\n",
    "## Odeslání prostého emailu\n",
    "\n",
    "---"
   ]
  },
  {
   "cell_type": "markdown",
   "metadata": {},
   "source": [
    "Před odesláním budeš potřebovat vytvořit **vlastní emailovou schránku**.\n",
    "\n",
    "**Není doporučené**, provádět různé vývojařské činnosti, na tvém vlastním emailu, který běžně používáš.\n",
    "\n",
    "##### Pro Gmail (cesta největšího odporu):\n",
    "1. Přesuň se do nastavení tvého účetu,\n",
    "2. .. do sekce \"Zabezpečení\",\n",
    "3. .. vytvoř dvoufaktorové ověření,\n",
    "4. .. přejdi na stránku `https://myaccount.google.com/u/2/apppasswords`,\n",
    "5. .. vyber aplikaci a nastav `Jiné (vlastní název)`,\n",
    "6. .. zadej jméno a zkopíruj si přístupové heslo (tvoří ho 16 znaků)."
   ]
  },
  {
   "cell_type": "markdown",
   "metadata": {},
   "source": [
    "##### Demo: Odeslání prostého emailu na zadanou adresu"
   ]
  },
  {
   "cell_type": "markdown",
   "metadata": {},
   "source": [
    "<img src=\"https://external-content.duckduckgo.com/iu/?u=https%3A%2F%2Ftse2.mm.bing.net%2Fth%3Fid%3DOIP.f2DAFYvbLPWfoKS51xCHOQAAAA%26pid%3DApi&f=1\" width=\"200\">\n",
    "\n",
    "## Odeslání upraveného emailu\n",
    "\n",
    "---\n",
    "\n",
    "Pokud budeš potřebovat odesílat **defaultní zprávu**, která bude mít **specifické proměnné** (*mailing list*, nebo opakovaný mail s aktualizacemi), můžeš psát přímo **HTML obsah zprávy**.\n",
    "\n",
    "Nejjednodušší cestou je vyplnit HTML šablonu souboru:"
   ]
  },
  {
   "cell_type": "code",
   "execution_count": null,
   "metadata": {},
   "outputs": [],
   "source": [
    "<!DOCTYPE html>\n",
    "<html>\n",
    "<head>\n",
    "</head>\n",
    "<body>\n",
    "</body>\n",
    "</html>"
   ]
  },
  {
   "cell_type": "markdown",
   "metadata": {},
   "source": [
    "Představ si jednoduchou ukázku **s dvěma proměnnými**:"
   ]
  },
  {
   "cell_type": "code",
   "execution_count": null,
   "metadata": {},
   "outputs": [],
   "source": [
    "<!DOCTYPE html>\n",
    "<html>\n",
    "<head>\n",
    "</head>\n",
    "<body>\n",
    "    Ahoj $jmeno, posílám ti fakturu za měsíc $mesic.\n",
    "</body>\n",
    "</html>"
   ]
  },
  {
   "cell_type": "markdown",
   "metadata": {},
   "source": [
    "Pro zpracování takového HTML souboru budeš potřebovat:\n",
    "1. Najít a otevřít tento soubor,\n",
    "2. vhodně nahradit proměnné `jmeno` a `mesic`."
   ]
  },
  {
   "cell_type": "markdown",
   "metadata": {},
   "source": [
    "<br>\n",
    "\n",
    "<img src=\"https://external-content.duckduckgo.com/iu/?u=https%3A%2F%2Ftse3.mm.bing.net%2Fth%3Fid%3DOIP.5OGuDVPGxsox5V-ytKQzOAHaHa%26pid%3DApi&f=1\" width=\"230\">\n",
    "\n",
    "## Odeslání s přílohou\n",
    "\n",
    "---"
   ]
  },
  {
   "cell_type": "markdown",
   "metadata": {},
   "source": [
    "<br>\n",
    "\n",
    "<img src=\"https://external-content.duckduckgo.com/iu/?u=https%3A%2F%2Ftse2.mm.bing.net%2Fth%3Fid%3DOIP.hEp4Pj-xWZHPRWP8h4b_GAHaHa%26pid%3DApi&f=1\" width=\"250\">\n",
    "\n",
    "## Několik adresátů\n",
    "\n",
    "---"
   ]
  },
  {
   "cell_type": "markdown",
   "metadata": {},
   "source": [
    "\n",
    "<img src=\"https://external-content.duckduckgo.com/iu/?u=https%3A%2F%2Ftse1.mm.bing.net%2Fth%3Fid%3DOIP.GMJvJ-GG0YS8H5JmHR3CbwHaHm%26pid%3DApi&f=1\" width=\"200\">\n",
    "\n",
    "\n",
    "## Domácí úkol\n",
    "\n",
    "---\n",
    "\n",
    "\n",
    "to-do:\n",
    "1. Proč bych chtěl používat defaultní šablonu pro rozesílání,\n",
    "2. nachystání defaultní šablony pro email, pomocí knihovny `string` a `html`,\n",
    "3. rozeslání zpráv pro více uživatele,\n",
    "4. rozeslání emailů s přílohou,\n",
    "5. bezpečné údaje,\n",
    "5. Domácí úloha."
   ]
  },
  {
   "cell_type": "markdown",
   "metadata": {},
   "source": [
    "Pomocí libovolného scheduleru procházej libovolný soubor typu `.csv` a počítej průběžně počet jeho řádků."
   ]
  },
  {
   "cell_type": "markdown",
   "metadata": {},
   "source": [
    "---"
   ]
  }
 ],
 "metadata": {
  "kernelspec": {
   "display_name": "Python 3",
   "language": "python",
   "name": "python3"
  },
  "language_info": {
   "codemirror_mode": {
    "name": "ipython",
    "version": 3
   },
   "file_extension": ".py",
   "mimetype": "text/x-python",
   "name": "python",
   "nbconvert_exporter": "python",
   "pygments_lexer": "ipython3",
   "version": "3.8.6"
  }
 },
 "nbformat": 4,
 "nbformat_minor": 4
}
