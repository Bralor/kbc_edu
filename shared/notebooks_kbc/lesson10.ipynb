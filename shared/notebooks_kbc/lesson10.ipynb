{
 "cells": [
  {
   "cell_type": "markdown",
   "metadata": {},
   "source": [
    "### Úvod\n",
    "\n",
    "---\n",
    "\n",
    "1. [Úvod do Flasku](#Úvod-do-Flasku),\n",
    "2. [Instalace projektu](#Instalace-projektu),\n",
    "3. [První spuštění](#První-spuštění),\n",
    "5. [Dynamické routy](),\n",
    "6. [Debugování](),\n",
    "7. [Statické soubory]()."
   ]
  },
  {
   "cell_type": "markdown",
   "metadata": {},
   "source": [
    "<br>\n",
    "\n",
    "<img src=\"https://external-content.duckduckgo.com/iu/?u=https%3A%2F%2Ftse1.mm.bing.net%2Fth%3Fid%3DOIP.Lp10uZIQWwxti0EOqpQkjgAAAA%26pid%3DApi&f=1&ipt=f6e8f2f2c4793ede876027e7cd07ef47dd14a5bd21ca26e7d0d3cbcaf81bdcb1&ipo=images\" width=\"200\">\n",
    "\n",
    "\n",
    "## Úvod do Flasku\n",
    "\n",
    "---"
   ]
  },
  {
   "cell_type": "markdown",
   "metadata": {},
   "source": [
    "Představ si, že disponuješ daty, které potřebuješ **někde vystavit**.\n",
    "\n",
    "Pro svoje kolegy, kamarády, atd.\n",
    "\n",
    "Svoje data již efektivně *těžíš*, *validuješ*, *čístíš*.\n",
    "\n",
    "Teď je potřeba **demonstrovat** výsledek svojí práce.\n",
    "\n",
    "Pokud ti vylož"
   ]
  },
  {
   "cell_type": "markdown",
   "metadata": {},
   "source": [
    "### Co Flask nabízí\n",
    "\n",
    "**Flask** je tzv. *microframework*.\n",
    "\n",
    "Je to v podstatě *balíček*, který člověk použije, pokud potřebuje vytvořit vlastní **webovou aplikaci**.\n",
    "\n",
    "Jeho průhledná a nekomplexní struktura nenabízí tolik prvků jako jiné větší webové frameworky.\n",
    "\n",
    "Jeho rozhraní se skládá ze tří hlavních dílů:\n",
    "1. `Werkzeug`, routování, redirektování, debuggování a další utilitky z *WSGI* (*web server gateway interface*),\n",
    "2. `jinja2`, poskytuje podporu pro templaty projektu (konfigurace, glob. proměnné, práce s cestami),\n",
    "3. `click`, nabízí jednoduchou a přehlednou dekoraci funkcí, option a argumentů v *CLI*."
   ]
  },
  {
   "cell_type": "markdown",
   "metadata": {},
   "source": [
    "### Co Flask nenabízí\n",
    "\n",
    "Jako takový, Flask **sám nenabízí**:\n",
    "1. podporu pro dotazování databázových systémů,\n",
    "2. validaci formulářů,\n",
    "3. ověřování uživatelů,\n",
    "4. další vysoko-úrovňové úkoly.\n",
    "\n",
    "Nicméně, tyto úkoly, které jiné služby běžně poskytují, je možné doplnit **pomocí Flaskových rozšíření**.\n",
    "\n",
    "Stal se totiž u komunity tak oblíbený, že pro něj existuje velké množství rozšíření a doplňků (*extensions*) typu:\n",
    "* `Flask-sqlalchemy`,\n",
    "* `Flask-WTF`,\n",
    "* `Flask-Login`,\n",
    "* `Flask-Debugtoolbar`."
   ]
  },
  {
   "cell_type": "markdown",
   "metadata": {},
   "source": [
    "<br>\n",
    "\n",
    "<img src=\"https://external-content.duckduckgo.com/iu/?u=https%3A%2F%2Ftse1.mm.bing.net%2Fth%3Fid%3DOIP.X8vq1QzxWiGmRggmqN9NIAHaHa%26pid%3DApi&f=1&ipt=f15694b72821feedf546bd9ba38f21cb7f6ca332684c5f433114ed05a3e304c9&ipo=images\" width=\"200\">\n",
    "\n",
    "## Instalace projektu\n",
    "\n",
    "---"
   ]
  },
  {
   "cell_type": "markdown",
   "metadata": {},
   "source": [
    "Než se oficiálně pustíš do práce s mikroframeworkem **Flask**, musíš jej **stáhnout a nainstalovat**."
   ]
  },
  {
   "cell_type": "markdown",
   "metadata": {},
   "source": [
    "### Vytvoř nový projekt"
   ]
  },
  {
   "cell_type": "markdown",
   "metadata": {},
   "source": [
    "Nejprve si tedy nachystej **nové virtuální prostředí**, pro nový projekt:\n",
    "\n",
    "**MacOS/Linux**:\n",
    "```\n",
    "$ mkdir muj_projekt && cd muj_projekt\n",
    "$ python3 -m venv env\n",
    "```\n",
    "\n",
    "**Windows**:\n",
    "```\n",
    "> mkdir myproject\n",
    "> cd myproject\n",
    "> py -3 -m venv env\n",
    "```\n",
    "\n",
    "<br>\n",
    "\n",
    "Následně nově nachystané prostředí **aktivuj**:\n",
    "\n",
    "**MacOS/Linux**:\n",
    "```\n",
    "$ source env/bin/activate\n",
    "```\n",
    "\n",
    "**Windows**:\n",
    "```\n",
    "> env\\Scripts\\activate\n",
    "```"
   ]
  },
  {
   "cell_type": "markdown",
   "metadata": {},
   "source": [
    "### Najdi, stáhni, instaluj"
   ]
  },
  {
   "cell_type": "markdown",
   "metadata": {},
   "source": [
    "Po aktivaci *virtuálního prostředí*, můžeš začít stahovat a následně instalovat.\n",
    "\n",
    "Pro instalování *frameworku* pomocí manažeru **pip**:\n",
    "```\n",
    "pip install Flask\n",
    "```"
   ]
  },
  {
   "cell_type": "markdown",
   "metadata": {},
   "source": [
    "<br>\n",
    "\n",
    "<img src=\"https://external-content.duckduckgo.com/iu/?u=https%3A%2F%2Ftse1.mm.bing.net%2Fth%3Fid%3DOIP.5TH7jPyHY4wP566gVpeH1AHaHq%26pid%3DApi&f=1&ipt=ffbdee5f80cb55c0bb21e6946f1505460b28f126fb09650b1fb027d7c538be3d&ipo=images\" width=\"220\">\n",
    "\n",
    "## První spuštění, minimální aplikace\n",
    "\n",
    "---"
   ]
  },
  {
   "cell_type": "markdown",
   "metadata": {},
   "source": [
    "Jde úplně o nejjednodušší variantu ke spuštění.\n",
    "\n",
    "Zde je vidět jednoduchost nastavení a spuštění"
   ]
  },
  {
   "cell_type": "code",
   "execution_count": null,
   "metadata": {},
   "outputs": [],
   "source": [
    "from flask import Flask\n",
    "\n",
    "app = Flask(__name__)\n",
    "\n",
    "@app.route(\"/\")\n",
    "def zobraz_pozdrav():\n",
    "    return \"<p>Ahoj, z desáté lekce!</p>\" "
   ]
  },
  {
   "cell_type": "markdown",
   "metadata": {},
   "source": [
    "Jednotlivé řádku v tomto modulu znamenají následující:"
   ]
  },
  {
   "cell_type": "markdown",
   "metadata": {},
   "source": [
    "1. Nejprve nahraješ *objekt* `Flask` a podle jeho vzoru nachystáš pro tebe specifickou **WSGI aplikaci**,\n",
    "2. jméno `app` je jméno tvojí *instance*, která bude na web odkazovat,\n",
    "3. *argument* `__name__` pojmenuje tvoji aplikaci **podle jména souboru**,\n",
    "4. *dekorátor* `@app.route` říká, že funkci vykreslí na cestě `localhost:5000`, bez specifikátoru,\n",
    "5. funkce `zobraz_pozdrav` vrací pouze HTML element `<p>` se stringem `Ahoj, z desáté lekce!`,"
   ]
  },
  {
   "cell_type": "markdown",
   "metadata": {},
   "source": [
    "### Spuštění\n",
    "\n",
    "Tvůj spouštěcí modul si můžeš pojmenovat jak potřebuješ. Obvykle `app.py`.\n",
    "\n",
    "Jedinné jméno, kterému se chceš vyhnout je `flask.py`, protože takové jméno souboru by tě stavilo do konfliktu s vlastním jménem frameworku."
   ]
  },
  {
   "cell_type": "markdown",
   "metadata": {},
   "source": [
    "Pokud si pojmenuješ soubor `app.py`, interpret je sám vyhledá:\n",
    "```\n",
    "python -m flask run\n",
    "```\n",
    "\n",
    "<br>\n",
    "\n",
    "Pokud potřebuješ jiné jméno, stačí příkaz doplnit:\n",
    "```\n",
    "python -m flask -A <tvuj_soubor> run\n",
    "```\n",
    "...nebo:\n",
    "```\n",
    "python -m flask --app <tvuj_soubor> run\n",
    "```"
   ]
  },
  {
   "cell_type": "markdown",
   "metadata": {},
   "source": [
    "### Výstup\n",
    "\n",
    "Následně může vidět podobný výstup (podle verze *frameworku*):\n",
    "```\n",
    " * Serving Flask app 'app.py'\n",
    " * Debug mode: off\n",
    "WARNING: This is a development server. Do not use it in a production deployment. Use a production WSGI server instead.\n",
    " * Running on http://127.0.0.1:5000\n",
    "Press CTRL+C to quit\n",
    "```"
   ]
  },
  {
   "cell_type": "markdown",
   "metadata": {},
   "source": [
    "### Číslo portu"
   ]
  },
  {
   "cell_type": "markdown",
   "metadata": {},
   "source": [
    "Pokud dostaneš výjimku `OSError: [Errno 98]` nebo `OSError: [WinError 10013]` znamená to, že zvoleném portu již něco běží.\n",
    "\n",
    "Proto je potřeba **zvolit jiný port ručně**:\n",
    "```\n",
    "python3 -m flask run -p 8000\n",
    "```\n",
    "\n",
    "Přepínač `-p` ti umožní vyber jiné číslo portu.\n",
    "\n",
    "Opatrně, **nelze přepsat číslo portu** v rámci tvého souboru jako:\n",
    "```python\n",
    "from flask import Flask\n",
    "\n",
    "app = Flask(__name__)\n",
    "\n",
    "\n",
    "@app.route(\"/\")\n",
    "def zobraz_pozdrav():\n",
    "    return \"<p>Ahoj, z desáté lekce!</p>\"\n",
    "\n",
    "\n",
    "if __name__ == '__main__':\n",
    "    app.run(port=3000)\n",
    "```"
   ]
  },
  {
   "cell_type": "markdown",
   "metadata": {},
   "source": [
    "Příkaz `python -m flask` nevidí funkci `app.flask.run`.\n",
    "\n",
    "Nevidí aplikaci ani její konfiguraci."
   ]
  },
  {
   "cell_type": "markdown",
   "metadata": {},
   "source": [
    "### Debug režim"
   ]
  },
  {
   "cell_type": "markdown",
   "metadata": {},
   "source": [
    "V rámci hledání chyb a stopování problémů můžeš přidat dalším argumentem:\n",
    "```\n",
    "python3 -m flask run -p 8000 --debug\n",
    "```"
   ]
  },
  {
   "cell_type": "markdown",
   "metadata": {},
   "source": [
    "##### Demo: Debug režim"
   ]
  },
  {
   "cell_type": "markdown",
   "metadata": {},
   "source": [
    "<img src=\"https://external-content.duckduckgo.com/iu/?u=https%3A%2F%2Ftse1.mm.bing.net%2Fth%3Fid%3DOIP.pCng-t3XzMuvtWVHCk5--wHaHa%26pid%3DApi&f=1&ipt=3bed073fec987022e1a9b0ae6d3d87ad294bf4b5f27aa9842084f1e5b8cf126f&ipo=images\" width=\"300\">\n",
    "\n",
    "## Templaty\n",
    "\n",
    "---"
   ]
  },
  {
   "cell_type": "markdown",
   "metadata": {},
   "source": [
    "Při další práci s tvojí aplikaci ve *Flasku*, můžeš chtít doplnit **další stránku**:"
   ]
  },
  {
   "cell_type": "markdown",
   "metadata": {},
   "source": [
    "```python\n",
    "from flask import Flask\n",
    "\n",
    "app = Flask(__name__)\n",
    "\n",
    "\n",
    "@app.route(\"/\")\n",
    "def root():\n",
    "    return \"<p>Ahoj, z desáté lekce!</p>\"\n",
    "\n",
    "\n",
    "@app.route(\"/clanky\")\n",
    "def clanky():\n",
    "    return \"<p>Aktuální články:</p>\"\n",
    "```"
   ]
  },
  {
   "cell_type": "markdown",
   "metadata": {},
   "source": [
    "Ovšem zpracovávat všechen **HTML** obsah v rámci zdrojového kódu je přítěž.\n",
    "\n",
    "Jak na vyhledávání, tak **na pozdější duplicity**."
   ]
  },
  {
   "cell_type": "markdown",
   "metadata": {},
   "source": [
    "První změna, kterou budeš chtít vylepšit zápis, je použit funkci  `render_template`:\n",
    "```python\n",
    "from flask import Flask, render_template\n",
    "\n",
    "app = Flask(__name__)\n",
    "\n",
    "\n",
    "@app.route(\"/\")\n",
    "def root():\n",
    "    return render_template(\"index.html\")\n",
    "\n",
    "\n",
    "@app.route(\"/clanky\")\n",
    "def topics():\n",
    "    return render_template(\"topics.html\")\n",
    "\n",
    "```"
   ]
  },
  {
   "cell_type": "markdown",
   "metadata": {},
   "source": [
    "Tato funkce dovolí knihovně `Jinja2` manipulovat se zdrojovými **HTML** soubory.\n",
    "\n",
    "Tím pádem můžeš pro každou cestu tvé aplikace oddělit nový zdrojový soubor.\n",
    "\n",
    "Finálně potom tvůj kód zůstane stručnější, přehlednější a každou stránku budeš **upravovat zvlášť**."
   ]
  },
  {
   "cell_type": "markdown",
   "metadata": {},
   "source": [
    "Projekt se potom mírně rozšíří do takovéto podoby:\n",
    "```\n",
    "muj_flask_projekt/\n",
    "   ├─app.py/\n",
    "   └─templates/\n",
    "       ├─index.html\n",
    "       └─topics.html\n",
    "\n",
    "```"
   ]
  },
  {
   "cell_type": "markdown",
   "metadata": {},
   "source": [
    "**Templates** je tedy skutečně jenom adresář, který nese soubory pro tvoji webovou aplikaci.\n",
    "\n",
    "Pomocí funkce `render_template` vezme zdrojové HTML nebo snippet (útržek HTMLka) a pomocí Pythonních kódu jej:\n",
    "1. najde,\n",
    "2. interpretuje,\n",
    "3. prezentuje uživateli."
   ]
  },
  {
   "cell_type": "markdown",
   "metadata": {},
   "source": [
    "##### Demo: ukázka pro dvě stránky jako HTML soubory"
   ]
  },
  {
   "cell_type": "markdown",
   "metadata": {},
   "source": [
    "<img src=\"https://external-content.duckduckgo.com/iu/?u=https%3A%2F%2Ftse1.mm.bing.net%2Fth%3Fid%3DOIP.RoeMI-KfCKllxZmaqI1rjQHaHa%26pid%3DApi&f=1&ipt=a00c10c36f34cbb15514178b2fac678b35edb7da96dc564661510b3f44d4a3cc&ipo=images\" width=\"250\">\n",
    "\n",
    "## Templatovací kód\n",
    "\n",
    "---"
   ]
  },
  {
   "cell_type": "markdown",
   "metadata": {},
   "source": [
    "Pokud ti vzhled webových stránek není úplně cizí, občas si všimneš opakujících se prvků.\n",
    "\n",
    "Různé záhlaví, zápatí, navigační pole aj.\n",
    "\n",
    "Pokud však musíš upravit každý `html` soubor, když budeš chtít takový prvek přidat, je to dost práce.\n",
    "\n",
    "Naštěstí tzv. *templatovací kód*, který máš díky knihovně `Jinja2` k dispozici:"
   ]
  },
  {
   "cell_type": "markdown",
   "metadata": {},
   "source": [
    "Díky tomu si **můžeš předpřipravit šablonu**, kterou můžeš následně použít, kde potřebuješ:\n",
    "```html\n",
    "<!-- sablona / layout -->\n",
    "<!doctype html>\n",
    "<html>\n",
    " <head>\n",
    "   <title>Flask projekt - {{ jmeno_stranky }}</title>\n",
    " </head>\n",
    " <body>\n",
    "   {% include 'nav.html' %}\n",
    "   {% block content %}{% endblock %}\n",
    " </body>\n",
    "</html>\n",
    "```"
   ]
  },
  {
   "cell_type": "markdown",
   "metadata": {},
   "source": [
    "Cokoliv bude mít kolem sebe **složené závorky** naznačuje, že jde o `Jinja2` formát.\n",
    "\n",
    "* `{{ autor }}`, bude představovat autora aplikace,\n",
    "* `{% include 'nav.html' %}`, bude pozice pro navigační pole,\n",
    "* `{% block content %}`, bude poskytovat prostor pro konkrétní stránku."
   ]
  },
  {
   "cell_type": "markdown",
   "metadata": {},
   "source": [
    "Například pro naší původní domácí stránku (`/`):\n",
    "```html\n",
    " <body>\n",
    "   {% include 'nav.html' %}\n",
    "\n",
    "   {% block content %}\n",
    "\n",
    "   <h1>Ahoj, z desáté lekce!</h1>\n",
    "\n",
    "   {% endblock %}\n",
    "\n",
    " </body>\n",
    "```"
   ]
  },
  {
   "cell_type": "markdown",
   "metadata": {},
   "source": [
    "### Přidej šablonu"
   ]
  },
  {
   "cell_type": "markdown",
   "metadata": {},
   "source": [
    "Teď, když máš šablonu nachystanou, můžeš rozšířit obsah `html` souboru `index.html`.\n",
    "\n",
    "Tento soubor vykresluješ na *rootu* tvojí aplikace:\n",
    "```html\n",
    "<!-- index.html -->\n",
    "{% extends 'sablona.html' %}\n",
    "{% block content %}\n",
    "\n",
    "<h1>Ahoj, z desáté lekce!</h1>\n",
    "\n",
    "{% endblock %}\n",
    "```"
   ]
  },
  {
   "cell_type": "markdown",
   "metadata": {},
   "source": [
    "Stejně tak můžeš rozšířit soubor `topics.html`:\n",
    "```html\n",
    "<!-- topics.htm -->\n",
    "{% extends 'sablona.html' %}\n",
    "{% block content %}\n",
    "\n",
    "<h1>Aktuální články:</h1>\n",
    "\n",
    "{% endblock %}\n",
    "```"
   ]
  },
  {
   "cell_type": "markdown",
   "metadata": {},
   "source": [
    "Použité `Jinja2` prvky:\n",
    "* `{% %}`, symboly procenta zabalují příkazy pro Jinja2 (docela podobné syntaxi Pythonu),\n",
    "* `{{ }}`, symboly zdvojených závorek obalují proměnné, jejichž hodnotu můžeš pomocí interpreta předat,\n",
    "* `{# #}`, symboly mřížek slouží jako komentáře určené pro vývojářské účely (end-user nevidí)."
   ]
  },
  {
   "cell_type": "markdown",
   "metadata": {},
   "source": [
    "### Jméno stránky pomocí Jinja proměnné"
   ]
  },
  {
   "cell_type": "markdown",
   "metadata": {},
   "source": [
    "Nakonec ještě můžeš přidat **jméno stránky**, které bude viditelné ve zdrojovém kódu stránky.\n",
    "\n",
    "Toto jméno zadáš pomocí `Jinja2` proměnné, kterou máš nachystanou v souboru `sablona.html`:\n",
    "```python\n",
    "from flask import Flask, render_template\n",
    "\n",
    "app = Flask(__name__)\n",
    "\n",
    "\n",
    "@app.route(\"/\")\n",
    "def root():\n",
    "    return render_template(\"index.html\", jmeno_stranky=\"DOMU\")\n",
    "\n",
    "\n",
    "@app.route(\"/clanky\")\n",
    "def topics():\n",
    "    return render_template(\"topics.html\", jmeno_stranky=\"CLANKY\")\n",
    "```"
   ]
  },
  {
   "cell_type": "markdown",
   "metadata": {},
   "source": [
    "##### Demo: ukázka pro formátované HTML soubory"
   ]
  },
  {
   "cell_type": "markdown",
   "metadata": {},
   "source": [
    "<img src=\"https://external-content.duckduckgo.com/iu/?u=https%3A%2F%2Ftse4.mm.bing.net%2Fth%3Fid%3DOIP.JdJ3TBzYKdLXPJTIz4vUkQHaHa%26pid%3DApi&f=1&ipt=7cd011b3ac7c921650c9bc7d2419a5dd095dbaa9311e1f3573771439d50603b3&ipo=images\" width=\"250\">\n",
    "\n",
    "## Data, data, data\n",
    "\n",
    "---"
   ]
  },
  {
   "cell_type": "code",
   "execution_count": null,
   "metadata": {},
   "outputs": [],
   "source": []
  },
  {
   "cell_type": "markdown",
   "metadata": {},
   "source": [
    "##### Demo: Odeslání modifikovatelného emailu na zadanou adresu"
   ]
  },
  {
   "cell_type": "markdown",
   "metadata": {},
   "source": [
    "<br>\n",
    "\n",
    "<img src=\"https://external-content.duckduckgo.com/iu/?u=https%3A%2F%2Ftse3.mm.bing.net%2Fth%3Fid%3DOIP.5OGuDVPGxsox5V-ytKQzOAHaHa%26pid%3DApi&f=1\" width=\"230\">\n",
    "\n",
    "## Odeslání s přílohou\n",
    "\n",
    "---"
   ]
  },
  {
   "cell_type": "markdown",
   "metadata": {},
   "source": [
    "##### Demo: Odeslání emailu s přílohou"
   ]
  },
  {
   "cell_type": "markdown",
   "metadata": {},
   "source": [
    "<br>\n",
    "\n",
    "<img src=\"https://external-content.duckduckgo.com/iu/?u=https%3A%2F%2Ftse2.mm.bing.net%2Fth%3Fid%3DOIP.hEp4Pj-xWZHPRWP8h4b_GAHaHa%26pid%3DApi&f=1\" width=\"250\">\n",
    "\n",
    "## Několik adresátů\n",
    "\n",
    "---"
   ]
  },
  {
   "cell_type": "markdown",
   "metadata": {},
   "source": [
    "---"
   ]
  }
 ],
 "metadata": {
  "kernelspec": {
   "display_name": "Python 3",
   "language": "python",
   "name": "python3"
  },
  "language_info": {
   "codemirror_mode": {
    "name": "ipython",
    "version": 3
   },
   "file_extension": ".py",
   "mimetype": "text/x-python",
   "name": "python",
   "nbconvert_exporter": "python",
   "pygments_lexer": "ipython3",
   "version": "3.8.6"
  }
 },
 "nbformat": 4,
 "nbformat_minor": 4
}
