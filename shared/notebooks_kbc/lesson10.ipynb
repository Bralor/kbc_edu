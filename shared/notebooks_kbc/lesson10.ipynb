{
 "cells": [
  {
   "cell_type": "markdown",
   "metadata": {},
   "source": [
    "### Úvod\n",
    "\n",
    "---\n",
    "\n",
    "1. [Úvod do Flasku](#Úvod-do-Flasku),\n",
    "2. [Instalace projektu](#Instalace-projektu),\n",
    "3. [První spuštění](#První-spuštění),\n",
    "5. [Dynamické routy](),\n",
    "6. [Debugování](),\n",
    "7. [Statické soubory]()."
   ]
  },
  {
   "cell_type": "markdown",
   "metadata": {},
   "source": [
    "<br>\n",
    "\n",
    "<img src=\"https://external-content.duckduckgo.com/iu/?u=https%3A%2F%2Ftse1.mm.bing.net%2Fth%3Fid%3DOIP.Lp10uZIQWwxti0EOqpQkjgAAAA%26pid%3DApi&f=1&ipt=f6e8f2f2c4793ede876027e7cd07ef47dd14a5bd21ca26e7d0d3cbcaf81bdcb1&ipo=images\" width=\"200\">\n",
    "\n",
    "\n",
    "## Úvod do Flasku\n",
    "\n",
    "---"
   ]
  },
  {
   "cell_type": "markdown",
   "metadata": {},
   "source": [
    "Představ si, že disponuješ daty, které potřebuješ **někde vystavit**.\n",
    "\n",
    "Pro svoje kolegy, kamarády, atd.\n",
    "\n",
    "Svoje data již efektivně *těžíš*, *validuješ*, *čístíš*.\n",
    "\n",
    "Teď je potřeba **demonstrovat** výsledek svojí práce.\n",
    "\n",
    "Pokud ti vylož"
   ]
  },
  {
   "cell_type": "markdown",
   "metadata": {},
   "source": [
    "### Co Flask nabízí\n",
    "\n",
    "**Flask** je tzv. *microframework*.\n",
    "\n",
    "Je to v podstatě *balíček*, který člověk použije, pokud potřebuje vytvořit vlastní **webovou aplikaci**.\n",
    "\n",
    "Jeho průhledná a nekomplexní struktura nenabízí tolik prvků jako jiné větší webové frameworky.\n",
    "\n",
    "Jeho rozhraní se skládá ze tří hlavních dílů:\n",
    "1. `Werkzeug`, routování, redirektování, debuggování a další utilitky z *WSGI* (*web server gateway interface*),\n",
    "2. `jinja2`, poskytuje podporu pro templaty projektu (konfigurace, glob. proměnné, práce s cestami),\n",
    "3. `click`, nabízí jednoduchou a přehlednou dekoraci funkcí, option a argumentů v *CLI*."
   ]
  },
  {
   "cell_type": "markdown",
   "metadata": {},
   "source": [
    "### Co Flask nenabízí\n",
    "\n",
    "Jako takový, Flask **sám nenabízí**:\n",
    "1. podporu pro dotazování databázových systémů,\n",
    "2. validaci formulářů,\n",
    "3. ověřování uživatelů,\n",
    "4. další vysoko-úrovňové úkoly.\n",
    "\n",
    "Nicméně, tyto úkoly, které jiné služby běžně poskytují, je možné doplnit **pomocí Flaskových rozšíření**.\n",
    "\n",
    "Stal se totiž u komunity tak oblíbený, že pro něj existuje velké množství rozšíření a doplňků (*extensions*) typu:\n",
    "* `Flask-sqlalchemy`,\n",
    "* `Flask-WTF`,\n",
    "* `Flask-Login`,\n",
    "* `Flask-Debugtoolbar`."
   ]
  },
  {
   "cell_type": "markdown",
   "metadata": {},
   "source": [
    "<br>\n",
    "\n",
    "<img src=\"https://external-content.duckduckgo.com/iu/?u=https%3A%2F%2Ftse1.mm.bing.net%2Fth%3Fid%3DOIP.X8vq1QzxWiGmRggmqN9NIAHaHa%26pid%3DApi&f=1&ipt=f15694b72821feedf546bd9ba38f21cb7f6ca332684c5f433114ed05a3e304c9&ipo=images\" width=\"200\">\n",
    "\n",
    "## Instalace projektu\n",
    "\n",
    "---"
   ]
  },
  {
   "cell_type": "markdown",
   "metadata": {},
   "source": [
    "Než se oficiálně pustíš do práce s mikroframeworkem **Flask**, musíš jej **stáhnout a nainstalovat**."
   ]
  },
  {
   "cell_type": "markdown",
   "metadata": {},
   "source": [
    "### Vytvoř nový projekt"
   ]
  },
  {
   "cell_type": "markdown",
   "metadata": {},
   "source": [
    "Nejprve si tedy nachystej **nové virtuální prostředí**, pro nový projekt:\n",
    "\n",
    "**MacOS/Linux**:\n",
    "```\n",
    "$ mkdir muj_projekt && cd muj_projekt\n",
    "$ python3 -m venv env\n",
    "```\n",
    "\n",
    "**Windows**:\n",
    "```\n",
    "> mkdir myproject\n",
    "> cd myproject\n",
    "> py -3 -m venv env\n",
    "```\n",
    "\n",
    "<br>\n",
    "\n",
    "Následně nově nachystané prostředí **aktivuj**:\n",
    "\n",
    "**MacOS/Linux**:\n",
    "```\n",
    "$ source env/bin/activate\n",
    "```\n",
    "\n",
    "**Windows**:\n",
    "```\n",
    "> env\\Scripts\\activate\n",
    "```"
   ]
  },
  {
   "cell_type": "markdown",
   "metadata": {},
   "source": [
    "### Najdi, stáhni, instaluj"
   ]
  },
  {
   "cell_type": "markdown",
   "metadata": {},
   "source": [
    "Po aktivaci *virtuálního prostředí*, můžeš začít stahovat a následně instalovat.\n",
    "\n",
    "Pro instalování *frameworku* pomocí manažeru **pip**:\n",
    "```\n",
    "pip install Flask\n",
    "```"
   ]
  },
  {
   "cell_type": "markdown",
   "metadata": {},
   "source": [
    "<br>\n",
    "\n",
    "<img src=\"https://external-content.duckduckgo.com/iu/?u=https%3A%2F%2Ftse1.mm.bing.net%2Fth%3Fid%3DOIP.5TH7jPyHY4wP566gVpeH1AHaHq%26pid%3DApi&f=1&ipt=ffbdee5f80cb55c0bb21e6946f1505460b28f126fb09650b1fb027d7c538be3d&ipo=images\" width=\"220\">\n",
    "\n",
    "## První spuštění\n",
    "\n",
    "---"
   ]
  },
  {
   "cell_type": "markdown",
   "metadata": {},
   "source": [
    "<img src=\"https://external-content.duckduckgo.com/iu/?u=https%3A%2F%2Ftse2.mm.bing.net%2Fth%3Fid%3DOIP.f2DAFYvbLPWfoKS51xCHOQAAAA%26pid%3DApi&f=1\" width=\"200\">\n",
    "\n",
    "## Odeslání upraveného emailu\n",
    "\n",
    "---"
   ]
  },
  {
   "cell_type": "markdown",
   "metadata": {},
   "source": [
    "##### Demo: Odeslání modifikovatelného emailu na zadanou adresu"
   ]
  },
  {
   "cell_type": "markdown",
   "metadata": {},
   "source": [
    "<br>\n",
    "\n",
    "<img src=\"https://external-content.duckduckgo.com/iu/?u=https%3A%2F%2Ftse3.mm.bing.net%2Fth%3Fid%3DOIP.5OGuDVPGxsox5V-ytKQzOAHaHa%26pid%3DApi&f=1\" width=\"230\">\n",
    "\n",
    "## Odeslání s přílohou\n",
    "\n",
    "---"
   ]
  },
  {
   "cell_type": "markdown",
   "metadata": {},
   "source": [
    "##### Demo: Odeslání emailu s přílohou"
   ]
  },
  {
   "cell_type": "markdown",
   "metadata": {},
   "source": [
    "<br>\n",
    "\n",
    "<img src=\"https://external-content.duckduckgo.com/iu/?u=https%3A%2F%2Ftse2.mm.bing.net%2Fth%3Fid%3DOIP.hEp4Pj-xWZHPRWP8h4b_GAHaHa%26pid%3DApi&f=1\" width=\"250\">\n",
    "\n",
    "## Několik adresátů\n",
    "\n",
    "---"
   ]
  },
  {
   "cell_type": "markdown",
   "metadata": {},
   "source": [
    "---"
   ]
  }
 ],
 "metadata": {
  "kernelspec": {
   "display_name": "Python 3",
   "language": "python",
   "name": "python3"
  },
  "language_info": {
   "codemirror_mode": {
    "name": "ipython",
    "version": 3
   },
   "file_extension": ".py",
   "mimetype": "text/x-python",
   "name": "python",
   "nbconvert_exporter": "python",
   "pygments_lexer": "ipython3",
   "version": "3.8.6"
  }
 },
 "nbformat": 4,
 "nbformat_minor": 4
}
