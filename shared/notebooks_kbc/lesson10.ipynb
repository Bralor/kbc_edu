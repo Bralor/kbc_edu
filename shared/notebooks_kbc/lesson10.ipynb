{
 "cells": [
  {
   "cell_type": "markdown",
   "metadata": {},
   "source": [
    "### Úvod\n",
    "\n",
    "---\n",
    "\n",
    "1. [Úvod do Flasku](#Úvod-do-Flasku),\n",
    "2. [Instalace projektu](#Instalace-projektu),\n",
    "3. [První spuštění](#První-spuštění),\n",
    "5. [Dynamické routy](),\n",
    "6. [Debugování](),\n",
    "7. [Statické soubory]()."
   ]
  },
  {
   "cell_type": "markdown",
   "metadata": {},
   "source": [
    "<br>\n",
    "\n",
    "<img src=\"https://external-content.duckduckgo.com/iu/?u=https%3A%2F%2Ftse1.mm.bing.net%2Fth%3Fid%3DOIP.Lp10uZIQWwxti0EOqpQkjgAAAA%26pid%3DApi&f=1&ipt=f6e8f2f2c4793ede876027e7cd07ef47dd14a5bd21ca26e7d0d3cbcaf81bdcb1&ipo=images\" width=\"200\">\n",
    "\n",
    "\n",
    "## Úvod do Flasku\n",
    "\n",
    "---"
   ]
  },
  {
   "cell_type": "markdown",
   "metadata": {},
   "source": [
    "Představ si, že disponuješ daty, které potřebuješ **někde vystavit**.\n",
    "\n",
    "Pro svoje kolegy, kamarády, atd.\n",
    "\n",
    "Svoje data již efektivně *těžíš*, *validuješ*, *čístíš*.\n",
    "\n",
    "Teď je potřeba **demonstrovat** výsledek svojí práce.\n",
    "\n",
    "**Webových frameworků** je určitě spousta. Možná občas slyšíš jména *Django*, *Flask* a *FastApi*.\n",
    "\n",
    "Rozhodně jde o skvělé knihovny, ale většina z nich má problém.\n",
    "\n",
    "Nabízí toho totiž víc, než často doopravdy (na začátek) potřebuješ.\n",
    "\n",
    "Takový problém ovšem *frameworkem* **Flask** nemá."
   ]
  },
  {
   "cell_type": "markdown",
   "metadata": {},
   "source": [
    "### Co je Flask\n",
    "\n",
    "**Flask** je tzv. *microframework*.\n",
    "\n",
    "Je to v podstatě *balíček*, který člověk použije, pokud potřebuje vytvořit vlastní **webovou aplikaci**.\n",
    "\n",
    "Jeho průhledná a nekomplexní struktura nenabízí tolik prvků jako jiné větší webové frameworky.\n",
    "\n",
    "Jeho rozhraní se skládá ze tří hlavních dílů:\n",
    "1. `Werkzeug`, routování, redirektování, debuggování a další utilitky z *WSGI* (*web server gateway interface*),\n",
    "2. `jinja2`, poskytuje podporu pro templaty projektu (konfigurace, glob. proměnné, práce s cestami),\n",
    "3. `click`, nabízí jednoduchou a přehlednou dekoraci funkcí, option a argumentů v *CLI*."
   ]
  },
  {
   "cell_type": "markdown",
   "metadata": {},
   "source": [
    "### Co není Flask\n",
    "\n",
    "Jako takový, Flask **sám nenabízí**:\n",
    "1. podporu pro dotazování **databázových systémů**,\n",
    "2. **validaci formulářů**,\n",
    "3. **ověřování** uživatelů,\n",
    "4. další *vysoko-úrovňové* úkoly.\n",
    "\n",
    "Nicméně, tyto úkoly, které jiné služby běžně poskytují, je možné doplnit **pomocí Flaskových rozšíření**.\n",
    "\n",
    "Stal se totiž u komunity tak oblíbený, že pro něj existuje velké množství rozšíření a doplňků (*extensions*) typu:\n",
    "* `Flask-sqlalchemy`,\n",
    "* `Flask-WTF`,\n",
    "* `Flask-Login`,\n",
    "* `Flask-Debugtoolbar`."
   ]
  },
  {
   "cell_type": "markdown",
   "metadata": {},
   "source": [
    "<br>\n",
    "\n",
    "<img src=\"https://external-content.duckduckgo.com/iu/?u=https%3A%2F%2Ftse1.mm.bing.net%2Fth%3Fid%3DOIP.X8vq1QzxWiGmRggmqN9NIAHaHa%26pid%3DApi&f=1&ipt=f15694b72821feedf546bd9ba38f21cb7f6ca332684c5f433114ed05a3e304c9&ipo=images\" width=\"200\">\n",
    "\n",
    "## Instalace projektu\n",
    "\n",
    "---"
   ]
  },
  {
   "cell_type": "markdown",
   "metadata": {},
   "source": [
    "Než se oficiálně pustíš do práce s mikroframeworkem **Flask**, musíš jej **stáhnout a nainstalovat**."
   ]
  },
  {
   "cell_type": "markdown",
   "metadata": {},
   "source": [
    "### Vytvoř nový projekt"
   ]
  },
  {
   "cell_type": "markdown",
   "metadata": {},
   "source": [
    "Nejprve si tedy nachystej **nové virtuální prostředí**, pro nový projekt:\n",
    "\n",
    "**MacOS/Linux**:\n",
    "```\n",
    "$ mkdir muj_projekt && cd muj_projekt\n",
    "$ python3 -m venv env\n",
    "```\n",
    "\n",
    "**Windows**:\n",
    "```\n",
    "> mkdir myproject\n",
    "> cd myproject\n",
    "> py -3 -m venv env\n",
    "```\n",
    "\n",
    "<br>\n",
    "\n",
    "Následně nově nachystané prostředí **aktivuj**:\n",
    "\n",
    "**MacOS/Linux**:\n",
    "```\n",
    "$ source env/bin/activate\n",
    "```\n",
    "\n",
    "**Windows**:\n",
    "```\n",
    "> env\\Scripts\\activate\n",
    "```"
   ]
  },
  {
   "cell_type": "markdown",
   "metadata": {},
   "source": [
    "### Najdi, stáhni, instaluj"
   ]
  },
  {
   "cell_type": "markdown",
   "metadata": {},
   "source": [
    "Po aktivaci *virtuálního prostředí*, můžeš začít stahovat a následně instalovat.\n",
    "\n",
    "Pro instalování *frameworku* pomocí manažeru **pip**:\n",
    "```\n",
    "pip install Flask\n",
    "```"
   ]
  },
  {
   "cell_type": "markdown",
   "metadata": {},
   "source": [
    "<br>\n",
    "\n",
    "<img src=\"https://external-content.duckduckgo.com/iu/?u=https%3A%2F%2Ftse1.mm.bing.net%2Fth%3Fid%3DOIP.5TH7jPyHY4wP566gVpeH1AHaHq%26pid%3DApi&f=1&ipt=ffbdee5f80cb55c0bb21e6946f1505460b28f126fb09650b1fb027d7c538be3d&ipo=images\" width=\"220\">\n",
    "\n",
    "## První spuštění, minimální aplikace\n",
    "\n",
    "---"
   ]
  },
  {
   "cell_type": "markdown",
   "metadata": {},
   "source": [
    "Jde úplně o **nejjednodušší variantu** ke spuštění.\n",
    "\n",
    "Zde je vidět jednoduchost nastavení a spuštění:"
   ]
  },
  {
   "cell_type": "code",
   "execution_count": null,
   "metadata": {},
   "outputs": [],
   "source": [
    "from flask import Flask\n",
    "\n",
    "app = Flask(__name__)\n",
    "\n",
    "@app.route(\"/\")\n",
    "def zobraz_pozdrav():\n",
    "    return \"<p>Ahoj, z desáté lekce!</p>\" "
   ]
  },
  {
   "cell_type": "markdown",
   "metadata": {},
   "source": [
    "Jednotlivé řádky v tomto modulu znamenají následující:"
   ]
  },
  {
   "cell_type": "markdown",
   "metadata": {},
   "source": [
    "1. Nejprve nahraješ *objekt* `Flask` a podle jeho vzoru nachystáš pro tebe specifickou **WSGI aplikaci**,\n",
    "2. jméno `app` je jméno tvojí *instance*, která bude na web odkazovat,\n",
    "3. *argument* `__name__` pojmenuje tvoji aplikaci **podle jména souboru**,\n",
    "4. *dekorátor* `@app.route` říká, že funkci *vrátí* na cestě `localhost:5000`, bez specifikátoru,\n",
    "5. funkce `zobraz_pozdrav` vrací pouze HTML element `<p></p>` se stringem `Ahoj, z desáté lekce!`,"
   ]
  },
  {
   "cell_type": "markdown",
   "metadata": {},
   "source": [
    "### Spuštění\n",
    "\n",
    "Tvůj spouštěcí modul si můžeš pojmenovat jak potřebuješ. Obvykle však `app.py`.\n",
    "\n",
    "Jedinné jméno, kterému se chceš vyhnout je `flask.py`, protože takové jméno souboru by tě stavilo do konfliktu **s vlastním jménem frameworku**."
   ]
  },
  {
   "cell_type": "markdown",
   "metadata": {},
   "source": [
    "Pokud si pojmenuješ soubor `app.py`, interpret jej sám vyhledá:\n",
    "```\n",
    "python -m flask run\n",
    "```\n",
    "\n",
    "<br>\n",
    "\n",
    "Pokud potřebuješ jiné jméno, **stačí příkaz doplnit**:\n",
    "```\n",
    "python -m flask -A <tvuj_soubor> run\n",
    "```\n",
    "...nebo:\n",
    "```\n",
    "python -m flask --app <tvuj_soubor> run\n",
    "```"
   ]
  },
  {
   "cell_type": "markdown",
   "metadata": {},
   "source": [
    "### Výstup\n",
    "\n",
    "Následně můžeš vidět podobný výstup (podle verze *frameworku*):\n",
    "```\n",
    " * Serving Flask app 'app.py'\n",
    " * Debug mode: off\n",
    "WARNING: This is a development server. Do not use it in a production deployment. Use a production WSGI server instead.\n",
    " * Running on http://127.0.0.1:5000\n",
    "Press CTRL+C to quit\n",
    "```"
   ]
  },
  {
   "cell_type": "markdown",
   "metadata": {},
   "source": [
    "### Číslo portu"
   ]
  },
  {
   "cell_type": "markdown",
   "metadata": {},
   "source": [
    "Pokud dostaneš výjimku `OSError: [Errno 98]` nebo `OSError: [WinError 10013]` znamená to, že na tebou **zvoleném portu** již něco běží.\n",
    "\n",
    "Proto je potřeba **zvolit jiný port ručně**:\n",
    "```\n",
    "python3 -m flask run -p 8000\n",
    "```\n",
    "\n",
    "Přepínač `-p` ti umožní vyber jiné číslo portu.\n",
    "\n",
    "Opatrně, **nelze přepsat číslo portu** v rámci tvého souboru jako:\n",
    "```python\n",
    "from flask import Flask\n",
    "\n",
    "app = Flask(__name__)\n",
    "\n",
    "\n",
    "@app.route(\"/\")\n",
    "def zobraz_pozdrav():\n",
    "    return \"<p>Ahoj, z desáté lekce!</p>\"\n",
    "\n",
    "\n",
    "if __name__ == '__main__':\n",
    "    app.run(port=3000)\n",
    "```"
   ]
  },
  {
   "cell_type": "markdown",
   "metadata": {},
   "source": [
    "Příkaz `python -m flask` nevidí funkci `app.flask.run`.\n",
    "\n",
    "Nevidí aplikaci ani její konfiguraci.\n",
    "\n",
    "V dřívějších verzích se aplikace spouštěla tímto způsobem."
   ]
  },
  {
   "cell_type": "markdown",
   "metadata": {},
   "source": [
    "### Debug režim"
   ]
  },
  {
   "cell_type": "markdown",
   "metadata": {},
   "source": [
    "V rámci hledání chyb a stopování problémů můžeš přidat dalším argumentem:\n",
    "```\n",
    "python3 -m flask run -p 8000 --debug\n",
    "```"
   ]
  },
  {
   "cell_type": "markdown",
   "metadata": {},
   "source": [
    "Projekt se potom mírně rozšíří do takovéto podoby:\n",
    "```\n",
    "muj_flask_projekt/\n",
    "   └─app.py/\n",
    "```"
   ]
  },
  {
   "cell_type": "markdown",
   "metadata": {},
   "source": [
    "##### Demo: První spuštění Flask aplikace"
   ]
  },
  {
   "cell_type": "markdown",
   "metadata": {},
   "source": [
    "<img src=\"https://external-content.duckduckgo.com/iu/?u=https%3A%2F%2Ftse1.mm.bing.net%2Fth%3Fid%3DOIP.pCng-t3XzMuvtWVHCk5--wHaHa%26pid%3DApi&f=1&ipt=3bed073fec987022e1a9b0ae6d3d87ad294bf4b5f27aa9842084f1e5b8cf126f&ipo=images\" width=\"300\">\n",
    "\n",
    "## Templates\n",
    "\n",
    "---"
   ]
  },
  {
   "cell_type": "markdown",
   "metadata": {},
   "source": [
    "Při další práci s tvojí aplikaci ve *Flasku*, můžeš chtít doplnit **další stránku**.\n",
    "\n",
    "Případně přidat dokonce několik další stránek:"
   ]
  },
  {
   "cell_type": "markdown",
   "metadata": {},
   "source": [
    "```python\n",
    "from flask import Flask\n",
    "\n",
    "app = Flask(__name__)\n",
    "\n",
    "\n",
    "@app.route(\"/\")\n",
    "def root():\n",
    "    return \"<p>Ahoj, z desáté lekce!</p>\"\n",
    "\n",
    "\n",
    "@app.route(\"/clanky\")\n",
    "def clanky():\n",
    "    return \"<p>Aktuální články:</p>\"\n",
    "```"
   ]
  },
  {
   "cell_type": "markdown",
   "metadata": {},
   "source": [
    "Ovšem zpracovávat všechen **HTML** obsah v rámci zdrojového kódu je přítěž.\n",
    "\n",
    "Jak na vyhledávání, tak **na pozdější duplicity**."
   ]
  },
  {
   "cell_type": "markdown",
   "metadata": {},
   "source": [
    "Proto první zásadní změnou, pro takovou aplikaci, bude rozřazení zdrojových souborů, **kam patří**.\n",
    "\n",
    "Další úpravou potom, bude nahrátí funkce `render_template`, která ti jednotlivé soubory *vyrendruje* (vykreslí):\n",
    "```python\n",
    "from flask import Flask, render_template\n",
    "\n",
    "app = Flask(__name__)\n",
    "\n",
    "\n",
    "@app.route(\"/\")\n",
    "def root():\n",
    "    return render_template(\"index.html\")\n",
    "\n",
    "\n",
    "@app.route(\"/clanky\")\n",
    "def topics():\n",
    "    return render_template(\"topics.html\")\n",
    "\n",
    "```"
   ]
  },
  {
   "cell_type": "markdown",
   "metadata": {},
   "source": [
    "Tato funkce dovolí knihovně `Jinja2` manipulovat se zdrojovými **HTML** soubory.\n",
    "\n",
    "Tím pádem můžeš pro každou cestu tvé aplikace oddělit nový zdrojový soubor.\n",
    "\n",
    "Finálně potom tvůj kód zůstane stručnější, přehlednější a každou stránku budeš **upravovat zvlášť**."
   ]
  },
  {
   "cell_type": "markdown",
   "metadata": {},
   "source": [
    "Projekt se potom mírně rozšíří do takovéto podoby:\n",
    "```\n",
    "muj_flask_projekt/\n",
    "   ├─app.py/\n",
    "   └─templates/\n",
    "       ├─index.html\n",
    "       └─topics.html\n",
    "\n",
    "```"
   ]
  },
  {
   "cell_type": "markdown",
   "metadata": {},
   "source": [
    "**Templates** je tedy skutečně jenom adresář, který nese soubory pro tvoji *webovou aplikaci*.\n",
    "\n",
    "Pomocí funkce `render_template` vezme zdrojové HTML nebo snippet (útržek HTMLka) a pomocí Pythonních kódu jej:\n",
    "1. najde,\n",
    "2. interpretuje,\n",
    "3. prezentuje uživateli."
   ]
  },
  {
   "cell_type": "markdown",
   "metadata": {},
   "source": [
    "##### Demo: ukázka pro dvě stránky jako HTML soubory"
   ]
  },
  {
   "cell_type": "markdown",
   "metadata": {},
   "source": [
    "<img src=\"https://external-content.duckduckgo.com/iu/?u=https%3A%2F%2Ftse1.mm.bing.net%2Fth%3Fid%3DOIP.RoeMI-KfCKllxZmaqI1rjQHaHa%26pid%3DApi&f=1&ipt=a00c10c36f34cbb15514178b2fac678b35edb7da96dc564661510b3f44d4a3cc&ipo=images\" width=\"250\">\n",
    "\n",
    "## Templatovací kód\n",
    "\n",
    "---"
   ]
  },
  {
   "cell_type": "markdown",
   "metadata": {},
   "source": [
    "Pokud ti vzhled webových stránek není úplně cizí, občas si všimneš **opakujících se prvků**:\n",
    "1. Záhlaví,\n",
    "2. zápatí,\n",
    "3. navigační pole,\n",
    "4. a další.\n",
    "\n",
    "Pokud však musíš upravit každý `html` soubor, když budeš chtít takový prvek přidat, je to dost práce.\n",
    "\n",
    "Naštěstí můžeš využít tzv. *templatovací kód*, který máš díky knihovně `Jinja2` k dispozici."
   ]
  },
  {
   "cell_type": "markdown",
   "metadata": {},
   "source": [
    "Díky tomu si **můžeš předpřipravit šablonu**, kterou můžeš následně použít, kde potřebuješ:\n",
    "```html\n",
    "<!-- sablona.html / layout.html -->\n",
    "<!doctype html>\n",
    "<html>\n",
    " <head>\n",
    "   <title>Flask projekt - {{ jmeno_stranky }}</title>\n",
    " </head>\n",
    " <body>\n",
    "   {% include 'nav.html' %}\n",
    "   {% block content %}{% endblock %}\n",
    " </body>\n",
    "</html>\n",
    "```"
   ]
  },
  {
   "cell_type": "markdown",
   "metadata": {},
   "source": [
    "Cokoliv bude mít kolem sebe **složené závorky** naznačuje, že jde o `Jinja2` formát.\n",
    "\n",
    "* `{{ jmeno_stranky }}`, proměnná, bude představovat jméno stránky,\n",
    "* `{% include 'nav.html' %}`, bude pozice pro navigační pole,\n",
    "* `{% block content %}`, bude poskytovat prostor pro konkrétní stránku."
   ]
  },
  {
   "cell_type": "markdown",
   "metadata": {},
   "source": [
    "Například pro naší původní domácí stránku (`/`):\n",
    "```html\n",
    " <body>\n",
    "   {% include 'nav.html' %}\n",
    "   {% block content %}\n",
    "\n",
    "   <h1>Ahoj, z desáté lekce!</h1>\n",
    "\n",
    "   {% endblock %}\n",
    "\n",
    " </body>\n",
    "```"
   ]
  },
  {
   "cell_type": "markdown",
   "metadata": {},
   "source": [
    "### Přidej šablonu"
   ]
  },
  {
   "cell_type": "markdown",
   "metadata": {},
   "source": [
    "Teď, když máš šablonu nachystanou, můžeš rozšířit obsah `html` souboru `index.html`.\n",
    "\n",
    "Tento soubor vykresluješ na *rootu* tvojí aplikace:\n",
    "```html\n",
    "<!-- index.html -->\n",
    "{% extends 'sablona.html' %}\n",
    "{% block content %}\n",
    "\n",
    "<h1>Ahoj, z desáté lekce!</h1>\n",
    "\n",
    "{% endblock %}\n",
    "```"
   ]
  },
  {
   "cell_type": "markdown",
   "metadata": {},
   "source": [
    "Stejně tak můžeš rozšířit soubor `topics.html`:\n",
    "```html\n",
    "<!-- topics.html -->\n",
    "{% extends 'sablona.html' %}\n",
    "{% block content %}\n",
    "\n",
    "<h1>Aktuální články:</h1>\n",
    "\n",
    "{% endblock %}\n",
    "```"
   ]
  },
  {
   "cell_type": "markdown",
   "metadata": {},
   "source": [
    "Použité `Jinja2` prvky:\n",
    "* `{% %}`, symboly procenta zabalují příkazy pro Jinja2 (docela podobné syntaxi Pythonu),\n",
    "* `{{ }}`, symboly zdvojených závorek obalují proměnné, jejichž hodnotu můžeš pomocí interpreta předat,\n",
    "* `{# #}`, symboly mřížek slouží jako komentáře určené pro vývojářské účely (end-user nevidí)."
   ]
  },
  {
   "cell_type": "markdown",
   "metadata": {},
   "source": [
    "### Jméno stránky pomocí Jinja proměnné"
   ]
  },
  {
   "cell_type": "markdown",
   "metadata": {},
   "source": [
    "Nakonec ještě můžeš přidat **jméno stránky**, které bude viditelné ve zdrojovém kódu stránky.\n",
    "\n",
    "Toto jméno zadáš pomocí `Jinja2` proměnné, kterou máš nachystanou v souboru `sablona.html`:\n",
    "```python\n",
    "from flask import Flask, render_template\n",
    "\n",
    "app = Flask(__name__)\n",
    "\n",
    "\n",
    "@app.route(\"/\")\n",
    "def root():\n",
    "    return render_template(\"index.html\", jmeno_stranky=\"DOMU\")\n",
    "\n",
    "\n",
    "@app.route(\"/clanky\")\n",
    "def topics():\n",
    "    return render_template(\"topics.html\", jmeno_stranky=\"CLANKY\")\n",
    "```"
   ]
  },
  {
   "cell_type": "markdown",
   "metadata": {},
   "source": [
    "```\n",
    "muj_flask_projekt/\n",
    "   ├─app.py/\n",
    "   └─templates/\n",
    "       ├─index.html\n",
    "       ├─nav.html\n",
    "       ├─sablona.html\n",
    "       └─topics.html\n",
    "```"
   ]
  },
  {
   "cell_type": "markdown",
   "metadata": {},
   "source": [
    "##### Demo: ukázka pro formátované HTML soubory"
   ]
  },
  {
   "cell_type": "markdown",
   "metadata": {},
   "source": [
    "<img src=\"https://external-content.duckduckgo.com/iu/?u=https%3A%2F%2Ftse4.mm.bing.net%2Fth%3Fid%3DOIP.JdJ3TBzYKdLXPJTIz4vUkQHaHa%26pid%3DApi&f=1&ipt=7cd011b3ac7c921650c9bc7d2419a5dd095dbaa9311e1f3573771439d50603b3&ipo=images\" width=\"250\">\n",
    "\n",
    "## Data, data, data\n",
    "\n",
    "---"
   ]
  },
  {
   "cell_type": "markdown",
   "metadata": {},
   "source": [
    "Pokud pracuješ s daty, potřebuješ je někde uchovávat.\n",
    "\n",
    "*Flask* jako takový snese různé vstupy a data.\n",
    "\n",
    "Pro jednoduchost ti bude stačit načítat data z pomocí souboru typu `csv`.\n",
    "\n",
    "Určitě ale můžeš pracovat s `db` (lokální nebo vzdálenou), `json` soubory, aj.:\n",
    "```\n",
    "muj_flask_projekt/\n",
    "   ├─app.py/\n",
    "   ├─templates/\n",
    "   |   ├── index.html\n",
    "   |   ├── nav.html\n",
    "   |   ├── sablona.html\n",
    "   |   └── topics.html\n",
    "   └─topics.csv\n",
    "\n",
    "```"
   ]
  },
  {
   "cell_type": "markdown",
   "metadata": {},
   "source": [
    "Tvoje proměnná `topics.csv`, obsahuje články získané z webu (obsahuje datum, typ, text článku a odkaz).\n",
    "\n",
    "Takový soubor je potřeba nejprve načíst:"
   ]
  },
  {
   "cell_type": "code",
   "execution_count": 9,
   "metadata": {},
   "outputs": [],
   "source": [
    "import csv"
   ]
  },
  {
   "cell_type": "code",
   "execution_count": 54,
   "metadata": {},
   "outputs": [],
   "source": [
    "def precti_clanky(jmeno_souboru: str) -> list:\n",
    "    with open(jmeno_souboru, mode=\"r\", encoding=\"utf-8\") as csv_:\n",
    "        return [\n",
    "            radek\n",
    "            for radek in csv.DictReader(csv_)\n",
    "        ]"
   ]
  },
  {
   "cell_type": "code",
   "execution_count": 55,
   "metadata": {},
   "outputs": [],
   "source": [
    "clanky = precti_clanky(\"../onsite/lesson10/clanky.csv\")"
   ]
  },
  {
   "cell_type": "code",
   "execution_count": 56,
   "metadata": {},
   "outputs": [
    {
     "name": "stdout",
     "output_type": "stream",
     "text": [
      "[{'Přidáno': '12/10/2022', 'Typ': 'Article', 'Popisek': '\\nHrad zrušil Zemanův program. Z technických důvodů, uvedl mluvčí bez upřesnění\\n\\n\\n\\n\\n', 'Odkaz': 'https://www.idnes.cz/zpravy/domaci/hrad-ovcacek-zeman-prezident-schuzka-kulaty-stul-energie.A221012_172343_domaci_vajo'}, {'Přidáno': '12/10/2022', 'Typ': 'Article', 'Popisek': '\\nNátlak je násilím i\\xa0v\\xa0placeném sexu. Infekci má každá druhá, říká odbornice\\n\\n\\n\\n\\n', 'Odkaz': 'https://www.idnes.cz/zpravy/domaci/sexualni-pracovnice-sexbyznys-pandemie-spolek-pro-ochranu-zen.A221011_122215_domaci_vlc?zdroj=top'}, {'Přidáno': '12/10/2022', 'Typ': 'Article', 'Popisek': '\\nRusko zveřejnilo rentgen kamionu z Kerčského mostu. Podvrh, dokazují lidé\\n\\n\\n\\n\\n', 'Odkaz': 'https://www.idnes.cz/zpravy/zahranicni/rusko-ukrajina-valka-kercsky-most-krym-rentgen-auto.A221012_123221_zahranicni_vajo'}, {'Přidáno': '12/10/2022', 'Typ': 'Article', 'Popisek': '\\nRusům s krátkodobými vízy nebude umožněn vstup do Česka, řekl Lipavský\\n\\n\\n\\n\\n', 'Odkaz': 'https://www.idnes.cz/zpravy/domaci/vlada-pomoc-ukrajine-pro-pristi-tri-roky-zemedelske-dotace.A221012_141725_domaci_kop'}, {'Přidáno': '12/10/2022', 'Typ': 'Article', 'Popisek': '\\nPutin nabízí Evropě více plynu. Sabotáž na Nord Streamu podle něj prospěla USA\\n\\n\\n\\n\\n', 'Odkaz': 'https://www.idnes.cz/ekonomika/zahranicni/putin-zemni-plyn-nord-stream-zima.A221012_135026_eko-zahranicni_akp'}, {'Přidáno': '12/10/2022', 'Typ': 'Article', 'Popisek': '\\nKaždý šestý Němec padl pod hranici chudoby. A vyhlídky nejsou optimistické\\n\\n\\n\\n\\n', 'Odkaz': 'https://www.idnes.cz/zpravy/zahranicni/nemecko-chudoba-inflace-energie-plyn-plat-demonstrace-finance.A221011_180823_zahranicni_albe?zdroj=top'}, {'Přidáno': '12/10/2022', 'Typ': 'Article', 'Popisek': '\\nPolovojenští Slovenští branci končí. Tragédie, vysmál se jim ministr obrany\\n\\n\\n\\n\\n', 'Odkaz': 'https://www.idnes.cz/zpravy/zahranicni/slovensko-slovensti-branci-ministr-obrany-polovojenska-organizace-nad.A221012_141441_zahranicni_jhr'}, {'Přidáno': '12/10/2022', 'Typ': 'Article', 'Popisek': '\\nLukašenko nemůže bojovat s Ukrajinou. Experti pochybují, že Minsk vyšle vojáky\\n\\n\\n\\n\\n', 'Odkaz': 'https://www.lidovky.cz/svet/belorusku-lukasenko-rusko-putin-valka-ukrajina-zelenskyj.A221012_134110_ln_zahranici_rkj?zdroj=top'}, {'Přidáno': '12/10/2022', 'Typ': 'Article', 'Popisek': '\\nHanba vládě, demisi, demisi, křičeli demonstranti před Úřadem vlády\\n\\n\\n\\n\\n', 'Odkaz': 'https://www.idnes.cz/zpravy/domaci/demonstrace-protivladni-protest-urad-vlady-premier-petr-fiala.A221012_085006_domaci_misl'}, {'Přidáno': '12/10/2022', 'Typ': 'Article', 'Popisek': '\\nMiliardář Richard Chlad se zasnoubil s dcerou Blaženy ze Slunce seno\\n\\n\\n\\n\\n', 'Odkaz': 'https://www.idnes.cz/zpravy/revue/vztahy-a-sex/miliardar-richard-chlad-anna-marie-kanska-zasnuby-laska.A221012_095245_sex_sub'}, {'Přidáno': '12/10/2022', 'Typ': 'Article', 'Popisek': '\\nMotorkáři naměřili 217 km/h. Spěchám k mamince na kafe, vysvětlil policistům\\n\\n\\n\\n\\n', 'Odkaz': 'https://www.idnes.cz/ostrava/zpravy/motorkar-kontrola-policie-jirouskova-mamince-na-kafe.A221012_163842_ostrava-zpravy_jog'}, {'Přidáno': '12/10/2022', 'Typ': 'Article', 'Popisek': '\\nPříčinu války na Ukrajině hledejme před 200\\xa0tisíci lety, říká Čech s\\xa0IQ\\xa0206\\n\\n\\n\\n\\n', 'Odkaz': 'https://www.idnes.cz/xman/rozhovory/karel-kostka-ucitel-iq-inteligence-valka-konflikt-lidstvo-ukrajina.A220901_150307_lidicky_javu?zdroj=top'}, {'Přidáno': '12/10/2022', 'Typ': 'Article', 'Popisek': 'Mávala jsem rodičům z\\xa0okna a\\xa0bratr už mi stahoval kalhotky, líčí Dominika', 'Odkaz': 'https://www.idnes.cz/zpravy/domaci/sexualizovane-nasili-tyrani-zneuzivani.A221003_134120_domaci_vlc?zdroj=banner'}, {'Přidáno': '12/10/2022', 'Typ': 'Article', 'Popisek': 'Nafouklá realitní bublina praská. Začal výprodej bytů, ceny padají', 'Odkaz': 'https://www.idnes.cz/zpravy/domaci/byty-ceny-bublina-s-nemovitostmi-zlevneni.A221010_200143_domaci_mejt?zdroj=banner'}, {'Přidáno': '12/10/2022', 'Typ': 'Article', 'Popisek': '\\nEU musí mít jiný ukazatel cen plynu než burzu, řekla v Praze komisařka\\n\\n\\n\\n\\n', 'Odkaz': 'https://www.idnes.cz/ekonomika/domaci/energetika-sikela-zemni-plyn-eu.A221011_102051_ekonomika_maz'}, {'Přidáno': '12/10/2022', 'Typ': 'Article', 'Popisek': '\\nZdrogovaný řidič boural s vysloužilým autem, spolujezdec se zranil\\n\\n\\n\\n\\n', 'Odkaz': 'https://www.idnes.cz/hradec-kralove/zpravy/dopravni-nehoda-policie-vysoka-nad-labem-drogy-zraneni.A221012_151310_hradec-zpravy_tuu'}, {'Přidáno': '12/10/2022', 'Typ': 'Article', 'Popisek': '\\nDalší v řadě podivných produktů. Musk představil parfém Spálené vlasy\\n\\n\\n\\n\\n', 'Odkaz': 'https://www.idnes.cz/ekonomika/zahranicni/burnt-hair-musk-parfem.A221012_162451_eko-zahranicni_akp'}, {'Přidáno': '12/10/2022', 'Typ': 'Article', 'Popisek': '\\nSabotážní majstrštyk. Experti obdivují dokonalost úderu na Kerčský most\\n\\n\\n\\n\\n', 'Odkaz': 'https://www.idnes.cz/zpravy/zahranicni/ukrajina-rusko-kercsky-most.A221011_135751_zahranicni_aha?zdroj=patro'}, {'Přidáno': '12/10/2022', 'Typ': 'Article', 'Popisek': '\\nChlapce při expedici pobodaly vosy, život mu zachránili spolužáci\\n\\n\\n\\n\\n', 'Odkaz': 'https://www.idnes.cz/brno/zpravy/zaci-expedice-priroda-zachrana-zivota-pobodani-vosy.A221012_154053_brno-zpravy_krut'}, {'Přidáno': '12/10/2022', 'Typ': 'Article', 'Popisek': '\\nPořadatele protestů z Václaváku rozdělily peníze. Šlo o ego, přiznávají\\n\\n\\n\\n\\n', 'Odkaz': 'https://www.idnes.cz/zpravy/domaci/organizatori-demonstrace-penize-hadka-osocovani-ucty-lide-duvera.A221007_121324_domaci_vank'}, {'Přidáno': '12/10/2022', 'Typ': 'Article', 'Popisek': '\\nRádia, pytle i\\xa0konzervy. Ukrajinci se připravují na případný nukleární útok\\n\\n\\n\\n\\n', 'Odkaz': 'https://www.idnes.cz/zpravy/zahranicni/rusko-ukrajina-valka-invaze-nuklarni-utok-jaderny-bomba-havarie-priprava-bunkr-zasoby.A221012_120643_zahranicni_dtt?zdroj=patro'}, {'Přidáno': '12/10/2022', 'Typ': 'Article', 'Popisek': '\\nZ kulturáků na obří festivaly. Brněnský metalista udělal kariéru díky DVD\\n\\n\\n\\n\\n', 'Odkaz': 'https://www.idnes.cz/brno/zpravy/martin-marthus-skaroupka-metal-bubenik-cradle-of-filth.A221012_687510_brno-zpravy_krut?zdroj=patro'}, {'Přidáno': '12/10/2022', 'Typ': 'Article', 'Popisek': '\\nBlink-182 v původní sestavě zahrají v O2 areně! Přednostní nákup vstupenek\\n\\n\\n\\n\\n', 'Odkaz': 'https://www.idnes.cz/premium/sluzby/blink-182-prednostni-nakup-o2-arena.A221011_095153_premium-sluzby_bhar?zdroj=patro'}, {'Přidáno': '12/10/2022', 'Typ': 'Article', 'Popisek': '\\nZabil muž manželku i syna? Audiokniha Sucho z australské buše zdarma\\n\\n\\n\\n\\n', 'Odkaz': 'https://www.idnes.cz/premium/sluzby/sucho-audiokniha-zdarma-thriller.A221003_111801_premium-sluzby_majo?zdroj=patro'}, {'Přidáno': '12/10/2022', 'Typ': 'Article', 'Popisek': '\\nVykladač prostoru, mistr asistencí. I v Plzni dobře vědí: pozor na Müllera!\\n\\n\\n\\n\\n', 'Odkaz': 'https://www.idnes.cz/fotbal/pohary/thomas-muller-bayern-mnichov-liga-mistru-plzen.A221011_162332_fot_pohary_rou?zdroj=patro'}, {'Přidáno': '12/10/2022', 'Typ': 'Article', 'Popisek': '\\nPonorka i\\xa0originál da Vinciho. Co skrývají megajachty boháčů a\\xa0kolik stojí\\n\\n\\n\\n\\n', 'Odkaz': 'https://www.idnes.cz/auto/zpravodajstvi/super-jachta-oligarchove-sankce-miliony-abramovic.A220908_125648_automoto_dohr?zdroj=patro'}, {'Přidáno': '12/10/2022', 'Typ': 'Article', 'Popisek': '\\nVzestup a pád hvězdy: e-kniha Jaká byla Cassidy Holmesová zdarma\\n\\n\\n\\n\\n', 'Odkaz': 'https://www.idnes.cz/premium/sluzby/jaka-byla-cassidy-holmesova-e-kniha-zdarma.A221003_101422_premium-sluzby_majo?zdroj=patro'}, {'Přidáno': '12/10/2022', 'Typ': 'Article', 'Popisek': '\\nChytrá baba, říká o Jessice Fletcherové její český hlas Hana Talpová\\n\\n\\n\\n\\n', 'Odkaz': 'https://www.idnes.cz/zpravy/revue/spolecnost/hana-talpova-dabing-lansbury-fletcher-to-je-vrazda-napsala.A221012_152507_lidicky_zar'}, {'Přidáno': '12/10/2022', 'Typ': 'Article', 'Popisek': '\\nŽena chtěla mít hubenější obličej, po zákroku se dočkala dvojité brady\\n\\n\\n\\n\\n', 'Odkaz': 'https://www.idnes.cz/onadnes/zdravi/zakrok-brada-podbradek-tuk-bizarni-pribeh.A221011_171946_zdravi_bib'}, {'Přidáno': '12/10/2022', 'Typ': 'Article', 'Popisek': '\\nMladicím zůstanou oči pro pláč. Ženy po čtyřicítce jsou pro vztah nejlepší\\n\\n\\n\\n\\n', 'Odkaz': 'https://www.idnes.cz/onadnes/vztahy/starsi-zena-sex-vztah-40-laska-partnerstvi.A221010_204824_jpz-krasa-moda_skld'}, {'Přidáno': '12/10/2022', 'Typ': 'Article', 'Popisek': '\\nŽeny mě inspirují k novým písním a abych byl lepší člověk, říká Pavel Callta\\n\\n\\n\\n\\n', 'Odkaz': 'https://www.idnes.cz/zpravy/revue/spolecnost/pavel-callta-zpev-citat-album-hudba-sport.A221005_185940_lidicky_mejt?zdroj=patro'}, {'Přidáno': '12/10/2022', 'Typ': 'Article', 'Popisek': '\\nOsm překvapivých důvodů, proč se v noci budíte zpocení\\n\\n\\n\\n\\n', 'Odkaz': 'https://www.idnes.cz/onadnes/zdravi/poceni-v-noci-problem-nemoc-stres-uzkost-hormony-menopauza.A220923_124102_zdravi_drdv'}, {'Přidáno': '12/10/2022', 'Typ': '', 'Popisek': '\\nAplikace posílá uživatele na náhodná místa. Někteří našli i mrtvá těla\\n\\n\\n\\n\\n', 'Odkaz': 'https://www.antiyoutuber.cz/clanky/tiktok-randonauting-challenge-trend.A221012_100932_antiyout-clanky_ablha'}, {'Přidáno': '12/10/2022', 'Typ': 'Article', 'Popisek': '\\nRocker Jan Vytásek je doma na Smíchově. Na nekonečné opravy si už zvykl\\n\\n\\n\\n\\n', 'Odkaz': 'https://www.idnes.cz/bydleni/na-navsteve/jan-vytasek-rocker-zpevak-rekonstrukce.A220907_112347_dum_osobnosti_web'}, {'Přidáno': '12/10/2022', 'Typ': 'Article', 'Popisek': '\\nŽemlovku ve Varech povýšili na lahůdku. Skvělá je i s hříbky a karamelem\\n\\n\\n\\n\\n', 'Odkaz': 'https://www.idnes.cz/hobby/domov/vareni-kucharska-show-souboj-na-taliri-nova-2022-karlovy-vary-zemlbaba.A221010_204836_hobby-domov_mce'}, {'Přidáno': '12/10/2022', 'Typ': 'Article', 'Popisek': '\\nItalské lyžařské areály letos zdraží, některé možná vůbec neotevřou\\n\\n\\n\\n\\n', 'Odkaz': 'https://www.idnes.cz/cestovani/lyzovani/lyzovani-v-italii-zimni-sezona-2022-2023-arealy-ceny-vstupneho-aktualita.A221012_135056_lyze_hig'}, {'Přidáno': '12/10/2022', 'Typ': 'Article', 'Popisek': '\\nEU nutí finanční instituce sledovat emise aut. Jak je počítat, není jasné\\n\\n\\n\\n\\n', 'Odkaz': 'https://www.idnes.cz/auto/zpravodajstvi/emise-co2-automobilky-spotreba-kia-toyota.A221004_145627_automoto_fdv'}, {'Přidáno': '12/10/2022', 'Typ': 'Article', 'Popisek': '\\nPodvodník Kolumbus přiřkl odměnu za objev sám sobě. Mladého námořníka to zlomilo\\n\\n\\n\\n\\n', 'Odkaz': 'https://www.idnes.cz/xman/styl/krystor-kolumbus-odmena-objev-ameriky-podvod.A221010_131153_xman-styl_fro?zdroj=patro'}, {'Přidáno': '12/10/2022', 'Typ': 'Article', 'Popisek': '\\nOverwatch 2 dočasně odstranil dva hrdiny, způsobilo to další problémy\\n\\n\\n\\n\\n', 'Odkaz': 'https://www.idnes.cz/hry/novinky/overwatch-2-launch-katastrofa-bastion-torbjorn.A221012_083856_bw-novinky_oz'}, {'Přidáno': '12/10/2022', 'Typ': 'Article', 'Popisek': '\\nReakce na kritiku? V žebříčku fotomobilů nezůstal kámen na kameni\\n\\n\\n\\n\\n', 'Odkaz': 'https://www.idnes.cz/mobil/tech-trendy/dxo-mark-zmena-zebricku-novy-vypocet-skore.A221008_155606_mob_tech_vok'}, {'Přidáno': '12/10/2022', 'Typ': 'Article', 'Popisek': '\\nONLINE: Házenkáři hrají na úvod kvalifikace ME s outsidery z Estonska\\n\\n\\n\\n\\n', 'Odkaz': 'https://www.idnes.cz/sport/hazena/cesko-estonsko-mistrovstvi-evropy-muzi-kvalifikace.A221012_142929_hazena_tof'}, {'Přidáno': '12/10/2022', 'Typ': 'Article', 'Popisek': '\\nZklamaná Anglie, nadšené Češky. Fotbalistky získaly sebevědomí i zážitky\\n\\n\\n\\n\\n', 'Odkaz': 'https://www.idnes.cz/fotbal/reprezentace/anglie-cesko-zenska-reprezentace-karel-rada-petra-bertholdova-sarina-wiegmanova.A221012_125702_fot_reprez_min'}, {'Přidáno': '12/10/2022', 'Typ': 'Article', 'Popisek': '\\nONLINE: Končí skupiny hokejové Ligy mistrů, Hradec hraje s Berlínem\\n\\n\\n\\n\\n', 'Odkaz': 'https://www.idnes.cz/hokej/evropske-ligy/liga-mistru-hradec-kralove-eisbaren-berlin.A221012_113002_evropa_hrj'}, {'Přidáno': '12/10/2022', 'Typ': 'Article', 'Popisek': '\\nFormulová středa s EisKing: o chaotické korunovaci Verstappena a chybě Leclerca\\n\\n\\n\\n\\n', 'Odkaz': 'https://www.idnes.cz/sport/formule/eisking-idnes-premium-unikatni-obsah-16-dil.A221012_103135_formule_hrj'}, {'Přidáno': '12/10/2022', 'Typ': 'Article', 'Popisek': '\\nHrál, skóroval. Odejde Mbappé? O ničem jsem neslyšel, reaguje trenér\\n\\n\\n\\n\\n', 'Odkaz': 'https://www.idnes.cz/fotbal/pohary/kylian-mbappe-paris-st-germain-odchod-spekulace-reakce-galtier.A221012_105025_fot_pohary_vp2'}, {'Přidáno': '12/10/2022', 'Typ': 'Article', 'Popisek': '\\nMůj brácha Koli. Sestra slávistického gólmana o\\xa0strachu na Rangers i\\xa0svatbě\\n\\n\\n\\n\\n', 'Odkaz': 'https://www.idnes.cz/fotbal/pohary/lucie-kolarova-sestra-ondrej-kolar-rozhovor.A221010_150921_fot_pohary_malu?zdroj=patro'}, {'Přidáno': '12/10/2022', 'Typ': 'Article', 'Popisek': '\\nExkluzivní fotky ze zásnubní dovolené\\n\\n\\n\\n\\n', 'Odkaz': 'https://www.expres.cz/celebrity/richard-chlad-anna-marie-kanska-zasnoubeni-rozhovor-fotky.A221012_100102_dx-celebrity_lare'}, {'Přidáno': '12/10/2022', 'Typ': 'Article', 'Popisek': '\\nKauza partnera Martincové: Krádež a uspání plynem\\n\\n\\n\\n\\n', 'Odkaz': 'https://www.expres.cz/sport/tereza-martincova-sexy-tenistka-problemy-s-pritelem-policie.A221012_120607_dx-sport_lare'}, {'Přidáno': '12/10/2022', 'Typ': 'Article', 'Popisek': '\\nKajumi je mediálně mrtvý, říká Kajumiho exmanažer\\n\\n\\n\\n\\n', 'Odkaz': 'https://www.expres.cz/celebrity/jakub-jira-clash-of-the-stars-manazer-influenceru-adam-kajumi-problemy-penize-spor.A221010_130952_dx-celebrity_lare?zdroj=patro'}, {'Přidáno': '12/10/2022', 'Typ': 'Video', 'Popisek': '\\nTomáš Ujfaluši o Spartě a Rosickém: Pro fanoušky je nejsnadnější obětí ten, kdo je vidět\\n\\n\\n\\n\\n', 'Odkaz': 'https://www.expres.cz/video/celebrity/tomas-ujfalusi-fotbalista-kariera-tomas-rosicky-sparta.V221010_232749_denniexpres-video_sal'}, {'Přidáno': '12/10/2022', 'Typ': 'Article', 'Popisek': '\\nJakub Enžl se ve videu přiznal k užívání steroidů. Jsi narkoman, píší někteří fanoušci\\n\\n\\n\\n\\n', 'Odkaz': 'https://www.antiyoutuber.cz/clanky/fitness-jakub-enzl-youtube-instagram.A221012_115614_antiyout-clanky_zzm'}, {'Přidáno': '12/10/2022', 'Typ': 'Article', 'Popisek': '\\nProč je Pagáčová in? Přitom se nesnaží tolik jako Krainová nebo Verešová\\n\\n\\n\\n\\n', 'Odkaz': 'https://www.expres.cz/celebrity/patricie-pagacova-zanzibar-dovolena-instagram-sledujici-fanousci.A221011_110939_dx-celebrity_vlt'}]\n"
     ]
    }
   ],
   "source": [
    "print(clanky)"
   ]
  },
  {
   "cell_type": "markdown",
   "metadata": {},
   "source": [
    "V této části bude účelem vypsat informace o článcích na správné adrese (`/clanky`)\n",
    "\n",
    "<br>\n",
    "\n",
    "Všechny úpravy tedy musíš provést v souboru `templates/topics.html`:\n",
    "```html\n",
    "{% extends 'sablona.html' %}\n",
    "{% block content %}\n",
    "\n",
    "<h1>Aktuální články:</h1>\n",
    "<table>\n",
    "    <tbody>\n",
    "        {# for loop pomocí Jinja2 je podobný Pythonu #}\n",
    "        {% for clanek in clanky %}\n",
    "            <tr>\n",
    "                <td>{{ clanek[\"Přidáno\"] }}</td>\n",
    "                <td>{{ clanek[\"Typ\"] }}</td>\n",
    "                <td>{{ clanek[\"Popisek\"] }}</td>\n",
    "                <td>\n",
    "                    <a href=\"{{ clanek['Odkaz'] }}\" target=\"blank\">Odkaz</a>\n",
    "                </td>\n",
    "            </tr>\n",
    "        {% endfor %}\n",
    "    </tbody>\n",
    "</table>\n",
    "\n",
    "{% endblock %}\n",
    "```"
   ]
  },
  {
   "cell_type": "markdown",
   "metadata": {},
   "source": [
    "Pár poznámek k minulým úpravám:\n",
    "1. Tabulka `<table>` nebude obsahovat záhlaví. To nám totiž vrátí sama smyčka,\n",
    "2. `{# #}`, komentář slouží k lepšímu popisku,\n",
    "3. `<tr></tr>`, elementy mi utváří jeden řádek,\n",
    "4. `<td></td>`, elementy mi vytvoří samotnou buňku na řádku,\n",
    "5. `{{ clanek[\"name\"] }}`, mapování hodnoty ze klíče probíhá jako v Pythonu,\n",
    "6. `{% endfor %}`, končí příkaz `Jinja2` smyčky."
   ]
  },
  {
   "cell_type": "markdown",
   "metadata": {},
   "source": [
    "Další úpravu potom potřebuje samotná funkce, která se stará o *renderování*:"
   ]
  },
  {
   "cell_type": "code",
   "execution_count": null,
   "metadata": {},
   "outputs": [],
   "source": [
    "@app.route(\"/clanky\")\n",
    "def topics():\n",
    "    topics = precti_clanky(\"clanky.csv\")\n",
    "    return render_template(\n",
    "        \"topics.html\",\n",
    "        jmeno_stranky=\"CLANKY\",\n",
    "        clanky=topics\n",
    "    )"
   ]
  },
  {
   "cell_type": "markdown",
   "metadata": {},
   "source": [
    "Jedinné dvě změny, které ve funkci `topics` nastanou, jsou:\n",
    "1. Spustíš funkci `precti_clanky`, ať dostaneš obsah souboru `csv`,\n",
    "2. získáné články v proměnné `topics` vložíš jako *argument* do funkce `render_template`,\n",
    "3. jméno *argumentu* musí odpovídat jménu v `html` šabloně."
   ]
  },
  {
   "cell_type": "markdown",
   "metadata": {},
   "source": [
    "##### Demo: Načítání dat ze souboru"
   ]
  },
  {
   "cell_type": "markdown",
   "metadata": {},
   "source": [
    "<br>\n",
    "\n",
    "<img src=\"https://external-content.duckduckgo.com/iu/?u=https%3A%2F%2Ftse3.mm.bing.net%2Fth%3Fid%3DOIP.5OGuDVPGxsox5V-ytKQzOAHaHa%26pid%3DApi&f=1\" width=\"230\">\n",
    "\n",
    "## Stylování HTML souborů\n",
    "\n",
    "---"
   ]
  },
  {
   "cell_type": "markdown",
   "metadata": {},
   "source": [
    "Pokud budeš potřebovat přidat formátování pro tvoje `html` soubory, můžeš doplnit `css` soubory.\n",
    "```\n",
    "muj_flask_projekt/\n",
    "   ├─app.py/\n",
    "   ├─static/\n",
    "   |   └── style.css\n",
    "   ├─templates/\n",
    "   |   ├── index.html\n",
    "   |   ├── nav.html\n",
    "   |   ├── sablona.html\n",
    "   |   └── topics.html\n",
    "   └─topics.csv\n",
    "```"
   ]
  },
  {
   "cell_type": "markdown",
   "metadata": {},
   "source": [
    "##### Demo: Odeslání emailu s přílohou"
   ]
  },
  {
   "cell_type": "markdown",
   "metadata": {},
   "source": [
    "<br>\n",
    "\n",
    "<img src=\"https://external-content.duckduckgo.com/iu/?u=https%3A%2F%2Ftse2.mm.bing.net%2Fth%3Fid%3DOIP.hEp4Pj-xWZHPRWP8h4b_GAHaHa%26pid%3DApi&f=1\" width=\"250\">\n",
    "\n",
    "## Několik adresátů\n",
    "\n",
    "---"
   ]
  },
  {
   "cell_type": "markdown",
   "metadata": {},
   "source": [
    "---"
   ]
  }
 ],
 "metadata": {
  "kernelspec": {
   "display_name": "Python 3",
   "language": "python",
   "name": "python3"
  },
  "language_info": {
   "codemirror_mode": {
    "name": "ipython",
    "version": 3
   },
   "file_extension": ".py",
   "mimetype": "text/x-python",
   "name": "python",
   "nbconvert_exporter": "python",
   "pygments_lexer": "ipython3",
   "version": "3.8.6"
  }
 },
 "nbformat": 4,
 "nbformat_minor": 4
}
