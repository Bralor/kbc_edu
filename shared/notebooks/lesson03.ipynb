{
 "cells": [
  {
   "cell_type": "markdown",
   "metadata": {},
   "source": [
    "### Úvod\n",
    "\n",
    "---\n",
    "\n",
    "1. [Rozhodování](#Rozhodování),\n",
    "1. [Datový typ boolean](#Datový-typ-bool-(~boolean)),\n",
    "4. [Operace s boolean](#Operace-s-boolean),\n",
    "2. [Jednoduchý podmínkový zápis](#Jednoduchý-podmínkový-zápis),\n",
    "3. [Rozvinutý podmínkový zápis](#Rozvinutý-podmínkový-zápis),\n",
    "5. [Ternární operátor](#Ternární-operátor),\n",
    "6. [Domácí úkol](#Domácí-úkol).\n",
    "\n",
    "<br>"
   ]
  },
  {
   "cell_type": "markdown",
   "metadata": {},
   "source": [
    "<img src=\"https://external-content.duckduckgo.com/iu/?u=https%3A%2F%2Ftse1.mm.bing.net%2Fth%3Fid%3DOIP.yLOyM3kOmMLeoCCP47fziQHaHa%26pid%3DApi&f=1\" width=\"200\" />\n",
    "\n",
    "\n",
    "### Rozhodování\n",
    "\n",
    "---\n",
    "\n",
    "Jeden z prvních základních algoritmů, který programátor (..a nejen on) musí znát, je naučit náš skript se sám **rozhodovat se**.\n",
    "\n",
    "<br>\n",
    "\n",
    "#### Praktické situace\n",
    "\n",
    "1. Uživatel Matouš **není plnoletý**. Proto mu **omezím přístup** k naší aplikaci.\n",
    "```python\n",
    "jmeno = \"Matous\"\n",
    "vek = 11\n",
    "# Jak uživateli Matouš omezím přístup?\n",
    "```\n",
    "\n",
    "<br>\n",
    "\n",
    "2. Potřebuji ověřit, jestli zadané jméno **patří k zaměstnancům** firmy.\n",
    "```python\n",
    "zamestnanci = (\"Ladislav Dvořák\", \"Nikola Lehká\", \"Jitka Adamová\")\n",
    "cele_jmeno = \"Ladislav Dvořák\"\n",
    "# Jak potvrdím, že osoba Ladislav Dvořák je zaměstnanec?\n",
    "```\n",
    "\n",
    "<br>\n",
    "\n",
    "3. Co když budu chtít přidat novou tabulku do DB a tabulka **již existuje**?\n",
    "```python\n",
    "soupis_tabulek = [\"user\", \"matous\", \"employees\"]\n",
    "jmeno_tabulky = \"employees\"\n",
    "# Jak potvrdím, že tabulka employees již je součástí seznamu?\n",
    "```\n",
    "\n",
    "\n",
    "<br>\n",
    "\n",
    "Jak řešit tyto a podobné otázky si ukážeme dále pomocí nového datového typu **bool** a s ním souvisejícím **podmínkový zápisem**.\n",
    "\n",
    "<br>"
   ]
  },
  {
   "cell_type": "markdown",
   "metadata": {},
   "source": [
    "<img src=\"https://external-content.duckduckgo.com/iu/?u=https%3A%2F%2Ftse1.mm.bing.net%2Fth%3Fid%3DOIP.6naTquItTnMaoNEZW-MPPQHaHa%26pid%3DApi&f=1\" width=\"200\" />\n",
    "\n",
    "\n",
    "### Datový typ `bool` (~boolean)\n",
    "\n",
    "---\n"
   ]
  },
  {
   "cell_type": "markdown",
   "metadata": {},
   "source": [
    "**Boolean** vychází z datového typu **integer** (~z celých čísel) a nabývá pouze **dvou hodnot**:\n",
    "* `True` (odpovídá hodnotě `1`),\n",
    "* `False` (odpovídá hodnotě `0`).\n",
    "\n",
    "Tento **datový typ** pomáhá *rozhodovat*, jestli je celý **zápis** (ohlášení) či **hodnota**(výraz) pravdivý a nebo nepravdivý.\n",
    "\n",
    "<br>"
   ]
  },
  {
   "cell_type": "code",
   "execution_count": null,
   "metadata": {},
   "outputs": [],
   "source": [
    "vek = 11             # int\n",
    "jmeno = \"Matous\"     # str\n",
    "je_plnolety = False  # bool"
   ]
  },
  {
   "cell_type": "code",
   "execution_count": null,
   "metadata": {},
   "outputs": [],
   "source": [
    "print(type(je_plnolety))"
   ]
  },
  {
   "cell_type": "markdown",
   "metadata": {},
   "source": [
    "<br>\n",
    "\n",
    "#### Funkce `bool`\n",
    "\n",
    "---\n",
    "\n",
    "Tato *zabudovaná funkce* Ti pomůže lépe pochopit práci s datovým typem `bool` a co je pravdivé či nikoliv.\n",
    "\n",
    "<br>\n",
    "\n",
    "Funguje jako nějaký **rozhodčí**, kterému zadáš **hodnotu** a funkce ji *ohodnotí*, jestli je **pravdivá** nebo **nepravdivá**."
   ]
  },
  {
   "cell_type": "code",
   "execution_count": null,
   "metadata": {},
   "outputs": [],
   "source": [
    "print(bool(1))"
   ]
  },
  {
   "cell_type": "code",
   "execution_count": null,
   "metadata": {},
   "outputs": [],
   "source": [
    "print(bool(0))"
   ]
  },
  {
   "cell_type": "markdown",
   "metadata": {},
   "source": [
    "<br>\n",
    "\n",
    "###### Funkce bool a jiné datové typy"
   ]
  },
  {
   "cell_type": "code",
   "execution_count": null,
   "metadata": {},
   "outputs": [],
   "source": [
    "help(print)"
   ]
  },
  {
   "cell_type": "code",
   "execution_count": null,
   "metadata": {},
   "outputs": [],
   "source": [
    "print(\n",
    "    bool(2),\n",
    "    bool(\"Matous\"),\n",
    "    bool(2.5),\n",
    "    bool([\"a\", \"b\"]),\n",
    "    sep=\"\\n\"  # nepovinný argument *sep* přepíše hodnotu oddělovače\n",
    ")"
   ]
  },
  {
   "cell_type": "code",
   "execution_count": null,
   "metadata": {},
   "outputs": [],
   "source": [
    "print(\n",
    "    bool(\"\"),\n",
    "    bool({}),\n",
    "    bool(set()),\n",
    "    bool(None),\n",
    "    sep=\"\\n\"\n",
    ")"
   ]
  },
  {
   "cell_type": "markdown",
   "metadata": {},
   "source": [
    "<br>\n",
    "\n",
    "`None` v Pythonu používáme pro označení **absence hodnoty** (*odkaz* nemá hodnotu). V jiných jazycích třeba `Null`, `NaN`.\n",
    "\n",
    "<br>\n",
    "\n",
    "###### Verdikt\n",
    "\n",
    "<br>\n",
    "\n",
    "| Hodnota | Vyhodnocení funkcí `bool`|\n",
    "|:-:|:-:|\n",
    "|`2`| `True` |\n",
    "|`\"Matous\"`| `True` |\n",
    "|`2.5`| `True`|\n",
    "|`[\"a\", \"b\"]`|`True`|\n",
    "|`\"\"`| `False`|\n",
    "|`{}`| `False`|\n",
    "|`set()`| `False`|\n",
    "|`None`| `False`|\n",
    "\n",
    "<br>\n",
    "\n",
    "Můžeš tedy prohlásit, že pokud použiješ **neprázdnou hodnotu** (`str`, `int`, `list`, aj), funkce `bool` vypíše hodnotu `True`.\n",
    "\n",
    "V opačném případě dostaneme `False`.\n",
    "\n",
    "<br>"
   ]
  },
  {
   "cell_type": "markdown",
   "metadata": {},
   "source": [
    "### Operace související s dat. typem bool\n",
    "\n",
    "1. Srovnávací operace,\n",
    "2. boolean operace,\n",
    "3. srovnávání identit objektů,\n",
    "4. membership testing.\n",
    "\n",
    "---\n",
    "\n",
    "<br>\n",
    "\n",
    "##### 1. Srovnávácí operace\n",
    "\n",
    "<br>\n",
    "\n",
    "| Operátor | Význam |\n",
    "|:-:|:-|\n",
    "| `<` | menší než |\n",
    "| `>` | větší než |\n",
    "| `<=` | menší nebo rovno |\n",
    "| `>=` | větší nebo rovno |\n",
    "| `==` | rovnost |\n",
    "| `!=` | nerovnost |"
   ]
  },
  {
   "cell_type": "code",
   "execution_count": null,
   "metadata": {},
   "outputs": [],
   "source": [
    "print(\n",
    "    bool(144 > 1),\n",
    "    bool(144 == 142),\n",
    "    bool(144 != 100),\n",
    "    sep=\"\\n\"\n",
    ")"
   ]
  },
  {
   "cell_type": "code",
   "execution_count": null,
   "metadata": {},
   "outputs": [],
   "source": [
    "print(\n",
    "    144 > 1,     # srovnávací operátory samy vrací..\n",
    "    144 == 142,  # .. bool hodnotu bez funkce bool()\n",
    "    144 != 100,\n",
    "    sep=\"\\n\"\n",
    ")"
   ]
  },
  {
   "cell_type": "markdown",
   "metadata": {},
   "source": [
    "<br>\n",
    "\n",
    "##### 2. Boolean operace\n",
    "\n",
    "<br>\n",
    "\n",
    "*Operátory* sloužící **ke spojování** několika *srovnání* nebo *výrazů* (*vypsané podle rostoucí důležitosti*):\n",
    "1. `or`\n",
    "2. `and`,\n",
    "3. `not`.\n",
    "\n",
    "<br>\n",
    "\n",
    "###### Operátor `and`"
   ]
  },
  {
   "cell_type": "code",
   "execution_count": null,
   "metadata": {},
   "outputs": [],
   "source": [
    "print(\n",
    "    bool(True and True),  # opět možnost nepoužít funkci bool()\n",
    "    bool(True and False),\n",
    "    bool(False and False),\n",
    "    bool(True and True and True),\n",
    "    bool(True and True and True and False),\n",
    "    sep=\"\\n\"\n",
    ")"
   ]
  },
  {
   "cell_type": "markdown",
   "metadata": {},
   "source": [
    "Pokud použiješ **boolean operátor** `and` a od jednotlivých výroků získáš byť jednu hodnotu `False`, **celý výsledek** bude **nepravdivý** (`False`).\n",
    "\n",
    "<br>\n",
    "\n",
    "Dále můžeš aplikovat princip tzv. *zkráceného vyhodnocování*. Pokud uvidíš jako první hodnotu `False` (a pracuji s operátorem `and`), nemusíš procházet dálší výrazy. Výsledek je `False`.\n",
    "\n",
    "<br>\n",
    "\n",
    "###### Operátor `or`"
   ]
  },
  {
   "cell_type": "code",
   "execution_count": null,
   "metadata": {},
   "outputs": [],
   "source": [
    "print(\n",
    "    bool(True or False),\n",
    "    bool(False or True),\n",
    "    bool(False or False),\n",
    "    bool(False or False or False),\n",
    "    bool(False or False or True),\n",
    "    bool(True or True),\n",
    "    sep=\"\\n\"\n",
    ")"
   ]
  },
  {
   "cell_type": "code",
   "execution_count": null,
   "metadata": {},
   "outputs": [],
   "source": [
    "print(bool(False and False or True))  # výsledek"
   ]
  },
  {
   "cell_type": "markdown",
   "metadata": {},
   "source": [
    "Pokud použiješ **boolean operátor** `or` a od jednotlivých výroků získáš byť jednu hodnotu `True`, **celý výsledek** bude **pravdivý** (`True`).\n",
    "\n",
    "<br>\n",
    "\n",
    "Opět lze použít princip **zrychleného vyhodnocování**. Tedy pokud funkce `bool` vrátí aspoň jednu hodnotu `True` (a pracuji s operátorem `or`), výsledek celého zápisu bude `True`.\n",
    "\n",
    "<br>\n",
    "\n",
    "###### Operátor `not`"
   ]
  },
  {
   "cell_type": "code",
   "execution_count": null,
   "metadata": {},
   "outputs": [],
   "source": [
    "print(\n",
    "    bool(not True),\n",
    "    bool(not False),\n",
    "    sep=\"\\n\"\n",
    ")"
   ]
  },
  {
   "cell_type": "markdown",
   "metadata": {},
   "source": [
    "Při použití operátoru `not` získáš obrácenou hodnotu.\n",
    "\n",
    "<br>\n",
    "\n",
    "Pokud potřebuješ **spojit** více porovnávání hodnot, můžeš je doplnit o *boolean operace*."
   ]
  },
  {
   "cell_type": "code",
   "execution_count": null,
   "metadata": {},
   "outputs": [],
   "source": [
    "print(1 < 5 and 5 > 10)"
   ]
  },
  {
   "cell_type": "markdown",
   "metadata": {},
   "source": [
    "Ovšem dávej pozor na **důležitosti jednotlivých operátorů**. Srovnávací operátory mají totiž vyšší prioritu než boolean operátory, proto dojde nejprve k jejich vyhodnocení.\n",
    "\n",
    "<br>\n",
    "\n",
    "Pro lepší názornost můžeš použít **kulaté závorky**."
   ]
  },
  {
   "cell_type": "markdown",
   "metadata": {},
   "source": [
    "Pokud potřebuješ **současně spojuješ** pomocí `and` a v obou výrazech je stejná hodnota, můžeš zápis zkrátit:"
   ]
  },
  {
   "cell_type": "code",
   "execution_count": null,
   "metadata": {},
   "outputs": [],
   "source": [
    "print(\n",
    "    1 < 5 and 5 > 10,  # původní zápis\n",
    "    1 < 5 > 10,        # zkrácený zápis\n",
    "    sep=\"\\n\"\n",
    ")"
   ]
  },
  {
   "cell_type": "markdown",
   "metadata": {},
   "source": [
    "<br>\n",
    "\n",
    "##### 3. Srovnání identit objektů\n",
    "\n",
    "<br>\n",
    "\n",
    "| Operátor | Význam |\n",
    "| :-: | :-: |\n",
    "| `is` | totožná identita |\n",
    "| `is not` | různá identita |\n",
    "\n",
    "<br>\n",
    "\n",
    "Každý objekt má svůj **identifikátor** (~číslo, poznávací značku).\n",
    "\n",
    "<br>\n",
    "\n",
    "Tento **identifikátor** můžeš vypsat pomocí *zabudované funkce* `id`:"
   ]
  },
  {
   "cell_type": "code",
   "execution_count": null,
   "metadata": {},
   "outputs": [],
   "source": [
    "jmeno_1 = \"Matous\"\n",
    "jmeno_2 = \"Lukas\"\n",
    "prijmeni_1 = \"Holinka\"\n",
    "prijmeni_2 = \"Holinka\""
   ]
  },
  {
   "cell_type": "code",
   "execution_count": null,
   "metadata": {},
   "outputs": [],
   "source": [
    "print(\n",
    "    \"Matous:\\t\" + str(id(jmeno_1)),\n",
    "    \"Lukas: \\t\" + str(id(jmeno_2)),\n",
    "    sep=\"\\n\"\n",
    ")"
   ]
  },
  {
   "cell_type": "code",
   "execution_count": null,
   "metadata": {},
   "outputs": [],
   "source": [
    "print(\n",
    "    \"Holinka: \" + str(id(prijmeni_1)),\n",
    "    \"Holinka: \" + str(id(prijmeni_2)),\n",
    "    sep=\"\\n\"\n",
    ")"
   ]
  },
  {
   "cell_type": "markdown",
   "metadata": {},
   "source": [
    "▶️ **pozn.** Jde o tzv. <a href=\"https://stackabuse.com/guide-to-string-interning-in-python/\" target=\"_blank\">*string interning*</a>, tedy koncept, který souvisí s tím, že je string **nezměnitelný datový typ**.\n",
    "\n",
    "<a href=\"https://imgur.com/mXZ8xXj\"><img src=\"https://i.imgur.com/mXZ8xXj.png\" title=\"source: imgur.com\" width=\"1000\" /></a>\n",
    "\n",
    "Dále *internování* znamená, že pokud vytvoříš **dva stejné stringy** `Holinka`, *interpret* zařídí, že **pouze jeden** se alokuje do paměti a druhý pouze ukazuje na stejné místo (číslo)."
   ]
  },
  {
   "cell_type": "code",
   "execution_count": null,
   "metadata": {},
   "outputs": [],
   "source": [
    "print(\n",
    "    bool(jmeno_1 is jmeno_2),       # False\n",
    "    bool(prijmeni_1 is prijmeni_2), # True\n",
    "    sep=\"\\n\"\n",
    ")"
   ]
  },
  {
   "cell_type": "markdown",
   "metadata": {},
   "source": [
    "<br>\n",
    "\n",
    "##### 4. Membership testing (~Ověření členství)\n",
    "\n",
    "Nejde o proces, který by přímo pracoval s `bool` hodnotami.\n",
    "\n",
    "<br>\n",
    "\n",
    "Ovšem právě `True` a `False` jsou hodnoty, které jsou **výsledkem toho procesu**.\n",
    "\n",
    "<br>\n"
   ]
  },
  {
   "cell_type": "code",
   "execution_count": null,
   "metadata": {},
   "outputs": [],
   "source": [
    "print(\n",
    "    \"m\" in \"Matous\",\n",
    "    bool(\"M\" in \"Matous\"),\n",
    "    sep=\"\\n\"\n",
    ")"
   ]
  },
  {
   "cell_type": "code",
   "execution_count": null,
   "metadata": {},
   "outputs": [],
   "source": [
    "print(\n",
    "    \"m\" in {\"a\", \"n\", \"c\"},\n",
    "    bool(\"M\" in (\"P\", \"Q\", \"M\")),\n",
    "    sep=\"\\n\"\n",
    ")"
   ]
  },
  {
   "cell_type": "code",
   "execution_count": null,
   "metadata": {},
   "outputs": [],
   "source": [
    "print(\n",
    "    \"Matous\" in {\"jmeno\": \"Matous\", \"prijmeni\": \"Holinka\"},\n",
    ")"
   ]
  },
  {
   "cell_type": "markdown",
   "metadata": {},
   "source": [
    "Opět si můžeš všimnout **rezervovaného slova** `in`, které je pro **membership testing** typické.\n",
    "\n",
    "V podstatě se ptáš, jestli je výraz **na levé straně** součásti výrazu **na pravé straně**.\n",
    "\n",
    "<br>\n",
    "\n",
    "**Ověření členství** je ve skutečnosti proces, který obecně zařazujeme mezi operace jako *indexing*, *slicing*, *striding*. Resp. operace, které můžeme provádět se **sekvencemi**.\n",
    "\n",
    "<br>\n",
    "\n",
    "#####  `is` nebo `==` ?\n",
    "\n",
    "<br>\n",
    "\n",
    "Opatrně na aplikaci operátorů porovnávání **identit** a **hodnot**:\n",
    "* `==` a `!=` **porovnávají hodnotu**,\n",
    "* `is` a `is not` porovnávají, jestli dvě proměnné ukazují v paměti počítače **na stejný objekt**."
   ]
  },
  {
   "cell_type": "code",
   "execution_count": null,
   "metadata": {},
   "outputs": [],
   "source": [
    "muj_seznam_1 = [1, 2, 3]\n",
    "muj_seznam_2 = [1, 2]"
   ]
  },
  {
   "cell_type": "code",
   "execution_count": null,
   "metadata": {},
   "outputs": [],
   "source": [
    "print(muj_seznam_1 == muj_seznam_2)  # [1, 2, 3] != [1, 2]"
   ]
  },
  {
   "cell_type": "code",
   "execution_count": null,
   "metadata": {},
   "outputs": [],
   "source": [
    "muj_seznam_3 = [1, 2, 3]\n",
    "muj_seznam_4 = [1, 2, 3]"
   ]
  },
  {
   "cell_type": "code",
   "execution_count": null,
   "metadata": {},
   "outputs": [],
   "source": [
    "print(muj_seznam_3 == muj_seznam_4)  # [1, 2, 3] == [1, 2, 3]"
   ]
  },
  {
   "cell_type": "code",
   "execution_count": null,
   "metadata": {},
   "outputs": [],
   "source": [
    "print(muj_seznam_3 is muj_seznam_4)  # ?"
   ]
  },
  {
   "cell_type": "code",
   "execution_count": null,
   "metadata": {},
   "outputs": [],
   "source": [
    "muj_seznam_5 = []\n",
    "muj_seznam_6 = []\n",
    "print(\n",
    "    id(muj_seznam_5),\n",
    "    id(muj_seznam_6),\n",
    "    sep=\"\\n\"\n",
    ")"
   ]
  },
  {
   "cell_type": "code",
   "execution_count": null,
   "metadata": {},
   "outputs": [],
   "source": [
    "print(\n",
    "    id(muj_seznam_3),\n",
    "    id(muj_seznam_4),\n",
    "    sep=\"\\n\"\n",
    ")"
   ]
  },
  {
   "cell_type": "markdown",
   "metadata": {},
   "source": [
    "<br>\n",
    "\n",
    "### Jednoduchý podmínkový zápis\n",
    "\n",
    "---\n",
    "\n",
    "**Podmínkový zápis** je proces, který budeš potřebovat, pokud budeš chtít, aby **tvůj skript** sám rozhodoval."
   ]
  },
  {
   "cell_type": "code",
   "execution_count": null,
   "metadata": {},
   "outputs": [],
   "source": [
    "jmeno = \"Matouš\"\n",
    "plnolety = True"
   ]
  },
  {
   "cell_type": "code",
   "execution_count": null,
   "metadata": {},
   "outputs": [],
   "source": [
    "if plnolety:\n",
    "    print(\"Uživatel\", jmeno, \"je plnoletý.\")\n",
    "else:\n",
    "    print(\"Uživatel\", jmeno, \"není plnoletý.\")"
   ]
  },
  {
   "cell_type": "markdown",
   "metadata": {},
   "source": [
    "<br>\n",
    "\n",
    "V Pythonu můžeš rozhodování zapsat pomocí tzv. *podmínkového zápisu*, který začíná rezervovaným výrazem `if`. Velikou výhodou oproti jiným programovacím jazykům, je možnost **nepsat kulaté závorky** (jak tomu je u *Javy*, *R* aj.).\n",
    "\n",
    "<br>\n",
    "\n",
    "##### Předpis s klíč. slovem `if`"
   ]
  },
  {
   "cell_type": "code",
   "execution_count": null,
   "metadata": {},
   "outputs": [],
   "source": [
    "if True:\n",
    "    print(\"Ahoj, Matouši!\")\n",
    "print(\"Pokračuji..\")"
   ]
  },
  {
   "cell_type": "code",
   "execution_count": null,
   "metadata": {},
   "outputs": [],
   "source": [
    "if False:\n",
    "    print(\"Ahoj, Matouši!\")\n",
    "print(\"Pokračuji..\")"
   ]
  },
  {
   "cell_type": "markdown",
   "metadata": {},
   "source": [
    "Zápis se skládá z:\n",
    "1. `if`, klíčové slovo pro předpis podmínky,\n",
    "2. `True`, výraz nebo proměnná (`bool(...)`),\n",
    "3. `:`, řádek ukončený dvojtečkou,\n",
    "4. `print(...)`odsazený následující řádek.\n",
    "\n",
    "<br>\n",
    "\n",
    "*Interpret* se podívá na **výraz** (v záhlaví) a pokud jej vyhodnotí **jako pravdivý** (`True`), **provede odsazený řádek** pod předpisem.\n",
    "\n",
    "**Odsazení** provedeš pomocí 4 mezer (nebo 1 tabulátor). Odsazení musíš používat konzistentně v celém skriptu, jinak nastane `IndentationError`.\n",
    "\n",
    "Pokud *výraz* vyhodnotí **jako nepravdivý** (`False`), **přeskočí odsazený řádek** pod předpisem.\n",
    "\n",
    "<br>\n",
    "\n",
    "##### Předpis `if` / `else`"
   ]
  },
  {
   "cell_type": "code",
   "execution_count": null,
   "metadata": {},
   "outputs": [],
   "source": [
    "plnolety = False\n",
    "\n",
    "if plnolety:\n",
    "    print(\"Uživatel\", jmeno, \"je plnoletý.\")\n",
    "else:\n",
    "    print(\"Uživatel\", jmeno, \"není plnoletý.\")"
   ]
  },
  {
   "cell_type": "markdown",
   "metadata": {},
   "source": [
    "Zápis se nyní skládá z:\n",
    "1. `if`, klíčové slovo pro **předpis podmínky**,\n",
    "2. `plnolety`, **výraz**,\n",
    "3. `:`, řádek **ukončený dvojtečkou**,\n",
    "4. `print(...)` odsazený následující řádek, který nastane pokud je podmínka **pravdivá**,\n",
    "5. `else`, klíčové slovo, pokud výraz pro větev v případě, že je výraz **nepravdivý**,\n",
    "6. `:`, řádek **ukončený dvojtečkou**,\n",
    "7. `print(...)` odsazený **následující řádek**.\n",
    "\n",
    "<br>\n",
    "\n",
    "*Interpret* se podívá na **podmínku** (`plnolety = False`) a vyhodnotí ji **jako pravdivou**. Tedy přeskočí první odsazenou funkci `print` a pokračuje pod větví `else`.\n",
    "\n",
    "<br>\n",
    "\n",
    "Jednoduchý podmínkový zápis můžeš ale potkat také **v nestované podobě**:"
   ]
  },
  {
   "cell_type": "code",
   "execution_count": null,
   "metadata": {},
   "outputs": [],
   "source": [
    "jmeno = \"Matouš\"\n",
    "dospely = True\n",
    "uzivatel = True\n",
    "\n",
    "if uzivatel:\n",
    "    if dospely:\n",
    "        print(\"Ahoj,\", jmeno, \"tady je naše kompletní nabídka.\")\n",
    "    else:\n",
    "        print(\"Ahoj,\", jmeno, \"tady je naše nabídka pro mladistvé.\")\n",
    "else:\n",
    "    if dospely:\n",
    "        print(\"Ahoj, neregistrovaný uživateli, tady je naše kompletní nabídka.\")\n",
    "    else:\n",
    "        print(\"Ahoj, neregistrovaný uživateli, tady je naše nabídka pro mladistvé.\")"
   ]
  },
  {
   "cell_type": "markdown",
   "metadata": {},
   "source": [
    "##### Předpis if / elif / else"
   ]
  },
  {
   "cell_type": "markdown",
   "metadata": {},
   "source": [
    "Předchozí zápis ale není **ani přehledný**, **ani šikovný** (zejména kvůli nadbytečnému *nestování*).\n",
    "\n",
    "Můžeš totiž často kombinovat některé podmínky pomocí boolean operátorů `and`, `or` a `not`.\n",
    "\n",
    "K tomu však potřebuješ další podmínkovou větev, kterou dostaneš kombinací `else if`, tedy `elif`:"
   ]
  },
  {
   "cell_type": "code",
   "execution_count": null,
   "metadata": {},
   "outputs": [],
   "source": [
    "jmeno = \"Matouš\"\n",
    "dospely = False\n",
    "uzivatel = False"
   ]
  },
  {
   "cell_type": "code",
   "execution_count": null,
   "metadata": {},
   "outputs": [],
   "source": [
    "if uzivatel and dospely:\n",
    "    print(\"Ahoj,\", jmeno, \"tady je naše kompletní nabídka.\")\n",
    "elif uzivatel and not dospely:\n",
    "    print(\"Ahoj,\", jmeno, \"tady je naše nabídka pro mladistvé.\")\n",
    "elif not uzivatel and dospely:\n",
    "    print(\"Ahoj, neregistrovaný uživateli, tady je naše kompletní nabídka.\")\n",
    "else:\n",
    "    print(\"Ahoj, neregistrovaný uživateli, tady je naše nabídka pro mladistvé.\")"
   ]
  },
  {
   "cell_type": "markdown",
   "metadata": {},
   "source": [
    "Zápis se nyní skládá z:\n",
    "1. `if`, klíčové slovo pro **předpis podmínky**,\n",
    "2. `uzivatel == \"Matouš\"`, výrazu,\n",
    "3. `:`, řádek **ukončený dvojtečkou**,\n",
    "4. `print(...)` odsazený následující řádek, který se interpretuje pokud je podmínka u `if` **pravdivá**,\n",
    "5. `elif`, klíčové slovo, pokud je větev `if` **nepravdivá**, zkontroluj tuto větev,\n",
    "6. `:`, řádek ukončený **dvojtečkou**,\n",
    "7. `elif`, ...,\n",
    "8. `:`, ...,\n",
    "9. `print(...)` ...,\n",
    "10. `else`, klíčové slovo, proveď automaticky tuto větev, pokud byly předchozí podmínky **nepravdivé**.\n"
   ]
  },
  {
   "cell_type": "markdown",
   "metadata": {},
   "source": [
    "<br>\n",
    "\n",
    "### Rozvinutý podmínkový zápis\n",
    "\n",
    "---\n",
    "\n",
    "Podmínkový zápis ale není jen obyčejné `if`, `elif` a `else`.\n",
    "\n",
    "<br>\n",
    "\n",
    "Záleží na okolnostech a možných scénářích, ale pomocí operátorů můžeš zápis ještě **rozšířit**."
   ]
  },
  {
   "cell_type": "code",
   "execution_count": null,
   "metadata": {},
   "outputs": [],
   "source": [
    "jmeno = \"Lukas\"\n",
    "je_zdravy = False"
   ]
  },
  {
   "cell_type": "code",
   "execution_count": null,
   "metadata": {},
   "outputs": [],
   "source": [
    "if jmeno == \"Matous\" and je_zdravy:\n",
    "    zprava = \"Ahoj, Matousi! Tak at te zdravi neopousti!\"\n",
    "    \n",
    "elif jmeno == \"Lukas\" and je_zdravy:\n",
    "    zprava = \"Ahoj, Lukasi! Tak at te zdravi neopousti!\"\n",
    "\n",
    "elif jmeno == \"Matous\" and not je_zdravy:\n",
    "    zprava = \"Ahoj, Matousi! Hlavne se brzy uzdrav!\"\n",
    "    \n",
    "elif jmeno == \"Lukas\" and not je_zdravy:\n",
    "    zprava = \"Ahoj, Lukasi! Hlavne se brzy uzdrav!\"\n",
    "\n",
    "else:\n",
    "    zprava = \"Ahoj, vsem ostatnim!\""
   ]
  },
  {
   "cell_type": "code",
   "execution_count": null,
   "metadata": {},
   "outputs": [],
   "source": [
    "print(zprava)"
   ]
  },
  {
   "cell_type": "markdown",
   "metadata": {},
   "source": [
    "<br>\n",
    "\n",
    "### Ternární operátor\n",
    "\n",
    "---\n",
    "V Pythonu 2.5 byl přidán jednořádkový zápis pro jednoduchou podmínku `if/else`. Jde o **pokročilejší variantu** zápisu podmínky:\n",
    "\n",
    "```python\n",
    "<proveď_toto> if <pokud_platí_toto> else <jinak_proveď_toto>\n",
    "```"
   ]
  },
  {
   "cell_type": "code",
   "execution_count": null,
   "metadata": {},
   "outputs": [],
   "source": [
    "vek = 15\n",
    "\n",
    "# if vek >= 18:\n",
    "#     print(\"Dospělý\")\n",
    "# else:\n",
    "#     print(\"Mladiství\")\n",
    "\n",
    "print(\"Dospělý\") if vek >= 18 else print(\"Mladiství\")"
   ]
  },
  {
   "cell_type": "code",
   "execution_count": null,
   "metadata": {},
   "outputs": [],
   "source": [
    "vek = 15\n",
    "\n",
    "stav = \"Dospělý\" if vek >= 18 else \"Mladiství\""
   ]
  },
  {
   "cell_type": "code",
   "execution_count": null,
   "metadata": {},
   "outputs": [],
   "source": [
    "print(stav)"
   ]
  },
  {
   "cell_type": "markdown",
   "metadata": {},
   "source": [
    "<br>\n",
    "\n",
    "### Domácí úkol\n",
    "\n",
    "---\n",
    "\n",
    "Vytvoř takový podmínkový zápis, který bude reagovat na nesprávně zadaná hesla (viz. příklad níže):"
   ]
  },
  {
   "cell_type": "code",
   "execution_count": null,
   "metadata": {},
   "outputs": [],
   "source": [
    "heslo_0 = \"\"            # FAIL -> \"Vynechal jsi pole s heslem!\"\n",
    "heslo_1 = \"1panpes738\"  # FAIL -> \"Heslo nesmí začínat číselným znakem\"\n",
    "heslo_2 = \"panpessss\"   # FAIL -> \"Heslo musí obsahovat jak číselné znaky, tak písmena\"\n",
    "heslo_3 = \"123456\"      # FAIL -> \"Heslo nesmí začínat číselným znakem\"\n",
    "heslo_4 = \"aa1234\"      # FAIL -> \"Heslo musí být alespoň 8 znaků dlouhé\"\n",
    "heslo_5 = \"p@npes7778\"  # FAIL -> \"Heslo nesmí obsahovat @\"\n",
    "heslo_6 = \"panpes7778\"  # PASS -> \"Heslo je v pořádku\""
   ]
  },
  {
   "cell_type": "code",
   "execution_count": null,
   "metadata": {},
   "outputs": [],
   "source": [
    "heslo = heslo_6"
   ]
  },
  {
   "cell_type": "code",
   "execution_count": null,
   "metadata": {},
   "outputs": [],
   "source": [
    "# not heslo.isalpha() and not heslo.isnumeric()"
   ]
  },
  {
   "cell_type": "code",
   "execution_count": null,
   "metadata": {},
   "outputs": [],
   "source": [
    "# Řešení úlohy 3\n",
    "\n",
    "if not heslo:\n",
    "    print(\"Vynechal jsi pole s heslem!\")\n",
    "elif heslo[0].isdigit():  # isnumeric > isdigit > isdecimal\n",
    "    print(\"Heslo nesmí začínat číselným znakem\")\n",
    "elif heslo.isalpha() or heslo.isnumeric():\n",
    "    print(\"Heslo musí obsahovat jak číselné znaky, tak písmena\")\n",
    "elif len(heslo) <= 8:\n",
    "    print(\"Heslo musí být alespoň 8 znaků dlouhé\")\n",
    "elif \"@\" in heslo:\n",
    "    print(\"Heslo nesmí obsahovat '@'\")\n",
    "else:\n",
    "    print(\"Heslo je v pořádku\")"
   ]
  },
  {
   "cell_type": "markdown",
   "metadata": {},
   "source": [
    "---"
   ]
  }
 ],
 "metadata": {
  "kernelspec": {
   "display_name": "Python 3",
   "language": "python",
   "name": "python3"
  },
  "language_info": {
   "codemirror_mode": {
    "name": "ipython",
    "version": 3
   },
   "file_extension": ".py",
   "mimetype": "text/x-python",
   "name": "python",
   "nbconvert_exporter": "python",
   "pygments_lexer": "ipython3",
   "version": "3.8.6"
  }
 },
 "nbformat": 4,
 "nbformat_minor": 4
}
