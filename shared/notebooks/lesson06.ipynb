{
 "cells": [
  {
   "cell_type": "markdown",
   "metadata": {},
   "source": [
    "### Úvod\n",
    "\n",
    "---\n",
    "\n",
    "1. [Obecně k funkcím v Pythonu](#Obecně-k-funkcím-v-Pythonu),\n",
    "2. [uživatelské funkce](#Uživatelské-funkce),\n",
    "3. [vstupy funkcí](#Vstupy-funkcí),\n",
    "4. [dokumentace funkcí](#Dokumentace-funkcí),\n",
    "5. [co je \\_\\_name\\_\\_](#Co-je-__name__),\n",
    "6. [domácí úkol](#Domácí-úkol).\n",
    "\n",
    "<br>\n",
    "\n",
    "<img src=\"https://external-content.duckduckgo.com/iu/?u=https%3A%2F%2Ftse4.mm.bing.net%2Fth%3Fid%3DOIP.-6PZmYfAfN6QP5-MjLBYmwHaHa%26pid%3DApi&f=1\" width=\"200\">\n",
    "\n",
    "### Obecně k funkcím v Pythonu\n",
    "\n",
    "---\n",
    "\n",
    "V Pythonu už některé funkce znáš a umíš je používat.\n",
    "\n",
    "Třeba funkce `print` a `enumerate`. To ale nejsou jedinné funkce, které můžeš používat."
   ]
  },
  {
   "cell_type": "code",
   "execution_count": null,
   "metadata": {},
   "outputs": [],
   "source": [
    "print(\"Praha\", \"Brno\", \"Ostrava\")"
   ]
  },
  {
   "cell_type": "code",
   "execution_count": null,
   "metadata": {},
   "outputs": [],
   "source": [
    "print(tuple(enumerate((\"Praha\", \"Brno\", \"Ostrava\"))))"
   ]
  },
  {
   "cell_type": "markdown",
   "metadata": {},
   "source": [
    "Obecné rozdělení funkcí v Pythonu:\n",
    "1. **Zabudované funkce**, (z angl. *built-in functions*), tedy `str`, `int`, `bool`, aj. ,\n",
    "2. **Uživatelské funkce**, (z angl. *user-defined functions*), klíčové slovo `def`.\n",
    "\n",
    "\n",
    "Největší rozdíl mezi **zabudovanými** a **uživatelskými funkcemi** je v tom, že *zabudované funkce* stačí **spustit pomocí jejich jména**.\n",
    "\n",
    "Zatímco *uživatelskou funkci* je nejprve nutné **definovat** (vytvořit) a teprve poté **použít** (spustit)."
   ]
  },
  {
   "cell_type": "markdown",
   "metadata": {},
   "source": [
    "<br>\n",
    "\n",
    "#### Zabudované funkce\n",
    "\n",
    "Tyto funkce jsou velkými pomocníky, protože ti umožní zjednodušit různé procesy.\n",
    "\n",
    "Navíc můžeš jejich použití **doplnit volitelnými argumenty**.\n",
    "\n",
    "*Volitelný argument* je objekt, který můžeš (ale nemusíš) zadávat.\n",
    "\n",
    "Funkce umí pracovat bez něj, případně má dopředu nachystanou nějakou **počáteční hodnotu**."
   ]
  },
  {
   "cell_type": "code",
   "execution_count": null,
   "metadata": {},
   "outputs": [],
   "source": [
    "print(\"Matous\", \"Marek\", \"Lukas\")"
   ]
  },
  {
   "cell_type": "markdown",
   "metadata": {},
   "source": [
    "Pokud funkci `print` napíšeš **bez argumentů**, s několika různými hodnotami za sebou, tvůj výstup se seřadí za sebe.\n",
    "\n",
    "Zobraz si nápovědu pomocí ohlášení `print(help(print))`:"
   ]
  },
  {
   "cell_type": "code",
   "execution_count": null,
   "metadata": {},
   "outputs": [],
   "source": [
    "help(print)"
   ]
  },
  {
   "cell_type": "markdown",
   "metadata": {},
   "source": [
    "Všimni si, že **argument** `sep` má přednastavenou defaultní hodnotu – mezeru.\n",
    "\n",
    "Proto jsou jednotlivé hodnoty řazené s mezerou za sebou.\n",
    "\n",
    "\n",
    "Tuto hodnotu můžeš přepsat podle svých potřeb. Například vypsat jednotlivé hodnoty **pod sebe** pomocí speciálního znaku `\\n`:"
   ]
  },
  {
   "cell_type": "code",
   "execution_count": null,
   "metadata": {},
   "outputs": [],
   "source": [
    "print(\"Matous\", \"Marek\", \"Lukas\", sep=\"\\n\")  # volitelný (také nepovinný) argument 'sep'"
   ]
  },
  {
   "cell_type": "markdown",
   "metadata": {},
   "source": [
    "**Argumenty** můžeš používat téměř u všech **zabudovaných funkcí**.\n",
    "\n",
    "Proto pokud budeš potřebovat pracovat s **zabudovanými funkcemi** vždy zkontroluj, jestli neobsahují nějaký nepovinný argument, který ti pomůže.\n"
   ]
  },
  {
   "cell_type": "code",
   "execution_count": null,
   "metadata": {},
   "outputs": [],
   "source": [
    "# help(enumerate)"
   ]
  },
  {
   "cell_type": "code",
   "execution_count": null,
   "metadata": {},
   "outputs": [],
   "source": [
    "jmena = (\"Matous\", \"Marek\", \"Lukas\")\n",
    "\n",
    "tuple(enumerate(jmena, start=3))"
   ]
  },
  {
   "cell_type": "markdown",
   "metadata": {},
   "source": [
    "<br>\n",
    "\n",
    "<img src=\"https://external-content.duckduckgo.com/iu/?u=https%3A%2F%2Ftse1.mm.bing.net%2Fth%3Fid%3DOIP.SdA4GDooZXTMbDZDgDA6aQAAAA%26pid%3DApi&f=1\" width=\"200\">\n",
    "\n",
    "### Uživatelské funkce\n",
    "\n",
    "---\n",
    "\n",
    "#### Úvod k definovaným funkcím"
   ]
  },
  {
   "cell_type": "markdown",
   "metadata": {},
   "source": [
    "Pokud jsou tedy **zabudované funkce** takovými pomocníky, proč je potřeba mít ještě **uživatelem definované funkce**?\n",
    "\n",
    "\n",
    "Můžeš se dostat do situace, kdy žádná z nabízených *zabudovaných funkcí* nedělá přesně to, co potřebuješ.\n",
    "\n",
    "V takovém případě potřebuješ vytvořit vlastní funkci, která ti bude umět pomoct.\n",
    "\n",
    "<br>\n",
    "\n",
    "Tvůj úkol je napsat proces, který sečte **všechny číselné hodnoty** uvnitř sekvence.\n"
   ]
  },
  {
   "cell_type": "code",
   "execution_count": null,
   "metadata": {},
   "outputs": [],
   "source": [
    "ciselna_rada = (1, 2, 3, 4)\n",
    "\n",
    "print(sum(ciselna_rada))"
   ]
  },
  {
   "cell_type": "markdown",
   "metadata": {},
   "source": [
    "Pomocí zabudované funkce `sum` to není žádný problém.\n",
    "\n",
    "\n",
    "Co když sekvence obsahuje **neočekávaný datový typ**:"
   ]
  },
  {
   "cell_type": "code",
   "execution_count": null,
   "metadata": {},
   "outputs": [],
   "source": [
    "ciselna_rada = (1, 2, 3, \"a\", 4)\n",
    "\n",
    "soucet_cisel = 0\n",
    "\n",
    "for cislo in ciselna_rada:\n",
    "    if isinstance(cislo, str) and not cislo.isnumeric():\n",
    "        continue\n",
    "    soucet_cisel = soucet_cisel + int(cislo)\n",
    "else:\n",
    "    print(soucet_cisel)"
   ]
  },
  {
   "cell_type": "markdown",
   "metadata": {},
   "source": [
    "Co když dostaneš **pět různých sekvencí**?\n",
    "\n",
    "Můžeš samozřejmě přepsat zápis pro každou sekvenci zvlášť.\n",
    "\n",
    "Ale co když těch sekvencí bude **100**, **10 000**?\n",
    "\n",
    "Právě proto existují **uživatelské funkce**, kterou stačí **jedenkrát definovat** a následně spouštět kolikrát potřebuješ:"
   ]
  },
  {
   "cell_type": "code",
   "execution_count": null,
   "metadata": {},
   "outputs": [],
   "source": [
    "ciselna_r_1 = (1, 2, 3, \"a\")\n",
    "ciselna_r_2 = (1, 2, 3, 4)\n",
    "ciselna_r_3 = (5, 6, 7, 8)\n",
    "ciselna_r_4 = (9, 10, 11, 12)\n",
    "\n",
    "\n",
    "# Zatím neznámá syntaxe\n",
    "def secti_vsechny_cisla(sekvence):\n",
    "    soucet_cisel = 0\n",
    "\n",
    "    for cislo in sekvence:\n",
    "        if isinstance(cislo, str) and not cislo.isnumeric():\n",
    "            continue\n",
    "        soucet_cisel = soucet_cisel + int(cislo)\n",
    "    else:\n",
    "        print(soucet_cisel)\n",
    "\n",
    "\n",
    "secti_vsechny_cisla(ciselna_r_1)\n",
    "secti_vsechny_cisla(ciselna_r_2)\n",
    "secti_vsechny_cisla(ciselna_r_3)\n",
    "secti_vsechny_cisla(ciselna_r_4)"
   ]
  },
  {
   "cell_type": "markdown",
   "metadata": {},
   "source": [
    "Ukázku výše nemusíš nyní chápat. Je tu hlavně pro ilustraci, jak je důležité mít uživatelské funkce."
   ]
  },
  {
   "cell_type": "markdown",
   "metadata": {},
   "source": [
    "#### Předpis funkcí\n",
    "\n",
    "---\n",
    "\n",
    "Jak tedy *uživatelskou funkci* správně používat?\n",
    "\n",
    "Z jakých kroků se správné použití skládá?\n",
    "\n",
    "Nejprve musíš funkci **definovat** (vytvořit) a potom ji můžeš začít **spouštět**.\n",
    "\n",
    "Pořadí je **důležité**! Takže nemůžeš spouštět takovou uživatelskou funkci, kterou **prvně nedefinuješ**.\n"
   ]
  },
  {
   "cell_type": "code",
   "execution_count": null,
   "metadata": {},
   "outputs": [],
   "source": [
    "# Předpis funkce a parametry funkce\n",
    "def scitej_dve_hodnoty(cislo_1, cislo_2):\n",
    "    # VOLITELNÉ: dokumentace funkce\n",
    "    \"\"\"Vraci soucet dvou hodnot uvnitr parametru.\"\"\"\n",
    "    \n",
    "    # VOLITELNÉ: vracené hodnoty\n",
    "    return cislo_1 + cislo_2"
   ]
  },
  {
   "cell_type": "markdown",
   "metadata": {},
   "source": [
    "Pokud si předchozí ukázku spustíš, nic se nestane. Je to kvůli tomu, že funkci **pouze** definuješ a nespouštíš.\n",
    "\n",
    "<br>\n",
    "\n",
    "V příkladu si můžeš všimnout těchto **charakteristických rysů** pro uživatelskou funkci:\n",
    "1. `def` je *klíčový výraz* označující předpis (definici) funkce,\n",
    "2. `scitej_dve_hodnoty` je tvoje označení funkce, díky kterému můžeš funkci později spustit (ideálně má představovat účel funkce),\n",
    "3. `(cislo_1, cislo_2)` v kulaté závorce jsou umístěné **parametry** funkce. Tedy proměnné, se kterými chceš, aby funkce pracovala.\n",
    "4. `:` předpisový řádek musí být ukončený dvojtečkou (jako u podmínkových zápisů, cyklů, aj.),\n",
    "5. `\"\"\"Vraci soucet dvou ..\"\"\"` na odsazeném řádku následuje *docstring*, tedy bližší popis účelu funkce (zejména pokud jméno nedostačuje),\n",
    "6. `return` ohlášení z funkce vrací žádané hodnoty (nemusí být součástí funkce vždy)."
   ]
  },
  {
   "cell_type": "markdown",
   "metadata": {},
   "source": [
    "#### Spuštění funkcí\n",
    "\n",
    "---\n",
    "\n",
    "Takže pokud máš funkci definovanou, můžeš ji spouštět kolikrát chceš a kde chceš (samozřejmě potom, co ji definuješ)."
   ]
  },
  {
   "cell_type": "code",
   "execution_count": null,
   "metadata": {},
   "outputs": [],
   "source": [
    "# Původní definice funkce\n",
    "# def scitej_dve_hodnoty(cislo_1, cislo_2):\n",
    "#     \"\"\"Vraci soucet dvou hodnot uvnitr parametru.\"\"\"\n",
    "#     return cislo_1 + cislo_2\n",
    "\n",
    "# Spuštění funkce\n",
    "soucet_1 = scitej_dve_hodnoty(1, 14)\n",
    "soucet_2 = scitej_dve_hodnoty(2, 8)\n",
    "\n",
    "print(soucet_1, soucet_2, sep=\"\\n\")"
   ]
  },
  {
   "cell_type": "code",
   "execution_count": null,
   "metadata": {},
   "outputs": [],
   "source": [
    "vysledek = scitej_dve_hodnoty(2, 3)"
   ]
  },
  {
   "cell_type": "markdown",
   "metadata": {},
   "source": [
    "Pár detailů pro spuštění funkcí:\n",
    "1. Funkci *spouštíš* přes její **jméno a kulaté závorky**. Do těchto závorek musíš zapsat skutečné hodnoty, tedy **argumenty**, které si funkce doplní za parametry z definice. Dále si všimni, že počet argumentů (ze spouštění), odpovídá počtu parametrů (ze zadání),\n",
    "2. Protože funkce obsahuje ohlášení `return` bude vracet hodnotu (součet). Tuto hodnotu si musíš schovat do proměnné (`soucet_1`, `soucet_2`). Pokud to neuděláš, o součet **přijdeš**."
   ]
  },
  {
   "cell_type": "code",
   "execution_count": null,
   "metadata": {},
   "outputs": [],
   "source": [
    "# type hints ~ našeptávání datových typů\n",
    "def scitej_dve_hodnoty(cislo_1: int, cislo_2: int) -> int:\n",
    "    \"\"\"Vraci soucet dvou hodnot uvnitr parametru.\"\"\"\n",
    "    return cislo_1 + cislo_2\n",
    "\n",
    "scitej_dve_hodnoty(\"a\", \"a\")"
   ]
  },
  {
   "cell_type": "markdown",
   "metadata": {},
   "source": [
    "<br>\n",
    "\n",
    "<img src=\"https://external-content.duckduckgo.com/iu/?u=https%3A%2F%2Ftse4.mm.bing.net%2Fth%3Fid%3DOIP.8xc1q9ugaYbcV9Iu5UvRnwHaHa%26pid%3DApi&f=1\" width=\"200\">\n",
    "\n",
    "### Vstupy funkcí\n",
    "\n",
    "---\n"
   ]
  },
  {
   "cell_type": "markdown",
   "metadata": {},
   "source": [
    "Obecně funkce pracuje se **vstupy**.\n",
    "\n",
    "Tento pojem souhrnně označuje nejen *parametry*, ale také *argumenty*.\n",
    "\n",
    "<br>\n",
    "\n",
    "Rozdíl mezi nimi je následující:\n",
    "- **parametry** slouží jako obecné proměnné při definici, \n",
    "- **argumenty** jsou konkrétní hodnoty, které vkládáš při spouštění.\n",
    "\n",
    "<br>\n",
    "\n",
    "Prohlédni si ukázku:"
   ]
  },
  {
   "cell_type": "code",
   "execution_count": null,
   "metadata": {},
   "outputs": [],
   "source": [
    "def spoj_cele_jmeno(jmeno, prijmeni):\n",
    "    \"\"\"\n",
    "    Spoj zformatovane hodnoty v parametrech.\n",
    "\n",
    "    Priklad:\n",
    "    >>> formatuj_cele_jmeno(\"Petr\", \"Svetr\")\n",
    "    p.svetr\n",
    "    \"\"\"\n",
    "    return \".\".join(\n",
    "        (\n",
    "            jmeno[0].lower(),\n",
    "            prijmeni.lower()\n",
    "        )\n",
    "    )\n",
    "\n",
    "print(spoj_cele_jmeno(\"Adam\", \"Novak\"))"
   ]
  },
  {
   "cell_type": "markdown",
   "metadata": {},
   "source": [
    "<br>\n",
    "\n",
    "<img src=\"http://mathinsight.org/media/image/image/function_machine.png\" width=\"400\">\n",
    "\n",
    "### Vstupy funkcí\n",
    "\n",
    "---\n",
    "\n",
    "Obecně můžeš říct, že funkce pracuje s nějakými **vstupními hodnotami** (~vstupy).\n",
    "\n",
    "<br>\n",
    "\n",
    "Tento pojem souhrnně označuje nejen *parametry*, ale také *argumenty*.\n",
    "\n",
    "<br>\n",
    "\n",
    "Rozdíl mezi nimi:\n",
    "* **Parametry** slouží jako obecné proměnné při definici,\n",
    "* **argumenty** jsou konkrétní hodnoty, které vkládáš při spouštění."
   ]
  },
  {
   "cell_type": "code",
   "execution_count": null,
   "metadata": {},
   "outputs": [],
   "source": [
    "def ziskej_zpravu_z_logu(zaznam):\n",
    "    \"\"\"\n",
    "    Ze zadaneho stringu vrat pouze jeho cast se zpravou.\n",
    "\n",
    "    Priklad:\n",
    "    >>> ziskej_zpravu_z_logu(\n",
    "    ...     \"2006-02-08 22:20:02,165: 192.168.0.1: fbloggs: Protocol problem: connection reset\")\n",
    "    ... )\n",
    "    [' Protocol problem', ' connection reset']\n",
    "    \"\"\"\n",
    "    return zaznam.split(\":\")[-2:]"
   ]
  },
  {
   "cell_type": "code",
   "execution_count": null,
   "metadata": {},
   "outputs": [],
   "source": [
    "print(ziskej_zpravu_z_logu(\n",
    "    \"2006-02-08 22:20:02,165: 192.168.0.1: fbloggs: Protocol problem: connection reset\")\n",
    ")"
   ]
  },
  {
   "cell_type": "markdown",
   "metadata": {},
   "source": [
    "**poznámka** Co je tedy **parametr** a co **argument** v ukázce výše?\n",
    "\n",
    "\n",
    "#### Více variant zápisu vstupů\n",
    "\n",
    "---\n",
    "\n",
    "*Vstupy* pro funkce můžeš zapsat **více způsoby**.\n",
    "\n",
    "<br>\n",
    "\n",
    "Důvod je prostý, každá *uživatelská funkce* má trochu jiný účel.\n",
    "\n",
    "\n",
    "Seznam všech dostupných variant:\n",
    "1. **poziční** parametry (argumenty),\n",
    "2. **klíčové** argumenty,\n",
    "3. **defaultní** parametry,\n",
    "4. **position-only** parametry,\n",
    "5. **\\*args**,\n",
    "6. **\\*\\*kwargs**."
   ]
  },
  {
   "cell_type": "markdown",
   "metadata": {},
   "source": [
    "#### Poziční parametry\n",
    "\n",
    "---\n",
    "\n",
    "Ze jména je patrné, že v této variantě záleží **na pozici** (tedy *pořadí*), ve kterém **parametry** (i *argumenty*) zapíšeš:"
   ]
  },
  {
   "cell_type": "code",
   "execution_count": null,
   "metadata": {},
   "outputs": [],
   "source": [
    "def uloz_informace(jmeno, prijmeni, telefon):\n",
    "    return {\n",
    "        \"jmeno\": jmeno,\n",
    "        \"prijmeni\": prijmeni,\n",
    "        \"telefon\": telefon\n",
    "}"
   ]
  },
  {
   "cell_type": "code",
   "execution_count": null,
   "metadata": {},
   "outputs": [],
   "source": [
    "print(uloz_informace(\"Matouš\", \"Holinka\", \"+420 777 666 555\"))"
   ]
  },
  {
   "cell_type": "markdown",
   "metadata": {},
   "source": [
    "V ukázce vidíš, že *parametry* jsou uspořádané **za sebou** a jednotlivé *argumenty* jsou zapsané v odpovídajícím pořadí.\n",
    "\n",
    "| Pozice |\tParametr |\tArgument |\n",
    "| :-: | :-: | :-: |\n",
    "| 1\t| jmeno\t| \"Matouš\" |\n",
    "| 2 | prijmeni\t| \"Holinka\" |\n",
    "| 3\t| telefon\t| \"+420 777 666 555\" |\n",
    "\n",
    "Současně jde o jednu **z nejpoužívanějších** a **nejznámějších variant**, takže pokud není komplikované pochopit, jaký *argument* patří do jakého *parametru*, budeš chtít zapsat vstupy touto formou."
   ]
  },
  {
   "cell_type": "markdown",
   "metadata": {},
   "source": [
    "#### Klíčové argumenty\n",
    "\n",
    "---\n",
    "\n",
    "Zapisování podle *pozice* nemusí být ale **vždy přehledné**.\n",
    "\n",
    "Třeba pokud jsou všechny tři parametry **stejného datového typu** (`int`) a ještě jsou **samotné hodnoty podobné**."
   ]
  },
  {
   "cell_type": "code",
   "execution_count": null,
   "metadata": {},
   "outputs": [],
   "source": [
    "def vypocitej_hodnotu(k1, k2, k3):\n",
    "    \"\"\"\n",
    "    Vypocitej hodnotu na zaklade tri zadanych koeficinetu.\n",
    "    \"\"\"\n",
    "    return (1 / k1) * (k2 ** k3)"
   ]
  },
  {
   "cell_type": "code",
   "execution_count": null,
   "metadata": {},
   "outputs": [],
   "source": [
    "print(vypocitej_hodnotu(1, 2, 4))"
   ]
  },
  {
   "cell_type": "markdown",
   "metadata": {},
   "source": [
    "V ukázce je definice funkce `vypocitej_hodnotu` s parametry představující *koeficienty rovnice*.\n",
    "\n",
    "Ve všech třech parametrech se počítá **s číselnou hodnotu**.\n",
    "\n",
    "<br>\n",
    "\n",
    "Jejich umístění ve vzorečku **je zásadní**, jinak dostaneš odlišné výsledky.\n",
    "\n",
    "Právě v takovém případě je velice příhodné **přiřadit jednotlivé hodnoty explicitně k příslušným parametrům**:"
   ]
  },
  {
   "cell_type": "code",
   "execution_count": null,
   "metadata": {},
   "outputs": [],
   "source": [
    "def vypocitej_hodnotu(k1, k2, k3):\n",
    "    \"\"\"\n",
    "    Vypocitej hodnotu na zaklade tri zadanych koeficinetu.\n",
    "    \"\"\"\n",
    "    return (1 / k1) * (k2 ** k3)"
   ]
  },
  {
   "cell_type": "markdown",
   "metadata": {},
   "source": [
    "Nebo udělat **spuštění funkce** ještě přehlednější pomocí zápisu **pod sebe**:"
   ]
  },
  {
   "cell_type": "code",
   "execution_count": null,
   "metadata": {},
   "outputs": [],
   "source": [
    "print(\n",
    "    vypocitej_hodnotu(\n",
    "        k1=0.5,\n",
    "        k2=3,\n",
    "        k3=2\n",
    "    )\n",
    ")"
   ]
  },
  {
   "cell_type": "markdown",
   "metadata": {},
   "source": [
    "Takže pokud budeš mít **větší množství parametrů**, nebo se v nich budeš ztrácet, určitě použij tuto variantu."
   ]
  },
  {
   "cell_type": "markdown",
   "metadata": {},
   "source": [
    "#### Defaultní parametry\n",
    "\n",
    "---\n",
    "\n",
    "Někdy dojdeš k závěru, že *uživatelská funkce*, kterou tvoříš, potřebuje alespoň **jeden parametr**, který bude ve většině spouštění používat **tutéž hodnotu**.\n",
    "\n",
    "V takovém případě můžeš do předpisu zapsat *defaultní parametr*:"
   ]
  },
  {
   "cell_type": "code",
   "execution_count": null,
   "metadata": {},
   "outputs": [],
   "source": [
    "def vytvor_pozdrav(jmeno, dovetek=\"jak se vede?\"):\n",
    "    return f\"Ahoj, toto je {jmeno}, {dovetek}\""
   ]
  },
  {
   "cell_type": "code",
   "execution_count": null,
   "metadata": {},
   "outputs": [],
   "source": [
    "vytvor_pozdrav(\"Matouš\")"
   ]
  },
  {
   "cell_type": "markdown",
   "metadata": {},
   "source": [
    "Při spuštění funkce `vytvor_pozdrav` není přítomen **žádný druhý argument** a funkci lze přesto spustit.\n",
    "\n",
    "Tudíž můžeš říct, že zápis *defaultního argumentu* je **volitelná záležitost**."
   ]
  },
  {
   "cell_type": "code",
   "execution_count": null,
   "metadata": {},
   "outputs": [],
   "source": [
    "vytvor_pozdrav(\"Lukáš\")"
   ]
  },
  {
   "cell_type": "markdown",
   "metadata": {},
   "source": [
    "Takže pokud **nevložíš žádný argument**, bude funkce `vytvor_pozdrav` automaticky pracovat se stringem `\"jak se vede?\"`.\n",
    "\n",
    "Pokud se však rozhodneš, že tebou zadaný defaultní parametr bude potřeba **nějak upravit**, můžeš jej snadno přepsat jinou hodnotou.\n"
   ]
  },
  {
   "cell_type": "code",
   "execution_count": null,
   "metadata": {},
   "outputs": [],
   "source": [
    "vystup = vytvor_pozdrav(\"Lukáš\", \"tak dneska zase funkce, jo?\")"
   ]
  },
  {
   "cell_type": "code",
   "execution_count": null,
   "metadata": {},
   "outputs": [],
   "source": [
    "print(vystup)"
   ]
  },
  {
   "cell_type": "markdown",
   "metadata": {},
   "source": [
    "#### Jen poziční parametry\n",
    "\n",
    "---\n",
    "\n",
    "Od verze **Pythonu 3.8** je dostupná tato nová varianta pro zápis *parametrů u uživatelských funkcí*."
   ]
  },
  {
   "cell_type": "code",
   "execution_count": null,
   "metadata": {},
   "outputs": [],
   "source": [
    "def napis_pozdrav(jmeno, /, registrovany):\n",
    "    if not registrovany:\n",
    "        print(\"Nejsi uzivatel!\")\n",
    "    print(\"Ahoj,\", jmeno)\n",
    "\n",
    "\n",
    "napis_pozdrav(jmeno=\"Matouš\", uzivatel=True)"
   ]
  },
  {
   "cell_type": "markdown",
   "metadata": {},
   "source": [
    "Účelem tohoto typu parametrů je vynutit od uživatele zápis všech parametrů **nalevo** od lomítka `\\` jako **poziční**.\n",
    "\n",
    "Zatím co parametry **napravo** od lomítka můžeš pořád zapsat buď jako *poziční*, nebo jako *klíčové*.\n",
    "\n",
    "V ukázce níž chceš pozdravit uživatele jménem, pokud **je registrovaný** (tedy `registrovany=True`):"
   ]
  },
  {
   "cell_type": "code",
   "execution_count": null,
   "metadata": {},
   "outputs": [],
   "source": [
    "napis_pozdrav(\"Matouš\", True)"
   ]
  },
  {
   "cell_type": "code",
   "execution_count": null,
   "metadata": {},
   "outputs": [],
   "source": [
    "napis_pozdrav(\"Matouš\", registrovany=True)"
   ]
  },
  {
   "cell_type": "markdown",
   "metadata": {},
   "source": [
    "Nyní ukázka funguje přesně tak, jak je zamýšleno.\n",
    "\n",
    "Vzhledem k tomu, že je to **novější varianta** a **není vhodná pro všechny situace**, se s touto formou vstupů tolik nesetkáš."
   ]
  },
  {
   "cell_type": "markdown",
   "metadata": {},
   "source": [
    "#### *args\n",
    "\n",
    "---\n",
    "\n",
    "Pokud znáš jiné programovací jazyky (jako C nebo C++), možná máš pocit, že symbol `*` má něco společného **s pointery**. Nicméně Python tuto funcionalitu **nepodporuje**.\n",
    "\n",
    "Naopak pomáhá v rámci parametrů oznámit interpretu, že funkce umí pracovat **s různým množstvím argumentů**.\n",
    "\n",
    "Zásadní je právě přítomnost `*`, jméno `args` potom slouží hlavně jako konvence mezi programátory. Klidně ale můžeš zapsat `*argumenty`.\n",
    "\n",
    "<br>\n",
    "\n",
    "Představ si situaci, kdy budeš chtít vypočítat průměrnou hodnotu pro zadaný parametr `args`:"
   ]
  },
  {
   "cell_type": "code",
   "execution_count": null,
   "metadata": {},
   "outputs": [],
   "source": [
    "def vypocitej_prumer(args):\n",
    "    return sum(args) / len(args)"
   ]
  },
  {
   "cell_type": "code",
   "execution_count": null,
   "metadata": {},
   "outputs": [],
   "source": [
    "moje_cisla = [1, 2, 3, 4, 5]\n",
    "\n",
    "print(vypocitej_prumer(moje_cisla))"
   ]
  },
  {
   "cell_type": "markdown",
   "metadata": {},
   "source": [
    "V ukázce výše si můžeš ověřit, že pro takové zadání není třeba pracovat s `*`.\n",
    "\n",
    "Prostě vytvoříš proměnnou, např. `moje_cisla`, **do ní uložíš hodnoty** a celou proměnnou vložíš jako argument do funkce `vypocitej_prumer`.\n",
    "\n",
    "To ale vždy **není reálné** a **praktické**, protože hodnoty nemusíš mít dopředu zadané.\n",
    "\n",
    "<br>\n",
    "\n",
    "Co když dostaneš čísla až **v rámci spuštění funkce**?"
   ]
  },
  {
   "cell_type": "code",
   "execution_count": null,
   "metadata": {},
   "outputs": [],
   "source": [
    "def vypocitej_prumer(args):\n",
    "    return sum(args) / len(args)"
   ]
  },
  {
   "cell_type": "code",
   "execution_count": null,
   "metadata": {},
   "outputs": [],
   "source": [
    "print(vypocitej_prumer(1, 2, 3, 4, 5))"
   ]
  },
  {
   "cell_type": "markdown",
   "metadata": {},
   "source": [
    "Tentokrát dostaneš výjimku `TypeError`, která ti oznamuje, že na **jeden parametr** máš nachystaný **větší počet argumentů**.\n",
    "\n",
    "V takovém případě funkci **nelze spustit**.\n",
    "\n",
    "Proto je potřeba doplnit správně zapsaný parametr `*args`, o různém počtu **potenciálních hodnot**:"
   ]
  },
  {
   "cell_type": "code",
   "execution_count": null,
   "metadata": {},
   "outputs": [],
   "source": [
    "def vypocitej_prumer(*args):\n",
    "    return sum(args) / len(args)"
   ]
  },
  {
   "cell_type": "code",
   "execution_count": null,
   "metadata": {},
   "outputs": [],
   "source": [
    "print(vypocitej_prumer(1, 2, 3, 4, 5))"
   ]
  },
  {
   "cell_type": "code",
   "execution_count": null,
   "metadata": {},
   "outputs": [],
   "source": [
    "print(vypocitej_prumer(1, 2, 3, 4, 5, 1, 2, 3, 2, 3))"
   ]
  },
  {
   "cell_type": "markdown",
   "metadata": {},
   "source": [
    "Nyní v podstatě funkci `vypocitej_prumer` zapsanou **hvězdičkou** oznamuješ, že parametr `args` může mít **jakýkoliv počet hodnot**."
   ]
  },
  {
   "cell_type": "markdown",
   "metadata": {},
   "source": [
    "#### **kwargs\n",
    "\n",
    "---\n",
    "\n",
    "Dalším způsobem pro zápis vstupů, je varianta pomocí dvou hvězdiček `**`.\n",
    "\n",
    "Tentokrát seskupuješ dohromady **jména objektů a jejich hodnot** o libovolném množství párů.\n",
    "\n",
    "**Jméno** parametru je opět *volitelné*, ale je doporučováno, držet se všeobecné konvence `kwargs` (~*keyword arguments*).\n",
    "\n",
    "<br>\n",
    "\n",
    "Opět si představ situaci, že postupně dostáváš hodnoty, které potřebuješ schovávat **do slovníku**:"
   ]
  },
  {
   "cell_type": "code",
   "execution_count": null,
   "metadata": {},
   "outputs": [],
   "source": [
    "def vytvor_slovnik(**kwargs):\n",
    "    \"\"\"\n",
    "    Vrať slovník, který obsahuje libovolné množství sbalených hodnot. \n",
    "    \"\"\"\n",
    "    vysledek = dict()\n",
    "\n",
    "    for klic, hodnota in kwargs.items():\n",
    "        vysledek[klic] = hodnota\n",
    "\n",
    "    return vysledek"
   ]
  },
  {
   "cell_type": "code",
   "execution_count": null,
   "metadata": {},
   "outputs": [],
   "source": [
    "print(vytvor_slovnik(jmeno=\"Matous\", prijmeni=\"Holinka\"))"
   ]
  },
  {
   "cell_type": "markdown",
   "metadata": {},
   "source": [
    "Ukázka výše pracuje se **dvěma argumenty** `jmeno` a `prijmeni`. To ale neznamená, že jich neumí zpracovat víc.\n",
    "\n",
    "<br>\n",
    "\n",
    "V dalším příkladě budeš mít celkem **4 páry** *klíčů* a *hodnot*:"
   ]
  },
  {
   "cell_type": "code",
   "execution_count": null,
   "metadata": {},
   "outputs": [],
   "source": [
    "from pprint import pprint\n",
    "\n",
    "pprint(\n",
    "    vytvor_slovnik(\n",
    "        jmeno=\"Matous\",\n",
    "        prijmeni=\"Holinka\",\n",
    "        vek=90,\n",
    "        email=\"matous@holinka.cz\"\n",
    "    )\n",
    ")"
   ]
  },
  {
   "cell_type": "markdown",
   "metadata": {},
   "source": [
    "Výsledkem je opět datový typ `dict`, který nám vrátí funkce `vytvor_slovnik`, obsahující všechny zadané **argumenty**."
   ]
  },
  {
   "cell_type": "markdown",
   "metadata": {},
   "source": [
    "#### Souhrn\n",
    "\n",
    "---\n",
    "\n",
    "Aby v tom byl alespoň částečně pořádek, níže je uvedená tabulka se **základními charakteristikami**.\n",
    "\n",
    "| Typ vstupu | Ukázka | Kdy používat |\n",
    "| :- | :- | :- |\n",
    "| **poziční vstupy** | `moje_funkce(jmeno, prijmeni)` | ve většině případech, kde není matoucí **pořadí** argumentů, | \n",
    "| **klíčové argumenty** | `moje_funkce(jmeno=\"Tom\", prijmeni=\"Hrom\")` | pokud je pořadí argumentů **nepřehledné**, pojmenuj je, |\n",
    "| **defaultní parametry** | `moje_funkce(email, registrovany=True)` | pokud potřebuješ při spouštění stejný parametr, napiš jej jako *defaultní*, |  \n",
    "| **position-only parametry** | `moje_funkce(jmeno, /, registrovany)` | pokud potřebuješ vynutit zápis **klíčového argumentu**, |\n",
    "| **\\*args** | `moje_funkce(*args)` | pokud má funkce pracovat **s různým množstvím** hodnot v *sekvenci*, |\n",
    "| **\\*\\*kwargs** |  `moje_funkce(**kwargs)` | pokud má funkce pracovat **s různým množstvím** hodnot v párech *klíč*, *hodnota*. |"
   ]
  },
  {
   "cell_type": "markdown",
   "metadata": {},
   "source": [
    "<br>\n",
    "\n",
    "<img src=\"https://external-content.duckduckgo.com/iu/?u=https%3A%2F%2Ftse1.mm.bing.net%2Fth%3Fid%3DOIP.uufe_GDvF2057NFWgKOVXwAAAA%26pid%3DApi&f=1\" width=\"200\">\n",
    "\n",
    "### Dokumentace funkcí\n",
    "\n",
    "---\n"
   ]
  },
  {
   "cell_type": "markdown",
   "metadata": {},
   "source": [
    "Psát **dokumentaci** funkce resp. *docstring* je volitelnou záležitostí.\n",
    "\n",
    "Někdy potřebuješ vytvořit jednoduchou funkci, jejíž účel plně vystihuje její **jméno**:"
   ]
  },
  {
   "cell_type": "code",
   "execution_count": null,
   "metadata": {},
   "outputs": [],
   "source": [
    "def vynasob_hodnoty(x, y):\n",
    "    return x * y"
   ]
  },
  {
   "cell_type": "code",
   "execution_count": null,
   "metadata": {},
   "outputs": [],
   "source": [
    "print(vynasob_hodnoty(2, 8))"
   ]
  },
  {
   "cell_type": "markdown",
   "metadata": {},
   "source": [
    "V takovém případě **není potřeba** zapisovat *docstring*.\n",
    "\n",
    "<br>\n",
    "\n",
    "Někdy se ale popis může hodit. Zejména tehdy pokud **jméno** *uživatelské funkce* **nedostačuje**:"
   ]
  },
  {
   "cell_type": "code",
   "execution_count": null,
   "metadata": {},
   "outputs": [],
   "source": [
    "def vypocitej_vyskyt_dat(*text):\n",
    "    vyskyt = dict()\n",
    "\n",
    "    for slovo in text:\n",
    "        vyskyt[slovo] = vyskyt.setdefault(slovo, 0) + 1\n",
    "\n",
    "    return vyskyt"
   ]
  },
  {
   "cell_type": "code",
   "execution_count": null,
   "metadata": {},
   "outputs": [],
   "source": [
    "print(vypocitej_vyskyt_dat(\"a\", \"b\", \"a\", \"c\", \"d\", \"b\", \"a\"))"
   ]
  },
  {
   "cell_type": "markdown",
   "metadata": {},
   "source": [
    "Nyní už **není zcela patrné**, jaký je účel funkce, že?\n",
    "\n",
    "<br>\n",
    "\n",
    "**Jméno** samotné funkce, v ukázce výš, není dostačující:"
   ]
  },
  {
   "cell_type": "code",
   "execution_count": null,
   "metadata": {},
   "outputs": [],
   "source": [
    "def vypocitej_vyskyt_dat(*text):\n",
    "    \"\"\"\n",
    "    Vrať slovník, který obsahuje výčet jednotlivých prvků v zadaném parametru.\n",
    "    \"\"\"\n",
    "    vyskyt = dict()\n",
    "\n",
    "    for slovo in text:\n",
    "        vyskyt[slovo] = vyskyt.setdefault(slovo, 0) + 1\n",
    "\n",
    "    return vyskyt"
   ]
  },
  {
   "cell_type": "code",
   "execution_count": null,
   "metadata": {},
   "outputs": [],
   "source": [
    "print(vypocitej_vyskyt_dat(\"a\", \"b\", \"a\", \"c\", \"d\", \"b\", \"a\"))"
   ]
  },
  {
   "cell_type": "markdown",
   "metadata": {},
   "source": [
    "Jednou větou **vysvětlená podstata** této *uživatelské funkce* lépe popíše účel funkce `vypocitej_vyskyt_dat`.\n",
    "\n",
    "<br>\n",
    "\n",
    "Dále můžeš tuto *nápovědu* získat pomocí zabudované funkce `help`:"
   ]
  },
  {
   "cell_type": "code",
   "execution_count": null,
   "metadata": {},
   "outputs": [],
   "source": [
    "print(help(vypocitej_vyskyt_dat))"
   ]
  },
  {
   "cell_type": "markdown",
   "metadata": {},
   "source": [
    "Pokud je krátký *docstring* **nedostatečný**, nebo pracuješ s různými **parametry**, které jsou pro uživatele komplikované, můžeš je také popsat:"
   ]
  },
  {
   "cell_type": "code",
   "execution_count": null,
   "metadata": {},
   "outputs": [],
   "source": [
    "def vypocitej_vyskyt_dat(*text):\n",
    "    \"\"\"\n",
    "    Vrať slovník, který obsahuje výčet jednotlivých prvků v zadaném parametu.\n",
    "\n",
    "    :param text: parametr \"text\" obsahující zadaný text.\n",
    "    :type text: tuple[str] nebo None\n",
    "    :return: slovník se znaky z textu a počet jejich výskytů.\n",
    "    :rtype: dict[str, int]\n",
    "    \"\"\"\n",
    "    \n",
    "    vyskyt = {}\n",
    "       \n",
    "    for slovo in text:\n",
    "        vyskyt[slovo] = vyskyt.setdefault(slovo, 0) + 1\n",
    "\n",
    "    return vyskyt"
   ]
  },
  {
   "cell_type": "code",
   "execution_count": null,
   "metadata": {},
   "outputs": [],
   "source": [
    "print(vypocitej_vyskyt_dat(\"a\", \"b\", \"a\", \"c\", \"d\", \"b\", \"a\"))"
   ]
  },
  {
   "cell_type": "markdown",
   "metadata": {},
   "source": [
    "Někdy je dobrá ukázka lepší jak tisíc slov, proto je později vhodné úvadět **příklad použití**:"
   ]
  },
  {
   "cell_type": "code",
   "execution_count": null,
   "metadata": {},
   "outputs": [],
   "source": [
    "def vypocitej_vyskyt_dat(*text):\n",
    "    \"\"\"\n",
    "    Vrať slovník, který obsahuje výčet jednotlivých prvků v zadaném parametu.\n",
    "\n",
    "    :param text: parametr \"text\" obsahující zadaný text.\n",
    "    :type text: tuple[str] nebo None\n",
    "    :return: slovník se znaky z textu a počet jejich výskytů.\n",
    "    :rtype: dict[str, int]\n",
    "\n",
    "    :Example:\n",
    "    >>> vysledek = vypocitej_vyskyt_dat(\"a\", \"b\", \"a\")\n",
    "    >>> vysledek\n",
    "    {'a': 2, 'b': 1}\n",
    "    \"\"\"\n",
    "    vyskyt = dict()\n",
    "\n",
    "    for slovo in text:\n",
    "        vyskyt[slovo] = vyskyt.setdefault(slovo, 0) + 1\n",
    "\n",
    "    return vyskyt\n",
    "\n",
    "\n",
    "print(vypocitej_vyskyt_dat(\"a\", \"b\", \"a\", \"c\", \"d\", \"b\", \"a\"))"
   ]
  },
  {
   "cell_type": "code",
   "execution_count": null,
   "metadata": {},
   "outputs": [],
   "source": [
    "import math\n",
    "\n",
    "print(help(math))"
   ]
  },
  {
   "cell_type": "markdown",
   "metadata": {},
   "source": [
    "Je tedy **nutné** zapisovat *docstring*? Určitě to **není nutnost**.\n",
    "\n",
    "Ale rozhodně je to velmi nápomocné, protože ti pomůže uvědomit si:\n",
    "1. Jestli dostatečně rozumíš **účelu funkce**,\n",
    "2. jestli funkce skutečně **provádí jen to, co má**,\n",
    "3. jestli má správný **počet parametrů**, případně jakého typu,\n",
    "4. jestli a jaké objekty **funkce vrací**.\n",
    "\n",
    "<br>\n",
    "\n",
    "Do budoucna potom můžeš využít *docstring* při:\n",
    "1. Generování **dokumentace projektu** pomocí nástroje [Sphinx](https://www.sphinx-doc.org/en/master/),\n",
    "2. **testování funkcí** pomocí modulu [doctest](https://docs.python.org/3/library/doctest.html)."
   ]
  },
  {
   "cell_type": "code",
   "execution_count": null,
   "metadata": {},
   "outputs": [],
   "source": [
    "def vypocitej_vyskyt_dat(*text):\n",
    "    \"\"\"\n",
    "    Vrať slovník, který obsahuje výčet jednotlivých prvků v zadaném parametu.\n",
    "\n",
    "    :param text: parametr \"text\" obsahující zadaný text.\n",
    "    :type kind: tuple[str] nebo None\n",
    "    :return: slovník se znaky z textu a počet jejich výskytů.\n",
    "    :rtype: dict[str, int]\n",
    "\n",
    "    :Example:\n",
    "    >>> vysledek = vypocitej_vyskyt_dat(\"a\", \"b\", \"a\")\n",
    "    >>> vysledek\n",
    "    {'a': 2, 'b': 1}\n",
    "    \"\"\"\n",
    "    vyskyt = dict()\n",
    "\n",
    "    for slovo in text:\n",
    "        vyskyt[slovo] = vyskyt.setdefault(slovo, 0) + 1\n",
    "\n",
    "    return vyskyt\n",
    "\n",
    "\n",
    "import doctest\n",
    "doctest.testmod()"
   ]
  },
  {
   "cell_type": "markdown",
   "metadata": {},
   "source": [
    "<img src=\"https://external-content.duckduckgo.com/iu/?u=https%3A%2F%2Ftse2.mm.bing.net%2Fth%3Fid%3DOIP.cjfmUt8xYHoEdmQWxT1fBgHaHa%26pid%3DApi&f=1\" width=\"200\">\n",
    "\n",
    "### Co je `__name__`\n",
    "\n",
    "---\n",
    "\n",
    "Velmi často se při čtení cizího kódu můžeš setkat s **tímto ohlášením**:\n",
    "```python\n",
    "if __name__ == \"__main__\":\n",
    "    # ...\n",
    "```\n",
    "\n",
    "Bývá velmi často vložené právě **na konci modulu** (tedy souboru s příponou `.py`)\n",
    "\n",
    "Představ si situaci, že potřebuješ nahrát jen funkci `funkce_2`:"
   ]
  },
  {
   "cell_type": "code",
   "execution_count": null,
   "metadata": {},
   "outputs": [],
   "source": [
    "# soubor muj_modul.py\n",
    "\n",
    "def hlavni_funkce():\n",
    "    funkce_1()\n",
    "    funkce_2()\n",
    "    funkce_3()\n",
    "\n",
    "def funkce_1():\n",
    "    print(\"Spouštění první funkce..\")\n",
    "\n",
    "def funkce_2():\n",
    "    \"\"\"Funkce, kterou potřebuješ.\"\"\"\n",
    "    print(\"Spouštění druhé funkce..\")\n",
    "\n",
    "def funkce_3():\n",
    "    print(\"Spouštění třetí funkce..\")\n",
    "\n",
    "hlavni_funkce()"
   ]
  },
  {
   "cell_type": "markdown",
   "metadata": {},
   "source": [
    "Díky, **nahrávání knihoven** můžeš snadno použít *funkci* z jiného modulu.\n",
    "\n",
    "Víš totiž, kde je soubor `muj_soubor.py` umístěný:\n",
    "```python\n",
    "import muj_modul\n",
    "\n",
    "muj_modul.funkce_2()\n",
    "```"
   ]
  },
  {
   "cell_type": "markdown",
   "metadata": {},
   "source": [
    "Jakmile tebou vytvořený soubor **s nahraným modulem** spustíš, získáš tento výstup:\n",
    "```\n",
    "Spouštění první funkce...\n",
    "Spouštění druhé funkce...\n",
    "Spouštění třetí funkce...\n",
    "Spouštění druhé funkce...\n",
    "```"
   ]
  },
  {
   "cell_type": "markdown",
   "metadata": {},
   "source": [
    "Místo, aby došlo ke spuštění **pouze** *uživatelské funkce* `funkce_2`, došlo ke spuštění všech funkcí.\n",
    "\n",
    "<br>\n",
    "\n",
    "V této ukázce to není tak zásadní problém. Ale představ si, že by spuštění funkcí trvalo **několik minut** a potřebovalo **nezanedbatelné množství paměti** tvého počítače.\n",
    "\n",
    "Tomu je potřeba rozhodně zabránit, jinak nemůžeš rozumně pracovat s takovým modulem.\n",
    "\n",
    "<br>\n",
    "\n",
    "Je tedy nutné:\n",
    "1. `muj_modul.py` **spouštět jako skript (program)** pro Python s funkcí `hlavni_funkce()`,\n",
    "2. `muj_modul.py` **nahrávat jako modul** Pythonu bez funkce `hlavni_funkce()`."
   ]
  },
  {
   "cell_type": "code",
   "execution_count": null,
   "metadata": {},
   "outputs": [],
   "source": [
    "# soubor muj_modul.py\n",
    "def hlavni_funkce():\n",
    "    funkce_1()\n",
    "    funkce_2()\n",
    "    funkce_3()\n",
    "\n",
    "def funkce_1():\n",
    "    print(\"Spouštění první funkce...\")\n",
    "\n",
    "def funkce_2():\n",
    "    \"\"\"Funkce, kterou potřebuješ.\"\"\"\n",
    "    print(\"Spouštění druhé funkce...\")\n",
    "\n",
    "def funkce_3():\n",
    "    print(\"Spouštění třetí funkce...\")\n",
    "\n",
    "# nové ohlášení *name == main*\n",
    "if __name__ == \"__main__\":\n",
    "    print(\"Nahrávání modulu..\")\n",
    "else:\n",
    "    print(\"Spouštění souboru..\")\n",
    "    hlavni_funkce()"
   ]
  },
  {
   "cell_type": "markdown",
   "metadata": {},
   "source": [
    "Pokud zkusíš tentokrát **spustit soubor** `muj_modul.py`:\n",
    "```\n",
    "$ python muj_modul.py\n",
    "```\n",
    "Dostaneš výstupem:\n",
    "```\n",
    "Spouštění souboru..\n",
    "Spouštění první funkce..\n",
    "Spouštění druhé funkce..\n",
    "Spouštění třetí funkce..\n",
    "```\n",
    "\n",
    "<br>\n",
    "\n",
    "Pokud budeš chtít `muj_modul.py` **nahrávat** pomocí ohlášení `import`:\n",
    "```python\n",
    "import muj_modul\n",
    "\n",
    "muj_modul.funkce_2()\n",
    "```\n",
    "Dostaneš jako výstup:\n",
    "```\n",
    "Nahrávání modulu..\n",
    "Spouštění druhé funkce..\n",
    "```\n",
    "\n",
    "<br>\n",
    "\n",
    "Tím dosáhneš toho, že tebou vytvořený soubor `muj_modul.py` funguje pro oba scénaře. Tedy pracuje jako **spustitelný soubor** (skript) a současně jako **plnohodnotný modul**."
   ]
  },
  {
   "cell_type": "markdown",
   "metadata": {},
   "source": [
    "<br>\n",
    "\n",
    "### Domácí úkol\n",
    "\n",
    "---\n",
    "\n",
    "<img src=\"https://external-content.duckduckgo.com/iu/?u=https%3A%2F%2Ftse3.mm.bing.net%2Fth%3Fid%3DOIP.XxURlbi8RZ3SMPoMRj91VwAAAA%26pid%3DApi&f=1\" width=\"200\">\n",
    "\n"
   ]
  },
  {
   "cell_type": "markdown",
   "metadata": {},
   "source": [
    "V následujícím balíčku:\n",
    "```\n",
    "/lesson06\n",
    "  ├─data/\n",
    "  |  ├─__init__.py\n",
    "  |  └─udaje.py\n",
    "  |\n",
    "  ├─vzor/\n",
    "  |  ├─__init__.py\n",
    "  |  └─prevodnik.py\n",
    "  └─uloha6.py\n",
    "```\n",
    "\n",
    "Doplň modul `uloha6.py` tak, ať prochází zadané údaje v `data/udaje.py`:\n",
    "```\n",
    "byt0001,55m2,Olomouc,ul.Heyrovského,\n",
    "byt0003,65m2,Olomouc,ul.Novosadský_dvůr,\n",
    "...\n",
    "```\n",
    "\n",
    "a převadí obecný **typ bytu** na klasický typ bytu:\n",
    "```\n",
    "1+1,55m2,Olomouc,ul.Heyrovského,\n",
    "2+kk,65m2,Olomouc,ul.Novosadský_dvůr,\n",
    "...\n",
    "```\n",
    "\n",
    "Hotový modul musí provést na závěr následující:\n",
    "```\n",
    "python uloha6.py\n",
    "```\n",
    "S výstupem:\n",
    "```\n",
    "(\"1+1,55m2,Olomouc,ul.Heyrovského,\", \"2+kk,65m2,Olomouc,ul.Novosadský_dvůr,\", ... )\n",
    "```\n",
    "     "
   ]
  },
  {
   "cell_type": "markdown",
   "metadata": {},
   "source": [
    "---"
   ]
  }
 ],
 "metadata": {
  "kernelspec": {
   "display_name": "Python 3",
   "language": "python",
   "name": "python3"
  },
  "language_info": {
   "codemirror_mode": {
    "name": "ipython",
    "version": 3
   },
   "file_extension": ".py",
   "mimetype": "text/x-python",
   "name": "python",
   "nbconvert_exporter": "python",
   "pygments_lexer": "ipython3",
   "version": "3.8.6"
  }
 },
 "nbformat": 4,
 "nbformat_minor": 4
}
