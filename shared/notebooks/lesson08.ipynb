{
 "cells": [
  {
   "cell_type": "markdown",
   "metadata": {},
   "source": [
    "### Úvod\n",
    "\n",
    "---\n",
    "\n",
    "1. [Úvod do automatizace](#Úvod-do-automatizace),\n",
    "2. [Knihovny třetích stran](#Knihovny-třetích-stran),\n",
    "3. [Virtuální prostředí](#Virtuální-prostředí),\n",
    "4. [Knihovna scheduler](#Knihovny-scheduler),\n",
    "5. [Task scheduler](#Task-scheduler),\n",
    "6. [Cronjobs](#Cron),\n",
    "7. [Domácí úkol](#Domácí-úkol)."
   ]
  },
  {
   "cell_type": "markdown",
   "metadata": {},
   "source": [
    "<br>\n",
    "\n",
    "<img src=\"https://external-content.duckduckgo.com/iu/?u=https%3A%2F%2Ftse3.mm.bing.net%2Fth%3Fid%3DOIP.qjKckTURqVA6YWQcs4hYxQHaHa%26pid%3DApi&f=1\" width=\"250\">\n",
    "\n",
    "\n",
    "## Úvod do automatizace\n",
    "\n",
    "---\n",
    "\n",
    "Většinu *skriptů*, *modulů* a *balíčků* si dovedeš **spouštět jak potřebuješ**.\n",
    "\n",
    "Existují ovšem situace, kde potřebuješ, aby tvůj program běžel **automaticky**.\n",
    "\n",
    "<br>\n",
    "\n",
    "Představ si situaci, že tvůj program je nutné spouštět každý den **brzy ráno**, příp. **pozdě večer**.\n",
    "\n",
    "Takový úkol by nikdo nechtěl na vlastních bedrech a každý den jej **spouštěl ručně**.\n",
    "\n",
    "Co když nestihneš přesný čas? Co když na něj úplně zapomeneš?\n",
    "\n",
    "<br>\n",
    "\n",
    "Právě proto je potřeba znát alespoň úvod **do automatizace** a umět programy spouštět:\n",
    "1. Automaticky, **v popředí**,\n",
    "```\n",
    "$ python kontrola_txt_souboru.py \"muj_adresar\"\n",
    "Jan 19 05:15:00 Kontrola TXT souborů: 1 ..\n",
    "Jan 20 05:15:00 Kontrola TXT souborů: 2 ..\n",
    "Jan 21 05:15:00 Kontrola TXT souborů: 5 ..\n",
    "...\n",
    "```\n",
    "2. Automaticky, **na pozadí**.\n",
    "```\n",
    "$ python kontrola_txt_souboru.py \"muj_adresar\"\n",
    "INFO: Spouštím skript ..\n",
    "INFO: Probíhá kontrola ..\n",
    "INFO: Ukončuji průběh.\n",
    "```"
   ]
  },
  {
   "cell_type": "markdown",
   "metadata": {},
   "source": [
    "##### Demo: Modul `time`"
   ]
  },
  {
   "cell_type": "code",
   "execution_count": null,
   "metadata": {},
   "outputs": [],
   "source": [
    "# import time\n",
    "# import subprocess\n",
    "\n",
    "# countdown = 7\n",
    "\n",
    "# while countdown != 0:\n",
    "    # time.sleep(1)\n",
    "#     print(f\"Ještě ne, zbývá {countdown} s ..\")\n",
    "\n",
    "# else:\n",
    "#     subprocess.Popen(['start', 'alarm.wav'])  # bez shell=True"
   ]
  },
  {
   "cell_type": "markdown",
   "metadata": {},
   "source": [
    "Práce s modulem `time` (příp. `datetime`) nemá na starost automatizaci, ale spíš práci s objekty, které pracují s časem.)\n",
    "\n",
    "Proto je lepší, vyhledat **vhodnější knihovny**.\n",
    "\n",
    "<br>"
   ]
  },
  {
   "cell_type": "markdown",
   "metadata": {},
   "source": [
    "Některé **knihovny** však nemáš k dispozici.\n",
    "\n",
    "Jak je tedy *získat* a *používat*?"
   ]
  },
  {
   "cell_type": "markdown",
   "metadata": {},
   "source": [
    "<br>\n",
    "\n",
    "<img src=\"https://external-content.duckduckgo.com/iu/?u=https%3A%2F%2Ftse2.mm.bing.net%2Fth%3Fid%3DOIP.EvE0cAsK9bHMbis8Ki5YPQHaHa%26pid%3DApi&f=1\" width=\"200\">\n",
    "\n",
    "## Knihovny třetích stran\n",
    "\n",
    "---"
   ]
  },
  {
   "cell_type": "markdown",
   "metadata": {},
   "source": [
    "Nejprve se budeš chtít seznámit s knihovnou `schedule`:"
   ]
  },
  {
   "cell_type": "code",
   "execution_count": null,
   "metadata": {},
   "outputs": [],
   "source": [
    "import schedule"
   ]
  },
  {
   "cell_type": "markdown",
   "metadata": {},
   "source": [
    "Pokud jsi právě dostal výjimku `ModuleNotFoundError`, tak je všechno v pořádku.\n",
    "\n",
    "<br>\n",
    "\n",
    "Právě tato knihovny (a mnoho dalších) je označována jako *knihovna třetích stran*.\n",
    "\n",
    "Tato knihovna **není součástí nainstalovaných** knihoven, a proto ji nelze nahrát přímo.\n",
    "\n",
    "<br>"
   ]
  },
  {
   "cell_type": "markdown",
   "metadata": {},
   "source": [
    "*Knihovny*  můžeš získat v podstatě dvěma způsoby:\n",
    "1. **V rámci instalace**, (knihovny *zabudované*),\n",
    "2. **nainstalovat ručně**, (knihovny *třetích stran*)."
   ]
  },
  {
   "cell_type": "markdown",
   "metadata": {},
   "source": [
    "### Zabudované knihovny\n",
    "\n",
    "\n",
    "Tyto knihovny máš k dispozici ihned po nainstalování *interpreta* Pythonu.\n",
    "\n",
    "Jejich **obsah** a **verze** se mohou lišit průběhem času.\n",
    "\n",
    "Seznam těchto knihoven najdeš v <a href=\"https://docs.python.org/3/library/index.html\" target=\"_blank\">oficiální dokumentaci</a> (na odkaze je seznam pro verzi interpreta **3.10.4**).\n",
    "\n",
    "<br>\n",
    "\n",
    "### Knihovny třetích stran\n",
    "\n",
    "Zatímco některé knihovny můžeš snadno nahrát přímo na místě:"
   ]
  },
  {
   "cell_type": "code",
   "execution_count": null,
   "metadata": {},
   "outputs": [],
   "source": [
    "import typing\n",
    "import uuid\n",
    "import itertools"
   ]
  },
  {
   "cell_type": "code",
   "execution_count": null,
   "metadata": {},
   "outputs": [],
   "source": [
    "help(typing)"
   ]
  },
  {
   "cell_type": "markdown",
   "metadata": {},
   "source": [
    "Jiné knihovny ti **přímo nahrát nepůjdou**:"
   ]
  },
  {
   "cell_type": "code",
   "execution_count": null,
   "metadata": {},
   "outputs": [],
   "source": [
    "import flask\n",
    "import pandas"
   ]
  },
  {
   "cell_type": "markdown",
   "metadata": {},
   "source": [
    "Je potřeba následujících kroků:\n",
    "1. Nejprve je musíš **vyhledat**,\n",
    "2. následně **správně nainstalovat**.\n",
    "\n",
    "<br>\n",
    "\n",
    "Kde je ale hledat a jak je řádně a správně nainstalovat?"
   ]
  },
  {
   "cell_type": "markdown",
   "metadata": {},
   "source": [
    "<br>\n",
    "\n",
    "<img src=\"https://external-content.duckduckgo.com/iu/?u=https%3A%2F%2Ftse4.mm.bing.net%2Fth%3Fid%3DOIP.1jYNqFlZEyuhm3apMFgIPwHaHa%26pid%3DApi&f=1\" width=\"170\">\n",
    "\n",
    "## Virtuální prostředí\n",
    "\n",
    "---\n",
    "\n",
    "Pro **každý projekt**, který budeš v Pythonu tvořit, budeš obvykle potřebovat **různé knihovny** (jak *zabudované*, tak *třetích stran*).\n",
    "\n",
    "```\n",
    "projekty/\n",
    "   ├─projekt01/  # requests\n",
    "   ├─projekt02/  # requests, pandas\n",
    "   ├─projekt03/  # pandas\n",
    "   ├─...\n",
    "   └─projektXY/\n",
    "```\n",
    "\n",
    "<br>\n",
    "\n",
    "Nejenom různé knihovny, ale dokonce i **různé verze stejných knihoven**.\n",
    "```\n",
    "projekty/\n",
    "   ├─projekt01/  # requests==2.21.0\n",
    "   ├─projekt02/  # requests==2.19.1, pandas==1.9.0\n",
    "   ├─projekt03/  # pandas==2.0.0.\n",
    "   ├─...\n",
    "   └─projektXY/\n",
    "```\n",
    "\n",
    "<br>\n",
    "\n",
    "Je proto vhodné, osvojit si zdravé navýky pro práci **s různými projekty** (úlohami) a pracovat s pomocí oddělených tzv. *virtuálních prostředí*.\n",
    "\n",
    "<br>"
   ]
  },
  {
   "cell_type": "markdown",
   "metadata": {},
   "source": [
    "### Proč oddělené prostředí\n",
    "\n",
    "Nač ale oddělovat prostředí?\n",
    "\n",
    "Můžu přece všechny **knihovny nainstalovat na jedno místo**, a každý projekt bude moci využít společnou knihovnu.\n",
    "\n",
    "**Do jisté míry** ano, **ALE**... nese s sebou spoustu komplikací.\n",
    "\n",
    "<br>\n",
    "\n",
    "Ty nejdůležitější jsou:\n",
    "1. Problémy s OS,\n",
    "2. Rozdílné verze knihoven.\n",
    "\n",
    "<br>"
   ]
  },
  {
   "cell_type": "markdown",
   "metadata": {},
   "source": [
    "### Problémy s OS\n",
    "\n",
    "*Linux* a *MacOS* jsou *operační systémy*, které již předinstalovaný Python obsahují.\n",
    "\n",
    "Ten potom pracuje s některými interními procesy, takže o nich často ani jako uživatel netušíš.\n",
    "\n",
    "Pokud nainstaluješ knihovnu **bez virtuálního prostředí**, hrozí, že nahradíš **původní verze** těchto knihoven **novějšími verzemi** (se kterými neumí pracovat), což může vést k neočekávanému chování.\n",
    "\n",
    "Ukázka:\n",
    "```\n",
    "# výpis z příkazu 'python3 -m pip list'\n",
    "# tvůj OS potřebuje tyto verze knihoven\n",
    "\n",
    "pycairo                1.16.2              \n",
    "pycodestyle            2.9.0               \n",
    "```\n",
    "\n",
    "Pokud nainstaluješ novější verze těchto knihoven (*upgraduješ* je), dostaneš něco podobného:\n",
    "```\n",
    "pycairo                1.19.0              \n",
    "pycodestyle            3.1.1               \n",
    "```\n",
    "\n",
    "Novější verze mohou často postrádat některé starší funkce a jiné objekty. Případně je jejich funkcionalita přemapována na jiné objekty.\n",
    "\n",
    "Potom ti hrozí **neočekávané chování** běžných procesů (výjimky, logy,..), které tyto objekty potřebují.\n",
    "\n",
    "<br>\n",
    "\n",
    "### Rozdílné verze knihoven\n",
    "\n",
    "Dalším problémem, před kterým tě *virtuální prostředí* brání, je kolize **verzí knihoven**, mezi **jednotlivými projekty**.\n",
    "\n",
    "Ukázka:\n",
    "```\n",
    "   ├─projekt01/  # requests==2.21.0\n",
    "   ├─projekt02/  # requests==2.19.1, ...\n",
    "```\n",
    "\n",
    "<br>\n",
    "\n",
    "Pokud nainstaluješ (*globálně*) novější verzi knihovny `2.21.0`, můžeš ztratit některou funkcionalitu z předchozích verzí (funkce, třídy, proměnné, atd.)"
   ]
  },
  {
   "cell_type": "markdown",
   "metadata": {},
   "source": [
    "<img src=\"https://external-content.duckduckgo.com/iu/?u=https%3A%2F%2Ftse4.mm.bing.net%2Fth%3Fid%3DOIP.3RX0BJUjo1iEcyFBi59JWQHaHa%26pid%3DApi&f=1\" width=\"180\">\n",
    "\n",
    "\n",
    "### Práce s prostředími v příkazovém řádku\n",
    "\n",
    "---\n",
    "\n",
    "Vytvořit virtuální prostředí můžeš jednoduše **v příkazovém řádku**.\n",
    "\n",
    "Často totiž **nemáš přístup ke grafickému rozhraní** (virtuál, kontejner, server), a potom se hodí, řídit celý proces **v příkazovém řádku**.\n",
    "\n",
    "Python disponuje knihovnou `venv`, která ti takové prostředí umožní nachystat."
   ]
  },
  {
   "cell_type": "markdown",
   "metadata": {},
   "source": [
    "<br>\n",
    "\n",
    "### Sada příkazů\n",
    "\n",
    "Nejprve zkontroluj, jestli máš nainstalovaný základní manažer balíčků **pip**:\n",
    "```\n",
    "python3 -m pip --version  # novější zápis\n",
    "pip --version             # starší zápis\n",
    "```\n",
    "\n",
    "<br>\n",
    "\n",
    "Výstup ti vrátí číslo verze manažera a jeho umístění:\n",
    "```\n",
    "pip 21.0.1 from ...\n",
    "```"
   ]
  },
  {
   "cell_type": "markdown",
   "metadata": {},
   "source": [
    "Pokud máš manažer v pořádku, můžeš si **vytvořit nové virtuální prostředí**:\n",
    "```\n",
    "python3 -m venv moje_prvni_prostredi\n",
    "```\n",
    "\n",
    "<br>\n",
    "\n",
    "Po krátké odmlce jej můžeš **aktivovat**:\n",
    "```\n",
    "source moje_prvni_prostredi/bin/activate   # aktivace pro Linux a MacOS\n",
    "moje_prvni_prostredi\\Scripts\\Activate.ps1  # aktivace pro Windows\n",
    "```\n",
    "\n",
    "<br>\n",
    "\n",
    "Aktivované virtuální prostředí poznáš podle **předepsané kulaté závorky se jménem projektu**:\n",
    "```\n",
    "$ source moje_prvni_prostredi/bin/activate\n",
    "(moje_prvni_prostredi) $\n",
    "```\n",
    "\n",
    "<br>\n",
    "\n",
    "Pokud si nyní budeš chtít zkontrolovat, které **knihovny máš v nově vytvořeném prostředí**, zapiš:\n",
    "```\n",
    "python3 -m pip list\n",
    "python3 -m pip freeze\n",
    "```\n",
    "\n",
    "<br>\n",
    "\n",
    "Aktivní prostředí potom ukončíš příkazem:\n",
    "```\n",
    "deactivate\n",
    "```"
   ]
  },
  {
   "cell_type": "markdown",
   "metadata": {},
   "source": [
    "<img src=\"https://external-content.duckduckgo.com/iu/?u=https%3A%2F%2Ftse1.mm.bing.net%2Fth%3Fid%3DOIP.FNPYtWpZ9XRY2yf9Z1LqXgHaHa%26pid%3DApi&f=1\" width=\"200\">\n",
    "\n",
    "### Hledání balíčků\n",
    "\n",
    "---\n",
    "\n",
    "Teď, když máš nachystané zázemí, můžeš začít vyhledávat jednotlivé knihovny, které ti usnadní práci.\n",
    "\n",
    "Seznam **většiny knihoven** najdeš na <a href=\"https://pypi.org/\" target=\"_blank\">pypi.org</a>, což je místo, kde si komunita *Pythonistů* sdílí svoje knihovny.\n",
    "\n",
    "##### Demo: Vyhledej knihovnu `requests`"
   ]
  },
  {
   "cell_type": "markdown",
   "metadata": {},
   "source": [
    "<img src=\"https://external-content.duckduckgo.com/iu/?u=https%3A%2F%2Ftse3.mm.bing.net%2Fth%3Fid%3DOIP.1hTm5TmhnE0ctqZd13VcQAHaHa%26pid%3DApi&f=1\" width=\"170\">\n",
    "\n",
    "\n",
    "### Instalace vyhledané a ověřené knihovny\n",
    "\n",
    "---\n",
    "\n",
    "Pokud dohledáš knihovnu, obvykle najdeš i **příkaz pro instalaci**.\n",
    "\n",
    "Nezapomeň aktivovat virtuální prostředí a můžeš zapsat příkaz:\n",
    "```\n",
    "python3 -m pip install requests\n",
    "```\n",
    "\n",
    "##### Demo: Zobrazit knihovnu"
   ]
  },
  {
   "cell_type": "markdown",
   "metadata": {},
   "source": [
    "### Práce s virtuálním prostředím, Pycharm\n",
    "\n",
    "---\n",
    "\n",
    "Pokud pracuješ s PyCharmem, ten ti v podstatě *virtuální prostředí* naservíruje sám.\n",
    "\n",
    "##### Demo: Ukázka v PyCharm\n",
    "\n",
    "##### Demo: Ukázka instalace knihovny `schedule`"
   ]
  },
  {
   "cell_type": "code",
   "execution_count": null,
   "metadata": {},
   "outputs": [],
   "source": [
    "import schedule"
   ]
  },
  {
   "cell_type": "markdown",
   "metadata": {},
   "source": [
    "Pokud ti tentokrát ohlášení o nahrávání knihovny `schedule` prošlo bez výjimky, je všechno v pořádku."
   ]
  },
  {
   "cell_type": "markdown",
   "metadata": {},
   "source": [
    "<br>\n",
    "\n",
    "<img src=\"https://external-content.duckduckgo.com/iu/?u=https%3A%2F%2Ftse3.mm.bing.net%2Fth%3Fid%3DOIP.5yxmiAkwYYY2fyexyx47VgHaII%26pid%3DApi&f=1\" width=\"200\">\n",
    "\n",
    "## Knihovna scheduler\n",
    "\n",
    "---\n",
    "\n",
    "Tato <a href=\"https://schedule.readthedocs.io/en/stable/index.html\" target=\"_blank\">knihovna</a> slouží jako *nízko-nákladovka* **pro manipulaci úloh v čase**.\n",
    "\n"
   ]
  },
  {
   "cell_type": "code",
   "execution_count": null,
   "metadata": {},
   "outputs": [],
   "source": [
    "# help(schedule)  # Nápověda, obecně"
   ]
  },
  {
   "cell_type": "code",
   "execution_count": null,
   "metadata": {},
   "outputs": [],
   "source": [
    "# dir(schedule)   # Dostupné objekty"
   ]
  },
  {
   "cell_type": "markdown",
   "metadata": {},
   "source": [
    "### Funkce `every`\n",
    "\n",
    "Jedním ze základních stavebních kamenů této knihovny je funkce `every`:"
   ]
  },
  {
   "cell_type": "code",
   "execution_count": null,
   "metadata": {},
   "outputs": [],
   "source": [
    "help(schedule.every)"
   ]
  },
  {
   "cell_type": "code",
   "execution_count": null,
   "metadata": {},
   "outputs": [],
   "source": [
    "import time\n",
    "import schedule\n",
    "\n",
    "\n",
    "def spust_ulohu():\n",
    "    \"\"\"\n",
    "    Tento úkol chci provádět.\n",
    "    \"\"\"\n",
    "    print(\"Spouštím úlohu..\")\n",
    "\n",
    "\n",
    "schedule.every(5).seconds.do(spust_ulohu)\n",
    "\n",
    "while True:\n",
    "    schedule.run_pending()\n",
    "    time.sleep(1)"
   ]
  },
  {
   "cell_type": "markdown",
   "metadata": {},
   "source": [
    "Celý *skript* potom musí obsahovat **tři části**:\n",
    "1. **Úlohu**, kterou chci provádět (také *job*),\n",
    "2. **periodicitu**, jak často/ kdy chci úlohu provádět (také *frekvenci*),\n",
    "3. **spouštěč**, který spustí všechny nachystané úlohy.\n",
    "\n",
    "<br>\n",
    "\n",
    "Pomocí funkce `every` můžeš zadat jak **jednotky**, tak i **rozsah** těchto jednotek:\n",
    "1. Každé **3 sekundy**, `schedule.every(3).seconds.do(job)`,\n",
    "2. Každé **3 minuty**, `schedule.every(3).minutes.do(job)`,\n",
    "3. Každé **3 hodiny**, `schedule.every(3).hours.do(job)`,\n",
    "4. Každé **3 dny**, `schedule.every(3).days.do(job)`,\n",
    "5. Každé **3 týdny**, `schedule.every(3).weeks.do(job)`."
   ]
  },
  {
   "cell_type": "markdown",
   "metadata": {},
   "source": [
    "Případně zadat i **specifičtější** časový údaj:\n",
    "```python\n",
    "schedule.every().day.at(\"10:30:42\").do(job)\n",
    "```\n",
    "\n",
    ".., který tvoji úlohu spustí každý den, přesně v *HH:MM:SS* podle zadání.\n",
    "\n",
    "##### Demo: Zapsat oznamovač přestávky"
   ]
  },
  {
   "cell_type": "markdown",
   "metadata": {},
   "source": [
    "### Dekorátor `repeat`"
   ]
  },
  {
   "cell_type": "markdown",
   "metadata": {},
   "source": [
    "Další velmi používaným objektem je tzv. *dekorátor*, `@repeat`."
   ]
  },
  {
   "cell_type": "code",
   "execution_count": null,
   "metadata": {},
   "outputs": [],
   "source": [
    "dir(schedule)"
   ]
  },
  {
   "cell_type": "code",
   "execution_count": null,
   "metadata": {},
   "outputs": [],
   "source": [
    "help(schedule.repeat)"
   ]
  },
  {
   "cell_type": "code",
   "execution_count": null,
   "metadata": {},
   "outputs": [],
   "source": [
    "from schedule import every, repeat, run_pending\n",
    "import time\n",
    "\n",
    "\n",
    "@repeat(every(10).minutes)\n",
    "def moje_uloha():\n",
    "    \"\"\"\n",
    "    Tento úkol chci provádět.\n",
    "    \"\"\"\n",
    "    print(\"Spouštím úlohu..\")\n",
    "\n",
    "\n",
    "while True:\n",
    "    run_pending()\n",
    "    time.sleep(1)"
   ]
  },
  {
   "cell_type": "markdown",
   "metadata": {},
   "source": [
    "### Ukončení průběhu\n",
    "\n",
    "Pokud potřebuješ spustit úlohu **pouze jedenkrát** a **ukončit celý skript**:"
   ]
  },
  {
   "cell_type": "code",
   "execution_count": 6,
   "metadata": {},
   "outputs": [],
   "source": [
    "# help(schedule.CancelJob)"
   ]
  },
  {
   "cell_type": "code",
   "execution_count": null,
   "metadata": {},
   "outputs": [],
   "source": [
    "help(schedule.get_jobs)"
   ]
  },
  {
   "cell_type": "markdown",
   "metadata": {},
   "source": [
    "Objekt `CancelJob` ti umožňuje ukončení zadané úlohy.\n",
    "\n",
    "Funkce `get_jobs` naopak umožňuje sledovat nachystané úlohy, se kterými *skript* pracuje.\n",
    "\n",
    "Pro porovnání sleduj nejprve použití bez objektu `CancelJob`:"
   ]
  },
  {
   "cell_type": "code",
   "execution_count": 2,
   "metadata": {},
   "outputs": [
    {
     "name": "stdout",
     "output_type": "stream",
     "text": [
      "[Every 5 seconds do moje_uloha() (last run: [never], next run: 2022-09-13 17:07:30)]\n",
      "[Every 5 seconds do moje_uloha() (last run: [never], next run: 2022-09-13 17:07:30)]\n",
      "[Every 5 seconds do moje_uloha() (last run: [never], next run: 2022-09-13 17:07:30)]\n",
      "[Every 5 seconds do moje_uloha() (last run: [never], next run: 2022-09-13 17:07:30)]\n",
      "[Every 5 seconds do moje_uloha() (last run: [never], next run: 2022-09-13 17:07:30)]\n",
      "Hotovo!\n",
      "[]\n"
     ]
    }
   ],
   "source": [
    "import time\n",
    "\n",
    "from schedule import every, run_pending\n",
    "\n",
    "\n",
    "def moje_uloha():\n",
    "    \"\"\"\n",
    "    Tento úkol chci provést pouze jedenkrát.\n",
    "    \"\"\"\n",
    "    print(\"Hotovo!\")\n",
    "\n",
    "\n",
    "every(5).seconds.do(moje_uloha)\n",
    "\n",
    "while get_jobs():\n",
    "    run_pending()\n",
    "    time.sleep(1)"
   ]
  },
  {
   "cell_type": "markdown",
   "metadata": {},
   "source": [
    "Nyní chceš funkci `moje_uloha` spustit **pouze jedenkrát**:"
   ]
  },
  {
   "cell_type": "code",
   "execution_count": null,
   "metadata": {},
   "outputs": [],
   "source": [
    "import time\n",
    "\n",
    "from schedule import CancelJob, every, run_pending\n",
    "\n",
    "\n",
    "def moje_uloha():\n",
    "    \"\"\"\n",
    "    Tento úkol chci provést pouze jedenkrát.\n",
    "    \"\"\"\n",
    "    print(\"Hotovo!\")\n",
    "    return CancelJob\n",
    "\n",
    "\n",
    "every(5).seconds.do(moje_uloha)\n",
    "\n",
    "while get_jobs():\n",
    "    run_pending()\n",
    "    time.sleep(1)"
   ]
  },
  {
   "cell_type": "markdown",
   "metadata": {},
   "source": [
    "Tentokrát chceš vidět, jaké úlohy jsou neustále k dispozici **pro spouštěč**:"
   ]
  },
  {
   "cell_type": "code",
   "execution_count": 2,
   "metadata": {},
   "outputs": [
    {
     "name": "stdout",
     "output_type": "stream",
     "text": [
      "[Every 5 seconds do moje_uloha() (last run: [never], next run: 2022-09-13 17:07:30)]\n",
      "[Every 5 seconds do moje_uloha() (last run: [never], next run: 2022-09-13 17:07:30)]\n",
      "[Every 5 seconds do moje_uloha() (last run: [never], next run: 2022-09-13 17:07:30)]\n",
      "[Every 5 seconds do moje_uloha() (last run: [never], next run: 2022-09-13 17:07:30)]\n",
      "[Every 5 seconds do moje_uloha() (last run: [never], next run: 2022-09-13 17:07:30)]\n",
      "Hotovo!\n",
      "[]\n"
     ]
    }
   ],
   "source": [
    "import time\n",
    "\n",
    "from schedule import every, run_pending, get_jobs\n",
    "\n",
    "\n",
    "def moje_uloha():\n",
    "    \"\"\"\n",
    "    Tento úkol chci provést pouze jedenkrát.\n",
    "    \"\"\"\n",
    "    print(\"Hotovo!\")\n",
    "\n",
    "\n",
    "every(5).seconds.do(moje_uloha)\n",
    "\n",
    "while get_jobs():\n",
    "    run_pending()\n",
    "    print(get_jobs())\n",
    "    time.sleep(1)"
   ]
  },
  {
   "cell_type": "markdown",
   "metadata": {},
   "source": [
    "Nakonec chceš funkci `moje_uloha` spustit **pouze jedenkrát**, **ukončit ji** a pokud nebudou žádné další nachystané úlohy, **ukonči celý** *skript*:"
   ]
  },
  {
   "cell_type": "code",
   "execution_count": 2,
   "metadata": {},
   "outputs": [
    {
     "name": "stdout",
     "output_type": "stream",
     "text": [
      "[Every 5 seconds do moje_uloha() (last run: [never], next run: 2022-09-13 17:07:30)]\n",
      "[Every 5 seconds do moje_uloha() (last run: [never], next run: 2022-09-13 17:07:30)]\n",
      "[Every 5 seconds do moje_uloha() (last run: [never], next run: 2022-09-13 17:07:30)]\n",
      "[Every 5 seconds do moje_uloha() (last run: [never], next run: 2022-09-13 17:07:30)]\n",
      "[Every 5 seconds do moje_uloha() (last run: [never], next run: 2022-09-13 17:07:30)]\n",
      "Hotovo!\n",
      "[]\n"
     ]
    }
   ],
   "source": [
    "import time\n",
    "\n",
    "from schedule import every, run_pending, get_jobs, CancelJob\n",
    "\n",
    "\n",
    "def moje_uloha():\n",
    "    \"\"\"\n",
    "    Tento úkol chci provést pouze jedenkrát.\n",
    "    \"\"\"\n",
    "    print(\"Hotovo!\")\n",
    "\n",
    "\n",
    "every(5).seconds.do(moje_uloha)\n",
    "\n",
    "while get_jobs():\n",
    "    run_pending()\n",
    "    print(get_jobs())\n",
    "    time.sleep(1)"
   ]
  },
  {
   "cell_type": "markdown",
   "metadata": {},
   "source": [
    "Kdy **mohu použít** modul `schedule`:\n",
    "* potřebuji **stručný manažer** úloh,\n",
    "* potřebuji elegantně zapínat **periodický proces**,\n",
    "* potřebuji jej **\"lidsky\"** obsluhovat.\n",
    "\n",
    "Kdy není dobré pracovat s modulem `schedule`:\n",
    "* potřebuji **perzistentní manažer** úloh (po restartu neběží),\n",
    "* potřebuji **velice přesný** časový údaj (jednotky menší než sekundy),\n",
    "* potřebuji úlohy rozdělit na **několik vláken**."
   ]
  },
  {
   "cell_type": "markdown",
   "metadata": {},
   "source": [
    "<br>\n",
    "\n",
    "<img src=\"https://external-content.duckduckgo.com/iu/?u=https%3A%2F%2Ftse2.mm.bing.net%2Fth%3Fid%3DOIP.z9dwoa82mB9D-103pw6CQAHaHa%26pid%3DApi&f=1\" width=\"200\">\n",
    "\n",
    "## Task scheduler\n",
    "\n",
    "---\n",
    "\n",
    "Pokud potřebuješ napsat dlouhodobější řešení, exaktní v čase, v rámci specifického OS:\n",
    "1. Co je to task scheduler/cron?\n",
    "2. Kde se k němu dostanu? Kde najdu dokumentaci?\n",
    "3. Jak jej zapnu?\n",
    "4. Jak se ovládá?\n",
    "5. Jak spustím jednoduchý skript?"
   ]
  },
  {
   "cell_type": "markdown",
   "metadata": {},
   "source": [
    "<br>\n",
    "\n",
    "<img src=\"https://external-content.duckduckgo.com/iu/?u=https%3A%2F%2Ftse4.mm.bing.net%2Fth%3Fid%3DOIP.knlvD9puLdhcleGXAbzgIwHaD4%26pid%3DApi&f=1\" width=\"400\">\n",
    "\n",
    "## Cron\n",
    "\n",
    "---\n"
   ]
  },
  {
   "cell_type": "markdown",
   "metadata": {},
   "source": [
    "\n",
    "<img src=\"https://external-content.duckduckgo.com/iu/?u=https%3A%2F%2Ftse1.mm.bing.net%2Fth%3Fid%3DOIP.GMJvJ-GG0YS8H5JmHR3CbwHaHm%26pid%3DApi&f=1\" width=\"200\">\n",
    "\n",
    "\n",
    "## Domácí úkol\n",
    "\n",
    "---"
   ]
  },
  {
   "cell_type": "markdown",
   "metadata": {},
   "source": [
    "\n",
    "S automatizací spouštění programů dále souvisí:\n",
    "1. Spolehlivý kód a struktura,\n",
    "2. Logování průběhu kódu,\n",
    "3. Jednoznačné použití,\n",
    "4. Notifikace, \n"
   ]
  },
  {
   "cell_type": "markdown",
   "metadata": {},
   "source": [
    "---"
   ]
  }
 ],
 "metadata": {
  "kernelspec": {
   "display_name": "Python 3",
   "language": "python",
   "name": "python3"
  },
  "language_info": {
   "codemirror_mode": {
    "name": "ipython",
    "version": 3
   },
   "file_extension": ".py",
   "mimetype": "text/x-python",
   "name": "python",
   "nbconvert_exporter": "python",
   "pygments_lexer": "ipython3",
   "version": "3.8.6"
  }
 },
 "nbformat": 4,
 "nbformat_minor": 4
}
