{
 "cells": [
  {
   "cell_type": "markdown",
   "metadata": {},
   "source": [
    "### Úvod\n",
    "\n",
    "---\n",
    "\n",
    "1. [Úvod do automatizace](#Úvod-do-automatizace),\n",
    "2. [Knihovny třetích stran](#Knihovny-třetích-stran),\n",
    "3. [Knihovna scheduler](),\n",
    "3. [Task scheduler](#Task-scheduler),\n",
    "4. [Cronjobs](#Cron),\n",
    "5. [Domácí úkol](#Domácí-úkol)."
   ]
  },
  {
   "cell_type": "markdown",
   "metadata": {},
   "source": [
    "<br>\n",
    "\n",
    "<img src=\"https://external-content.duckduckgo.com/iu/?u=https%3A%2F%2Ftse3.mm.bing.net%2Fth%3Fid%3DOIP.qjKckTURqVA6YWQcs4hYxQHaHa%26pid%3DApi&f=1\" width=\"250\">\n",
    "\n",
    "\n",
    "## Úvod do automatizace\n",
    "\n",
    "---\n",
    "\n",
    "Většinu *skriptů*, *modulů* a *balíčků* si dovedeš **spouštět jak potřebuješ**.\n",
    "\n",
    "Existují ovšem situace, kde potřebuješ, aby tvůj program běžel **automaticky**.\n",
    "\n",
    "<br>\n",
    "\n",
    "Představ si situaci, že tvůj program je nutné spouštět každý den **brzy ráno**, příp. **pozdě večer**.\n",
    "\n",
    "Takový úkol by nikdo nechtěl na vlastních bedrech a každý den jej **spouštěl ručně**.\n",
    "\n",
    "Co když nestihneš přesný čas? Co když na něj úplně zapomeneš?\n",
    "\n",
    "<br>\n",
    "\n",
    "Právě proto je potřeba znát alespoň úvod **do automatizace** a umět programy spouštět:\n",
    "1. Automaticky, **v popředí**,\n",
    "```\n",
    "$ python kontrola_txt_souboru.py \"muj_adresar\"\n",
    "Jan 19 05:15:00 Kontrola TXT souborů: 1 ..\n",
    "Jan 20 05:15:00 Kontrola TXT souborů: 2 ..\n",
    "Jan 21 05:15:00 Kontrola TXT souborů: 5 ..\n",
    "...\n",
    "```\n",
    "2. Automaticky, **na pozadí**.\n",
    "```\n",
    "$ python kontrola_txt_souboru.py \"muj_adresar\"\n",
    "INFO: Spouštím skript ..\n",
    "INFO: Probíhá kontrola ..\n",
    "INFO: Ukončuji průběh.\n",
    "```"
   ]
  },
  {
   "cell_type": "markdown",
   "metadata": {},
   "source": [
    "Některé **knihovny** však nemáš k dispozici.\n",
    "\n",
    "Jak je tedy *získat* a *používat*?"
   ]
  },
  {
   "cell_type": "markdown",
   "metadata": {},
   "source": [
    "<br>\n",
    "\n",
    "<img src=\"https://external-content.duckduckgo.com/iu/?u=https%3A%2F%2Ftse2.mm.bing.net%2Fth%3Fid%3DOIP.EvE0cAsK9bHMbis8Ki5YPQHaHa%26pid%3DApi&f=1\" width=\"200\">\n",
    "\n",
    "## Knihovny třetích stran\n",
    "\n",
    "---"
   ]
  },
  {
   "cell_type": "markdown",
   "metadata": {},
   "source": [
    "<br>\n",
    "\n",
    "<img src=\"https://external-content.duckduckgo.com/iu/?u=https%3A%2F%2Ftse2.mm.bing.net%2Fth%3Fid%3DOIP.EvE0cAsK9bHMbis8Ki5YPQHaHa%26pid%3DApi&f=1\" width=\"200\">\n",
    "\n",
    "## Knihovny scheduler\n",
    "\n",
    "---"
   ]
  },
  {
   "cell_type": "markdown",
   "metadata": {},
   "source": [
    "<br>\n",
    "\n",
    "<img src=\"https://external-content.duckduckgo.com/iu/?u=https%3A%2F%2Ftse2.mm.bing.net%2Fth%3Fid%3DOIP.z9dwoa82mB9D-103pw6CQAHaHa%26pid%3DApi&f=1\" width=\"200\">\n",
    "\n",
    "## Task scheduler\n",
    "\n",
    "---\n"
   ]
  },
  {
   "cell_type": "markdown",
   "metadata": {},
   "source": [
    "<br>\n",
    "\n",
    "<img src=\"https://external-content.duckduckgo.com/iu/?u=https%3A%2F%2Ftse4.mm.bing.net%2Fth%3Fid%3DOIP.knlvD9puLdhcleGXAbzgIwHaD4%26pid%3DApi&f=1\" width=\"400\">\n",
    "\n",
    "## Cron\n",
    "\n",
    "---\n"
   ]
  },
  {
   "cell_type": "markdown",
   "metadata": {},
   "source": [
    "\n",
    "<img src=\"https://external-content.duckduckgo.com/iu/?u=https%3A%2F%2Ftse1.mm.bing.net%2Fth%3Fid%3DOIP.GMJvJ-GG0YS8H5JmHR3CbwHaHm%26pid%3DApi&f=1\" width=\"200\">\n",
    "\n",
    "\n",
    "## Domácí úkol\n",
    "\n",
    "---"
   ]
  },
  {
   "cell_type": "markdown",
   "metadata": {},
   "source": [
    "\n",
    "S automatizací spouštění programů dále souvisí:\n",
    "1. Spolehlivý kód a struktura,\n",
    "2. Logování průběhu kódu,\n",
    "3. Jednoznačné použití,\n",
    "4. Notifikace, \n"
   ]
  },
  {
   "cell_type": "markdown",
   "metadata": {},
   "source": [
    "---"
   ]
  }
 ],
 "metadata": {
  "kernelspec": {
   "display_name": "Python 3",
   "language": "python",
   "name": "python3"
  },
  "language_info": {
   "codemirror_mode": {
    "name": "ipython",
    "version": 3
   },
   "file_extension": ".py",
   "mimetype": "text/x-python",
   "name": "python",
   "nbconvert_exporter": "python",
   "pygments_lexer": "ipython3",
   "version": "3.8.6"
  }
 },
 "nbformat": 4,
 "nbformat_minor": 4
}
