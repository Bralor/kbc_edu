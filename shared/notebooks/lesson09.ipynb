{
 "cells": [
  {
   "cell_type": "markdown",
   "metadata": {},
   "source": [
    "### Úvod\n",
    "\n",
    "---\n",
    "\n",
    "1. [Úvod do mailbota](#Úvod-do-mailbota),\n",
    "2. [Knihovna stmplib](#Knihovna-stmplib),\n",
    "3. [Odeslání prostého emailu](#Odeslání-prostého-emailu),\n",
    "4. [Odeslání upraveného emailu](#Odeslání-upraveného-emailu),\n",
    "5. [Odeslání s přílohou](#Odeslání-s-přílohou),\n",
    "6. [Několik adresátů](#Několik-adresátů),\n",
    "7. [Domácí úkol](#Domácí-úkol)."
   ]
  },
  {
   "cell_type": "markdown",
   "metadata": {},
   "source": [
    "<br>\n",
    "\n",
    "<img src=\"https://external-content.duckduckgo.com/iu/?u=https%3A%2F%2Ftse2.mm.bing.net%2Fth%3Fid%3DOIP.TuQtVzmeZhMHV1g9lBlwmgHaHa%26pid%3DApi&f=1\" width=\"200\">\n",
    "\n",
    "\n",
    "## Úvod do mailbota\n",
    "\n",
    "\n",
    "Kdo nebo co je to mailbot?\n",
    "\n",
    "---"
   ]
  },
  {
   "cell_type": "markdown",
   "metadata": {},
   "source": [
    "<br>\n",
    "\n",
    "<img src=\"https://external-content.duckduckgo.com/iu/?u=https%3A%2F%2Ftse2.mm.bing.net%2Fth%3Fid%3DOIP.EvE0cAsK9bHMbis8Ki5YPQHaHa%26pid%3DApi&f=1\" width=\"200\">\n",
    "\n",
    "## Knihovna stmplib\n",
    "\n",
    "---"
   ]
  },
  {
   "cell_type": "markdown",
   "metadata": {},
   "source": [
    "<br>\n",
    "\n",
    "<img src=\"https://external-content.duckduckgo.com/iu/?u=https%3A%2F%2Ftse1.mm.bing.net%2Fth%3Fid%3DOIP.XirtSvu4d9GF-JAuCRJIBgHaHa%26pid%3DApi&f=1\" width=\"220\">\n",
    "\n",
    "## Odeslání prostého emailu\n",
    "\n",
    "---"
   ]
  },
  {
   "cell_type": "markdown",
   "metadata": {},
   "source": [
    "<img src=\"https://external-content.duckduckgo.com/iu/?u=https%3A%2F%2Ftse2.mm.bing.net%2Fth%3Fid%3DOIP.f2DAFYvbLPWfoKS51xCHOQAAAA%26pid%3DApi&f=1\" width=\"200\">\n",
    "\n",
    "## Odeslání upraveného emailu\n",
    "\n",
    "---"
   ]
  },
  {
   "cell_type": "markdown",
   "metadata": {},
   "source": [
    "<br>\n",
    "\n",
    "<img src=\"https://external-content.duckduckgo.com/iu/?u=https%3A%2F%2Ftse3.mm.bing.net%2Fth%3Fid%3DOIP.5OGuDVPGxsox5V-ytKQzOAHaHa%26pid%3DApi&f=1\" width=\"230\">\n",
    "\n",
    "## Odeslání s přílohou\n",
    "\n",
    "---"
   ]
  },
  {
   "cell_type": "markdown",
   "metadata": {},
   "source": [
    "<br>\n",
    "\n",
    "<img src=\"https://external-content.duckduckgo.com/iu/?u=https%3A%2F%2Ftse2.mm.bing.net%2Fth%3Fid%3DOIP.hEp4Pj-xWZHPRWP8h4b_GAHaHa%26pid%3DApi&f=1\" width=\"250\">\n",
    "\n",
    "## Několik adresátů\n",
    "\n",
    "---"
   ]
  },
  {
   "cell_type": "markdown",
   "metadata": {},
   "source": [
    "\n",
    "<img src=\"https://external-content.duckduckgo.com/iu/?u=https%3A%2F%2Ftse1.mm.bing.net%2Fth%3Fid%3DOIP.GMJvJ-GG0YS8H5JmHR3CbwHaHm%26pid%3DApi&f=1\" width=\"200\">\n",
    "\n",
    "\n",
    "## Domácí úkol\n",
    "\n",
    "---"
   ]
  },
  {
   "cell_type": "markdown",
   "metadata": {},
   "source": [
    "Pomocí libovolného scheduleru procházej libovolný soubor typu `.csv` a počítej průběžně počet jeho řádků."
   ]
  },
  {
   "cell_type": "markdown",
   "metadata": {},
   "source": [
    "---"
   ]
  }
 ],
 "metadata": {
  "kernelspec": {
   "display_name": "Python 3",
   "language": "python",
   "name": "python3"
  },
  "language_info": {
   "codemirror_mode": {
    "name": "ipython",
    "version": 3
   },
   "file_extension": ".py",
   "mimetype": "text/x-python",
   "name": "python",
   "nbconvert_exporter": "python",
   "pygments_lexer": "ipython3",
   "version": "3.8.6"
  }
 },
 "nbformat": 4,
 "nbformat_minor": 4
}
